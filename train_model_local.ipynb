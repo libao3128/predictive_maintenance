{
 "cells": [
  {
   "cell_type": "code",
   "execution_count": 1,
   "id": "5633ed8e",
   "metadata": {},
   "outputs": [],
   "source": [
    "import pandas as pd\n",
    "from src.train import *\n",
    "from src.model import CNNLSTMModel\n",
    "from src.dataset import *\n",
    "from src.preprocess import *\n",
    "from src.visualize import *\n",
    "import torch"
   ]
  },
  {
   "cell_type": "markdown",
   "id": "fcf3d759",
   "metadata": {},
   "source": [
    "## Hyper-Parameter"
   ]
  },
  {
   "cell_type": "code",
   "execution_count": 2,
   "id": "5f407469",
   "metadata": {},
   "outputs": [],
   "source": [
    "performe_visualization = False"
   ]
  },
  {
   "cell_type": "code",
   "execution_count": 3,
   "id": "37ac0a88",
   "metadata": {},
   "outputs": [],
   "source": [
    "# some important parameters\n",
    "pre_day = 5\n",
    "\n",
    "feature_cols = [\n",
    "    \"metric.STATUS_AC_MOD_ADMISSION_TEMP.MEASURED\",  # ambient temperature\n",
    "    \"metric.STATUS_INTERNAL_TEMP.MEASURED\",          # internal temperature\n",
    "    \"metric.AC_VOLTAGE_AB.MEASURED\",                 # AC voltage\n",
    "    \"metric.AC_VOLTAGE_BC.MEASURED\",                 # AC voltage\n",
    "    \"metric.AC_VOLTAGE_CA.MEASURED\",                 # AC voltage\n",
    "    \"metric.DC_VOLTAGE.MEASURED\",                  # DC voltage\n",
    "    \"metric.AC_POWER.MEASURED\",                     # AC power\n",
    "]\n",
    "\n",
    "exclude_periods = [\n",
    "    [pd.Timestamp('2021-01-01'), pd.Timestamp('2021-12-23')], # data collection issue\n",
    "    [pd.Timestamp('2023-02-23'), pd.Timestamp('2023-08-26')], # anomalies in the data\n",
    "]"
   ]
  },
  {
   "cell_type": "markdown",
   "id": "dc771650",
   "metadata": {},
   "source": [
    "## Data Preprocessing\n"
   ]
  },
  {
   "cell_type": "markdown",
   "id": "cc6757f0",
   "metadata": {},
   "source": [
    "### Load Data"
   ]
  },
  {
   "cell_type": "code",
   "execution_count": 4,
   "id": "9dfd396c",
   "metadata": {},
   "outputs": [
    {
     "name": "stdout",
     "output_type": "stream",
     "text": [
      "Loaded 15 parquet files → 6126272 rows\n",
      "Kept 61 sessions longer than 3 days\n"
     ]
    }
   ],
   "source": [
    "inverter_data = load_parquet_data('data/inverter_data')\n",
    "failure_sessions = load_failure_sessions('data/failure_sessions_w_maintenance.csv', min_days=3)"
   ]
  },
  {
   "cell_type": "code",
   "execution_count": 5,
   "id": "e2f2cc65",
   "metadata": {},
   "outputs": [
    {
     "data": {
      "text/plain": [
       "59"
      ]
     },
     "execution_count": 5,
     "metadata": {},
     "output_type": "execute_result"
    }
   ],
   "source": [
    "len(inverter_data.columns)"
   ]
  },
  {
   "cell_type": "code",
   "execution_count": 6,
   "id": "fdae2515",
   "metadata": {},
   "outputs": [
    {
     "data": {
      "application/vnd.plotly.v1+json": {
       "config": {
        "plotlyServerURL": "https://plot.ly"
       },
       "data": [
        {
         "alignmentgroup": "True",
         "base": [
          "2023-03-17T17:10:00",
          "2025-04-20T13:35:00",
          "2022-11-07T06:35:00",
          "2022-08-03T15:50:00",
          "2022-12-26T16:45:00",
          "2025-04-20T11:20:00",
          "2022-11-06T16:50:00",
          "2022-12-26T16:45:00",
          "2022-08-03T15:50:00",
          "2023-05-29T05:40:00",
          "2023-03-17T17:10:00",
          "2025-04-20T10:35:00",
          "2023-03-17T17:10:00",
          "2022-07-28T09:55:00",
          "2023-05-29T05:40:00",
          "2023-03-17T17:10:00",
          "2025-04-20T11:20:00",
          "2022-11-06T16:50:00",
          "2022-07-28T10:05:00",
          "2023-05-29T05:40:00",
          "2025-05-05T10:25:00",
          "2022-12-26T16:45:00",
          "2023-03-17T17:10:00",
          "2025-04-20T10:35:00",
          "2022-11-06T16:50:00",
          "2022-07-28T10:05:00",
          "2023-05-29T05:40:00",
          "2025-05-05T10:25:00",
          "2025-05-05T10:25:00"
         ],
         "customdata": [
          [
           0,
           "2023-03-17T17:10:00",
           "2023-03-21T12:20:00",
           91.16666666666667,
           false,
           "Planned (maintenance)"
          ],
          [
           2,
           "2025-04-20T13:35:00",
           "2025-05-23T15:00:00",
           793.4166666666666,
           false,
           "Planned (maintenance)"
          ],
          [
           3,
           "2022-11-07T06:35:00",
           "2022-11-10T10:05:00",
           75.5,
           false,
           "Planned (maintenance)"
          ],
          [
           5,
           "2022-08-03T15:50:00",
           "2022-08-08T13:35:00",
           117.75,
           false,
           "Planned (maintenance)"
          ],
          [
           6,
           "2022-12-26T16:45:00",
           "2022-12-30T09:10:00",
           88.41666666666667,
           false,
           "Planned (maintenance)"
          ],
          [
           16,
           "2025-04-20T11:20:00",
           "2025-05-11T06:55:00",
           499.5833333333333,
           false,
           "Planned (maintenance)"
          ],
          [
           17,
           "2022-11-06T16:50:00",
           "2022-11-10T10:35:00",
           89.75,
           false,
           "Planned (maintenance)"
          ],
          [
           19,
           "2022-12-26T16:45:00",
           "2022-12-30T09:05:00",
           88.33333333333333,
           false,
           "Planned (maintenance)"
          ],
          [
           23,
           "2022-08-03T15:50:00",
           "2022-08-08T13:25:00",
           117.58333333333333,
           false,
           "Planned (maintenance)"
          ],
          [
           24,
           "2023-05-29T05:40:00",
           "2023-07-22T10:00:00",
           1300.3333333333333,
           false,
           "Planned (maintenance)"
          ],
          [
           27,
           "2023-03-17T17:10:00",
           "2023-03-24T11:05:00",
           161.91666666666666,
           false,
           "Planned (maintenance)"
          ],
          [
           29,
           "2025-04-20T10:35:00",
           "2025-05-11T06:55:00",
           500.3333333333333,
           false,
           "Planned (maintenance)"
          ],
          [
           32,
           "2023-03-17T17:10:00",
           "2023-03-22T08:50:00",
           111.66666666666667,
           false,
           "Planned (maintenance)"
          ],
          [
           33,
           "2022-07-28T09:55:00",
           "2022-08-16T17:00:00",
           463.0833333333333,
           false,
           "Planned (maintenance)"
          ],
          [
           34,
           "2023-05-29T05:40:00",
           "2023-06-16T14:05:00",
           440.4166666666667,
           false,
           "Planned (maintenance)"
          ],
          [
           36,
           "2023-03-17T17:10:00",
           "2023-03-24T10:35:00",
           161.41666666666666,
           false,
           "Planned (maintenance)"
          ],
          [
           38,
           "2025-04-20T11:20:00",
           "2025-05-11T06:55:00",
           499.5833333333333,
           false,
           "Planned (maintenance)"
          ],
          [
           39,
           "2022-11-06T16:50:00",
           "2022-11-10T11:05:00",
           90.25,
           false,
           "Planned (maintenance)"
          ],
          [
           41,
           "2022-07-28T10:05:00",
           "2022-08-16T12:55:00",
           458.8333333333333,
           false,
           "Planned (maintenance)"
          ],
          [
           42,
           "2023-05-29T05:40:00",
           "2023-06-16T14:25:00",
           440.75,
           false,
           "Planned (maintenance)"
          ],
          [
           43,
           "2025-05-05T10:25:00",
           "2025-06-03T11:00:00",
           696.5833333333334,
           false,
           "Planned (maintenance)"
          ],
          [
           45,
           "2022-12-26T16:45:00",
           "2022-12-30T09:10:00",
           88.41666666666667,
           false,
           "Planned (maintenance)"
          ],
          [
           46,
           "2023-03-17T17:10:00",
           "2023-03-31T13:35:00",
           332.4166666666667,
           false,
           "Planned (maintenance)"
          ],
          [
           47,
           "2025-04-20T10:35:00",
           "2025-05-11T07:15:00",
           500.6666666666667,
           false,
           "Planned (maintenance)"
          ],
          [
           50,
           "2022-11-06T16:50:00",
           "2022-11-10T11:15:00",
           90.41666666666667,
           false,
           "Planned (maintenance)"
          ],
          [
           51,
           "2022-07-28T10:05:00",
           "2022-09-29T08:20:00",
           1510.25,
           false,
           "Planned (maintenance)"
          ],
          [
           53,
           "2023-05-29T05:40:00",
           "2023-06-16T14:25:00",
           440.75,
           false,
           "Planned (maintenance)"
          ],
          [
           56,
           "2025-05-05T10:25:00",
           "2025-05-28T12:10:00",
           553.75,
           false,
           "Planned (maintenance)"
          ],
          [
           60,
           "2025-05-05T10:25:00",
           "2025-05-28T05:50:00",
           547.4166666666666,
           false,
           "Planned (maintenance)"
          ]
         ],
         "hovertemplate": "<b>%{y}</b><br>Session ID: %{customdata[0]}<br>Start: %{customdata[1]|%Y-%m-%d %H:%M}<br>End: %{customdata[2]|%Y-%m-%d %H:%M}<br>Duration (hrs): %{customdata[3]:.2f}<br>",
         "legendgroup": "Planned (maintenance)",
         "marker": {
          "color": "#6b7280",
          "line": {
           "color": "rgba(30,30,60,0.55)",
           "width": 1.5
          },
          "pattern": {
           "shape": ""
          }
         },
         "name": "Planned (maintenance)",
         "offsetgroup": "Planned (maintenance)",
         "opacity": 0.98,
         "orientation": "h",
         "showlegend": true,
         "textposition": "auto",
         "type": "bar",
         "x": [
          328200000,
          2856300000,
          271800000,
          423900000,
          318300000,
          1798500000,
          323100000,
          318000000,
          423300000,
          4681200000,
          582900000,
          1801200000,
          402000000,
          1667100000,
          1585500000,
          581100000,
          1798500000,
          324900000,
          1651800000,
          1586700000,
          2507700000,
          318300000,
          1196700000,
          1802400000,
          325500000,
          5436900000,
          1586700000,
          1993500000,
          1970700000
         ],
         "xaxis": "x",
         "y": [
          "INV 51",
          "INV 51",
          "INV 52",
          "INV 53",
          "INV 53",
          "INV 54",
          "INV 55",
          "INV 55",
          "INV 56",
          "INV 56",
          "INV 57",
          "INV 57",
          "INV 58",
          "INV 59",
          "INV 59",
          "INV 60",
          "INV 60",
          "INV 61",
          "INV 62",
          "INV 62",
          "INV 62",
          "INV 63",
          "INV 63",
          "INV 63",
          "INV 64",
          "INV 65",
          "INV 65",
          "INV 65",
          "INV 66"
         ],
         "yaxis": "y"
        },
        {
         "alignmentgroup": "True",
         "base": [
          "2024-04-25T12:55:00",
          "2025-03-29T13:55:00",
          "2023-07-23T12:10:00",
          "2022-08-09T11:10:00",
          "2022-09-10T14:45:00",
          "2022-12-01T11:55:00",
          "2023-01-02T16:40:00",
          "2023-01-14T07:45:00",
          "2023-07-01T14:15:00",
          "2023-12-28T15:30:00",
          "2025-04-13T16:10:00",
          "2022-12-22T16:25:00",
          "2023-01-02T15:20:00",
          "2023-01-09T15:20:00",
          "2025-04-23T14:35:00",
          "2023-07-26T06:55:00",
          "2024-03-02T10:55:00",
          "2024-08-31T06:30:00",
          "2022-08-26T19:35:00",
          "2022-09-29T09:30:00",
          "2024-02-15T08:10:00",
          "2024-08-23T19:30:00",
          "2024-05-03T09:00:00",
          "2025-06-28T10:20:00",
          "2022-03-03T17:35:00",
          "2022-07-07T15:30:00",
          "2023-04-28T10:25:00",
          "2024-02-11T08:10:00",
          "2025-04-27T17:55:00",
          "2022-07-30T20:05:00",
          "2023-03-25T17:20:00",
          "2024-08-13T07:05:00"
         ],
         "customdata": [
          [
           1,
           "2024-04-25T12:55:00",
           "2024-04-30T08:00:00",
           115.08333333333333,
           false,
           "Unplanned failure"
          ],
          [
           4,
           "2025-03-29T13:55:00",
           "2025-04-04T12:30:00",
           142.58333333333334,
           false,
           "Unplanned failure"
          ],
          [
           7,
           "2023-07-23T12:10:00",
           "2023-07-28T08:05:00",
           115.91666666666667,
           false,
           "Unplanned failure"
          ],
          [
           8,
           "2022-08-09T11:10:00",
           "2022-08-12T11:40:00",
           72.5,
           false,
           "Unplanned failure"
          ],
          [
           9,
           "2022-09-10T14:45:00",
           "2022-09-14T07:45:00",
           89,
           false,
           "Unplanned failure"
          ],
          [
           10,
           "2022-12-01T11:55:00",
           "2022-12-06T10:40:00",
           118.75,
           false,
           "Unplanned failure"
          ],
          [
           11,
           "2023-01-02T16:40:00",
           "2023-01-13T11:20:00",
           258.6666666666667,
           false,
           "Unplanned failure"
          ],
          [
           12,
           "2023-01-14T07:45:00",
           "2023-01-26T12:55:00",
           293.1666666666667,
           false,
           "Unplanned failure"
          ],
          [
           13,
           "2023-07-01T14:15:00",
           "2023-07-06T11:40:00",
           117.41666666666667,
           false,
           "Unplanned failure"
          ],
          [
           14,
           "2023-12-28T15:30:00",
           "2024-01-02T09:05:00",
           113.58333333333333,
           false,
           "Unplanned failure"
          ],
          [
           15,
           "2025-04-13T16:10:00",
           "2025-04-17T10:10:00",
           90,
           false,
           "Unplanned failure"
          ],
          [
           18,
           "2022-12-22T16:25:00",
           "2022-12-26T10:30:00",
           90.08333333333333,
           false,
           "Unplanned failure"
          ],
          [
           20,
           "2023-01-02T15:20:00",
           "2023-01-07T09:40:00",
           114.33333333333333,
           false,
           "Unplanned failure"
          ],
          [
           21,
           "2023-01-09T15:20:00",
           "2023-01-13T11:50:00",
           92.5,
           false,
           "Unplanned failure"
          ],
          [
           22,
           "2025-04-23T14:35:00",
           "2025-05-01T09:05:00",
           186.5,
           false,
           "Unplanned failure"
          ],
          [
           25,
           "2023-07-26T06:55:00",
           "2023-08-02T13:00:00",
           174.08333333333334,
           false,
           "Unplanned failure"
          ],
          [
           26,
           "2024-03-02T10:55:00",
           "2024-03-06T10:30:00",
           95.58333333333333,
           false,
           "Unplanned failure"
          ],
          [
           28,
           "2024-08-31T06:30:00",
           "2024-09-06T11:10:00",
           148.66666666666666,
           false,
           "Unplanned failure"
          ],
          [
           30,
           "2022-08-26T19:35:00",
           "2022-08-30T09:05:00",
           85.5,
           false,
           "Unplanned failure"
          ],
          [
           31,
           "2022-09-29T09:30:00",
           "2022-11-15T12:25:00",
           1130.9166666666667,
           false,
           "Unplanned failure"
          ],
          [
           35,
           "2024-02-15T08:10:00",
           "2024-02-20T10:20:00",
           122.16666666666667,
           false,
           "Unplanned failure"
          ],
          [
           37,
           "2024-08-23T19:30:00",
           "2024-08-28T12:20:00",
           112.83333333333333,
           false,
           "Unplanned failure"
          ],
          [
           40,
           "2024-05-03T09:00:00",
           "2024-05-09T12:50:00",
           147.83333333333334,
           false,
           "Unplanned failure"
          ],
          [
           44,
           "2025-06-28T10:20:00",
           "2025-07-02T07:35:00",
           93.25,
           false,
           "Unplanned failure"
          ],
          [
           48,
           "2022-03-03T17:35:00",
           "2022-03-07T11:50:00",
           90.25,
           false,
           "Unplanned failure"
          ],
          [
           49,
           "2022-07-07T15:30:00",
           "2022-07-11T12:10:00",
           92.66666666666667,
           false,
           "Unplanned failure"
          ],
          [
           52,
           "2023-04-28T10:25:00",
           "2023-05-02T09:55:00",
           95.5,
           false,
           "Unplanned failure"
          ],
          [
           54,
           "2024-02-11T08:10:00",
           "2024-02-15T11:55:00",
           99.75,
           false,
           "Unplanned failure"
          ],
          [
           55,
           "2025-04-27T17:55:00",
           "2025-05-02T12:40:00",
           114.75,
           false,
           "Unplanned failure"
          ],
          [
           57,
           "2022-07-30T20:05:00",
           "2022-08-03T13:20:00",
           89.25,
           false,
           "Unplanned failure"
          ],
          [
           58,
           "2023-03-25T17:20:00",
           "2023-06-28T10:05:00",
           2272.75,
           false,
           "Unplanned failure"
          ],
          [
           59,
           "2024-08-13T07:05:00",
           "2024-08-16T11:55:00",
           76.83333333333333,
           false,
           "Unplanned failure"
          ]
         ],
         "hovertemplate": "<b>%{y}</b><br>Session ID: %{customdata[0]}<br>Start: %{customdata[1]|%Y-%m-%d %H:%M}<br>End: %{customdata[2]|%Y-%m-%d %H:%M}<br>Duration (hrs): %{customdata[3]:.2f}<br>",
         "legendgroup": "Unplanned failure",
         "marker": {
          "color": "#2563eb",
          "line": {
           "color": "rgba(30,30,60,0.55)",
           "width": 1.5
          },
          "pattern": {
           "shape": ""
          }
         },
         "name": "Unplanned failure",
         "offsetgroup": "Unplanned failure",
         "opacity": 0.98,
         "orientation": "h",
         "showlegend": true,
         "textposition": "auto",
         "type": "bar",
         "x": [
          414300000,
          513300000,
          417300000,
          261000000,
          320400000,
          427500000,
          931200000,
          1055400000,
          422700000,
          408900000,
          324000000,
          324300000,
          411600000,
          333000000,
          671400000,
          626700000,
          344100000,
          535200000,
          307800000,
          4071300000,
          439800000,
          406200000,
          532200000,
          335700000,
          324900000,
          333600000,
          343800000,
          359100000,
          413100000,
          321300000,
          8181900000,
          276600000
         ],
         "xaxis": "x",
         "y": [
          "INV 51",
          "INV 52",
          "INV 53",
          "INV 54",
          "INV 54",
          "INV 54",
          "INV 54",
          "INV 54",
          "INV 54",
          "INV 54",
          "INV 54",
          "INV 55",
          "INV 55",
          "INV 55",
          "INV 55",
          "INV 56",
          "INV 56",
          "INV 57",
          "INV 58",
          "INV 58",
          "INV 59",
          "INV 60",
          "INV 61",
          "INV 62",
          "INV 64",
          "INV 64",
          "INV 65",
          "INV 65",
          "INV 65",
          "INV 66",
          "INV 66",
          "INV 66"
         ],
         "yaxis": "y"
        }
       ],
       "layout": {
        "bargap": 0.25,
        "barmode": "overlay",
        "height": 620,
        "legend": {
         "title": {
          "text": "Event Type"
         },
         "tracegroupgap": 0
        },
        "margin": {
         "b": 40,
         "l": 70,
         "r": 30,
         "t": 60
        },
        "template": {
         "data": {
          "bar": [
           {
            "error_x": {
             "color": "#2a3f5f"
            },
            "error_y": {
             "color": "#2a3f5f"
            },
            "marker": {
             "line": {
              "color": "white",
              "width": 0.5
             },
             "pattern": {
              "fillmode": "overlay",
              "size": 10,
              "solidity": 0.2
             }
            },
            "type": "bar"
           }
          ],
          "barpolar": [
           {
            "marker": {
             "line": {
              "color": "white",
              "width": 0.5
             },
             "pattern": {
              "fillmode": "overlay",
              "size": 10,
              "solidity": 0.2
             }
            },
            "type": "barpolar"
           }
          ],
          "carpet": [
           {
            "aaxis": {
             "endlinecolor": "#2a3f5f",
             "gridcolor": "#C8D4E3",
             "linecolor": "#C8D4E3",
             "minorgridcolor": "#C8D4E3",
             "startlinecolor": "#2a3f5f"
            },
            "baxis": {
             "endlinecolor": "#2a3f5f",
             "gridcolor": "#C8D4E3",
             "linecolor": "#C8D4E3",
             "minorgridcolor": "#C8D4E3",
             "startlinecolor": "#2a3f5f"
            },
            "type": "carpet"
           }
          ],
          "choropleth": [
           {
            "colorbar": {
             "outlinewidth": 0,
             "ticks": ""
            },
            "type": "choropleth"
           }
          ],
          "contour": [
           {
            "colorbar": {
             "outlinewidth": 0,
             "ticks": ""
            },
            "colorscale": [
             [
              0,
              "#0d0887"
             ],
             [
              0.1111111111111111,
              "#46039f"
             ],
             [
              0.2222222222222222,
              "#7201a8"
             ],
             [
              0.3333333333333333,
              "#9c179e"
             ],
             [
              0.4444444444444444,
              "#bd3786"
             ],
             [
              0.5555555555555556,
              "#d8576b"
             ],
             [
              0.6666666666666666,
              "#ed7953"
             ],
             [
              0.7777777777777778,
              "#fb9f3a"
             ],
             [
              0.8888888888888888,
              "#fdca26"
             ],
             [
              1,
              "#f0f921"
             ]
            ],
            "type": "contour"
           }
          ],
          "contourcarpet": [
           {
            "colorbar": {
             "outlinewidth": 0,
             "ticks": ""
            },
            "type": "contourcarpet"
           }
          ],
          "heatmap": [
           {
            "colorbar": {
             "outlinewidth": 0,
             "ticks": ""
            },
            "colorscale": [
             [
              0,
              "#0d0887"
             ],
             [
              0.1111111111111111,
              "#46039f"
             ],
             [
              0.2222222222222222,
              "#7201a8"
             ],
             [
              0.3333333333333333,
              "#9c179e"
             ],
             [
              0.4444444444444444,
              "#bd3786"
             ],
             [
              0.5555555555555556,
              "#d8576b"
             ],
             [
              0.6666666666666666,
              "#ed7953"
             ],
             [
              0.7777777777777778,
              "#fb9f3a"
             ],
             [
              0.8888888888888888,
              "#fdca26"
             ],
             [
              1,
              "#f0f921"
             ]
            ],
            "type": "heatmap"
           }
          ],
          "heatmapgl": [
           {
            "colorbar": {
             "outlinewidth": 0,
             "ticks": ""
            },
            "colorscale": [
             [
              0,
              "#0d0887"
             ],
             [
              0.1111111111111111,
              "#46039f"
             ],
             [
              0.2222222222222222,
              "#7201a8"
             ],
             [
              0.3333333333333333,
              "#9c179e"
             ],
             [
              0.4444444444444444,
              "#bd3786"
             ],
             [
              0.5555555555555556,
              "#d8576b"
             ],
             [
              0.6666666666666666,
              "#ed7953"
             ],
             [
              0.7777777777777778,
              "#fb9f3a"
             ],
             [
              0.8888888888888888,
              "#fdca26"
             ],
             [
              1,
              "#f0f921"
             ]
            ],
            "type": "heatmapgl"
           }
          ],
          "histogram": [
           {
            "marker": {
             "pattern": {
              "fillmode": "overlay",
              "size": 10,
              "solidity": 0.2
             }
            },
            "type": "histogram"
           }
          ],
          "histogram2d": [
           {
            "colorbar": {
             "outlinewidth": 0,
             "ticks": ""
            },
            "colorscale": [
             [
              0,
              "#0d0887"
             ],
             [
              0.1111111111111111,
              "#46039f"
             ],
             [
              0.2222222222222222,
              "#7201a8"
             ],
             [
              0.3333333333333333,
              "#9c179e"
             ],
             [
              0.4444444444444444,
              "#bd3786"
             ],
             [
              0.5555555555555556,
              "#d8576b"
             ],
             [
              0.6666666666666666,
              "#ed7953"
             ],
             [
              0.7777777777777778,
              "#fb9f3a"
             ],
             [
              0.8888888888888888,
              "#fdca26"
             ],
             [
              1,
              "#f0f921"
             ]
            ],
            "type": "histogram2d"
           }
          ],
          "histogram2dcontour": [
           {
            "colorbar": {
             "outlinewidth": 0,
             "ticks": ""
            },
            "colorscale": [
             [
              0,
              "#0d0887"
             ],
             [
              0.1111111111111111,
              "#46039f"
             ],
             [
              0.2222222222222222,
              "#7201a8"
             ],
             [
              0.3333333333333333,
              "#9c179e"
             ],
             [
              0.4444444444444444,
              "#bd3786"
             ],
             [
              0.5555555555555556,
              "#d8576b"
             ],
             [
              0.6666666666666666,
              "#ed7953"
             ],
             [
              0.7777777777777778,
              "#fb9f3a"
             ],
             [
              0.8888888888888888,
              "#fdca26"
             ],
             [
              1,
              "#f0f921"
             ]
            ],
            "type": "histogram2dcontour"
           }
          ],
          "mesh3d": [
           {
            "colorbar": {
             "outlinewidth": 0,
             "ticks": ""
            },
            "type": "mesh3d"
           }
          ],
          "parcoords": [
           {
            "line": {
             "colorbar": {
              "outlinewidth": 0,
              "ticks": ""
             }
            },
            "type": "parcoords"
           }
          ],
          "pie": [
           {
            "automargin": true,
            "type": "pie"
           }
          ],
          "scatter": [
           {
            "fillpattern": {
             "fillmode": "overlay",
             "size": 10,
             "solidity": 0.2
            },
            "type": "scatter"
           }
          ],
          "scatter3d": [
           {
            "line": {
             "colorbar": {
              "outlinewidth": 0,
              "ticks": ""
             }
            },
            "marker": {
             "colorbar": {
              "outlinewidth": 0,
              "ticks": ""
             }
            },
            "type": "scatter3d"
           }
          ],
          "scattercarpet": [
           {
            "marker": {
             "colorbar": {
              "outlinewidth": 0,
              "ticks": ""
             }
            },
            "type": "scattercarpet"
           }
          ],
          "scattergeo": [
           {
            "marker": {
             "colorbar": {
              "outlinewidth": 0,
              "ticks": ""
             }
            },
            "type": "scattergeo"
           }
          ],
          "scattergl": [
           {
            "marker": {
             "colorbar": {
              "outlinewidth": 0,
              "ticks": ""
             }
            },
            "type": "scattergl"
           }
          ],
          "scattermapbox": [
           {
            "marker": {
             "colorbar": {
              "outlinewidth": 0,
              "ticks": ""
             }
            },
            "type": "scattermapbox"
           }
          ],
          "scatterpolar": [
           {
            "marker": {
             "colorbar": {
              "outlinewidth": 0,
              "ticks": ""
             }
            },
            "type": "scatterpolar"
           }
          ],
          "scatterpolargl": [
           {
            "marker": {
             "colorbar": {
              "outlinewidth": 0,
              "ticks": ""
             }
            },
            "type": "scatterpolargl"
           }
          ],
          "scatterternary": [
           {
            "marker": {
             "colorbar": {
              "outlinewidth": 0,
              "ticks": ""
             }
            },
            "type": "scatterternary"
           }
          ],
          "surface": [
           {
            "colorbar": {
             "outlinewidth": 0,
             "ticks": ""
            },
            "colorscale": [
             [
              0,
              "#0d0887"
             ],
             [
              0.1111111111111111,
              "#46039f"
             ],
             [
              0.2222222222222222,
              "#7201a8"
             ],
             [
              0.3333333333333333,
              "#9c179e"
             ],
             [
              0.4444444444444444,
              "#bd3786"
             ],
             [
              0.5555555555555556,
              "#d8576b"
             ],
             [
              0.6666666666666666,
              "#ed7953"
             ],
             [
              0.7777777777777778,
              "#fb9f3a"
             ],
             [
              0.8888888888888888,
              "#fdca26"
             ],
             [
              1,
              "#f0f921"
             ]
            ],
            "type": "surface"
           }
          ],
          "table": [
           {
            "cells": {
             "fill": {
              "color": "#EBF0F8"
             },
             "line": {
              "color": "white"
             }
            },
            "header": {
             "fill": {
              "color": "#C8D4E3"
             },
             "line": {
              "color": "white"
             }
            },
            "type": "table"
           }
          ]
         },
         "layout": {
          "annotationdefaults": {
           "arrowcolor": "#2a3f5f",
           "arrowhead": 0,
           "arrowwidth": 1
          },
          "autotypenumbers": "strict",
          "coloraxis": {
           "colorbar": {
            "outlinewidth": 0,
            "ticks": ""
           }
          },
          "colorscale": {
           "diverging": [
            [
             0,
             "#8e0152"
            ],
            [
             0.1,
             "#c51b7d"
            ],
            [
             0.2,
             "#de77ae"
            ],
            [
             0.3,
             "#f1b6da"
            ],
            [
             0.4,
             "#fde0ef"
            ],
            [
             0.5,
             "#f7f7f7"
            ],
            [
             0.6,
             "#e6f5d0"
            ],
            [
             0.7,
             "#b8e186"
            ],
            [
             0.8,
             "#7fbc41"
            ],
            [
             0.9,
             "#4d9221"
            ],
            [
             1,
             "#276419"
            ]
           ],
           "sequential": [
            [
             0,
             "#0d0887"
            ],
            [
             0.1111111111111111,
             "#46039f"
            ],
            [
             0.2222222222222222,
             "#7201a8"
            ],
            [
             0.3333333333333333,
             "#9c179e"
            ],
            [
             0.4444444444444444,
             "#bd3786"
            ],
            [
             0.5555555555555556,
             "#d8576b"
            ],
            [
             0.6666666666666666,
             "#ed7953"
            ],
            [
             0.7777777777777778,
             "#fb9f3a"
            ],
            [
             0.8888888888888888,
             "#fdca26"
            ],
            [
             1,
             "#f0f921"
            ]
           ],
           "sequentialminus": [
            [
             0,
             "#0d0887"
            ],
            [
             0.1111111111111111,
             "#46039f"
            ],
            [
             0.2222222222222222,
             "#7201a8"
            ],
            [
             0.3333333333333333,
             "#9c179e"
            ],
            [
             0.4444444444444444,
             "#bd3786"
            ],
            [
             0.5555555555555556,
             "#d8576b"
            ],
            [
             0.6666666666666666,
             "#ed7953"
            ],
            [
             0.7777777777777778,
             "#fb9f3a"
            ],
            [
             0.8888888888888888,
             "#fdca26"
            ],
            [
             1,
             "#f0f921"
            ]
           ]
          },
          "colorway": [
           "#636efa",
           "#EF553B",
           "#00cc96",
           "#ab63fa",
           "#FFA15A",
           "#19d3f3",
           "#FF6692",
           "#B6E880",
           "#FF97FF",
           "#FECB52"
          ],
          "font": {
           "color": "#2a3f5f"
          },
          "geo": {
           "bgcolor": "white",
           "lakecolor": "white",
           "landcolor": "white",
           "showlakes": true,
           "showland": true,
           "subunitcolor": "#C8D4E3"
          },
          "hoverlabel": {
           "align": "left"
          },
          "hovermode": "closest",
          "mapbox": {
           "style": "light"
          },
          "paper_bgcolor": "white",
          "plot_bgcolor": "white",
          "polar": {
           "angularaxis": {
            "gridcolor": "#EBF0F8",
            "linecolor": "#EBF0F8",
            "ticks": ""
           },
           "bgcolor": "white",
           "radialaxis": {
            "gridcolor": "#EBF0F8",
            "linecolor": "#EBF0F8",
            "ticks": ""
           }
          },
          "scene": {
           "xaxis": {
            "backgroundcolor": "white",
            "gridcolor": "#DFE8F3",
            "gridwidth": 2,
            "linecolor": "#EBF0F8",
            "showbackground": true,
            "ticks": "",
            "zerolinecolor": "#EBF0F8"
           },
           "yaxis": {
            "backgroundcolor": "white",
            "gridcolor": "#DFE8F3",
            "gridwidth": 2,
            "linecolor": "#EBF0F8",
            "showbackground": true,
            "ticks": "",
            "zerolinecolor": "#EBF0F8"
           },
           "zaxis": {
            "backgroundcolor": "white",
            "gridcolor": "#DFE8F3",
            "gridwidth": 2,
            "linecolor": "#EBF0F8",
            "showbackground": true,
            "ticks": "",
            "zerolinecolor": "#EBF0F8"
           }
          },
          "shapedefaults": {
           "line": {
            "color": "#2a3f5f"
           }
          },
          "ternary": {
           "aaxis": {
            "gridcolor": "#DFE8F3",
            "linecolor": "#A2B1C6",
            "ticks": ""
           },
           "baxis": {
            "gridcolor": "#DFE8F3",
            "linecolor": "#A2B1C6",
            "ticks": ""
           },
           "bgcolor": "white",
           "caxis": {
            "gridcolor": "#DFE8F3",
            "linecolor": "#A2B1C6",
            "ticks": ""
           }
          },
          "title": {
           "x": 0.05
          },
          "xaxis": {
           "automargin": true,
           "gridcolor": "#EBF0F8",
           "linecolor": "#EBF0F8",
           "ticks": "",
           "title": {
            "standoff": 15
           },
           "zerolinecolor": "#EBF0F8",
           "zerolinewidth": 2
          },
          "yaxis": {
           "automargin": true,
           "gridcolor": "#EBF0F8",
           "linecolor": "#EBF0F8",
           "ticks": "",
           "title": {
            "standoff": 15
           },
           "zerolinecolor": "#EBF0F8",
           "zerolinewidth": 2
          }
         }
        },
        "title": {
         "text": "Failure Sessions Timeline"
        },
        "xaxis": {
         "anchor": "y",
         "domain": [
          0,
          1
         ],
         "rangeselector": {
          "buttons": [
           {
            "count": 7,
            "label": "1w",
            "step": "day",
            "stepmode": "backward"
           },
           {
            "count": 1,
            "label": "1m",
            "step": "month",
            "stepmode": "backward"
           },
           {
            "count": 3,
            "label": "3m",
            "step": "month",
            "stepmode": "backward"
           },
           {
            "count": 6,
            "label": "6m",
            "step": "month",
            "stepmode": "backward"
           },
           {
            "count": 1,
            "label": "1y",
            "step": "year",
            "stepmode": "backward"
           },
           {
            "step": "all"
           }
          ]
         },
         "rangeslider": {
          "visible": true
         },
         "showgrid": true,
         "type": "date"
        },
        "yaxis": {
         "anchor": "x",
         "autorange": "reversed",
         "categoryarray": [
          "INV 52",
          "INV 61",
          "INV 64",
          "INV 53",
          "INV 55",
          "INV 60",
          "INV 57",
          "INV 63",
          "INV 51",
          "INV 59",
          "INV 58",
          "INV 54",
          "INV 56",
          "INV 62",
          "INV 65",
          "INV 66"
         ],
         "categoryorder": "array",
         "domain": [
          0,
          1
         ],
         "title": {
          "text": "Device"
         }
        }
       }
      }
     },
     "metadata": {},
     "output_type": "display_data"
    }
   ],
   "source": [
    "visualize_failure_timeline(failure_sessions)"
   ]
  },
  {
   "cell_type": "code",
   "execution_count": 7,
   "id": "5fb6ee2e",
   "metadata": {},
   "outputs": [],
   "source": [
    "if performe_visualization:\n",
    "    # Visualize the raw data\n",
    "    visualize_mean_values(inverter_data, failure_sessions, feature_cols, 'visualization', 'raw_data')"
   ]
  },
  {
   "cell_type": "code",
   "execution_count": 8,
   "id": "67c342c2",
   "metadata": {},
   "outputs": [],
   "source": [
    "# remove unused columns\n",
    "filtered_data = inverter_data[['event_local_time', 'device_name'] + feature_cols].copy()"
   ]
  },
  {
   "cell_type": "markdown",
   "id": "7faa25f4",
   "metadata": {},
   "source": [
    "### Anomoly Detection"
   ]
  },
  {
   "cell_type": "code",
   "execution_count": 9,
   "id": "78ad68c7",
   "metadata": {},
   "outputs": [
    {
     "name": "stdout",
     "output_type": "stream",
     "text": [
      "Anomalies in STATUS_AC_MOD_ADMISSION_TEMP removed: 244163\n"
     ]
    }
   ],
   "source": [
    "if \"metric.STATUS_AC_MOD_ADMISSION_TEMP.MEASURED\" in filtered_data.columns:\n",
    "    anomaly_ids = filtered_data[\"metric.STATUS_AC_MOD_ADMISSION_TEMP.MEASURED\"]>=100\n",
    "    filtered_data.loc[anomaly_ids, \"metric.STATUS_AC_MOD_ADMISSION_TEMP.MEASURED\"] = None\n",
    "    print(\"Anomalies in STATUS_AC_MOD_ADMISSION_TEMP removed:\", anomaly_ids.sum())"
   ]
  },
  {
   "cell_type": "markdown",
   "id": "e502018d",
   "metadata": {},
   "source": [
    "### Missing Value Imputation"
   ]
  },
  {
   "cell_type": "code",
   "execution_count": 10,
   "id": "e6b1d156",
   "metadata": {},
   "outputs": [],
   "source": [
    "imputed_df = missing_value_imputation(\n",
    "    filtered_data, feature_cols, \n",
    "    time_col='event_local_time', \n",
    "    device_col='device_name', \n",
    "    short_gap_limit=0, \n",
    "    long_fill_value=0.0, \n",
    "    add_missing_mask=True\n",
    "    )\n",
    "extended_feature_cols = feature_cols+[col+'_missing' for col in feature_cols]"
   ]
  },
  {
   "cell_type": "markdown",
   "id": "9db2330b",
   "metadata": {},
   "source": [
    "### Downsampling"
   ]
  },
  {
   "cell_type": "code",
   "execution_count": 11,
   "id": "90f7584d",
   "metadata": {},
   "outputs": [
    {
     "name": "stdout",
     "output_type": "stream",
     "text": [
      "Downsampling 6126272 rows using following method: \n",
      "                                               Column Aggregation\n",
      "0                       metric.AC_VOLTAGE_AB.MEASURED        mean\n",
      "1                       metric.AC_VOLTAGE_BC.MEASURED        mean\n",
      "2                       metric.AC_VOLTAGE_CA.MEASURED        mean\n",
      "3                          metric.DC_VOLTAGE.MEASURED        mean\n",
      "4                            metric.AC_POWER.MEASURED        mean\n",
      "5               metric.AC_VOLTAGE_AB.MEASURED_missing        mean\n",
      "6               metric.AC_VOLTAGE_BC.MEASURED_missing        mean\n",
      "7               metric.AC_VOLTAGE_CA.MEASURED_missing        mean\n",
      "8                  metric.DC_VOLTAGE.MEASURED_missing        mean\n",
      "9                    metric.AC_POWER.MEASURED_missing        mean\n",
      "10       metric.STATUS_AC_MOD_ADMISSION_TEMP.MEASURED         max\n",
      "11               metric.STATUS_INTERNAL_TEMP.MEASURED         max\n",
      "12  metric.STATUS_AC_MOD_ADMISSION_TEMP.MEASURED_m...        mean\n",
      "13       metric.STATUS_INTERNAL_TEMP.MEASURED_missing        mean\n"
     ]
    }
   ],
   "source": [
    "downsampled_data = downsample_inverter_raw(imputed_df, drop_empty_bins=False)\n",
    "downsampled_data.dropna(inplace=True) # NaN will be generated by downsampling, so we drop them"
   ]
  },
  {
   "cell_type": "code",
   "execution_count": 12,
   "id": "b2bd6c11",
   "metadata": {},
   "outputs": [],
   "source": [
    "if performe_visualization:\n",
    "    # Visualize the downsampled data\n",
    "    visualize_mean_values(\n",
    "        downsampled_data, \n",
    "        failure_sessions, \n",
    "        extended_feature_cols, \n",
    "        'visualization', \n",
    "        'downsampled_data',\n",
    "        freq=None\n",
    "    )"
   ]
  },
  {
   "cell_type": "markdown",
   "id": "03ae16f2",
   "metadata": {},
   "source": [
    "### Data Cleaning"
   ]
  },
  {
   "cell_type": "code",
   "execution_count": 13,
   "id": "82857f9d",
   "metadata": {},
   "outputs": [
    {
     "name": "stdout",
     "output_type": "stream",
     "text": [
      "failure_sessions shape: (61, 6)\n",
      "Excluded 2 periods, remaining data size: 47\n",
      "Excluded 2 periods, remaining data size: 47\n",
      "failure_sessions shape: (47, 7)\n"
     ]
    }
   ],
   "source": [
    "print(\"failure_sessions shape:\", failure_sessions.shape)\n",
    "failure_sessions['event_local_time'] = failure_sessions['start_time']\n",
    "filtered_sessions = exclude_periods_from_data(failure_sessions, exclude_periods)\n",
    "filtered_sessions['event_local_time'] = filtered_sessions['end_time']\n",
    "filtered_sessions = exclude_periods_from_data(filtered_sessions, exclude_periods)\n",
    "print(\"failure_sessions shape:\", filtered_sessions .shape)"
   ]
  },
  {
   "cell_type": "code",
   "execution_count": 14,
   "id": "7ecb503b",
   "metadata": {},
   "outputs": [
    {
     "data": {
      "application/vnd.plotly.v1+json": {
       "config": {
        "plotlyServerURL": "https://plot.ly"
       },
       "data": [
        {
         "alignmentgroup": "True",
         "base": [
          "2024-04-25T12:55:00",
          "2025-03-29T13:55:00",
          "2022-08-09T11:10:00",
          "2022-09-10T14:45:00",
          "2022-12-01T11:55:00",
          "2023-01-02T16:40:00",
          "2023-01-14T07:45:00",
          "2023-12-28T15:30:00",
          "2025-04-13T16:10:00",
          "2022-12-22T16:25:00",
          "2023-01-02T15:20:00",
          "2023-01-09T15:20:00",
          "2025-04-23T14:35:00",
          "2024-03-02T10:55:00",
          "2024-08-31T06:30:00",
          "2022-08-26T19:35:00",
          "2022-09-29T09:30:00",
          "2024-02-15T08:10:00",
          "2024-08-23T19:30:00",
          "2024-05-03T09:00:00",
          "2025-06-28T10:20:00",
          "2022-03-03T17:35:00",
          "2022-07-07T15:30:00",
          "2024-02-11T08:10:00",
          "2025-04-27T17:55:00",
          "2022-07-30T20:05:00",
          "2024-08-13T07:05:00"
         ],
         "customdata": [
          [
           1,
           "2024-04-25T12:55:00",
           "2024-04-30T08:00:00",
           115.08333333333333,
           false,
           "Unplanned failure"
          ],
          [
           4,
           "2025-03-29T13:55:00",
           "2025-04-04T12:30:00",
           142.58333333333334,
           false,
           "Unplanned failure"
          ],
          [
           8,
           "2022-08-09T11:10:00",
           "2022-08-12T11:40:00",
           72.5,
           false,
           "Unplanned failure"
          ],
          [
           9,
           "2022-09-10T14:45:00",
           "2022-09-14T07:45:00",
           89,
           false,
           "Unplanned failure"
          ],
          [
           10,
           "2022-12-01T11:55:00",
           "2022-12-06T10:40:00",
           118.75,
           false,
           "Unplanned failure"
          ],
          [
           11,
           "2023-01-02T16:40:00",
           "2023-01-13T11:20:00",
           258.6666666666667,
           false,
           "Unplanned failure"
          ],
          [
           12,
           "2023-01-14T07:45:00",
           "2023-01-26T12:55:00",
           293.1666666666667,
           false,
           "Unplanned failure"
          ],
          [
           14,
           "2023-12-28T15:30:00",
           "2024-01-02T09:05:00",
           113.58333333333333,
           false,
           "Unplanned failure"
          ],
          [
           15,
           "2025-04-13T16:10:00",
           "2025-04-17T10:10:00",
           90,
           false,
           "Unplanned failure"
          ],
          [
           18,
           "2022-12-22T16:25:00",
           "2022-12-26T10:30:00",
           90.08333333333333,
           false,
           "Unplanned failure"
          ],
          [
           20,
           "2023-01-02T15:20:00",
           "2023-01-07T09:40:00",
           114.33333333333333,
           false,
           "Unplanned failure"
          ],
          [
           21,
           "2023-01-09T15:20:00",
           "2023-01-13T11:50:00",
           92.5,
           false,
           "Unplanned failure"
          ],
          [
           22,
           "2025-04-23T14:35:00",
           "2025-05-01T09:05:00",
           186.5,
           false,
           "Unplanned failure"
          ],
          [
           26,
           "2024-03-02T10:55:00",
           "2024-03-06T10:30:00",
           95.58333333333333,
           false,
           "Unplanned failure"
          ],
          [
           28,
           "2024-08-31T06:30:00",
           "2024-09-06T11:10:00",
           148.66666666666666,
           false,
           "Unplanned failure"
          ],
          [
           30,
           "2022-08-26T19:35:00",
           "2022-08-30T09:05:00",
           85.5,
           false,
           "Unplanned failure"
          ],
          [
           31,
           "2022-09-29T09:30:00",
           "2022-11-15T12:25:00",
           1130.9166666666667,
           false,
           "Unplanned failure"
          ],
          [
           35,
           "2024-02-15T08:10:00",
           "2024-02-20T10:20:00",
           122.16666666666667,
           false,
           "Unplanned failure"
          ],
          [
           37,
           "2024-08-23T19:30:00",
           "2024-08-28T12:20:00",
           112.83333333333333,
           false,
           "Unplanned failure"
          ],
          [
           40,
           "2024-05-03T09:00:00",
           "2024-05-09T12:50:00",
           147.83333333333334,
           false,
           "Unplanned failure"
          ],
          [
           44,
           "2025-06-28T10:20:00",
           "2025-07-02T07:35:00",
           93.25,
           false,
           "Unplanned failure"
          ],
          [
           48,
           "2022-03-03T17:35:00",
           "2022-03-07T11:50:00",
           90.25,
           false,
           "Unplanned failure"
          ],
          [
           49,
           "2022-07-07T15:30:00",
           "2022-07-11T12:10:00",
           92.66666666666667,
           false,
           "Unplanned failure"
          ],
          [
           54,
           "2024-02-11T08:10:00",
           "2024-02-15T11:55:00",
           99.75,
           false,
           "Unplanned failure"
          ],
          [
           55,
           "2025-04-27T17:55:00",
           "2025-05-02T12:40:00",
           114.75,
           false,
           "Unplanned failure"
          ],
          [
           57,
           "2022-07-30T20:05:00",
           "2022-08-03T13:20:00",
           89.25,
           false,
           "Unplanned failure"
          ],
          [
           59,
           "2024-08-13T07:05:00",
           "2024-08-16T11:55:00",
           76.83333333333333,
           false,
           "Unplanned failure"
          ]
         ],
         "hovertemplate": "<b>%{y}</b><br>Session ID: %{customdata[0]}<br>Start: %{customdata[1]|%Y-%m-%d %H:%M}<br>End: %{customdata[2]|%Y-%m-%d %H:%M}<br>Duration (hrs): %{customdata[3]:.2f}<br>",
         "legendgroup": "Unplanned failure",
         "marker": {
          "color": "#2563eb",
          "line": {
           "color": "rgba(30,30,60,0.55)",
           "width": 1.5
          },
          "pattern": {
           "shape": ""
          }
         },
         "name": "Unplanned failure",
         "offsetgroup": "Unplanned failure",
         "opacity": 0.98,
         "orientation": "h",
         "showlegend": true,
         "textposition": "auto",
         "type": "bar",
         "x": [
          414300000,
          513300000,
          261000000,
          320400000,
          427500000,
          931200000,
          1055400000,
          408900000,
          324000000,
          324300000,
          411600000,
          333000000,
          671400000,
          344100000,
          535200000,
          307800000,
          4071300000,
          439800000,
          406200000,
          532200000,
          335700000,
          324900000,
          333600000,
          359100000,
          413100000,
          321300000,
          276600000
         ],
         "xaxis": "x",
         "y": [
          "INV 51",
          "INV 52",
          "INV 54",
          "INV 54",
          "INV 54",
          "INV 54",
          "INV 54",
          "INV 54",
          "INV 54",
          "INV 55",
          "INV 55",
          "INV 55",
          "INV 55",
          "INV 56",
          "INV 57",
          "INV 58",
          "INV 58",
          "INV 59",
          "INV 60",
          "INV 61",
          "INV 62",
          "INV 64",
          "INV 64",
          "INV 65",
          "INV 65",
          "INV 66",
          "INV 66"
         ],
         "yaxis": "y"
        },
        {
         "alignmentgroup": "True",
         "base": [
          "2025-04-20T13:35:00",
          "2022-11-07T06:35:00",
          "2022-08-03T15:50:00",
          "2022-12-26T16:45:00",
          "2025-04-20T11:20:00",
          "2022-11-06T16:50:00",
          "2022-12-26T16:45:00",
          "2022-08-03T15:50:00",
          "2025-04-20T10:35:00",
          "2022-07-28T09:55:00",
          "2025-04-20T11:20:00",
          "2022-11-06T16:50:00",
          "2022-07-28T10:05:00",
          "2025-05-05T10:25:00",
          "2022-12-26T16:45:00",
          "2025-04-20T10:35:00",
          "2022-11-06T16:50:00",
          "2022-07-28T10:05:00",
          "2025-05-05T10:25:00",
          "2025-05-05T10:25:00"
         ],
         "customdata": [
          [
           2,
           "2025-04-20T13:35:00",
           "2025-05-23T15:00:00",
           793.4166666666666,
           false,
           "Planned (maintenance)"
          ],
          [
           3,
           "2022-11-07T06:35:00",
           "2022-11-10T10:05:00",
           75.5,
           false,
           "Planned (maintenance)"
          ],
          [
           5,
           "2022-08-03T15:50:00",
           "2022-08-08T13:35:00",
           117.75,
           false,
           "Planned (maintenance)"
          ],
          [
           6,
           "2022-12-26T16:45:00",
           "2022-12-30T09:10:00",
           88.41666666666667,
           false,
           "Planned (maintenance)"
          ],
          [
           16,
           "2025-04-20T11:20:00",
           "2025-05-11T06:55:00",
           499.5833333333333,
           false,
           "Planned (maintenance)"
          ],
          [
           17,
           "2022-11-06T16:50:00",
           "2022-11-10T10:35:00",
           89.75,
           false,
           "Planned (maintenance)"
          ],
          [
           19,
           "2022-12-26T16:45:00",
           "2022-12-30T09:05:00",
           88.33333333333333,
           false,
           "Planned (maintenance)"
          ],
          [
           23,
           "2022-08-03T15:50:00",
           "2022-08-08T13:25:00",
           117.58333333333333,
           false,
           "Planned (maintenance)"
          ],
          [
           29,
           "2025-04-20T10:35:00",
           "2025-05-11T06:55:00",
           500.3333333333333,
           false,
           "Planned (maintenance)"
          ],
          [
           33,
           "2022-07-28T09:55:00",
           "2022-08-16T17:00:00",
           463.0833333333333,
           false,
           "Planned (maintenance)"
          ],
          [
           38,
           "2025-04-20T11:20:00",
           "2025-05-11T06:55:00",
           499.5833333333333,
           false,
           "Planned (maintenance)"
          ],
          [
           39,
           "2022-11-06T16:50:00",
           "2022-11-10T11:05:00",
           90.25,
           false,
           "Planned (maintenance)"
          ],
          [
           41,
           "2022-07-28T10:05:00",
           "2022-08-16T12:55:00",
           458.8333333333333,
           false,
           "Planned (maintenance)"
          ],
          [
           43,
           "2025-05-05T10:25:00",
           "2025-06-03T11:00:00",
           696.5833333333334,
           false,
           "Planned (maintenance)"
          ],
          [
           45,
           "2022-12-26T16:45:00",
           "2022-12-30T09:10:00",
           88.41666666666667,
           false,
           "Planned (maintenance)"
          ],
          [
           47,
           "2025-04-20T10:35:00",
           "2025-05-11T07:15:00",
           500.6666666666667,
           false,
           "Planned (maintenance)"
          ],
          [
           50,
           "2022-11-06T16:50:00",
           "2022-11-10T11:15:00",
           90.41666666666667,
           false,
           "Planned (maintenance)"
          ],
          [
           51,
           "2022-07-28T10:05:00",
           "2022-09-29T08:20:00",
           1510.25,
           false,
           "Planned (maintenance)"
          ],
          [
           56,
           "2025-05-05T10:25:00",
           "2025-05-28T12:10:00",
           553.75,
           false,
           "Planned (maintenance)"
          ],
          [
           60,
           "2025-05-05T10:25:00",
           "2025-05-28T05:50:00",
           547.4166666666666,
           false,
           "Planned (maintenance)"
          ]
         ],
         "hovertemplate": "<b>%{y}</b><br>Session ID: %{customdata[0]}<br>Start: %{customdata[1]|%Y-%m-%d %H:%M}<br>End: %{customdata[2]|%Y-%m-%d %H:%M}<br>Duration (hrs): %{customdata[3]:.2f}<br>",
         "legendgroup": "Planned (maintenance)",
         "marker": {
          "color": "#6b7280",
          "line": {
           "color": "rgba(30,30,60,0.55)",
           "width": 1.5
          },
          "pattern": {
           "shape": ""
          }
         },
         "name": "Planned (maintenance)",
         "offsetgroup": "Planned (maintenance)",
         "opacity": 0.98,
         "orientation": "h",
         "showlegend": true,
         "textposition": "auto",
         "type": "bar",
         "x": [
          2856300000,
          271800000,
          423900000,
          318300000,
          1798500000,
          323100000,
          318000000,
          423300000,
          1801200000,
          1667100000,
          1798500000,
          324900000,
          1651800000,
          2507700000,
          318300000,
          1802400000,
          325500000,
          5436900000,
          1993500000,
          1970700000
         ],
         "xaxis": "x",
         "y": [
          "INV 51",
          "INV 52",
          "INV 53",
          "INV 53",
          "INV 54",
          "INV 55",
          "INV 55",
          "INV 56",
          "INV 57",
          "INV 59",
          "INV 60",
          "INV 61",
          "INV 62",
          "INV 62",
          "INV 63",
          "INV 63",
          "INV 64",
          "INV 65",
          "INV 65",
          "INV 66"
         ],
         "yaxis": "y"
        }
       ],
       "layout": {
        "bargap": 0.25,
        "barmode": "overlay",
        "height": 620,
        "legend": {
         "title": {
          "text": "Event Type"
         },
         "tracegroupgap": 0
        },
        "margin": {
         "b": 40,
         "l": 70,
         "r": 30,
         "t": 60
        },
        "template": {
         "data": {
          "bar": [
           {
            "error_x": {
             "color": "#2a3f5f"
            },
            "error_y": {
             "color": "#2a3f5f"
            },
            "marker": {
             "line": {
              "color": "white",
              "width": 0.5
             },
             "pattern": {
              "fillmode": "overlay",
              "size": 10,
              "solidity": 0.2
             }
            },
            "type": "bar"
           }
          ],
          "barpolar": [
           {
            "marker": {
             "line": {
              "color": "white",
              "width": 0.5
             },
             "pattern": {
              "fillmode": "overlay",
              "size": 10,
              "solidity": 0.2
             }
            },
            "type": "barpolar"
           }
          ],
          "carpet": [
           {
            "aaxis": {
             "endlinecolor": "#2a3f5f",
             "gridcolor": "#C8D4E3",
             "linecolor": "#C8D4E3",
             "minorgridcolor": "#C8D4E3",
             "startlinecolor": "#2a3f5f"
            },
            "baxis": {
             "endlinecolor": "#2a3f5f",
             "gridcolor": "#C8D4E3",
             "linecolor": "#C8D4E3",
             "minorgridcolor": "#C8D4E3",
             "startlinecolor": "#2a3f5f"
            },
            "type": "carpet"
           }
          ],
          "choropleth": [
           {
            "colorbar": {
             "outlinewidth": 0,
             "ticks": ""
            },
            "type": "choropleth"
           }
          ],
          "contour": [
           {
            "colorbar": {
             "outlinewidth": 0,
             "ticks": ""
            },
            "colorscale": [
             [
              0,
              "#0d0887"
             ],
             [
              0.1111111111111111,
              "#46039f"
             ],
             [
              0.2222222222222222,
              "#7201a8"
             ],
             [
              0.3333333333333333,
              "#9c179e"
             ],
             [
              0.4444444444444444,
              "#bd3786"
             ],
             [
              0.5555555555555556,
              "#d8576b"
             ],
             [
              0.6666666666666666,
              "#ed7953"
             ],
             [
              0.7777777777777778,
              "#fb9f3a"
             ],
             [
              0.8888888888888888,
              "#fdca26"
             ],
             [
              1,
              "#f0f921"
             ]
            ],
            "type": "contour"
           }
          ],
          "contourcarpet": [
           {
            "colorbar": {
             "outlinewidth": 0,
             "ticks": ""
            },
            "type": "contourcarpet"
           }
          ],
          "heatmap": [
           {
            "colorbar": {
             "outlinewidth": 0,
             "ticks": ""
            },
            "colorscale": [
             [
              0,
              "#0d0887"
             ],
             [
              0.1111111111111111,
              "#46039f"
             ],
             [
              0.2222222222222222,
              "#7201a8"
             ],
             [
              0.3333333333333333,
              "#9c179e"
             ],
             [
              0.4444444444444444,
              "#bd3786"
             ],
             [
              0.5555555555555556,
              "#d8576b"
             ],
             [
              0.6666666666666666,
              "#ed7953"
             ],
             [
              0.7777777777777778,
              "#fb9f3a"
             ],
             [
              0.8888888888888888,
              "#fdca26"
             ],
             [
              1,
              "#f0f921"
             ]
            ],
            "type": "heatmap"
           }
          ],
          "heatmapgl": [
           {
            "colorbar": {
             "outlinewidth": 0,
             "ticks": ""
            },
            "colorscale": [
             [
              0,
              "#0d0887"
             ],
             [
              0.1111111111111111,
              "#46039f"
             ],
             [
              0.2222222222222222,
              "#7201a8"
             ],
             [
              0.3333333333333333,
              "#9c179e"
             ],
             [
              0.4444444444444444,
              "#bd3786"
             ],
             [
              0.5555555555555556,
              "#d8576b"
             ],
             [
              0.6666666666666666,
              "#ed7953"
             ],
             [
              0.7777777777777778,
              "#fb9f3a"
             ],
             [
              0.8888888888888888,
              "#fdca26"
             ],
             [
              1,
              "#f0f921"
             ]
            ],
            "type": "heatmapgl"
           }
          ],
          "histogram": [
           {
            "marker": {
             "pattern": {
              "fillmode": "overlay",
              "size": 10,
              "solidity": 0.2
             }
            },
            "type": "histogram"
           }
          ],
          "histogram2d": [
           {
            "colorbar": {
             "outlinewidth": 0,
             "ticks": ""
            },
            "colorscale": [
             [
              0,
              "#0d0887"
             ],
             [
              0.1111111111111111,
              "#46039f"
             ],
             [
              0.2222222222222222,
              "#7201a8"
             ],
             [
              0.3333333333333333,
              "#9c179e"
             ],
             [
              0.4444444444444444,
              "#bd3786"
             ],
             [
              0.5555555555555556,
              "#d8576b"
             ],
             [
              0.6666666666666666,
              "#ed7953"
             ],
             [
              0.7777777777777778,
              "#fb9f3a"
             ],
             [
              0.8888888888888888,
              "#fdca26"
             ],
             [
              1,
              "#f0f921"
             ]
            ],
            "type": "histogram2d"
           }
          ],
          "histogram2dcontour": [
           {
            "colorbar": {
             "outlinewidth": 0,
             "ticks": ""
            },
            "colorscale": [
             [
              0,
              "#0d0887"
             ],
             [
              0.1111111111111111,
              "#46039f"
             ],
             [
              0.2222222222222222,
              "#7201a8"
             ],
             [
              0.3333333333333333,
              "#9c179e"
             ],
             [
              0.4444444444444444,
              "#bd3786"
             ],
             [
              0.5555555555555556,
              "#d8576b"
             ],
             [
              0.6666666666666666,
              "#ed7953"
             ],
             [
              0.7777777777777778,
              "#fb9f3a"
             ],
             [
              0.8888888888888888,
              "#fdca26"
             ],
             [
              1,
              "#f0f921"
             ]
            ],
            "type": "histogram2dcontour"
           }
          ],
          "mesh3d": [
           {
            "colorbar": {
             "outlinewidth": 0,
             "ticks": ""
            },
            "type": "mesh3d"
           }
          ],
          "parcoords": [
           {
            "line": {
             "colorbar": {
              "outlinewidth": 0,
              "ticks": ""
             }
            },
            "type": "parcoords"
           }
          ],
          "pie": [
           {
            "automargin": true,
            "type": "pie"
           }
          ],
          "scatter": [
           {
            "fillpattern": {
             "fillmode": "overlay",
             "size": 10,
             "solidity": 0.2
            },
            "type": "scatter"
           }
          ],
          "scatter3d": [
           {
            "line": {
             "colorbar": {
              "outlinewidth": 0,
              "ticks": ""
             }
            },
            "marker": {
             "colorbar": {
              "outlinewidth": 0,
              "ticks": ""
             }
            },
            "type": "scatter3d"
           }
          ],
          "scattercarpet": [
           {
            "marker": {
             "colorbar": {
              "outlinewidth": 0,
              "ticks": ""
             }
            },
            "type": "scattercarpet"
           }
          ],
          "scattergeo": [
           {
            "marker": {
             "colorbar": {
              "outlinewidth": 0,
              "ticks": ""
             }
            },
            "type": "scattergeo"
           }
          ],
          "scattergl": [
           {
            "marker": {
             "colorbar": {
              "outlinewidth": 0,
              "ticks": ""
             }
            },
            "type": "scattergl"
           }
          ],
          "scattermapbox": [
           {
            "marker": {
             "colorbar": {
              "outlinewidth": 0,
              "ticks": ""
             }
            },
            "type": "scattermapbox"
           }
          ],
          "scatterpolar": [
           {
            "marker": {
             "colorbar": {
              "outlinewidth": 0,
              "ticks": ""
             }
            },
            "type": "scatterpolar"
           }
          ],
          "scatterpolargl": [
           {
            "marker": {
             "colorbar": {
              "outlinewidth": 0,
              "ticks": ""
             }
            },
            "type": "scatterpolargl"
           }
          ],
          "scatterternary": [
           {
            "marker": {
             "colorbar": {
              "outlinewidth": 0,
              "ticks": ""
             }
            },
            "type": "scatterternary"
           }
          ],
          "surface": [
           {
            "colorbar": {
             "outlinewidth": 0,
             "ticks": ""
            },
            "colorscale": [
             [
              0,
              "#0d0887"
             ],
             [
              0.1111111111111111,
              "#46039f"
             ],
             [
              0.2222222222222222,
              "#7201a8"
             ],
             [
              0.3333333333333333,
              "#9c179e"
             ],
             [
              0.4444444444444444,
              "#bd3786"
             ],
             [
              0.5555555555555556,
              "#d8576b"
             ],
             [
              0.6666666666666666,
              "#ed7953"
             ],
             [
              0.7777777777777778,
              "#fb9f3a"
             ],
             [
              0.8888888888888888,
              "#fdca26"
             ],
             [
              1,
              "#f0f921"
             ]
            ],
            "type": "surface"
           }
          ],
          "table": [
           {
            "cells": {
             "fill": {
              "color": "#EBF0F8"
             },
             "line": {
              "color": "white"
             }
            },
            "header": {
             "fill": {
              "color": "#C8D4E3"
             },
             "line": {
              "color": "white"
             }
            },
            "type": "table"
           }
          ]
         },
         "layout": {
          "annotationdefaults": {
           "arrowcolor": "#2a3f5f",
           "arrowhead": 0,
           "arrowwidth": 1
          },
          "autotypenumbers": "strict",
          "coloraxis": {
           "colorbar": {
            "outlinewidth": 0,
            "ticks": ""
           }
          },
          "colorscale": {
           "diverging": [
            [
             0,
             "#8e0152"
            ],
            [
             0.1,
             "#c51b7d"
            ],
            [
             0.2,
             "#de77ae"
            ],
            [
             0.3,
             "#f1b6da"
            ],
            [
             0.4,
             "#fde0ef"
            ],
            [
             0.5,
             "#f7f7f7"
            ],
            [
             0.6,
             "#e6f5d0"
            ],
            [
             0.7,
             "#b8e186"
            ],
            [
             0.8,
             "#7fbc41"
            ],
            [
             0.9,
             "#4d9221"
            ],
            [
             1,
             "#276419"
            ]
           ],
           "sequential": [
            [
             0,
             "#0d0887"
            ],
            [
             0.1111111111111111,
             "#46039f"
            ],
            [
             0.2222222222222222,
             "#7201a8"
            ],
            [
             0.3333333333333333,
             "#9c179e"
            ],
            [
             0.4444444444444444,
             "#bd3786"
            ],
            [
             0.5555555555555556,
             "#d8576b"
            ],
            [
             0.6666666666666666,
             "#ed7953"
            ],
            [
             0.7777777777777778,
             "#fb9f3a"
            ],
            [
             0.8888888888888888,
             "#fdca26"
            ],
            [
             1,
             "#f0f921"
            ]
           ],
           "sequentialminus": [
            [
             0,
             "#0d0887"
            ],
            [
             0.1111111111111111,
             "#46039f"
            ],
            [
             0.2222222222222222,
             "#7201a8"
            ],
            [
             0.3333333333333333,
             "#9c179e"
            ],
            [
             0.4444444444444444,
             "#bd3786"
            ],
            [
             0.5555555555555556,
             "#d8576b"
            ],
            [
             0.6666666666666666,
             "#ed7953"
            ],
            [
             0.7777777777777778,
             "#fb9f3a"
            ],
            [
             0.8888888888888888,
             "#fdca26"
            ],
            [
             1,
             "#f0f921"
            ]
           ]
          },
          "colorway": [
           "#636efa",
           "#EF553B",
           "#00cc96",
           "#ab63fa",
           "#FFA15A",
           "#19d3f3",
           "#FF6692",
           "#B6E880",
           "#FF97FF",
           "#FECB52"
          ],
          "font": {
           "color": "#2a3f5f"
          },
          "geo": {
           "bgcolor": "white",
           "lakecolor": "white",
           "landcolor": "white",
           "showlakes": true,
           "showland": true,
           "subunitcolor": "#C8D4E3"
          },
          "hoverlabel": {
           "align": "left"
          },
          "hovermode": "closest",
          "mapbox": {
           "style": "light"
          },
          "paper_bgcolor": "white",
          "plot_bgcolor": "white",
          "polar": {
           "angularaxis": {
            "gridcolor": "#EBF0F8",
            "linecolor": "#EBF0F8",
            "ticks": ""
           },
           "bgcolor": "white",
           "radialaxis": {
            "gridcolor": "#EBF0F8",
            "linecolor": "#EBF0F8",
            "ticks": ""
           }
          },
          "scene": {
           "xaxis": {
            "backgroundcolor": "white",
            "gridcolor": "#DFE8F3",
            "gridwidth": 2,
            "linecolor": "#EBF0F8",
            "showbackground": true,
            "ticks": "",
            "zerolinecolor": "#EBF0F8"
           },
           "yaxis": {
            "backgroundcolor": "white",
            "gridcolor": "#DFE8F3",
            "gridwidth": 2,
            "linecolor": "#EBF0F8",
            "showbackground": true,
            "ticks": "",
            "zerolinecolor": "#EBF0F8"
           },
           "zaxis": {
            "backgroundcolor": "white",
            "gridcolor": "#DFE8F3",
            "gridwidth": 2,
            "linecolor": "#EBF0F8",
            "showbackground": true,
            "ticks": "",
            "zerolinecolor": "#EBF0F8"
           }
          },
          "shapedefaults": {
           "line": {
            "color": "#2a3f5f"
           }
          },
          "ternary": {
           "aaxis": {
            "gridcolor": "#DFE8F3",
            "linecolor": "#A2B1C6",
            "ticks": ""
           },
           "baxis": {
            "gridcolor": "#DFE8F3",
            "linecolor": "#A2B1C6",
            "ticks": ""
           },
           "bgcolor": "white",
           "caxis": {
            "gridcolor": "#DFE8F3",
            "linecolor": "#A2B1C6",
            "ticks": ""
           }
          },
          "title": {
           "x": 0.05
          },
          "xaxis": {
           "automargin": true,
           "gridcolor": "#EBF0F8",
           "linecolor": "#EBF0F8",
           "ticks": "",
           "title": {
            "standoff": 15
           },
           "zerolinecolor": "#EBF0F8",
           "zerolinewidth": 2
          },
          "yaxis": {
           "automargin": true,
           "gridcolor": "#EBF0F8",
           "linecolor": "#EBF0F8",
           "ticks": "",
           "title": {
            "standoff": 15
           },
           "zerolinecolor": "#EBF0F8",
           "zerolinewidth": 2
          }
         }
        },
        "title": {
         "text": "Failure Sessions Timeline"
        },
        "xaxis": {
         "anchor": "y",
         "domain": [
          0,
          1
         ],
         "rangeselector": {
          "buttons": [
           {
            "count": 7,
            "label": "1w",
            "step": "day",
            "stepmode": "backward"
           },
           {
            "count": 1,
            "label": "1m",
            "step": "month",
            "stepmode": "backward"
           },
           {
            "count": 3,
            "label": "3m",
            "step": "month",
            "stepmode": "backward"
           },
           {
            "count": 6,
            "label": "6m",
            "step": "month",
            "stepmode": "backward"
           },
           {
            "count": 1,
            "label": "1y",
            "step": "year",
            "stepmode": "backward"
           },
           {
            "step": "all"
           }
          ]
         },
         "rangeslider": {
          "visible": true
         },
         "showgrid": true,
         "type": "date"
        },
        "yaxis": {
         "anchor": "x",
         "autorange": "reversed",
         "categoryarray": [
          "INV 53",
          "INV 56",
          "INV 52",
          "INV 61",
          "INV 64",
          "INV 59",
          "INV 63",
          "INV 60",
          "INV 57",
          "INV 55",
          "INV 66",
          "INV 51",
          "INV 58",
          "INV 62",
          "INV 54",
          "INV 65"
         ],
         "categoryorder": "array",
         "domain": [
          0,
          1
         ],
         "title": {
          "text": "Device"
         }
        }
       }
      }
     },
     "metadata": {},
     "output_type": "display_data"
    }
   ],
   "source": [
    "visualize_failure_timeline(filtered_sessions)"
   ]
  },
  {
   "cell_type": "code",
   "execution_count": 15,
   "id": "995240da",
   "metadata": {},
   "outputs": [
    {
     "name": "stdout",
     "output_type": "stream",
     "text": [
      "inverter_data shape: (1021056, 16)\n",
      "Excluded 2 periods, remaining data size: 862112\n",
      "Excluded data shape: (862112, 16)\n"
     ]
    }
   ],
   "source": [
    "print(\"inverter_data shape:\", downsampled_data.shape)\n",
    "downsampled_data = exclude_periods_from_data(downsampled_data, exclude_periods)\n",
    "print(\"Excluded data shape:\", downsampled_data.shape)"
   ]
  },
  {
   "cell_type": "markdown",
   "id": "c7979e30",
   "metadata": {},
   "source": [
    "### Data Labeling"
   ]
  },
  {
   "cell_type": "code",
   "execution_count": 16,
   "id": "c262cba8",
   "metadata": {},
   "outputs": [
    {
     "name": "stdout",
     "output_type": "stream",
     "text": [
      "Total pre-failure rows: 6064\n",
      "Total rows: 837811\n"
     ]
    }
   ],
   "source": [
    "downsampled_data = prepare_dataset(downsampled_data, failure_sessions, pre_days=pre_day)"
   ]
  },
  {
   "cell_type": "markdown",
   "id": "84b48cdb",
   "metadata": {},
   "source": [
    "### Feature Engineering"
   ]
  },
  {
   "cell_type": "code",
   "execution_count": 17,
   "id": "9bf59730",
   "metadata": {},
   "outputs": [],
   "source": [
    "# month_of_year 範圍 1~12\n",
    "downsampled_data['month_sin'] = np.sin(2 * np.pi * downsampled_data['event_local_time'].dt.month / 12)\n",
    "downsampled_data['month_cos'] = np.cos(2 * np.pi * downsampled_data['event_local_time'].dt.month / 12)\n",
    "\n",
    "# 如果還有 hour_of_day (0~23) 也可以同理轉\n",
    "downsampled_data['hour_sin'] = np.sin(2 * np.pi * downsampled_data['event_local_time'].dt.hour / 24)\n",
    "downsampled_data['hour_cos'] = np.cos(2 * np.pi * downsampled_data['event_local_time'].dt.hour / 24)\n",
    "\n",
    "extended_feature_cols += ['hour_sin', 'hour_cos', 'month_sin', 'month_cos']"
   ]
  },
  {
   "cell_type": "code",
   "execution_count": 18,
   "id": "ef729f37",
   "metadata": {},
   "outputs": [],
   "source": [
    "v = downsampled_data[['metric.AC_VOLTAGE_AB.MEASURED','metric.AC_VOLTAGE_BC.MEASURED','metric.AC_VOLTAGE_CA.MEASURED']]\n",
    "v_mean = v.mean(axis=1)\n",
    "v_range = v.max(axis=1) - v.min(axis=1)\n",
    "downsampled_data['V_mean'] = v_mean\n",
    "downsampled_data['V_unbalance'] = v_range / (v_mean + 1e-6)\n",
    "\n",
    "extended_feature_cols += ['V_mean', 'V_unbalance']"
   ]
  },
  {
   "cell_type": "code",
   "execution_count": 19,
   "id": "8b1be463",
   "metadata": {},
   "outputs": [
    {
     "data": {
      "text/html": [
       "<div>\n",
       "<style scoped>\n",
       "    .dataframe tbody tr th:only-of-type {\n",
       "        vertical-align: middle;\n",
       "    }\n",
       "\n",
       "    .dataframe tbody tr th {\n",
       "        vertical-align: top;\n",
       "    }\n",
       "\n",
       "    .dataframe thead th {\n",
       "        text-align: right;\n",
       "    }\n",
       "</style>\n",
       "<table border=\"1\" class=\"dataframe\">\n",
       "  <thead>\n",
       "    <tr style=\"text-align: right;\">\n",
       "      <th></th>\n",
       "      <th>event_local_time</th>\n",
       "      <th>device_name</th>\n",
       "      <th>metric.AC_VOLTAGE_AB.MEASURED</th>\n",
       "      <th>metric.AC_VOLTAGE_BC.MEASURED</th>\n",
       "      <th>metric.AC_VOLTAGE_CA.MEASURED</th>\n",
       "      <th>metric.DC_VOLTAGE.MEASURED</th>\n",
       "      <th>metric.AC_POWER.MEASURED</th>\n",
       "      <th>metric.AC_VOLTAGE_AB.MEASURED_missing</th>\n",
       "      <th>metric.AC_VOLTAGE_BC.MEASURED_missing</th>\n",
       "      <th>metric.AC_VOLTAGE_CA.MEASURED_missing</th>\n",
       "      <th>...</th>\n",
       "      <th>metric.STATUS_INTERNAL_TEMP.MEASURED</th>\n",
       "      <th>metric.STATUS_AC_MOD_ADMISSION_TEMP.MEASURED_missing</th>\n",
       "      <th>metric.STATUS_INTERNAL_TEMP.MEASURED_missing</th>\n",
       "      <th>label</th>\n",
       "      <th>month_sin</th>\n",
       "      <th>month_cos</th>\n",
       "      <th>hour_sin</th>\n",
       "      <th>hour_cos</th>\n",
       "      <th>V_mean</th>\n",
       "      <th>V_unbalance</th>\n",
       "    </tr>\n",
       "  </thead>\n",
       "  <tbody>\n",
       "    <tr>\n",
       "      <th>0</th>\n",
       "      <td>2021-12-24 00:00:00</td>\n",
       "      <td>INV 51</td>\n",
       "      <td>34400.171875</td>\n",
       "      <td>34400.000000</td>\n",
       "      <td>34400.000000</td>\n",
       "      <td>12.439572</td>\n",
       "      <td>0.0</td>\n",
       "      <td>0.0</td>\n",
       "      <td>0.0</td>\n",
       "      <td>0.0</td>\n",
       "      <td>...</td>\n",
       "      <td>40.000000</td>\n",
       "      <td>0.0</td>\n",
       "      <td>0.0</td>\n",
       "      <td>0</td>\n",
       "      <td>-2.449294e-16</td>\n",
       "      <td>1.000000</td>\n",
       "      <td>0.000000</td>\n",
       "      <td>1.000000</td>\n",
       "      <td>34400.058594</td>\n",
       "      <td>0.000005</td>\n",
       "    </tr>\n",
       "    <tr>\n",
       "      <th>1</th>\n",
       "      <td>2021-12-24 00:30:00</td>\n",
       "      <td>INV 51</td>\n",
       "      <td>34186.058594</td>\n",
       "      <td>34185.386719</td>\n",
       "      <td>34185.386719</td>\n",
       "      <td>41.699497</td>\n",
       "      <td>0.0</td>\n",
       "      <td>0.0</td>\n",
       "      <td>0.0</td>\n",
       "      <td>0.0</td>\n",
       "      <td>...</td>\n",
       "      <td>40.000000</td>\n",
       "      <td>0.0</td>\n",
       "      <td>0.0</td>\n",
       "      <td>0</td>\n",
       "      <td>-2.449294e-16</td>\n",
       "      <td>1.000000</td>\n",
       "      <td>0.000000</td>\n",
       "      <td>1.000000</td>\n",
       "      <td>34185.609375</td>\n",
       "      <td>0.000020</td>\n",
       "    </tr>\n",
       "    <tr>\n",
       "      <th>2</th>\n",
       "      <td>2021-12-24 01:00:00</td>\n",
       "      <td>INV 51</td>\n",
       "      <td>34186.824219</td>\n",
       "      <td>34186.449219</td>\n",
       "      <td>34186.449219</td>\n",
       "      <td>3.771897</td>\n",
       "      <td>0.0</td>\n",
       "      <td>0.0</td>\n",
       "      <td>0.0</td>\n",
       "      <td>0.0</td>\n",
       "      <td>...</td>\n",
       "      <td>41.000000</td>\n",
       "      <td>0.0</td>\n",
       "      <td>0.0</td>\n",
       "      <td>0</td>\n",
       "      <td>-2.449294e-16</td>\n",
       "      <td>1.000000</td>\n",
       "      <td>0.258819</td>\n",
       "      <td>0.965926</td>\n",
       "      <td>34186.574219</td>\n",
       "      <td>0.000011</td>\n",
       "    </tr>\n",
       "    <tr>\n",
       "      <th>3</th>\n",
       "      <td>2021-12-24 01:30:00</td>\n",
       "      <td>INV 51</td>\n",
       "      <td>34367.199219</td>\n",
       "      <td>34367.480469</td>\n",
       "      <td>34367.480469</td>\n",
       "      <td>4.273490</td>\n",
       "      <td>0.0</td>\n",
       "      <td>0.0</td>\n",
       "      <td>0.0</td>\n",
       "      <td>0.0</td>\n",
       "      <td>...</td>\n",
       "      <td>42.000000</td>\n",
       "      <td>0.0</td>\n",
       "      <td>0.0</td>\n",
       "      <td>0</td>\n",
       "      <td>-2.449294e-16</td>\n",
       "      <td>1.000000</td>\n",
       "      <td>0.258819</td>\n",
       "      <td>0.965926</td>\n",
       "      <td>34367.386719</td>\n",
       "      <td>0.000008</td>\n",
       "    </tr>\n",
       "    <tr>\n",
       "      <th>4</th>\n",
       "      <td>2021-12-24 02:00:00</td>\n",
       "      <td>INV 51</td>\n",
       "      <td>34101.886719</td>\n",
       "      <td>34101.933594</td>\n",
       "      <td>34101.933594</td>\n",
       "      <td>29.879051</td>\n",
       "      <td>0.0</td>\n",
       "      <td>0.0</td>\n",
       "      <td>0.0</td>\n",
       "      <td>0.0</td>\n",
       "      <td>...</td>\n",
       "      <td>42.036221</td>\n",
       "      <td>0.0</td>\n",
       "      <td>0.0</td>\n",
       "      <td>0</td>\n",
       "      <td>-2.449294e-16</td>\n",
       "      <td>1.000000</td>\n",
       "      <td>0.500000</td>\n",
       "      <td>0.866025</td>\n",
       "      <td>34101.917969</td>\n",
       "      <td>0.000001</td>\n",
       "    </tr>\n",
       "    <tr>\n",
       "      <th>...</th>\n",
       "      <td>...</td>\n",
       "      <td>...</td>\n",
       "      <td>...</td>\n",
       "      <td>...</td>\n",
       "      <td>...</td>\n",
       "      <td>...</td>\n",
       "      <td>...</td>\n",
       "      <td>...</td>\n",
       "      <td>...</td>\n",
       "      <td>...</td>\n",
       "      <td>...</td>\n",
       "      <td>...</td>\n",
       "      <td>...</td>\n",
       "      <td>...</td>\n",
       "      <td>...</td>\n",
       "      <td>...</td>\n",
       "      <td>...</td>\n",
       "      <td>...</td>\n",
       "      <td>...</td>\n",
       "      <td>...</td>\n",
       "      <td>...</td>\n",
       "    </tr>\n",
       "    <tr>\n",
       "      <th>837806</th>\n",
       "      <td>2025-07-23 21:30:00</td>\n",
       "      <td>INV 66</td>\n",
       "      <td>34283.332031</td>\n",
       "      <td>34283.332031</td>\n",
       "      <td>34283.332031</td>\n",
       "      <td>2.183333</td>\n",
       "      <td>0.0</td>\n",
       "      <td>0.0</td>\n",
       "      <td>0.0</td>\n",
       "      <td>0.0</td>\n",
       "      <td>...</td>\n",
       "      <td>44.000000</td>\n",
       "      <td>0.0</td>\n",
       "      <td>0.0</td>\n",
       "      <td>0</td>\n",
       "      <td>-5.000000e-01</td>\n",
       "      <td>-0.866025</td>\n",
       "      <td>-0.707107</td>\n",
       "      <td>0.707107</td>\n",
       "      <td>34283.332031</td>\n",
       "      <td>0.000000</td>\n",
       "    </tr>\n",
       "    <tr>\n",
       "      <th>837807</th>\n",
       "      <td>2025-07-23 22:00:00</td>\n",
       "      <td>INV 66</td>\n",
       "      <td>34200.000000</td>\n",
       "      <td>34200.000000</td>\n",
       "      <td>34200.000000</td>\n",
       "      <td>2.037213</td>\n",
       "      <td>0.0</td>\n",
       "      <td>0.0</td>\n",
       "      <td>0.0</td>\n",
       "      <td>0.0</td>\n",
       "      <td>...</td>\n",
       "      <td>43.000000</td>\n",
       "      <td>0.0</td>\n",
       "      <td>0.0</td>\n",
       "      <td>0</td>\n",
       "      <td>-5.000000e-01</td>\n",
       "      <td>-0.866025</td>\n",
       "      <td>-0.500000</td>\n",
       "      <td>0.866025</td>\n",
       "      <td>34200.000000</td>\n",
       "      <td>0.000000</td>\n",
       "    </tr>\n",
       "    <tr>\n",
       "      <th>837808</th>\n",
       "      <td>2025-07-23 22:30:00</td>\n",
       "      <td>INV 66</td>\n",
       "      <td>34300.746094</td>\n",
       "      <td>34300.746094</td>\n",
       "      <td>34300.746094</td>\n",
       "      <td>2.100000</td>\n",
       "      <td>0.0</td>\n",
       "      <td>0.0</td>\n",
       "      <td>0.0</td>\n",
       "      <td>0.0</td>\n",
       "      <td>...</td>\n",
       "      <td>41.000000</td>\n",
       "      <td>0.0</td>\n",
       "      <td>0.0</td>\n",
       "      <td>0</td>\n",
       "      <td>-5.000000e-01</td>\n",
       "      <td>-0.866025</td>\n",
       "      <td>-0.500000</td>\n",
       "      <td>0.866025</td>\n",
       "      <td>34300.746094</td>\n",
       "      <td>0.000000</td>\n",
       "    </tr>\n",
       "    <tr>\n",
       "      <th>837809</th>\n",
       "      <td>2025-07-23 23:00:00</td>\n",
       "      <td>INV 66</td>\n",
       "      <td>34516.667969</td>\n",
       "      <td>34516.667969</td>\n",
       "      <td>34516.667969</td>\n",
       "      <td>2.263698</td>\n",
       "      <td>0.0</td>\n",
       "      <td>0.0</td>\n",
       "      <td>0.0</td>\n",
       "      <td>0.0</td>\n",
       "      <td>...</td>\n",
       "      <td>40.000000</td>\n",
       "      <td>0.0</td>\n",
       "      <td>0.0</td>\n",
       "      <td>0</td>\n",
       "      <td>-5.000000e-01</td>\n",
       "      <td>-0.866025</td>\n",
       "      <td>-0.258819</td>\n",
       "      <td>0.965926</td>\n",
       "      <td>34516.667969</td>\n",
       "      <td>0.000000</td>\n",
       "    </tr>\n",
       "    <tr>\n",
       "      <th>837810</th>\n",
       "      <td>2025-07-23 23:30:00</td>\n",
       "      <td>INV 66</td>\n",
       "      <td>34600.000000</td>\n",
       "      <td>34600.000000</td>\n",
       "      <td>34600.000000</td>\n",
       "      <td>2.550000</td>\n",
       "      <td>0.0</td>\n",
       "      <td>0.0</td>\n",
       "      <td>0.0</td>\n",
       "      <td>0.0</td>\n",
       "      <td>...</td>\n",
       "      <td>39.000000</td>\n",
       "      <td>0.0</td>\n",
       "      <td>0.0</td>\n",
       "      <td>0</td>\n",
       "      <td>-5.000000e-01</td>\n",
       "      <td>-0.866025</td>\n",
       "      <td>-0.258819</td>\n",
       "      <td>0.965926</td>\n",
       "      <td>34600.000000</td>\n",
       "      <td>0.000000</td>\n",
       "    </tr>\n",
       "  </tbody>\n",
       "</table>\n",
       "<p>837811 rows × 23 columns</p>\n",
       "</div>"
      ],
      "text/plain": [
       "          event_local_time device_name  metric.AC_VOLTAGE_AB.MEASURED  \\\n",
       "0      2021-12-24 00:00:00      INV 51                   34400.171875   \n",
       "1      2021-12-24 00:30:00      INV 51                   34186.058594   \n",
       "2      2021-12-24 01:00:00      INV 51                   34186.824219   \n",
       "3      2021-12-24 01:30:00      INV 51                   34367.199219   \n",
       "4      2021-12-24 02:00:00      INV 51                   34101.886719   \n",
       "...                    ...         ...                            ...   \n",
       "837806 2025-07-23 21:30:00      INV 66                   34283.332031   \n",
       "837807 2025-07-23 22:00:00      INV 66                   34200.000000   \n",
       "837808 2025-07-23 22:30:00      INV 66                   34300.746094   \n",
       "837809 2025-07-23 23:00:00      INV 66                   34516.667969   \n",
       "837810 2025-07-23 23:30:00      INV 66                   34600.000000   \n",
       "\n",
       "        metric.AC_VOLTAGE_BC.MEASURED  metric.AC_VOLTAGE_CA.MEASURED  \\\n",
       "0                        34400.000000                   34400.000000   \n",
       "1                        34185.386719                   34185.386719   \n",
       "2                        34186.449219                   34186.449219   \n",
       "3                        34367.480469                   34367.480469   \n",
       "4                        34101.933594                   34101.933594   \n",
       "...                               ...                            ...   \n",
       "837806                   34283.332031                   34283.332031   \n",
       "837807                   34200.000000                   34200.000000   \n",
       "837808                   34300.746094                   34300.746094   \n",
       "837809                   34516.667969                   34516.667969   \n",
       "837810                   34600.000000                   34600.000000   \n",
       "\n",
       "        metric.DC_VOLTAGE.MEASURED  metric.AC_POWER.MEASURED  \\\n",
       "0                        12.439572                       0.0   \n",
       "1                        41.699497                       0.0   \n",
       "2                         3.771897                       0.0   \n",
       "3                         4.273490                       0.0   \n",
       "4                        29.879051                       0.0   \n",
       "...                            ...                       ...   \n",
       "837806                    2.183333                       0.0   \n",
       "837807                    2.037213                       0.0   \n",
       "837808                    2.100000                       0.0   \n",
       "837809                    2.263698                       0.0   \n",
       "837810                    2.550000                       0.0   \n",
       "\n",
       "        metric.AC_VOLTAGE_AB.MEASURED_missing  \\\n",
       "0                                         0.0   \n",
       "1                                         0.0   \n",
       "2                                         0.0   \n",
       "3                                         0.0   \n",
       "4                                         0.0   \n",
       "...                                       ...   \n",
       "837806                                    0.0   \n",
       "837807                                    0.0   \n",
       "837808                                    0.0   \n",
       "837809                                    0.0   \n",
       "837810                                    0.0   \n",
       "\n",
       "        metric.AC_VOLTAGE_BC.MEASURED_missing  \\\n",
       "0                                         0.0   \n",
       "1                                         0.0   \n",
       "2                                         0.0   \n",
       "3                                         0.0   \n",
       "4                                         0.0   \n",
       "...                                       ...   \n",
       "837806                                    0.0   \n",
       "837807                                    0.0   \n",
       "837808                                    0.0   \n",
       "837809                                    0.0   \n",
       "837810                                    0.0   \n",
       "\n",
       "        metric.AC_VOLTAGE_CA.MEASURED_missing  ...  \\\n",
       "0                                         0.0  ...   \n",
       "1                                         0.0  ...   \n",
       "2                                         0.0  ...   \n",
       "3                                         0.0  ...   \n",
       "4                                         0.0  ...   \n",
       "...                                       ...  ...   \n",
       "837806                                    0.0  ...   \n",
       "837807                                    0.0  ...   \n",
       "837808                                    0.0  ...   \n",
       "837809                                    0.0  ...   \n",
       "837810                                    0.0  ...   \n",
       "\n",
       "        metric.STATUS_INTERNAL_TEMP.MEASURED  \\\n",
       "0                                  40.000000   \n",
       "1                                  40.000000   \n",
       "2                                  41.000000   \n",
       "3                                  42.000000   \n",
       "4                                  42.036221   \n",
       "...                                      ...   \n",
       "837806                             44.000000   \n",
       "837807                             43.000000   \n",
       "837808                             41.000000   \n",
       "837809                             40.000000   \n",
       "837810                             39.000000   \n",
       "\n",
       "        metric.STATUS_AC_MOD_ADMISSION_TEMP.MEASURED_missing  \\\n",
       "0                                                     0.0      \n",
       "1                                                     0.0      \n",
       "2                                                     0.0      \n",
       "3                                                     0.0      \n",
       "4                                                     0.0      \n",
       "...                                                   ...      \n",
       "837806                                                0.0      \n",
       "837807                                                0.0      \n",
       "837808                                                0.0      \n",
       "837809                                                0.0      \n",
       "837810                                                0.0      \n",
       "\n",
       "        metric.STATUS_INTERNAL_TEMP.MEASURED_missing  label     month_sin  \\\n",
       "0                                                0.0      0 -2.449294e-16   \n",
       "1                                                0.0      0 -2.449294e-16   \n",
       "2                                                0.0      0 -2.449294e-16   \n",
       "3                                                0.0      0 -2.449294e-16   \n",
       "4                                                0.0      0 -2.449294e-16   \n",
       "...                                              ...    ...           ...   \n",
       "837806                                           0.0      0 -5.000000e-01   \n",
       "837807                                           0.0      0 -5.000000e-01   \n",
       "837808                                           0.0      0 -5.000000e-01   \n",
       "837809                                           0.0      0 -5.000000e-01   \n",
       "837810                                           0.0      0 -5.000000e-01   \n",
       "\n",
       "        month_cos  hour_sin  hour_cos        V_mean  V_unbalance  \n",
       "0        1.000000  0.000000  1.000000  34400.058594     0.000005  \n",
       "1        1.000000  0.000000  1.000000  34185.609375     0.000020  \n",
       "2        1.000000  0.258819  0.965926  34186.574219     0.000011  \n",
       "3        1.000000  0.258819  0.965926  34367.386719     0.000008  \n",
       "4        1.000000  0.500000  0.866025  34101.917969     0.000001  \n",
       "...           ...       ...       ...           ...          ...  \n",
       "837806  -0.866025 -0.707107  0.707107  34283.332031     0.000000  \n",
       "837807  -0.866025 -0.500000  0.866025  34200.000000     0.000000  \n",
       "837808  -0.866025 -0.500000  0.866025  34300.746094     0.000000  \n",
       "837809  -0.866025 -0.258819  0.965926  34516.667969     0.000000  \n",
       "837810  -0.866025 -0.258819  0.965926  34600.000000     0.000000  \n",
       "\n",
       "[837811 rows x 23 columns]"
      ]
     },
     "execution_count": 19,
     "metadata": {},
     "output_type": "execute_result"
    }
   ],
   "source": [
    "downsampled_data"
   ]
  },
  {
   "cell_type": "code",
   "execution_count": 20,
   "id": "4a52988c",
   "metadata": {},
   "outputs": [],
   "source": [
    "downsampled_data['T_delta'] = downsampled_data['metric.STATUS_INTERNAL_TEMP.MEASURED'] - downsampled_data['metric.STATUS_AC_MOD_ADMISSION_TEMP.MEASURED']\n",
    "extended_feature_cols += ['T_delta']"
   ]
  },
  {
   "cell_type": "code",
   "execution_count": 21,
   "id": "d27b4c0a",
   "metadata": {},
   "outputs": [],
   "source": [
    "if performe_visualization:\n",
    "    visualize_mean_values(downsampled_data, failure_sessions, extended_feature_cols+['label'], \n",
    "                                title='processed_data', freq=None)"
   ]
  },
  {
   "cell_type": "markdown",
   "id": "b181af6b",
   "metadata": {},
   "source": [
    "### Split Dataset"
   ]
  },
  {
   "cell_type": "code",
   "execution_count": 22,
   "id": "77c351da",
   "metadata": {},
   "outputs": [],
   "source": [
    "split_time = [pd.Timestamp('2024-06-30'), pd.Timestamp('2025-01-01')]\n",
    "\n",
    "\n",
    "train_df = downsampled_data[downsampled_data['event_local_time'] <= split_time[0]].copy()\n",
    "val_df = downsampled_data[(downsampled_data['event_local_time'] > split_time[0]) & (downsampled_data['event_local_time'] <= split_time[1])].copy()\n",
    "test_df = downsampled_data[downsampled_data['event_local_time'] > split_time[1]].copy()"
   ]
  },
  {
   "cell_type": "code",
   "execution_count": 23,
   "id": "c36b0239",
   "metadata": {},
   "outputs": [
    {
     "name": "stdout",
     "output_type": "stream",
     "text": [
      "train set period: 2021-12-24 00:00:00 2024-06-30 00:00:00\n",
      "validation set period: 2024-06-30 00:30:00 2025-01-01 00:00:00\n",
      "test set period: 2025-01-01 00:30:00 2025-07-23 23:30:00\n"
     ]
    }
   ],
   "source": [
    "print('train set period:', train_df['event_local_time'].min(), train_df['event_local_time'].max())\n",
    "print('validation set period:', val_df['event_local_time'].min(), val_df['event_local_time'].max())\n",
    "print('test set period:', test_df['event_local_time'].min(), test_df['event_local_time'].max())"
   ]
  },
  {
   "cell_type": "code",
   "execution_count": 24,
   "id": "9bdb5f36",
   "metadata": {},
   "outputs": [
    {
     "data": {
      "text/plain": [
       "['metric.STATUS_AC_MOD_ADMISSION_TEMP.MEASURED',\n",
       " 'metric.STATUS_INTERNAL_TEMP.MEASURED',\n",
       " 'metric.AC_VOLTAGE_AB.MEASURED',\n",
       " 'metric.AC_VOLTAGE_BC.MEASURED',\n",
       " 'metric.AC_VOLTAGE_CA.MEASURED',\n",
       " 'metric.DC_VOLTAGE.MEASURED',\n",
       " 'metric.AC_POWER.MEASURED',\n",
       " 'metric.STATUS_AC_MOD_ADMISSION_TEMP.MEASURED_missing',\n",
       " 'metric.STATUS_INTERNAL_TEMP.MEASURED_missing',\n",
       " 'metric.AC_VOLTAGE_AB.MEASURED_missing',\n",
       " 'metric.AC_VOLTAGE_BC.MEASURED_missing',\n",
       " 'metric.AC_VOLTAGE_CA.MEASURED_missing',\n",
       " 'metric.DC_VOLTAGE.MEASURED_missing',\n",
       " 'metric.AC_POWER.MEASURED_missing',\n",
       " 'hour_sin',\n",
       " 'hour_cos',\n",
       " 'month_sin',\n",
       " 'month_cos',\n",
       " 'V_mean',\n",
       " 'V_unbalance',\n",
       " 'T_delta']"
      ]
     },
     "execution_count": 24,
     "metadata": {},
     "output_type": "execute_result"
    }
   ],
   "source": [
    "extended_feature_cols"
   ]
  },
  {
   "cell_type": "markdown",
   "id": "777fd02b",
   "metadata": {},
   "source": [
    "### Standardization"
   ]
  },
  {
   "cell_type": "code",
   "execution_count": 25,
   "id": "7e7178a2",
   "metadata": {},
   "outputs": [],
   "source": [
    "from scipy.stats import f_oneway\n",
    "\n",
    "def anova_test(df, feature, device_col='device_name'):\n",
    "    groups = [df[df[device_col] == d][feature].dropna() \n",
    "              for d in df[device_col].unique()]\n",
    "    stat, p = f_oneway(*groups)\n",
    "    return stat, p\n",
    "anova_results = {col: anova_test(train_df, col) for col in extended_feature_cols}"
   ]
  },
  {
   "cell_type": "code",
   "execution_count": 26,
   "id": "11f67173",
   "metadata": {},
   "outputs": [
    {
     "data": {
      "text/html": [
       "<div>\n",
       "<style scoped>\n",
       "    .dataframe tbody tr th:only-of-type {\n",
       "        vertical-align: middle;\n",
       "    }\n",
       "\n",
       "    .dataframe tbody tr th {\n",
       "        vertical-align: top;\n",
       "    }\n",
       "\n",
       "    .dataframe thead th {\n",
       "        text-align: right;\n",
       "    }\n",
       "</style>\n",
       "<table border=\"1\" class=\"dataframe\">\n",
       "  <thead>\n",
       "    <tr style=\"text-align: right;\">\n",
       "      <th></th>\n",
       "      <th>F-statistic</th>\n",
       "      <th>p-value</th>\n",
       "    </tr>\n",
       "  </thead>\n",
       "  <tbody>\n",
       "    <tr>\n",
       "      <th>metric.STATUS_AC_MOD_ADMISSION_TEMP.MEASURED</th>\n",
       "      <td>174.303705</td>\n",
       "      <td>0.000000e+00</td>\n",
       "    </tr>\n",
       "    <tr>\n",
       "      <th>metric.DC_VOLTAGE.MEASURED</th>\n",
       "      <td>6949.560270</td>\n",
       "      <td>0.000000e+00</td>\n",
       "    </tr>\n",
       "    <tr>\n",
       "      <th>T_delta</th>\n",
       "      <td>477.546063</td>\n",
       "      <td>0.000000e+00</td>\n",
       "    </tr>\n",
       "    <tr>\n",
       "      <th>metric.STATUS_INTERNAL_TEMP.MEASURED</th>\n",
       "      <td>215.604605</td>\n",
       "      <td>0.000000e+00</td>\n",
       "    </tr>\n",
       "    <tr>\n",
       "      <th>month_sin</th>\n",
       "      <td>47.990752</td>\n",
       "      <td>1.360839e-143</td>\n",
       "    </tr>\n",
       "    <tr>\n",
       "      <th>metric.AC_VOLTAGE_AB.MEASURED</th>\n",
       "      <td>33.691740</td>\n",
       "      <td>4.599680e-98</td>\n",
       "    </tr>\n",
       "    <tr>\n",
       "      <th>V_mean</th>\n",
       "      <td>33.688267</td>\n",
       "      <td>4.717819e-98</td>\n",
       "    </tr>\n",
       "    <tr>\n",
       "      <th>metric.AC_VOLTAGE_CA.MEASURED</th>\n",
       "      <td>33.687260</td>\n",
       "      <td>4.752634e-98</td>\n",
       "    </tr>\n",
       "    <tr>\n",
       "      <th>metric.AC_VOLTAGE_BC.MEASURED</th>\n",
       "      <td>33.685768</td>\n",
       "      <td>4.804673e-98</td>\n",
       "    </tr>\n",
       "    <tr>\n",
       "      <th>metric.AC_POWER.MEASURED_missing</th>\n",
       "      <td>20.381119</td>\n",
       "      <td>3.765654e-56</td>\n",
       "    </tr>\n",
       "    <tr>\n",
       "      <th>metric.STATUS_INTERNAL_TEMP.MEASURED_missing</th>\n",
       "      <td>20.377570</td>\n",
       "      <td>3.862821e-56</td>\n",
       "    </tr>\n",
       "    <tr>\n",
       "      <th>metric.AC_VOLTAGE_CA.MEASURED_missing</th>\n",
       "      <td>20.356659</td>\n",
       "      <td>4.488504e-56</td>\n",
       "    </tr>\n",
       "    <tr>\n",
       "      <th>metric.AC_VOLTAGE_AB.MEASURED_missing</th>\n",
       "      <td>20.356659</td>\n",
       "      <td>4.488504e-56</td>\n",
       "    </tr>\n",
       "    <tr>\n",
       "      <th>metric.AC_VOLTAGE_BC.MEASURED_missing</th>\n",
       "      <td>20.356659</td>\n",
       "      <td>4.488504e-56</td>\n",
       "    </tr>\n",
       "    <tr>\n",
       "      <th>metric.DC_VOLTAGE.MEASURED_missing</th>\n",
       "      <td>20.354120</td>\n",
       "      <td>4.571060e-56</td>\n",
       "    </tr>\n",
       "    <tr>\n",
       "      <th>month_cos</th>\n",
       "      <td>20.186349</td>\n",
       "      <td>1.524013e-55</td>\n",
       "    </tr>\n",
       "    <tr>\n",
       "      <th>metric.STATUS_AC_MOD_ADMISSION_TEMP.MEASURED_missing</th>\n",
       "      <td>20.091694</td>\n",
       "      <td>3.005783e-55</td>\n",
       "    </tr>\n",
       "    <tr>\n",
       "      <th>metric.AC_POWER.MEASURED</th>\n",
       "      <td>6.816393</td>\n",
       "      <td>4.906165e-15</td>\n",
       "    </tr>\n",
       "    <tr>\n",
       "      <th>V_unbalance</th>\n",
       "      <td>0.308476</td>\n",
       "      <td>9.948401e-01</td>\n",
       "    </tr>\n",
       "    <tr>\n",
       "      <th>hour_cos</th>\n",
       "      <td>0.013007</td>\n",
       "      <td>1.000000e+00</td>\n",
       "    </tr>\n",
       "    <tr>\n",
       "      <th>hour_sin</th>\n",
       "      <td>0.001586</td>\n",
       "      <td>1.000000e+00</td>\n",
       "    </tr>\n",
       "  </tbody>\n",
       "</table>\n",
       "</div>"
      ],
      "text/plain": [
       "                                                    F-statistic        p-value\n",
       "metric.STATUS_AC_MOD_ADMISSION_TEMP.MEASURED         174.303705   0.000000e+00\n",
       "metric.DC_VOLTAGE.MEASURED                          6949.560270   0.000000e+00\n",
       "T_delta                                              477.546063   0.000000e+00\n",
       "metric.STATUS_INTERNAL_TEMP.MEASURED                 215.604605   0.000000e+00\n",
       "month_sin                                             47.990752  1.360839e-143\n",
       "metric.AC_VOLTAGE_AB.MEASURED                         33.691740   4.599680e-98\n",
       "V_mean                                                33.688267   4.717819e-98\n",
       "metric.AC_VOLTAGE_CA.MEASURED                         33.687260   4.752634e-98\n",
       "metric.AC_VOLTAGE_BC.MEASURED                         33.685768   4.804673e-98\n",
       "metric.AC_POWER.MEASURED_missing                      20.381119   3.765654e-56\n",
       "metric.STATUS_INTERNAL_TEMP.MEASURED_missing          20.377570   3.862821e-56\n",
       "metric.AC_VOLTAGE_CA.MEASURED_missing                 20.356659   4.488504e-56\n",
       "metric.AC_VOLTAGE_AB.MEASURED_missing                 20.356659   4.488504e-56\n",
       "metric.AC_VOLTAGE_BC.MEASURED_missing                 20.356659   4.488504e-56\n",
       "metric.DC_VOLTAGE.MEASURED_missing                    20.354120   4.571060e-56\n",
       "month_cos                                             20.186349   1.524013e-55\n",
       "metric.STATUS_AC_MOD_ADMISSION_TEMP.MEASURED_mi...    20.091694   3.005783e-55\n",
       "metric.AC_POWER.MEASURED                               6.816393   4.906165e-15\n",
       "V_unbalance                                            0.308476   9.948401e-01\n",
       "hour_cos                                               0.013007   1.000000e+00\n",
       "hour_sin                                               0.001586   1.000000e+00"
      ]
     },
     "execution_count": 26,
     "metadata": {},
     "output_type": "execute_result"
    }
   ],
   "source": [
    "anova_results_df = pd.DataFrame(anova_results, index=['F-statistic', 'p-value']).T\n",
    "anova_results_df.sort_values(by='p-value', inplace=True)\n",
    "anova_results_df"
   ]
  },
  {
   "cell_type": "code",
   "execution_count": 27,
   "id": "521173e0",
   "metadata": {},
   "outputs": [
    {
     "data": {
      "text/html": [
       "<div>\n",
       "<style scoped>\n",
       "    .dataframe tbody tr th:only-of-type {\n",
       "        vertical-align: middle;\n",
       "    }\n",
       "\n",
       "    .dataframe tbody tr th {\n",
       "        vertical-align: top;\n",
       "    }\n",
       "\n",
       "    .dataframe thead tr th {\n",
       "        text-align: left;\n",
       "    }\n",
       "\n",
       "    .dataframe thead tr:last-of-type th {\n",
       "        text-align: right;\n",
       "    }\n",
       "</style>\n",
       "<table border=\"1\" class=\"dataframe\">\n",
       "  <thead>\n",
       "    <tr>\n",
       "      <th></th>\n",
       "      <th colspan=\"2\" halign=\"left\">metric.STATUS_AC_MOD_ADMISSION_TEMP.MEASURED</th>\n",
       "      <th colspan=\"2\" halign=\"left\">metric.STATUS_INTERNAL_TEMP.MEASURED</th>\n",
       "      <th colspan=\"2\" halign=\"left\">metric.AC_VOLTAGE_AB.MEASURED</th>\n",
       "      <th colspan=\"2\" halign=\"left\">metric.AC_VOLTAGE_BC.MEASURED</th>\n",
       "      <th colspan=\"2\" halign=\"left\">metric.AC_VOLTAGE_CA.MEASURED</th>\n",
       "      <th>...</th>\n",
       "      <th colspan=\"2\" halign=\"left\">month_sin</th>\n",
       "      <th colspan=\"2\" halign=\"left\">month_cos</th>\n",
       "      <th colspan=\"2\" halign=\"left\">V_mean</th>\n",
       "      <th colspan=\"2\" halign=\"left\">V_unbalance</th>\n",
       "      <th colspan=\"2\" halign=\"left\">T_delta</th>\n",
       "    </tr>\n",
       "    <tr>\n",
       "      <th></th>\n",
       "      <th>mean</th>\n",
       "      <th>std</th>\n",
       "      <th>mean</th>\n",
       "      <th>std</th>\n",
       "      <th>mean</th>\n",
       "      <th>std</th>\n",
       "      <th>mean</th>\n",
       "      <th>std</th>\n",
       "      <th>mean</th>\n",
       "      <th>std</th>\n",
       "      <th>...</th>\n",
       "      <th>mean</th>\n",
       "      <th>std</th>\n",
       "      <th>mean</th>\n",
       "      <th>std</th>\n",
       "      <th>mean</th>\n",
       "      <th>std</th>\n",
       "      <th>mean</th>\n",
       "      <th>std</th>\n",
       "      <th>mean</th>\n",
       "      <th>std</th>\n",
       "    </tr>\n",
       "    <tr>\n",
       "      <th>device_name</th>\n",
       "      <th></th>\n",
       "      <th></th>\n",
       "      <th></th>\n",
       "      <th></th>\n",
       "      <th></th>\n",
       "      <th></th>\n",
       "      <th></th>\n",
       "      <th></th>\n",
       "      <th></th>\n",
       "      <th></th>\n",
       "      <th></th>\n",
       "      <th></th>\n",
       "      <th></th>\n",
       "      <th></th>\n",
       "      <th></th>\n",
       "      <th></th>\n",
       "      <th></th>\n",
       "      <th></th>\n",
       "      <th></th>\n",
       "      <th></th>\n",
       "      <th></th>\n",
       "    </tr>\n",
       "  </thead>\n",
       "  <tbody>\n",
       "    <tr>\n",
       "      <th>INV 51</th>\n",
       "      <td>28.366035</td>\n",
       "      <td>11.020061</td>\n",
       "      <td>46.065155</td>\n",
       "      <td>14.196890</td>\n",
       "      <td>33383.550781</td>\n",
       "      <td>6338.113686</td>\n",
       "      <td>33383.535156</td>\n",
       "      <td>6338.113016</td>\n",
       "      <td>33383.550781</td>\n",
       "      <td>6338.115614</td>\n",
       "      <td>...</td>\n",
       "      <td>0.028955</td>\n",
       "      <td>0.699444</td>\n",
       "      <td>0.083500</td>\n",
       "      <td>0.709216</td>\n",
       "      <td>33383.546875</td>\n",
       "      <td>6338.113672</td>\n",
       "      <td>0.000030</td>\n",
       "      <td>0.000142</td>\n",
       "      <td>17.699120</td>\n",
       "      <td>7.571031</td>\n",
       "    </tr>\n",
       "    <tr>\n",
       "      <th>INV 52</th>\n",
       "      <td>28.439161</td>\n",
       "      <td>11.313806</td>\n",
       "      <td>46.240822</td>\n",
       "      <td>14.015439</td>\n",
       "      <td>33075.285156</td>\n",
       "      <td>6440.539049</td>\n",
       "      <td>33075.218750</td>\n",
       "      <td>6440.533862</td>\n",
       "      <td>33075.214844</td>\n",
       "      <td>6440.532518</td>\n",
       "      <td>...</td>\n",
       "      <td>0.046709</td>\n",
       "      <td>0.696632</td>\n",
       "      <td>0.056034</td>\n",
       "      <td>0.713724</td>\n",
       "      <td>33075.242188</td>\n",
       "      <td>6440.534600</td>\n",
       "      <td>0.000035</td>\n",
       "      <td>0.000162</td>\n",
       "      <td>17.801662</td>\n",
       "      <td>6.894229</td>\n",
       "    </tr>\n",
       "    <tr>\n",
       "      <th>INV 53</th>\n",
       "      <td>28.596786</td>\n",
       "      <td>11.466922</td>\n",
       "      <td>45.874367</td>\n",
       "      <td>14.428598</td>\n",
       "      <td>32901.664062</td>\n",
       "      <td>7006.194560</td>\n",
       "      <td>32901.648438</td>\n",
       "      <td>7006.190774</td>\n",
       "      <td>32901.648438</td>\n",
       "      <td>7006.198132</td>\n",
       "      <td>...</td>\n",
       "      <td>0.054021</td>\n",
       "      <td>0.697345</td>\n",
       "      <td>0.055761</td>\n",
       "      <td>0.712531</td>\n",
       "      <td>32901.652344</td>\n",
       "      <td>7006.193815</td>\n",
       "      <td>0.000036</td>\n",
       "      <td>0.000191</td>\n",
       "      <td>17.277580</td>\n",
       "      <td>6.598369</td>\n",
       "    </tr>\n",
       "    <tr>\n",
       "      <th>INV 54</th>\n",
       "      <td>27.990278</td>\n",
       "      <td>11.272350</td>\n",
       "      <td>47.370693</td>\n",
       "      <td>15.263075</td>\n",
       "      <td>32817.699219</td>\n",
       "      <td>6946.510883</td>\n",
       "      <td>32817.710938</td>\n",
       "      <td>6946.523541</td>\n",
       "      <td>32817.714844</td>\n",
       "      <td>6946.522134</td>\n",
       "      <td>...</td>\n",
       "      <td>0.030749</td>\n",
       "      <td>0.702422</td>\n",
       "      <td>0.048632</td>\n",
       "      <td>0.709445</td>\n",
       "      <td>32817.710938</td>\n",
       "      <td>6946.518222</td>\n",
       "      <td>0.000031</td>\n",
       "      <td>0.000185</td>\n",
       "      <td>19.380415</td>\n",
       "      <td>7.456694</td>\n",
       "    </tr>\n",
       "    <tr>\n",
       "      <th>INV 55</th>\n",
       "      <td>28.499063</td>\n",
       "      <td>10.837420</td>\n",
       "      <td>45.644970</td>\n",
       "      <td>13.799309</td>\n",
       "      <td>32995.812500</td>\n",
       "      <td>6445.396076</td>\n",
       "      <td>32995.796875</td>\n",
       "      <td>6445.388569</td>\n",
       "      <td>32995.800781</td>\n",
       "      <td>6445.399820</td>\n",
       "      <td>...</td>\n",
       "      <td>0.042829</td>\n",
       "      <td>0.700902</td>\n",
       "      <td>0.044933</td>\n",
       "      <td>0.710565</td>\n",
       "      <td>32995.804688</td>\n",
       "      <td>6445.394353</td>\n",
       "      <td>0.000033</td>\n",
       "      <td>0.000160</td>\n",
       "      <td>17.145906</td>\n",
       "      <td>6.483011</td>\n",
       "    </tr>\n",
       "    <tr>\n",
       "      <th>INV 56</th>\n",
       "      <td>28.157721</td>\n",
       "      <td>11.120320</td>\n",
       "      <td>45.982086</td>\n",
       "      <td>14.586445</td>\n",
       "      <td>32809.378906</td>\n",
       "      <td>7107.689575</td>\n",
       "      <td>32809.511719</td>\n",
       "      <td>7107.721239</td>\n",
       "      <td>32809.496094</td>\n",
       "      <td>7107.731579</td>\n",
       "      <td>...</td>\n",
       "      <td>0.050427</td>\n",
       "      <td>0.695137</td>\n",
       "      <td>0.059078</td>\n",
       "      <td>0.714682</td>\n",
       "      <td>32809.460938</td>\n",
       "      <td>7107.713433</td>\n",
       "      <td>0.000033</td>\n",
       "      <td>0.000207</td>\n",
       "      <td>17.824364</td>\n",
       "      <td>6.929247</td>\n",
       "    </tr>\n",
       "    <tr>\n",
       "      <th>INV 57</th>\n",
       "      <td>28.344707</td>\n",
       "      <td>11.144395</td>\n",
       "      <td>46.861038</td>\n",
       "      <td>14.592082</td>\n",
       "      <td>33137.457031</td>\n",
       "      <td>6858.451959</td>\n",
       "      <td>33137.488281</td>\n",
       "      <td>6858.457889</td>\n",
       "      <td>33137.507812</td>\n",
       "      <td>6858.459754</td>\n",
       "      <td>...</td>\n",
       "      <td>0.043591</td>\n",
       "      <td>0.695587</td>\n",
       "      <td>0.071102</td>\n",
       "      <td>0.713598</td>\n",
       "      <td>33137.484375</td>\n",
       "      <td>6858.455874</td>\n",
       "      <td>0.000037</td>\n",
       "      <td>0.000185</td>\n",
       "      <td>18.516331</td>\n",
       "      <td>8.062120</td>\n",
       "    </tr>\n",
       "    <tr>\n",
       "      <th>INV 58</th>\n",
       "      <td>26.640032</td>\n",
       "      <td>10.579700</td>\n",
       "      <td>46.250870</td>\n",
       "      <td>13.846357</td>\n",
       "      <td>33534.953125</td>\n",
       "      <td>6318.845958</td>\n",
       "      <td>33534.972656</td>\n",
       "      <td>6318.842041</td>\n",
       "      <td>33534.972656</td>\n",
       "      <td>6318.843358</td>\n",
       "      <td>...</td>\n",
       "      <td>0.088365</td>\n",
       "      <td>0.689188</td>\n",
       "      <td>0.034566</td>\n",
       "      <td>0.718357</td>\n",
       "      <td>33534.964844</td>\n",
       "      <td>6318.843240</td>\n",
       "      <td>0.000037</td>\n",
       "      <td>0.000161</td>\n",
       "      <td>19.610838</td>\n",
       "      <td>6.419026</td>\n",
       "    </tr>\n",
       "    <tr>\n",
       "      <th>INV 59</th>\n",
       "      <td>25.336609</td>\n",
       "      <td>11.805462</td>\n",
       "      <td>44.863865</td>\n",
       "      <td>16.035029</td>\n",
       "      <td>32826.667969</td>\n",
       "      <td>6965.670150</td>\n",
       "      <td>32826.601562</td>\n",
       "      <td>6965.655126</td>\n",
       "      <td>32826.621094</td>\n",
       "      <td>6965.656049</td>\n",
       "      <td>...</td>\n",
       "      <td>0.060947</td>\n",
       "      <td>0.693438</td>\n",
       "      <td>0.065355</td>\n",
       "      <td>0.714966</td>\n",
       "      <td>32826.632812</td>\n",
       "      <td>6965.659848</td>\n",
       "      <td>0.000033</td>\n",
       "      <td>0.000178</td>\n",
       "      <td>19.527258</td>\n",
       "      <td>8.131991</td>\n",
       "    </tr>\n",
       "    <tr>\n",
       "      <th>INV 60</th>\n",
       "      <td>28.452110</td>\n",
       "      <td>11.127955</td>\n",
       "      <td>47.228371</td>\n",
       "      <td>14.504181</td>\n",
       "      <td>33067.675781</td>\n",
       "      <td>6414.556375</td>\n",
       "      <td>33067.738281</td>\n",
       "      <td>6414.562675</td>\n",
       "      <td>33067.726562</td>\n",
       "      <td>6414.559665</td>\n",
       "      <td>...</td>\n",
       "      <td>0.041693</td>\n",
       "      <td>0.696863</td>\n",
       "      <td>0.072807</td>\n",
       "      <td>0.712293</td>\n",
       "      <td>33067.714844</td>\n",
       "      <td>6414.558812</td>\n",
       "      <td>0.000032</td>\n",
       "      <td>0.000198</td>\n",
       "      <td>18.776260</td>\n",
       "      <td>7.705193</td>\n",
       "    </tr>\n",
       "    <tr>\n",
       "      <th>INV 61</th>\n",
       "      <td>27.569294</td>\n",
       "      <td>10.737925</td>\n",
       "      <td>44.227272</td>\n",
       "      <td>13.740510</td>\n",
       "      <td>33249.316406</td>\n",
       "      <td>6602.421920</td>\n",
       "      <td>33249.269531</td>\n",
       "      <td>6602.506404</td>\n",
       "      <td>33249.257812</td>\n",
       "      <td>6602.500178</td>\n",
       "      <td>...</td>\n",
       "      <td>0.049182</td>\n",
       "      <td>0.698897</td>\n",
       "      <td>0.058798</td>\n",
       "      <td>0.711116</td>\n",
       "      <td>33249.281250</td>\n",
       "      <td>6602.475327</td>\n",
       "      <td>0.000035</td>\n",
       "      <td>0.001121</td>\n",
       "      <td>16.657982</td>\n",
       "      <td>6.945135</td>\n",
       "    </tr>\n",
       "    <tr>\n",
       "      <th>INV 62</th>\n",
       "      <td>27.045525</td>\n",
       "      <td>11.095668</td>\n",
       "      <td>46.173317</td>\n",
       "      <td>14.940644</td>\n",
       "      <td>33103.570312</td>\n",
       "      <td>6564.692815</td>\n",
       "      <td>33103.578125</td>\n",
       "      <td>6564.688832</td>\n",
       "      <td>33103.585938</td>\n",
       "      <td>6564.694009</td>\n",
       "      <td>...</td>\n",
       "      <td>0.054689</td>\n",
       "      <td>0.700912</td>\n",
       "      <td>0.096590</td>\n",
       "      <td>0.704572</td>\n",
       "      <td>33103.578125</td>\n",
       "      <td>6564.691331</td>\n",
       "      <td>0.000032</td>\n",
       "      <td>0.000171</td>\n",
       "      <td>19.127794</td>\n",
       "      <td>8.514435</td>\n",
       "    </tr>\n",
       "    <tr>\n",
       "      <th>INV 63</th>\n",
       "      <td>26.020035</td>\n",
       "      <td>10.488424</td>\n",
       "      <td>43.980885</td>\n",
       "      <td>14.830567</td>\n",
       "      <td>32849.312500</td>\n",
       "      <td>6484.819939</td>\n",
       "      <td>32849.324219</td>\n",
       "      <td>6484.817881</td>\n",
       "      <td>32849.289062</td>\n",
       "      <td>6484.911622</td>\n",
       "      <td>...</td>\n",
       "      <td>0.037917</td>\n",
       "      <td>0.699058</td>\n",
       "      <td>0.067266</td>\n",
       "      <td>0.710897</td>\n",
       "      <td>32849.304688</td>\n",
       "      <td>6484.849078</td>\n",
       "      <td>0.000034</td>\n",
       "      <td>0.001349</td>\n",
       "      <td>17.960848</td>\n",
       "      <td>7.328049</td>\n",
       "    </tr>\n",
       "    <tr>\n",
       "      <th>INV 64</th>\n",
       "      <td>28.727430</td>\n",
       "      <td>11.453645</td>\n",
       "      <td>47.364273</td>\n",
       "      <td>14.938535</td>\n",
       "      <td>32997.863281</td>\n",
       "      <td>6567.631213</td>\n",
       "      <td>32997.875000</td>\n",
       "      <td>6567.629529</td>\n",
       "      <td>32997.867188</td>\n",
       "      <td>6567.701485</td>\n",
       "      <td>...</td>\n",
       "      <td>0.050390</td>\n",
       "      <td>0.697224</td>\n",
       "      <td>0.057089</td>\n",
       "      <td>0.712810</td>\n",
       "      <td>32997.871094</td>\n",
       "      <td>6567.652954</td>\n",
       "      <td>0.000039</td>\n",
       "      <td>0.000409</td>\n",
       "      <td>18.636845</td>\n",
       "      <td>7.601512</td>\n",
       "    </tr>\n",
       "    <tr>\n",
       "      <th>INV 65</th>\n",
       "      <td>27.799103</td>\n",
       "      <td>11.268234</td>\n",
       "      <td>46.783230</td>\n",
       "      <td>14.324727</td>\n",
       "      <td>33062.531250</td>\n",
       "      <td>6447.168130</td>\n",
       "      <td>33062.527344</td>\n",
       "      <td>6447.189789</td>\n",
       "      <td>33062.464844</td>\n",
       "      <td>6447.509730</td>\n",
       "      <td>...</td>\n",
       "      <td>0.091653</td>\n",
       "      <td>0.680458</td>\n",
       "      <td>0.100045</td>\n",
       "      <td>0.720130</td>\n",
       "      <td>33062.507812</td>\n",
       "      <td>6447.283115</td>\n",
       "      <td>0.000042</td>\n",
       "      <td>0.002153</td>\n",
       "      <td>18.984125</td>\n",
       "      <td>7.580633</td>\n",
       "    </tr>\n",
       "    <tr>\n",
       "      <th>INV 66</th>\n",
       "      <td>26.335312</td>\n",
       "      <td>11.533269</td>\n",
       "      <td>44.226982</td>\n",
       "      <td>15.422053</td>\n",
       "      <td>33104.613281</td>\n",
       "      <td>6666.659983</td>\n",
       "      <td>33104.613281</td>\n",
       "      <td>6666.528546</td>\n",
       "      <td>33104.609375</td>\n",
       "      <td>6666.528588</td>\n",
       "      <td>...</td>\n",
       "      <td>0.045811</td>\n",
       "      <td>0.700360</td>\n",
       "      <td>0.079579</td>\n",
       "      <td>0.707872</td>\n",
       "      <td>33104.613281</td>\n",
       "      <td>6666.568749</td>\n",
       "      <td>0.000036</td>\n",
       "      <td>0.000688</td>\n",
       "      <td>17.891668</td>\n",
       "      <td>7.114846</td>\n",
       "    </tr>\n",
       "  </tbody>\n",
       "</table>\n",
       "<p>16 rows × 42 columns</p>\n",
       "</div>"
      ],
      "text/plain": [
       "            metric.STATUS_AC_MOD_ADMISSION_TEMP.MEASURED             \\\n",
       "                                                    mean        std   \n",
       "device_name                                                           \n",
       "INV 51                                         28.366035  11.020061   \n",
       "INV 52                                         28.439161  11.313806   \n",
       "INV 53                                         28.596786  11.466922   \n",
       "INV 54                                         27.990278  11.272350   \n",
       "INV 55                                         28.499063  10.837420   \n",
       "INV 56                                         28.157721  11.120320   \n",
       "INV 57                                         28.344707  11.144395   \n",
       "INV 58                                         26.640032  10.579700   \n",
       "INV 59                                         25.336609  11.805462   \n",
       "INV 60                                         28.452110  11.127955   \n",
       "INV 61                                         27.569294  10.737925   \n",
       "INV 62                                         27.045525  11.095668   \n",
       "INV 63                                         26.020035  10.488424   \n",
       "INV 64                                         28.727430  11.453645   \n",
       "INV 65                                         27.799103  11.268234   \n",
       "INV 66                                         26.335312  11.533269   \n",
       "\n",
       "            metric.STATUS_INTERNAL_TEMP.MEASURED             \\\n",
       "                                            mean        std   \n",
       "device_name                                                   \n",
       "INV 51                                 46.065155  14.196890   \n",
       "INV 52                                 46.240822  14.015439   \n",
       "INV 53                                 45.874367  14.428598   \n",
       "INV 54                                 47.370693  15.263075   \n",
       "INV 55                                 45.644970  13.799309   \n",
       "INV 56                                 45.982086  14.586445   \n",
       "INV 57                                 46.861038  14.592082   \n",
       "INV 58                                 46.250870  13.846357   \n",
       "INV 59                                 44.863865  16.035029   \n",
       "INV 60                                 47.228371  14.504181   \n",
       "INV 61                                 44.227272  13.740510   \n",
       "INV 62                                 46.173317  14.940644   \n",
       "INV 63                                 43.980885  14.830567   \n",
       "INV 64                                 47.364273  14.938535   \n",
       "INV 65                                 46.783230  14.324727   \n",
       "INV 66                                 44.226982  15.422053   \n",
       "\n",
       "            metric.AC_VOLTAGE_AB.MEASURED               \\\n",
       "                                     mean          std   \n",
       "device_name                                              \n",
       "INV 51                       33383.550781  6338.113686   \n",
       "INV 52                       33075.285156  6440.539049   \n",
       "INV 53                       32901.664062  7006.194560   \n",
       "INV 54                       32817.699219  6946.510883   \n",
       "INV 55                       32995.812500  6445.396076   \n",
       "INV 56                       32809.378906  7107.689575   \n",
       "INV 57                       33137.457031  6858.451959   \n",
       "INV 58                       33534.953125  6318.845958   \n",
       "INV 59                       32826.667969  6965.670150   \n",
       "INV 60                       33067.675781  6414.556375   \n",
       "INV 61                       33249.316406  6602.421920   \n",
       "INV 62                       33103.570312  6564.692815   \n",
       "INV 63                       32849.312500  6484.819939   \n",
       "INV 64                       32997.863281  6567.631213   \n",
       "INV 65                       33062.531250  6447.168130   \n",
       "INV 66                       33104.613281  6666.659983   \n",
       "\n",
       "            metric.AC_VOLTAGE_BC.MEASURED               \\\n",
       "                                     mean          std   \n",
       "device_name                                              \n",
       "INV 51                       33383.535156  6338.113016   \n",
       "INV 52                       33075.218750  6440.533862   \n",
       "INV 53                       32901.648438  7006.190774   \n",
       "INV 54                       32817.710938  6946.523541   \n",
       "INV 55                       32995.796875  6445.388569   \n",
       "INV 56                       32809.511719  7107.721239   \n",
       "INV 57                       33137.488281  6858.457889   \n",
       "INV 58                       33534.972656  6318.842041   \n",
       "INV 59                       32826.601562  6965.655126   \n",
       "INV 60                       33067.738281  6414.562675   \n",
       "INV 61                       33249.269531  6602.506404   \n",
       "INV 62                       33103.578125  6564.688832   \n",
       "INV 63                       32849.324219  6484.817881   \n",
       "INV 64                       32997.875000  6567.629529   \n",
       "INV 65                       33062.527344  6447.189789   \n",
       "INV 66                       33104.613281  6666.528546   \n",
       "\n",
       "            metric.AC_VOLTAGE_CA.MEASURED               ... month_sin  \\\n",
       "                                     mean          std  ...      mean   \n",
       "device_name                                             ...             \n",
       "INV 51                       33383.550781  6338.115614  ...  0.028955   \n",
       "INV 52                       33075.214844  6440.532518  ...  0.046709   \n",
       "INV 53                       32901.648438  7006.198132  ...  0.054021   \n",
       "INV 54                       32817.714844  6946.522134  ...  0.030749   \n",
       "INV 55                       32995.800781  6445.399820  ...  0.042829   \n",
       "INV 56                       32809.496094  7107.731579  ...  0.050427   \n",
       "INV 57                       33137.507812  6858.459754  ...  0.043591   \n",
       "INV 58                       33534.972656  6318.843358  ...  0.088365   \n",
       "INV 59                       32826.621094  6965.656049  ...  0.060947   \n",
       "INV 60                       33067.726562  6414.559665  ...  0.041693   \n",
       "INV 61                       33249.257812  6602.500178  ...  0.049182   \n",
       "INV 62                       33103.585938  6564.694009  ...  0.054689   \n",
       "INV 63                       32849.289062  6484.911622  ...  0.037917   \n",
       "INV 64                       32997.867188  6567.701485  ...  0.050390   \n",
       "INV 65                       33062.464844  6447.509730  ...  0.091653   \n",
       "INV 66                       33104.609375  6666.528588  ...  0.045811   \n",
       "\n",
       "                      month_cos                  V_mean               \\\n",
       "                  std      mean       std          mean          std   \n",
       "device_name                                                            \n",
       "INV 51       0.699444  0.083500  0.709216  33383.546875  6338.113672   \n",
       "INV 52       0.696632  0.056034  0.713724  33075.242188  6440.534600   \n",
       "INV 53       0.697345  0.055761  0.712531  32901.652344  7006.193815   \n",
       "INV 54       0.702422  0.048632  0.709445  32817.710938  6946.518222   \n",
       "INV 55       0.700902  0.044933  0.710565  32995.804688  6445.394353   \n",
       "INV 56       0.695137  0.059078  0.714682  32809.460938  7107.713433   \n",
       "INV 57       0.695587  0.071102  0.713598  33137.484375  6858.455874   \n",
       "INV 58       0.689188  0.034566  0.718357  33534.964844  6318.843240   \n",
       "INV 59       0.693438  0.065355  0.714966  32826.632812  6965.659848   \n",
       "INV 60       0.696863  0.072807  0.712293  33067.714844  6414.558812   \n",
       "INV 61       0.698897  0.058798  0.711116  33249.281250  6602.475327   \n",
       "INV 62       0.700912  0.096590  0.704572  33103.578125  6564.691331   \n",
       "INV 63       0.699058  0.067266  0.710897  32849.304688  6484.849078   \n",
       "INV 64       0.697224  0.057089  0.712810  32997.871094  6567.652954   \n",
       "INV 65       0.680458  0.100045  0.720130  33062.507812  6447.283115   \n",
       "INV 66       0.700360  0.079579  0.707872  33104.613281  6666.568749   \n",
       "\n",
       "            V_unbalance              T_delta            \n",
       "                   mean       std       mean       std  \n",
       "device_name                                             \n",
       "INV 51         0.000030  0.000142  17.699120  7.571031  \n",
       "INV 52         0.000035  0.000162  17.801662  6.894229  \n",
       "INV 53         0.000036  0.000191  17.277580  6.598369  \n",
       "INV 54         0.000031  0.000185  19.380415  7.456694  \n",
       "INV 55         0.000033  0.000160  17.145906  6.483011  \n",
       "INV 56         0.000033  0.000207  17.824364  6.929247  \n",
       "INV 57         0.000037  0.000185  18.516331  8.062120  \n",
       "INV 58         0.000037  0.000161  19.610838  6.419026  \n",
       "INV 59         0.000033  0.000178  19.527258  8.131991  \n",
       "INV 60         0.000032  0.000198  18.776260  7.705193  \n",
       "INV 61         0.000035  0.001121  16.657982  6.945135  \n",
       "INV 62         0.000032  0.000171  19.127794  8.514435  \n",
       "INV 63         0.000034  0.001349  17.960848  7.328049  \n",
       "INV 64         0.000039  0.000409  18.636845  7.601512  \n",
       "INV 65         0.000042  0.002153  18.984125  7.580633  \n",
       "INV 66         0.000036  0.000688  17.891668  7.114846  \n",
       "\n",
       "[16 rows x 42 columns]"
      ]
     },
     "execution_count": 27,
     "metadata": {},
     "output_type": "execute_result"
    }
   ],
   "source": [
    "import pandas as pd\n",
    "\n",
    "def check_device_wise_stats(df, feature_cols, device_col='device_name'):\n",
    "    stats = df.groupby(device_col)[feature_cols].agg(['mean', 'std'])\n",
    "    return stats\n",
    "\n",
    "check_device_wise_stats(downsampled_data, extended_feature_cols, device_col='device_name')"
   ]
  },
  {
   "cell_type": "code",
   "execution_count": 28,
   "id": "fdc1c5c7",
   "metadata": {},
   "outputs": [],
   "source": [
    "from sklearn.preprocessing import StandardScaler\n",
    "scalers = {}\n",
    "feature_to_standardize = feature_cols + ['V_mean', 'V_unbalance', 'T_delta']\n",
    "\n",
    "for device in train_df['device_name'].unique():\n",
    "    device_data = train_df[train_df['device_name'] == device].copy()\n",
    "    scaler = StandardScaler()\n",
    "    scalers[device] = scaler\n",
    "    \n",
    "    device_data[extended_feature_cols] = scaler.fit_transform(device_data[extended_feature_cols])\n",
    "    train_df.loc[device_data.index, extended_feature_cols] = device_data[extended_feature_cols]\n",
    "    val_df.loc[val_df['device_name'] == device, extended_feature_cols] = scaler.transform(val_df[val_df['device_name'] == device][extended_feature_cols])\n",
    "    test_df.loc[test_df['device_name'] == device, extended_feature_cols] = scaler.transform(test_df[test_df['device_name'] == device][extended_feature_cols])\n"
   ]
  },
  {
   "cell_type": "code",
   "execution_count": 29,
   "id": "c2ce625e",
   "metadata": {},
   "outputs": [],
   "source": [
    "if performe_visualization:\n",
    "    visualize_mean_values(train_df, failure_sessions, extended_feature_cols+['label'], \n",
    "                                 'visualization', 'train_data', freq=None)\n",
    "    visualize_mean_values(val_df, failure_sessions, extended_feature_cols+['label'], \n",
    "                                 'visualization', 'val_data', freq=None)\n",
    "    visualize_mean_values(test_df, failure_sessions, extended_feature_cols+['label'],\n",
    "                                    'visualization', 'test_data', freq=None)"
   ]
  },
  {
   "cell_type": "markdown",
   "id": "3c9b4875",
   "metadata": {},
   "source": [
    "### Create Dataset/Data Loader"
   ]
  },
  {
   "cell_type": "code",
   "execution_count": 31,
   "id": "89be8408",
   "metadata": {},
   "outputs": [
    {
     "name": "stderr",
     "output_type": "stream",
     "text": [
      "Processing devices: 100%|██████████| 16/16 [00:02<00:00,  7.10it/s]\n",
      "Processing devices: 100%|██████████| 16/16 [00:00<00:00, 16.89it/s]\n",
      "Processing devices: 100%|██████████| 16/16 [00:01<00:00, 13.73it/s]\n",
      "Processing devices: 100%|██████████| 16/16 [00:00<00:00, 47.08it/s]\n"
     ]
    }
   ],
   "source": [
    "from torch.utils.data import DataLoader\n",
    "window_size = 2*24*7 # 30 minutes*2*24*7 = 7 days\n",
    "normal_stride = 2*6 # 30 minutes*2*6 = 6 hours\n",
    "positive_sample_stride = 2\n",
    "\n",
    "positive_ds = PositiveInverterTimeSeriesDataset.from_dataframe(train_df, extended_feature_cols, window_size=window_size, stride=positive_sample_stride)\n",
    "negative_ds = NegativeInverterTimeSeriesDataset.from_dataframe(train_df, extended_feature_cols, window_size=window_size, stride=normal_stride)\n",
    "\n",
    "train_ds = combine_dataset([positive_ds, negative_ds])\n",
    "val_ds   = InverterTimeSeriesDataset.from_dataframe(val_df,   extended_feature_cols, window_size=window_size, stride=normal_stride)\n",
    "test_ds  = InverterTimeSeriesDataset.from_dataframe(test_df,  extended_feature_cols, window_size=window_size, stride=normal_stride)"
   ]
  },
  {
   "cell_type": "code",
   "execution_count": 33,
   "id": "4dce21e4",
   "metadata": {},
   "outputs": [
    {
     "data": {
      "text/plain": [
       "['metric.STATUS_AC_MOD_ADMISSION_TEMP.MEASURED',\n",
       " 'metric.STATUS_INTERNAL_TEMP.MEASURED',\n",
       " 'metric.AC_VOLTAGE_AB.MEASURED',\n",
       " 'metric.AC_VOLTAGE_BC.MEASURED',\n",
       " 'metric.AC_VOLTAGE_CA.MEASURED',\n",
       " 'metric.DC_VOLTAGE.MEASURED',\n",
       " 'metric.AC_POWER.MEASURED',\n",
       " 'metric.STATUS_AC_MOD_ADMISSION_TEMP.MEASURED_missing',\n",
       " 'metric.STATUS_INTERNAL_TEMP.MEASURED_missing',\n",
       " 'metric.AC_VOLTAGE_AB.MEASURED_missing',\n",
       " 'metric.AC_VOLTAGE_BC.MEASURED_missing',\n",
       " 'metric.AC_VOLTAGE_CA.MEASURED_missing',\n",
       " 'metric.DC_VOLTAGE.MEASURED_missing',\n",
       " 'metric.AC_POWER.MEASURED_missing',\n",
       " 'hour_sin',\n",
       " 'hour_cos',\n",
       " 'month_sin',\n",
       " 'month_cos',\n",
       " 'V_mean',\n",
       " 'V_unbalance',\n",
       " 'T_delta']"
      ]
     },
     "execution_count": 33,
     "metadata": {},
     "output_type": "execute_result"
    }
   ],
   "source": [
    "import pickle\n",
    "dataset_parameters = {\n",
    "    \"feature_cols\": extended_feature_cols,\n",
    "    \"window_size\": window_size,\n",
    "    \"stride\": normal_stride,\n",
    "}\n",
    "pickle.dump(\n",
    "    dataset_parameters,\n",
    "    open(\"dataset/dataset_parameters.pkl\", \"wb\")\n",
    ")\n",
    "extended_feature_cols"
   ]
  },
  {
   "cell_type": "code",
   "execution_count": 33,
   "id": "6e127b2e",
   "metadata": {},
   "outputs": [
    {
     "name": "stdout",
     "output_type": "stream",
     "text": [
      "train_ds.X.shape: torch.Size([44504, 336, 21])\n",
      "val_ds.X.shape: torch.Size([11270, 336, 21])\n",
      "test_ds.X.shape: torch.Size([10979, 336, 21])\n"
     ]
    }
   ],
   "source": [
    "# information of datasets\n",
    "print(\"train_ds.X.shape:\", train_ds.X.shape)\n",
    "print(\"val_ds.X.shape:\", val_ds.X.shape)\n",
    "print(\"test_ds.X.shape:\", test_ds.X.shape)"
   ]
  },
  {
   "cell_type": "code",
   "execution_count": 34,
   "id": "c05ce0b5",
   "metadata": {},
   "outputs": [
    {
     "name": "stdout",
     "output_type": "stream",
     "text": [
      "train pos ratio: 0.04314218946611541\n",
      "val pos ratio: 0.005323868677905945\n",
      "test pos ratio: 0.009108297659167501\n"
     ]
    }
   ],
   "source": [
    "label_dis = pd.value_counts(train_ds.y.numpy())\n",
    "train_pos_ration = label_dis[1] / (label_dis[0] + label_dis[1])\n",
    "label_dis = pd.value_counts(val_ds.y.numpy())\n",
    "val_pos_ration = label_dis[1] / (label_dis[0] + label_dis[1])\n",
    "label_dis = pd.value_counts(test_ds.y.numpy())\n",
    "test_pos_ration = label_dis[1] / (label_dis[0] + label_dis[1])\n",
    "\n",
    "print(\"train pos ratio:\", train_pos_ration)\n",
    "print(\"val pos ratio:\", val_pos_ration)\n",
    "print(\"test pos ratio:\", test_pos_ration)"
   ]
  },
  {
   "cell_type": "code",
   "execution_count": 35,
   "id": "dc679b9d",
   "metadata": {},
   "outputs": [
    {
     "data": {
      "image/png": "[encoded data removed]",
      "text/plain": [
       "<Figure size 1200x400 with 3 Axes>"
      ]
     },
     "metadata": {},
     "output_type": "display_data"
    }
   ],
   "source": [
    "import matplotlib.pyplot as plt\n",
    "\n",
    "# 計算各資料集的標籤分佈\n",
    "train_counts = pd.Series(train_ds.y.numpy()).value_counts()\n",
    "val_counts   = pd.Series(val_ds.y.numpy()).value_counts()\n",
    "test_counts  = pd.Series(test_ds.y.numpy()).value_counts()\n",
    "\n",
    "# 畫圖\n",
    "fig, axes = plt.subplots(1, 3, figsize=(12, 4))\n",
    "\n",
    "for ax, counts, title in zip(\n",
    "    axes,\n",
    "    [train_counts, val_counts, test_counts],\n",
    "    [\"Train\", \"Validation\", \"Test\"]\n",
    "):\n",
    "    counts.plot(kind='bar', ax=ax)\n",
    "    ax.set_title(f\"{title} Label Distribution\")\n",
    "    ax.set_xlabel(\"Label\")\n",
    "    ax.set_ylabel(\"Count\")\n",
    "\n",
    "plt.tight_layout()\n",
    "plt.show()\n"
   ]
  },
  {
   "cell_type": "code",
   "execution_count": 36,
   "id": "61de5600",
   "metadata": {},
   "outputs": [],
   "source": [
    "import numpy as np\n",
    "import torch\n",
    "from torch.utils.data import DataLoader, WeightedRandomSampler\n",
    "\n",
    "# 取出標籤（假設 train_ds.y 是 0/1 的 torch.tensor）\n",
    "y = train_ds.y.cpu().numpy()\n",
    "assert set(np.unique(y)).issubset({0,1}), \"train_ds 應只有 0/1 標籤\"\n",
    "\n",
    "num_pos = int((y == 1).sum())\n",
    "num_neg = int((y == 0).sum())\n",
    "p_target = 0.15 # 你可以之後調 0.2~0.35\n",
    "\n",
    "# 權重：讓期望抽樣比例 ≈ p_target\n",
    "w_pos = p_target / max(num_pos, 1)\n",
    "w_neg = (1.0 - p_target) / max(num_neg, 1)\n",
    "sample_weights = np.where(y == 1, w_pos, w_neg).astype(np.float64)\n",
    "sample_weights = torch.from_numpy(sample_weights)\n",
    "\n",
    "balanced_sampler = WeightedRandomSampler(\n",
    "    weights=sample_weights,\n",
    "    num_samples=len(sample_weights),  # 每個 epoch 跑滿步數\n",
    "    replacement=True\n",
    ")"
   ]
  },
  {
   "cell_type": "code",
   "execution_count": null,
   "id": "b204cf86",
   "metadata": {},
   "outputs": [],
   "source": [
    "train_loader = DataLoader(\n",
    "    train_ds,\n",
    "    batch_size=512,         # 或你的 GPU 極限\n",
    "    #sampler=balanced_sampler,\n",
    "    shuffle=True,  # 如果不使用 sampler，則需要 shuffle\n",
    "    num_workers=8,\n",
    "    pin_memory=True,\n",
    "    drop_last=True\n",
    ")\n",
    "# For evaluation, no shuffle\n",
    "train_loader_eval = DataLoader(\n",
    "    train_ds, batch_size=1024, shuffle=False, num_workers=8, pin_memory=True\n",
    ")\n",
    "\n",
    "val_loader = DataLoader(val_ds, batch_size=1024, shuffle=False, num_workers=8, pin_memory=True)\n",
    "test_loader = DataLoader(test_ds, batch_size=1024, shuffle=False, num_workers=8, pin_memory=True)"
   ]
  },
  {
   "cell_type": "markdown",
   "id": "6bc7c875",
   "metadata": {},
   "source": [
    "## Train Model"
   ]
  },
  {
   "cell_type": "code",
   "execution_count": 38,
   "id": "453fccc1",
   "metadata": {},
   "outputs": [],
   "source": [
    "from src.model import FocalLoss, CNNLSTMModel\n",
    "from torch.optim import AdamW\n",
    "\n",
    "model = CNNLSTMModel(\n",
    "    num_features=len(extended_feature_cols),\n",
    "    cnn_out_channels=32,   # 32 → 64\n",
    "    lstm_hidden_size=64,  # 64 → 128\n",
    "    lstm_layers=2,         # 1 → 2\n",
    "    dropout=0.5\n",
    ")\n",
    "\n",
    "criterion = FocalLoss(alpha=0.75, gamma=2.0)\n",
    "# 如果改用 BCE：\n",
    "# criterion = nn.BCEWithLogitsLoss(pos_weight=torch.tensor([1.2], device=device))\n",
    "\n",
    "optimizer = AdamW(model.parameters(), lr=3e-4, weight_decay=1e-4)"
   ]
  },
  {
   "cell_type": "code",
   "execution_count": 39,
   "id": "5a9f9a4f",
   "metadata": {},
   "outputs": [],
   "source": [
    "import math\n",
    "\n",
    "steps_per_epoch = len(train_loader)\n",
    "max_epochs = 30\n",
    "total_steps = steps_per_epoch * max_epochs\n",
    "warmup_steps = max(1, int(total_steps * 0.05))\n",
    "\n",
    "def lr_lambda(current_step):\n",
    "    if current_step < warmup_steps:\n",
    "        return float(current_step) / float(max(1, warmup_steps))\n",
    "    progress = (current_step - warmup_steps) / float(max(1, total_steps - warmup_steps))\n",
    "    cosine = 0.5 * (1.0 + math.cos(math.pi * progress))\n",
    "    return 0.1 + 0.9 * cosine  # 下界 0.1×\n",
    "\n",
    "scheduler = torch.optim.lr_scheduler.LambdaLR(optimizer, lr_lambda)\n"
   ]
  },
  {
   "cell_type": "code",
   "execution_count": null,
   "id": "1f7b89ee",
   "metadata": {},
   "outputs": [],
   "source": [
    "\n",
    "log = train_loop(\n",
    "    model, train_loader, val_loader, \n",
    "    log_interval=25, \n",
    "    num_epochs=10, \n",
    "    optimizer=optimizer, \n",
    "    criterion=criterion,\n",
    "    scheduler=scheduler,\n",
    "    save_interval=1,\n",
    "    #save_path='model/0814_0457'\n",
    ")"
   ]
  },
  {
   "cell_type": "code",
   "execution_count": null,
   "id": "0541a638",
   "metadata": {},
   "outputs": [],
   "source": [
    "#log = pd.read_csv('model/0813_1935/training_log.csv')"
   ]
  },
  {
   "cell_type": "code",
   "execution_count": null,
   "id": "8f7a75cd",
   "metadata": {},
   "outputs": [
    {
     "data": {
      "image/png": "[encoded data removed]",
      "text/plain": [
       "<Figure size 640x480 with 1 Axes>"
      ]
     },
     "metadata": {},
     "output_type": "display_data"
    }
   ],
   "source": [
    "visualize_log(log)"
   ]
  },
  {
   "cell_type": "markdown",
   "id": "9612ae49",
   "metadata": {},
   "source": [
    "### Model Evaluation"
   ]
  },
  {
   "cell_type": "code",
   "execution_count": 41,
   "id": "7c540efd",
   "metadata": {},
   "outputs": [
    {
     "name": "stderr",
     "output_type": "stream",
     "text": [
      "C:\\Users\\USER\\AppData\\Local\\Packages\\PythonSoftwareFoundation.Python.3.10_qbz5n2kfra8p0\\LocalCache\\local-packages\\Python310\\site-packages\\torch\\_utils.py:831: UserWarning:\n",
      "\n",
      "TypedStorage is deprecated. It will be removed in the future and UntypedStorage will be the only storage class. This should only matter to you if you are using storages directly.  To access UntypedStorage directly, use tensor.untyped_storage() instead of tensor.storage()\n",
      "\n"
     ]
    },
    {
     "data": {
      "text/plain": [
       "<All keys matched successfully>"
      ]
     },
     "execution_count": 41,
     "metadata": {},
     "output_type": "execute_result"
    }
   ],
   "source": [
    "model.load_state_dict(torch.load(r'model\\0814_2150\\best_model.pth', weights_only=True))"
   ]
  },
  {
   "cell_type": "code",
   "execution_count": null,
   "id": "4c2f512e",
   "metadata": {},
   "outputs": [
    {
     "name": "stderr",
     "output_type": "stream",
     "text": [
      "Testing: 100%|██████████| 44/44 [00:09<00:00,  4.64it/s]\n"
     ]
    }
   ],
   "source": [
    "train_trues, train_outputs, train_loss= test_loop(model, train_loader_eval, criterion=criterion)"
   ]
  },
  {
   "cell_type": "code",
   "execution_count": 46,
   "id": "15dd21af",
   "metadata": {},
   "outputs": [
    {
     "name": "stdout",
     "output_type": "stream",
     "text": [
      "Performance on Training Set:\n",
      "Train Loss: 0.014527602645102888\n",
      "              precision    recall  f1-score   support\n",
      "\n",
      "      Normal       0.99      0.89      0.94     42584\n",
      "     Failure       0.26      0.86      0.40      1920\n",
      "\n",
      "    accuracy                           0.89     44504\n",
      "   macro avg       0.63      0.87      0.67     44504\n",
      "weighted avg       0.96      0.89      0.92     44504\n",
      "\n",
      "[[37974  4610]\n",
      " [  277  1643]]\n",
      "ROC AUC: 0.9380\n"
     ]
    },
    {
     "data": {
      "image/png": "[encoded data removed]",
      "text/plain": [
       "<Figure size 800x600 with 1 Axes>"
      ]
     },
     "metadata": {},
     "output_type": "display_data"
    }
   ],
   "source": [
    "train_predictions = (train_outputs > 0.35).astype(int)\n",
    "\n",
    "print(\"Performance on Training Set:\")\n",
    "print(\"Train Loss:\", train_loss)\n",
    "\n",
    "generate_report(train_trues, train_predictions, train_outputs)"
   ]
  },
  {
   "cell_type": "code",
   "execution_count": null,
   "id": "8734e2fd",
   "metadata": {},
   "outputs": [
    {
     "name": "stdout",
     "output_type": "stream",
     "text": [
      "Threshold for recall ≥ 0.8: 0.8720, Precision=0.050\n"
     ]
    }
   ],
   "source": [
    "from sklearn.linear_model import LogisticRegression\n",
    "from src.train import get_logits_and_labels\n",
    "\n",
    "val_logits, val_labels = get_logits_and_labels(model, val_loader)\n",
    "test_logits, test_labels = get_logits_and_labels(model, test_loader)\n",
    "val_scores = torch.sigmoid(torch.tensor(val_logits)).numpy()\n",
    "test_scores = torch.sigmoid(torch.tensor(test_logits)).numpy()\n",
    "\n",
    "# === 2. Platt scaling (logistic regression) ===\n",
    "platt = LogisticRegression(solver='lbfgs', class_weight='balanced')\n",
    "platt.fit(val_logits.reshape(-1, 1), val_labels)  # 強調正樣本\n",
    "pickle.dump(platt, open(\"model/platt_scaler.pkl\", \"wb\"))\n",
    "\n",
    "# === 3. 校準分數 ===\n",
    "val_probs_calibrated = platt.predict_proba(val_logits.reshape(-1, 1))[:, 1]\n",
    "test_probs_calibrated = platt.predict_proba(test_logits.reshape(-1, 1))[:, 1]\n",
    "\n",
    "# === 4. 在 val 上找最佳門檻 ===\n",
    "from sklearn.metrics import precision_recall_curve\n",
    "\n",
    "precision, recall, thresholds = precision_recall_curve(val_labels, val_probs_calibrated)\n",
    "\n",
    "target_recall = 0.8\n",
    "best_idx = next(i for i,r in enumerate(recall) if r < target_recall) - 1\n",
    "best_threshold = thresholds[best_idx]\n",
    "print(f\"Threshold for recall ≥ {target_recall}: {best_threshold:.4f}, Precision={precision[best_idx]:.3f}\")\n",
    "\n",
    "# === 5. 在 test set 上套用門檻 ===\n",
    "test_preds = (test_probs_calibrated >= best_threshold).astype(int)\n",
    "val_preds = (val_probs_calibrated >= best_threshold).astype(int)"
   ]
  },
  {
   "cell_type": "code",
   "execution_count": 50,
   "id": "7f19efe9",
   "metadata": {},
   "outputs": [
    {
     "name": "stdout",
     "output_type": "stream",
     "text": [
      "Performance on Validation Set:\n",
      "              precision    recall  f1-score   support\n",
      "\n",
      "      Normal       1.00      0.92      0.96     11210\n",
      "     Failure       0.05      0.80      0.09        60\n",
      "\n",
      "    accuracy                           0.92     11270\n",
      "   macro avg       0.52      0.86      0.53     11270\n",
      "weighted avg       0.99      0.92      0.95     11270\n",
      "\n",
      "[[10299   911]\n",
      " [   12    48]]\n",
      "ROC AUC: 0.9535\n"
     ]
    },
    {
     "data": {
      "image/png": "[encoded data removed]",
      "text/plain": [
       "<Figure size 800x600 with 1 Axes>"
      ]
     },
     "metadata": {},
     "output_type": "display_data"
    }
   ],
   "source": [
    "print(\"Performance on Validation Set:\")\n",
    "generate_report(val_labels, val_preds, val_probs_calibrated,)"
   ]
  }
 ],
 "metadata": {
  "kernelspec": {
   "display_name": "Python 3",
   "language": "python",
   "name": "python3"
  },
  "language_info": {
   "codemirror_mode": {
    "name": "ipython",
    "version": 3
   },
   "file_extension": ".py",
   "mimetype": "text/x-python",
   "name": "python",
   "nbconvert_exporter": "python",
   "pygments_lexer": "ipython3",
   "version": "3.10.11"
  }
 },
 "nbformat": 4,
 "nbformat_minor": 5
}

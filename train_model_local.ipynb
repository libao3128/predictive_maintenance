{
 "cells": [
  {
   "cell_type": "code",
   "execution_count": 30,
   "id": "5633ed8e",
   "metadata": {},
   "outputs": [],
   "source": [
    "import pandas as pd\n",
    "from src.train import *\n",
    "from src.model import CNNLSTMModel\n",
    "from src.dataset import *\n",
    "from src.preprocess import *\n",
    "from src.visualize import *\n",
    "import torch"
   ]
  },
  {
   "cell_type": "markdown",
   "id": "fcf3d759",
   "metadata": {},
   "source": [
    "## Hyper-Parameter"
   ]
  },
  {
   "cell_type": "code",
   "execution_count": 31,
   "id": "5f407469",
   "metadata": {},
   "outputs": [],
   "source": [
    "performe_visualization = True"
   ]
  },
  {
   "cell_type": "code",
   "execution_count": 32,
   "id": "37ac0a88",
   "metadata": {},
   "outputs": [],
   "source": [
    "# some important parameters\n",
    "pre_day = 5\n",
    "window_size = 12*24*7 # 5 minutes * 12 * 24 = 1 day\n",
    "stride = 12 # 1 hour stride\n",
    "\n",
    "feature_cols = [\n",
    "    #\"metric.STATUS_AC_MOD_ADMISSION_TEMP.MEASURED\",  # ambient temperature\n",
    "    #\"metric.STATUS_INTERNAL_TEMP.MEASURED\",          # internal temperature\n",
    "    \"metric.AC_VOLTAGE_AB.MEASURED\",                 # AC voltage\n",
    "    \"metric.AC_VOLTAGE_BC.MEASURED\",                 # AC voltage\n",
    "    \"metric.AC_VOLTAGE_CA.MEASURED\",                 # AC voltage\n",
    "    \"metric.DC_VOLTAGE.MEASURED\",                  # DC voltage\n",
    "    \"metric.AC_POWER.MEASURED\",                     # AC power\n",
    "]\n",
    "\n",
    "exclude_periods = [\n",
    "    [pd.Timestamp('2021-01-01'), pd.Timestamp('2021-12-23')], # data collection issue\n",
    "    [pd.Timestamp('2023-02-23'), pd.Timestamp('2023-08-26')], # anomalies in the data\n",
    "]"
   ]
  },
  {
   "cell_type": "markdown",
   "id": "dc771650",
   "metadata": {},
   "source": [
    "## Data Preprocessing\n",
    "### Load Data"
   ]
  },
  {
   "cell_type": "code",
   "execution_count": 33,
   "id": "9dfd396c",
   "metadata": {},
   "outputs": [
    {
     "name": "stdout",
     "output_type": "stream",
     "text": [
      "Loaded 15 parquet files → 6126272 rows\n",
      "Kept 61 sessions longer than 3 days\n"
     ]
    }
   ],
   "source": [
    "inverter_data = load_parquet_data('data/inverter_data')\n",
    "failure_sessions = load_failure_sessions('data/failure_sessions_w_maintenance.csv', min_days=3)"
   ]
  },
  {
   "cell_type": "code",
   "execution_count": 34,
   "id": "fdae2515",
   "metadata": {},
   "outputs": [
    {
     "data": {
      "application/vnd.plotly.v1+json": {
       "config": {
        "plotlyServerURL": "https://plot.ly"
       },
       "data": [
        {
         "alignmentgroup": "True",
         "base": [
          "2023-03-17T17:10:00",
          "2025-04-20T13:35:00",
          "2022-11-07T06:35:00",
          "2022-08-03T15:50:00",
          "2022-12-26T16:45:00",
          "2025-04-20T11:20:00",
          "2022-11-06T16:50:00",
          "2022-12-26T16:45:00",
          "2022-08-03T15:50:00",
          "2023-05-29T05:40:00",
          "2023-03-17T17:10:00",
          "2025-04-20T10:35:00",
          "2023-03-17T17:10:00",
          "2022-07-28T09:55:00",
          "2023-05-29T05:40:00",
          "2023-03-17T17:10:00",
          "2025-04-20T11:20:00",
          "2022-11-06T16:50:00",
          "2022-07-28T10:05:00",
          "2023-05-29T05:40:00",
          "2025-05-05T10:25:00",
          "2022-12-26T16:45:00",
          "2023-03-17T17:10:00",
          "2025-04-20T10:35:00",
          "2022-11-06T16:50:00",
          "2022-07-28T10:05:00",
          "2023-05-29T05:40:00",
          "2025-05-05T10:25:00",
          "2025-05-05T10:25:00"
         ],
         "customdata": [
          [
           0,
           "2023-03-17T17:10:00",
           "2023-03-21T12:20:00",
           91.16666666666667,
           false,
           "Planned (maintenance)"
          ],
          [
           2,
           "2025-04-20T13:35:00",
           "2025-05-23T15:00:00",
           793.4166666666666,
           false,
           "Planned (maintenance)"
          ],
          [
           3,
           "2022-11-07T06:35:00",
           "2022-11-10T10:05:00",
           75.5,
           false,
           "Planned (maintenance)"
          ],
          [
           5,
           "2022-08-03T15:50:00",
           "2022-08-08T13:35:00",
           117.75,
           false,
           "Planned (maintenance)"
          ],
          [
           6,
           "2022-12-26T16:45:00",
           "2022-12-30T09:10:00",
           88.41666666666667,
           false,
           "Planned (maintenance)"
          ],
          [
           16,
           "2025-04-20T11:20:00",
           "2025-05-11T06:55:00",
           499.5833333333333,
           false,
           "Planned (maintenance)"
          ],
          [
           17,
           "2022-11-06T16:50:00",
           "2022-11-10T10:35:00",
           89.75,
           false,
           "Planned (maintenance)"
          ],
          [
           19,
           "2022-12-26T16:45:00",
           "2022-12-30T09:05:00",
           88.33333333333333,
           false,
           "Planned (maintenance)"
          ],
          [
           23,
           "2022-08-03T15:50:00",
           "2022-08-08T13:25:00",
           117.58333333333333,
           false,
           "Planned (maintenance)"
          ],
          [
           24,
           "2023-05-29T05:40:00",
           "2023-07-22T10:00:00",
           1300.3333333333333,
           false,
           "Planned (maintenance)"
          ],
          [
           27,
           "2023-03-17T17:10:00",
           "2023-03-24T11:05:00",
           161.91666666666666,
           false,
           "Planned (maintenance)"
          ],
          [
           29,
           "2025-04-20T10:35:00",
           "2025-05-11T06:55:00",
           500.3333333333333,
           false,
           "Planned (maintenance)"
          ],
          [
           32,
           "2023-03-17T17:10:00",
           "2023-03-22T08:50:00",
           111.66666666666667,
           false,
           "Planned (maintenance)"
          ],
          [
           33,
           "2022-07-28T09:55:00",
           "2022-08-16T17:00:00",
           463.0833333333333,
           false,
           "Planned (maintenance)"
          ],
          [
           34,
           "2023-05-29T05:40:00",
           "2023-06-16T14:05:00",
           440.4166666666667,
           false,
           "Planned (maintenance)"
          ],
          [
           36,
           "2023-03-17T17:10:00",
           "2023-03-24T10:35:00",
           161.41666666666666,
           false,
           "Planned (maintenance)"
          ],
          [
           38,
           "2025-04-20T11:20:00",
           "2025-05-11T06:55:00",
           499.5833333333333,
           false,
           "Planned (maintenance)"
          ],
          [
           39,
           "2022-11-06T16:50:00",
           "2022-11-10T11:05:00",
           90.25,
           false,
           "Planned (maintenance)"
          ],
          [
           41,
           "2022-07-28T10:05:00",
           "2022-08-16T12:55:00",
           458.8333333333333,
           false,
           "Planned (maintenance)"
          ],
          [
           42,
           "2023-05-29T05:40:00",
           "2023-06-16T14:25:00",
           440.75,
           false,
           "Planned (maintenance)"
          ],
          [
           43,
           "2025-05-05T10:25:00",
           "2025-06-03T11:00:00",
           696.5833333333334,
           false,
           "Planned (maintenance)"
          ],
          [
           45,
           "2022-12-26T16:45:00",
           "2022-12-30T09:10:00",
           88.41666666666667,
           false,
           "Planned (maintenance)"
          ],
          [
           46,
           "2023-03-17T17:10:00",
           "2023-03-31T13:35:00",
           332.4166666666667,
           false,
           "Planned (maintenance)"
          ],
          [
           47,
           "2025-04-20T10:35:00",
           "2025-05-11T07:15:00",
           500.6666666666667,
           false,
           "Planned (maintenance)"
          ],
          [
           50,
           "2022-11-06T16:50:00",
           "2022-11-10T11:15:00",
           90.41666666666667,
           false,
           "Planned (maintenance)"
          ],
          [
           51,
           "2022-07-28T10:05:00",
           "2022-09-29T08:20:00",
           1510.25,
           false,
           "Planned (maintenance)"
          ],
          [
           53,
           "2023-05-29T05:40:00",
           "2023-06-16T14:25:00",
           440.75,
           false,
           "Planned (maintenance)"
          ],
          [
           56,
           "2025-05-05T10:25:00",
           "2025-05-28T12:10:00",
           553.75,
           false,
           "Planned (maintenance)"
          ],
          [
           60,
           "2025-05-05T10:25:00",
           "2025-05-28T05:50:00",
           547.4166666666666,
           false,
           "Planned (maintenance)"
          ]
         ],
         "hovertemplate": "<b>%{y}</b><br>Start: %{customdata[1]|%Y-%m-%d %H:%M}<br>End: %{customdata[2]|%Y-%m-%d %H:%M}<br>Duration (hrs): %{customdata[3]:.2f}<br>",
         "legendgroup": "Planned (maintenance)",
         "marker": {
          "color": "#6b7280",
          "line": {
           "color": "rgba(30,30,60,0.55)",
           "width": 1.5
          },
          "pattern": {
           "shape": ""
          }
         },
         "name": "Planned (maintenance)",
         "offsetgroup": "Planned (maintenance)",
         "opacity": 0.98,
         "orientation": "h",
         "showlegend": true,
         "textposition": "auto",
         "type": "bar",
         "x": [
          328200000,
          2856300000,
          271800000,
          423900000,
          318300000,
          1798500000,
          323100000,
          318000000,
          423300000,
          4681200000,
          582900000,
          1801200000,
          402000000,
          1667100000,
          1585500000,
          581100000,
          1798500000,
          324900000,
          1651800000,
          1586700000,
          2507700000,
          318300000,
          1196700000,
          1802400000,
          325500000,
          5436900000,
          1586700000,
          1993500000,
          1970700000
         ],
         "xaxis": "x",
         "y": [
          "INV 51",
          "INV 51",
          "INV 52",
          "INV 53",
          "INV 53",
          "INV 54",
          "INV 55",
          "INV 55",
          "INV 56",
          "INV 56",
          "INV 57",
          "INV 57",
          "INV 58",
          "INV 59",
          "INV 59",
          "INV 60",
          "INV 60",
          "INV 61",
          "INV 62",
          "INV 62",
          "INV 62",
          "INV 63",
          "INV 63",
          "INV 63",
          "INV 64",
          "INV 65",
          "INV 65",
          "INV 65",
          "INV 66"
         ],
         "yaxis": "y"
        },
        {
         "alignmentgroup": "True",
         "base": [
          "2024-04-25T12:55:00",
          "2025-03-29T13:55:00",
          "2023-07-23T12:10:00",
          "2022-08-09T11:10:00",
          "2022-09-10T14:45:00",
          "2022-12-01T11:55:00",
          "2023-01-02T16:40:00",
          "2023-01-14T07:45:00",
          "2023-07-01T14:15:00",
          "2023-12-28T15:30:00",
          "2025-04-13T16:10:00",
          "2022-12-22T16:25:00",
          "2023-01-02T15:20:00",
          "2023-01-09T15:20:00",
          "2025-04-23T14:35:00",
          "2023-07-26T06:55:00",
          "2024-03-02T10:55:00",
          "2024-08-31T06:30:00",
          "2022-08-26T19:35:00",
          "2022-09-29T09:30:00",
          "2024-02-15T08:10:00",
          "2024-08-23T19:30:00",
          "2024-05-03T09:00:00",
          "2025-06-28T10:20:00",
          "2022-03-03T17:35:00",
          "2022-07-07T15:30:00",
          "2023-04-28T10:25:00",
          "2024-02-11T08:10:00",
          "2025-04-27T17:55:00",
          "2022-07-30T20:05:00",
          "2023-03-25T17:20:00",
          "2024-08-13T07:05:00"
         ],
         "customdata": [
          [
           1,
           "2024-04-25T12:55:00",
           "2024-04-30T08:00:00",
           115.08333333333333,
           false,
           "Unplanned failure"
          ],
          [
           4,
           "2025-03-29T13:55:00",
           "2025-04-04T12:30:00",
           142.58333333333334,
           false,
           "Unplanned failure"
          ],
          [
           7,
           "2023-07-23T12:10:00",
           "2023-07-28T08:05:00",
           115.91666666666667,
           false,
           "Unplanned failure"
          ],
          [
           8,
           "2022-08-09T11:10:00",
           "2022-08-12T11:40:00",
           72.5,
           false,
           "Unplanned failure"
          ],
          [
           9,
           "2022-09-10T14:45:00",
           "2022-09-14T07:45:00",
           89,
           false,
           "Unplanned failure"
          ],
          [
           10,
           "2022-12-01T11:55:00",
           "2022-12-06T10:40:00",
           118.75,
           false,
           "Unplanned failure"
          ],
          [
           11,
           "2023-01-02T16:40:00",
           "2023-01-13T11:20:00",
           258.6666666666667,
           false,
           "Unplanned failure"
          ],
          [
           12,
           "2023-01-14T07:45:00",
           "2023-01-26T12:55:00",
           293.1666666666667,
           false,
           "Unplanned failure"
          ],
          [
           13,
           "2023-07-01T14:15:00",
           "2023-07-06T11:40:00",
           117.41666666666667,
           false,
           "Unplanned failure"
          ],
          [
           14,
           "2023-12-28T15:30:00",
           "2024-01-02T09:05:00",
           113.58333333333333,
           false,
           "Unplanned failure"
          ],
          [
           15,
           "2025-04-13T16:10:00",
           "2025-04-17T10:10:00",
           90,
           false,
           "Unplanned failure"
          ],
          [
           18,
           "2022-12-22T16:25:00",
           "2022-12-26T10:30:00",
           90.08333333333333,
           false,
           "Unplanned failure"
          ],
          [
           20,
           "2023-01-02T15:20:00",
           "2023-01-07T09:40:00",
           114.33333333333333,
           false,
           "Unplanned failure"
          ],
          [
           21,
           "2023-01-09T15:20:00",
           "2023-01-13T11:50:00",
           92.5,
           false,
           "Unplanned failure"
          ],
          [
           22,
           "2025-04-23T14:35:00",
           "2025-05-01T09:05:00",
           186.5,
           false,
           "Unplanned failure"
          ],
          [
           25,
           "2023-07-26T06:55:00",
           "2023-08-02T13:00:00",
           174.08333333333334,
           false,
           "Unplanned failure"
          ],
          [
           26,
           "2024-03-02T10:55:00",
           "2024-03-06T10:30:00",
           95.58333333333333,
           false,
           "Unplanned failure"
          ],
          [
           28,
           "2024-08-31T06:30:00",
           "2024-09-06T11:10:00",
           148.66666666666666,
           false,
           "Unplanned failure"
          ],
          [
           30,
           "2022-08-26T19:35:00",
           "2022-08-30T09:05:00",
           85.5,
           false,
           "Unplanned failure"
          ],
          [
           31,
           "2022-09-29T09:30:00",
           "2022-11-15T12:25:00",
           1130.9166666666667,
           false,
           "Unplanned failure"
          ],
          [
           35,
           "2024-02-15T08:10:00",
           "2024-02-20T10:20:00",
           122.16666666666667,
           false,
           "Unplanned failure"
          ],
          [
           37,
           "2024-08-23T19:30:00",
           "2024-08-28T12:20:00",
           112.83333333333333,
           false,
           "Unplanned failure"
          ],
          [
           40,
           "2024-05-03T09:00:00",
           "2024-05-09T12:50:00",
           147.83333333333334,
           false,
           "Unplanned failure"
          ],
          [
           44,
           "2025-06-28T10:20:00",
           "2025-07-02T07:35:00",
           93.25,
           false,
           "Unplanned failure"
          ],
          [
           48,
           "2022-03-03T17:35:00",
           "2022-03-07T11:50:00",
           90.25,
           false,
           "Unplanned failure"
          ],
          [
           49,
           "2022-07-07T15:30:00",
           "2022-07-11T12:10:00",
           92.66666666666667,
           false,
           "Unplanned failure"
          ],
          [
           52,
           "2023-04-28T10:25:00",
           "2023-05-02T09:55:00",
           95.5,
           false,
           "Unplanned failure"
          ],
          [
           54,
           "2024-02-11T08:10:00",
           "2024-02-15T11:55:00",
           99.75,
           false,
           "Unplanned failure"
          ],
          [
           55,
           "2025-04-27T17:55:00",
           "2025-05-02T12:40:00",
           114.75,
           false,
           "Unplanned failure"
          ],
          [
           57,
           "2022-07-30T20:05:00",
           "2022-08-03T13:20:00",
           89.25,
           false,
           "Unplanned failure"
          ],
          [
           58,
           "2023-03-25T17:20:00",
           "2023-06-28T10:05:00",
           2272.75,
           false,
           "Unplanned failure"
          ],
          [
           59,
           "2024-08-13T07:05:00",
           "2024-08-16T11:55:00",
           76.83333333333333,
           false,
           "Unplanned failure"
          ]
         ],
         "hovertemplate": "<b>%{y}</b><br>Start: %{customdata[1]|%Y-%m-%d %H:%M}<br>End: %{customdata[2]|%Y-%m-%d %H:%M}<br>Duration (hrs): %{customdata[3]:.2f}<br>",
         "legendgroup": "Unplanned failure",
         "marker": {
          "color": "#2563eb",
          "line": {
           "color": "rgba(30,30,60,0.55)",
           "width": 1.5
          },
          "pattern": {
           "shape": ""
          }
         },
         "name": "Unplanned failure",
         "offsetgroup": "Unplanned failure",
         "opacity": 0.98,
         "orientation": "h",
         "showlegend": true,
         "textposition": "auto",
         "type": "bar",
         "x": [
          414300000,
          513300000,
          417300000,
          261000000,
          320400000,
          427500000,
          931200000,
          1055400000,
          422700000,
          408900000,
          324000000,
          324300000,
          411600000,
          333000000,
          671400000,
          626700000,
          344100000,
          535200000,
          307800000,
          4071300000,
          439800000,
          406200000,
          532200000,
          335700000,
          324900000,
          333600000,
          343800000,
          359100000,
          413100000,
          321300000,
          8181900000,
          276600000
         ],
         "xaxis": "x",
         "y": [
          "INV 51",
          "INV 52",
          "INV 53",
          "INV 54",
          "INV 54",
          "INV 54",
          "INV 54",
          "INV 54",
          "INV 54",
          "INV 54",
          "INV 54",
          "INV 55",
          "INV 55",
          "INV 55",
          "INV 55",
          "INV 56",
          "INV 56",
          "INV 57",
          "INV 58",
          "INV 58",
          "INV 59",
          "INV 60",
          "INV 61",
          "INV 62",
          "INV 64",
          "INV 64",
          "INV 65",
          "INV 65",
          "INV 65",
          "INV 66",
          "INV 66",
          "INV 66"
         ],
         "yaxis": "y"
        }
       ],
       "layout": {
        "bargap": 0.25,
        "barmode": "overlay",
        "height": 620,
        "legend": {
         "title": {
          "text": "Event Type"
         },
         "tracegroupgap": 0
        },
        "margin": {
         "b": 40,
         "l": 70,
         "r": 30,
         "t": 60
        },
        "template": {
         "data": {
          "bar": [
           {
            "error_x": {
             "color": "#2a3f5f"
            },
            "error_y": {
             "color": "#2a3f5f"
            },
            "marker": {
             "line": {
              "color": "white",
              "width": 0.5
             },
             "pattern": {
              "fillmode": "overlay",
              "size": 10,
              "solidity": 0.2
             }
            },
            "type": "bar"
           }
          ],
          "barpolar": [
           {
            "marker": {
             "line": {
              "color": "white",
              "width": 0.5
             },
             "pattern": {
              "fillmode": "overlay",
              "size": 10,
              "solidity": 0.2
             }
            },
            "type": "barpolar"
           }
          ],
          "carpet": [
           {
            "aaxis": {
             "endlinecolor": "#2a3f5f",
             "gridcolor": "#C8D4E3",
             "linecolor": "#C8D4E3",
             "minorgridcolor": "#C8D4E3",
             "startlinecolor": "#2a3f5f"
            },
            "baxis": {
             "endlinecolor": "#2a3f5f",
             "gridcolor": "#C8D4E3",
             "linecolor": "#C8D4E3",
             "minorgridcolor": "#C8D4E3",
             "startlinecolor": "#2a3f5f"
            },
            "type": "carpet"
           }
          ],
          "choropleth": [
           {
            "colorbar": {
             "outlinewidth": 0,
             "ticks": ""
            },
            "type": "choropleth"
           }
          ],
          "contour": [
           {
            "colorbar": {
             "outlinewidth": 0,
             "ticks": ""
            },
            "colorscale": [
             [
              0,
              "#0d0887"
             ],
             [
              0.1111111111111111,
              "#46039f"
             ],
             [
              0.2222222222222222,
              "#7201a8"
             ],
             [
              0.3333333333333333,
              "#9c179e"
             ],
             [
              0.4444444444444444,
              "#bd3786"
             ],
             [
              0.5555555555555556,
              "#d8576b"
             ],
             [
              0.6666666666666666,
              "#ed7953"
             ],
             [
              0.7777777777777778,
              "#fb9f3a"
             ],
             [
              0.8888888888888888,
              "#fdca26"
             ],
             [
              1,
              "#f0f921"
             ]
            ],
            "type": "contour"
           }
          ],
          "contourcarpet": [
           {
            "colorbar": {
             "outlinewidth": 0,
             "ticks": ""
            },
            "type": "contourcarpet"
           }
          ],
          "heatmap": [
           {
            "colorbar": {
             "outlinewidth": 0,
             "ticks": ""
            },
            "colorscale": [
             [
              0,
              "#0d0887"
             ],
             [
              0.1111111111111111,
              "#46039f"
             ],
             [
              0.2222222222222222,
              "#7201a8"
             ],
             [
              0.3333333333333333,
              "#9c179e"
             ],
             [
              0.4444444444444444,
              "#bd3786"
             ],
             [
              0.5555555555555556,
              "#d8576b"
             ],
             [
              0.6666666666666666,
              "#ed7953"
             ],
             [
              0.7777777777777778,
              "#fb9f3a"
             ],
             [
              0.8888888888888888,
              "#fdca26"
             ],
             [
              1,
              "#f0f921"
             ]
            ],
            "type": "heatmap"
           }
          ],
          "heatmapgl": [
           {
            "colorbar": {
             "outlinewidth": 0,
             "ticks": ""
            },
            "colorscale": [
             [
              0,
              "#0d0887"
             ],
             [
              0.1111111111111111,
              "#46039f"
             ],
             [
              0.2222222222222222,
              "#7201a8"
             ],
             [
              0.3333333333333333,
              "#9c179e"
             ],
             [
              0.4444444444444444,
              "#bd3786"
             ],
             [
              0.5555555555555556,
              "#d8576b"
             ],
             [
              0.6666666666666666,
              "#ed7953"
             ],
             [
              0.7777777777777778,
              "#fb9f3a"
             ],
             [
              0.8888888888888888,
              "#fdca26"
             ],
             [
              1,
              "#f0f921"
             ]
            ],
            "type": "heatmapgl"
           }
          ],
          "histogram": [
           {
            "marker": {
             "pattern": {
              "fillmode": "overlay",
              "size": 10,
              "solidity": 0.2
             }
            },
            "type": "histogram"
           }
          ],
          "histogram2d": [
           {
            "colorbar": {
             "outlinewidth": 0,
             "ticks": ""
            },
            "colorscale": [
             [
              0,
              "#0d0887"
             ],
             [
              0.1111111111111111,
              "#46039f"
             ],
             [
              0.2222222222222222,
              "#7201a8"
             ],
             [
              0.3333333333333333,
              "#9c179e"
             ],
             [
              0.4444444444444444,
              "#bd3786"
             ],
             [
              0.5555555555555556,
              "#d8576b"
             ],
             [
              0.6666666666666666,
              "#ed7953"
             ],
             [
              0.7777777777777778,
              "#fb9f3a"
             ],
             [
              0.8888888888888888,
              "#fdca26"
             ],
             [
              1,
              "#f0f921"
             ]
            ],
            "type": "histogram2d"
           }
          ],
          "histogram2dcontour": [
           {
            "colorbar": {
             "outlinewidth": 0,
             "ticks": ""
            },
            "colorscale": [
             [
              0,
              "#0d0887"
             ],
             [
              0.1111111111111111,
              "#46039f"
             ],
             [
              0.2222222222222222,
              "#7201a8"
             ],
             [
              0.3333333333333333,
              "#9c179e"
             ],
             [
              0.4444444444444444,
              "#bd3786"
             ],
             [
              0.5555555555555556,
              "#d8576b"
             ],
             [
              0.6666666666666666,
              "#ed7953"
             ],
             [
              0.7777777777777778,
              "#fb9f3a"
             ],
             [
              0.8888888888888888,
              "#fdca26"
             ],
             [
              1,
              "#f0f921"
             ]
            ],
            "type": "histogram2dcontour"
           }
          ],
          "mesh3d": [
           {
            "colorbar": {
             "outlinewidth": 0,
             "ticks": ""
            },
            "type": "mesh3d"
           }
          ],
          "parcoords": [
           {
            "line": {
             "colorbar": {
              "outlinewidth": 0,
              "ticks": ""
             }
            },
            "type": "parcoords"
           }
          ],
          "pie": [
           {
            "automargin": true,
            "type": "pie"
           }
          ],
          "scatter": [
           {
            "fillpattern": {
             "fillmode": "overlay",
             "size": 10,
             "solidity": 0.2
            },
            "type": "scatter"
           }
          ],
          "scatter3d": [
           {
            "line": {
             "colorbar": {
              "outlinewidth": 0,
              "ticks": ""
             }
            },
            "marker": {
             "colorbar": {
              "outlinewidth": 0,
              "ticks": ""
             }
            },
            "type": "scatter3d"
           }
          ],
          "scattercarpet": [
           {
            "marker": {
             "colorbar": {
              "outlinewidth": 0,
              "ticks": ""
             }
            },
            "type": "scattercarpet"
           }
          ],
          "scattergeo": [
           {
            "marker": {
             "colorbar": {
              "outlinewidth": 0,
              "ticks": ""
             }
            },
            "type": "scattergeo"
           }
          ],
          "scattergl": [
           {
            "marker": {
             "colorbar": {
              "outlinewidth": 0,
              "ticks": ""
             }
            },
            "type": "scattergl"
           }
          ],
          "scattermapbox": [
           {
            "marker": {
             "colorbar": {
              "outlinewidth": 0,
              "ticks": ""
             }
            },
            "type": "scattermapbox"
           }
          ],
          "scatterpolar": [
           {
            "marker": {
             "colorbar": {
              "outlinewidth": 0,
              "ticks": ""
             }
            },
            "type": "scatterpolar"
           }
          ],
          "scatterpolargl": [
           {
            "marker": {
             "colorbar": {
              "outlinewidth": 0,
              "ticks": ""
             }
            },
            "type": "scatterpolargl"
           }
          ],
          "scatterternary": [
           {
            "marker": {
             "colorbar": {
              "outlinewidth": 0,
              "ticks": ""
             }
            },
            "type": "scatterternary"
           }
          ],
          "surface": [
           {
            "colorbar": {
             "outlinewidth": 0,
             "ticks": ""
            },
            "colorscale": [
             [
              0,
              "#0d0887"
             ],
             [
              0.1111111111111111,
              "#46039f"
             ],
             [
              0.2222222222222222,
              "#7201a8"
             ],
             [
              0.3333333333333333,
              "#9c179e"
             ],
             [
              0.4444444444444444,
              "#bd3786"
             ],
             [
              0.5555555555555556,
              "#d8576b"
             ],
             [
              0.6666666666666666,
              "#ed7953"
             ],
             [
              0.7777777777777778,
              "#fb9f3a"
             ],
             [
              0.8888888888888888,
              "#fdca26"
             ],
             [
              1,
              "#f0f921"
             ]
            ],
            "type": "surface"
           }
          ],
          "table": [
           {
            "cells": {
             "fill": {
              "color": "#EBF0F8"
             },
             "line": {
              "color": "white"
             }
            },
            "header": {
             "fill": {
              "color": "#C8D4E3"
             },
             "line": {
              "color": "white"
             }
            },
            "type": "table"
           }
          ]
         },
         "layout": {
          "annotationdefaults": {
           "arrowcolor": "#2a3f5f",
           "arrowhead": 0,
           "arrowwidth": 1
          },
          "autotypenumbers": "strict",
          "coloraxis": {
           "colorbar": {
            "outlinewidth": 0,
            "ticks": ""
           }
          },
          "colorscale": {
           "diverging": [
            [
             0,
             "#8e0152"
            ],
            [
             0.1,
             "#c51b7d"
            ],
            [
             0.2,
             "#de77ae"
            ],
            [
             0.3,
             "#f1b6da"
            ],
            [
             0.4,
             "#fde0ef"
            ],
            [
             0.5,
             "#f7f7f7"
            ],
            [
             0.6,
             "#e6f5d0"
            ],
            [
             0.7,
             "#b8e186"
            ],
            [
             0.8,
             "#7fbc41"
            ],
            [
             0.9,
             "#4d9221"
            ],
            [
             1,
             "#276419"
            ]
           ],
           "sequential": [
            [
             0,
             "#0d0887"
            ],
            [
             0.1111111111111111,
             "#46039f"
            ],
            [
             0.2222222222222222,
             "#7201a8"
            ],
            [
             0.3333333333333333,
             "#9c179e"
            ],
            [
             0.4444444444444444,
             "#bd3786"
            ],
            [
             0.5555555555555556,
             "#d8576b"
            ],
            [
             0.6666666666666666,
             "#ed7953"
            ],
            [
             0.7777777777777778,
             "#fb9f3a"
            ],
            [
             0.8888888888888888,
             "#fdca26"
            ],
            [
             1,
             "#f0f921"
            ]
           ],
           "sequentialminus": [
            [
             0,
             "#0d0887"
            ],
            [
             0.1111111111111111,
             "#46039f"
            ],
            [
             0.2222222222222222,
             "#7201a8"
            ],
            [
             0.3333333333333333,
             "#9c179e"
            ],
            [
             0.4444444444444444,
             "#bd3786"
            ],
            [
             0.5555555555555556,
             "#d8576b"
            ],
            [
             0.6666666666666666,
             "#ed7953"
            ],
            [
             0.7777777777777778,
             "#fb9f3a"
            ],
            [
             0.8888888888888888,
             "#fdca26"
            ],
            [
             1,
             "#f0f921"
            ]
           ]
          },
          "colorway": [
           "#636efa",
           "#EF553B",
           "#00cc96",
           "#ab63fa",
           "#FFA15A",
           "#19d3f3",
           "#FF6692",
           "#B6E880",
           "#FF97FF",
           "#FECB52"
          ],
          "font": {
           "color": "#2a3f5f"
          },
          "geo": {
           "bgcolor": "white",
           "lakecolor": "white",
           "landcolor": "white",
           "showlakes": true,
           "showland": true,
           "subunitcolor": "#C8D4E3"
          },
          "hoverlabel": {
           "align": "left"
          },
          "hovermode": "closest",
          "mapbox": {
           "style": "light"
          },
          "paper_bgcolor": "white",
          "plot_bgcolor": "white",
          "polar": {
           "angularaxis": {
            "gridcolor": "#EBF0F8",
            "linecolor": "#EBF0F8",
            "ticks": ""
           },
           "bgcolor": "white",
           "radialaxis": {
            "gridcolor": "#EBF0F8",
            "linecolor": "#EBF0F8",
            "ticks": ""
           }
          },
          "scene": {
           "xaxis": {
            "backgroundcolor": "white",
            "gridcolor": "#DFE8F3",
            "gridwidth": 2,
            "linecolor": "#EBF0F8",
            "showbackground": true,
            "ticks": "",
            "zerolinecolor": "#EBF0F8"
           },
           "yaxis": {
            "backgroundcolor": "white",
            "gridcolor": "#DFE8F3",
            "gridwidth": 2,
            "linecolor": "#EBF0F8",
            "showbackground": true,
            "ticks": "",
            "zerolinecolor": "#EBF0F8"
           },
           "zaxis": {
            "backgroundcolor": "white",
            "gridcolor": "#DFE8F3",
            "gridwidth": 2,
            "linecolor": "#EBF0F8",
            "showbackground": true,
            "ticks": "",
            "zerolinecolor": "#EBF0F8"
           }
          },
          "shapedefaults": {
           "line": {
            "color": "#2a3f5f"
           }
          },
          "ternary": {
           "aaxis": {
            "gridcolor": "#DFE8F3",
            "linecolor": "#A2B1C6",
            "ticks": ""
           },
           "baxis": {
            "gridcolor": "#DFE8F3",
            "linecolor": "#A2B1C6",
            "ticks": ""
           },
           "bgcolor": "white",
           "caxis": {
            "gridcolor": "#DFE8F3",
            "linecolor": "#A2B1C6",
            "ticks": ""
           }
          },
          "title": {
           "x": 0.05
          },
          "xaxis": {
           "automargin": true,
           "gridcolor": "#EBF0F8",
           "linecolor": "#EBF0F8",
           "ticks": "",
           "title": {
            "standoff": 15
           },
           "zerolinecolor": "#EBF0F8",
           "zerolinewidth": 2
          },
          "yaxis": {
           "automargin": true,
           "gridcolor": "#EBF0F8",
           "linecolor": "#EBF0F8",
           "ticks": "",
           "title": {
            "standoff": 15
           },
           "zerolinecolor": "#EBF0F8",
           "zerolinewidth": 2
          }
         }
        },
        "title": {
         "text": "Failure Sessions Timeline"
        },
        "xaxis": {
         "anchor": "y",
         "domain": [
          0,
          1
         ],
         "rangeselector": {
          "buttons": [
           {
            "count": 7,
            "label": "1w",
            "step": "day",
            "stepmode": "backward"
           },
           {
            "count": 1,
            "label": "1m",
            "step": "month",
            "stepmode": "backward"
           },
           {
            "count": 3,
            "label": "3m",
            "step": "month",
            "stepmode": "backward"
           },
           {
            "count": 6,
            "label": "6m",
            "step": "month",
            "stepmode": "backward"
           },
           {
            "count": 1,
            "label": "1y",
            "step": "year",
            "stepmode": "backward"
           },
           {
            "step": "all"
           }
          ]
         },
         "rangeslider": {
          "visible": true
         },
         "showgrid": true,
         "type": "date"
        },
        "yaxis": {
         "anchor": "x",
         "autorange": "reversed",
         "categoryarray": [
          "INV 52",
          "INV 61",
          "INV 64",
          "INV 53",
          "INV 55",
          "INV 60",
          "INV 57",
          "INV 63",
          "INV 51",
          "INV 59",
          "INV 58",
          "INV 54",
          "INV 56",
          "INV 62",
          "INV 65",
          "INV 66"
         ],
         "categoryorder": "array",
         "domain": [
          0,
          1
         ],
         "title": {
          "text": "Device"
         }
        }
       }
      }
     },
     "metadata": {},
     "output_type": "display_data"
    }
   ],
   "source": [
    "visualize_failure_timeline(failure_sessions)"
   ]
  },
  {
   "cell_type": "code",
   "execution_count": 35,
   "id": "5fb6ee2e",
   "metadata": {},
   "outputs": [
    {
     "name": "stderr",
     "output_type": "stream",
     "text": [
      "Visualizing devices: 100%|██████████| 16/16 [00:50<00:00,  3.14s/it]"
     ]
    },
    {
     "name": "stdout",
     "output_type": "stream",
     "text": [
      "Visualization saved at visualization/raw_data/*.html\n"
     ]
    },
    {
     "name": "stderr",
     "output_type": "stream",
     "text": [
      "\n"
     ]
    }
   ],
   "source": [
    "if performe_visualization:\n",
    "    # Visualize the raw data\n",
    "    visualize_hourly_mean_values(inverter_data, failure_sessions, feature_cols, 'visualization', 'raw_data')"
   ]
  },
  {
   "cell_type": "code",
   "execution_count": 36,
   "id": "e1f7568a",
   "metadata": {},
   "outputs": [],
   "source": [
    "failure_sessions = failure_sessions[failure_sessions['maintenance'] == False]"
   ]
  },
  {
   "cell_type": "markdown",
   "id": "9db2330b",
   "metadata": {},
   "source": [
    "### Downsampling"
   ]
  },
  {
   "cell_type": "code",
   "execution_count": 37,
   "id": "58187d38",
   "metadata": {},
   "outputs": [],
   "source": [
    "filtered_data = inverter_data[['event_local_time', 'device_name'] + feature_cols].copy()"
   ]
  },
  {
   "cell_type": "code",
   "execution_count": 38,
   "id": "90f7584d",
   "metadata": {},
   "outputs": [
    {
     "name": "stdout",
     "output_type": "stream",
     "text": [
      "Downsampling 6126272 rows using following method: \n",
      "                          Column Aggregation\n",
      "0  metric.AC_VOLTAGE_AB.MEASURED        mean\n",
      "1  metric.AC_VOLTAGE_BC.MEASURED        mean\n",
      "2  metric.AC_VOLTAGE_CA.MEASURED        mean\n",
      "3     metric.DC_VOLTAGE.MEASURED        mean\n",
      "4       metric.AC_POWER.MEASURED        mean\n"
     ]
    }
   ],
   "source": [
    "downsampled_data = downsample_inverter_raw(filtered_data, drop_empty_bins=False)"
   ]
  },
  {
   "cell_type": "code",
   "execution_count": 39,
   "id": "24c047fa",
   "metadata": {},
   "outputs": [
    {
     "data": {
      "text/html": [
       "<div>\n",
       "<style scoped>\n",
       "    .dataframe tbody tr th:only-of-type {\n",
       "        vertical-align: middle;\n",
       "    }\n",
       "\n",
       "    .dataframe tbody tr th {\n",
       "        vertical-align: top;\n",
       "    }\n",
       "\n",
       "    .dataframe thead th {\n",
       "        text-align: right;\n",
       "    }\n",
       "</style>\n",
       "<table border=\"1\" class=\"dataframe\">\n",
       "  <thead>\n",
       "    <tr style=\"text-align: right;\">\n",
       "      <th></th>\n",
       "      <th>event_local_time</th>\n",
       "      <th>device_name</th>\n",
       "      <th>metric.AC_VOLTAGE_AB.MEASURED</th>\n",
       "      <th>metric.AC_VOLTAGE_BC.MEASURED</th>\n",
       "      <th>metric.AC_VOLTAGE_CA.MEASURED</th>\n",
       "      <th>metric.DC_VOLTAGE.MEASURED</th>\n",
       "      <th>metric.AC_POWER.MEASURED</th>\n",
       "    </tr>\n",
       "  </thead>\n",
       "  <tbody>\n",
       "    <tr>\n",
       "      <th>0</th>\n",
       "      <td>2021-12-02 00:00:00</td>\n",
       "      <td>INV 51</td>\n",
       "      <td>NaN</td>\n",
       "      <td>NaN</td>\n",
       "      <td>NaN</td>\n",
       "      <td>NaN</td>\n",
       "      <td>NaN</td>\n",
       "    </tr>\n",
       "    <tr>\n",
       "      <th>1</th>\n",
       "      <td>2021-12-02 00:30:00</td>\n",
       "      <td>INV 51</td>\n",
       "      <td>34600.000000</td>\n",
       "      <td>34600.000000</td>\n",
       "      <td>34600.000000</td>\n",
       "      <td>6552.686035</td>\n",
       "      <td>0.0</td>\n",
       "    </tr>\n",
       "    <tr>\n",
       "      <th>2</th>\n",
       "      <td>2021-12-02 01:00:00</td>\n",
       "      <td>INV 51</td>\n",
       "      <td>NaN</td>\n",
       "      <td>NaN</td>\n",
       "      <td>NaN</td>\n",
       "      <td>NaN</td>\n",
       "      <td>NaN</td>\n",
       "    </tr>\n",
       "    <tr>\n",
       "      <th>3</th>\n",
       "      <td>2021-12-02 01:30:00</td>\n",
       "      <td>INV 51</td>\n",
       "      <td>NaN</td>\n",
       "      <td>NaN</td>\n",
       "      <td>NaN</td>\n",
       "      <td>NaN</td>\n",
       "      <td>NaN</td>\n",
       "    </tr>\n",
       "    <tr>\n",
       "      <th>4</th>\n",
       "      <td>2021-12-02 02:00:00</td>\n",
       "      <td>INV 51</td>\n",
       "      <td>NaN</td>\n",
       "      <td>NaN</td>\n",
       "      <td>NaN</td>\n",
       "      <td>NaN</td>\n",
       "      <td>NaN</td>\n",
       "    </tr>\n",
       "    <tr>\n",
       "      <th>...</th>\n",
       "      <td>...</td>\n",
       "      <td>...</td>\n",
       "      <td>...</td>\n",
       "      <td>...</td>\n",
       "      <td>...</td>\n",
       "      <td>...</td>\n",
       "      <td>...</td>\n",
       "    </tr>\n",
       "    <tr>\n",
       "      <th>1021435</th>\n",
       "      <td>2025-07-23 21:30:00</td>\n",
       "      <td>INV 66</td>\n",
       "      <td>34283.332031</td>\n",
       "      <td>34283.332031</td>\n",
       "      <td>34283.332031</td>\n",
       "      <td>2.183333</td>\n",
       "      <td>0.0</td>\n",
       "    </tr>\n",
       "    <tr>\n",
       "      <th>1021436</th>\n",
       "      <td>2025-07-23 22:00:00</td>\n",
       "      <td>INV 66</td>\n",
       "      <td>34200.000000</td>\n",
       "      <td>34200.000000</td>\n",
       "      <td>34200.000000</td>\n",
       "      <td>2.037213</td>\n",
       "      <td>0.0</td>\n",
       "    </tr>\n",
       "    <tr>\n",
       "      <th>1021437</th>\n",
       "      <td>2025-07-23 22:30:00</td>\n",
       "      <td>INV 66</td>\n",
       "      <td>34300.746094</td>\n",
       "      <td>34300.746094</td>\n",
       "      <td>34300.746094</td>\n",
       "      <td>2.100000</td>\n",
       "      <td>0.0</td>\n",
       "    </tr>\n",
       "    <tr>\n",
       "      <th>1021438</th>\n",
       "      <td>2025-07-23 23:00:00</td>\n",
       "      <td>INV 66</td>\n",
       "      <td>34516.667969</td>\n",
       "      <td>34516.667969</td>\n",
       "      <td>34516.667969</td>\n",
       "      <td>2.263698</td>\n",
       "      <td>0.0</td>\n",
       "    </tr>\n",
       "    <tr>\n",
       "      <th>1021439</th>\n",
       "      <td>2025-07-23 23:30:00</td>\n",
       "      <td>INV 66</td>\n",
       "      <td>34600.000000</td>\n",
       "      <td>34600.000000</td>\n",
       "      <td>34600.000000</td>\n",
       "      <td>2.550000</td>\n",
       "      <td>0.0</td>\n",
       "    </tr>\n",
       "  </tbody>\n",
       "</table>\n",
       "<p>1021440 rows × 7 columns</p>\n",
       "</div>"
      ],
      "text/plain": [
       "           event_local_time device_name  metric.AC_VOLTAGE_AB.MEASURED  \\\n",
       "0       2021-12-02 00:00:00      INV 51                            NaN   \n",
       "1       2021-12-02 00:30:00      INV 51                   34600.000000   \n",
       "2       2021-12-02 01:00:00      INV 51                            NaN   \n",
       "3       2021-12-02 01:30:00      INV 51                            NaN   \n",
       "4       2021-12-02 02:00:00      INV 51                            NaN   \n",
       "...                     ...         ...                            ...   \n",
       "1021435 2025-07-23 21:30:00      INV 66                   34283.332031   \n",
       "1021436 2025-07-23 22:00:00      INV 66                   34200.000000   \n",
       "1021437 2025-07-23 22:30:00      INV 66                   34300.746094   \n",
       "1021438 2025-07-23 23:00:00      INV 66                   34516.667969   \n",
       "1021439 2025-07-23 23:30:00      INV 66                   34600.000000   \n",
       "\n",
       "         metric.AC_VOLTAGE_BC.MEASURED  metric.AC_VOLTAGE_CA.MEASURED  \\\n",
       "0                                  NaN                            NaN   \n",
       "1                         34600.000000                   34600.000000   \n",
       "2                                  NaN                            NaN   \n",
       "3                                  NaN                            NaN   \n",
       "4                                  NaN                            NaN   \n",
       "...                                ...                            ...   \n",
       "1021435                   34283.332031                   34283.332031   \n",
       "1021436                   34200.000000                   34200.000000   \n",
       "1021437                   34300.746094                   34300.746094   \n",
       "1021438                   34516.667969                   34516.667969   \n",
       "1021439                   34600.000000                   34600.000000   \n",
       "\n",
       "         metric.DC_VOLTAGE.MEASURED  metric.AC_POWER.MEASURED  \n",
       "0                               NaN                       NaN  \n",
       "1                       6552.686035                       0.0  \n",
       "2                               NaN                       NaN  \n",
       "3                               NaN                       NaN  \n",
       "4                               NaN                       NaN  \n",
       "...                             ...                       ...  \n",
       "1021435                    2.183333                       0.0  \n",
       "1021436                    2.037213                       0.0  \n",
       "1021437                    2.100000                       0.0  \n",
       "1021438                    2.263698                       0.0  \n",
       "1021439                    2.550000                       0.0  \n",
       "\n",
       "[1021440 rows x 7 columns]"
      ]
     },
     "execution_count": 39,
     "metadata": {},
     "output_type": "execute_result"
    }
   ],
   "source": [
    "downsampled_data"
   ]
  },
  {
   "cell_type": "code",
   "execution_count": 40,
   "id": "b2bd6c11",
   "metadata": {},
   "outputs": [
    {
     "name": "stderr",
     "output_type": "stream",
     "text": [
      "Visualizing devices: 100%|██████████| 16/16 [00:41<00:00,  2.58s/it]"
     ]
    },
    {
     "name": "stdout",
     "output_type": "stream",
     "text": [
      "Visualization saved at visualization/downsampled_data/*.html\n"
     ]
    },
    {
     "name": "stderr",
     "output_type": "stream",
     "text": [
      "\n"
     ]
    }
   ],
   "source": [
    "if performe_visualization or True:\n",
    "    # Visualize the downsampled data\n",
    "    visualize_hourly_mean_values(downsampled_data, failure_sessions, feature_cols, 'visualization', 'downsampled_data')"
   ]
  },
  {
   "cell_type": "markdown",
   "id": "03ae16f2",
   "metadata": {},
   "source": [
    "### Data Cleaning"
   ]
  },
  {
   "cell_type": "code",
   "execution_count": 41,
   "id": "7de9395d",
   "metadata": {},
   "outputs": [
    {
     "name": "stdout",
     "output_type": "stream",
     "text": [
      "inverter_data shape: (1021440, 7)\n",
      "Excluded 2 periods, remaining data size: 862464\n",
      "Excluded data shape: (862464, 7)\n"
     ]
    }
   ],
   "source": [
    "print(\"inverter_data shape:\", downsampled_data.shape)\n",
    "filtered_data = exclude_periods_from_data(downsampled_data, exclude_periods)\n",
    "print(\"Excluded data shape:\", filtered_data.shape)"
   ]
  },
  {
   "cell_type": "code",
   "execution_count": 42,
   "id": "82857f9d",
   "metadata": {},
   "outputs": [
    {
     "name": "stdout",
     "output_type": "stream",
     "text": [
      "failure_sessions shape: (32, 6)\n",
      "Excluded 2 periods, remaining data size: 27\n",
      "Excluded 2 periods, remaining data size: 27\n",
      "failure_sessions shape: (27, 7)\n"
     ]
    }
   ],
   "source": [
    "print(\"failure_sessions shape:\", failure_sessions.shape)\n",
    "failure_sessions['event_local_time'] = failure_sessions['start_time']\n",
    "filtered_sessions = exclude_periods_from_data(failure_sessions, exclude_periods)\n",
    "filtered_sessions['event_local_time'] = filtered_sessions['end_time']\n",
    "filtered_sessions = exclude_periods_from_data(filtered_sessions, exclude_periods)\n",
    "print(\"failure_sessions shape:\", filtered_sessions .shape)"
   ]
  },
  {
   "cell_type": "code",
   "execution_count": 43,
   "id": "7ecb503b",
   "metadata": {},
   "outputs": [
    {
     "data": {
      "application/vnd.plotly.v1+json": {
       "config": {
        "plotlyServerURL": "https://plot.ly"
       },
       "data": [
        {
         "alignmentgroup": "True",
         "base": [
          "2024-04-25T12:55:00",
          "2025-03-29T13:55:00",
          "2022-08-09T11:10:00",
          "2022-09-10T14:45:00",
          "2022-12-01T11:55:00",
          "2023-01-02T16:40:00",
          "2023-01-14T07:45:00",
          "2023-12-28T15:30:00",
          "2025-04-13T16:10:00",
          "2022-12-22T16:25:00",
          "2023-01-02T15:20:00",
          "2023-01-09T15:20:00",
          "2025-04-23T14:35:00",
          "2024-03-02T10:55:00",
          "2024-08-31T06:30:00",
          "2022-08-26T19:35:00",
          "2022-09-29T09:30:00",
          "2024-02-15T08:10:00",
          "2024-08-23T19:30:00",
          "2024-05-03T09:00:00",
          "2025-06-28T10:20:00",
          "2022-03-03T17:35:00",
          "2022-07-07T15:30:00",
          "2024-02-11T08:10:00",
          "2025-04-27T17:55:00",
          "2022-07-30T20:05:00",
          "2024-08-13T07:05:00"
         ],
         "customdata": [
          [
           1,
           "2024-04-25T12:55:00",
           "2024-04-30T08:00:00",
           115.08333333333333,
           false,
           "Unplanned failure"
          ],
          [
           4,
           "2025-03-29T13:55:00",
           "2025-04-04T12:30:00",
           142.58333333333334,
           false,
           "Unplanned failure"
          ],
          [
           8,
           "2022-08-09T11:10:00",
           "2022-08-12T11:40:00",
           72.5,
           false,
           "Unplanned failure"
          ],
          [
           9,
           "2022-09-10T14:45:00",
           "2022-09-14T07:45:00",
           89,
           false,
           "Unplanned failure"
          ],
          [
           10,
           "2022-12-01T11:55:00",
           "2022-12-06T10:40:00",
           118.75,
           false,
           "Unplanned failure"
          ],
          [
           11,
           "2023-01-02T16:40:00",
           "2023-01-13T11:20:00",
           258.6666666666667,
           false,
           "Unplanned failure"
          ],
          [
           12,
           "2023-01-14T07:45:00",
           "2023-01-26T12:55:00",
           293.1666666666667,
           false,
           "Unplanned failure"
          ],
          [
           14,
           "2023-12-28T15:30:00",
           "2024-01-02T09:05:00",
           113.58333333333333,
           false,
           "Unplanned failure"
          ],
          [
           15,
           "2025-04-13T16:10:00",
           "2025-04-17T10:10:00",
           90,
           false,
           "Unplanned failure"
          ],
          [
           18,
           "2022-12-22T16:25:00",
           "2022-12-26T10:30:00",
           90.08333333333333,
           false,
           "Unplanned failure"
          ],
          [
           20,
           "2023-01-02T15:20:00",
           "2023-01-07T09:40:00",
           114.33333333333333,
           false,
           "Unplanned failure"
          ],
          [
           21,
           "2023-01-09T15:20:00",
           "2023-01-13T11:50:00",
           92.5,
           false,
           "Unplanned failure"
          ],
          [
           22,
           "2025-04-23T14:35:00",
           "2025-05-01T09:05:00",
           186.5,
           false,
           "Unplanned failure"
          ],
          [
           26,
           "2024-03-02T10:55:00",
           "2024-03-06T10:30:00",
           95.58333333333333,
           false,
           "Unplanned failure"
          ],
          [
           28,
           "2024-08-31T06:30:00",
           "2024-09-06T11:10:00",
           148.66666666666666,
           false,
           "Unplanned failure"
          ],
          [
           30,
           "2022-08-26T19:35:00",
           "2022-08-30T09:05:00",
           85.5,
           false,
           "Unplanned failure"
          ],
          [
           31,
           "2022-09-29T09:30:00",
           "2022-11-15T12:25:00",
           1130.9166666666667,
           false,
           "Unplanned failure"
          ],
          [
           35,
           "2024-02-15T08:10:00",
           "2024-02-20T10:20:00",
           122.16666666666667,
           false,
           "Unplanned failure"
          ],
          [
           37,
           "2024-08-23T19:30:00",
           "2024-08-28T12:20:00",
           112.83333333333333,
           false,
           "Unplanned failure"
          ],
          [
           40,
           "2024-05-03T09:00:00",
           "2024-05-09T12:50:00",
           147.83333333333334,
           false,
           "Unplanned failure"
          ],
          [
           44,
           "2025-06-28T10:20:00",
           "2025-07-02T07:35:00",
           93.25,
           false,
           "Unplanned failure"
          ],
          [
           48,
           "2022-03-03T17:35:00",
           "2022-03-07T11:50:00",
           90.25,
           false,
           "Unplanned failure"
          ],
          [
           49,
           "2022-07-07T15:30:00",
           "2022-07-11T12:10:00",
           92.66666666666667,
           false,
           "Unplanned failure"
          ],
          [
           54,
           "2024-02-11T08:10:00",
           "2024-02-15T11:55:00",
           99.75,
           false,
           "Unplanned failure"
          ],
          [
           55,
           "2025-04-27T17:55:00",
           "2025-05-02T12:40:00",
           114.75,
           false,
           "Unplanned failure"
          ],
          [
           57,
           "2022-07-30T20:05:00",
           "2022-08-03T13:20:00",
           89.25,
           false,
           "Unplanned failure"
          ],
          [
           59,
           "2024-08-13T07:05:00",
           "2024-08-16T11:55:00",
           76.83333333333333,
           false,
           "Unplanned failure"
          ]
         ],
         "hovertemplate": "<b>%{y}</b><br>Start: %{customdata[1]|%Y-%m-%d %H:%M}<br>End: %{customdata[2]|%Y-%m-%d %H:%M}<br>Duration (hrs): %{customdata[3]:.2f}<br>",
         "legendgroup": "Unplanned failure",
         "marker": {
          "color": "#2563eb",
          "line": {
           "color": "rgba(30,30,60,0.55)",
           "width": 1.5
          },
          "pattern": {
           "shape": ""
          }
         },
         "name": "Unplanned failure",
         "offsetgroup": "Unplanned failure",
         "opacity": 0.98,
         "orientation": "h",
         "showlegend": true,
         "textposition": "auto",
         "type": "bar",
         "x": [
          414300000,
          513300000,
          261000000,
          320400000,
          427500000,
          931200000,
          1055400000,
          408900000,
          324000000,
          324300000,
          411600000,
          333000000,
          671400000,
          344100000,
          535200000,
          307800000,
          4071300000,
          439800000,
          406200000,
          532200000,
          335700000,
          324900000,
          333600000,
          359100000,
          413100000,
          321300000,
          276600000
         ],
         "xaxis": "x",
         "y": [
          "INV 51",
          "INV 52",
          "INV 54",
          "INV 54",
          "INV 54",
          "INV 54",
          "INV 54",
          "INV 54",
          "INV 54",
          "INV 55",
          "INV 55",
          "INV 55",
          "INV 55",
          "INV 56",
          "INV 57",
          "INV 58",
          "INV 58",
          "INV 59",
          "INV 60",
          "INV 61",
          "INV 62",
          "INV 64",
          "INV 64",
          "INV 65",
          "INV 65",
          "INV 66",
          "INV 66"
         ],
         "yaxis": "y"
        }
       ],
       "layout": {
        "bargap": 0.25,
        "barmode": "overlay",
        "height": 560,
        "legend": {
         "title": {
          "text": "Event Type"
         },
         "tracegroupgap": 0
        },
        "margin": {
         "b": 40,
         "l": 70,
         "r": 30,
         "t": 60
        },
        "template": {
         "data": {
          "bar": [
           {
            "error_x": {
             "color": "#2a3f5f"
            },
            "error_y": {
             "color": "#2a3f5f"
            },
            "marker": {
             "line": {
              "color": "white",
              "width": 0.5
             },
             "pattern": {
              "fillmode": "overlay",
              "size": 10,
              "solidity": 0.2
             }
            },
            "type": "bar"
           }
          ],
          "barpolar": [
           {
            "marker": {
             "line": {
              "color": "white",
              "width": 0.5
             },
             "pattern": {
              "fillmode": "overlay",
              "size": 10,
              "solidity": 0.2
             }
            },
            "type": "barpolar"
           }
          ],
          "carpet": [
           {
            "aaxis": {
             "endlinecolor": "#2a3f5f",
             "gridcolor": "#C8D4E3",
             "linecolor": "#C8D4E3",
             "minorgridcolor": "#C8D4E3",
             "startlinecolor": "#2a3f5f"
            },
            "baxis": {
             "endlinecolor": "#2a3f5f",
             "gridcolor": "#C8D4E3",
             "linecolor": "#C8D4E3",
             "minorgridcolor": "#C8D4E3",
             "startlinecolor": "#2a3f5f"
            },
            "type": "carpet"
           }
          ],
          "choropleth": [
           {
            "colorbar": {
             "outlinewidth": 0,
             "ticks": ""
            },
            "type": "choropleth"
           }
          ],
          "contour": [
           {
            "colorbar": {
             "outlinewidth": 0,
             "ticks": ""
            },
            "colorscale": [
             [
              0,
              "#0d0887"
             ],
             [
              0.1111111111111111,
              "#46039f"
             ],
             [
              0.2222222222222222,
              "#7201a8"
             ],
             [
              0.3333333333333333,
              "#9c179e"
             ],
             [
              0.4444444444444444,
              "#bd3786"
             ],
             [
              0.5555555555555556,
              "#d8576b"
             ],
             [
              0.6666666666666666,
              "#ed7953"
             ],
             [
              0.7777777777777778,
              "#fb9f3a"
             ],
             [
              0.8888888888888888,
              "#fdca26"
             ],
             [
              1,
              "#f0f921"
             ]
            ],
            "type": "contour"
           }
          ],
          "contourcarpet": [
           {
            "colorbar": {
             "outlinewidth": 0,
             "ticks": ""
            },
            "type": "contourcarpet"
           }
          ],
          "heatmap": [
           {
            "colorbar": {
             "outlinewidth": 0,
             "ticks": ""
            },
            "colorscale": [
             [
              0,
              "#0d0887"
             ],
             [
              0.1111111111111111,
              "#46039f"
             ],
             [
              0.2222222222222222,
              "#7201a8"
             ],
             [
              0.3333333333333333,
              "#9c179e"
             ],
             [
              0.4444444444444444,
              "#bd3786"
             ],
             [
              0.5555555555555556,
              "#d8576b"
             ],
             [
              0.6666666666666666,
              "#ed7953"
             ],
             [
              0.7777777777777778,
              "#fb9f3a"
             ],
             [
              0.8888888888888888,
              "#fdca26"
             ],
             [
              1,
              "#f0f921"
             ]
            ],
            "type": "heatmap"
           }
          ],
          "heatmapgl": [
           {
            "colorbar": {
             "outlinewidth": 0,
             "ticks": ""
            },
            "colorscale": [
             [
              0,
              "#0d0887"
             ],
             [
              0.1111111111111111,
              "#46039f"
             ],
             [
              0.2222222222222222,
              "#7201a8"
             ],
             [
              0.3333333333333333,
              "#9c179e"
             ],
             [
              0.4444444444444444,
              "#bd3786"
             ],
             [
              0.5555555555555556,
              "#d8576b"
             ],
             [
              0.6666666666666666,
              "#ed7953"
             ],
             [
              0.7777777777777778,
              "#fb9f3a"
             ],
             [
              0.8888888888888888,
              "#fdca26"
             ],
             [
              1,
              "#f0f921"
             ]
            ],
            "type": "heatmapgl"
           }
          ],
          "histogram": [
           {
            "marker": {
             "pattern": {
              "fillmode": "overlay",
              "size": 10,
              "solidity": 0.2
             }
            },
            "type": "histogram"
           }
          ],
          "histogram2d": [
           {
            "colorbar": {
             "outlinewidth": 0,
             "ticks": ""
            },
            "colorscale": [
             [
              0,
              "#0d0887"
             ],
             [
              0.1111111111111111,
              "#46039f"
             ],
             [
              0.2222222222222222,
              "#7201a8"
             ],
             [
              0.3333333333333333,
              "#9c179e"
             ],
             [
              0.4444444444444444,
              "#bd3786"
             ],
             [
              0.5555555555555556,
              "#d8576b"
             ],
             [
              0.6666666666666666,
              "#ed7953"
             ],
             [
              0.7777777777777778,
              "#fb9f3a"
             ],
             [
              0.8888888888888888,
              "#fdca26"
             ],
             [
              1,
              "#f0f921"
             ]
            ],
            "type": "histogram2d"
           }
          ],
          "histogram2dcontour": [
           {
            "colorbar": {
             "outlinewidth": 0,
             "ticks": ""
            },
            "colorscale": [
             [
              0,
              "#0d0887"
             ],
             [
              0.1111111111111111,
              "#46039f"
             ],
             [
              0.2222222222222222,
              "#7201a8"
             ],
             [
              0.3333333333333333,
              "#9c179e"
             ],
             [
              0.4444444444444444,
              "#bd3786"
             ],
             [
              0.5555555555555556,
              "#d8576b"
             ],
             [
              0.6666666666666666,
              "#ed7953"
             ],
             [
              0.7777777777777778,
              "#fb9f3a"
             ],
             [
              0.8888888888888888,
              "#fdca26"
             ],
             [
              1,
              "#f0f921"
             ]
            ],
            "type": "histogram2dcontour"
           }
          ],
          "mesh3d": [
           {
            "colorbar": {
             "outlinewidth": 0,
             "ticks": ""
            },
            "type": "mesh3d"
           }
          ],
          "parcoords": [
           {
            "line": {
             "colorbar": {
              "outlinewidth": 0,
              "ticks": ""
             }
            },
            "type": "parcoords"
           }
          ],
          "pie": [
           {
            "automargin": true,
            "type": "pie"
           }
          ],
          "scatter": [
           {
            "fillpattern": {
             "fillmode": "overlay",
             "size": 10,
             "solidity": 0.2
            },
            "type": "scatter"
           }
          ],
          "scatter3d": [
           {
            "line": {
             "colorbar": {
              "outlinewidth": 0,
              "ticks": ""
             }
            },
            "marker": {
             "colorbar": {
              "outlinewidth": 0,
              "ticks": ""
             }
            },
            "type": "scatter3d"
           }
          ],
          "scattercarpet": [
           {
            "marker": {
             "colorbar": {
              "outlinewidth": 0,
              "ticks": ""
             }
            },
            "type": "scattercarpet"
           }
          ],
          "scattergeo": [
           {
            "marker": {
             "colorbar": {
              "outlinewidth": 0,
              "ticks": ""
             }
            },
            "type": "scattergeo"
           }
          ],
          "scattergl": [
           {
            "marker": {
             "colorbar": {
              "outlinewidth": 0,
              "ticks": ""
             }
            },
            "type": "scattergl"
           }
          ],
          "scattermapbox": [
           {
            "marker": {
             "colorbar": {
              "outlinewidth": 0,
              "ticks": ""
             }
            },
            "type": "scattermapbox"
           }
          ],
          "scatterpolar": [
           {
            "marker": {
             "colorbar": {
              "outlinewidth": 0,
              "ticks": ""
             }
            },
            "type": "scatterpolar"
           }
          ],
          "scatterpolargl": [
           {
            "marker": {
             "colorbar": {
              "outlinewidth": 0,
              "ticks": ""
             }
            },
            "type": "scatterpolargl"
           }
          ],
          "scatterternary": [
           {
            "marker": {
             "colorbar": {
              "outlinewidth": 0,
              "ticks": ""
             }
            },
            "type": "scatterternary"
           }
          ],
          "surface": [
           {
            "colorbar": {
             "outlinewidth": 0,
             "ticks": ""
            },
            "colorscale": [
             [
              0,
              "#0d0887"
             ],
             [
              0.1111111111111111,
              "#46039f"
             ],
             [
              0.2222222222222222,
              "#7201a8"
             ],
             [
              0.3333333333333333,
              "#9c179e"
             ],
             [
              0.4444444444444444,
              "#bd3786"
             ],
             [
              0.5555555555555556,
              "#d8576b"
             ],
             [
              0.6666666666666666,
              "#ed7953"
             ],
             [
              0.7777777777777778,
              "#fb9f3a"
             ],
             [
              0.8888888888888888,
              "#fdca26"
             ],
             [
              1,
              "#f0f921"
             ]
            ],
            "type": "surface"
           }
          ],
          "table": [
           {
            "cells": {
             "fill": {
              "color": "#EBF0F8"
             },
             "line": {
              "color": "white"
             }
            },
            "header": {
             "fill": {
              "color": "#C8D4E3"
             },
             "line": {
              "color": "white"
             }
            },
            "type": "table"
           }
          ]
         },
         "layout": {
          "annotationdefaults": {
           "arrowcolor": "#2a3f5f",
           "arrowhead": 0,
           "arrowwidth": 1
          },
          "autotypenumbers": "strict",
          "coloraxis": {
           "colorbar": {
            "outlinewidth": 0,
            "ticks": ""
           }
          },
          "colorscale": {
           "diverging": [
            [
             0,
             "#8e0152"
            ],
            [
             0.1,
             "#c51b7d"
            ],
            [
             0.2,
             "#de77ae"
            ],
            [
             0.3,
             "#f1b6da"
            ],
            [
             0.4,
             "#fde0ef"
            ],
            [
             0.5,
             "#f7f7f7"
            ],
            [
             0.6,
             "#e6f5d0"
            ],
            [
             0.7,
             "#b8e186"
            ],
            [
             0.8,
             "#7fbc41"
            ],
            [
             0.9,
             "#4d9221"
            ],
            [
             1,
             "#276419"
            ]
           ],
           "sequential": [
            [
             0,
             "#0d0887"
            ],
            [
             0.1111111111111111,
             "#46039f"
            ],
            [
             0.2222222222222222,
             "#7201a8"
            ],
            [
             0.3333333333333333,
             "#9c179e"
            ],
            [
             0.4444444444444444,
             "#bd3786"
            ],
            [
             0.5555555555555556,
             "#d8576b"
            ],
            [
             0.6666666666666666,
             "#ed7953"
            ],
            [
             0.7777777777777778,
             "#fb9f3a"
            ],
            [
             0.8888888888888888,
             "#fdca26"
            ],
            [
             1,
             "#f0f921"
            ]
           ],
           "sequentialminus": [
            [
             0,
             "#0d0887"
            ],
            [
             0.1111111111111111,
             "#46039f"
            ],
            [
             0.2222222222222222,
             "#7201a8"
            ],
            [
             0.3333333333333333,
             "#9c179e"
            ],
            [
             0.4444444444444444,
             "#bd3786"
            ],
            [
             0.5555555555555556,
             "#d8576b"
            ],
            [
             0.6666666666666666,
             "#ed7953"
            ],
            [
             0.7777777777777778,
             "#fb9f3a"
            ],
            [
             0.8888888888888888,
             "#fdca26"
            ],
            [
             1,
             "#f0f921"
            ]
           ]
          },
          "colorway": [
           "#636efa",
           "#EF553B",
           "#00cc96",
           "#ab63fa",
           "#FFA15A",
           "#19d3f3",
           "#FF6692",
           "#B6E880",
           "#FF97FF",
           "#FECB52"
          ],
          "font": {
           "color": "#2a3f5f"
          },
          "geo": {
           "bgcolor": "white",
           "lakecolor": "white",
           "landcolor": "white",
           "showlakes": true,
           "showland": true,
           "subunitcolor": "#C8D4E3"
          },
          "hoverlabel": {
           "align": "left"
          },
          "hovermode": "closest",
          "mapbox": {
           "style": "light"
          },
          "paper_bgcolor": "white",
          "plot_bgcolor": "white",
          "polar": {
           "angularaxis": {
            "gridcolor": "#EBF0F8",
            "linecolor": "#EBF0F8",
            "ticks": ""
           },
           "bgcolor": "white",
           "radialaxis": {
            "gridcolor": "#EBF0F8",
            "linecolor": "#EBF0F8",
            "ticks": ""
           }
          },
          "scene": {
           "xaxis": {
            "backgroundcolor": "white",
            "gridcolor": "#DFE8F3",
            "gridwidth": 2,
            "linecolor": "#EBF0F8",
            "showbackground": true,
            "ticks": "",
            "zerolinecolor": "#EBF0F8"
           },
           "yaxis": {
            "backgroundcolor": "white",
            "gridcolor": "#DFE8F3",
            "gridwidth": 2,
            "linecolor": "#EBF0F8",
            "showbackground": true,
            "ticks": "",
            "zerolinecolor": "#EBF0F8"
           },
           "zaxis": {
            "backgroundcolor": "white",
            "gridcolor": "#DFE8F3",
            "gridwidth": 2,
            "linecolor": "#EBF0F8",
            "showbackground": true,
            "ticks": "",
            "zerolinecolor": "#EBF0F8"
           }
          },
          "shapedefaults": {
           "line": {
            "color": "#2a3f5f"
           }
          },
          "ternary": {
           "aaxis": {
            "gridcolor": "#DFE8F3",
            "linecolor": "#A2B1C6",
            "ticks": ""
           },
           "baxis": {
            "gridcolor": "#DFE8F3",
            "linecolor": "#A2B1C6",
            "ticks": ""
           },
           "bgcolor": "white",
           "caxis": {
            "gridcolor": "#DFE8F3",
            "linecolor": "#A2B1C6",
            "ticks": ""
           }
          },
          "title": {
           "x": 0.05
          },
          "xaxis": {
           "automargin": true,
           "gridcolor": "#EBF0F8",
           "linecolor": "#EBF0F8",
           "ticks": "",
           "title": {
            "standoff": 15
           },
           "zerolinecolor": "#EBF0F8",
           "zerolinewidth": 2
          },
          "yaxis": {
           "automargin": true,
           "gridcolor": "#EBF0F8",
           "linecolor": "#EBF0F8",
           "ticks": "",
           "title": {
            "standoff": 15
           },
           "zerolinecolor": "#EBF0F8",
           "zerolinewidth": 2
          }
         }
        },
        "title": {
         "text": "Failure Sessions Timeline"
        },
        "xaxis": {
         "anchor": "y",
         "domain": [
          0,
          1
         ],
         "rangeselector": {
          "buttons": [
           {
            "count": 7,
            "label": "1w",
            "step": "day",
            "stepmode": "backward"
           },
           {
            "count": 1,
            "label": "1m",
            "step": "month",
            "stepmode": "backward"
           },
           {
            "count": 3,
            "label": "3m",
            "step": "month",
            "stepmode": "backward"
           },
           {
            "count": 6,
            "label": "6m",
            "step": "month",
            "stepmode": "backward"
           },
           {
            "count": 1,
            "label": "1y",
            "step": "year",
            "stepmode": "backward"
           },
           {
            "step": "all"
           }
          ]
         },
         "rangeslider": {
          "visible": true
         },
         "showgrid": true,
         "type": "date"
        },
        "yaxis": {
         "anchor": "x",
         "autorange": "reversed",
         "categoryarray": [
          "INV 62",
          "INV 56",
          "INV 60",
          "INV 51",
          "INV 59",
          "INV 52",
          "INV 61",
          "INV 57",
          "INV 66",
          "INV 64",
          "INV 65",
          "INV 55",
          "INV 54",
          "INV 58"
         ],
         "categoryorder": "array",
         "domain": [
          0,
          1
         ],
         "title": {
          "text": "Device"
         }
        }
       }
      }
     },
     "metadata": {},
     "output_type": "display_data"
    }
   ],
   "source": [
    "visualize_failure_timeline(filtered_sessions)"
   ]
  },
  {
   "cell_type": "code",
   "execution_count": 44,
   "id": "abe8c038",
   "metadata": {},
   "outputs": [],
   "source": [
    "# remove unused columns\n",
    "filtered_data = filtered_data[['event_local_time', 'device_name'] + feature_cols]"
   ]
  },
  {
   "cell_type": "code",
   "execution_count": 45,
   "id": "ca1b13e1",
   "metadata": {},
   "outputs": [
    {
     "name": "stderr",
     "output_type": "stream",
     "text": [
      "Visualizing devices: 100%|██████████| 16/16 [00:35<00:00,  2.21s/it]"
     ]
    },
    {
     "name": "stdout",
     "output_type": "stream",
     "text": [
      "Visualization saved at visualization/filtered_data/*.html\n"
     ]
    },
    {
     "name": "stderr",
     "output_type": "stream",
     "text": [
      "\n"
     ]
    }
   ],
   "source": [
    "if performe_visualization:\n",
    "    # Visualize the filtered data\n",
    "    visualize_hourly_mean_values(filtered_data, failure_sessions, feature_cols, 'visualization', 'filtered_data')"
   ]
  },
  {
   "cell_type": "markdown",
   "id": "7faa25f4",
   "metadata": {},
   "source": [
    "### Anomoly Detection"
   ]
  },
  {
   "cell_type": "code",
   "execution_count": 46,
   "id": "78ad68c7",
   "metadata": {},
   "outputs": [],
   "source": [
    "if \"metric.STATUS_AC_MOD_ADMISSION_TEMP.MEASURED\" in filtered_data.columns:\n",
    "    anomaly_ids = filtered_data[\"metric.STATUS_AC_MOD_ADMISSION_TEMP.MEASURED\"]>=100\n",
    "    filtered_data.loc[anomaly_ids, \"metric.STATUS_AC_MOD_ADMISSION_TEMP.MEASURED\"] = None\n",
    "    print(\"Anomalies in STATUS_AC_MOD_ADMISSION_TEMP removed:\", anomaly_ids.sum())"
   ]
  },
  {
   "cell_type": "markdown",
   "id": "c7979e30",
   "metadata": {},
   "source": [
    "### Data Labeling"
   ]
  },
  {
   "cell_type": "code",
   "execution_count": 60,
   "id": "c262cba8",
   "metadata": {},
   "outputs": [
    {
     "name": "stdout",
     "output_type": "stream",
     "text": [
      "Total pre-failure rows: 6148\n",
      "Total rows: 853905\n"
     ]
    }
   ],
   "source": [
    "labeled_df = prepare_dataset(filtered_data, failure_sessions, pre_days=pre_day)"
   ]
  },
  {
   "cell_type": "markdown",
   "id": "e502018d",
   "metadata": {},
   "source": [
    "### Missing Value Imputation"
   ]
  },
  {
   "cell_type": "code",
   "execution_count": 61,
   "id": "e6b1d156",
   "metadata": {},
   "outputs": [],
   "source": [
    "imputed_df = missing_value_imputation(labeled_df, feature_cols, time_col='event_local_time', device_col='device_name', short_gap_limit=0, long_fill_value=0.0, add_missing_mask=True)"
   ]
  },
  {
   "cell_type": "code",
   "execution_count": 62,
   "id": "c821d9a5",
   "metadata": {},
   "outputs": [],
   "source": [
    "extended_feature_cols = feature_cols+[col+'_missing' for col in feature_cols]"
   ]
  },
  {
   "cell_type": "code",
   "execution_count": 63,
   "id": "683d989d",
   "metadata": {},
   "outputs": [
    {
     "data": {
      "text/html": [
       "<div>\n",
       "<style scoped>\n",
       "    .dataframe tbody tr th:only-of-type {\n",
       "        vertical-align: middle;\n",
       "    }\n",
       "\n",
       "    .dataframe tbody tr th {\n",
       "        vertical-align: top;\n",
       "    }\n",
       "\n",
       "    .dataframe thead th {\n",
       "        text-align: right;\n",
       "    }\n",
       "</style>\n",
       "<table border=\"1\" class=\"dataframe\">\n",
       "  <thead>\n",
       "    <tr style=\"text-align: right;\">\n",
       "      <th></th>\n",
       "      <th>event_local_time</th>\n",
       "      <th>device_name</th>\n",
       "      <th>metric.AC_VOLTAGE_AB.MEASURED</th>\n",
       "      <th>metric.AC_VOLTAGE_BC.MEASURED</th>\n",
       "      <th>metric.AC_VOLTAGE_CA.MEASURED</th>\n",
       "      <th>metric.DC_VOLTAGE.MEASURED</th>\n",
       "      <th>metric.AC_POWER.MEASURED</th>\n",
       "      <th>label</th>\n",
       "      <th>metric.AC_VOLTAGE_AB.MEASURED_missing</th>\n",
       "      <th>metric.AC_VOLTAGE_BC.MEASURED_missing</th>\n",
       "      <th>metric.AC_VOLTAGE_CA.MEASURED_missing</th>\n",
       "      <th>metric.DC_VOLTAGE.MEASURED_missing</th>\n",
       "      <th>metric.AC_POWER.MEASURED_missing</th>\n",
       "    </tr>\n",
       "  </thead>\n",
       "  <tbody>\n",
       "    <tr>\n",
       "      <th>0</th>\n",
       "      <td>2021-12-24 00:00:00</td>\n",
       "      <td>INV 51</td>\n",
       "      <td>34400.171875</td>\n",
       "      <td>34400.000000</td>\n",
       "      <td>34400.000000</td>\n",
       "      <td>12.439572</td>\n",
       "      <td>0.0</td>\n",
       "      <td>0</td>\n",
       "      <td>0.0</td>\n",
       "      <td>0.0</td>\n",
       "      <td>0.0</td>\n",
       "      <td>0.0</td>\n",
       "      <td>0.0</td>\n",
       "    </tr>\n",
       "    <tr>\n",
       "      <th>1</th>\n",
       "      <td>2021-12-24 00:30:00</td>\n",
       "      <td>INV 51</td>\n",
       "      <td>34186.058594</td>\n",
       "      <td>34185.386719</td>\n",
       "      <td>34185.386719</td>\n",
       "      <td>41.699497</td>\n",
       "      <td>0.0</td>\n",
       "      <td>0</td>\n",
       "      <td>0.0</td>\n",
       "      <td>0.0</td>\n",
       "      <td>0.0</td>\n",
       "      <td>0.0</td>\n",
       "      <td>0.0</td>\n",
       "    </tr>\n",
       "    <tr>\n",
       "      <th>2</th>\n",
       "      <td>2021-12-24 01:00:00</td>\n",
       "      <td>INV 51</td>\n",
       "      <td>34186.824219</td>\n",
       "      <td>34186.449219</td>\n",
       "      <td>34186.449219</td>\n",
       "      <td>3.771897</td>\n",
       "      <td>0.0</td>\n",
       "      <td>0</td>\n",
       "      <td>0.0</td>\n",
       "      <td>0.0</td>\n",
       "      <td>0.0</td>\n",
       "      <td>0.0</td>\n",
       "      <td>0.0</td>\n",
       "    </tr>\n",
       "    <tr>\n",
       "      <th>3</th>\n",
       "      <td>2021-12-24 01:30:00</td>\n",
       "      <td>INV 51</td>\n",
       "      <td>34367.199219</td>\n",
       "      <td>34367.480469</td>\n",
       "      <td>34367.480469</td>\n",
       "      <td>4.273490</td>\n",
       "      <td>0.0</td>\n",
       "      <td>0</td>\n",
       "      <td>0.0</td>\n",
       "      <td>0.0</td>\n",
       "      <td>0.0</td>\n",
       "      <td>0.0</td>\n",
       "      <td>0.0</td>\n",
       "    </tr>\n",
       "    <tr>\n",
       "      <th>4</th>\n",
       "      <td>2021-12-24 02:00:00</td>\n",
       "      <td>INV 51</td>\n",
       "      <td>34101.886719</td>\n",
       "      <td>34101.933594</td>\n",
       "      <td>34101.933594</td>\n",
       "      <td>29.879051</td>\n",
       "      <td>0.0</td>\n",
       "      <td>0</td>\n",
       "      <td>0.0</td>\n",
       "      <td>0.0</td>\n",
       "      <td>0.0</td>\n",
       "      <td>0.0</td>\n",
       "      <td>0.0</td>\n",
       "    </tr>\n",
       "    <tr>\n",
       "      <th>...</th>\n",
       "      <td>...</td>\n",
       "      <td>...</td>\n",
       "      <td>...</td>\n",
       "      <td>...</td>\n",
       "      <td>...</td>\n",
       "      <td>...</td>\n",
       "      <td>...</td>\n",
       "      <td>...</td>\n",
       "      <td>...</td>\n",
       "      <td>...</td>\n",
       "      <td>...</td>\n",
       "      <td>...</td>\n",
       "      <td>...</td>\n",
       "    </tr>\n",
       "    <tr>\n",
       "      <th>853900</th>\n",
       "      <td>2025-07-23 21:30:00</td>\n",
       "      <td>INV 66</td>\n",
       "      <td>34283.332031</td>\n",
       "      <td>34283.332031</td>\n",
       "      <td>34283.332031</td>\n",
       "      <td>2.183333</td>\n",
       "      <td>0.0</td>\n",
       "      <td>0</td>\n",
       "      <td>0.0</td>\n",
       "      <td>0.0</td>\n",
       "      <td>0.0</td>\n",
       "      <td>0.0</td>\n",
       "      <td>0.0</td>\n",
       "    </tr>\n",
       "    <tr>\n",
       "      <th>853901</th>\n",
       "      <td>2025-07-23 22:00:00</td>\n",
       "      <td>INV 66</td>\n",
       "      <td>34200.000000</td>\n",
       "      <td>34200.000000</td>\n",
       "      <td>34200.000000</td>\n",
       "      <td>2.037213</td>\n",
       "      <td>0.0</td>\n",
       "      <td>0</td>\n",
       "      <td>0.0</td>\n",
       "      <td>0.0</td>\n",
       "      <td>0.0</td>\n",
       "      <td>0.0</td>\n",
       "      <td>0.0</td>\n",
       "    </tr>\n",
       "    <tr>\n",
       "      <th>853902</th>\n",
       "      <td>2025-07-23 22:30:00</td>\n",
       "      <td>INV 66</td>\n",
       "      <td>34300.746094</td>\n",
       "      <td>34300.746094</td>\n",
       "      <td>34300.746094</td>\n",
       "      <td>2.100000</td>\n",
       "      <td>0.0</td>\n",
       "      <td>0</td>\n",
       "      <td>0.0</td>\n",
       "      <td>0.0</td>\n",
       "      <td>0.0</td>\n",
       "      <td>0.0</td>\n",
       "      <td>0.0</td>\n",
       "    </tr>\n",
       "    <tr>\n",
       "      <th>853903</th>\n",
       "      <td>2025-07-23 23:00:00</td>\n",
       "      <td>INV 66</td>\n",
       "      <td>34516.667969</td>\n",
       "      <td>34516.667969</td>\n",
       "      <td>34516.667969</td>\n",
       "      <td>2.263698</td>\n",
       "      <td>0.0</td>\n",
       "      <td>0</td>\n",
       "      <td>0.0</td>\n",
       "      <td>0.0</td>\n",
       "      <td>0.0</td>\n",
       "      <td>0.0</td>\n",
       "      <td>0.0</td>\n",
       "    </tr>\n",
       "    <tr>\n",
       "      <th>853904</th>\n",
       "      <td>2025-07-23 23:30:00</td>\n",
       "      <td>INV 66</td>\n",
       "      <td>34600.000000</td>\n",
       "      <td>34600.000000</td>\n",
       "      <td>34600.000000</td>\n",
       "      <td>2.550000</td>\n",
       "      <td>0.0</td>\n",
       "      <td>0</td>\n",
       "      <td>0.0</td>\n",
       "      <td>0.0</td>\n",
       "      <td>0.0</td>\n",
       "      <td>0.0</td>\n",
       "      <td>0.0</td>\n",
       "    </tr>\n",
       "  </tbody>\n",
       "</table>\n",
       "<p>853905 rows × 13 columns</p>\n",
       "</div>"
      ],
      "text/plain": [
       "          event_local_time device_name  metric.AC_VOLTAGE_AB.MEASURED  \\\n",
       "0      2021-12-24 00:00:00      INV 51                   34400.171875   \n",
       "1      2021-12-24 00:30:00      INV 51                   34186.058594   \n",
       "2      2021-12-24 01:00:00      INV 51                   34186.824219   \n",
       "3      2021-12-24 01:30:00      INV 51                   34367.199219   \n",
       "4      2021-12-24 02:00:00      INV 51                   34101.886719   \n",
       "...                    ...         ...                            ...   \n",
       "853900 2025-07-23 21:30:00      INV 66                   34283.332031   \n",
       "853901 2025-07-23 22:00:00      INV 66                   34200.000000   \n",
       "853902 2025-07-23 22:30:00      INV 66                   34300.746094   \n",
       "853903 2025-07-23 23:00:00      INV 66                   34516.667969   \n",
       "853904 2025-07-23 23:30:00      INV 66                   34600.000000   \n",
       "\n",
       "        metric.AC_VOLTAGE_BC.MEASURED  metric.AC_VOLTAGE_CA.MEASURED  \\\n",
       "0                        34400.000000                   34400.000000   \n",
       "1                        34185.386719                   34185.386719   \n",
       "2                        34186.449219                   34186.449219   \n",
       "3                        34367.480469                   34367.480469   \n",
       "4                        34101.933594                   34101.933594   \n",
       "...                               ...                            ...   \n",
       "853900                   34283.332031                   34283.332031   \n",
       "853901                   34200.000000                   34200.000000   \n",
       "853902                   34300.746094                   34300.746094   \n",
       "853903                   34516.667969                   34516.667969   \n",
       "853904                   34600.000000                   34600.000000   \n",
       "\n",
       "        metric.DC_VOLTAGE.MEASURED  metric.AC_POWER.MEASURED  label  \\\n",
       "0                        12.439572                       0.0      0   \n",
       "1                        41.699497                       0.0      0   \n",
       "2                         3.771897                       0.0      0   \n",
       "3                         4.273490                       0.0      0   \n",
       "4                        29.879051                       0.0      0   \n",
       "...                            ...                       ...    ...   \n",
       "853900                    2.183333                       0.0      0   \n",
       "853901                    2.037213                       0.0      0   \n",
       "853902                    2.100000                       0.0      0   \n",
       "853903                    2.263698                       0.0      0   \n",
       "853904                    2.550000                       0.0      0   \n",
       "\n",
       "        metric.AC_VOLTAGE_AB.MEASURED_missing  \\\n",
       "0                                         0.0   \n",
       "1                                         0.0   \n",
       "2                                         0.0   \n",
       "3                                         0.0   \n",
       "4                                         0.0   \n",
       "...                                       ...   \n",
       "853900                                    0.0   \n",
       "853901                                    0.0   \n",
       "853902                                    0.0   \n",
       "853903                                    0.0   \n",
       "853904                                    0.0   \n",
       "\n",
       "        metric.AC_VOLTAGE_BC.MEASURED_missing  \\\n",
       "0                                         0.0   \n",
       "1                                         0.0   \n",
       "2                                         0.0   \n",
       "3                                         0.0   \n",
       "4                                         0.0   \n",
       "...                                       ...   \n",
       "853900                                    0.0   \n",
       "853901                                    0.0   \n",
       "853902                                    0.0   \n",
       "853903                                    0.0   \n",
       "853904                                    0.0   \n",
       "\n",
       "        metric.AC_VOLTAGE_CA.MEASURED_missing  \\\n",
       "0                                         0.0   \n",
       "1                                         0.0   \n",
       "2                                         0.0   \n",
       "3                                         0.0   \n",
       "4                                         0.0   \n",
       "...                                       ...   \n",
       "853900                                    0.0   \n",
       "853901                                    0.0   \n",
       "853902                                    0.0   \n",
       "853903                                    0.0   \n",
       "853904                                    0.0   \n",
       "\n",
       "        metric.DC_VOLTAGE.MEASURED_missing  metric.AC_POWER.MEASURED_missing  \n",
       "0                                      0.0                               0.0  \n",
       "1                                      0.0                               0.0  \n",
       "2                                      0.0                               0.0  \n",
       "3                                      0.0                               0.0  \n",
       "4                                      0.0                               0.0  \n",
       "...                                    ...                               ...  \n",
       "853900                                 0.0                               0.0  \n",
       "853901                                 0.0                               0.0  \n",
       "853902                                 0.0                               0.0  \n",
       "853903                                 0.0                               0.0  \n",
       "853904                                 0.0                               0.0  \n",
       "\n",
       "[853905 rows x 13 columns]"
      ]
     },
     "execution_count": 63,
     "metadata": {},
     "output_type": "execute_result"
    }
   ],
   "source": [
    "imputed_df"
   ]
  },
  {
   "cell_type": "markdown",
   "id": "84b48cdb",
   "metadata": {},
   "source": [
    "### Feature Engineering"
   ]
  },
  {
   "cell_type": "code",
   "execution_count": 64,
   "id": "9d80fecc",
   "metadata": {},
   "outputs": [],
   "source": [
    "imputed_df['hour_of_day'] = imputed_df['event_local_time'].dt.hour\n",
    "imputed_df['month_of_year'] = imputed_df['event_local_time'].dt.month\n",
    "extended_feature_cols += ['hour_of_day', 'month_of_year']\n"
   ]
  },
  {
   "cell_type": "code",
   "execution_count": 65,
   "id": "d27b4c0a",
   "metadata": {},
   "outputs": [
    {
     "name": "stderr",
     "output_type": "stream",
     "text": [
      "Visualizing devices:   0%|          | 0/16 [00:00<?, ?it/s]"
     ]
    },
    {
     "name": "stderr",
     "output_type": "stream",
     "text": [
      "Visualizing devices: 100%|██████████| 16/16 [01:22<00:00,  5.15s/it]"
     ]
    },
    {
     "name": "stdout",
     "output_type": "stream",
     "text": [
      "Visualization saved at visualization/processed_data/*.html\n"
     ]
    },
    {
     "name": "stderr",
     "output_type": "stream",
     "text": [
      "\n"
     ]
    }
   ],
   "source": [
    "if performe_visualization:\n",
    "    visualize_hourly_mean_values(imputed_df, failure_sessions, extended_feature_cols+['label'], \n",
    "                                title='processed_data')"
   ]
  },
  {
   "cell_type": "markdown",
   "id": "b181af6b",
   "metadata": {},
   "source": [
    "### Split Dataset"
   ]
  },
  {
   "cell_type": "code",
   "execution_count": 66,
   "id": "77c351da",
   "metadata": {},
   "outputs": [],
   "source": [
    "train_df = imputed_df[imputed_df['event_local_time'] <= pd.Timestamp('2023-12-15')].copy()\n",
    "val_df = imputed_df[(imputed_df['event_local_time'] > pd.Timestamp('2023-12-15')) & (imputed_df['event_local_time'] <= pd.Timestamp('2024-07-31'))].copy()\n",
    "test_df = imputed_df[imputed_df['event_local_time'] > pd.Timestamp('2024-07-31')].copy()"
   ]
  },
  {
   "cell_type": "code",
   "execution_count": 54,
   "id": "9e26fda1",
   "metadata": {},
   "outputs": [],
   "source": [
    "#train_df, test_df = train_test_split_on_time(imputed_df, 0.3)\n",
    "#val_df, test_df = train_test_split_on_time(test_df, 0.3)"
   ]
  },
  {
   "cell_type": "code",
   "execution_count": 67,
   "id": "9bdb5f36",
   "metadata": {},
   "outputs": [
    {
     "data": {
      "text/plain": [
       "['metric.AC_VOLTAGE_AB.MEASURED',\n",
       " 'metric.AC_VOLTAGE_BC.MEASURED',\n",
       " 'metric.AC_VOLTAGE_CA.MEASURED',\n",
       " 'metric.DC_VOLTAGE.MEASURED',\n",
       " 'metric.AC_POWER.MEASURED',\n",
       " 'metric.AC_VOLTAGE_AB.MEASURED_missing',\n",
       " 'metric.AC_VOLTAGE_BC.MEASURED_missing',\n",
       " 'metric.AC_VOLTAGE_CA.MEASURED_missing',\n",
       " 'metric.DC_VOLTAGE.MEASURED_missing',\n",
       " 'metric.AC_POWER.MEASURED_missing',\n",
       " 'hour_of_day',\n",
       " 'month_of_year']"
      ]
     },
     "execution_count": 67,
     "metadata": {},
     "output_type": "execute_result"
    }
   ],
   "source": [
    "extended_feature_cols"
   ]
  },
  {
   "cell_type": "markdown",
   "id": "777fd02b",
   "metadata": {},
   "source": [
    "### Standardization"
   ]
  },
  {
   "cell_type": "code",
   "execution_count": 68,
   "id": "cbde8f9f",
   "metadata": {},
   "outputs": [],
   "source": [
    "from sklearn.preprocessing import StandardScaler\n",
    "feature_to_standardize = feature_cols + ['hour_of_day', 'month_of_year']\n",
    "scaler = StandardScaler()\n",
    "train_df[feature_to_standardize] = scaler.fit_transform(train_df[feature_to_standardize])\n",
    "val_df[feature_to_standardize] = scaler.transform(val_df[feature_to_standardize])\n",
    "test_df[feature_to_standardize] = scaler.transform(test_df[feature_to_standardize])"
   ]
  },
  {
   "cell_type": "code",
   "execution_count": 69,
   "id": "c2ce625e",
   "metadata": {},
   "outputs": [
    {
     "name": "stderr",
     "output_type": "stream",
     "text": [
      "Visualizing devices: 100%|██████████| 16/16 [00:39<00:00,  2.50s/it]\n"
     ]
    },
    {
     "name": "stdout",
     "output_type": "stream",
     "text": [
      "Visualization saved at visualization/train_data/*.html\n"
     ]
    },
    {
     "name": "stderr",
     "output_type": "stream",
     "text": [
      "Visualizing devices: 100%|██████████| 16/16 [00:19<00:00,  1.21s/it]\n"
     ]
    },
    {
     "name": "stdout",
     "output_type": "stream",
     "text": [
      "Visualization saved at visualization/val_data/*.html\n"
     ]
    },
    {
     "name": "stderr",
     "output_type": "stream",
     "text": [
      "Visualizing devices: 100%|██████████| 16/16 [00:27<00:00,  1.74s/it]"
     ]
    },
    {
     "name": "stdout",
     "output_type": "stream",
     "text": [
      "Visualization saved at visualization/test_data/*.html\n"
     ]
    },
    {
     "name": "stderr",
     "output_type": "stream",
     "text": [
      "\n"
     ]
    }
   ],
   "source": [
    "if performe_visualization:\n",
    "    visualize_hourly_mean_values(train_df, failure_sessions, extended_feature_cols+['label'], \n",
    "                                 'visualization', 'train_data')\n",
    "    visualize_hourly_mean_values(val_df, failure_sessions, extended_feature_cols+['label'], \n",
    "                                 'visualization', 'val_data')\n",
    "    visualize_hourly_mean_values(test_df, failure_sessions, extended_feature_cols+['label'],\n",
    "                                    'visualization', 'test_data')"
   ]
  },
  {
   "cell_type": "code",
   "execution_count": 59,
   "id": "fc833c9a",
   "metadata": {},
   "outputs": [
    {
     "data": {
      "text/plain": [
       "0    555863\n",
       "1      3988\n",
       "Name: label, dtype: int64"
      ]
     },
     "execution_count": 59,
     "metadata": {},
     "output_type": "execute_result"
    }
   ],
   "source": [
    "train_df['label'].value_counts()"
   ]
  },
  {
   "cell_type": "markdown",
   "id": "3c9b4875",
   "metadata": {},
   "source": [
    "### Create Dataset/Data Loader"
   ]
  },
  {
   "cell_type": "code",
   "execution_count": 70,
   "id": "3993eca3",
   "metadata": {},
   "outputs": [],
   "source": [
    "stride = 1\n",
    "window_size = 2*24*7 # 30 minutes * 24 * 7 = 1 week"
   ]
  },
  {
   "cell_type": "code",
   "execution_count": 71,
   "id": "1c441ade",
   "metadata": {},
   "outputs": [
    {
     "name": "stderr",
     "output_type": "stream",
     "text": [
      "Processing devices: 100%|██████████| 16/16 [00:01<00:00,  8.30it/s]\n",
      "Processing devices: 100%|██████████| 16/16 [00:01<00:00,  8.61it/s]\n"
     ]
    }
   ],
   "source": [
    "positive_train_ds = PositiveInverterTimeSeriesDataset.from_dataframe(train_df, extended_feature_cols, window_size=window_size, stride=1)\n",
    "negative_train_ds = NegativeInverterTimeSeriesDataset.from_dataframe(train_df, extended_feature_cols, window_size=window_size, stride=1)"
   ]
  },
  {
   "cell_type": "code",
   "execution_count": 72,
   "id": "89be8408",
   "metadata": {},
   "outputs": [
    {
     "name": "stderr",
     "output_type": "stream",
     "text": [
      "Processing devices: 100%|██████████| 16/16 [00:01<00:00, 14.39it/s]\n",
      "Processing devices: 100%|██████████| 16/16 [00:01<00:00, 12.70it/s]\n"
     ]
    }
   ],
   "source": [
    "from torch.utils.data import DataLoader\n",
    "\n",
    "\n",
    "train_ds = combine_dataset([positive_train_ds, negative_train_ds])\n",
    "del positive_train_ds, negative_train_ds\n",
    "\n",
    "val_ds   = InverterTimeSeriesDataset.from_dataframe(val_df,   extended_feature_cols, window_size=window_size, stride=stride)\n",
    "test_ds  = InverterTimeSeriesDataset.from_dataframe(test_df,  extended_feature_cols, window_size=window_size, stride=stride)"
   ]
  },
  {
   "cell_type": "code",
   "execution_count": 73,
   "id": "6e127b2e",
   "metadata": {},
   "outputs": [
    {
     "data": {
      "text/plain": [
       "torch.Size([391875, 336, 12])"
      ]
     },
     "execution_count": 73,
     "metadata": {},
     "output_type": "execute_result"
    }
   ],
   "source": [
    "train_ds.X.shape"
   ]
  },
  {
   "cell_type": "code",
   "execution_count": 74,
   "id": "dc679b9d",
   "metadata": {},
   "outputs": [
    {
     "data": {
      "text/plain": [
       "(0.0    389465\n",
       " 1.0      2410\n",
       " dtype: int64,\n",
       " 0.0    165672\n",
       " 1.0      1440\n",
       " dtype: int64,\n",
       " 0.0    263035\n",
       " 1.0      1920\n",
       " dtype: int64)"
      ]
     },
     "execution_count": 74,
     "metadata": {},
     "output_type": "execute_result"
    }
   ],
   "source": [
    "pd.value_counts(train_ds.y.numpy()), pd.value_counts(val_ds.y.numpy()), pd.value_counts(test_ds.y.numpy())"
   ]
  },
  {
   "cell_type": "code",
   "execution_count": 79,
   "id": "61de5600",
   "metadata": {},
   "outputs": [
    {
     "name": "stdout",
     "output_type": "stream",
     "text": [
      "0.0    0.000003\n",
      "1.0    0.000415\n",
      "dtype: float64 39187\n"
     ]
    }
   ],
   "source": [
    "from torch.utils.data import DataLoader, WeightedRandomSampler, RandomSampler\n",
    "import torch\n",
    "\n",
    "num_samples = int(len(train_ds)*0.1 ) # 10% of the training dataset size\n",
    "\n",
    "# 假設 y 是樣本的 label 張量\n",
    "class_sample_count = pd.value_counts(train_ds.y.numpy())\n",
    "weights = 1. / class_sample_count\n",
    "sample_weights = weights[train_ds.y.numpy()].to_numpy() # 每個樣本對應的抽樣權重\n",
    "\n",
    "balanced_sampler = WeightedRandomSampler(\n",
    "    weights=sample_weights,\n",
    "    num_samples=num_samples,\n",
    "    replacement=True\n",
    ")\n",
    "print(weights, num_samples)"
   ]
  },
  {
   "cell_type": "code",
   "execution_count": null,
   "id": "af450cd3",
   "metadata": {},
   "outputs": [],
   "source": [
    "random_sampler = RandomSampler(val_ds, num_samples=int(len(val_ds)*0.1), replacement=True)"
   ]
  },
  {
   "cell_type": "code",
   "execution_count": 81,
   "id": "b204cf86",
   "metadata": {},
   "outputs": [],
   "source": [
    "batch_size = 2**9\n",
    "\n",
    "train_loader = DataLoader(train_ds, batch_size=batch_size, sampler=balanced_sampler,  num_workers=6, pin_memory=True)\n",
    "val_loader   = DataLoader(val_ds,   batch_size=batch_size, sampler=random_sampler, num_workers=6, pin_memory=True)\n",
    "test_loader  = DataLoader(test_ds,  batch_size=batch_size, shuffle=False, num_workers=6, pin_memory=True)"
   ]
  },
  {
   "cell_type": "markdown",
   "id": "6bc7c875",
   "metadata": {},
   "source": [
    "## Train Model"
   ]
  },
  {
   "cell_type": "code",
   "execution_count": 84,
   "id": "ac4316e3",
   "metadata": {},
   "outputs": [],
   "source": [
    "model = CNNLSTMModel(num_features=len(extended_feature_cols), cnn_out_channels=64, lstm_hidden_size=128)\n",
    "optimizer = torch.optim.Adam(model.parameters(), lr=1e-3)\n",
    "\n",
    "# 建議先用較溫和的 pos_weight（例：5），再用驗證集掃描最佳值\n",
    "pos_weight_value = 2.0\n",
    "criterion = torch.nn.BCEWithLogitsLoss(pos_weight=torch.tensor([pos_weight_value], dtype=torch.float)).to('cuda')\n"
   ]
  },
  {
   "cell_type": "code",
   "execution_count": null,
   "id": "20d6f41e",
   "metadata": {},
   "outputs": [],
   "source": [
    "#model.load_state_dict(torch.load(r'model\\0812_0003\\epoch_15.pth', weights_only=True))"
   ]
  },
  {
   "cell_type": "code",
   "execution_count": 108,
   "id": "1f7b89ee",
   "metadata": {},
   "outputs": [
    {
     "name": "stdout",
     "output_type": "stream",
     "text": [
      "Model moved to cuda\n",
      "Resuming training from epoch 41\n",
      "[Epoch 41/10] Step 0/77 - Loss: 0.0711\n",
      "[Epoch 41/10] Step 25/77 - Loss: 0.0360\n",
      "[Epoch 41/10] Step 50/77 - Loss: 0.0366\n",
      "[Epoch 41/10] Step 75/77 - Loss: 0.0296\n",
      "🔁 Epoch 41 finished. Avg Train Loss: 0.0372\n",
      "✅ Validation Loss: 0.2319 | Accuracy: 98.92% | AUC-PR: 0.0103\n",
      "[Epoch 42/10] Step 0/77 - Loss: 0.0258\n",
      "[Epoch 42/10] Step 25/77 - Loss: 0.0706\n",
      "[Epoch 42/10] Step 50/77 - Loss: 0.1180\n",
      "[Epoch 42/10] Step 75/77 - Loss: 0.0361\n",
      "🔁 Epoch 42 finished. Avg Train Loss: 0.0551\n",
      "✅ Validation Loss: 0.2181 | Accuracy: 98.84% | AUC-PR: 0.0137\n",
      "[Epoch 43/10] Step 0/77 - Loss: 0.0543\n",
      "[Epoch 43/10] Step 25/77 - Loss: 0.0476\n",
      "[Epoch 43/10] Step 50/77 - Loss: 0.0461\n",
      "[Epoch 43/10] Step 75/77 - Loss: 0.0439\n",
      "🔁 Epoch 43 finished. Avg Train Loss: 0.0470\n",
      "✅ Validation Loss: 0.2506 | Accuracy: 98.76% | AUC-PR: 0.0139\n",
      "[Epoch 44/10] Step 0/77 - Loss: 0.0193\n",
      "[Epoch 44/10] Step 25/77 - Loss: 0.0185\n",
      "[Epoch 44/10] Step 50/77 - Loss: 0.0515\n",
      "[Epoch 44/10] Step 75/77 - Loss: 0.0297\n",
      "🔁 Epoch 44 finished. Avg Train Loss: 0.0399\n",
      "✅ Validation Loss: 0.2338 | Accuracy: 98.44% | AUC-PR: 0.0461\n",
      "[Epoch 45/10] Step 0/77 - Loss: 0.0399\n",
      "[Epoch 45/10] Step 25/77 - Loss: 0.0298\n",
      "[Epoch 45/10] Step 50/77 - Loss: 0.0527\n",
      "[Epoch 45/10] Step 75/77 - Loss: 0.0732\n",
      "🔁 Epoch 45 finished. Avg Train Loss: 0.0401\n",
      "✅ Validation Loss: 0.2859 | Accuracy: 98.01% | AUC-PR: 0.0262\n",
      "[Epoch 46/10] Step 0/77 - Loss: 0.0337\n",
      "[Epoch 46/10] Step 25/77 - Loss: 0.0459\n",
      "[Epoch 46/10] Step 50/77 - Loss: 0.0217\n",
      "[Epoch 46/10] Step 75/77 - Loss: 0.0692\n",
      "🔁 Epoch 46 finished. Avg Train Loss: 0.0651\n",
      "✅ Validation Loss: 0.2455 | Accuracy: 98.00% | AUC-PR: 0.0251\n",
      "[Epoch 47/10] Step 0/77 - Loss: 0.0865\n",
      "[Epoch 47/10] Step 25/77 - Loss: 0.0565\n",
      "[Epoch 47/10] Step 50/77 - Loss: 0.0541\n",
      "[Epoch 47/10] Step 75/77 - Loss: 0.0482\n",
      "🔁 Epoch 47 finished. Avg Train Loss: 0.0794\n",
      "✅ Validation Loss: 0.2511 | Accuracy: 98.87% | AUC-PR: 0.0112\n",
      "[Epoch 48/10] Step 0/77 - Loss: 0.0394\n",
      "[Epoch 48/10] Step 25/77 - Loss: 0.0630\n",
      "[Epoch 48/10] Step 50/77 - Loss: 0.0489\n",
      "[Epoch 48/10] Step 75/77 - Loss: 0.0431\n",
      "🔁 Epoch 48 finished. Avg Train Loss: 0.0482\n",
      "✅ Validation Loss: 0.2655 | Accuracy: 98.68% | AUC-PR: 0.0135\n",
      "[Epoch 49/10] Step 0/77 - Loss: 0.0469\n",
      "[Epoch 49/10] Step 25/77 - Loss: 0.1362\n",
      "[Epoch 49/10] Step 50/77 - Loss: 0.0317\n",
      "[Epoch 49/10] Step 75/77 - Loss: 0.0191\n",
      "🔁 Epoch 49 finished. Avg Train Loss: 0.0599\n",
      "✅ Validation Loss: 0.2270 | Accuracy: 98.77% | AUC-PR: 0.0281\n",
      "[Epoch 50/10] Step 0/77 - Loss: 0.0386\n",
      "[Epoch 50/10] Step 25/77 - Loss: 0.0429\n",
      "[Epoch 50/10] Step 50/77 - Loss: 0.0200\n",
      "[Epoch 50/10] Step 75/77 - Loss: 0.0318\n",
      "🔁 Epoch 50 finished. Avg Train Loss: 0.0357\n",
      "✅ Validation Loss: 0.2378 | Accuracy: 99.05% | AUC-PR: 0.0106\n",
      "🏁 Training completed.\n"
     ]
    }
   ],
   "source": [
    "log = train_loop(\n",
    "    model, train_loader, val_loader, \n",
    "    log_interval=25, \n",
    "    num_epochs=10, \n",
    "    optimizer=optimizer, \n",
    "    criterion=criterion,\n",
    "    save_interval=1,\n",
    "    save_path=r'model\\0813_0202'\n",
    ")"
   ]
  },
  {
   "cell_type": "code",
   "execution_count": 109,
   "id": "8f7a75cd",
   "metadata": {},
   "outputs": [
    {
     "data": {
      "text/plain": [
       "<matplotlib.legend.Legend at 0x1c481aab3a0>"
      ]
     },
     "execution_count": 109,
     "metadata": {},
     "output_type": "execute_result"
    },
    {
     "data": {
      "image/png": "[encoded data removed]",
      "text/plain": [
       "<Figure size 640x480 with 1 Axes>"
      ]
     },
     "metadata": {},
     "output_type": "display_data"
    }
   ],
   "source": [
    "import matplotlib.pyplot as plt\n",
    "#log = pd.read_csv('model/0811_2042/training_log.csv')\n",
    "plt.plot(log['train_loss'], label='train_loss')\n",
    "plt.plot(log['val_loss'], label='val_loss')\n",
    "plt.plot(log['aucpr'], label='aucpr')\n",
    "plt.xlabel('Epoch')\n",
    "plt.ylabel('Loss')\n",
    "plt.legend()"
   ]
  },
  {
   "cell_type": "markdown",
   "id": "9612ae49",
   "metadata": {},
   "source": [
    "### Model Evaluation"
   ]
  },
  {
   "cell_type": "code",
   "execution_count": 115,
   "id": "7c540efd",
   "metadata": {},
   "outputs": [
    {
     "name": "stderr",
     "output_type": "stream",
     "text": [
      "C:\\Users\\USER\\AppData\\Local\\Packages\\PythonSoftwareFoundation.Python.3.10_qbz5n2kfra8p0\\LocalCache\\local-packages\\Python310\\site-packages\\torch\\_utils.py:831: UserWarning:\n",
      "\n",
      "TypedStorage is deprecated. It will be removed in the future and UntypedStorage will be the only storage class. This should only matter to you if you are using storages directly.  To access UntypedStorage directly, use tensor.untyped_storage() instead of tensor.storage()\n",
      "\n"
     ]
    },
    {
     "data": {
      "text/plain": [
       "<All keys matched successfully>"
      ]
     },
     "execution_count": 115,
     "metadata": {},
     "output_type": "execute_result"
    }
   ],
   "source": [
    "model.load_state_dict(torch.load(r'model\\0813_0202\\best_model.pth', weights_only=True))"
   ]
  },
  {
   "cell_type": "code",
   "execution_count": 110,
   "id": "a92d6e62",
   "metadata": {},
   "outputs": [
    {
     "name": "stdout",
     "output_type": "stream",
     "text": [
      "Performance on Training Set:\n"
     ]
    },
    {
     "name": "stderr",
     "output_type": "stream",
     "text": [
      "Testing: 100%|██████████| 77/77 [00:10<00:00,  7.30it/s]\n"
     ]
    },
    {
     "name": "stdout",
     "output_type": "stream",
     "text": [
      "🔍 Test Loss: 0.0322 | Accuracy: 99.25%\n",
      "              precision    recall  f1-score   support\n",
      "\n",
      "      Normal       1.00      0.98      0.99     19527\n",
      "     Failure       0.99      1.00      0.99     19660\n",
      "\n",
      "    accuracy                           0.99     39187\n",
      "   macro avg       0.99      0.99      0.99     39187\n",
      "weighted avg       0.99      0.99      0.99     39187\n",
      "\n",
      "[[19233   294]\n",
      " [    0 19660]]\n",
      "ROC AUC: 0.9986\n"
     ]
    },
    {
     "data": {
      "image/png": "[encoded data removed]",
      "text/plain": [
       "<Figure size 800x600 with 1 Axes>"
      ]
     },
     "metadata": {},
     "output_type": "display_data"
    }
   ],
   "source": [
    "print(\"Performance on Training Set:\")\n",
    "evaluate_model(model, train_loader, best_threshold=0.5, criterion=criterion)"
   ]
  },
  {
   "cell_type": "code",
   "execution_count": 111,
   "id": "a076f6d7",
   "metadata": {},
   "outputs": [],
   "source": [
    "val_loader_for_eval = DataLoader(val_ds, batch_size=batch_size, shuffle=False, num_workers=6, pin_memory=True)"
   ]
  },
  {
   "cell_type": "code",
   "execution_count": 116,
   "id": "8d873ead",
   "metadata": {},
   "outputs": [
    {
     "name": "stderr",
     "output_type": "stream",
     "text": [
      "Testing: 100%|██████████| 327/327 [00:19<00:00, 17.00it/s]"
     ]
    },
    {
     "name": "stdout",
     "output_type": "stream",
     "text": [
      "🔍 Test Loss: 0.2088 | Accuracy: 98.52%\n"
     ]
    },
    {
     "name": "stderr",
     "output_type": "stream",
     "text": [
      "\n"
     ]
    }
   ],
   "source": [
    "trues, predictions, outputs = test_loop(model, val_loader_for_eval, device='cuda', criterion=criterion)"
   ]
  },
  {
   "cell_type": "code",
   "execution_count": 117,
   "id": "9319fab6",
   "metadata": {},
   "outputs": [
    {
     "name": "stdout",
     "output_type": "stream",
     "text": [
      "Best threshold: 0.437291\n",
      "Precision: 0.10314557425018288\n",
      "Recall: 0.09791666666666667\n",
      "F1: 0.10046312289793126\n"
     ]
    }
   ],
   "source": [
    "from sklearn.metrics import precision_recall_curve, f1_score\n",
    "\n",
    "# y_val: 驗證集真實標籤 (0/1)\n",
    "# y_val_scores: 模型輸出的機率（sigmoid 後）或 logits\n",
    "precisions, recalls, thresholds = precision_recall_curve(trues, outputs)\n",
    "\n",
    "# 計算 F1\n",
    "f1_scores = 2 * precisions * recalls / (precisions + recalls + 1e-8)\n",
    "best_idx = f1_scores.argmax()\n",
    "best_threshold = thresholds[best_idx]\n",
    "\n",
    "print(\"Best threshold:\", best_threshold)\n",
    "print(\"Precision:\", precisions[best_idx])\n",
    "print(\"Recall:\", recalls[best_idx])\n",
    "print(\"F1:\", f1_scores[best_idx])\n"
   ]
  },
  {
   "cell_type": "code",
   "execution_count": 121,
   "id": "779d5ce7",
   "metadata": {},
   "outputs": [
    {
     "name": "stdout",
     "output_type": "stream",
     "text": [
      "Performance on Validation Set:\n",
      "              precision    recall  f1-score   support\n",
      "\n",
      "      Normal       0.99      0.99      0.99    165672\n",
      "     Failure       0.10      0.10      0.10      1440\n",
      "\n",
      "    accuracy                           0.98    167112\n",
      "   macro avg       0.55      0.55      0.55    167112\n",
      "weighted avg       0.98      0.98      0.98    167112\n",
      "\n",
      "[[164446   1226]\n",
      " [  1299    141]]\n",
      "ROC AUC: 0.3919\n"
     ]
    },
    {
     "data": {
      "image/png": "[encoded data removed]",
      "text/plain": [
       "<Figure size 800x600 with 1 Axes>"
      ]
     },
     "metadata": {},
     "output_type": "display_data"
    }
   ],
   "source": [
    "predictions = (outputs >= best_threshold).astype(int)\n",
    "print(\"Performance on Validation Set:\")\n",
    "generate_report(trues, predictions, outputs)"
   ]
  },
  {
   "cell_type": "code",
   "execution_count": 119,
   "id": "25e186ec",
   "metadata": {},
   "outputs": [
    {
     "name": "stdout",
     "output_type": "stream",
     "text": [
      "Performance on Test Set:\n"
     ]
    },
    {
     "name": "stderr",
     "output_type": "stream",
     "text": [
      "Testing: 100%|██████████| 518/518 [00:26<00:00, 19.24it/s]\n"
     ]
    },
    {
     "name": "stdout",
     "output_type": "stream",
     "text": [
      "🔍 Test Loss: 0.2126 | Accuracy: 97.04%\n",
      "              precision    recall  f1-score   support\n",
      "\n",
      "      Normal       0.99      0.98      0.98    263035\n",
      "     Failure       0.00      0.00      0.00      1920\n",
      "\n",
      "    accuracy                           0.97    264955\n",
      "   macro avg       0.50      0.49      0.49    264955\n",
      "weighted avg       0.99      0.97      0.98    264955\n",
      "\n",
      "[[257098   5937]\n",
      " [  1912      8]]\n",
      "ROC AUC: 0.5723\n"
     ]
    },
    {
     "data": {
      "image/png": "[encoded data removed]",
      "text/plain": [
       "<Figure size 800x600 with 1 Axes>"
      ]
     },
     "metadata": {},
     "output_type": "display_data"
    }
   ],
   "source": [
    "print(\"Performance on Test Set:\")\n",
    "evaluate_model(model, test_loader, best_threshold=best_threshold, device='cuda', criterion=criterion)"
   ]
  }
 ],
 "metadata": {
  "kernelspec": {
   "display_name": "Python 3",
   "language": "python",
   "name": "python3"
  },
  "language_info": {
   "codemirror_mode": {
    "name": "ipython",
    "version": 3
   },
   "file_extension": ".py",
   "mimetype": "text/x-python",
   "name": "python",
   "nbconvert_exporter": "python",
   "pygments_lexer": "ipython3",
   "version": "3.10.11"
  }
 },
 "nbformat": 4,
 "nbformat_minor": 5
}

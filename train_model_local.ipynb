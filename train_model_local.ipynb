{
 "cells": [
  {
   "cell_type": "code",
   "execution_count": 1,
   "id": "5633ed8e",
   "metadata": {},
   "outputs": [],
   "source": [
    "import pandas as pd\n",
    "from src.train import train_loop, test_loop\n",
    "from src.model import CNNLSTMModel\n",
    "from src.dataset import InverterTimeSeriesDataset\n",
    "from src.preprocess import *\n",
    "from src.visualize import *\n",
    "import torch"
   ]
  },
  {
   "cell_type": "markdown",
   "id": "fcf3d759",
   "metadata": {},
   "source": [
    "## Hyper-Parameter"
   ]
  },
  {
   "cell_type": "code",
   "execution_count": 2,
   "id": "5f407469",
   "metadata": {},
   "outputs": [],
   "source": [
    "performe_visualization = False"
   ]
  },
  {
   "cell_type": "code",
   "execution_count": 3,
   "id": "37ac0a88",
   "metadata": {},
   "outputs": [],
   "source": [
    "# some important parameters\n",
    "pre_day = 5\n",
    "window_size = 12*24 # 5 minutes * 12 * 24 = 1 day\n",
    "stride = 12 # 1 hour stride\n",
    "\n",
    "feature_cols = [\n",
    "    \"metric.STATUS_AC_MOD_ADMISSION_TEMP.MEASURED\",  # ambient temperature\n",
    "    \"metric.STATUS_INTERNAL_TEMP.MEASURED\",          # internal temperature\n",
    "    \"metric.AC_VOLTAGE_AB.MEASURED\",                 # AC voltage\n",
    "    \"metric.AC_VOLTAGE_BC.MEASURED\",                 # AC voltage\n",
    "    \"metric.AC_VOLTAGE_CA.MEASURED\",                 # AC voltage\n",
    "    \"metric.DC_VOLTAGE.MEASURED\"                     # DC voltage\n",
    "]\n",
    "\n",
    "exclude_periods = [\n",
    "    [pd.Timestamp('2021-01-01'), pd.Timestamp('2021-12-23')], # data collection issue\n",
    "    [pd.Timestamp('2023-02-23'), pd.Timestamp('2023-08-26')] # anomalies in the data\n",
    "]"
   ]
  },
  {
   "cell_type": "markdown",
   "id": "dc771650",
   "metadata": {},
   "source": [
    "## Data Preprocessing\n",
    "### Load Data"
   ]
  },
  {
   "cell_type": "code",
   "execution_count": 4,
   "id": "9dfd396c",
   "metadata": {},
   "outputs": [
    {
     "name": "stdout",
     "output_type": "stream",
     "text": [
      "Loaded 15 parquet files → 6126272 rows\n",
      "Kept 28 sessions longer than 5 days\n"
     ]
    }
   ],
   "source": [
    "inverter_data = load_parquet_data('data/inverter_data')\n",
    "failure_sessions = load_failure_sessions('data/failure_sessions.csv', min_days=5)"
   ]
  },
  {
   "cell_type": "code",
   "execution_count": 5,
   "id": "8806d8f3",
   "metadata": {},
   "outputs": [
    {
     "data": {
      "application/vnd.plotly.v1+json": {
       "config": {
        "plotlyServerURL": "https://plot.ly"
       },
       "data": [
        {
         "alignmentgroup": "True",
         "base": [
          "2025-04-20T13:35:00",
          "2025-03-29T13:55:00",
          "2023-01-02T16:40:00",
          "2023-01-14T07:45:00",
          "2025-04-20T11:20:00",
          "2025-04-23T14:35:00",
          "2023-05-29T05:40:00",
          "2023-07-26T06:55:00",
          "2023-03-17T17:10:00",
          "2024-08-31T06:30:00",
          "2025-04-20T10:35:00",
          "2022-09-29T09:30:00",
          "2022-07-28T09:55:00",
          "2023-05-29T05:40:00",
          "2024-02-15T08:10:00",
          "2023-03-17T17:10:00",
          "2025-04-20T11:20:00",
          "2024-05-03T09:00:00",
          "2022-07-28T10:05:00",
          "2023-05-29T05:40:00",
          "2025-05-05T10:25:00",
          "2023-03-17T17:10:00",
          "2025-04-20T10:35:00",
          "2022-07-28T10:05:00",
          "2023-05-29T05:40:00",
          "2025-05-05T10:25:00",
          "2023-03-25T17:20:00",
          "2025-05-05T10:25:00"
         ],
         "hovertemplate": "start_time=%{base}<br>end_time=%{x}<br>device_name=%{y}<extra></extra>",
         "legendgroup": "",
         "marker": {
          "color": "LightSkyBlue",
          "line": {
           "color": "RoyalBlue",
           "width": 2
          },
          "pattern": {
           "shape": ""
          }
         },
         "name": "",
         "offsetgroup": "",
         "orientation": "h",
         "showlegend": false,
         "textposition": "auto",
         "type": "bar",
         "x": [
          2856300000,
          513300000,
          931200000,
          1055400000,
          1798500000,
          671400000,
          4681200000,
          626700000,
          582900000,
          535200000,
          1801200000,
          4071300000,
          1667100000,
          1585500000,
          439800000,
          581100000,
          1798500000,
          532200000,
          1651800000,
          1586700000,
          2507700000,
          1196700000,
          1802400000,
          5436900000,
          1586700000,
          1993500000,
          8181900000,
          1970700000
         ],
         "xaxis": "x",
         "y": [
          "INV 51",
          "INV 52",
          "INV 54",
          "INV 54",
          "INV 54",
          "INV 55",
          "INV 56",
          "INV 56",
          "INV 57",
          "INV 57",
          "INV 57",
          "INV 58",
          "INV 59",
          "INV 59",
          "INV 59",
          "INV 60",
          "INV 60",
          "INV 61",
          "INV 62",
          "INV 62",
          "INV 62",
          "INV 63",
          "INV 63",
          "INV 65",
          "INV 65",
          "INV 65",
          "INV 66",
          "INV 66"
         ],
         "yaxis": "y"
        }
       ],
       "layout": {
        "barmode": "overlay",
        "legend": {
         "tracegroupgap": 0
        },
        "margin": {
         "t": 60
        },
        "showlegend": false,
        "template": {
         "data": {
          "bar": [
           {
            "error_x": {
             "color": "#2a3f5f"
            },
            "error_y": {
             "color": "#2a3f5f"
            },
            "marker": {
             "line": {
              "color": "#E5ECF6",
              "width": 0.5
             },
             "pattern": {
              "fillmode": "overlay",
              "size": 10,
              "solidity": 0.2
             }
            },
            "type": "bar"
           }
          ],
          "barpolar": [
           {
            "marker": {
             "line": {
              "color": "#E5ECF6",
              "width": 0.5
             },
             "pattern": {
              "fillmode": "overlay",
              "size": 10,
              "solidity": 0.2
             }
            },
            "type": "barpolar"
           }
          ],
          "carpet": [
           {
            "aaxis": {
             "endlinecolor": "#2a3f5f",
             "gridcolor": "white",
             "linecolor": "white",
             "minorgridcolor": "white",
             "startlinecolor": "#2a3f5f"
            },
            "baxis": {
             "endlinecolor": "#2a3f5f",
             "gridcolor": "white",
             "linecolor": "white",
             "minorgridcolor": "white",
             "startlinecolor": "#2a3f5f"
            },
            "type": "carpet"
           }
          ],
          "choropleth": [
           {
            "colorbar": {
             "outlinewidth": 0,
             "ticks": ""
            },
            "type": "choropleth"
           }
          ],
          "contour": [
           {
            "colorbar": {
             "outlinewidth": 0,
             "ticks": ""
            },
            "colorscale": [
             [
              0,
              "#0d0887"
             ],
             [
              0.1111111111111111,
              "#46039f"
             ],
             [
              0.2222222222222222,
              "#7201a8"
             ],
             [
              0.3333333333333333,
              "#9c179e"
             ],
             [
              0.4444444444444444,
              "#bd3786"
             ],
             [
              0.5555555555555556,
              "#d8576b"
             ],
             [
              0.6666666666666666,
              "#ed7953"
             ],
             [
              0.7777777777777778,
              "#fb9f3a"
             ],
             [
              0.8888888888888888,
              "#fdca26"
             ],
             [
              1,
              "#f0f921"
             ]
            ],
            "type": "contour"
           }
          ],
          "contourcarpet": [
           {
            "colorbar": {
             "outlinewidth": 0,
             "ticks": ""
            },
            "type": "contourcarpet"
           }
          ],
          "heatmap": [
           {
            "colorbar": {
             "outlinewidth": 0,
             "ticks": ""
            },
            "colorscale": [
             [
              0,
              "#0d0887"
             ],
             [
              0.1111111111111111,
              "#46039f"
             ],
             [
              0.2222222222222222,
              "#7201a8"
             ],
             [
              0.3333333333333333,
              "#9c179e"
             ],
             [
              0.4444444444444444,
              "#bd3786"
             ],
             [
              0.5555555555555556,
              "#d8576b"
             ],
             [
              0.6666666666666666,
              "#ed7953"
             ],
             [
              0.7777777777777778,
              "#fb9f3a"
             ],
             [
              0.8888888888888888,
              "#fdca26"
             ],
             [
              1,
              "#f0f921"
             ]
            ],
            "type": "heatmap"
           }
          ],
          "heatmapgl": [
           {
            "colorbar": {
             "outlinewidth": 0,
             "ticks": ""
            },
            "colorscale": [
             [
              0,
              "#0d0887"
             ],
             [
              0.1111111111111111,
              "#46039f"
             ],
             [
              0.2222222222222222,
              "#7201a8"
             ],
             [
              0.3333333333333333,
              "#9c179e"
             ],
             [
              0.4444444444444444,
              "#bd3786"
             ],
             [
              0.5555555555555556,
              "#d8576b"
             ],
             [
              0.6666666666666666,
              "#ed7953"
             ],
             [
              0.7777777777777778,
              "#fb9f3a"
             ],
             [
              0.8888888888888888,
              "#fdca26"
             ],
             [
              1,
              "#f0f921"
             ]
            ],
            "type": "heatmapgl"
           }
          ],
          "histogram": [
           {
            "marker": {
             "pattern": {
              "fillmode": "overlay",
              "size": 10,
              "solidity": 0.2
             }
            },
            "type": "histogram"
           }
          ],
          "histogram2d": [
           {
            "colorbar": {
             "outlinewidth": 0,
             "ticks": ""
            },
            "colorscale": [
             [
              0,
              "#0d0887"
             ],
             [
              0.1111111111111111,
              "#46039f"
             ],
             [
              0.2222222222222222,
              "#7201a8"
             ],
             [
              0.3333333333333333,
              "#9c179e"
             ],
             [
              0.4444444444444444,
              "#bd3786"
             ],
             [
              0.5555555555555556,
              "#d8576b"
             ],
             [
              0.6666666666666666,
              "#ed7953"
             ],
             [
              0.7777777777777778,
              "#fb9f3a"
             ],
             [
              0.8888888888888888,
              "#fdca26"
             ],
             [
              1,
              "#f0f921"
             ]
            ],
            "type": "histogram2d"
           }
          ],
          "histogram2dcontour": [
           {
            "colorbar": {
             "outlinewidth": 0,
             "ticks": ""
            },
            "colorscale": [
             [
              0,
              "#0d0887"
             ],
             [
              0.1111111111111111,
              "#46039f"
             ],
             [
              0.2222222222222222,
              "#7201a8"
             ],
             [
              0.3333333333333333,
              "#9c179e"
             ],
             [
              0.4444444444444444,
              "#bd3786"
             ],
             [
              0.5555555555555556,
              "#d8576b"
             ],
             [
              0.6666666666666666,
              "#ed7953"
             ],
             [
              0.7777777777777778,
              "#fb9f3a"
             ],
             [
              0.8888888888888888,
              "#fdca26"
             ],
             [
              1,
              "#f0f921"
             ]
            ],
            "type": "histogram2dcontour"
           }
          ],
          "mesh3d": [
           {
            "colorbar": {
             "outlinewidth": 0,
             "ticks": ""
            },
            "type": "mesh3d"
           }
          ],
          "parcoords": [
           {
            "line": {
             "colorbar": {
              "outlinewidth": 0,
              "ticks": ""
             }
            },
            "type": "parcoords"
           }
          ],
          "pie": [
           {
            "automargin": true,
            "type": "pie"
           }
          ],
          "scatter": [
           {
            "fillpattern": {
             "fillmode": "overlay",
             "size": 10,
             "solidity": 0.2
            },
            "type": "scatter"
           }
          ],
          "scatter3d": [
           {
            "line": {
             "colorbar": {
              "outlinewidth": 0,
              "ticks": ""
             }
            },
            "marker": {
             "colorbar": {
              "outlinewidth": 0,
              "ticks": ""
             }
            },
            "type": "scatter3d"
           }
          ],
          "scattercarpet": [
           {
            "marker": {
             "colorbar": {
              "outlinewidth": 0,
              "ticks": ""
             }
            },
            "type": "scattercarpet"
           }
          ],
          "scattergeo": [
           {
            "marker": {
             "colorbar": {
              "outlinewidth": 0,
              "ticks": ""
             }
            },
            "type": "scattergeo"
           }
          ],
          "scattergl": [
           {
            "marker": {
             "colorbar": {
              "outlinewidth": 0,
              "ticks": ""
             }
            },
            "type": "scattergl"
           }
          ],
          "scattermapbox": [
           {
            "marker": {
             "colorbar": {
              "outlinewidth": 0,
              "ticks": ""
             }
            },
            "type": "scattermapbox"
           }
          ],
          "scatterpolar": [
           {
            "marker": {
             "colorbar": {
              "outlinewidth": 0,
              "ticks": ""
             }
            },
            "type": "scatterpolar"
           }
          ],
          "scatterpolargl": [
           {
            "marker": {
             "colorbar": {
              "outlinewidth": 0,
              "ticks": ""
             }
            },
            "type": "scatterpolargl"
           }
          ],
          "scatterternary": [
           {
            "marker": {
             "colorbar": {
              "outlinewidth": 0,
              "ticks": ""
             }
            },
            "type": "scatterternary"
           }
          ],
          "surface": [
           {
            "colorbar": {
             "outlinewidth": 0,
             "ticks": ""
            },
            "colorscale": [
             [
              0,
              "#0d0887"
             ],
             [
              0.1111111111111111,
              "#46039f"
             ],
             [
              0.2222222222222222,
              "#7201a8"
             ],
             [
              0.3333333333333333,
              "#9c179e"
             ],
             [
              0.4444444444444444,
              "#bd3786"
             ],
             [
              0.5555555555555556,
              "#d8576b"
             ],
             [
              0.6666666666666666,
              "#ed7953"
             ],
             [
              0.7777777777777778,
              "#fb9f3a"
             ],
             [
              0.8888888888888888,
              "#fdca26"
             ],
             [
              1,
              "#f0f921"
             ]
            ],
            "type": "surface"
           }
          ],
          "table": [
           {
            "cells": {
             "fill": {
              "color": "#EBF0F8"
             },
             "line": {
              "color": "white"
             }
            },
            "header": {
             "fill": {
              "color": "#C8D4E3"
             },
             "line": {
              "color": "white"
             }
            },
            "type": "table"
           }
          ]
         },
         "layout": {
          "annotationdefaults": {
           "arrowcolor": "#2a3f5f",
           "arrowhead": 0,
           "arrowwidth": 1
          },
          "autotypenumbers": "strict",
          "coloraxis": {
           "colorbar": {
            "outlinewidth": 0,
            "ticks": ""
           }
          },
          "colorscale": {
           "diverging": [
            [
             0,
             "#8e0152"
            ],
            [
             0.1,
             "#c51b7d"
            ],
            [
             0.2,
             "#de77ae"
            ],
            [
             0.3,
             "#f1b6da"
            ],
            [
             0.4,
             "#fde0ef"
            ],
            [
             0.5,
             "#f7f7f7"
            ],
            [
             0.6,
             "#e6f5d0"
            ],
            [
             0.7,
             "#b8e186"
            ],
            [
             0.8,
             "#7fbc41"
            ],
            [
             0.9,
             "#4d9221"
            ],
            [
             1,
             "#276419"
            ]
           ],
           "sequential": [
            [
             0,
             "#0d0887"
            ],
            [
             0.1111111111111111,
             "#46039f"
            ],
            [
             0.2222222222222222,
             "#7201a8"
            ],
            [
             0.3333333333333333,
             "#9c179e"
            ],
            [
             0.4444444444444444,
             "#bd3786"
            ],
            [
             0.5555555555555556,
             "#d8576b"
            ],
            [
             0.6666666666666666,
             "#ed7953"
            ],
            [
             0.7777777777777778,
             "#fb9f3a"
            ],
            [
             0.8888888888888888,
             "#fdca26"
            ],
            [
             1,
             "#f0f921"
            ]
           ],
           "sequentialminus": [
            [
             0,
             "#0d0887"
            ],
            [
             0.1111111111111111,
             "#46039f"
            ],
            [
             0.2222222222222222,
             "#7201a8"
            ],
            [
             0.3333333333333333,
             "#9c179e"
            ],
            [
             0.4444444444444444,
             "#bd3786"
            ],
            [
             0.5555555555555556,
             "#d8576b"
            ],
            [
             0.6666666666666666,
             "#ed7953"
            ],
            [
             0.7777777777777778,
             "#fb9f3a"
            ],
            [
             0.8888888888888888,
             "#fdca26"
            ],
            [
             1,
             "#f0f921"
            ]
           ]
          },
          "colorway": [
           "#636efa",
           "#EF553B",
           "#00cc96",
           "#ab63fa",
           "#FFA15A",
           "#19d3f3",
           "#FF6692",
           "#B6E880",
           "#FF97FF",
           "#FECB52"
          ],
          "font": {
           "color": "#2a3f5f"
          },
          "geo": {
           "bgcolor": "white",
           "lakecolor": "white",
           "landcolor": "#E5ECF6",
           "showlakes": true,
           "showland": true,
           "subunitcolor": "white"
          },
          "hoverlabel": {
           "align": "left"
          },
          "hovermode": "closest",
          "mapbox": {
           "style": "light"
          },
          "paper_bgcolor": "white",
          "plot_bgcolor": "#E5ECF6",
          "polar": {
           "angularaxis": {
            "gridcolor": "white",
            "linecolor": "white",
            "ticks": ""
           },
           "bgcolor": "#E5ECF6",
           "radialaxis": {
            "gridcolor": "white",
            "linecolor": "white",
            "ticks": ""
           }
          },
          "scene": {
           "xaxis": {
            "backgroundcolor": "#E5ECF6",
            "gridcolor": "white",
            "gridwidth": 2,
            "linecolor": "white",
            "showbackground": true,
            "ticks": "",
            "zerolinecolor": "white"
           },
           "yaxis": {
            "backgroundcolor": "#E5ECF6",
            "gridcolor": "white",
            "gridwidth": 2,
            "linecolor": "white",
            "showbackground": true,
            "ticks": "",
            "zerolinecolor": "white"
           },
           "zaxis": {
            "backgroundcolor": "#E5ECF6",
            "gridcolor": "white",
            "gridwidth": 2,
            "linecolor": "white",
            "showbackground": true,
            "ticks": "",
            "zerolinecolor": "white"
           }
          },
          "shapedefaults": {
           "line": {
            "color": "#2a3f5f"
           }
          },
          "ternary": {
           "aaxis": {
            "gridcolor": "white",
            "linecolor": "white",
            "ticks": ""
           },
           "baxis": {
            "gridcolor": "white",
            "linecolor": "white",
            "ticks": ""
           },
           "bgcolor": "#E5ECF6",
           "caxis": {
            "gridcolor": "white",
            "linecolor": "white",
            "ticks": ""
           }
          },
          "title": {
           "x": 0.05
          },
          "xaxis": {
           "automargin": true,
           "gridcolor": "white",
           "linecolor": "white",
           "ticks": "",
           "title": {
            "standoff": 15
           },
           "zerolinecolor": "white",
           "zerolinewidth": 2
          },
          "yaxis": {
           "automargin": true,
           "gridcolor": "white",
           "linecolor": "white",
           "ticks": "",
           "title": {
            "standoff": 15
           },
           "zerolinecolor": "white",
           "zerolinewidth": 2
          }
         }
        },
        "title": {
         "text": "Failure Sessions Timeline"
        },
        "xaxis": {
         "anchor": "y",
         "domain": [
          0,
          1
         ],
         "title": {
          "text": "Time"
         },
         "type": "date"
        },
        "yaxis": {
         "anchor": "x",
         "autorange": "reversed",
         "domain": [
          0,
          1
         ],
         "title": {
          "text": "Device Name"
         }
        }
       }
      }
     },
     "metadata": {},
     "output_type": "display_data"
    }
   ],
   "source": [
    "import plotly.express as px\n",
    "import pandas as pd\n",
    "\n",
    "fig = px.timeline(failure_sessions, x_start=\"start_time\", x_end=\"end_time\", y=\"device_name\")\n",
    "fig.update_yaxes(autorange=\"reversed\") # otherwise tasks are listed from the bottom up\n",
    "fig.update_layout(title='Failure Sessions Timeline', xaxis_title='Time', yaxis_title='Device Name')\n",
    "fig.update_traces(marker=dict(color='LightSkyBlue', line=dict(color='RoyalBlue', width=2)))\n",
    "fig.update_layout(showlegend=False)\n",
    "fig.show()"
   ]
  },
  {
   "cell_type": "code",
   "execution_count": 6,
   "id": "5fb6ee2e",
   "metadata": {},
   "outputs": [],
   "source": [
    "if performe_visualization:\n",
    "    # Visualize the raw data\n",
    "    visualize_hourly_mean_values(inverter_data, failure_sessions, feature_cols, 'visualization', 'raw_data')"
   ]
  },
  {
   "cell_type": "markdown",
   "id": "03ae16f2",
   "metadata": {},
   "source": [
    "### Data Cleaning"
   ]
  },
  {
   "cell_type": "code",
   "execution_count": 7,
   "id": "7de9395d",
   "metadata": {},
   "outputs": [
    {
     "name": "stdout",
     "output_type": "stream",
     "text": [
      "inverter_data shape: (6126272, 59)\n",
      "Excluded data shape: (5172608, 59)\n"
     ]
    }
   ],
   "source": [
    "print(\"inverter_data shape:\", inverter_data.shape)\n",
    "filtered_data = exclude_periods_from_data(inverter_data, exclude_periods)\n",
    "print(\"Excluded data shape:\", filtered_data.shape)"
   ]
  },
  {
   "cell_type": "code",
   "execution_count": 8,
   "id": "abe8c038",
   "metadata": {},
   "outputs": [],
   "source": [
    "# remove unused columns\n",
    "filtered_data = filtered_data[['event_local_time', 'device_name'] + feature_cols]"
   ]
  },
  {
   "cell_type": "code",
   "execution_count": 9,
   "id": "ca1b13e1",
   "metadata": {},
   "outputs": [],
   "source": [
    "if performe_visualization:\n",
    "    # Visualize the filtered data\n",
    "    visualize_hourly_mean_values(filtered_data, failure_sessions, feature_cols, 'visualization', 'filtered_data')"
   ]
  },
  {
   "cell_type": "markdown",
   "id": "7faa25f4",
   "metadata": {},
   "source": [
    "### Anomoly Detection"
   ]
  },
  {
   "cell_type": "code",
   "execution_count": 10,
   "id": "78ad68c7",
   "metadata": {},
   "outputs": [
    {
     "name": "stdout",
     "output_type": "stream",
     "text": [
      "Anomalies in STATUS_AC_MOD_ADMISSION_TEMP removed: 2117\n"
     ]
    }
   ],
   "source": [
    "anomaly_ids = filtered_data[\"metric.STATUS_AC_MOD_ADMISSION_TEMP.MEASURED\"]>=100\n",
    "filtered_data.loc[anomaly_ids, \"metric.STATUS_AC_MOD_ADMISSION_TEMP.MEASURED\"] = None\n",
    "print(\"Anomalies in STATUS_AC_MOD_ADMISSION_TEMP removed:\", anomaly_ids.sum())"
   ]
  },
  {
   "cell_type": "markdown",
   "id": "c7979e30",
   "metadata": {},
   "source": [
    "### Data Labeling"
   ]
  },
  {
   "cell_type": "code",
   "execution_count": 11,
   "id": "c262cba8",
   "metadata": {},
   "outputs": [
    {
     "name": "stdout",
     "output_type": "stream",
     "text": [
      "Total pre-failure rows: 26164\n",
      "Total rows: 5059141\n"
     ]
    }
   ],
   "source": [
    "labeled_df = prepare_dataset(filtered_data, failure_sessions, pre_days=pre_day)"
   ]
  },
  {
   "cell_type": "markdown",
   "id": "c72f57da",
   "metadata": {},
   "source": [
    "### Missing Value Mask"
   ]
  },
  {
   "cell_type": "code",
   "execution_count": 12,
   "id": "74fb2cba",
   "metadata": {},
   "outputs": [],
   "source": [
    "def generate_missing_value_mask(df: pd.DataFrame, features_cols: list[str]) -> pd.DataFrame:\n",
    "    # Step 1: 缺失 mask\n",
    "    for col in features_cols:\n",
    "        df[f\"{col}_missing\"] = df[col].isna().astype(int)\n",
    "        \n",
    "generate_missing_value_mask(labeled_df, feature_cols)"
   ]
  },
  {
   "cell_type": "code",
   "execution_count": 13,
   "id": "c821d9a5",
   "metadata": {},
   "outputs": [],
   "source": [
    "extended_feature_cols = feature_cols+[col+'_missing' for col in feature_cols]"
   ]
  },
  {
   "cell_type": "markdown",
   "id": "e502018d",
   "metadata": {},
   "source": [
    "### Missing Value Imputation"
   ]
  },
  {
   "cell_type": "code",
   "execution_count": 14,
   "id": "e6b1d156",
   "metadata": {},
   "outputs": [],
   "source": [
    "imputed_df = missing_value_imputation(labeled_df, feature_cols, time_col='event_local_time', device_col='device_name', short_gap_limit=6, long_fill_value=0.0, add_missing_mask=True)"
   ]
  },
  {
   "cell_type": "markdown",
   "id": "84b48cdb",
   "metadata": {},
   "source": [
    "### Feature Engineering"
   ]
  },
  {
   "cell_type": "code",
   "execution_count": 15,
   "id": "9d80fecc",
   "metadata": {},
   "outputs": [],
   "source": [
    "imputed_df['hour_of_day'] = imputed_df['event_local_time'].dt.hour\n",
    "extended_feature_cols += ['hour_of_day']"
   ]
  },
  {
   "cell_type": "code",
   "execution_count": 16,
   "id": "d27b4c0a",
   "metadata": {},
   "outputs": [],
   "source": [
    "if performe_visualization:\n",
    "    visualize_hourly_mean_values(imputed_df, failure_sessions, extended_feature_cols+['label'], \n",
    "                                title='processed_data')"
   ]
  },
  {
   "cell_type": "markdown",
   "id": "b181af6b",
   "metadata": {},
   "source": [
    "### Split Dataset"
   ]
  },
  {
   "cell_type": "code",
   "execution_count": 17,
   "id": "9e26fda1",
   "metadata": {},
   "outputs": [
    {
     "name": "stdout",
     "output_type": "stream",
     "text": [
      "Train set size: 3541399 Train set time range: 2021-12-24 00:00:00 to 2024-08-15 08:50:00\n",
      "Test set size: 1517742 Test set time range: 2024-08-15 08:50:00 to 2025-07-23 23:35:00\n",
      "Train set size: 1062420 Train set time range: 2024-08-15 08:50:00 to 2025-04-03 16:15:00\n",
      "Test set size: 455322 Test set time range: 2025-04-03 16:15:00 to 2025-07-23 23:35:00\n"
     ]
    }
   ],
   "source": [
    "train_df, test_df = train_test_split_on_time(imputed_df, 0.3)\n",
    "val_df, test_df = train_test_split_on_time(test_df, 0.3)"
   ]
  },
  {
   "cell_type": "markdown",
   "id": "777fd02b",
   "metadata": {},
   "source": [
    "### Standardization"
   ]
  },
  {
   "cell_type": "code",
   "execution_count": 18,
   "id": "cbde8f9f",
   "metadata": {},
   "outputs": [],
   "source": [
    "from sklearn.preprocessing import StandardScaler\n",
    "feature_to_standardize = feature_cols + ['hour_of_day']\n",
    "scaler = StandardScaler()\n",
    "train_df[feature_to_standardize] = scaler.fit_transform(train_df[feature_to_standardize])\n",
    "val_df[feature_to_standardize] = scaler.transform(val_df[feature_to_standardize])\n",
    "test_df[feature_to_standardize] = scaler.transform(test_df[feature_to_standardize])"
   ]
  },
  {
   "cell_type": "code",
   "execution_count": 19,
   "id": "c2ce625e",
   "metadata": {},
   "outputs": [],
   "source": [
    "if performe_visualization:\n",
    "    visualize_hourly_mean_values(train_df, failure_sessions, extended_feature_cols+['label'], \n",
    "                                 'visualization', 'train_data')\n",
    "    visualize_hourly_mean_values(val_df, failure_sessions, extended_feature_cols+['label'], \n",
    "                                 'visualization', 'val_data')\n",
    "    visualize_hourly_mean_values(test_df, failure_sessions, extended_feature_cols+['label'],\n",
    "                                    'visualization', 'test_data')"
   ]
  },
  {
   "cell_type": "code",
   "execution_count": 20,
   "id": "fc833c9a",
   "metadata": {},
   "outputs": [
    {
     "data": {
      "text/plain": [
       "0    3531075\n",
       "1      10324\n",
       "Name: label, dtype: int64"
      ]
     },
     "execution_count": 20,
     "metadata": {},
     "output_type": "execute_result"
    }
   ],
   "source": [
    "train_df['label'].value_counts()"
   ]
  },
  {
   "cell_type": "markdown",
   "id": "3c9b4875",
   "metadata": {},
   "source": [
    "### Create Dataset/Data Loader"
   ]
  },
  {
   "cell_type": "code",
   "execution_count": 21,
   "id": "89be8408",
   "metadata": {},
   "outputs": [
    {
     "name": "stderr",
     "output_type": "stream",
     "text": [
      "Processing devices: 100%|██████████| 16/16 [00:01<00:00,  8.79it/s]\n",
      "Processing devices: 100%|██████████| 16/16 [00:00<00:00, 17.78it/s]\n",
      "Processing devices: 100%|██████████| 16/16 [00:00<00:00, 30.21it/s]\n"
     ]
    }
   ],
   "source": [
    "from torch.utils.data import DataLoader\n",
    "\n",
    "train_ds = InverterTimeSeriesDataset(train_df, extended_feature_cols, window_size=window_size, stride=stride)\n",
    "val_ds   = InverterTimeSeriesDataset(val_df,   extended_feature_cols, window_size=window_size, stride=stride)\n",
    "test_ds  = InverterTimeSeriesDataset(test_df,  extended_feature_cols, window_size=window_size, stride=stride)"
   ]
  },
  {
   "cell_type": "code",
   "execution_count": 22,
   "id": "6e127b2e",
   "metadata": {},
   "outputs": [
    {
     "data": {
      "text/plain": [
       "torch.Size([293077, 288, 13])"
      ]
     },
     "execution_count": 22,
     "metadata": {},
     "output_type": "execute_result"
    }
   ],
   "source": [
    "train_ds.X.shape"
   ]
  },
  {
   "cell_type": "code",
   "execution_count": 23,
   "id": "dc679b9d",
   "metadata": {},
   "outputs": [
    {
     "data": {
      "text/plain": [
       "(0.0    292237\n",
       " 1.0       840\n",
       " dtype: int64,\n",
       " 0.0    87528\n",
       " 1.0      240\n",
       " dtype: int64,\n",
       " 0.0    36279\n",
       " 1.0     1080\n",
       " dtype: int64)"
      ]
     },
     "execution_count": 23,
     "metadata": {},
     "output_type": "execute_result"
    }
   ],
   "source": [
    "pd.value_counts(train_ds.y.numpy()), pd.value_counts(val_ds.y.numpy()), pd.value_counts(test_ds.y.numpy())"
   ]
  },
  {
   "cell_type": "code",
   "execution_count": 24,
   "id": "b204cf86",
   "metadata": {},
   "outputs": [],
   "source": [
    "batch_size = 2**9\n",
    "train_loader = DataLoader(train_ds, batch_size=batch_size, shuffle=True,  num_workers=6, pin_memory=True)\n",
    "val_loader   = DataLoader(val_ds,   batch_size=batch_size, shuffle=False, num_workers=6, pin_memory=True)\n",
    "test_loader  = DataLoader(test_ds,  batch_size=batch_size, shuffle=False, num_workers=6, pin_memory=True)"
   ]
  },
  {
   "cell_type": "markdown",
   "id": "6bc7c875",
   "metadata": {},
   "source": [
    "## Train Model"
   ]
  },
  {
   "cell_type": "code",
   "execution_count": null,
   "id": "ac4316e3",
   "metadata": {},
   "outputs": [],
   "source": [
    "model = CNNLSTMModel(num_features=len(extended_feature_cols), cnn_out_channels=64, lstm_hidden_size=128)\n",
    "optimizer = torch.optim.Adam(model.parameters(), lr=1e-3)\n",
    "\n",
    "# 建議先用較溫和的 pos_weight（例：5），再用驗證集掃描最佳值\n",
    "pos_weight_value = 5.0\n",
    "criterion = torch.nn.BCEWithLogitsLoss(pos_weight=torch.tensor([pos_weight_value], dtype=torch.float)).to('cuda')\n"
   ]
  },
  {
   "cell_type": "code",
   "execution_count": 46,
   "id": "1f7b89ee",
   "metadata": {},
   "outputs": [
    {
     "name": "stdout",
     "output_type": "stream",
     "text": [
      "Model moved to cuda\n",
      "Resuming training from epoch 15\n",
      "[Epoch 15/30] Step 0/573 - Loss: 0.0093\n",
      "[Epoch 15/30] Step 100/573 - Loss: 0.0025\n",
      "[Epoch 15/30] Step 200/573 - Loss: 0.0778\n",
      "[Epoch 15/30] Step 300/573 - Loss: 0.0122\n",
      "[Epoch 15/30] Step 400/573 - Loss: 0.0016\n",
      "[Epoch 15/30] Step 500/573 - Loss: 0.0050\n",
      "🔁 Epoch 15 finished. Avg Train Loss: 0.0134\n",
      "✅ Validation Loss: 0.1624 | Accuracy: 99.65%\n",
      "Best model saved at epoch 15 with loss 0.1624\n",
      "[Epoch 16/30] Step 0/573 - Loss: 0.0011\n",
      "[Epoch 16/30] Step 100/573 - Loss: 0.0067\n",
      "[Epoch 16/30] Step 200/573 - Loss: 0.0103\n",
      "[Epoch 16/30] Step 300/573 - Loss: 0.0102\n",
      "[Epoch 16/30] Step 400/573 - Loss: 0.0043\n",
      "[Epoch 16/30] Step 500/573 - Loss: 0.0068\n",
      "🔁 Epoch 16 finished. Avg Train Loss: 0.0129\n",
      "✅ Validation Loss: 0.1298 | Accuracy: 99.62%\n",
      "Best model saved at epoch 16 with loss 0.1298\n",
      "[Epoch 17/30] Step 0/573 - Loss: 0.0116\n",
      "[Epoch 17/30] Step 100/573 - Loss: 0.0062\n",
      "[Epoch 17/30] Step 200/573 - Loss: 0.0075\n",
      "[Epoch 17/30] Step 300/573 - Loss: 0.0115\n",
      "[Epoch 17/30] Step 400/573 - Loss: 0.0013\n",
      "[Epoch 17/30] Step 500/573 - Loss: 0.0051\n",
      "🔁 Epoch 17 finished. Avg Train Loss: 0.0144\n",
      "✅ Validation Loss: 0.1458 | Accuracy: 99.69%\n",
      "[Epoch 18/30] Step 0/573 - Loss: 0.0062\n",
      "[Epoch 18/30] Step 100/573 - Loss: 0.0118\n",
      "[Epoch 18/30] Step 200/573 - Loss: 0.0040\n",
      "[Epoch 18/30] Step 300/573 - Loss: 0.0209\n",
      "[Epoch 18/30] Step 400/573 - Loss: 0.0063\n",
      "[Epoch 18/30] Step 500/573 - Loss: 0.0033\n",
      "🔁 Epoch 18 finished. Avg Train Loss: 0.0096\n",
      "✅ Validation Loss: 0.1434 | Accuracy: 99.67%\n",
      "[Epoch 19/30] Step 0/573 - Loss: 0.0175\n",
      "[Epoch 19/30] Step 100/573 - Loss: 0.0041\n",
      "[Epoch 19/30] Step 200/573 - Loss: 0.0060\n",
      "[Epoch 19/30] Step 300/573 - Loss: 0.0071\n",
      "[Epoch 19/30] Step 400/573 - Loss: 0.0217\n",
      "[Epoch 19/30] Step 500/573 - Loss: 0.0027\n",
      "🔁 Epoch 19 finished. Avg Train Loss: 0.0128\n",
      "✅ Validation Loss: 0.1556 | Accuracy: 99.69%\n",
      "[Epoch 20/30] Step 0/573 - Loss: 0.0104\n",
      "[Epoch 20/30] Step 100/573 - Loss: 0.0009\n",
      "[Epoch 20/30] Step 200/573 - Loss: 0.0040\n",
      "[Epoch 20/30] Step 300/573 - Loss: 0.0070\n",
      "[Epoch 20/30] Step 400/573 - Loss: 0.0023\n",
      "[Epoch 20/30] Step 500/573 - Loss: 0.0025\n",
      "🔁 Epoch 20 finished. Avg Train Loss: 0.0079\n",
      "✅ Validation Loss: 0.1832 | Accuracy: 99.70%\n",
      "[Epoch 21/30] Step 0/573 - Loss: 0.0007\n",
      "[Epoch 21/30] Step 100/573 - Loss: 0.0045\n",
      "[Epoch 21/30] Step 200/573 - Loss: 0.0019\n",
      "[Epoch 21/30] Step 300/573 - Loss: 0.0005\n",
      "[Epoch 21/30] Step 400/573 - Loss: 0.0213\n",
      "[Epoch 21/30] Step 500/573 - Loss: 0.0023\n",
      "🔁 Epoch 21 finished. Avg Train Loss: 0.0084\n",
      "✅ Validation Loss: 0.1683 | Accuracy: 99.71%\n",
      "[Epoch 22/30] Step 0/573 - Loss: 0.0296\n",
      "[Epoch 22/30] Step 100/573 - Loss: 0.0003\n",
      "[Epoch 22/30] Step 200/573 - Loss: 0.0002\n",
      "[Epoch 22/30] Step 300/573 - Loss: 0.0109\n",
      "[Epoch 22/30] Step 400/573 - Loss: 0.0007\n",
      "[Epoch 22/30] Step 500/573 - Loss: 0.0061\n",
      "🔁 Epoch 22 finished. Avg Train Loss: 0.0078\n",
      "✅ Validation Loss: 0.1455 | Accuracy: 99.71%\n",
      "[Epoch 23/30] Step 0/573 - Loss: 0.0229\n",
      "[Epoch 23/30] Step 100/573 - Loss: 0.0044\n",
      "[Epoch 23/30] Step 200/573 - Loss: 0.0069\n",
      "[Epoch 23/30] Step 300/573 - Loss: 0.0008\n",
      "[Epoch 23/30] Step 400/573 - Loss: 0.0057\n",
      "[Epoch 23/30] Step 500/573 - Loss: 0.0086\n",
      "🔁 Epoch 23 finished. Avg Train Loss: 0.0102\n",
      "✅ Validation Loss: 0.1431 | Accuracy: 99.70%\n",
      "[Epoch 24/30] Step 0/573 - Loss: 0.0051\n",
      "[Epoch 24/30] Step 100/573 - Loss: 0.0075\n",
      "[Epoch 24/30] Step 200/573 - Loss: 0.0025\n",
      "[Epoch 24/30] Step 300/573 - Loss: 0.0077\n",
      "[Epoch 24/30] Step 400/573 - Loss: 0.0001\n",
      "[Epoch 24/30] Step 500/573 - Loss: 0.0058\n",
      "🔁 Epoch 24 finished. Avg Train Loss: 0.0087\n",
      "✅ Validation Loss: 0.1605 | Accuracy: 99.67%\n",
      "[Epoch 25/30] Step 0/573 - Loss: 0.0052\n",
      "[Epoch 25/30] Step 100/573 - Loss: 0.0040\n",
      "[Epoch 25/30] Step 200/573 - Loss: 0.0024\n",
      "[Epoch 25/30] Step 300/573 - Loss: 0.0058\n",
      "[Epoch 25/30] Step 400/573 - Loss: 0.0131\n",
      "[Epoch 25/30] Step 500/573 - Loss: 0.0445\n",
      "🔁 Epoch 25 finished. Avg Train Loss: 0.0093\n",
      "✅ Validation Loss: 0.1470 | Accuracy: 99.71%\n",
      "[Epoch 26/30] Step 0/573 - Loss: 0.0090\n",
      "[Epoch 26/30] Step 100/573 - Loss: 0.0055\n",
      "[Epoch 26/30] Step 200/573 - Loss: 0.0028\n",
      "[Epoch 26/30] Step 300/573 - Loss: 0.0043\n",
      "[Epoch 26/30] Step 400/573 - Loss: 0.0011\n",
      "[Epoch 26/30] Step 500/573 - Loss: 0.0008\n",
      "🔁 Epoch 26 finished. Avg Train Loss: 0.0077\n",
      "✅ Validation Loss: 0.1916 | Accuracy: 99.70%\n",
      "[Epoch 27/30] Step 0/573 - Loss: 0.0003\n",
      "[Epoch 27/30] Step 100/573 - Loss: 0.0031\n",
      "[Epoch 27/30] Step 200/573 - Loss: 0.0073\n",
      "[Epoch 27/30] Step 300/573 - Loss: 0.0022\n",
      "[Epoch 27/30] Step 400/573 - Loss: 0.0002\n",
      "[Epoch 27/30] Step 500/573 - Loss: 0.0005\n",
      "🔁 Epoch 27 finished. Avg Train Loss: 0.0067\n",
      "✅ Validation Loss: 0.2013 | Accuracy: 99.62%\n",
      "[Epoch 28/30] Step 0/573 - Loss: 0.0045\n",
      "[Epoch 28/30] Step 100/573 - Loss: 0.0254\n",
      "[Epoch 28/30] Step 200/573 - Loss: 0.0099\n",
      "[Epoch 28/30] Step 300/573 - Loss: 0.0371\n",
      "[Epoch 28/30] Step 400/573 - Loss: 0.0014\n",
      "[Epoch 28/30] Step 500/573 - Loss: 0.0094\n",
      "🔁 Epoch 28 finished. Avg Train Loss: 0.0065\n",
      "✅ Validation Loss: 0.1974 | Accuracy: 99.66%\n",
      "[Epoch 29/30] Step 0/573 - Loss: 0.0131\n",
      "[Epoch 29/30] Step 100/573 - Loss: 0.0003\n",
      "[Epoch 29/30] Step 200/573 - Loss: 0.0303\n",
      "[Epoch 29/30] Step 300/573 - Loss: 0.0025\n",
      "[Epoch 29/30] Step 400/573 - Loss: 0.0007\n",
      "[Epoch 29/30] Step 500/573 - Loss: 0.0033\n",
      "🔁 Epoch 29 finished. Avg Train Loss: 0.0044\n",
      "✅ Validation Loss: 0.2191 | Accuracy: 99.69%\n",
      "[Epoch 30/30] Step 0/573 - Loss: 0.0010\n",
      "[Epoch 30/30] Step 100/573 - Loss: 0.0082\n",
      "[Epoch 30/30] Step 200/573 - Loss: 0.0092\n",
      "[Epoch 30/30] Step 300/573 - Loss: 0.0138\n",
      "[Epoch 30/30] Step 400/573 - Loss: 0.0005\n",
      "[Epoch 30/30] Step 500/573 - Loss: 0.0001\n",
      "🔁 Epoch 30 finished. Avg Train Loss: 0.0054\n",
      "✅ Validation Loss: 0.1908 | Accuracy: 99.65%\n",
      "[Epoch 31/30] Step 0/573 - Loss: 0.0018\n"
     ]
    },
    {
     "ename": "KeyboardInterrupt",
     "evalue": "",
     "output_type": "error",
     "traceback": [
      "\u001b[1;31m---------------------------------------------------------------------------\u001b[0m",
      "\u001b[1;31mKeyboardInterrupt\u001b[0m                         Traceback (most recent call last)",
      "Cell \u001b[1;32mIn[46], line 1\u001b[0m\n\u001b[1;32m----> 1\u001b[0m log \u001b[38;5;241m=\u001b[39m \u001b[43mtrain_loop\u001b[49m\u001b[43m(\u001b[49m\n\u001b[0;32m      2\u001b[0m \u001b[43m    \u001b[49m\u001b[43mmodel\u001b[49m\u001b[43m,\u001b[49m\u001b[43m \u001b[49m\u001b[43mtrain_loader\u001b[49m\u001b[43m,\u001b[49m\u001b[43m \u001b[49m\u001b[43mval_loader\u001b[49m\u001b[43m,\u001b[49m\u001b[43m \u001b[49m\n\u001b[0;32m      3\u001b[0m \u001b[43m    \u001b[49m\u001b[43mlog_interval\u001b[49m\u001b[38;5;241;43m=\u001b[39;49m\u001b[38;5;241;43m100\u001b[39;49m\u001b[43m,\u001b[49m\u001b[43m \u001b[49m\n\u001b[0;32m      4\u001b[0m \u001b[43m    \u001b[49m\u001b[43mnum_epochs\u001b[49m\u001b[38;5;241;43m=\u001b[39;49m\u001b[38;5;241;43m30\u001b[39;49m\u001b[43m,\u001b[49m\u001b[43m \u001b[49m\n\u001b[0;32m      5\u001b[0m \u001b[43m    \u001b[49m\u001b[43moptimizer\u001b[49m\u001b[38;5;241;43m=\u001b[39;49m\u001b[43moptimizer\u001b[49m\u001b[43m,\u001b[49m\u001b[43m \u001b[49m\n\u001b[0;32m      6\u001b[0m \u001b[43m    \u001b[49m\u001b[43mcriterion\u001b[49m\u001b[38;5;241;43m=\u001b[39;49m\u001b[43mcriterion\u001b[49m\u001b[43m,\u001b[49m\n\u001b[0;32m      7\u001b[0m \u001b[43m    \u001b[49m\u001b[43msave_interval\u001b[49m\u001b[38;5;241;43m=\u001b[39;49m\u001b[38;5;241;43m5\u001b[39;49m\u001b[43m,\u001b[49m\n\u001b[0;32m      8\u001b[0m \u001b[43m    \u001b[49m\u001b[43msave_path\u001b[49m\u001b[38;5;241;43m=\u001b[39;49m\u001b[38;5;124;43mr\u001b[39;49m\u001b[38;5;124;43m'\u001b[39;49m\u001b[38;5;124;43mmodel\u001b[39;49m\u001b[38;5;124;43m\\\u001b[39;49m\u001b[38;5;124;43m0811_2042\u001b[39;49m\u001b[38;5;124;43m'\u001b[39;49m\u001b[43m,\u001b[49m\n\u001b[0;32m      9\u001b[0m \u001b[43m)\u001b[49m\n",
      "File \u001b[1;32mc:\\Users\\USER\\OneDrive\\文件\\academic\\ucla\\capstone\\src\\train.py:55\u001b[0m, in \u001b[0;36mtrain_loop\u001b[1;34m(model, train_loader, val_loader, device, optimizer, criterion, num_epochs, scheduler, log_interval, save_interval, save_path)\u001b[0m\n\u001b[0;32m     52\u001b[0m loss\u001b[38;5;241m.\u001b[39mbackward()\n\u001b[0;32m     53\u001b[0m optimizer\u001b[38;5;241m.\u001b[39mstep()\n\u001b[1;32m---> 55\u001b[0m total_loss \u001b[38;5;241m+\u001b[39m\u001b[38;5;241m=\u001b[39m loss\u001b[38;5;241m.\u001b[39mitem()\n\u001b[0;32m     57\u001b[0m \u001b[38;5;28;01mif\u001b[39;00m batch_idx \u001b[38;5;241m%\u001b[39m log_interval \u001b[38;5;241m==\u001b[39m \u001b[38;5;241m0\u001b[39m:\n\u001b[0;32m     58\u001b[0m     \u001b[38;5;28mprint\u001b[39m(\u001b[38;5;124mf\u001b[39m\u001b[38;5;124m\"\u001b[39m\u001b[38;5;124m[Epoch \u001b[39m\u001b[38;5;132;01m{\u001b[39;00mepoch\u001b[38;5;132;01m}\u001b[39;00m\u001b[38;5;124m/\u001b[39m\u001b[38;5;132;01m{\u001b[39;00mnum_epochs\u001b[38;5;132;01m}\u001b[39;00m\u001b[38;5;124m] Step \u001b[39m\u001b[38;5;132;01m{\u001b[39;00mbatch_idx\u001b[38;5;132;01m}\u001b[39;00m\u001b[38;5;124m/\u001b[39m\u001b[38;5;132;01m{\u001b[39;00m\u001b[38;5;28mlen\u001b[39m(train_loader)\u001b[38;5;132;01m}\u001b[39;00m\u001b[38;5;124m - Loss: \u001b[39m\u001b[38;5;132;01m{\u001b[39;00mloss\u001b[38;5;241m.\u001b[39mitem()\u001b[38;5;132;01m:\u001b[39;00m\u001b[38;5;124m.4f\u001b[39m\u001b[38;5;132;01m}\u001b[39;00m\u001b[38;5;124m\"\u001b[39m)\n",
      "\u001b[1;31mKeyboardInterrupt\u001b[0m: "
     ]
    }
   ],
   "source": [
    "log = train_loop(\n",
    "    model, train_loader, val_loader, \n",
    "    log_interval=100, \n",
    "    num_epochs=30, \n",
    "    optimizer=optimizer, \n",
    "    criterion=criterion,\n",
    "    save_interval=5,\n",
    "    save_path=r'model\\0811_2042',\n",
    ")"
   ]
  },
  {
   "cell_type": "code",
   "execution_count": 47,
   "id": "8f7a75cd",
   "metadata": {},
   "outputs": [
    {
     "data": {
      "text/plain": [
       "<matplotlib.legend.Legend at 0x1e75b52d270>"
      ]
     },
     "execution_count": 47,
     "metadata": {},
     "output_type": "execute_result"
    },
    {
     "data": {
      "image/png": "[encoded data removed]",
      "text/plain": [
       "<Figure size 640x480 with 1 Axes>"
      ]
     },
     "metadata": {},
     "output_type": "display_data"
    }
   ],
   "source": [
    "import matplotlib.pyplot as plt\n",
    "log = pd.read_csv('model/0811_2042/training_log.csv')\n",
    "plt.plot(log['train_loss'], label='train_loss')\n",
    "plt.plot(log['val_loss'], label='val_loss')\n",
    "plt.xlabel('Epoch')\n",
    "plt.ylabel('Loss')\n",
    "plt.legend()"
   ]
  },
  {
   "cell_type": "markdown",
   "id": "9612ae49",
   "metadata": {},
   "source": [
    "### Model Evaluation"
   ]
  },
  {
   "cell_type": "code",
   "execution_count": 48,
   "id": "20e18558",
   "metadata": {},
   "outputs": [],
   "source": [
    "import matplotlib.pyplot as plt\n",
    "from sklearn.metrics import classification_report, confusion_matrix\n",
    "from sklearn.metrics import roc_auc_score, roc_curve\n",
    "\n",
    "def evaluate_model(model, data_loader, best_threshold=0.5, device='cuda', criterion=None):\n",
    "    trues, predictions, outputs = test_loop(model, data_loader, device=device, criterion=criterion, best_threshold=best_threshold)\n",
    "    print(classification_report(trues, predictions , target_names=['Normal', 'Failure']))\n",
    "    print(confusion_matrix(trues, predictions ))\n",
    "    roc_auc = roc_auc_score(trues, outputs)\n",
    "    print(f\"ROC AUC: {roc_auc:.4f}\")\n",
    "    curve = roc_curve(trues, outputs)\n",
    "\n",
    "    plt.figure(figsize=(8, 6))\n",
    "    plt.plot(curve[0], curve[1], label='ROC Curve')\n",
    "    plt.xlabel('False Positive Rate')\n",
    "    plt.ylabel('True Positive Rate')\n",
    "    plt.title('ROC Curve')"
   ]
  },
  {
   "cell_type": "code",
   "execution_count": null,
   "id": "52e4da64",
   "metadata": {},
   "outputs": [
    {
     "data": {
      "text/plain": [
       "<All keys matched successfully>"
      ]
     },
     "execution_count": 39,
     "metadata": {},
     "output_type": "execute_result"
    }
   ],
   "source": [
    "model = CNNLSTMModel(num_features=len(extended_feature_cols), cnn_out_channels=64, lstm_hidden_size=128)\n",
    "model.load_state_dict(torch.load(r'model\\0811_1802\\best_model.pth', weights_only=True))"
   ]
  },
  {
   "cell_type": "code",
   "execution_count": 50,
   "id": "a92d6e62",
   "metadata": {},
   "outputs": [
    {
     "name": "stdout",
     "output_type": "stream",
     "text": [
      "Performance on Training Set:\n",
      "🔍 Test Loss: 0.0065 | Accuracy: 99.93%\n",
      "              precision    recall  f1-score   support\n",
      "\n",
      "      Normal       1.00      1.00      1.00    292237\n",
      "     Failure       0.88      0.86      0.87       840\n",
      "\n",
      "    accuracy                           1.00    293077\n",
      "   macro avg       0.94      0.93      0.94    293077\n",
      "weighted avg       1.00      1.00      1.00    293077\n",
      "\n",
      "[[292142     95]\n",
      " [   115    725]]\n",
      "ROC AUC: 0.9997\n"
     ]
    },
    {
     "data": {
      "image/png": "[encoded data removed]",
      "text/plain": [
       "<Figure size 800x600 with 1 Axes>"
      ]
     },
     "metadata": {},
     "output_type": "display_data"
    }
   ],
   "source": [
    "print(\"Performance on Training Set:\")\n",
    "evaluate_model(model, train_loader, best_threshold=0.5, device='cuda', criterion=criterion)"
   ]
  },
  {
   "cell_type": "code",
   "execution_count": 51,
   "id": "8d873ead",
   "metadata": {},
   "outputs": [
    {
     "name": "stdout",
     "output_type": "stream",
     "text": [
      "🔍 Test Loss: 0.2086 | Accuracy: 99.68%\n"
     ]
    }
   ],
   "source": [
    "trues, predictions, outputs = test_loop(model, val_loader, device='cuda', criterion=criterion)"
   ]
  },
  {
   "cell_type": "code",
   "execution_count": 52,
   "id": "9319fab6",
   "metadata": {},
   "outputs": [
    {
     "name": "stdout",
     "output_type": "stream",
     "text": [
      "Best threshold: 2.8345794e-05\n",
      "Precision: 0.011976047904191617\n",
      "Recall: 0.15833333333333333\n",
      "F1: 0.022267798282312696\n"
     ]
    }
   ],
   "source": [
    "from sklearn.metrics import precision_recall_curve, f1_score\n",
    "\n",
    "# y_val: 驗證集真實標籤 (0/1)\n",
    "# y_val_scores: 模型輸出的機率（sigmoid 後）或 logits\n",
    "precisions, recalls, thresholds = precision_recall_curve(trues, outputs)\n",
    "\n",
    "# 計算 F1\n",
    "f1_scores = 2 * precisions * recalls / (precisions + recalls + 1e-8)\n",
    "best_idx = f1_scores.argmax()\n",
    "best_threshold = thresholds[best_idx]\n",
    "\n",
    "print(\"Best threshold:\", best_threshold)\n",
    "print(\"Precision:\", precisions[best_idx])\n",
    "print(\"Recall:\", recalls[best_idx])\n",
    "print(\"F1:\", f1_scores[best_idx])\n"
   ]
  },
  {
   "cell_type": "code",
   "execution_count": 53,
   "id": "ae0790bb",
   "metadata": {},
   "outputs": [
    {
     "name": "stdout",
     "output_type": "stream",
     "text": [
      "Performance on Validation Set:\n",
      "🔍 Test Loss: 0.2086 | Accuracy: 96.20%\n",
      "              precision    recall  f1-score   support\n",
      "\n",
      "      Normal       1.00      0.96      0.98     87528\n",
      "     Failure       0.01      0.15      0.02       240\n",
      "\n",
      "    accuracy                           0.96     87768\n",
      "   macro avg       0.50      0.56      0.50     87768\n",
      "weighted avg       0.99      0.96      0.98     87768\n",
      "\n",
      "[[84393  3135]\n",
      " [  203    37]]\n",
      "ROC AUC: 0.7043\n"
     ]
    },
    {
     "data": {
      "image/png": "[encoded data removed]",
      "text/plain": [
       "<Figure size 800x600 with 1 Axes>"
      ]
     },
     "metadata": {},
     "output_type": "display_data"
    }
   ],
   "source": [
    "print(\"Performance on Validation Set:\")\n",
    "evaluate_model(model, val_loader, best_threshold=best_threshold, device='cuda', criterion=criterion)"
   ]
  },
  {
   "cell_type": "code",
   "execution_count": 54,
   "id": "25e186ec",
   "metadata": {},
   "outputs": [
    {
     "name": "stdout",
     "output_type": "stream",
     "text": [
      "Performance on Test Set:\n",
      "🔍 Test Loss: 2.1678 | Accuracy: 82.22%\n",
      "              precision    recall  f1-score   support\n",
      "\n",
      "      Normal       0.97      0.84      0.90     36279\n",
      "     Failure       0.05      0.28      0.08      1080\n",
      "\n",
      "    accuracy                           0.82     37359\n",
      "   macro avg       0.51      0.56      0.49     37359\n",
      "weighted avg       0.95      0.82      0.88     37359\n",
      "\n",
      "[[30418  5861]\n",
      " [  780   300]]\n",
      "ROC AUC: 0.5436\n"
     ]
    },
    {
     "data": {
      "image/png": "[encoded data removed]",
      "text/plain": [
       "<Figure size 800x600 with 1 Axes>"
      ]
     },
     "metadata": {},
     "output_type": "display_data"
    }
   ],
   "source": [
    "print(\"Performance on Test Set:\")\n",
    "evaluate_model(model, test_loader, best_threshold=best_threshold, device='cuda', criterion=criterion)"
   ]
  }
 ],
 "metadata": {
  "kernelspec": {
   "display_name": "Python 3",
   "language": "python",
   "name": "python3"
  },
  "language_info": {
   "codemirror_mode": {
    "name": "ipython",
    "version": 3
   },
   "file_extension": ".py",
   "mimetype": "text/x-python",
   "name": "python",
   "nbconvert_exporter": "python",
   "pygments_lexer": "ipython3",
   "version": "3.10.11"
  }
 },
 "nbformat": 4,
 "nbformat_minor": 5
}

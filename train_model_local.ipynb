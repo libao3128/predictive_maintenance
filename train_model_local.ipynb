{
 "cells": [
  {
   "cell_type": "code",
   "execution_count": 1,
   "id": "5633ed8e",
   "metadata": {},
   "outputs": [],
   "source": [
    "import pandas as pd\n",
    "from src.train import *\n",
    "from src.model import CNNLSTMModel\n",
    "from src.dataset import *\n",
    "from src.preprocess import *\n",
    "from src.visualize import *\n",
    "import torch"
   ]
  },
  {
   "cell_type": "markdown",
   "id": "fcf3d759",
   "metadata": {},
   "source": [
    "## Hyper-Parameter"
   ]
  },
  {
   "cell_type": "code",
   "execution_count": 2,
   "id": "5f407469",
   "metadata": {},
   "outputs": [],
   "source": [
    "performe_visualization = False"
   ]
  },
  {
   "cell_type": "code",
   "execution_count": 3,
   "id": "37ac0a88",
   "metadata": {},
   "outputs": [],
   "source": [
    "# some important parameters\n",
    "pre_day = 5\n",
    "\n",
    "feature_cols = [\n",
    "    \"metric.STATUS_AC_MOD_ADMISSION_TEMP.MEASURED\",  # ambient temperature\n",
    "    \"metric.STATUS_INTERNAL_TEMP.MEASURED\",          # internal temperature\n",
    "    \"metric.AC_VOLTAGE_AB.MEASURED\",                 # AC voltage\n",
    "    \"metric.AC_VOLTAGE_BC.MEASURED\",                 # AC voltage\n",
    "    \"metric.AC_VOLTAGE_CA.MEASURED\",                 # AC voltage\n",
    "    \"metric.DC_VOLTAGE.MEASURED\",                  # DC voltage\n",
    "    \"metric.AC_POWER.MEASURED\",                     # AC power\n",
    "]\n",
    "\n",
    "exclude_periods = [\n",
    "    [pd.Timestamp('2021-01-01'), pd.Timestamp('2021-12-23')], # data collection issue\n",
    "    [pd.Timestamp('2023-02-23'), pd.Timestamp('2023-08-26')], # anomalies in the data\n",
    "]"
   ]
  },
  {
   "cell_type": "markdown",
   "id": "dc771650",
   "metadata": {},
   "source": [
    "## Data Preprocessing\n"
   ]
  },
  {
   "cell_type": "markdown",
   "id": "cc6757f0",
   "metadata": {},
   "source": [
    "### Load Data"
   ]
  },
  {
   "cell_type": "code",
   "execution_count": 4,
   "id": "9dfd396c",
   "metadata": {},
   "outputs": [
    {
     "name": "stdout",
     "output_type": "stream",
     "text": [
      "Loaded 15 parquet files → 6126272 rows\n",
      "Kept 61 sessions longer than 3 days\n"
     ]
    }
   ],
   "source": [
    "inverter_data = load_parquet_data('data/inverter_data')\n",
    "failure_sessions = load_failure_sessions('data/failure_sessions_w_maintenance.csv', min_days=3)"
   ]
  },
  {
   "cell_type": "code",
   "execution_count": 5,
   "id": "fdae2515",
   "metadata": {},
   "outputs": [
    {
     "data": {
      "application/vnd.plotly.v1+json": {
       "config": {
        "plotlyServerURL": "https://plot.ly"
       },
       "data": [
        {
         "alignmentgroup": "True",
         "base": [
          "2023-03-17T17:10:00",
          "2025-04-20T13:35:00",
          "2022-11-07T06:35:00",
          "2022-08-03T15:50:00",
          "2022-12-26T16:45:00",
          "2025-04-13T16:10:00",
          "2025-04-20T11:20:00",
          "2022-11-06T16:50:00",
          "2022-12-26T16:45:00",
          "2022-08-03T15:50:00",
          "2023-05-29T05:40:00",
          "2023-03-17T17:10:00",
          "2025-04-20T10:35:00",
          "2023-03-17T17:10:00",
          "2022-07-28T09:55:00",
          "2023-05-29T05:40:00",
          "2023-03-17T17:10:00",
          "2025-04-20T11:20:00",
          "2022-11-06T16:50:00",
          "2022-07-28T10:05:00",
          "2023-05-29T05:40:00",
          "2025-05-05T10:25:00",
          "2022-12-26T16:45:00",
          "2023-03-17T17:10:00",
          "2025-04-20T10:35:00",
          "2022-11-06T16:50:00",
          "2022-07-28T10:05:00",
          "2023-05-29T05:40:00",
          "2025-04-27T17:55:00",
          "2025-05-05T10:25:00",
          "2025-05-05T10:25:00"
         ],
         "customdata": [
          [
           0,
           "2023-03-17T17:10:00",
           "2023-03-21T12:20:00",
           91.16666666666667,
           false,
           "Planned (maintenance)"
          ],
          [
           2,
           "2025-04-20T13:35:00",
           "2025-05-23T15:00:00",
           793.4166666666666,
           false,
           "Planned (maintenance)"
          ],
          [
           3,
           "2022-11-07T06:35:00",
           "2022-11-10T10:05:00",
           75.5,
           false,
           "Planned (maintenance)"
          ],
          [
           5,
           "2022-08-03T15:50:00",
           "2022-08-08T13:35:00",
           117.75,
           false,
           "Planned (maintenance)"
          ],
          [
           6,
           "2022-12-26T16:45:00",
           "2022-12-30T09:10:00",
           88.41666666666667,
           false,
           "Planned (maintenance)"
          ],
          [
           15,
           "2025-04-13T16:10:00",
           "2025-04-17T10:10:00",
           90,
           false,
           "Planned (maintenance)"
          ],
          [
           16,
           "2025-04-20T11:20:00",
           "2025-05-11T06:55:00",
           499.5833333333333,
           false,
           "Planned (maintenance)"
          ],
          [
           17,
           "2022-11-06T16:50:00",
           "2022-11-10T10:35:00",
           89.75,
           false,
           "Planned (maintenance)"
          ],
          [
           19,
           "2022-12-26T16:45:00",
           "2022-12-30T09:05:00",
           88.33333333333333,
           false,
           "Planned (maintenance)"
          ],
          [
           23,
           "2022-08-03T15:50:00",
           "2022-08-08T13:25:00",
           117.58333333333333,
           false,
           "Planned (maintenance)"
          ],
          [
           24,
           "2023-05-29T05:40:00",
           "2023-07-22T10:00:00",
           1300.3333333333333,
           false,
           "Planned (maintenance)"
          ],
          [
           27,
           "2023-03-17T17:10:00",
           "2023-03-24T11:05:00",
           161.91666666666666,
           false,
           "Planned (maintenance)"
          ],
          [
           29,
           "2025-04-20T10:35:00",
           "2025-05-11T06:55:00",
           500.3333333333333,
           false,
           "Planned (maintenance)"
          ],
          [
           32,
           "2023-03-17T17:10:00",
           "2023-03-22T08:50:00",
           111.66666666666667,
           false,
           "Planned (maintenance)"
          ],
          [
           33,
           "2022-07-28T09:55:00",
           "2022-08-16T17:00:00",
           463.0833333333333,
           false,
           "Planned (maintenance)"
          ],
          [
           34,
           "2023-05-29T05:40:00",
           "2023-06-16T14:05:00",
           440.4166666666667,
           false,
           "Planned (maintenance)"
          ],
          [
           36,
           "2023-03-17T17:10:00",
           "2023-03-24T10:35:00",
           161.41666666666666,
           false,
           "Planned (maintenance)"
          ],
          [
           38,
           "2025-04-20T11:20:00",
           "2025-05-11T06:55:00",
           499.5833333333333,
           false,
           "Planned (maintenance)"
          ],
          [
           39,
           "2022-11-06T16:50:00",
           "2022-11-10T11:05:00",
           90.25,
           false,
           "Planned (maintenance)"
          ],
          [
           41,
           "2022-07-28T10:05:00",
           "2022-08-16T12:55:00",
           458.8333333333333,
           false,
           "Planned (maintenance)"
          ],
          [
           42,
           "2023-05-29T05:40:00",
           "2023-06-16T14:25:00",
           440.75,
           false,
           "Planned (maintenance)"
          ],
          [
           43,
           "2025-05-05T10:25:00",
           "2025-06-03T11:00:00",
           696.5833333333334,
           false,
           "Planned (maintenance)"
          ],
          [
           45,
           "2022-12-26T16:45:00",
           "2022-12-30T09:10:00",
           88.41666666666667,
           false,
           "Planned (maintenance)"
          ],
          [
           46,
           "2023-03-17T17:10:00",
           "2023-03-31T13:35:00",
           332.4166666666667,
           false,
           "Planned (maintenance)"
          ],
          [
           47,
           "2025-04-20T10:35:00",
           "2025-05-11T07:15:00",
           500.6666666666667,
           false,
           "Planned (maintenance)"
          ],
          [
           50,
           "2022-11-06T16:50:00",
           "2022-11-10T11:15:00",
           90.41666666666667,
           false,
           "Planned (maintenance)"
          ],
          [
           51,
           "2022-07-28T10:05:00",
           "2022-09-29T08:20:00",
           1510.25,
           false,
           "Planned (maintenance)"
          ],
          [
           53,
           "2023-05-29T05:40:00",
           "2023-06-16T14:25:00",
           440.75,
           false,
           "Planned (maintenance)"
          ],
          [
           55,
           "2025-04-27T17:55:00",
           "2025-05-02T12:40:00",
           114.75,
           false,
           "Planned (maintenance)"
          ],
          [
           56,
           "2025-05-05T10:25:00",
           "2025-05-28T12:10:00",
           553.75,
           false,
           "Planned (maintenance)"
          ],
          [
           60,
           "2025-05-05T10:25:00",
           "2025-05-28T05:50:00",
           547.4166666666666,
           false,
           "Planned (maintenance)"
          ]
         ],
         "hovertemplate": "<b>%{y}</b><br>Session ID: %{customdata[0]}<br>Start: %{customdata[1]|%Y-%m-%d %H:%M}<br>End: %{customdata[2]|%Y-%m-%d %H:%M}<br>Duration (hrs): %{customdata[3]:.2f}<br>",
         "legendgroup": "Planned (maintenance)",
         "marker": {
          "color": "#6b7280",
          "line": {
           "color": "rgba(30,30,60,0.55)",
           "width": 1.5
          },
          "pattern": {
           "shape": ""
          }
         },
         "name": "Planned (maintenance)",
         "offsetgroup": "Planned (maintenance)",
         "opacity": 0.98,
         "orientation": "h",
         "showlegend": true,
         "textposition": "auto",
         "type": "bar",
         "x": [
          328200000,
          2856300000,
          271800000,
          423900000,
          318300000,
          324000000,
          1798500000,
          323100000,
          318000000,
          423300000,
          4681200000,
          582900000,
          1801200000,
          402000000,
          1667100000,
          1585500000,
          581100000,
          1798500000,
          324900000,
          1651800000,
          1586700000,
          2507700000,
          318300000,
          1196700000,
          1802400000,
          325500000,
          5436900000,
          1586700000,
          413100000,
          1993500000,
          1970700000
         ],
         "xaxis": "x",
         "y": [
          "INV 51",
          "INV 51",
          "INV 52",
          "INV 53",
          "INV 53",
          "INV 54",
          "INV 54",
          "INV 55",
          "INV 55",
          "INV 56",
          "INV 56",
          "INV 57",
          "INV 57",
          "INV 58",
          "INV 59",
          "INV 59",
          "INV 60",
          "INV 60",
          "INV 61",
          "INV 62",
          "INV 62",
          "INV 62",
          "INV 63",
          "INV 63",
          "INV 63",
          "INV 64",
          "INV 65",
          "INV 65",
          "INV 65",
          "INV 65",
          "INV 66"
         ],
         "yaxis": "y"
        },
        {
         "alignmentgroup": "True",
         "base": [
          "2024-04-25T12:55:00",
          "2025-03-29T13:55:00",
          "2023-07-23T12:10:00",
          "2022-08-09T11:10:00",
          "2022-09-10T14:45:00",
          "2022-12-01T11:55:00",
          "2023-01-02T16:40:00",
          "2023-01-14T07:45:00",
          "2023-07-01T14:15:00",
          "2023-12-28T15:30:00",
          "2022-12-22T16:25:00",
          "2023-01-02T15:20:00",
          "2023-01-09T15:20:00",
          "2025-04-23T14:35:00",
          "2023-07-26T06:55:00",
          "2024-03-02T10:55:00",
          "2024-08-31T06:30:00",
          "2022-08-26T19:35:00",
          "2022-09-29T09:30:00",
          "2024-02-15T08:10:00",
          "2024-08-23T19:30:00",
          "2024-05-03T09:00:00",
          "2025-06-28T10:20:00",
          "2022-03-03T17:35:00",
          "2022-07-07T15:30:00",
          "2023-04-28T10:25:00",
          "2024-02-11T08:10:00",
          "2022-07-30T20:05:00",
          "2023-03-25T17:20:00",
          "2024-08-13T07:05:00"
         ],
         "customdata": [
          [
           1,
           "2024-04-25T12:55:00",
           "2024-04-30T08:00:00",
           115.08333333333333,
           false,
           "Unplanned failure"
          ],
          [
           4,
           "2025-03-29T13:55:00",
           "2025-04-04T12:30:00",
           142.58333333333334,
           false,
           "Unplanned failure"
          ],
          [
           7,
           "2023-07-23T12:10:00",
           "2023-07-28T08:05:00",
           115.91666666666667,
           false,
           "Unplanned failure"
          ],
          [
           8,
           "2022-08-09T11:10:00",
           "2022-08-12T11:40:00",
           72.5,
           false,
           "Unplanned failure"
          ],
          [
           9,
           "2022-09-10T14:45:00",
           "2022-09-14T07:45:00",
           89,
           false,
           "Unplanned failure"
          ],
          [
           10,
           "2022-12-01T11:55:00",
           "2022-12-06T10:40:00",
           118.75,
           false,
           "Unplanned failure"
          ],
          [
           11,
           "2023-01-02T16:40:00",
           "2023-01-13T11:20:00",
           258.6666666666667,
           false,
           "Unplanned failure"
          ],
          [
           12,
           "2023-01-14T07:45:00",
           "2023-01-26T12:55:00",
           293.1666666666667,
           false,
           "Unplanned failure"
          ],
          [
           13,
           "2023-07-01T14:15:00",
           "2023-07-06T11:40:00",
           117.41666666666667,
           false,
           "Unplanned failure"
          ],
          [
           14,
           "2023-12-28T15:30:00",
           "2024-01-02T09:05:00",
           113.58333333333333,
           false,
           "Unplanned failure"
          ],
          [
           18,
           "2022-12-22T16:25:00",
           "2022-12-26T10:30:00",
           90.08333333333333,
           false,
           "Unplanned failure"
          ],
          [
           20,
           "2023-01-02T15:20:00",
           "2023-01-07T09:40:00",
           114.33333333333333,
           false,
           "Unplanned failure"
          ],
          [
           21,
           "2023-01-09T15:20:00",
           "2023-01-13T11:50:00",
           92.5,
           false,
           "Unplanned failure"
          ],
          [
           22,
           "2025-04-23T14:35:00",
           "2025-05-01T09:05:00",
           186.5,
           false,
           "Unplanned failure"
          ],
          [
           25,
           "2023-07-26T06:55:00",
           "2023-08-02T13:00:00",
           174.08333333333334,
           false,
           "Unplanned failure"
          ],
          [
           26,
           "2024-03-02T10:55:00",
           "2024-03-06T10:30:00",
           95.58333333333333,
           false,
           "Unplanned failure"
          ],
          [
           28,
           "2024-08-31T06:30:00",
           "2024-09-06T11:10:00",
           148.66666666666666,
           false,
           "Unplanned failure"
          ],
          [
           30,
           "2022-08-26T19:35:00",
           "2022-08-30T09:05:00",
           85.5,
           false,
           "Unplanned failure"
          ],
          [
           31,
           "2022-09-29T09:30:00",
           "2022-11-15T12:25:00",
           1130.9166666666667,
           false,
           "Unplanned failure"
          ],
          [
           35,
           "2024-02-15T08:10:00",
           "2024-02-20T10:20:00",
           122.16666666666667,
           false,
           "Unplanned failure"
          ],
          [
           37,
           "2024-08-23T19:30:00",
           "2024-08-28T12:20:00",
           112.83333333333333,
           false,
           "Unplanned failure"
          ],
          [
           40,
           "2024-05-03T09:00:00",
           "2024-05-09T12:50:00",
           147.83333333333334,
           false,
           "Unplanned failure"
          ],
          [
           44,
           "2025-06-28T10:20:00",
           "2025-07-02T07:35:00",
           93.25,
           false,
           "Unplanned failure"
          ],
          [
           48,
           "2022-03-03T17:35:00",
           "2022-03-07T11:50:00",
           90.25,
           false,
           "Unplanned failure"
          ],
          [
           49,
           "2022-07-07T15:30:00",
           "2022-07-11T12:10:00",
           92.66666666666667,
           false,
           "Unplanned failure"
          ],
          [
           52,
           "2023-04-28T10:25:00",
           "2023-05-02T09:55:00",
           95.5,
           false,
           "Unplanned failure"
          ],
          [
           54,
           "2024-02-11T08:10:00",
           "2024-02-15T11:55:00",
           99.75,
           false,
           "Unplanned failure"
          ],
          [
           57,
           "2022-07-30T20:05:00",
           "2022-08-03T13:20:00",
           89.25,
           false,
           "Unplanned failure"
          ],
          [
           58,
           "2023-03-25T17:20:00",
           "2023-06-28T10:05:00",
           2272.75,
           false,
           "Unplanned failure"
          ],
          [
           59,
           "2024-08-13T07:05:00",
           "2024-08-16T11:55:00",
           76.83333333333333,
           false,
           "Unplanned failure"
          ]
         ],
         "hovertemplate": "<b>%{y}</b><br>Session ID: %{customdata[0]}<br>Start: %{customdata[1]|%Y-%m-%d %H:%M}<br>End: %{customdata[2]|%Y-%m-%d %H:%M}<br>Duration (hrs): %{customdata[3]:.2f}<br>",
         "legendgroup": "Unplanned failure",
         "marker": {
          "color": "#2563eb",
          "line": {
           "color": "rgba(30,30,60,0.55)",
           "width": 1.5
          },
          "pattern": {
           "shape": ""
          }
         },
         "name": "Unplanned failure",
         "offsetgroup": "Unplanned failure",
         "opacity": 0.98,
         "orientation": "h",
         "showlegend": true,
         "textposition": "auto",
         "type": "bar",
         "x": [
          414300000,
          513300000,
          417300000,
          261000000,
          320400000,
          427500000,
          931200000,
          1055400000,
          422700000,
          408900000,
          324300000,
          411600000,
          333000000,
          671400000,
          626700000,
          344100000,
          535200000,
          307800000,
          4071300000,
          439800000,
          406200000,
          532200000,
          335700000,
          324900000,
          333600000,
          343800000,
          359100000,
          321300000,
          8181900000,
          276600000
         ],
         "xaxis": "x",
         "y": [
          "INV 51",
          "INV 52",
          "INV 53",
          "INV 54",
          "INV 54",
          "INV 54",
          "INV 54",
          "INV 54",
          "INV 54",
          "INV 54",
          "INV 55",
          "INV 55",
          "INV 55",
          "INV 55",
          "INV 56",
          "INV 56",
          "INV 57",
          "INV 58",
          "INV 58",
          "INV 59",
          "INV 60",
          "INV 61",
          "INV 62",
          "INV 64",
          "INV 64",
          "INV 65",
          "INV 65",
          "INV 66",
          "INV 66",
          "INV 66"
         ],
         "yaxis": "y"
        }
       ],
       "layout": {
        "bargap": 0.25,
        "barmode": "overlay",
        "height": 620,
        "legend": {
         "title": {
          "text": "Event Type"
         },
         "tracegroupgap": 0
        },
        "margin": {
         "b": 40,
         "l": 70,
         "r": 30,
         "t": 60
        },
        "template": {
         "data": {
          "bar": [
           {
            "error_x": {
             "color": "#2a3f5f"
            },
            "error_y": {
             "color": "#2a3f5f"
            },
            "marker": {
             "line": {
              "color": "white",
              "width": 0.5
             },
             "pattern": {
              "fillmode": "overlay",
              "size": 10,
              "solidity": 0.2
             }
            },
            "type": "bar"
           }
          ],
          "barpolar": [
           {
            "marker": {
             "line": {
              "color": "white",
              "width": 0.5
             },
             "pattern": {
              "fillmode": "overlay",
              "size": 10,
              "solidity": 0.2
             }
            },
            "type": "barpolar"
           }
          ],
          "carpet": [
           {
            "aaxis": {
             "endlinecolor": "#2a3f5f",
             "gridcolor": "#C8D4E3",
             "linecolor": "#C8D4E3",
             "minorgridcolor": "#C8D4E3",
             "startlinecolor": "#2a3f5f"
            },
            "baxis": {
             "endlinecolor": "#2a3f5f",
             "gridcolor": "#C8D4E3",
             "linecolor": "#C8D4E3",
             "minorgridcolor": "#C8D4E3",
             "startlinecolor": "#2a3f5f"
            },
            "type": "carpet"
           }
          ],
          "choropleth": [
           {
            "colorbar": {
             "outlinewidth": 0,
             "ticks": ""
            },
            "type": "choropleth"
           }
          ],
          "contour": [
           {
            "colorbar": {
             "outlinewidth": 0,
             "ticks": ""
            },
            "colorscale": [
             [
              0,
              "#0d0887"
             ],
             [
              0.1111111111111111,
              "#46039f"
             ],
             [
              0.2222222222222222,
              "#7201a8"
             ],
             [
              0.3333333333333333,
              "#9c179e"
             ],
             [
              0.4444444444444444,
              "#bd3786"
             ],
             [
              0.5555555555555556,
              "#d8576b"
             ],
             [
              0.6666666666666666,
              "#ed7953"
             ],
             [
              0.7777777777777778,
              "#fb9f3a"
             ],
             [
              0.8888888888888888,
              "#fdca26"
             ],
             [
              1,
              "#f0f921"
             ]
            ],
            "type": "contour"
           }
          ],
          "contourcarpet": [
           {
            "colorbar": {
             "outlinewidth": 0,
             "ticks": ""
            },
            "type": "contourcarpet"
           }
          ],
          "heatmap": [
           {
            "colorbar": {
             "outlinewidth": 0,
             "ticks": ""
            },
            "colorscale": [
             [
              0,
              "#0d0887"
             ],
             [
              0.1111111111111111,
              "#46039f"
             ],
             [
              0.2222222222222222,
              "#7201a8"
             ],
             [
              0.3333333333333333,
              "#9c179e"
             ],
             [
              0.4444444444444444,
              "#bd3786"
             ],
             [
              0.5555555555555556,
              "#d8576b"
             ],
             [
              0.6666666666666666,
              "#ed7953"
             ],
             [
              0.7777777777777778,
              "#fb9f3a"
             ],
             [
              0.8888888888888888,
              "#fdca26"
             ],
             [
              1,
              "#f0f921"
             ]
            ],
            "type": "heatmap"
           }
          ],
          "heatmapgl": [
           {
            "colorbar": {
             "outlinewidth": 0,
             "ticks": ""
            },
            "colorscale": [
             [
              0,
              "#0d0887"
             ],
             [
              0.1111111111111111,
              "#46039f"
             ],
             [
              0.2222222222222222,
              "#7201a8"
             ],
             [
              0.3333333333333333,
              "#9c179e"
             ],
             [
              0.4444444444444444,
              "#bd3786"
             ],
             [
              0.5555555555555556,
              "#d8576b"
             ],
             [
              0.6666666666666666,
              "#ed7953"
             ],
             [
              0.7777777777777778,
              "#fb9f3a"
             ],
             [
              0.8888888888888888,
              "#fdca26"
             ],
             [
              1,
              "#f0f921"
             ]
            ],
            "type": "heatmapgl"
           }
          ],
          "histogram": [
           {
            "marker": {
             "pattern": {
              "fillmode": "overlay",
              "size": 10,
              "solidity": 0.2
             }
            },
            "type": "histogram"
           }
          ],
          "histogram2d": [
           {
            "colorbar": {
             "outlinewidth": 0,
             "ticks": ""
            },
            "colorscale": [
             [
              0,
              "#0d0887"
             ],
             [
              0.1111111111111111,
              "#46039f"
             ],
             [
              0.2222222222222222,
              "#7201a8"
             ],
             [
              0.3333333333333333,
              "#9c179e"
             ],
             [
              0.4444444444444444,
              "#bd3786"
             ],
             [
              0.5555555555555556,
              "#d8576b"
             ],
             [
              0.6666666666666666,
              "#ed7953"
             ],
             [
              0.7777777777777778,
              "#fb9f3a"
             ],
             [
              0.8888888888888888,
              "#fdca26"
             ],
             [
              1,
              "#f0f921"
             ]
            ],
            "type": "histogram2d"
           }
          ],
          "histogram2dcontour": [
           {
            "colorbar": {
             "outlinewidth": 0,
             "ticks": ""
            },
            "colorscale": [
             [
              0,
              "#0d0887"
             ],
             [
              0.1111111111111111,
              "#46039f"
             ],
             [
              0.2222222222222222,
              "#7201a8"
             ],
             [
              0.3333333333333333,
              "#9c179e"
             ],
             [
              0.4444444444444444,
              "#bd3786"
             ],
             [
              0.5555555555555556,
              "#d8576b"
             ],
             [
              0.6666666666666666,
              "#ed7953"
             ],
             [
              0.7777777777777778,
              "#fb9f3a"
             ],
             [
              0.8888888888888888,
              "#fdca26"
             ],
             [
              1,
              "#f0f921"
             ]
            ],
            "type": "histogram2dcontour"
           }
          ],
          "mesh3d": [
           {
            "colorbar": {
             "outlinewidth": 0,
             "ticks": ""
            },
            "type": "mesh3d"
           }
          ],
          "parcoords": [
           {
            "line": {
             "colorbar": {
              "outlinewidth": 0,
              "ticks": ""
             }
            },
            "type": "parcoords"
           }
          ],
          "pie": [
           {
            "automargin": true,
            "type": "pie"
           }
          ],
          "scatter": [
           {
            "fillpattern": {
             "fillmode": "overlay",
             "size": 10,
             "solidity": 0.2
            },
            "type": "scatter"
           }
          ],
          "scatter3d": [
           {
            "line": {
             "colorbar": {
              "outlinewidth": 0,
              "ticks": ""
             }
            },
            "marker": {
             "colorbar": {
              "outlinewidth": 0,
              "ticks": ""
             }
            },
            "type": "scatter3d"
           }
          ],
          "scattercarpet": [
           {
            "marker": {
             "colorbar": {
              "outlinewidth": 0,
              "ticks": ""
             }
            },
            "type": "scattercarpet"
           }
          ],
          "scattergeo": [
           {
            "marker": {
             "colorbar": {
              "outlinewidth": 0,
              "ticks": ""
             }
            },
            "type": "scattergeo"
           }
          ],
          "scattergl": [
           {
            "marker": {
             "colorbar": {
              "outlinewidth": 0,
              "ticks": ""
             }
            },
            "type": "scattergl"
           }
          ],
          "scattermapbox": [
           {
            "marker": {
             "colorbar": {
              "outlinewidth": 0,
              "ticks": ""
             }
            },
            "type": "scattermapbox"
           }
          ],
          "scatterpolar": [
           {
            "marker": {
             "colorbar": {
              "outlinewidth": 0,
              "ticks": ""
             }
            },
            "type": "scatterpolar"
           }
          ],
          "scatterpolargl": [
           {
            "marker": {
             "colorbar": {
              "outlinewidth": 0,
              "ticks": ""
             }
            },
            "type": "scatterpolargl"
           }
          ],
          "scatterternary": [
           {
            "marker": {
             "colorbar": {
              "outlinewidth": 0,
              "ticks": ""
             }
            },
            "type": "scatterternary"
           }
          ],
          "surface": [
           {
            "colorbar": {
             "outlinewidth": 0,
             "ticks": ""
            },
            "colorscale": [
             [
              0,
              "#0d0887"
             ],
             [
              0.1111111111111111,
              "#46039f"
             ],
             [
              0.2222222222222222,
              "#7201a8"
             ],
             [
              0.3333333333333333,
              "#9c179e"
             ],
             [
              0.4444444444444444,
              "#bd3786"
             ],
             [
              0.5555555555555556,
              "#d8576b"
             ],
             [
              0.6666666666666666,
              "#ed7953"
             ],
             [
              0.7777777777777778,
              "#fb9f3a"
             ],
             [
              0.8888888888888888,
              "#fdca26"
             ],
             [
              1,
              "#f0f921"
             ]
            ],
            "type": "surface"
           }
          ],
          "table": [
           {
            "cells": {
             "fill": {
              "color": "#EBF0F8"
             },
             "line": {
              "color": "white"
             }
            },
            "header": {
             "fill": {
              "color": "#C8D4E3"
             },
             "line": {
              "color": "white"
             }
            },
            "type": "table"
           }
          ]
         },
         "layout": {
          "annotationdefaults": {
           "arrowcolor": "#2a3f5f",
           "arrowhead": 0,
           "arrowwidth": 1
          },
          "autotypenumbers": "strict",
          "coloraxis": {
           "colorbar": {
            "outlinewidth": 0,
            "ticks": ""
           }
          },
          "colorscale": {
           "diverging": [
            [
             0,
             "#8e0152"
            ],
            [
             0.1,
             "#c51b7d"
            ],
            [
             0.2,
             "#de77ae"
            ],
            [
             0.3,
             "#f1b6da"
            ],
            [
             0.4,
             "#fde0ef"
            ],
            [
             0.5,
             "#f7f7f7"
            ],
            [
             0.6,
             "#e6f5d0"
            ],
            [
             0.7,
             "#b8e186"
            ],
            [
             0.8,
             "#7fbc41"
            ],
            [
             0.9,
             "#4d9221"
            ],
            [
             1,
             "#276419"
            ]
           ],
           "sequential": [
            [
             0,
             "#0d0887"
            ],
            [
             0.1111111111111111,
             "#46039f"
            ],
            [
             0.2222222222222222,
             "#7201a8"
            ],
            [
             0.3333333333333333,
             "#9c179e"
            ],
            [
             0.4444444444444444,
             "#bd3786"
            ],
            [
             0.5555555555555556,
             "#d8576b"
            ],
            [
             0.6666666666666666,
             "#ed7953"
            ],
            [
             0.7777777777777778,
             "#fb9f3a"
            ],
            [
             0.8888888888888888,
             "#fdca26"
            ],
            [
             1,
             "#f0f921"
            ]
           ],
           "sequentialminus": [
            [
             0,
             "#0d0887"
            ],
            [
             0.1111111111111111,
             "#46039f"
            ],
            [
             0.2222222222222222,
             "#7201a8"
            ],
            [
             0.3333333333333333,
             "#9c179e"
            ],
            [
             0.4444444444444444,
             "#bd3786"
            ],
            [
             0.5555555555555556,
             "#d8576b"
            ],
            [
             0.6666666666666666,
             "#ed7953"
            ],
            [
             0.7777777777777778,
             "#fb9f3a"
            ],
            [
             0.8888888888888888,
             "#fdca26"
            ],
            [
             1,
             "#f0f921"
            ]
           ]
          },
          "colorway": [
           "#636efa",
           "#EF553B",
           "#00cc96",
           "#ab63fa",
           "#FFA15A",
           "#19d3f3",
           "#FF6692",
           "#B6E880",
           "#FF97FF",
           "#FECB52"
          ],
          "font": {
           "color": "#2a3f5f"
          },
          "geo": {
           "bgcolor": "white",
           "lakecolor": "white",
           "landcolor": "white",
           "showlakes": true,
           "showland": true,
           "subunitcolor": "#C8D4E3"
          },
          "hoverlabel": {
           "align": "left"
          },
          "hovermode": "closest",
          "mapbox": {
           "style": "light"
          },
          "paper_bgcolor": "white",
          "plot_bgcolor": "white",
          "polar": {
           "angularaxis": {
            "gridcolor": "#EBF0F8",
            "linecolor": "#EBF0F8",
            "ticks": ""
           },
           "bgcolor": "white",
           "radialaxis": {
            "gridcolor": "#EBF0F8",
            "linecolor": "#EBF0F8",
            "ticks": ""
           }
          },
          "scene": {
           "xaxis": {
            "backgroundcolor": "white",
            "gridcolor": "#DFE8F3",
            "gridwidth": 2,
            "linecolor": "#EBF0F8",
            "showbackground": true,
            "ticks": "",
            "zerolinecolor": "#EBF0F8"
           },
           "yaxis": {
            "backgroundcolor": "white",
            "gridcolor": "#DFE8F3",
            "gridwidth": 2,
            "linecolor": "#EBF0F8",
            "showbackground": true,
            "ticks": "",
            "zerolinecolor": "#EBF0F8"
           },
           "zaxis": {
            "backgroundcolor": "white",
            "gridcolor": "#DFE8F3",
            "gridwidth": 2,
            "linecolor": "#EBF0F8",
            "showbackground": true,
            "ticks": "",
            "zerolinecolor": "#EBF0F8"
           }
          },
          "shapedefaults": {
           "line": {
            "color": "#2a3f5f"
           }
          },
          "ternary": {
           "aaxis": {
            "gridcolor": "#DFE8F3",
            "linecolor": "#A2B1C6",
            "ticks": ""
           },
           "baxis": {
            "gridcolor": "#DFE8F3",
            "linecolor": "#A2B1C6",
            "ticks": ""
           },
           "bgcolor": "white",
           "caxis": {
            "gridcolor": "#DFE8F3",
            "linecolor": "#A2B1C6",
            "ticks": ""
           }
          },
          "title": {
           "x": 0.05
          },
          "xaxis": {
           "automargin": true,
           "gridcolor": "#EBF0F8",
           "linecolor": "#EBF0F8",
           "ticks": "",
           "title": {
            "standoff": 15
           },
           "zerolinecolor": "#EBF0F8",
           "zerolinewidth": 2
          },
          "yaxis": {
           "automargin": true,
           "gridcolor": "#EBF0F8",
           "linecolor": "#EBF0F8",
           "ticks": "",
           "title": {
            "standoff": 15
           },
           "zerolinecolor": "#EBF0F8",
           "zerolinewidth": 2
          }
         }
        },
        "title": {
         "text": "Failure Sessions Timeline"
        },
        "xaxis": {
         "anchor": "y",
         "domain": [
          0,
          1
         ],
         "rangeselector": {
          "buttons": [
           {
            "count": 7,
            "label": "1w",
            "step": "day",
            "stepmode": "backward"
           },
           {
            "count": 1,
            "label": "1m",
            "step": "month",
            "stepmode": "backward"
           },
           {
            "count": 3,
            "label": "3m",
            "step": "month",
            "stepmode": "backward"
           },
           {
            "count": 6,
            "label": "6m",
            "step": "month",
            "stepmode": "backward"
           },
           {
            "count": 1,
            "label": "1y",
            "step": "year",
            "stepmode": "backward"
           },
           {
            "step": "all"
           }
          ]
         },
         "rangeslider": {
          "visible": true
         },
         "showgrid": true,
         "type": "date"
        },
        "yaxis": {
         "anchor": "x",
         "autorange": "reversed",
         "categoryarray": [
          "INV 52",
          "INV 61",
          "INV 64",
          "INV 53",
          "INV 55",
          "INV 60",
          "INV 57",
          "INV 63",
          "INV 51",
          "INV 59",
          "INV 58",
          "INV 54",
          "INV 56",
          "INV 62",
          "INV 65",
          "INV 66"
         ],
         "categoryorder": "array",
         "domain": [
          0,
          1
         ],
         "title": {
          "text": "Device"
         }
        }
       }
      }
     },
     "metadata": {},
     "output_type": "display_data"
    }
   ],
   "source": [
    "visualize_failure_timeline(failure_sessions)"
   ]
  },
  {
   "cell_type": "code",
   "execution_count": 6,
   "id": "5fb6ee2e",
   "metadata": {},
   "outputs": [],
   "source": [
    "if performe_visualization:\n",
    "    # Visualize the raw data\n",
    "    visualize_mean_values(inverter_data, failure_sessions, feature_cols, 'visualization', 'raw_data')"
   ]
  },
  {
   "cell_type": "code",
   "execution_count": 7,
   "id": "67c342c2",
   "metadata": {},
   "outputs": [],
   "source": [
    "# remove unused columns\n",
    "filtered_data = inverter_data[['event_local_time', 'device_name'] + feature_cols].copy()"
   ]
  },
  {
   "cell_type": "markdown",
   "id": "7faa25f4",
   "metadata": {},
   "source": [
    "### Anomoly Detection"
   ]
  },
  {
   "cell_type": "code",
   "execution_count": 8,
   "id": "78ad68c7",
   "metadata": {},
   "outputs": [
    {
     "name": "stdout",
     "output_type": "stream",
     "text": [
      "Anomalies in STATUS_AC_MOD_ADMISSION_TEMP removed: 244163\n"
     ]
    }
   ],
   "source": [
    "if \"metric.STATUS_AC_MOD_ADMISSION_TEMP.MEASURED\" in filtered_data.columns:\n",
    "    anomaly_ids = filtered_data[\"metric.STATUS_AC_MOD_ADMISSION_TEMP.MEASURED\"]>=100\n",
    "    filtered_data.loc[anomaly_ids, \"metric.STATUS_AC_MOD_ADMISSION_TEMP.MEASURED\"] = None\n",
    "    print(\"Anomalies in STATUS_AC_MOD_ADMISSION_TEMP removed:\", anomaly_ids.sum())"
   ]
  },
  {
   "cell_type": "markdown",
   "id": "e502018d",
   "metadata": {},
   "source": [
    "### Missing Value Imputation"
   ]
  },
  {
   "cell_type": "code",
   "execution_count": 9,
   "id": "e6b1d156",
   "metadata": {},
   "outputs": [],
   "source": [
    "imputed_df = missing_value_imputation(\n",
    "    filtered_data, feature_cols, \n",
    "    time_col='event_local_time', \n",
    "    device_col='device_name', \n",
    "    short_gap_limit=0, \n",
    "    long_fill_value=0.0, \n",
    "    add_missing_mask=True\n",
    "    )\n",
    "extended_feature_cols = feature_cols+[col+'_missing' for col in feature_cols]"
   ]
  },
  {
   "cell_type": "markdown",
   "id": "9db2330b",
   "metadata": {},
   "source": [
    "### Downsampling"
   ]
  },
  {
   "cell_type": "code",
   "execution_count": 10,
   "id": "90f7584d",
   "metadata": {},
   "outputs": [
    {
     "name": "stdout",
     "output_type": "stream",
     "text": [
      "Downsampling 6126272 rows using following method: \n",
      "                                               Column Aggregation\n",
      "0                       metric.AC_VOLTAGE_AB.MEASURED        mean\n",
      "1                       metric.AC_VOLTAGE_BC.MEASURED        mean\n",
      "2                       metric.AC_VOLTAGE_CA.MEASURED        mean\n",
      "3                          metric.DC_VOLTAGE.MEASURED        mean\n",
      "4                            metric.AC_POWER.MEASURED        mean\n",
      "5               metric.AC_VOLTAGE_AB.MEASURED_missing        mean\n",
      "6               metric.AC_VOLTAGE_BC.MEASURED_missing        mean\n",
      "7               metric.AC_VOLTAGE_CA.MEASURED_missing        mean\n",
      "8                  metric.DC_VOLTAGE.MEASURED_missing        mean\n",
      "9                    metric.AC_POWER.MEASURED_missing        mean\n",
      "10       metric.STATUS_AC_MOD_ADMISSION_TEMP.MEASURED         max\n",
      "11               metric.STATUS_INTERNAL_TEMP.MEASURED         max\n",
      "12  metric.STATUS_AC_MOD_ADMISSION_TEMP.MEASURED_m...        mean\n",
      "13       metric.STATUS_INTERNAL_TEMP.MEASURED_missing        mean\n"
     ]
    }
   ],
   "source": [
    "downsampled_data = downsample_inverter_raw(imputed_df, drop_empty_bins=False)\n",
    "downsampled_data.dropna(inplace=True) # NaN will be generated by downsampling, so we drop them"
   ]
  },
  {
   "cell_type": "code",
   "execution_count": 11,
   "id": "b2bd6c11",
   "metadata": {},
   "outputs": [],
   "source": [
    "if performe_visualization:\n",
    "    # Visualize the downsampled data\n",
    "    visualize_mean_values(\n",
    "        downsampled_data, \n",
    "        failure_sessions, \n",
    "        extended_feature_cols, \n",
    "        'visualization', \n",
    "        'downsampled_data',\n",
    "        freq=None\n",
    "    )"
   ]
  },
  {
   "cell_type": "markdown",
   "id": "03ae16f2",
   "metadata": {},
   "source": [
    "### Data Cleaning"
   ]
  },
  {
   "cell_type": "code",
   "execution_count": 12,
   "id": "82857f9d",
   "metadata": {},
   "outputs": [
    {
     "name": "stdout",
     "output_type": "stream",
     "text": [
      "failure_sessions shape: (61, 6)\n",
      "Excluded 2 periods, remaining data size: 47\n",
      "Excluded 2 periods, remaining data size: 47\n",
      "failure_sessions shape: (47, 7)\n"
     ]
    }
   ],
   "source": [
    "print(\"failure_sessions shape:\", failure_sessions.shape)\n",
    "failure_sessions['event_local_time'] = failure_sessions['start_time']\n",
    "filtered_sessions = exclude_periods_from_data(failure_sessions, exclude_periods)\n",
    "filtered_sessions['event_local_time'] = filtered_sessions['end_time']\n",
    "filtered_sessions = exclude_periods_from_data(filtered_sessions, exclude_periods)\n",
    "print(\"failure_sessions shape:\", filtered_sessions .shape)"
   ]
  },
  {
   "cell_type": "code",
   "execution_count": 13,
   "id": "7ecb503b",
   "metadata": {},
   "outputs": [
    {
     "data": {
      "application/vnd.plotly.v1+json": {
       "config": {
        "plotlyServerURL": "https://plot.ly"
       },
       "data": [
        {
         "alignmentgroup": "True",
         "base": [
          "2024-04-25T12:55:00",
          "2025-03-29T13:55:00",
          "2022-08-09T11:10:00",
          "2022-09-10T14:45:00",
          "2022-12-01T11:55:00",
          "2023-01-02T16:40:00",
          "2023-01-14T07:45:00",
          "2023-12-28T15:30:00",
          "2022-12-22T16:25:00",
          "2023-01-02T15:20:00",
          "2023-01-09T15:20:00",
          "2025-04-23T14:35:00",
          "2024-03-02T10:55:00",
          "2024-08-31T06:30:00",
          "2022-08-26T19:35:00",
          "2022-09-29T09:30:00",
          "2024-02-15T08:10:00",
          "2024-08-23T19:30:00",
          "2024-05-03T09:00:00",
          "2025-06-28T10:20:00",
          "2022-03-03T17:35:00",
          "2022-07-07T15:30:00",
          "2024-02-11T08:10:00",
          "2022-07-30T20:05:00",
          "2024-08-13T07:05:00"
         ],
         "customdata": [
          [
           1,
           "2024-04-25T12:55:00",
           "2024-04-30T08:00:00",
           115.08333333333333,
           false,
           "Unplanned failure"
          ],
          [
           4,
           "2025-03-29T13:55:00",
           "2025-04-04T12:30:00",
           142.58333333333334,
           false,
           "Unplanned failure"
          ],
          [
           8,
           "2022-08-09T11:10:00",
           "2022-08-12T11:40:00",
           72.5,
           false,
           "Unplanned failure"
          ],
          [
           9,
           "2022-09-10T14:45:00",
           "2022-09-14T07:45:00",
           89,
           false,
           "Unplanned failure"
          ],
          [
           10,
           "2022-12-01T11:55:00",
           "2022-12-06T10:40:00",
           118.75,
           false,
           "Unplanned failure"
          ],
          [
           11,
           "2023-01-02T16:40:00",
           "2023-01-13T11:20:00",
           258.6666666666667,
           false,
           "Unplanned failure"
          ],
          [
           12,
           "2023-01-14T07:45:00",
           "2023-01-26T12:55:00",
           293.1666666666667,
           false,
           "Unplanned failure"
          ],
          [
           14,
           "2023-12-28T15:30:00",
           "2024-01-02T09:05:00",
           113.58333333333333,
           false,
           "Unplanned failure"
          ],
          [
           18,
           "2022-12-22T16:25:00",
           "2022-12-26T10:30:00",
           90.08333333333333,
           false,
           "Unplanned failure"
          ],
          [
           20,
           "2023-01-02T15:20:00",
           "2023-01-07T09:40:00",
           114.33333333333333,
           false,
           "Unplanned failure"
          ],
          [
           21,
           "2023-01-09T15:20:00",
           "2023-01-13T11:50:00",
           92.5,
           false,
           "Unplanned failure"
          ],
          [
           22,
           "2025-04-23T14:35:00",
           "2025-05-01T09:05:00",
           186.5,
           false,
           "Unplanned failure"
          ],
          [
           26,
           "2024-03-02T10:55:00",
           "2024-03-06T10:30:00",
           95.58333333333333,
           false,
           "Unplanned failure"
          ],
          [
           28,
           "2024-08-31T06:30:00",
           "2024-09-06T11:10:00",
           148.66666666666666,
           false,
           "Unplanned failure"
          ],
          [
           30,
           "2022-08-26T19:35:00",
           "2022-08-30T09:05:00",
           85.5,
           false,
           "Unplanned failure"
          ],
          [
           31,
           "2022-09-29T09:30:00",
           "2022-11-15T12:25:00",
           1130.9166666666667,
           false,
           "Unplanned failure"
          ],
          [
           35,
           "2024-02-15T08:10:00",
           "2024-02-20T10:20:00",
           122.16666666666667,
           false,
           "Unplanned failure"
          ],
          [
           37,
           "2024-08-23T19:30:00",
           "2024-08-28T12:20:00",
           112.83333333333333,
           false,
           "Unplanned failure"
          ],
          [
           40,
           "2024-05-03T09:00:00",
           "2024-05-09T12:50:00",
           147.83333333333334,
           false,
           "Unplanned failure"
          ],
          [
           44,
           "2025-06-28T10:20:00",
           "2025-07-02T07:35:00",
           93.25,
           false,
           "Unplanned failure"
          ],
          [
           48,
           "2022-03-03T17:35:00",
           "2022-03-07T11:50:00",
           90.25,
           false,
           "Unplanned failure"
          ],
          [
           49,
           "2022-07-07T15:30:00",
           "2022-07-11T12:10:00",
           92.66666666666667,
           false,
           "Unplanned failure"
          ],
          [
           54,
           "2024-02-11T08:10:00",
           "2024-02-15T11:55:00",
           99.75,
           false,
           "Unplanned failure"
          ],
          [
           57,
           "2022-07-30T20:05:00",
           "2022-08-03T13:20:00",
           89.25,
           false,
           "Unplanned failure"
          ],
          [
           59,
           "2024-08-13T07:05:00",
           "2024-08-16T11:55:00",
           76.83333333333333,
           false,
           "Unplanned failure"
          ]
         ],
         "hovertemplate": "<b>%{y}</b><br>Session ID: %{customdata[0]}<br>Start: %{customdata[1]|%Y-%m-%d %H:%M}<br>End: %{customdata[2]|%Y-%m-%d %H:%M}<br>Duration (hrs): %{customdata[3]:.2f}<br>",
         "legendgroup": "Unplanned failure",
         "marker": {
          "color": "#2563eb",
          "line": {
           "color": "rgba(30,30,60,0.55)",
           "width": 1.5
          },
          "pattern": {
           "shape": ""
          }
         },
         "name": "Unplanned failure",
         "offsetgroup": "Unplanned failure",
         "opacity": 0.98,
         "orientation": "h",
         "showlegend": true,
         "textposition": "auto",
         "type": "bar",
         "x": [
          414300000,
          513300000,
          261000000,
          320400000,
          427500000,
          931200000,
          1055400000,
          408900000,
          324300000,
          411600000,
          333000000,
          671400000,
          344100000,
          535200000,
          307800000,
          4071300000,
          439800000,
          406200000,
          532200000,
          335700000,
          324900000,
          333600000,
          359100000,
          321300000,
          276600000
         ],
         "xaxis": "x",
         "y": [
          "INV 51",
          "INV 52",
          "INV 54",
          "INV 54",
          "INV 54",
          "INV 54",
          "INV 54",
          "INV 54",
          "INV 55",
          "INV 55",
          "INV 55",
          "INV 55",
          "INV 56",
          "INV 57",
          "INV 58",
          "INV 58",
          "INV 59",
          "INV 60",
          "INV 61",
          "INV 62",
          "INV 64",
          "INV 64",
          "INV 65",
          "INV 66",
          "INV 66"
         ],
         "yaxis": "y"
        },
        {
         "alignmentgroup": "True",
         "base": [
          "2025-04-20T13:35:00",
          "2022-11-07T06:35:00",
          "2022-08-03T15:50:00",
          "2022-12-26T16:45:00",
          "2025-04-13T16:10:00",
          "2025-04-20T11:20:00",
          "2022-11-06T16:50:00",
          "2022-12-26T16:45:00",
          "2022-08-03T15:50:00",
          "2025-04-20T10:35:00",
          "2022-07-28T09:55:00",
          "2025-04-20T11:20:00",
          "2022-11-06T16:50:00",
          "2022-07-28T10:05:00",
          "2025-05-05T10:25:00",
          "2022-12-26T16:45:00",
          "2025-04-20T10:35:00",
          "2022-11-06T16:50:00",
          "2022-07-28T10:05:00",
          "2025-04-27T17:55:00",
          "2025-05-05T10:25:00",
          "2025-05-05T10:25:00"
         ],
         "customdata": [
          [
           2,
           "2025-04-20T13:35:00",
           "2025-05-23T15:00:00",
           793.4166666666666,
           false,
           "Planned (maintenance)"
          ],
          [
           3,
           "2022-11-07T06:35:00",
           "2022-11-10T10:05:00",
           75.5,
           false,
           "Planned (maintenance)"
          ],
          [
           5,
           "2022-08-03T15:50:00",
           "2022-08-08T13:35:00",
           117.75,
           false,
           "Planned (maintenance)"
          ],
          [
           6,
           "2022-12-26T16:45:00",
           "2022-12-30T09:10:00",
           88.41666666666667,
           false,
           "Planned (maintenance)"
          ],
          [
           15,
           "2025-04-13T16:10:00",
           "2025-04-17T10:10:00",
           90,
           false,
           "Planned (maintenance)"
          ],
          [
           16,
           "2025-04-20T11:20:00",
           "2025-05-11T06:55:00",
           499.5833333333333,
           false,
           "Planned (maintenance)"
          ],
          [
           17,
           "2022-11-06T16:50:00",
           "2022-11-10T10:35:00",
           89.75,
           false,
           "Planned (maintenance)"
          ],
          [
           19,
           "2022-12-26T16:45:00",
           "2022-12-30T09:05:00",
           88.33333333333333,
           false,
           "Planned (maintenance)"
          ],
          [
           23,
           "2022-08-03T15:50:00",
           "2022-08-08T13:25:00",
           117.58333333333333,
           false,
           "Planned (maintenance)"
          ],
          [
           29,
           "2025-04-20T10:35:00",
           "2025-05-11T06:55:00",
           500.3333333333333,
           false,
           "Planned (maintenance)"
          ],
          [
           33,
           "2022-07-28T09:55:00",
           "2022-08-16T17:00:00",
           463.0833333333333,
           false,
           "Planned (maintenance)"
          ],
          [
           38,
           "2025-04-20T11:20:00",
           "2025-05-11T06:55:00",
           499.5833333333333,
           false,
           "Planned (maintenance)"
          ],
          [
           39,
           "2022-11-06T16:50:00",
           "2022-11-10T11:05:00",
           90.25,
           false,
           "Planned (maintenance)"
          ],
          [
           41,
           "2022-07-28T10:05:00",
           "2022-08-16T12:55:00",
           458.8333333333333,
           false,
           "Planned (maintenance)"
          ],
          [
           43,
           "2025-05-05T10:25:00",
           "2025-06-03T11:00:00",
           696.5833333333334,
           false,
           "Planned (maintenance)"
          ],
          [
           45,
           "2022-12-26T16:45:00",
           "2022-12-30T09:10:00",
           88.41666666666667,
           false,
           "Planned (maintenance)"
          ],
          [
           47,
           "2025-04-20T10:35:00",
           "2025-05-11T07:15:00",
           500.6666666666667,
           false,
           "Planned (maintenance)"
          ],
          [
           50,
           "2022-11-06T16:50:00",
           "2022-11-10T11:15:00",
           90.41666666666667,
           false,
           "Planned (maintenance)"
          ],
          [
           51,
           "2022-07-28T10:05:00",
           "2022-09-29T08:20:00",
           1510.25,
           false,
           "Planned (maintenance)"
          ],
          [
           55,
           "2025-04-27T17:55:00",
           "2025-05-02T12:40:00",
           114.75,
           false,
           "Planned (maintenance)"
          ],
          [
           56,
           "2025-05-05T10:25:00",
           "2025-05-28T12:10:00",
           553.75,
           false,
           "Planned (maintenance)"
          ],
          [
           60,
           "2025-05-05T10:25:00",
           "2025-05-28T05:50:00",
           547.4166666666666,
           false,
           "Planned (maintenance)"
          ]
         ],
         "hovertemplate": "<b>%{y}</b><br>Session ID: %{customdata[0]}<br>Start: %{customdata[1]|%Y-%m-%d %H:%M}<br>End: %{customdata[2]|%Y-%m-%d %H:%M}<br>Duration (hrs): %{customdata[3]:.2f}<br>",
         "legendgroup": "Planned (maintenance)",
         "marker": {
          "color": "#6b7280",
          "line": {
           "color": "rgba(30,30,60,0.55)",
           "width": 1.5
          },
          "pattern": {
           "shape": ""
          }
         },
         "name": "Planned (maintenance)",
         "offsetgroup": "Planned (maintenance)",
         "opacity": 0.98,
         "orientation": "h",
         "showlegend": true,
         "textposition": "auto",
         "type": "bar",
         "x": [
          2856300000,
          271800000,
          423900000,
          318300000,
          324000000,
          1798500000,
          323100000,
          318000000,
          423300000,
          1801200000,
          1667100000,
          1798500000,
          324900000,
          1651800000,
          2507700000,
          318300000,
          1802400000,
          325500000,
          5436900000,
          413100000,
          1993500000,
          1970700000
         ],
         "xaxis": "x",
         "y": [
          "INV 51",
          "INV 52",
          "INV 53",
          "INV 53",
          "INV 54",
          "INV 54",
          "INV 55",
          "INV 55",
          "INV 56",
          "INV 57",
          "INV 59",
          "INV 60",
          "INV 61",
          "INV 62",
          "INV 62",
          "INV 63",
          "INV 63",
          "INV 64",
          "INV 65",
          "INV 65",
          "INV 65",
          "INV 66"
         ],
         "yaxis": "y"
        }
       ],
       "layout": {
        "bargap": 0.25,
        "barmode": "overlay",
        "height": 620,
        "legend": {
         "title": {
          "text": "Event Type"
         },
         "tracegroupgap": 0
        },
        "margin": {
         "b": 40,
         "l": 70,
         "r": 30,
         "t": 60
        },
        "template": {
         "data": {
          "bar": [
           {
            "error_x": {
             "color": "#2a3f5f"
            },
            "error_y": {
             "color": "#2a3f5f"
            },
            "marker": {
             "line": {
              "color": "white",
              "width": 0.5
             },
             "pattern": {
              "fillmode": "overlay",
              "size": 10,
              "solidity": 0.2
             }
            },
            "type": "bar"
           }
          ],
          "barpolar": [
           {
            "marker": {
             "line": {
              "color": "white",
              "width": 0.5
             },
             "pattern": {
              "fillmode": "overlay",
              "size": 10,
              "solidity": 0.2
             }
            },
            "type": "barpolar"
           }
          ],
          "carpet": [
           {
            "aaxis": {
             "endlinecolor": "#2a3f5f",
             "gridcolor": "#C8D4E3",
             "linecolor": "#C8D4E3",
             "minorgridcolor": "#C8D4E3",
             "startlinecolor": "#2a3f5f"
            },
            "baxis": {
             "endlinecolor": "#2a3f5f",
             "gridcolor": "#C8D4E3",
             "linecolor": "#C8D4E3",
             "minorgridcolor": "#C8D4E3",
             "startlinecolor": "#2a3f5f"
            },
            "type": "carpet"
           }
          ],
          "choropleth": [
           {
            "colorbar": {
             "outlinewidth": 0,
             "ticks": ""
            },
            "type": "choropleth"
           }
          ],
          "contour": [
           {
            "colorbar": {
             "outlinewidth": 0,
             "ticks": ""
            },
            "colorscale": [
             [
              0,
              "#0d0887"
             ],
             [
              0.1111111111111111,
              "#46039f"
             ],
             [
              0.2222222222222222,
              "#7201a8"
             ],
             [
              0.3333333333333333,
              "#9c179e"
             ],
             [
              0.4444444444444444,
              "#bd3786"
             ],
             [
              0.5555555555555556,
              "#d8576b"
             ],
             [
              0.6666666666666666,
              "#ed7953"
             ],
             [
              0.7777777777777778,
              "#fb9f3a"
             ],
             [
              0.8888888888888888,
              "#fdca26"
             ],
             [
              1,
              "#f0f921"
             ]
            ],
            "type": "contour"
           }
          ],
          "contourcarpet": [
           {
            "colorbar": {
             "outlinewidth": 0,
             "ticks": ""
            },
            "type": "contourcarpet"
           }
          ],
          "heatmap": [
           {
            "colorbar": {
             "outlinewidth": 0,
             "ticks": ""
            },
            "colorscale": [
             [
              0,
              "#0d0887"
             ],
             [
              0.1111111111111111,
              "#46039f"
             ],
             [
              0.2222222222222222,
              "#7201a8"
             ],
             [
              0.3333333333333333,
              "#9c179e"
             ],
             [
              0.4444444444444444,
              "#bd3786"
             ],
             [
              0.5555555555555556,
              "#d8576b"
             ],
             [
              0.6666666666666666,
              "#ed7953"
             ],
             [
              0.7777777777777778,
              "#fb9f3a"
             ],
             [
              0.8888888888888888,
              "#fdca26"
             ],
             [
              1,
              "#f0f921"
             ]
            ],
            "type": "heatmap"
           }
          ],
          "heatmapgl": [
           {
            "colorbar": {
             "outlinewidth": 0,
             "ticks": ""
            },
            "colorscale": [
             [
              0,
              "#0d0887"
             ],
             [
              0.1111111111111111,
              "#46039f"
             ],
             [
              0.2222222222222222,
              "#7201a8"
             ],
             [
              0.3333333333333333,
              "#9c179e"
             ],
             [
              0.4444444444444444,
              "#bd3786"
             ],
             [
              0.5555555555555556,
              "#d8576b"
             ],
             [
              0.6666666666666666,
              "#ed7953"
             ],
             [
              0.7777777777777778,
              "#fb9f3a"
             ],
             [
              0.8888888888888888,
              "#fdca26"
             ],
             [
              1,
              "#f0f921"
             ]
            ],
            "type": "heatmapgl"
           }
          ],
          "histogram": [
           {
            "marker": {
             "pattern": {
              "fillmode": "overlay",
              "size": 10,
              "solidity": 0.2
             }
            },
            "type": "histogram"
           }
          ],
          "histogram2d": [
           {
            "colorbar": {
             "outlinewidth": 0,
             "ticks": ""
            },
            "colorscale": [
             [
              0,
              "#0d0887"
             ],
             [
              0.1111111111111111,
              "#46039f"
             ],
             [
              0.2222222222222222,
              "#7201a8"
             ],
             [
              0.3333333333333333,
              "#9c179e"
             ],
             [
              0.4444444444444444,
              "#bd3786"
             ],
             [
              0.5555555555555556,
              "#d8576b"
             ],
             [
              0.6666666666666666,
              "#ed7953"
             ],
             [
              0.7777777777777778,
              "#fb9f3a"
             ],
             [
              0.8888888888888888,
              "#fdca26"
             ],
             [
              1,
              "#f0f921"
             ]
            ],
            "type": "histogram2d"
           }
          ],
          "histogram2dcontour": [
           {
            "colorbar": {
             "outlinewidth": 0,
             "ticks": ""
            },
            "colorscale": [
             [
              0,
              "#0d0887"
             ],
             [
              0.1111111111111111,
              "#46039f"
             ],
             [
              0.2222222222222222,
              "#7201a8"
             ],
             [
              0.3333333333333333,
              "#9c179e"
             ],
             [
              0.4444444444444444,
              "#bd3786"
             ],
             [
              0.5555555555555556,
              "#d8576b"
             ],
             [
              0.6666666666666666,
              "#ed7953"
             ],
             [
              0.7777777777777778,
              "#fb9f3a"
             ],
             [
              0.8888888888888888,
              "#fdca26"
             ],
             [
              1,
              "#f0f921"
             ]
            ],
            "type": "histogram2dcontour"
           }
          ],
          "mesh3d": [
           {
            "colorbar": {
             "outlinewidth": 0,
             "ticks": ""
            },
            "type": "mesh3d"
           }
          ],
          "parcoords": [
           {
            "line": {
             "colorbar": {
              "outlinewidth": 0,
              "ticks": ""
             }
            },
            "type": "parcoords"
           }
          ],
          "pie": [
           {
            "automargin": true,
            "type": "pie"
           }
          ],
          "scatter": [
           {
            "fillpattern": {
             "fillmode": "overlay",
             "size": 10,
             "solidity": 0.2
            },
            "type": "scatter"
           }
          ],
          "scatter3d": [
           {
            "line": {
             "colorbar": {
              "outlinewidth": 0,
              "ticks": ""
             }
            },
            "marker": {
             "colorbar": {
              "outlinewidth": 0,
              "ticks": ""
             }
            },
            "type": "scatter3d"
           }
          ],
          "scattercarpet": [
           {
            "marker": {
             "colorbar": {
              "outlinewidth": 0,
              "ticks": ""
             }
            },
            "type": "scattercarpet"
           }
          ],
          "scattergeo": [
           {
            "marker": {
             "colorbar": {
              "outlinewidth": 0,
              "ticks": ""
             }
            },
            "type": "scattergeo"
           }
          ],
          "scattergl": [
           {
            "marker": {
             "colorbar": {
              "outlinewidth": 0,
              "ticks": ""
             }
            },
            "type": "scattergl"
           }
          ],
          "scattermapbox": [
           {
            "marker": {
             "colorbar": {
              "outlinewidth": 0,
              "ticks": ""
             }
            },
            "type": "scattermapbox"
           }
          ],
          "scatterpolar": [
           {
            "marker": {
             "colorbar": {
              "outlinewidth": 0,
              "ticks": ""
             }
            },
            "type": "scatterpolar"
           }
          ],
          "scatterpolargl": [
           {
            "marker": {
             "colorbar": {
              "outlinewidth": 0,
              "ticks": ""
             }
            },
            "type": "scatterpolargl"
           }
          ],
          "scatterternary": [
           {
            "marker": {
             "colorbar": {
              "outlinewidth": 0,
              "ticks": ""
             }
            },
            "type": "scatterternary"
           }
          ],
          "surface": [
           {
            "colorbar": {
             "outlinewidth": 0,
             "ticks": ""
            },
            "colorscale": [
             [
              0,
              "#0d0887"
             ],
             [
              0.1111111111111111,
              "#46039f"
             ],
             [
              0.2222222222222222,
              "#7201a8"
             ],
             [
              0.3333333333333333,
              "#9c179e"
             ],
             [
              0.4444444444444444,
              "#bd3786"
             ],
             [
              0.5555555555555556,
              "#d8576b"
             ],
             [
              0.6666666666666666,
              "#ed7953"
             ],
             [
              0.7777777777777778,
              "#fb9f3a"
             ],
             [
              0.8888888888888888,
              "#fdca26"
             ],
             [
              1,
              "#f0f921"
             ]
            ],
            "type": "surface"
           }
          ],
          "table": [
           {
            "cells": {
             "fill": {
              "color": "#EBF0F8"
             },
             "line": {
              "color": "white"
             }
            },
            "header": {
             "fill": {
              "color": "#C8D4E3"
             },
             "line": {
              "color": "white"
             }
            },
            "type": "table"
           }
          ]
         },
         "layout": {
          "annotationdefaults": {
           "arrowcolor": "#2a3f5f",
           "arrowhead": 0,
           "arrowwidth": 1
          },
          "autotypenumbers": "strict",
          "coloraxis": {
           "colorbar": {
            "outlinewidth": 0,
            "ticks": ""
           }
          },
          "colorscale": {
           "diverging": [
            [
             0,
             "#8e0152"
            ],
            [
             0.1,
             "#c51b7d"
            ],
            [
             0.2,
             "#de77ae"
            ],
            [
             0.3,
             "#f1b6da"
            ],
            [
             0.4,
             "#fde0ef"
            ],
            [
             0.5,
             "#f7f7f7"
            ],
            [
             0.6,
             "#e6f5d0"
            ],
            [
             0.7,
             "#b8e186"
            ],
            [
             0.8,
             "#7fbc41"
            ],
            [
             0.9,
             "#4d9221"
            ],
            [
             1,
             "#276419"
            ]
           ],
           "sequential": [
            [
             0,
             "#0d0887"
            ],
            [
             0.1111111111111111,
             "#46039f"
            ],
            [
             0.2222222222222222,
             "#7201a8"
            ],
            [
             0.3333333333333333,
             "#9c179e"
            ],
            [
             0.4444444444444444,
             "#bd3786"
            ],
            [
             0.5555555555555556,
             "#d8576b"
            ],
            [
             0.6666666666666666,
             "#ed7953"
            ],
            [
             0.7777777777777778,
             "#fb9f3a"
            ],
            [
             0.8888888888888888,
             "#fdca26"
            ],
            [
             1,
             "#f0f921"
            ]
           ],
           "sequentialminus": [
            [
             0,
             "#0d0887"
            ],
            [
             0.1111111111111111,
             "#46039f"
            ],
            [
             0.2222222222222222,
             "#7201a8"
            ],
            [
             0.3333333333333333,
             "#9c179e"
            ],
            [
             0.4444444444444444,
             "#bd3786"
            ],
            [
             0.5555555555555556,
             "#d8576b"
            ],
            [
             0.6666666666666666,
             "#ed7953"
            ],
            [
             0.7777777777777778,
             "#fb9f3a"
            ],
            [
             0.8888888888888888,
             "#fdca26"
            ],
            [
             1,
             "#f0f921"
            ]
           ]
          },
          "colorway": [
           "#636efa",
           "#EF553B",
           "#00cc96",
           "#ab63fa",
           "#FFA15A",
           "#19d3f3",
           "#FF6692",
           "#B6E880",
           "#FF97FF",
           "#FECB52"
          ],
          "font": {
           "color": "#2a3f5f"
          },
          "geo": {
           "bgcolor": "white",
           "lakecolor": "white",
           "landcolor": "white",
           "showlakes": true,
           "showland": true,
           "subunitcolor": "#C8D4E3"
          },
          "hoverlabel": {
           "align": "left"
          },
          "hovermode": "closest",
          "mapbox": {
           "style": "light"
          },
          "paper_bgcolor": "white",
          "plot_bgcolor": "white",
          "polar": {
           "angularaxis": {
            "gridcolor": "#EBF0F8",
            "linecolor": "#EBF0F8",
            "ticks": ""
           },
           "bgcolor": "white",
           "radialaxis": {
            "gridcolor": "#EBF0F8",
            "linecolor": "#EBF0F8",
            "ticks": ""
           }
          },
          "scene": {
           "xaxis": {
            "backgroundcolor": "white",
            "gridcolor": "#DFE8F3",
            "gridwidth": 2,
            "linecolor": "#EBF0F8",
            "showbackground": true,
            "ticks": "",
            "zerolinecolor": "#EBF0F8"
           },
           "yaxis": {
            "backgroundcolor": "white",
            "gridcolor": "#DFE8F3",
            "gridwidth": 2,
            "linecolor": "#EBF0F8",
            "showbackground": true,
            "ticks": "",
            "zerolinecolor": "#EBF0F8"
           },
           "zaxis": {
            "backgroundcolor": "white",
            "gridcolor": "#DFE8F3",
            "gridwidth": 2,
            "linecolor": "#EBF0F8",
            "showbackground": true,
            "ticks": "",
            "zerolinecolor": "#EBF0F8"
           }
          },
          "shapedefaults": {
           "line": {
            "color": "#2a3f5f"
           }
          },
          "ternary": {
           "aaxis": {
            "gridcolor": "#DFE8F3",
            "linecolor": "#A2B1C6",
            "ticks": ""
           },
           "baxis": {
            "gridcolor": "#DFE8F3",
            "linecolor": "#A2B1C6",
            "ticks": ""
           },
           "bgcolor": "white",
           "caxis": {
            "gridcolor": "#DFE8F3",
            "linecolor": "#A2B1C6",
            "ticks": ""
           }
          },
          "title": {
           "x": 0.05
          },
          "xaxis": {
           "automargin": true,
           "gridcolor": "#EBF0F8",
           "linecolor": "#EBF0F8",
           "ticks": "",
           "title": {
            "standoff": 15
           },
           "zerolinecolor": "#EBF0F8",
           "zerolinewidth": 2
          },
          "yaxis": {
           "automargin": true,
           "gridcolor": "#EBF0F8",
           "linecolor": "#EBF0F8",
           "ticks": "",
           "title": {
            "standoff": 15
           },
           "zerolinecolor": "#EBF0F8",
           "zerolinewidth": 2
          }
         }
        },
        "title": {
         "text": "Failure Sessions Timeline"
        },
        "xaxis": {
         "anchor": "y",
         "domain": [
          0,
          1
         ],
         "rangeselector": {
          "buttons": [
           {
            "count": 7,
            "label": "1w",
            "step": "day",
            "stepmode": "backward"
           },
           {
            "count": 1,
            "label": "1m",
            "step": "month",
            "stepmode": "backward"
           },
           {
            "count": 3,
            "label": "3m",
            "step": "month",
            "stepmode": "backward"
           },
           {
            "count": 6,
            "label": "6m",
            "step": "month",
            "stepmode": "backward"
           },
           {
            "count": 1,
            "label": "1y",
            "step": "year",
            "stepmode": "backward"
           },
           {
            "step": "all"
           }
          ]
         },
         "rangeslider": {
          "visible": true
         },
         "showgrid": true,
         "type": "date"
        },
        "yaxis": {
         "anchor": "x",
         "autorange": "reversed",
         "categoryarray": [
          "INV 53",
          "INV 56",
          "INV 52",
          "INV 61",
          "INV 64",
          "INV 59",
          "INV 63",
          "INV 60",
          "INV 57",
          "INV 55",
          "INV 66",
          "INV 51",
          "INV 58",
          "INV 62",
          "INV 54",
          "INV 65"
         ],
         "categoryorder": "array",
         "domain": [
          0,
          1
         ],
         "title": {
          "text": "Device"
         }
        }
       }
      }
     },
     "metadata": {},
     "output_type": "display_data"
    }
   ],
   "source": [
    "visualize_failure_timeline(filtered_sessions)"
   ]
  },
  {
   "cell_type": "code",
   "execution_count": 14,
   "id": "995240da",
   "metadata": {},
   "outputs": [
    {
     "name": "stdout",
     "output_type": "stream",
     "text": [
      "inverter_data shape: (1021056, 16)\n",
      "Excluded 2 periods, remaining data size: 862112\n",
      "Excluded data shape: (862112, 16)\n"
     ]
    }
   ],
   "source": [
    "print(\"inverter_data shape:\", downsampled_data.shape)\n",
    "downsampled_data = exclude_periods_from_data(downsampled_data, exclude_periods)\n",
    "print(\"Excluded data shape:\", downsampled_data.shape)"
   ]
  },
  {
   "cell_type": "markdown",
   "id": "c7979e30",
   "metadata": {},
   "source": [
    "### Data Labeling"
   ]
  },
  {
   "cell_type": "code",
   "execution_count": 15,
   "id": "c262cba8",
   "metadata": {},
   "outputs": [
    {
     "name": "stdout",
     "output_type": "stream",
     "text": [
      "Total pre-failure rows: 5584\n",
      "Total rows: 837811\n"
     ]
    }
   ],
   "source": [
    "downsampled_data = prepare_dataset(downsampled_data, failure_sessions, pre_days=pre_day)"
   ]
  },
  {
   "cell_type": "markdown",
   "id": "84b48cdb",
   "metadata": {},
   "source": [
    "### Feature Engineering"
   ]
  },
  {
   "cell_type": "code",
   "execution_count": 16,
   "id": "9bf59730",
   "metadata": {},
   "outputs": [],
   "source": [
    "# month_of_year 範圍 1~12\n",
    "downsampled_data['month_sin'] = np.sin(2 * np.pi * downsampled_data['event_local_time'].dt.month / 12)\n",
    "downsampled_data['month_cos'] = np.cos(2 * np.pi * downsampled_data['event_local_time'].dt.month / 12)\n",
    "\n",
    "# 如果還有 hour_of_day (0~23) 也可以同理轉\n",
    "downsampled_data['hour_sin'] = np.sin(2 * np.pi * downsampled_data['event_local_time'].dt.hour / 24)\n",
    "downsampled_data['hour_cos'] = np.cos(2 * np.pi * downsampled_data['event_local_time'].dt.hour / 24)\n",
    "\n",
    "extended_feature_cols += ['hour_sin', 'hour_cos', 'month_sin', 'month_cos']"
   ]
  },
  {
   "cell_type": "code",
   "execution_count": 17,
   "id": "ef729f37",
   "metadata": {},
   "outputs": [],
   "source": [
    "v = downsampled_data[['metric.AC_VOLTAGE_AB.MEASURED','metric.AC_VOLTAGE_BC.MEASURED','metric.AC_VOLTAGE_CA.MEASURED']]\n",
    "v_mean = v.mean(axis=1)\n",
    "v_range = v.max(axis=1) - v.min(axis=1)\n",
    "downsampled_data['V_mean'] = v_mean\n",
    "downsampled_data['V_unbalance'] = v_range / (v_mean + 1e-6)\n",
    "\n",
    "extended_feature_cols += ['V_mean', 'V_unbalance']"
   ]
  },
  {
   "cell_type": "code",
   "execution_count": 18,
   "id": "d27b4c0a",
   "metadata": {},
   "outputs": [],
   "source": [
    "if performe_visualization:\n",
    "    visualize_mean_values(downsampled_data, failure_sessions, extended_feature_cols+['label'], \n",
    "                                title='processed_data', freq=None)"
   ]
  },
  {
   "cell_type": "markdown",
   "id": "b181af6b",
   "metadata": {},
   "source": [
    "### Split Dataset"
   ]
  },
  {
   "cell_type": "code",
   "execution_count": 19,
   "id": "77c351da",
   "metadata": {},
   "outputs": [],
   "source": [
    "split_time = [pd.Timestamp('2024-06-30'), pd.Timestamp('2025-01-01')]\n",
    "\n",
    "\n",
    "train_df = downsampled_data[downsampled_data['event_local_time'] <= split_time[0]].copy()\n",
    "val_df = downsampled_data[(downsampled_data['event_local_time'] > split_time[0]) & (downsampled_data['event_local_time'] <= split_time[1])].copy()\n",
    "test_df = downsampled_data[downsampled_data['event_local_time'] > split_time[1]].copy()"
   ]
  },
  {
   "cell_type": "code",
   "execution_count": 20,
   "id": "c36b0239",
   "metadata": {},
   "outputs": [
    {
     "name": "stdout",
     "output_type": "stream",
     "text": [
      "train set period: 2021-12-24 00:00:00 2024-06-30 00:00:00\n",
      "validation set period: 2024-06-30 00:30:00 2025-01-01 00:00:00\n",
      "test set period: 2025-01-01 00:30:00 2025-07-23 23:30:00\n"
     ]
    }
   ],
   "source": [
    "print('train set period:', train_df['event_local_time'].min(), train_df['event_local_time'].max())\n",
    "print('validation set period:', val_df['event_local_time'].min(), val_df['event_local_time'].max())\n",
    "print('test set period:', test_df['event_local_time'].min(), test_df['event_local_time'].max())"
   ]
  },
  {
   "cell_type": "code",
   "execution_count": 21,
   "id": "9bdb5f36",
   "metadata": {},
   "outputs": [
    {
     "data": {
      "text/plain": [
       "['metric.STATUS_AC_MOD_ADMISSION_TEMP.MEASURED',\n",
       " 'metric.STATUS_INTERNAL_TEMP.MEASURED',\n",
       " 'metric.AC_VOLTAGE_AB.MEASURED',\n",
       " 'metric.AC_VOLTAGE_BC.MEASURED',\n",
       " 'metric.AC_VOLTAGE_CA.MEASURED',\n",
       " 'metric.DC_VOLTAGE.MEASURED',\n",
       " 'metric.AC_POWER.MEASURED',\n",
       " 'metric.STATUS_AC_MOD_ADMISSION_TEMP.MEASURED_missing',\n",
       " 'metric.STATUS_INTERNAL_TEMP.MEASURED_missing',\n",
       " 'metric.AC_VOLTAGE_AB.MEASURED_missing',\n",
       " 'metric.AC_VOLTAGE_BC.MEASURED_missing',\n",
       " 'metric.AC_VOLTAGE_CA.MEASURED_missing',\n",
       " 'metric.DC_VOLTAGE.MEASURED_missing',\n",
       " 'metric.AC_POWER.MEASURED_missing',\n",
       " 'hour_sin',\n",
       " 'hour_cos',\n",
       " 'month_sin',\n",
       " 'month_cos',\n",
       " 'V_mean',\n",
       " 'V_unbalance']"
      ]
     },
     "execution_count": 21,
     "metadata": {},
     "output_type": "execute_result"
    }
   ],
   "source": [
    "extended_feature_cols"
   ]
  },
  {
   "cell_type": "markdown",
   "id": "777fd02b",
   "metadata": {},
   "source": [
    "### Standardization"
   ]
  },
  {
   "cell_type": "code",
   "execution_count": 22,
   "id": "cbde8f9f",
   "metadata": {},
   "outputs": [],
   "source": [
    "from sklearn.preprocessing import StandardScaler\n",
    "feature_to_standardize = feature_cols + ['V_mean', 'V_unbalance']\n",
    "scaler = StandardScaler()\n",
    "train_df[feature_to_standardize] = scaler.fit_transform(train_df[feature_to_standardize])\n",
    "val_df[feature_to_standardize] = scaler.transform(val_df[feature_to_standardize])\n",
    "test_df[feature_to_standardize] = scaler.transform(test_df[feature_to_standardize])"
   ]
  },
  {
   "cell_type": "code",
   "execution_count": 23,
   "id": "c2ce625e",
   "metadata": {},
   "outputs": [
    {
     "name": "stderr",
     "output_type": "stream",
     "text": [
      "Writing HTML: 100%|██████████| 16/16 [02:56<00:00, 11.03s/it]\n"
     ]
    },
    {
     "name": "stdout",
     "output_type": "stream",
     "text": [
      "Visualization saved at visualization/train_data (raw)/*.html\n"
     ]
    },
    {
     "name": "stderr",
     "output_type": "stream",
     "text": [
      "Writing HTML: 100%|██████████| 16/16 [00:47<00:00,  2.98s/it]\n"
     ]
    },
    {
     "name": "stdout",
     "output_type": "stream",
     "text": [
      "Visualization saved at visualization/val_data (raw)/*.html\n"
     ]
    },
    {
     "name": "stderr",
     "output_type": "stream",
     "text": [
      "Writing HTML: 100%|██████████| 16/16 [00:48<00:00,  3.03s/it]"
     ]
    },
    {
     "name": "stdout",
     "output_type": "stream",
     "text": [
      "Visualization saved at visualization/test_data (raw)/*.html\n"
     ]
    },
    {
     "name": "stderr",
     "output_type": "stream",
     "text": [
      "\n"
     ]
    }
   ],
   "source": [
    "if performe_visualization or True:\n",
    "    visualize_mean_values(train_df, failure_sessions, extended_feature_cols+['label'], \n",
    "                                 'visualization', 'train_data', freq=None)\n",
    "    visualize_mean_values(val_df, failure_sessions, extended_feature_cols+['label'], \n",
    "                                 'visualization', 'val_data', freq=None)\n",
    "    visualize_mean_values(test_df, failure_sessions, extended_feature_cols+['label'],\n",
    "                                    'visualization', 'test_data', freq=None)"
   ]
  },
  {
   "cell_type": "markdown",
   "id": "3c9b4875",
   "metadata": {},
   "source": [
    "### Create Dataset/Data Loader"
   ]
  },
  {
   "cell_type": "code",
   "execution_count": 24,
   "id": "89be8408",
   "metadata": {},
   "outputs": [
    {
     "name": "stderr",
     "output_type": "stream",
     "text": [
      "Processing devices: 100%|██████████| 16/16 [00:01<00:00,  9.77it/s]\n",
      "Processing devices: 100%|██████████| 16/16 [00:00<00:00, 27.93it/s]\n",
      "Processing devices: 100%|██████████| 16/16 [00:00<00:00, 40.08it/s]\n",
      "Processing devices: 100%|██████████| 16/16 [00:00<00:00, 44.39it/s]\n"
     ]
    }
   ],
   "source": [
    "from torch.utils.data import DataLoader\n",
    "window_size = 2*24*7 # 30 minutes*2*24*7 = 7 days\n",
    "normal_stride = 2*6 # 30 minutes*2*6 = 6 hours\n",
    "positive_sample_stride = 2\n",
    "\n",
    "positive_ds = PositiveInverterTimeSeriesDataset.from_dataframe(train_df, extended_feature_cols, window_size=window_size, stride=positive_sample_stride)\n",
    "negative_ds = NegativeInverterTimeSeriesDataset.from_dataframe(train_df, extended_feature_cols, window_size=window_size, stride=normal_stride)\n",
    "\n",
    "train_ds = combine_dataset([positive_ds, negative_ds])\n",
    "val_ds   = InverterTimeSeriesDataset.from_dataframe(val_df,   extended_feature_cols, window_size=window_size, stride=normal_stride)\n",
    "test_ds  = InverterTimeSeriesDataset.from_dataframe(test_df,  extended_feature_cols, window_size=window_size, stride=normal_stride)"
   ]
  },
  {
   "cell_type": "code",
   "execution_count": 25,
   "id": "6e127b2e",
   "metadata": {},
   "outputs": [
    {
     "name": "stdout",
     "output_type": "stream",
     "text": [
      "train_ds.X.shape: torch.Size([44504, 336, 20])\n",
      "val_ds.X.shape: torch.Size([11270, 336, 20])\n",
      "test_ds.X.shape: torch.Size([10979, 336, 20])\n"
     ]
    }
   ],
   "source": [
    "# information of datasets\n",
    "print(\"train_ds.X.shape:\", train_ds.X.shape)\n",
    "print(\"val_ds.X.shape:\", val_ds.X.shape)\n",
    "print(\"test_ds.X.shape:\", test_ds.X.shape)"
   ]
  },
  {
   "cell_type": "code",
   "execution_count": 26,
   "id": "c05ce0b5",
   "metadata": {},
   "outputs": [
    {
     "name": "stdout",
     "output_type": "stream",
     "text": [
      "train pos ratio: 0.04314218946611541\n",
      "val pos ratio: 0.005323868677905945\n",
      "test pos ratio: 0.005464978595500501\n"
     ]
    }
   ],
   "source": [
    "label_dis = pd.value_counts(train_ds.y.numpy())\n",
    "train_pos_ration = label_dis[1] / (label_dis[0] + label_dis[1])\n",
    "label_dis = pd.value_counts(val_ds.y.numpy())\n",
    "val_pos_ration = label_dis[1] / (label_dis[0] + label_dis[1])\n",
    "label_dis = pd.value_counts(test_ds.y.numpy())\n",
    "test_pos_ration = label_dis[1] / (label_dis[0] + label_dis[1])\n",
    "\n",
    "print(\"train pos ratio:\", train_pos_ration)\n",
    "print(\"val pos ratio:\", val_pos_ration)\n",
    "print(\"test pos ratio:\", test_pos_ration)"
   ]
  },
  {
   "cell_type": "code",
   "execution_count": 27,
   "id": "dc679b9d",
   "metadata": {},
   "outputs": [
    {
     "data": {
      "image/png": "[encoded data removed]",
      "text/plain": [
       "<Figure size 1200x400 with 3 Axes>"
      ]
     },
     "metadata": {},
     "output_type": "display_data"
    }
   ],
   "source": [
    "import matplotlib.pyplot as plt\n",
    "\n",
    "# 計算各資料集的標籤分佈\n",
    "train_counts = pd.Series(train_ds.y.numpy()).value_counts()\n",
    "val_counts   = pd.Series(val_ds.y.numpy()).value_counts()\n",
    "test_counts  = pd.Series(test_ds.y.numpy()).value_counts()\n",
    "\n",
    "# 畫圖\n",
    "fig, axes = plt.subplots(1, 3, figsize=(12, 4))\n",
    "\n",
    "for ax, counts, title in zip(\n",
    "    axes,\n",
    "    [train_counts, val_counts, test_counts],\n",
    "    [\"Train\", \"Validation\", \"Test\"]\n",
    "):\n",
    "    counts.plot(kind='bar', ax=ax)\n",
    "    ax.set_title(f\"{title} Label Distribution\")\n",
    "    ax.set_xlabel(\"Label\")\n",
    "    ax.set_ylabel(\"Count\")\n",
    "\n",
    "plt.tight_layout()\n",
    "plt.show()\n"
   ]
  },
  {
   "cell_type": "code",
   "execution_count": 28,
   "id": "61de5600",
   "metadata": {},
   "outputs": [],
   "source": [
    "import numpy as np\n",
    "import torch\n",
    "from torch.utils.data import DataLoader, WeightedRandomSampler\n",
    "\n",
    "# 取出標籤（假設 train_ds.y 是 0/1 的 torch.tensor）\n",
    "y = train_ds.y.cpu().numpy()\n",
    "assert set(np.unique(y)).issubset({0,1}), \"train_ds 應只有 0/1 標籤\"\n",
    "\n",
    "num_pos = int((y == 1).sum())\n",
    "num_neg = int((y == 0).sum())\n",
    "p_target = 0.15 # 你可以之後調 0.2~0.35\n",
    "\n",
    "# 權重：讓期望抽樣比例 ≈ p_target\n",
    "w_pos = p_target / max(num_pos, 1)\n",
    "w_neg = (1.0 - p_target) / max(num_neg, 1)\n",
    "sample_weights = np.where(y == 1, w_pos, w_neg).astype(np.float64)\n",
    "sample_weights = torch.from_numpy(sample_weights)\n",
    "\n",
    "balanced_sampler = WeightedRandomSampler(\n",
    "    weights=sample_weights,\n",
    "    num_samples=len(sample_weights),  # 每個 epoch 跑滿步數\n",
    "    replacement=True\n",
    ")"
   ]
  },
  {
   "cell_type": "code",
   "execution_count": 29,
   "id": "b204cf86",
   "metadata": {},
   "outputs": [],
   "source": [
    "train_loader = DataLoader(\n",
    "    train_ds,\n",
    "    batch_size=512,         # 或你的 GPU 極限\n",
    "    #sampler=balanced_sampler,\n",
    "    shuffle=True,  # 如果不使用 sampler，則需要 shuffle\n",
    "    num_workers=8,\n",
    "    pin_memory=True,\n",
    "    drop_last=True\n",
    ")\n",
    "\n",
    "val_loader = DataLoader(val_ds, batch_size=1024, shuffle=False, num_workers=8, pin_memory=True)\n",
    "test_loader = DataLoader(test_ds, batch_size=1024, shuffle=False, num_workers=8, pin_memory=True)"
   ]
  },
  {
   "cell_type": "markdown",
   "id": "6bc7c875",
   "metadata": {},
   "source": [
    "## Train Model"
   ]
  },
  {
   "cell_type": "code",
   "execution_count": 30,
   "id": "453fccc1",
   "metadata": {},
   "outputs": [],
   "source": [
    "from src.model import FocalLoss, CNNLSTMModel\n",
    "from torch.optim import AdamW\n",
    "\n",
    "model = CNNLSTMModel(\n",
    "    num_features=len(extended_feature_cols),\n",
    "    cnn_out_channels=32,   # 32 → 64\n",
    "    lstm_hidden_size=64,  # 64 → 128\n",
    "    lstm_layers=2,         # 1 → 2\n",
    "    dropout=0.5\n",
    ")\n",
    "\n",
    "criterion = FocalLoss(alpha=0.75, gamma=2.0)\n",
    "# 如果改用 BCE：\n",
    "# criterion = nn.BCEWithLogitsLoss(pos_weight=torch.tensor([1.2], device=device))\n",
    "\n",
    "optimizer = AdamW(model.parameters(), lr=3e-4, weight_decay=1e-4)"
   ]
  },
  {
   "cell_type": "code",
   "execution_count": 31,
   "id": "5a9f9a4f",
   "metadata": {},
   "outputs": [],
   "source": [
    "import math\n",
    "\n",
    "steps_per_epoch = len(train_loader)\n",
    "max_epochs = 30\n",
    "total_steps = steps_per_epoch * max_epochs\n",
    "warmup_steps = max(1, int(total_steps * 0.05))\n",
    "\n",
    "def lr_lambda(current_step):\n",
    "    if current_step < warmup_steps:\n",
    "        return float(current_step) / float(max(1, warmup_steps))\n",
    "    progress = (current_step - warmup_steps) / float(max(1, total_steps - warmup_steps))\n",
    "    cosine = 0.5 * (1.0 + math.cos(math.pi * progress))\n",
    "    return 0.1 + 0.9 * cosine  # 下界 0.1×\n",
    "\n",
    "scheduler = torch.optim.lr_scheduler.LambdaLR(optimizer, lr_lambda)\n"
   ]
  },
  {
   "cell_type": "code",
   "execution_count": 36,
   "id": "1f7b89ee",
   "metadata": {},
   "outputs": [
    {
     "name": "stdout",
     "output_type": "stream",
     "text": [
      "Model moved to cuda\n",
      "[Epoch 1/10] Step 0/86 - Loss: 0.0288\n",
      "[Epoch 1/10] Step 25/86 - Loss: 0.0222\n",
      "[Epoch 1/10] Step 50/86 - Loss: 0.0200\n",
      "[Epoch 1/10] Step 75/86 - Loss: 0.0172\n",
      "🔁 Epoch 1 finished. Avg Train Loss: 0.0244\n"
     ]
    },
    {
     "name": "stderr",
     "output_type": "stream",
     "text": [
      "Testing: 100%|██████████| 12/12 [00:09<00:00,  1.33it/s]\n"
     ]
    },
    {
     "name": "stdout",
     "output_type": "stream",
     "text": [
      "[0.16283765 0.16221046 0.1629576  ... 0.33401528 0.29737303 0.31546307]\n",
      "✅ avg_loss: 0.0136 | AUC-PR: 0.0368 | baseline: 0.0053 | uplift: 6.91x | P@50:0.040 R@50:0.033 | P@100:0.040 R@100:0.067 | P@200:0.040 R@200:0.133\n",
      "Best model saved at epoch 1 with AUC-PR 0.0368\n",
      "[Epoch 2/10] Step 0/86 - Loss: 0.0247\n",
      "[Epoch 2/10] Step 25/86 - Loss: 0.0265\n",
      "[Epoch 2/10] Step 50/86 - Loss: 0.0252\n",
      "[Epoch 2/10] Step 75/86 - Loss: 0.0248\n",
      "🔁 Epoch 2 finished. Avg Train Loss: 0.0224\n"
     ]
    },
    {
     "name": "stderr",
     "output_type": "stream",
     "text": [
      "Testing: 100%|██████████| 12/12 [00:10<00:00,  1.14it/s]\n"
     ]
    },
    {
     "name": "stdout",
     "output_type": "stream",
     "text": [
      "[0.15124205 0.15155196 0.1521481  ... 0.30539772 0.206878   0.20663118]\n",
      "✅ avg_loss: 0.0130 | AUC-PR: 0.0330 | baseline: 0.0053 | uplift: 6.21x | P@50:0.020 R@50:0.017 | P@100:0.020 R@100:0.033 | P@200:0.050 R@200:0.167\n",
      "[Epoch 3/10] Step 0/86 - Loss: 0.0215\n",
      "[Epoch 3/10] Step 25/86 - Loss: 0.0169\n",
      "[Epoch 3/10] Step 50/86 - Loss: 0.0147\n",
      "[Epoch 3/10] Step 75/86 - Loss: 0.0198\n",
      "🔁 Epoch 3 finished. Avg Train Loss: 0.0203\n"
     ]
    },
    {
     "name": "stderr",
     "output_type": "stream",
     "text": [
      "Testing: 100%|██████████| 12/12 [00:09<00:00,  1.30it/s]\n"
     ]
    },
    {
     "name": "stdout",
     "output_type": "stream",
     "text": [
      "[0.1312198  0.13172106 0.12928739 ... 0.39838144 0.2782702  0.30123684]\n",
      "✅ avg_loss: 0.0176 | AUC-PR: 0.0314 | baseline: 0.0053 | uplift: 5.89x | P@50:0.020 R@50:0.017 | P@100:0.030 R@100:0.050 | P@200:0.055 R@200:0.183\n",
      "[Epoch 4/10] Step 0/86 - Loss: 0.0157\n",
      "[Epoch 4/10] Step 25/86 - Loss: 0.0211\n",
      "[Epoch 4/10] Step 50/86 - Loss: 0.0208\n",
      "[Epoch 4/10] Step 75/86 - Loss: 0.0216\n",
      "🔁 Epoch 4 finished. Avg Train Loss: 0.0203\n"
     ]
    },
    {
     "name": "stderr",
     "output_type": "stream",
     "text": [
      "Testing: 100%|██████████| 12/12 [00:10<00:00,  1.16it/s]\n"
     ]
    },
    {
     "name": "stdout",
     "output_type": "stream",
     "text": [
      "[0.13615087 0.13650031 0.13601585 ... 0.42568457 0.38999942 0.43100786]\n",
      "✅ avg_loss: 0.0141 | AUC-PR: 0.0402 | baseline: 0.0053 | uplift: 7.54x | P@50:0.020 R@50:0.017 | P@100:0.020 R@100:0.033 | P@200:0.035 R@200:0.117\n",
      "Best model saved at epoch 4 with AUC-PR 0.0402\n",
      "[Epoch 5/10] Step 0/86 - Loss: 0.0192\n",
      "[Epoch 5/10] Step 25/86 - Loss: 0.0168\n",
      "[Epoch 5/10] Step 50/86 - Loss: 0.0251\n",
      "[Epoch 5/10] Step 75/86 - Loss: 0.0209\n",
      "🔁 Epoch 5 finished. Avg Train Loss: 0.0201\n"
     ]
    },
    {
     "name": "stderr",
     "output_type": "stream",
     "text": [
      "Testing: 100%|██████████| 12/12 [00:08<00:00,  1.37it/s]\n"
     ]
    },
    {
     "name": "stdout",
     "output_type": "stream",
     "text": [
      "[0.13600817 0.1388176  0.1360363  ... 0.23871236 0.16500849 0.18095785]\n",
      "✅ avg_loss: 0.0140 | AUC-PR: 0.0375 | baseline: 0.0053 | uplift: 7.05x | P@50:0.120 R@50:0.100 | P@100:0.070 R@100:0.117 | P@200:0.050 R@200:0.167\n",
      "[Epoch 6/10] Step 0/86 - Loss: 0.0195\n",
      "[Epoch 6/10] Step 25/86 - Loss: 0.0232\n",
      "[Epoch 6/10] Step 50/86 - Loss: 0.0208\n",
      "[Epoch 6/10] Step 75/86 - Loss: 0.0200\n",
      "🔁 Epoch 6 finished. Avg Train Loss: 0.0193\n"
     ]
    },
    {
     "name": "stderr",
     "output_type": "stream",
     "text": [
      "Testing: 100%|██████████| 12/12 [00:12<00:00,  1.03s/it]\n"
     ]
    },
    {
     "name": "stdout",
     "output_type": "stream",
     "text": [
      "[0.10361663 0.10638336 0.10671753 ... 0.3443463  0.1625802  0.16274285]\n",
      "✅ avg_loss: 0.0128 | AUC-PR: 0.0505 | baseline: 0.0053 | uplift: 9.49x | P@50:0.080 R@50:0.067 | P@100:0.060 R@100:0.100 | P@200:0.055 R@200:0.183\n",
      "Best model saved at epoch 6 with AUC-PR 0.0505\n",
      "[Epoch 7/10] Step 0/86 - Loss: 0.0137\n",
      "[Epoch 7/10] Step 25/86 - Loss: 0.0201\n",
      "[Epoch 7/10] Step 50/86 - Loss: 0.0179\n",
      "[Epoch 7/10] Step 75/86 - Loss: 0.0162\n",
      "🔁 Epoch 7 finished. Avg Train Loss: 0.0171\n"
     ]
    },
    {
     "name": "stderr",
     "output_type": "stream",
     "text": [
      "Testing: 100%|██████████| 12/12 [00:10<00:00,  1.13it/s]\n"
     ]
    },
    {
     "name": "stdout",
     "output_type": "stream",
     "text": [
      "[0.082291   0.08240664 0.08404151 ... 0.39440787 0.24564078 0.20330279]\n",
      "✅ avg_loss: 0.0117 | AUC-PR: 0.0254 | baseline: 0.0053 | uplift: 4.76x | P@50:0.000 R@50:0.000 | P@100:0.010 R@100:0.017 | P@200:0.010 R@200:0.033\n",
      "[Epoch 8/10] Step 0/86 - Loss: 0.0156\n",
      "[Epoch 8/10] Step 25/86 - Loss: 0.0166\n",
      "[Epoch 8/10] Step 50/86 - Loss: 0.0168\n",
      "[Epoch 8/10] Step 75/86 - Loss: 0.0190\n",
      "🔁 Epoch 8 finished. Avg Train Loss: 0.0181\n"
     ]
    },
    {
     "name": "stderr",
     "output_type": "stream",
     "text": [
      "Testing: 100%|██████████| 12/12 [00:10<00:00,  1.20it/s]\n"
     ]
    },
    {
     "name": "stdout",
     "output_type": "stream",
     "text": [
      "[0.1109715  0.11282688 0.12133876 ... 0.46659255 0.43436185 0.48237425]\n",
      "✅ avg_loss: 0.0196 | AUC-PR: 0.0168 | baseline: 0.0053 | uplift: 3.15x | P@50:0.000 R@50:0.000 | P@100:0.000 R@100:0.000 | P@200:0.005 R@200:0.017\n",
      "[Epoch 9/10] Step 0/86 - Loss: 0.0183\n",
      "[Epoch 9/10] Step 25/86 - Loss: 0.0156\n",
      "[Epoch 9/10] Step 50/86 - Loss: 0.0179\n",
      "[Epoch 9/10] Step 75/86 - Loss: 0.0229\n",
      "🔁 Epoch 9 finished. Avg Train Loss: 0.0181\n"
     ]
    },
    {
     "name": "stderr",
     "output_type": "stream",
     "text": [
      "Testing: 100%|██████████| 12/12 [00:10<00:00,  1.14it/s]\n"
     ]
    },
    {
     "name": "stdout",
     "output_type": "stream",
     "text": [
      "[0.11196682 0.11545554 0.11522507 ... 0.4560923  0.34905928 0.4576912 ]\n",
      "✅ avg_loss: 0.0150 | AUC-PR: 0.0236 | baseline: 0.0053 | uplift: 4.44x | P@50:0.000 R@50:0.000 | P@100:0.010 R@100:0.017 | P@200:0.020 R@200:0.067\n",
      "[Epoch 10/10] Step 0/86 - Loss: 0.0219\n",
      "[Epoch 10/10] Step 25/86 - Loss: 0.0154\n",
      "[Epoch 10/10] Step 50/86 - Loss: 0.0179\n",
      "[Epoch 10/10] Step 75/86 - Loss: 0.0127\n",
      "🔁 Epoch 10 finished. Avg Train Loss: 0.0173\n"
     ]
    },
    {
     "name": "stderr",
     "output_type": "stream",
     "text": [
      "Testing: 100%|██████████| 12/12 [00:10<00:00,  1.16it/s]"
     ]
    },
    {
     "name": "stdout",
     "output_type": "stream",
     "text": [
      "[0.09157924 0.09432103 0.09053741 ... 0.1706221  0.09759343 0.10747649]\n",
      "✅ avg_loss: 0.0122 | AUC-PR: 0.0231 | baseline: 0.0053 | uplift: 4.35x | P@50:0.000 R@50:0.000 | P@100:0.010 R@100:0.017 | P@200:0.010 R@200:0.033\n",
      "🏁 Training completed.\n"
     ]
    },
    {
     "name": "stderr",
     "output_type": "stream",
     "text": [
      "\n"
     ]
    }
   ],
   "source": [
    "\n",
    "log = train_loop(\n",
    "    model, train_loader, val_loader, \n",
    "    log_interval=25, \n",
    "    num_epochs=10, \n",
    "    optimizer=optimizer, \n",
    "    criterion=criterion,\n",
    "    scheduler=scheduler,\n",
    "    save_interval=1,\n",
    "    #save_path='model/0814_0457'\n",
    ")"
   ]
  },
  {
   "cell_type": "code",
   "execution_count": 37,
   "id": "0541a638",
   "metadata": {},
   "outputs": [],
   "source": [
    "#log = pd.read_csv('model/0813_1935/training_log.csv')"
   ]
  },
  {
   "cell_type": "code",
   "execution_count": 50,
   "id": "b9bdff1b",
   "metadata": {},
   "outputs": [],
   "source": [
    "def visualize_log(log):\n",
    "    plt.plot(log['train_loss'], label='train_loss')\n",
    "    plt.plot(log['val_loss'], label='val_loss')\n",
    "    plt.plot(log['aucpr'], label='aucpr')\n",
    "    plt.xlabel('Epoch')\n",
    "    plt.ylabel('Loss')\n",
    "    plt.legend()"
   ]
  },
  {
   "cell_type": "code",
   "execution_count": 51,
   "id": "8f7a75cd",
   "metadata": {},
   "outputs": [
    {
     "data": {
      "image/png": "[encoded data removed]",
      "text/plain": [
       "<Figure size 640x480 with 1 Axes>"
      ]
     },
     "metadata": {},
     "output_type": "display_data"
    }
   ],
   "source": [
    "\n",
    "visualize_log(log)"
   ]
  },
  {
   "cell_type": "markdown",
   "id": "9612ae49",
   "metadata": {},
   "source": [
    "### Model Evaluation"
   ]
  },
  {
   "cell_type": "code",
   "execution_count": 55,
   "id": "7c540efd",
   "metadata": {},
   "outputs": [
    {
     "name": "stderr",
     "output_type": "stream",
     "text": [
      "C:\\Users\\USER\\AppData\\Local\\Packages\\PythonSoftwareFoundation.Python.3.10_qbz5n2kfra8p0\\LocalCache\\local-packages\\Python310\\site-packages\\torch\\_utils.py:831: UserWarning:\n",
      "\n",
      "TypedStorage is deprecated. It will be removed in the future and UntypedStorage will be the only storage class. This should only matter to you if you are using storages directly.  To access UntypedStorage directly, use tensor.untyped_storage() instead of tensor.storage()\n",
      "\n"
     ]
    },
    {
     "data": {
      "text/plain": [
       "<All keys matched successfully>"
      ]
     },
     "execution_count": 55,
     "metadata": {},
     "output_type": "execute_result"
    }
   ],
   "source": [
    "model.load_state_dict(torch.load(r'model\\0814_1923\\best_model.pth', weights_only=True))"
   ]
  },
  {
   "cell_type": "code",
   "execution_count": 56,
   "id": "f7b7ec8b",
   "metadata": {},
   "outputs": [],
   "source": [
    "# 評估 train 分佈：不用 sampler、不shuffle\n",
    "train_loader_eval = DataLoader(\n",
    "    train_ds, batch_size=1024, shuffle=False, num_workers=8, pin_memory=True\n",
    ")\n"
   ]
  },
  {
   "cell_type": "code",
   "execution_count": 57,
   "id": "4c2f512e",
   "metadata": {},
   "outputs": [
    {
     "name": "stderr",
     "output_type": "stream",
     "text": [
      "Testing: 100%|██████████| 44/44 [00:13<00:00,  3.35it/s]\n"
     ]
    }
   ],
   "source": [
    "train_trues, train_outputs, train_loss= test_loop(model, train_loader_eval, criterion=criterion)\n"
   ]
  },
  {
   "cell_type": "code",
   "execution_count": 58,
   "id": "071313c9",
   "metadata": {},
   "outputs": [
    {
     "data": {
      "image/png": "[encoded data removed]",
      "text/plain": [
       "<Figure size 640x480 with 1 Axes>"
      ]
     },
     "metadata": {},
     "output_type": "display_data"
    }
   ],
   "source": [
    "plot_outputs_distribution(train_outputs, \"Train Outputs Distribution\")"
   ]
  },
  {
   "cell_type": "code",
   "execution_count": 59,
   "id": "15dd21af",
   "metadata": {},
   "outputs": [
    {
     "name": "stdout",
     "output_type": "stream",
     "text": [
      "Performance on Training Set:\n",
      "Train Loss: 0.016635299390393564\n",
      "              precision    recall  f1-score   support\n",
      "\n",
      "      Normal       0.99      0.79      0.88     42584\n",
      "     Failure       0.16      0.91      0.28      1920\n",
      "\n",
      "    accuracy                           0.80     44504\n",
      "   macro avg       0.58      0.85      0.58     44504\n",
      "weighted avg       0.96      0.80      0.85     44504\n",
      "\n",
      "[[33663  8921]\n",
      " [  176  1744]]\n",
      "ROC AUC: 0.8974\n"
     ]
    },
    {
     "data": {
      "image/png": "[encoded data removed]",
      "text/plain": [
       "<Figure size 800x600 with 1 Axes>"
      ]
     },
     "metadata": {},
     "output_type": "display_data"
    }
   ],
   "source": [
    "train_predictions = (train_outputs > 0.35).astype(int)\n",
    "\n",
    "print(\"Performance on Training Set:\")\n",
    "print(\"Train Loss:\", train_loss)\n",
    "\n",
    "generate_report(train_trues, train_predictions, train_outputs)"
   ]
  },
  {
   "cell_type": "code",
   "execution_count": null,
   "id": "8734e2fd",
   "metadata": {},
   "outputs": [
    {
     "name": "stdout",
     "output_type": "stream",
     "text": [
      "Threshold for recall ≥ 0.8: 0.0156, Precision=0.024\n",
      "Best threshold (F1): 0.0156\n",
      "Precision: 0.0239, Recall: 0.8000\n"
     ]
    }
   ],
   "source": [
    "from sklearn.linear_model import LogisticRegression\n",
    "from src.train import get_logits_and_labels\n",
    "\n",
    "val_logits, val_labels = get_logits_and_labels(model, val_loader)\n",
    "test_logits, test_labels = get_logits_and_labels(model, test_loader)\n",
    "val_scores = torch.sigmoid(torch.tensor(val_logits)).numpy()\n",
    "test_scores = torch.sigmoid(torch.tensor(test_logits)).numpy()\n",
    "\n",
    "# === 2. Platt scaling (logistic regression) ===\n",
    "platt = LogisticRegression(solver='lbfgs')\n",
    "platt.fit(val_logits.reshape(-1, 1), val_labels)\n",
    "\n",
    "# === 3. 校準分數 ===\n",
    "val_probs_calibrated = platt.predict_proba(val_logits.reshape(-1, 1))[:, 1]\n",
    "test_probs_calibrated = platt.predict_proba(test_logits.reshape(-1, 1))[:, 1]\n",
    "\n",
    "# === 4. 在 val 上找最佳門檻 ===\n",
    "from sklearn.metrics import precision_recall_curve\n",
    "\n",
    "precision, recall, thresholds = precision_recall_curve(val_labels, val_probs_calibrated)\n",
    "\n",
    "target_recall = 0.8\n",
    "best_idx = next(i for i,r in enumerate(recall) if r < target_recall) - 1\n",
    "best_threshold = thresholds[best_idx]\n",
    "print(f\"Threshold for recall ≥ {target_recall}: {best_threshold:.4f}, Precision={precision[best_idx]:.3f}\")\n",
    "\n",
    "# === 5. 在 test set 上套用門檻 ===\n",
    "test_preds = (test_probs_calibrated >= best_threshold).astype(int)\n",
    "val_preds = (val_probs_calibrated >= best_threshold).astype(int)"
   ]
  },
  {
   "cell_type": "code",
   "execution_count": 61,
   "id": "7f19efe9",
   "metadata": {},
   "outputs": [
    {
     "name": "stdout",
     "output_type": "stream",
     "text": [
      "Performance on Validation Set:\n",
      "              precision    recall  f1-score   support\n",
      "\n",
      "      Normal       1.00      0.83      0.90     11210\n",
      "     Failure       0.02      0.80      0.05        60\n",
      "\n",
      "    accuracy                           0.82     11270\n",
      "   macro avg       0.51      0.81      0.48     11270\n",
      "weighted avg       0.99      0.82      0.90     11270\n",
      "\n",
      "[[9249 1961]\n",
      " [  12   48]]\n",
      "ROC AUC: 0.9048\n"
     ]
    },
    {
     "data": {
      "image/png": "[encoded data removed]",
      "text/plain": [
       "<Figure size 800x600 with 1 Axes>"
      ]
     },
     "metadata": {},
     "output_type": "display_data"
    }
   ],
   "source": [
    "print(\"Performance on Validation Set:\")\n",
    "generate_report(val_labels, val_preds, val_probs_calibrated,)"
   ]
  },
  {
   "cell_type": "code",
   "execution_count": 62,
   "id": "2e830c60",
   "metadata": {},
   "outputs": [
    {
     "name": "stdout",
     "output_type": "stream",
     "text": [
      "Performance on Test Set:\n",
      "              precision    recall  f1-score   support\n",
      "\n",
      "      Normal       0.99      0.93      0.96     10919\n",
      "     Failure       0.00      0.07      0.01        60\n",
      "\n",
      "    accuracy                           0.92     10979\n",
      "   macro avg       0.50      0.50      0.48     10979\n",
      "weighted avg       0.99      0.92      0.95     10979\n",
      "\n",
      "[[10103   816]\n",
      " [   56     4]]\n",
      "ROC AUC: 0.6063\n"
     ]
    },
    {
     "data": {
      "image/png": "[encoded data removed]",
      "text/plain": [
       "<Figure size 800x600 with 1 Axes>"
      ]
     },
     "metadata": {},
     "output_type": "display_data"
    }
   ],
   "source": [
    "print(\"Performance on Test Set:\")\n",
    "generate_report(test_labels, test_preds, test_probs_calibrated,)"
   ]
  }
 ],
 "metadata": {
  "kernelspec": {
   "display_name": "Python 3",
   "language": "python",
   "name": "python3"
  },
  "language_info": {
   "codemirror_mode": {
    "name": "ipython",
    "version": 3
   },
   "file_extension": ".py",
   "mimetype": "text/x-python",
   "name": "python",
   "nbconvert_exporter": "python",
   "pygments_lexer": "ipython3",
   "version": "3.10.11"
  }
 },
 "nbformat": 4,
 "nbformat_minor": 5
}

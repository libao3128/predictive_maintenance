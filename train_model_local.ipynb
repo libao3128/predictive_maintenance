{
 "cells": [
  {
   "cell_type": "code",
   "execution_count": 1,
   "id": "5633ed8e",
   "metadata": {},
   "outputs": [],
   "source": [
    "import pandas as pd\n",
    "from src.train import *\n",
    "from src.model import CNNLSTMModel\n",
    "from src.dataset import *\n",
    "from src.preprocess import *\n",
    "from src.visualize import *\n",
    "import torch"
   ]
  },
  {
   "cell_type": "markdown",
   "id": "fcf3d759",
   "metadata": {},
   "source": [
    "## Hyper-Parameter"
   ]
  },
  {
   "cell_type": "code",
   "execution_count": 2,
   "id": "5f407469",
   "metadata": {},
   "outputs": [],
   "source": [
    "performe_visualization = False"
   ]
  },
  {
   "cell_type": "code",
   "execution_count": 3,
   "id": "37ac0a88",
   "metadata": {},
   "outputs": [],
   "source": [
    "# some important parameters\n",
    "pre_day = 5\n",
    "window_size = 12*24*7 # 5 minutes * 12 * 24 = 1 day\n",
    "stride = 12 # 1 hour stride\n",
    "\n",
    "feature_cols = [\n",
    "    \"metric.STATUS_AC_MOD_ADMISSION_TEMP.MEASURED\",  # ambient temperature\n",
    "    \"metric.STATUS_INTERNAL_TEMP.MEASURED\",          # internal temperature\n",
    "    \"metric.AC_VOLTAGE_AB.MEASURED\",                 # AC voltage\n",
    "    \"metric.AC_VOLTAGE_BC.MEASURED\",                 # AC voltage\n",
    "    \"metric.AC_VOLTAGE_CA.MEASURED\",                 # AC voltage\n",
    "    \"metric.DC_VOLTAGE.MEASURED\",                  # DC voltage\n",
    "    \"metric.AC_POWER.MEASURED\",                     # AC power\n",
    "]\n",
    "\n",
    "exclude_periods = [\n",
    "    [pd.Timestamp('2021-01-01'), pd.Timestamp('2021-12-23')], # data collection issue\n",
    "    [pd.Timestamp('2023-02-23'), pd.Timestamp('2023-08-26')], # anomalies in the data\n",
    "]"
   ]
  },
  {
   "cell_type": "markdown",
   "id": "dc771650",
   "metadata": {},
   "source": [
    "## Data Preprocessing\n",
    "### Load Data"
   ]
  },
  {
   "cell_type": "code",
   "execution_count": 4,
   "id": "9dfd396c",
   "metadata": {},
   "outputs": [
    {
     "name": "stdout",
     "output_type": "stream",
     "text": [
      "Loaded 15 parquet files → 6126272 rows\n",
      "Kept 61 sessions longer than 3 days\n"
     ]
    }
   ],
   "source": [
    "inverter_data = load_parquet_data('data/inverter_data')\n",
    "failure_sessions = load_failure_sessions('data/failure_sessions_w_maintenance.csv', min_days=3)"
   ]
  },
  {
   "cell_type": "code",
   "execution_count": 5,
   "id": "fdae2515",
   "metadata": {},
   "outputs": [
    {
     "data": {
      "application/vnd.plotly.v1+json": {
       "config": {
        "plotlyServerURL": "https://plot.ly"
       },
       "data": [
        {
         "alignmentgroup": "True",
         "base": [
          "2023-03-17T17:10:00",
          "2025-04-20T13:35:00",
          "2022-11-07T06:35:00",
          "2022-08-03T15:50:00",
          "2022-12-26T16:45:00",
          "2025-04-20T11:20:00",
          "2022-11-06T16:50:00",
          "2022-12-26T16:45:00",
          "2022-08-03T15:50:00",
          "2023-05-29T05:40:00",
          "2023-03-17T17:10:00",
          "2025-04-20T10:35:00",
          "2023-03-17T17:10:00",
          "2022-07-28T09:55:00",
          "2023-05-29T05:40:00",
          "2023-03-17T17:10:00",
          "2025-04-20T11:20:00",
          "2022-11-06T16:50:00",
          "2022-07-28T10:05:00",
          "2023-05-29T05:40:00",
          "2025-05-05T10:25:00",
          "2022-12-26T16:45:00",
          "2023-03-17T17:10:00",
          "2025-04-20T10:35:00",
          "2022-11-06T16:50:00",
          "2022-07-28T10:05:00",
          "2023-05-29T05:40:00",
          "2025-05-05T10:25:00",
          "2025-05-05T10:25:00"
         ],
         "customdata": [
          [
           0,
           "2023-03-17T17:10:00",
           "2023-03-21T12:20:00",
           91.16666666666667,
           false,
           "Planned (maintenance)"
          ],
          [
           2,
           "2025-04-20T13:35:00",
           "2025-05-23T15:00:00",
           793.4166666666666,
           false,
           "Planned (maintenance)"
          ],
          [
           3,
           "2022-11-07T06:35:00",
           "2022-11-10T10:05:00",
           75.5,
           false,
           "Planned (maintenance)"
          ],
          [
           5,
           "2022-08-03T15:50:00",
           "2022-08-08T13:35:00",
           117.75,
           false,
           "Planned (maintenance)"
          ],
          [
           6,
           "2022-12-26T16:45:00",
           "2022-12-30T09:10:00",
           88.41666666666667,
           false,
           "Planned (maintenance)"
          ],
          [
           16,
           "2025-04-20T11:20:00",
           "2025-05-11T06:55:00",
           499.5833333333333,
           false,
           "Planned (maintenance)"
          ],
          [
           17,
           "2022-11-06T16:50:00",
           "2022-11-10T10:35:00",
           89.75,
           false,
           "Planned (maintenance)"
          ],
          [
           19,
           "2022-12-26T16:45:00",
           "2022-12-30T09:05:00",
           88.33333333333333,
           false,
           "Planned (maintenance)"
          ],
          [
           23,
           "2022-08-03T15:50:00",
           "2022-08-08T13:25:00",
           117.58333333333333,
           false,
           "Planned (maintenance)"
          ],
          [
           24,
           "2023-05-29T05:40:00",
           "2023-07-22T10:00:00",
           1300.3333333333333,
           false,
           "Planned (maintenance)"
          ],
          [
           27,
           "2023-03-17T17:10:00",
           "2023-03-24T11:05:00",
           161.91666666666666,
           false,
           "Planned (maintenance)"
          ],
          [
           29,
           "2025-04-20T10:35:00",
           "2025-05-11T06:55:00",
           500.3333333333333,
           false,
           "Planned (maintenance)"
          ],
          [
           32,
           "2023-03-17T17:10:00",
           "2023-03-22T08:50:00",
           111.66666666666667,
           false,
           "Planned (maintenance)"
          ],
          [
           33,
           "2022-07-28T09:55:00",
           "2022-08-16T17:00:00",
           463.0833333333333,
           false,
           "Planned (maintenance)"
          ],
          [
           34,
           "2023-05-29T05:40:00",
           "2023-06-16T14:05:00",
           440.4166666666667,
           false,
           "Planned (maintenance)"
          ],
          [
           36,
           "2023-03-17T17:10:00",
           "2023-03-24T10:35:00",
           161.41666666666666,
           false,
           "Planned (maintenance)"
          ],
          [
           38,
           "2025-04-20T11:20:00",
           "2025-05-11T06:55:00",
           499.5833333333333,
           false,
           "Planned (maintenance)"
          ],
          [
           39,
           "2022-11-06T16:50:00",
           "2022-11-10T11:05:00",
           90.25,
           false,
           "Planned (maintenance)"
          ],
          [
           41,
           "2022-07-28T10:05:00",
           "2022-08-16T12:55:00",
           458.8333333333333,
           false,
           "Planned (maintenance)"
          ],
          [
           42,
           "2023-05-29T05:40:00",
           "2023-06-16T14:25:00",
           440.75,
           false,
           "Planned (maintenance)"
          ],
          [
           43,
           "2025-05-05T10:25:00",
           "2025-06-03T11:00:00",
           696.5833333333334,
           false,
           "Planned (maintenance)"
          ],
          [
           45,
           "2022-12-26T16:45:00",
           "2022-12-30T09:10:00",
           88.41666666666667,
           false,
           "Planned (maintenance)"
          ],
          [
           46,
           "2023-03-17T17:10:00",
           "2023-03-31T13:35:00",
           332.4166666666667,
           false,
           "Planned (maintenance)"
          ],
          [
           47,
           "2025-04-20T10:35:00",
           "2025-05-11T07:15:00",
           500.6666666666667,
           false,
           "Planned (maintenance)"
          ],
          [
           50,
           "2022-11-06T16:50:00",
           "2022-11-10T11:15:00",
           90.41666666666667,
           false,
           "Planned (maintenance)"
          ],
          [
           51,
           "2022-07-28T10:05:00",
           "2022-09-29T08:20:00",
           1510.25,
           false,
           "Planned (maintenance)"
          ],
          [
           53,
           "2023-05-29T05:40:00",
           "2023-06-16T14:25:00",
           440.75,
           false,
           "Planned (maintenance)"
          ],
          [
           56,
           "2025-05-05T10:25:00",
           "2025-05-28T12:10:00",
           553.75,
           false,
           "Planned (maintenance)"
          ],
          [
           60,
           "2025-05-05T10:25:00",
           "2025-05-28T05:50:00",
           547.4166666666666,
           false,
           "Planned (maintenance)"
          ]
         ],
         "hovertemplate": "<b>%{y}</b><br>Start: %{customdata[1]|%Y-%m-%d %H:%M}<br>End: %{customdata[2]|%Y-%m-%d %H:%M}<br>Duration (hrs): %{customdata[3]:.2f}<br>",
         "legendgroup": "Planned (maintenance)",
         "marker": {
          "color": "#6b7280",
          "line": {
           "color": "rgba(30,30,60,0.55)",
           "width": 1.5
          },
          "pattern": {
           "shape": ""
          }
         },
         "name": "Planned (maintenance)",
         "offsetgroup": "Planned (maintenance)",
         "opacity": 0.98,
         "orientation": "h",
         "showlegend": true,
         "textposition": "auto",
         "type": "bar",
         "x": [
          328200000,
          2856300000,
          271800000,
          423900000,
          318300000,
          1798500000,
          323100000,
          318000000,
          423300000,
          4681200000,
          582900000,
          1801200000,
          402000000,
          1667100000,
          1585500000,
          581100000,
          1798500000,
          324900000,
          1651800000,
          1586700000,
          2507700000,
          318300000,
          1196700000,
          1802400000,
          325500000,
          5436900000,
          1586700000,
          1993500000,
          1970700000
         ],
         "xaxis": "x",
         "y": [
          "INV 51",
          "INV 51",
          "INV 52",
          "INV 53",
          "INV 53",
          "INV 54",
          "INV 55",
          "INV 55",
          "INV 56",
          "INV 56",
          "INV 57",
          "INV 57",
          "INV 58",
          "INV 59",
          "INV 59",
          "INV 60",
          "INV 60",
          "INV 61",
          "INV 62",
          "INV 62",
          "INV 62",
          "INV 63",
          "INV 63",
          "INV 63",
          "INV 64",
          "INV 65",
          "INV 65",
          "INV 65",
          "INV 66"
         ],
         "yaxis": "y"
        },
        {
         "alignmentgroup": "True",
         "base": [
          "2024-04-25T12:55:00",
          "2025-03-29T13:55:00",
          "2023-07-23T12:10:00",
          "2022-08-09T11:10:00",
          "2022-09-10T14:45:00",
          "2022-12-01T11:55:00",
          "2023-01-02T16:40:00",
          "2023-01-14T07:45:00",
          "2023-07-01T14:15:00",
          "2023-12-28T15:30:00",
          "2025-04-13T16:10:00",
          "2022-12-22T16:25:00",
          "2023-01-02T15:20:00",
          "2023-01-09T15:20:00",
          "2025-04-23T14:35:00",
          "2023-07-26T06:55:00",
          "2024-03-02T10:55:00",
          "2024-08-31T06:30:00",
          "2022-08-26T19:35:00",
          "2022-09-29T09:30:00",
          "2024-02-15T08:10:00",
          "2024-08-23T19:30:00",
          "2024-05-03T09:00:00",
          "2025-06-28T10:20:00",
          "2022-03-03T17:35:00",
          "2022-07-07T15:30:00",
          "2023-04-28T10:25:00",
          "2024-02-11T08:10:00",
          "2025-04-27T17:55:00",
          "2022-07-30T20:05:00",
          "2023-03-25T17:20:00",
          "2024-08-13T07:05:00"
         ],
         "customdata": [
          [
           1,
           "2024-04-25T12:55:00",
           "2024-04-30T08:00:00",
           115.08333333333333,
           false,
           "Unplanned failure"
          ],
          [
           4,
           "2025-03-29T13:55:00",
           "2025-04-04T12:30:00",
           142.58333333333334,
           false,
           "Unplanned failure"
          ],
          [
           7,
           "2023-07-23T12:10:00",
           "2023-07-28T08:05:00",
           115.91666666666667,
           false,
           "Unplanned failure"
          ],
          [
           8,
           "2022-08-09T11:10:00",
           "2022-08-12T11:40:00",
           72.5,
           false,
           "Unplanned failure"
          ],
          [
           9,
           "2022-09-10T14:45:00",
           "2022-09-14T07:45:00",
           89,
           false,
           "Unplanned failure"
          ],
          [
           10,
           "2022-12-01T11:55:00",
           "2022-12-06T10:40:00",
           118.75,
           false,
           "Unplanned failure"
          ],
          [
           11,
           "2023-01-02T16:40:00",
           "2023-01-13T11:20:00",
           258.6666666666667,
           false,
           "Unplanned failure"
          ],
          [
           12,
           "2023-01-14T07:45:00",
           "2023-01-26T12:55:00",
           293.1666666666667,
           false,
           "Unplanned failure"
          ],
          [
           13,
           "2023-07-01T14:15:00",
           "2023-07-06T11:40:00",
           117.41666666666667,
           false,
           "Unplanned failure"
          ],
          [
           14,
           "2023-12-28T15:30:00",
           "2024-01-02T09:05:00",
           113.58333333333333,
           false,
           "Unplanned failure"
          ],
          [
           15,
           "2025-04-13T16:10:00",
           "2025-04-17T10:10:00",
           90,
           false,
           "Unplanned failure"
          ],
          [
           18,
           "2022-12-22T16:25:00",
           "2022-12-26T10:30:00",
           90.08333333333333,
           false,
           "Unplanned failure"
          ],
          [
           20,
           "2023-01-02T15:20:00",
           "2023-01-07T09:40:00",
           114.33333333333333,
           false,
           "Unplanned failure"
          ],
          [
           21,
           "2023-01-09T15:20:00",
           "2023-01-13T11:50:00",
           92.5,
           false,
           "Unplanned failure"
          ],
          [
           22,
           "2025-04-23T14:35:00",
           "2025-05-01T09:05:00",
           186.5,
           false,
           "Unplanned failure"
          ],
          [
           25,
           "2023-07-26T06:55:00",
           "2023-08-02T13:00:00",
           174.08333333333334,
           false,
           "Unplanned failure"
          ],
          [
           26,
           "2024-03-02T10:55:00",
           "2024-03-06T10:30:00",
           95.58333333333333,
           false,
           "Unplanned failure"
          ],
          [
           28,
           "2024-08-31T06:30:00",
           "2024-09-06T11:10:00",
           148.66666666666666,
           false,
           "Unplanned failure"
          ],
          [
           30,
           "2022-08-26T19:35:00",
           "2022-08-30T09:05:00",
           85.5,
           false,
           "Unplanned failure"
          ],
          [
           31,
           "2022-09-29T09:30:00",
           "2022-11-15T12:25:00",
           1130.9166666666667,
           false,
           "Unplanned failure"
          ],
          [
           35,
           "2024-02-15T08:10:00",
           "2024-02-20T10:20:00",
           122.16666666666667,
           false,
           "Unplanned failure"
          ],
          [
           37,
           "2024-08-23T19:30:00",
           "2024-08-28T12:20:00",
           112.83333333333333,
           false,
           "Unplanned failure"
          ],
          [
           40,
           "2024-05-03T09:00:00",
           "2024-05-09T12:50:00",
           147.83333333333334,
           false,
           "Unplanned failure"
          ],
          [
           44,
           "2025-06-28T10:20:00",
           "2025-07-02T07:35:00",
           93.25,
           false,
           "Unplanned failure"
          ],
          [
           48,
           "2022-03-03T17:35:00",
           "2022-03-07T11:50:00",
           90.25,
           false,
           "Unplanned failure"
          ],
          [
           49,
           "2022-07-07T15:30:00",
           "2022-07-11T12:10:00",
           92.66666666666667,
           false,
           "Unplanned failure"
          ],
          [
           52,
           "2023-04-28T10:25:00",
           "2023-05-02T09:55:00",
           95.5,
           false,
           "Unplanned failure"
          ],
          [
           54,
           "2024-02-11T08:10:00",
           "2024-02-15T11:55:00",
           99.75,
           false,
           "Unplanned failure"
          ],
          [
           55,
           "2025-04-27T17:55:00",
           "2025-05-02T12:40:00",
           114.75,
           false,
           "Unplanned failure"
          ],
          [
           57,
           "2022-07-30T20:05:00",
           "2022-08-03T13:20:00",
           89.25,
           false,
           "Unplanned failure"
          ],
          [
           58,
           "2023-03-25T17:20:00",
           "2023-06-28T10:05:00",
           2272.75,
           false,
           "Unplanned failure"
          ],
          [
           59,
           "2024-08-13T07:05:00",
           "2024-08-16T11:55:00",
           76.83333333333333,
           false,
           "Unplanned failure"
          ]
         ],
         "hovertemplate": "<b>%{y}</b><br>Start: %{customdata[1]|%Y-%m-%d %H:%M}<br>End: %{customdata[2]|%Y-%m-%d %H:%M}<br>Duration (hrs): %{customdata[3]:.2f}<br>",
         "legendgroup": "Unplanned failure",
         "marker": {
          "color": "#2563eb",
          "line": {
           "color": "rgba(30,30,60,0.55)",
           "width": 1.5
          },
          "pattern": {
           "shape": ""
          }
         },
         "name": "Unplanned failure",
         "offsetgroup": "Unplanned failure",
         "opacity": 0.98,
         "orientation": "h",
         "showlegend": true,
         "textposition": "auto",
         "type": "bar",
         "x": [
          414300000,
          513300000,
          417300000,
          261000000,
          320400000,
          427500000,
          931200000,
          1055400000,
          422700000,
          408900000,
          324000000,
          324300000,
          411600000,
          333000000,
          671400000,
          626700000,
          344100000,
          535200000,
          307800000,
          4071300000,
          439800000,
          406200000,
          532200000,
          335700000,
          324900000,
          333600000,
          343800000,
          359100000,
          413100000,
          321300000,
          8181900000,
          276600000
         ],
         "xaxis": "x",
         "y": [
          "INV 51",
          "INV 52",
          "INV 53",
          "INV 54",
          "INV 54",
          "INV 54",
          "INV 54",
          "INV 54",
          "INV 54",
          "INV 54",
          "INV 54",
          "INV 55",
          "INV 55",
          "INV 55",
          "INV 55",
          "INV 56",
          "INV 56",
          "INV 57",
          "INV 58",
          "INV 58",
          "INV 59",
          "INV 60",
          "INV 61",
          "INV 62",
          "INV 64",
          "INV 64",
          "INV 65",
          "INV 65",
          "INV 65",
          "INV 66",
          "INV 66",
          "INV 66"
         ],
         "yaxis": "y"
        }
       ],
       "layout": {
        "bargap": 0.25,
        "barmode": "overlay",
        "height": 620,
        "legend": {
         "title": {
          "text": "Event Type"
         },
         "tracegroupgap": 0
        },
        "margin": {
         "b": 40,
         "l": 70,
         "r": 30,
         "t": 60
        },
        "template": {
         "data": {
          "bar": [
           {
            "error_x": {
             "color": "#2a3f5f"
            },
            "error_y": {
             "color": "#2a3f5f"
            },
            "marker": {
             "line": {
              "color": "white",
              "width": 0.5
             },
             "pattern": {
              "fillmode": "overlay",
              "size": 10,
              "solidity": 0.2
             }
            },
            "type": "bar"
           }
          ],
          "barpolar": [
           {
            "marker": {
             "line": {
              "color": "white",
              "width": 0.5
             },
             "pattern": {
              "fillmode": "overlay",
              "size": 10,
              "solidity": 0.2
             }
            },
            "type": "barpolar"
           }
          ],
          "carpet": [
           {
            "aaxis": {
             "endlinecolor": "#2a3f5f",
             "gridcolor": "#C8D4E3",
             "linecolor": "#C8D4E3",
             "minorgridcolor": "#C8D4E3",
             "startlinecolor": "#2a3f5f"
            },
            "baxis": {
             "endlinecolor": "#2a3f5f",
             "gridcolor": "#C8D4E3",
             "linecolor": "#C8D4E3",
             "minorgridcolor": "#C8D4E3",
             "startlinecolor": "#2a3f5f"
            },
            "type": "carpet"
           }
          ],
          "choropleth": [
           {
            "colorbar": {
             "outlinewidth": 0,
             "ticks": ""
            },
            "type": "choropleth"
           }
          ],
          "contour": [
           {
            "colorbar": {
             "outlinewidth": 0,
             "ticks": ""
            },
            "colorscale": [
             [
              0,
              "#0d0887"
             ],
             [
              0.1111111111111111,
              "#46039f"
             ],
             [
              0.2222222222222222,
              "#7201a8"
             ],
             [
              0.3333333333333333,
              "#9c179e"
             ],
             [
              0.4444444444444444,
              "#bd3786"
             ],
             [
              0.5555555555555556,
              "#d8576b"
             ],
             [
              0.6666666666666666,
              "#ed7953"
             ],
             [
              0.7777777777777778,
              "#fb9f3a"
             ],
             [
              0.8888888888888888,
              "#fdca26"
             ],
             [
              1,
              "#f0f921"
             ]
            ],
            "type": "contour"
           }
          ],
          "contourcarpet": [
           {
            "colorbar": {
             "outlinewidth": 0,
             "ticks": ""
            },
            "type": "contourcarpet"
           }
          ],
          "heatmap": [
           {
            "colorbar": {
             "outlinewidth": 0,
             "ticks": ""
            },
            "colorscale": [
             [
              0,
              "#0d0887"
             ],
             [
              0.1111111111111111,
              "#46039f"
             ],
             [
              0.2222222222222222,
              "#7201a8"
             ],
             [
              0.3333333333333333,
              "#9c179e"
             ],
             [
              0.4444444444444444,
              "#bd3786"
             ],
             [
              0.5555555555555556,
              "#d8576b"
             ],
             [
              0.6666666666666666,
              "#ed7953"
             ],
             [
              0.7777777777777778,
              "#fb9f3a"
             ],
             [
              0.8888888888888888,
              "#fdca26"
             ],
             [
              1,
              "#f0f921"
             ]
            ],
            "type": "heatmap"
           }
          ],
          "heatmapgl": [
           {
            "colorbar": {
             "outlinewidth": 0,
             "ticks": ""
            },
            "colorscale": [
             [
              0,
              "#0d0887"
             ],
             [
              0.1111111111111111,
              "#46039f"
             ],
             [
              0.2222222222222222,
              "#7201a8"
             ],
             [
              0.3333333333333333,
              "#9c179e"
             ],
             [
              0.4444444444444444,
              "#bd3786"
             ],
             [
              0.5555555555555556,
              "#d8576b"
             ],
             [
              0.6666666666666666,
              "#ed7953"
             ],
             [
              0.7777777777777778,
              "#fb9f3a"
             ],
             [
              0.8888888888888888,
              "#fdca26"
             ],
             [
              1,
              "#f0f921"
             ]
            ],
            "type": "heatmapgl"
           }
          ],
          "histogram": [
           {
            "marker": {
             "pattern": {
              "fillmode": "overlay",
              "size": 10,
              "solidity": 0.2
             }
            },
            "type": "histogram"
           }
          ],
          "histogram2d": [
           {
            "colorbar": {
             "outlinewidth": 0,
             "ticks": ""
            },
            "colorscale": [
             [
              0,
              "#0d0887"
             ],
             [
              0.1111111111111111,
              "#46039f"
             ],
             [
              0.2222222222222222,
              "#7201a8"
             ],
             [
              0.3333333333333333,
              "#9c179e"
             ],
             [
              0.4444444444444444,
              "#bd3786"
             ],
             [
              0.5555555555555556,
              "#d8576b"
             ],
             [
              0.6666666666666666,
              "#ed7953"
             ],
             [
              0.7777777777777778,
              "#fb9f3a"
             ],
             [
              0.8888888888888888,
              "#fdca26"
             ],
             [
              1,
              "#f0f921"
             ]
            ],
            "type": "histogram2d"
           }
          ],
          "histogram2dcontour": [
           {
            "colorbar": {
             "outlinewidth": 0,
             "ticks": ""
            },
            "colorscale": [
             [
              0,
              "#0d0887"
             ],
             [
              0.1111111111111111,
              "#46039f"
             ],
             [
              0.2222222222222222,
              "#7201a8"
             ],
             [
              0.3333333333333333,
              "#9c179e"
             ],
             [
              0.4444444444444444,
              "#bd3786"
             ],
             [
              0.5555555555555556,
              "#d8576b"
             ],
             [
              0.6666666666666666,
              "#ed7953"
             ],
             [
              0.7777777777777778,
              "#fb9f3a"
             ],
             [
              0.8888888888888888,
              "#fdca26"
             ],
             [
              1,
              "#f0f921"
             ]
            ],
            "type": "histogram2dcontour"
           }
          ],
          "mesh3d": [
           {
            "colorbar": {
             "outlinewidth": 0,
             "ticks": ""
            },
            "type": "mesh3d"
           }
          ],
          "parcoords": [
           {
            "line": {
             "colorbar": {
              "outlinewidth": 0,
              "ticks": ""
             }
            },
            "type": "parcoords"
           }
          ],
          "pie": [
           {
            "automargin": true,
            "type": "pie"
           }
          ],
          "scatter": [
           {
            "fillpattern": {
             "fillmode": "overlay",
             "size": 10,
             "solidity": 0.2
            },
            "type": "scatter"
           }
          ],
          "scatter3d": [
           {
            "line": {
             "colorbar": {
              "outlinewidth": 0,
              "ticks": ""
             }
            },
            "marker": {
             "colorbar": {
              "outlinewidth": 0,
              "ticks": ""
             }
            },
            "type": "scatter3d"
           }
          ],
          "scattercarpet": [
           {
            "marker": {
             "colorbar": {
              "outlinewidth": 0,
              "ticks": ""
             }
            },
            "type": "scattercarpet"
           }
          ],
          "scattergeo": [
           {
            "marker": {
             "colorbar": {
              "outlinewidth": 0,
              "ticks": ""
             }
            },
            "type": "scattergeo"
           }
          ],
          "scattergl": [
           {
            "marker": {
             "colorbar": {
              "outlinewidth": 0,
              "ticks": ""
             }
            },
            "type": "scattergl"
           }
          ],
          "scattermapbox": [
           {
            "marker": {
             "colorbar": {
              "outlinewidth": 0,
              "ticks": ""
             }
            },
            "type": "scattermapbox"
           }
          ],
          "scatterpolar": [
           {
            "marker": {
             "colorbar": {
              "outlinewidth": 0,
              "ticks": ""
             }
            },
            "type": "scatterpolar"
           }
          ],
          "scatterpolargl": [
           {
            "marker": {
             "colorbar": {
              "outlinewidth": 0,
              "ticks": ""
             }
            },
            "type": "scatterpolargl"
           }
          ],
          "scatterternary": [
           {
            "marker": {
             "colorbar": {
              "outlinewidth": 0,
              "ticks": ""
             }
            },
            "type": "scatterternary"
           }
          ],
          "surface": [
           {
            "colorbar": {
             "outlinewidth": 0,
             "ticks": ""
            },
            "colorscale": [
             [
              0,
              "#0d0887"
             ],
             [
              0.1111111111111111,
              "#46039f"
             ],
             [
              0.2222222222222222,
              "#7201a8"
             ],
             [
              0.3333333333333333,
              "#9c179e"
             ],
             [
              0.4444444444444444,
              "#bd3786"
             ],
             [
              0.5555555555555556,
              "#d8576b"
             ],
             [
              0.6666666666666666,
              "#ed7953"
             ],
             [
              0.7777777777777778,
              "#fb9f3a"
             ],
             [
              0.8888888888888888,
              "#fdca26"
             ],
             [
              1,
              "#f0f921"
             ]
            ],
            "type": "surface"
           }
          ],
          "table": [
           {
            "cells": {
             "fill": {
              "color": "#EBF0F8"
             },
             "line": {
              "color": "white"
             }
            },
            "header": {
             "fill": {
              "color": "#C8D4E3"
             },
             "line": {
              "color": "white"
             }
            },
            "type": "table"
           }
          ]
         },
         "layout": {
          "annotationdefaults": {
           "arrowcolor": "#2a3f5f",
           "arrowhead": 0,
           "arrowwidth": 1
          },
          "autotypenumbers": "strict",
          "coloraxis": {
           "colorbar": {
            "outlinewidth": 0,
            "ticks": ""
           }
          },
          "colorscale": {
           "diverging": [
            [
             0,
             "#8e0152"
            ],
            [
             0.1,
             "#c51b7d"
            ],
            [
             0.2,
             "#de77ae"
            ],
            [
             0.3,
             "#f1b6da"
            ],
            [
             0.4,
             "#fde0ef"
            ],
            [
             0.5,
             "#f7f7f7"
            ],
            [
             0.6,
             "#e6f5d0"
            ],
            [
             0.7,
             "#b8e186"
            ],
            [
             0.8,
             "#7fbc41"
            ],
            [
             0.9,
             "#4d9221"
            ],
            [
             1,
             "#276419"
            ]
           ],
           "sequential": [
            [
             0,
             "#0d0887"
            ],
            [
             0.1111111111111111,
             "#46039f"
            ],
            [
             0.2222222222222222,
             "#7201a8"
            ],
            [
             0.3333333333333333,
             "#9c179e"
            ],
            [
             0.4444444444444444,
             "#bd3786"
            ],
            [
             0.5555555555555556,
             "#d8576b"
            ],
            [
             0.6666666666666666,
             "#ed7953"
            ],
            [
             0.7777777777777778,
             "#fb9f3a"
            ],
            [
             0.8888888888888888,
             "#fdca26"
            ],
            [
             1,
             "#f0f921"
            ]
           ],
           "sequentialminus": [
            [
             0,
             "#0d0887"
            ],
            [
             0.1111111111111111,
             "#46039f"
            ],
            [
             0.2222222222222222,
             "#7201a8"
            ],
            [
             0.3333333333333333,
             "#9c179e"
            ],
            [
             0.4444444444444444,
             "#bd3786"
            ],
            [
             0.5555555555555556,
             "#d8576b"
            ],
            [
             0.6666666666666666,
             "#ed7953"
            ],
            [
             0.7777777777777778,
             "#fb9f3a"
            ],
            [
             0.8888888888888888,
             "#fdca26"
            ],
            [
             1,
             "#f0f921"
            ]
           ]
          },
          "colorway": [
           "#636efa",
           "#EF553B",
           "#00cc96",
           "#ab63fa",
           "#FFA15A",
           "#19d3f3",
           "#FF6692",
           "#B6E880",
           "#FF97FF",
           "#FECB52"
          ],
          "font": {
           "color": "#2a3f5f"
          },
          "geo": {
           "bgcolor": "white",
           "lakecolor": "white",
           "landcolor": "white",
           "showlakes": true,
           "showland": true,
           "subunitcolor": "#C8D4E3"
          },
          "hoverlabel": {
           "align": "left"
          },
          "hovermode": "closest",
          "mapbox": {
           "style": "light"
          },
          "paper_bgcolor": "white",
          "plot_bgcolor": "white",
          "polar": {
           "angularaxis": {
            "gridcolor": "#EBF0F8",
            "linecolor": "#EBF0F8",
            "ticks": ""
           },
           "bgcolor": "white",
           "radialaxis": {
            "gridcolor": "#EBF0F8",
            "linecolor": "#EBF0F8",
            "ticks": ""
           }
          },
          "scene": {
           "xaxis": {
            "backgroundcolor": "white",
            "gridcolor": "#DFE8F3",
            "gridwidth": 2,
            "linecolor": "#EBF0F8",
            "showbackground": true,
            "ticks": "",
            "zerolinecolor": "#EBF0F8"
           },
           "yaxis": {
            "backgroundcolor": "white",
            "gridcolor": "#DFE8F3",
            "gridwidth": 2,
            "linecolor": "#EBF0F8",
            "showbackground": true,
            "ticks": "",
            "zerolinecolor": "#EBF0F8"
           },
           "zaxis": {
            "backgroundcolor": "white",
            "gridcolor": "#DFE8F3",
            "gridwidth": 2,
            "linecolor": "#EBF0F8",
            "showbackground": true,
            "ticks": "",
            "zerolinecolor": "#EBF0F8"
           }
          },
          "shapedefaults": {
           "line": {
            "color": "#2a3f5f"
           }
          },
          "ternary": {
           "aaxis": {
            "gridcolor": "#DFE8F3",
            "linecolor": "#A2B1C6",
            "ticks": ""
           },
           "baxis": {
            "gridcolor": "#DFE8F3",
            "linecolor": "#A2B1C6",
            "ticks": ""
           },
           "bgcolor": "white",
           "caxis": {
            "gridcolor": "#DFE8F3",
            "linecolor": "#A2B1C6",
            "ticks": ""
           }
          },
          "title": {
           "x": 0.05
          },
          "xaxis": {
           "automargin": true,
           "gridcolor": "#EBF0F8",
           "linecolor": "#EBF0F8",
           "ticks": "",
           "title": {
            "standoff": 15
           },
           "zerolinecolor": "#EBF0F8",
           "zerolinewidth": 2
          },
          "yaxis": {
           "automargin": true,
           "gridcolor": "#EBF0F8",
           "linecolor": "#EBF0F8",
           "ticks": "",
           "title": {
            "standoff": 15
           },
           "zerolinecolor": "#EBF0F8",
           "zerolinewidth": 2
          }
         }
        },
        "title": {
         "text": "Failure Sessions Timeline"
        },
        "xaxis": {
         "anchor": "y",
         "domain": [
          0,
          1
         ],
         "rangeselector": {
          "buttons": [
           {
            "count": 7,
            "label": "1w",
            "step": "day",
            "stepmode": "backward"
           },
           {
            "count": 1,
            "label": "1m",
            "step": "month",
            "stepmode": "backward"
           },
           {
            "count": 3,
            "label": "3m",
            "step": "month",
            "stepmode": "backward"
           },
           {
            "count": 6,
            "label": "6m",
            "step": "month",
            "stepmode": "backward"
           },
           {
            "count": 1,
            "label": "1y",
            "step": "year",
            "stepmode": "backward"
           },
           {
            "step": "all"
           }
          ]
         },
         "rangeslider": {
          "visible": true
         },
         "showgrid": true,
         "type": "date"
        },
        "yaxis": {
         "anchor": "x",
         "autorange": "reversed",
         "categoryarray": [
          "INV 52",
          "INV 61",
          "INV 64",
          "INV 53",
          "INV 55",
          "INV 60",
          "INV 57",
          "INV 63",
          "INV 51",
          "INV 59",
          "INV 58",
          "INV 54",
          "INV 56",
          "INV 62",
          "INV 65",
          "INV 66"
         ],
         "categoryorder": "array",
         "domain": [
          0,
          1
         ],
         "title": {
          "text": "Device"
         }
        }
       }
      }
     },
     "metadata": {},
     "output_type": "display_data"
    }
   ],
   "source": [
    "visualize_failure_timeline(failure_sessions)"
   ]
  },
  {
   "cell_type": "code",
   "execution_count": 6,
   "id": "5fb6ee2e",
   "metadata": {},
   "outputs": [],
   "source": [
    "if performe_visualization:\n",
    "    # Visualize the raw data\n",
    "    visualize_hourly_mean_values(inverter_data, failure_sessions, feature_cols, 'visualization', 'raw_data')"
   ]
  },
  {
   "cell_type": "code",
   "execution_count": 7,
   "id": "e1f7568a",
   "metadata": {},
   "outputs": [],
   "source": [
    "failure_sessions = failure_sessions[failure_sessions['maintenance'] == False]"
   ]
  },
  {
   "cell_type": "markdown",
   "id": "03ae16f2",
   "metadata": {},
   "source": [
    "### Data Cleaning"
   ]
  },
  {
   "cell_type": "code",
   "execution_count": 8,
   "id": "82857f9d",
   "metadata": {},
   "outputs": [
    {
     "name": "stdout",
     "output_type": "stream",
     "text": [
      "failure_sessions shape: (32, 6)\n",
      "Excluded 2 periods, remaining data size: 27\n",
      "Excluded 2 periods, remaining data size: 27\n",
      "failure_sessions shape: (27, 7)\n"
     ]
    }
   ],
   "source": [
    "print(\"failure_sessions shape:\", failure_sessions.shape)\n",
    "failure_sessions['event_local_time'] = failure_sessions['start_time']\n",
    "filtered_sessions = exclude_periods_from_data(failure_sessions, exclude_periods)\n",
    "filtered_sessions['event_local_time'] = filtered_sessions['end_time']\n",
    "filtered_sessions = exclude_periods_from_data(filtered_sessions, exclude_periods)\n",
    "print(\"failure_sessions shape:\", filtered_sessions .shape)"
   ]
  },
  {
   "cell_type": "code",
   "execution_count": 9,
   "id": "7ecb503b",
   "metadata": {},
   "outputs": [
    {
     "data": {
      "application/vnd.plotly.v1+json": {
       "config": {
        "plotlyServerURL": "https://plot.ly"
       },
       "data": [
        {
         "alignmentgroup": "True",
         "base": [
          "2024-04-25T12:55:00",
          "2025-03-29T13:55:00",
          "2022-08-09T11:10:00",
          "2022-09-10T14:45:00",
          "2022-12-01T11:55:00",
          "2023-01-02T16:40:00",
          "2023-01-14T07:45:00",
          "2023-12-28T15:30:00",
          "2025-04-13T16:10:00",
          "2022-12-22T16:25:00",
          "2023-01-02T15:20:00",
          "2023-01-09T15:20:00",
          "2025-04-23T14:35:00",
          "2024-03-02T10:55:00",
          "2024-08-31T06:30:00",
          "2022-08-26T19:35:00",
          "2022-09-29T09:30:00",
          "2024-02-15T08:10:00",
          "2024-08-23T19:30:00",
          "2024-05-03T09:00:00",
          "2025-06-28T10:20:00",
          "2022-03-03T17:35:00",
          "2022-07-07T15:30:00",
          "2024-02-11T08:10:00",
          "2025-04-27T17:55:00",
          "2022-07-30T20:05:00",
          "2024-08-13T07:05:00"
         ],
         "customdata": [
          [
           1,
           "2024-04-25T12:55:00",
           "2024-04-30T08:00:00",
           115.08333333333333,
           false,
           "Unplanned failure"
          ],
          [
           4,
           "2025-03-29T13:55:00",
           "2025-04-04T12:30:00",
           142.58333333333334,
           false,
           "Unplanned failure"
          ],
          [
           8,
           "2022-08-09T11:10:00",
           "2022-08-12T11:40:00",
           72.5,
           false,
           "Unplanned failure"
          ],
          [
           9,
           "2022-09-10T14:45:00",
           "2022-09-14T07:45:00",
           89,
           false,
           "Unplanned failure"
          ],
          [
           10,
           "2022-12-01T11:55:00",
           "2022-12-06T10:40:00",
           118.75,
           false,
           "Unplanned failure"
          ],
          [
           11,
           "2023-01-02T16:40:00",
           "2023-01-13T11:20:00",
           258.6666666666667,
           false,
           "Unplanned failure"
          ],
          [
           12,
           "2023-01-14T07:45:00",
           "2023-01-26T12:55:00",
           293.1666666666667,
           false,
           "Unplanned failure"
          ],
          [
           14,
           "2023-12-28T15:30:00",
           "2024-01-02T09:05:00",
           113.58333333333333,
           false,
           "Unplanned failure"
          ],
          [
           15,
           "2025-04-13T16:10:00",
           "2025-04-17T10:10:00",
           90,
           false,
           "Unplanned failure"
          ],
          [
           18,
           "2022-12-22T16:25:00",
           "2022-12-26T10:30:00",
           90.08333333333333,
           false,
           "Unplanned failure"
          ],
          [
           20,
           "2023-01-02T15:20:00",
           "2023-01-07T09:40:00",
           114.33333333333333,
           false,
           "Unplanned failure"
          ],
          [
           21,
           "2023-01-09T15:20:00",
           "2023-01-13T11:50:00",
           92.5,
           false,
           "Unplanned failure"
          ],
          [
           22,
           "2025-04-23T14:35:00",
           "2025-05-01T09:05:00",
           186.5,
           false,
           "Unplanned failure"
          ],
          [
           26,
           "2024-03-02T10:55:00",
           "2024-03-06T10:30:00",
           95.58333333333333,
           false,
           "Unplanned failure"
          ],
          [
           28,
           "2024-08-31T06:30:00",
           "2024-09-06T11:10:00",
           148.66666666666666,
           false,
           "Unplanned failure"
          ],
          [
           30,
           "2022-08-26T19:35:00",
           "2022-08-30T09:05:00",
           85.5,
           false,
           "Unplanned failure"
          ],
          [
           31,
           "2022-09-29T09:30:00",
           "2022-11-15T12:25:00",
           1130.9166666666667,
           false,
           "Unplanned failure"
          ],
          [
           35,
           "2024-02-15T08:10:00",
           "2024-02-20T10:20:00",
           122.16666666666667,
           false,
           "Unplanned failure"
          ],
          [
           37,
           "2024-08-23T19:30:00",
           "2024-08-28T12:20:00",
           112.83333333333333,
           false,
           "Unplanned failure"
          ],
          [
           40,
           "2024-05-03T09:00:00",
           "2024-05-09T12:50:00",
           147.83333333333334,
           false,
           "Unplanned failure"
          ],
          [
           44,
           "2025-06-28T10:20:00",
           "2025-07-02T07:35:00",
           93.25,
           false,
           "Unplanned failure"
          ],
          [
           48,
           "2022-03-03T17:35:00",
           "2022-03-07T11:50:00",
           90.25,
           false,
           "Unplanned failure"
          ],
          [
           49,
           "2022-07-07T15:30:00",
           "2022-07-11T12:10:00",
           92.66666666666667,
           false,
           "Unplanned failure"
          ],
          [
           54,
           "2024-02-11T08:10:00",
           "2024-02-15T11:55:00",
           99.75,
           false,
           "Unplanned failure"
          ],
          [
           55,
           "2025-04-27T17:55:00",
           "2025-05-02T12:40:00",
           114.75,
           false,
           "Unplanned failure"
          ],
          [
           57,
           "2022-07-30T20:05:00",
           "2022-08-03T13:20:00",
           89.25,
           false,
           "Unplanned failure"
          ],
          [
           59,
           "2024-08-13T07:05:00",
           "2024-08-16T11:55:00",
           76.83333333333333,
           false,
           "Unplanned failure"
          ]
         ],
         "hovertemplate": "<b>%{y}</b><br>Start: %{customdata[1]|%Y-%m-%d %H:%M}<br>End: %{customdata[2]|%Y-%m-%d %H:%M}<br>Duration (hrs): %{customdata[3]:.2f}<br>",
         "legendgroup": "Unplanned failure",
         "marker": {
          "color": "#2563eb",
          "line": {
           "color": "rgba(30,30,60,0.55)",
           "width": 1.5
          },
          "pattern": {
           "shape": ""
          }
         },
         "name": "Unplanned failure",
         "offsetgroup": "Unplanned failure",
         "opacity": 0.98,
         "orientation": "h",
         "showlegend": true,
         "textposition": "auto",
         "type": "bar",
         "x": [
          414300000,
          513300000,
          261000000,
          320400000,
          427500000,
          931200000,
          1055400000,
          408900000,
          324000000,
          324300000,
          411600000,
          333000000,
          671400000,
          344100000,
          535200000,
          307800000,
          4071300000,
          439800000,
          406200000,
          532200000,
          335700000,
          324900000,
          333600000,
          359100000,
          413100000,
          321300000,
          276600000
         ],
         "xaxis": "x",
         "y": [
          "INV 51",
          "INV 52",
          "INV 54",
          "INV 54",
          "INV 54",
          "INV 54",
          "INV 54",
          "INV 54",
          "INV 54",
          "INV 55",
          "INV 55",
          "INV 55",
          "INV 55",
          "INV 56",
          "INV 57",
          "INV 58",
          "INV 58",
          "INV 59",
          "INV 60",
          "INV 61",
          "INV 62",
          "INV 64",
          "INV 64",
          "INV 65",
          "INV 65",
          "INV 66",
          "INV 66"
         ],
         "yaxis": "y"
        }
       ],
       "layout": {
        "bargap": 0.25,
        "barmode": "overlay",
        "height": 560,
        "legend": {
         "title": {
          "text": "Event Type"
         },
         "tracegroupgap": 0
        },
        "margin": {
         "b": 40,
         "l": 70,
         "r": 30,
         "t": 60
        },
        "template": {
         "data": {
          "bar": [
           {
            "error_x": {
             "color": "#2a3f5f"
            },
            "error_y": {
             "color": "#2a3f5f"
            },
            "marker": {
             "line": {
              "color": "white",
              "width": 0.5
             },
             "pattern": {
              "fillmode": "overlay",
              "size": 10,
              "solidity": 0.2
             }
            },
            "type": "bar"
           }
          ],
          "barpolar": [
           {
            "marker": {
             "line": {
              "color": "white",
              "width": 0.5
             },
             "pattern": {
              "fillmode": "overlay",
              "size": 10,
              "solidity": 0.2
             }
            },
            "type": "barpolar"
           }
          ],
          "carpet": [
           {
            "aaxis": {
             "endlinecolor": "#2a3f5f",
             "gridcolor": "#C8D4E3",
             "linecolor": "#C8D4E3",
             "minorgridcolor": "#C8D4E3",
             "startlinecolor": "#2a3f5f"
            },
            "baxis": {
             "endlinecolor": "#2a3f5f",
             "gridcolor": "#C8D4E3",
             "linecolor": "#C8D4E3",
             "minorgridcolor": "#C8D4E3",
             "startlinecolor": "#2a3f5f"
            },
            "type": "carpet"
           }
          ],
          "choropleth": [
           {
            "colorbar": {
             "outlinewidth": 0,
             "ticks": ""
            },
            "type": "choropleth"
           }
          ],
          "contour": [
           {
            "colorbar": {
             "outlinewidth": 0,
             "ticks": ""
            },
            "colorscale": [
             [
              0,
              "#0d0887"
             ],
             [
              0.1111111111111111,
              "#46039f"
             ],
             [
              0.2222222222222222,
              "#7201a8"
             ],
             [
              0.3333333333333333,
              "#9c179e"
             ],
             [
              0.4444444444444444,
              "#bd3786"
             ],
             [
              0.5555555555555556,
              "#d8576b"
             ],
             [
              0.6666666666666666,
              "#ed7953"
             ],
             [
              0.7777777777777778,
              "#fb9f3a"
             ],
             [
              0.8888888888888888,
              "#fdca26"
             ],
             [
              1,
              "#f0f921"
             ]
            ],
            "type": "contour"
           }
          ],
          "contourcarpet": [
           {
            "colorbar": {
             "outlinewidth": 0,
             "ticks": ""
            },
            "type": "contourcarpet"
           }
          ],
          "heatmap": [
           {
            "colorbar": {
             "outlinewidth": 0,
             "ticks": ""
            },
            "colorscale": [
             [
              0,
              "#0d0887"
             ],
             [
              0.1111111111111111,
              "#46039f"
             ],
             [
              0.2222222222222222,
              "#7201a8"
             ],
             [
              0.3333333333333333,
              "#9c179e"
             ],
             [
              0.4444444444444444,
              "#bd3786"
             ],
             [
              0.5555555555555556,
              "#d8576b"
             ],
             [
              0.6666666666666666,
              "#ed7953"
             ],
             [
              0.7777777777777778,
              "#fb9f3a"
             ],
             [
              0.8888888888888888,
              "#fdca26"
             ],
             [
              1,
              "#f0f921"
             ]
            ],
            "type": "heatmap"
           }
          ],
          "heatmapgl": [
           {
            "colorbar": {
             "outlinewidth": 0,
             "ticks": ""
            },
            "colorscale": [
             [
              0,
              "#0d0887"
             ],
             [
              0.1111111111111111,
              "#46039f"
             ],
             [
              0.2222222222222222,
              "#7201a8"
             ],
             [
              0.3333333333333333,
              "#9c179e"
             ],
             [
              0.4444444444444444,
              "#bd3786"
             ],
             [
              0.5555555555555556,
              "#d8576b"
             ],
             [
              0.6666666666666666,
              "#ed7953"
             ],
             [
              0.7777777777777778,
              "#fb9f3a"
             ],
             [
              0.8888888888888888,
              "#fdca26"
             ],
             [
              1,
              "#f0f921"
             ]
            ],
            "type": "heatmapgl"
           }
          ],
          "histogram": [
           {
            "marker": {
             "pattern": {
              "fillmode": "overlay",
              "size": 10,
              "solidity": 0.2
             }
            },
            "type": "histogram"
           }
          ],
          "histogram2d": [
           {
            "colorbar": {
             "outlinewidth": 0,
             "ticks": ""
            },
            "colorscale": [
             [
              0,
              "#0d0887"
             ],
             [
              0.1111111111111111,
              "#46039f"
             ],
             [
              0.2222222222222222,
              "#7201a8"
             ],
             [
              0.3333333333333333,
              "#9c179e"
             ],
             [
              0.4444444444444444,
              "#bd3786"
             ],
             [
              0.5555555555555556,
              "#d8576b"
             ],
             [
              0.6666666666666666,
              "#ed7953"
             ],
             [
              0.7777777777777778,
              "#fb9f3a"
             ],
             [
              0.8888888888888888,
              "#fdca26"
             ],
             [
              1,
              "#f0f921"
             ]
            ],
            "type": "histogram2d"
           }
          ],
          "histogram2dcontour": [
           {
            "colorbar": {
             "outlinewidth": 0,
             "ticks": ""
            },
            "colorscale": [
             [
              0,
              "#0d0887"
             ],
             [
              0.1111111111111111,
              "#46039f"
             ],
             [
              0.2222222222222222,
              "#7201a8"
             ],
             [
              0.3333333333333333,
              "#9c179e"
             ],
             [
              0.4444444444444444,
              "#bd3786"
             ],
             [
              0.5555555555555556,
              "#d8576b"
             ],
             [
              0.6666666666666666,
              "#ed7953"
             ],
             [
              0.7777777777777778,
              "#fb9f3a"
             ],
             [
              0.8888888888888888,
              "#fdca26"
             ],
             [
              1,
              "#f0f921"
             ]
            ],
            "type": "histogram2dcontour"
           }
          ],
          "mesh3d": [
           {
            "colorbar": {
             "outlinewidth": 0,
             "ticks": ""
            },
            "type": "mesh3d"
           }
          ],
          "parcoords": [
           {
            "line": {
             "colorbar": {
              "outlinewidth": 0,
              "ticks": ""
             }
            },
            "type": "parcoords"
           }
          ],
          "pie": [
           {
            "automargin": true,
            "type": "pie"
           }
          ],
          "scatter": [
           {
            "fillpattern": {
             "fillmode": "overlay",
             "size": 10,
             "solidity": 0.2
            },
            "type": "scatter"
           }
          ],
          "scatter3d": [
           {
            "line": {
             "colorbar": {
              "outlinewidth": 0,
              "ticks": ""
             }
            },
            "marker": {
             "colorbar": {
              "outlinewidth": 0,
              "ticks": ""
             }
            },
            "type": "scatter3d"
           }
          ],
          "scattercarpet": [
           {
            "marker": {
             "colorbar": {
              "outlinewidth": 0,
              "ticks": ""
             }
            },
            "type": "scattercarpet"
           }
          ],
          "scattergeo": [
           {
            "marker": {
             "colorbar": {
              "outlinewidth": 0,
              "ticks": ""
             }
            },
            "type": "scattergeo"
           }
          ],
          "scattergl": [
           {
            "marker": {
             "colorbar": {
              "outlinewidth": 0,
              "ticks": ""
             }
            },
            "type": "scattergl"
           }
          ],
          "scattermapbox": [
           {
            "marker": {
             "colorbar": {
              "outlinewidth": 0,
              "ticks": ""
             }
            },
            "type": "scattermapbox"
           }
          ],
          "scatterpolar": [
           {
            "marker": {
             "colorbar": {
              "outlinewidth": 0,
              "ticks": ""
             }
            },
            "type": "scatterpolar"
           }
          ],
          "scatterpolargl": [
           {
            "marker": {
             "colorbar": {
              "outlinewidth": 0,
              "ticks": ""
             }
            },
            "type": "scatterpolargl"
           }
          ],
          "scatterternary": [
           {
            "marker": {
             "colorbar": {
              "outlinewidth": 0,
              "ticks": ""
             }
            },
            "type": "scatterternary"
           }
          ],
          "surface": [
           {
            "colorbar": {
             "outlinewidth": 0,
             "ticks": ""
            },
            "colorscale": [
             [
              0,
              "#0d0887"
             ],
             [
              0.1111111111111111,
              "#46039f"
             ],
             [
              0.2222222222222222,
              "#7201a8"
             ],
             [
              0.3333333333333333,
              "#9c179e"
             ],
             [
              0.4444444444444444,
              "#bd3786"
             ],
             [
              0.5555555555555556,
              "#d8576b"
             ],
             [
              0.6666666666666666,
              "#ed7953"
             ],
             [
              0.7777777777777778,
              "#fb9f3a"
             ],
             [
              0.8888888888888888,
              "#fdca26"
             ],
             [
              1,
              "#f0f921"
             ]
            ],
            "type": "surface"
           }
          ],
          "table": [
           {
            "cells": {
             "fill": {
              "color": "#EBF0F8"
             },
             "line": {
              "color": "white"
             }
            },
            "header": {
             "fill": {
              "color": "#C8D4E3"
             },
             "line": {
              "color": "white"
             }
            },
            "type": "table"
           }
          ]
         },
         "layout": {
          "annotationdefaults": {
           "arrowcolor": "#2a3f5f",
           "arrowhead": 0,
           "arrowwidth": 1
          },
          "autotypenumbers": "strict",
          "coloraxis": {
           "colorbar": {
            "outlinewidth": 0,
            "ticks": ""
           }
          },
          "colorscale": {
           "diverging": [
            [
             0,
             "#8e0152"
            ],
            [
             0.1,
             "#c51b7d"
            ],
            [
             0.2,
             "#de77ae"
            ],
            [
             0.3,
             "#f1b6da"
            ],
            [
             0.4,
             "#fde0ef"
            ],
            [
             0.5,
             "#f7f7f7"
            ],
            [
             0.6,
             "#e6f5d0"
            ],
            [
             0.7,
             "#b8e186"
            ],
            [
             0.8,
             "#7fbc41"
            ],
            [
             0.9,
             "#4d9221"
            ],
            [
             1,
             "#276419"
            ]
           ],
           "sequential": [
            [
             0,
             "#0d0887"
            ],
            [
             0.1111111111111111,
             "#46039f"
            ],
            [
             0.2222222222222222,
             "#7201a8"
            ],
            [
             0.3333333333333333,
             "#9c179e"
            ],
            [
             0.4444444444444444,
             "#bd3786"
            ],
            [
             0.5555555555555556,
             "#d8576b"
            ],
            [
             0.6666666666666666,
             "#ed7953"
            ],
            [
             0.7777777777777778,
             "#fb9f3a"
            ],
            [
             0.8888888888888888,
             "#fdca26"
            ],
            [
             1,
             "#f0f921"
            ]
           ],
           "sequentialminus": [
            [
             0,
             "#0d0887"
            ],
            [
             0.1111111111111111,
             "#46039f"
            ],
            [
             0.2222222222222222,
             "#7201a8"
            ],
            [
             0.3333333333333333,
             "#9c179e"
            ],
            [
             0.4444444444444444,
             "#bd3786"
            ],
            [
             0.5555555555555556,
             "#d8576b"
            ],
            [
             0.6666666666666666,
             "#ed7953"
            ],
            [
             0.7777777777777778,
             "#fb9f3a"
            ],
            [
             0.8888888888888888,
             "#fdca26"
            ],
            [
             1,
             "#f0f921"
            ]
           ]
          },
          "colorway": [
           "#636efa",
           "#EF553B",
           "#00cc96",
           "#ab63fa",
           "#FFA15A",
           "#19d3f3",
           "#FF6692",
           "#B6E880",
           "#FF97FF",
           "#FECB52"
          ],
          "font": {
           "color": "#2a3f5f"
          },
          "geo": {
           "bgcolor": "white",
           "lakecolor": "white",
           "landcolor": "white",
           "showlakes": true,
           "showland": true,
           "subunitcolor": "#C8D4E3"
          },
          "hoverlabel": {
           "align": "left"
          },
          "hovermode": "closest",
          "mapbox": {
           "style": "light"
          },
          "paper_bgcolor": "white",
          "plot_bgcolor": "white",
          "polar": {
           "angularaxis": {
            "gridcolor": "#EBF0F8",
            "linecolor": "#EBF0F8",
            "ticks": ""
           },
           "bgcolor": "white",
           "radialaxis": {
            "gridcolor": "#EBF0F8",
            "linecolor": "#EBF0F8",
            "ticks": ""
           }
          },
          "scene": {
           "xaxis": {
            "backgroundcolor": "white",
            "gridcolor": "#DFE8F3",
            "gridwidth": 2,
            "linecolor": "#EBF0F8",
            "showbackground": true,
            "ticks": "",
            "zerolinecolor": "#EBF0F8"
           },
           "yaxis": {
            "backgroundcolor": "white",
            "gridcolor": "#DFE8F3",
            "gridwidth": 2,
            "linecolor": "#EBF0F8",
            "showbackground": true,
            "ticks": "",
            "zerolinecolor": "#EBF0F8"
           },
           "zaxis": {
            "backgroundcolor": "white",
            "gridcolor": "#DFE8F3",
            "gridwidth": 2,
            "linecolor": "#EBF0F8",
            "showbackground": true,
            "ticks": "",
            "zerolinecolor": "#EBF0F8"
           }
          },
          "shapedefaults": {
           "line": {
            "color": "#2a3f5f"
           }
          },
          "ternary": {
           "aaxis": {
            "gridcolor": "#DFE8F3",
            "linecolor": "#A2B1C6",
            "ticks": ""
           },
           "baxis": {
            "gridcolor": "#DFE8F3",
            "linecolor": "#A2B1C6",
            "ticks": ""
           },
           "bgcolor": "white",
           "caxis": {
            "gridcolor": "#DFE8F3",
            "linecolor": "#A2B1C6",
            "ticks": ""
           }
          },
          "title": {
           "x": 0.05
          },
          "xaxis": {
           "automargin": true,
           "gridcolor": "#EBF0F8",
           "linecolor": "#EBF0F8",
           "ticks": "",
           "title": {
            "standoff": 15
           },
           "zerolinecolor": "#EBF0F8",
           "zerolinewidth": 2
          },
          "yaxis": {
           "automargin": true,
           "gridcolor": "#EBF0F8",
           "linecolor": "#EBF0F8",
           "ticks": "",
           "title": {
            "standoff": 15
           },
           "zerolinecolor": "#EBF0F8",
           "zerolinewidth": 2
          }
         }
        },
        "title": {
         "text": "Failure Sessions Timeline"
        },
        "xaxis": {
         "anchor": "y",
         "domain": [
          0,
          1
         ],
         "rangeselector": {
          "buttons": [
           {
            "count": 7,
            "label": "1w",
            "step": "day",
            "stepmode": "backward"
           },
           {
            "count": 1,
            "label": "1m",
            "step": "month",
            "stepmode": "backward"
           },
           {
            "count": 3,
            "label": "3m",
            "step": "month",
            "stepmode": "backward"
           },
           {
            "count": 6,
            "label": "6m",
            "step": "month",
            "stepmode": "backward"
           },
           {
            "count": 1,
            "label": "1y",
            "step": "year",
            "stepmode": "backward"
           },
           {
            "step": "all"
           }
          ]
         },
         "rangeslider": {
          "visible": true
         },
         "showgrid": true,
         "type": "date"
        },
        "yaxis": {
         "anchor": "x",
         "autorange": "reversed",
         "categoryarray": [
          "INV 62",
          "INV 56",
          "INV 60",
          "INV 51",
          "INV 59",
          "INV 52",
          "INV 61",
          "INV 57",
          "INV 66",
          "INV 64",
          "INV 65",
          "INV 55",
          "INV 54",
          "INV 58"
         ],
         "categoryorder": "array",
         "domain": [
          0,
          1
         ],
         "title": {
          "text": "Device"
         }
        }
       }
      }
     },
     "metadata": {},
     "output_type": "display_data"
    }
   ],
   "source": [
    "visualize_failure_timeline(filtered_sessions)"
   ]
  },
  {
   "cell_type": "code",
   "execution_count": 10,
   "id": "abe8c038",
   "metadata": {},
   "outputs": [],
   "source": [
    "# remove unused columns\n",
    "filtered_data = inverter_data[['event_local_time', 'device_name'] + feature_cols].copy()"
   ]
  },
  {
   "cell_type": "code",
   "execution_count": 11,
   "id": "ca1b13e1",
   "metadata": {},
   "outputs": [],
   "source": [
    "if performe_visualization:\n",
    "    # Visualize the filtered data\n",
    "    visualize_hourly_mean_values(filtered_data, failure_sessions, feature_cols, 'visualization', 'filtered_data')"
   ]
  },
  {
   "cell_type": "markdown",
   "id": "7faa25f4",
   "metadata": {},
   "source": [
    "### Anomoly Detection"
   ]
  },
  {
   "cell_type": "code",
   "execution_count": 12,
   "id": "78ad68c7",
   "metadata": {},
   "outputs": [
    {
     "name": "stdout",
     "output_type": "stream",
     "text": [
      "Anomalies in STATUS_AC_MOD_ADMISSION_TEMP removed: 244163\n"
     ]
    }
   ],
   "source": [
    "if \"metric.STATUS_AC_MOD_ADMISSION_TEMP.MEASURED\" in filtered_data.columns:\n",
    "    anomaly_ids = filtered_data[\"metric.STATUS_AC_MOD_ADMISSION_TEMP.MEASURED\"]>=100\n",
    "    filtered_data.loc[anomaly_ids, \"metric.STATUS_AC_MOD_ADMISSION_TEMP.MEASURED\"] = None\n",
    "    print(\"Anomalies in STATUS_AC_MOD_ADMISSION_TEMP removed:\", anomaly_ids.sum())"
   ]
  },
  {
   "cell_type": "markdown",
   "id": "e502018d",
   "metadata": {},
   "source": [
    "### Missing Value Imputation"
   ]
  },
  {
   "cell_type": "code",
   "execution_count": 13,
   "id": "e6b1d156",
   "metadata": {},
   "outputs": [],
   "source": [
    "imputed_df = missing_value_imputation(\n",
    "    filtered_data, feature_cols, \n",
    "    time_col='event_local_time', \n",
    "    device_col='device_name', \n",
    "    short_gap_limit=0, \n",
    "    long_fill_value=0.0, \n",
    "    add_missing_mask=True\n",
    "    )\n",
    "extended_feature_cols = feature_cols+[col+'_missing' for col in feature_cols]"
   ]
  },
  {
   "cell_type": "markdown",
   "id": "9db2330b",
   "metadata": {},
   "source": [
    "### Downsampling"
   ]
  },
  {
   "cell_type": "code",
   "execution_count": 14,
   "id": "90f7584d",
   "metadata": {},
   "outputs": [
    {
     "name": "stdout",
     "output_type": "stream",
     "text": [
      "Downsampling 6126272 rows using following method: \n",
      "                                               Column Aggregation\n",
      "0                       metric.AC_VOLTAGE_AB.MEASURED        mean\n",
      "1                       metric.AC_VOLTAGE_BC.MEASURED        mean\n",
      "2                       metric.AC_VOLTAGE_CA.MEASURED        mean\n",
      "3                          metric.DC_VOLTAGE.MEASURED        mean\n",
      "4                            metric.AC_POWER.MEASURED        mean\n",
      "5               metric.AC_VOLTAGE_AB.MEASURED_missing        mean\n",
      "6               metric.AC_VOLTAGE_BC.MEASURED_missing        mean\n",
      "7               metric.AC_VOLTAGE_CA.MEASURED_missing        mean\n",
      "8                  metric.DC_VOLTAGE.MEASURED_missing        mean\n",
      "9                    metric.AC_POWER.MEASURED_missing        mean\n",
      "10       metric.STATUS_AC_MOD_ADMISSION_TEMP.MEASURED         max\n",
      "11               metric.STATUS_INTERNAL_TEMP.MEASURED         max\n",
      "12  metric.STATUS_AC_MOD_ADMISSION_TEMP.MEASURED_m...         max\n",
      "13       metric.STATUS_INTERNAL_TEMP.MEASURED_missing         max\n"
     ]
    }
   ],
   "source": [
    "downsampled_data = downsample_inverter_raw(imputed_df, drop_empty_bins=False)\n",
    "downsampled_data.dropna(inplace=True) # NaN will be generated by downsampling, so we drop them"
   ]
  },
  {
   "cell_type": "code",
   "execution_count": 15,
   "id": "b2bd6c11",
   "metadata": {},
   "outputs": [],
   "source": [
    "if performe_visualization:\n",
    "    # Visualize the downsampled data\n",
    "    visualize_hourly_mean_values(downsampled_data, failure_sessions, extended_feature_cols, 'visualization', 'downsampled_data')"
   ]
  },
  {
   "cell_type": "code",
   "execution_count": 16,
   "id": "995240da",
   "metadata": {},
   "outputs": [
    {
     "name": "stdout",
     "output_type": "stream",
     "text": [
      "inverter_data shape: (1021056, 16)\n",
      "Excluded 2 periods, remaining data size: 862112\n",
      "Excluded data shape: (862112, 16)\n"
     ]
    }
   ],
   "source": [
    "print(\"inverter_data shape:\", downsampled_data.shape)\n",
    "downsampled_data = exclude_periods_from_data(downsampled_data, exclude_periods)\n",
    "print(\"Excluded data shape:\", downsampled_data.shape)"
   ]
  },
  {
   "cell_type": "markdown",
   "id": "c7979e30",
   "metadata": {},
   "source": [
    "### Data Labeling"
   ]
  },
  {
   "cell_type": "code",
   "execution_count": 17,
   "id": "c262cba8",
   "metadata": {},
   "outputs": [
    {
     "name": "stdout",
     "output_type": "stream",
     "text": [
      "Total pre-failure rows: 6148\n",
      "Total rows: 853553\n"
     ]
    }
   ],
   "source": [
    "downsampled_data = prepare_dataset(downsampled_data, failure_sessions, pre_days=pre_day)"
   ]
  },
  {
   "cell_type": "markdown",
   "id": "84b48cdb",
   "metadata": {},
   "source": [
    "### Feature Engineering"
   ]
  },
  {
   "cell_type": "code",
   "execution_count": 18,
   "id": "9d80fecc",
   "metadata": {},
   "outputs": [],
   "source": [
    "downsampled_data['hour_of_day'] = downsampled_data['event_local_time'].dt.hour\n",
    "downsampled_data['month_of_year'] = downsampled_data['event_local_time'].dt.month\n",
    "extended_feature_cols += ['hour_of_day', 'month_of_year']\n"
   ]
  },
  {
   "cell_type": "code",
   "execution_count": 19,
   "id": "d27b4c0a",
   "metadata": {},
   "outputs": [],
   "source": [
    "if performe_visualization:\n",
    "    visualize_hourly_mean_values(downsampled_data, failure_sessions, extended_feature_cols+['label'], \n",
    "                                title='processed_data')"
   ]
  },
  {
   "cell_type": "markdown",
   "id": "b181af6b",
   "metadata": {},
   "source": [
    "### Split Dataset"
   ]
  },
  {
   "cell_type": "code",
   "execution_count": 29,
   "id": "77c351da",
   "metadata": {},
   "outputs": [],
   "source": [
    "split_time = [pd.Timestamp('2024-06-30'), pd.Timestamp('2025-01-01')]\n",
    "\n",
    "\n",
    "train_df = downsampled_data[downsampled_data['event_local_time'] <= split_time[0]].copy()\n",
    "val_df = downsampled_data[(downsampled_data['event_local_time'] > split_time[0]) & (downsampled_data['event_local_time'] <= split_time[1])].copy()\n",
    "test_df = downsampled_data[downsampled_data['event_local_time'] > split_time[1]].copy()"
   ]
  },
  {
   "cell_type": "code",
   "execution_count": 30,
   "id": "9e26fda1",
   "metadata": {},
   "outputs": [],
   "source": [
    "#train_df, test_df = train_test_split_on_time(imputed_df, 0.3)\n",
    "#val_df, test_df = train_test_split_on_time(test_df, 0.3)"
   ]
  },
  {
   "cell_type": "code",
   "execution_count": 31,
   "id": "9bdb5f36",
   "metadata": {},
   "outputs": [
    {
     "data": {
      "text/plain": [
       "['metric.STATUS_AC_MOD_ADMISSION_TEMP.MEASURED',\n",
       " 'metric.STATUS_INTERNAL_TEMP.MEASURED',\n",
       " 'metric.AC_VOLTAGE_AB.MEASURED',\n",
       " 'metric.AC_VOLTAGE_BC.MEASURED',\n",
       " 'metric.AC_VOLTAGE_CA.MEASURED',\n",
       " 'metric.DC_VOLTAGE.MEASURED',\n",
       " 'metric.AC_POWER.MEASURED',\n",
       " 'metric.STATUS_AC_MOD_ADMISSION_TEMP.MEASURED_missing',\n",
       " 'metric.STATUS_INTERNAL_TEMP.MEASURED_missing',\n",
       " 'metric.AC_VOLTAGE_AB.MEASURED_missing',\n",
       " 'metric.AC_VOLTAGE_BC.MEASURED_missing',\n",
       " 'metric.AC_VOLTAGE_CA.MEASURED_missing',\n",
       " 'metric.DC_VOLTAGE.MEASURED_missing',\n",
       " 'metric.AC_POWER.MEASURED_missing',\n",
       " 'hour_of_day',\n",
       " 'month_of_year']"
      ]
     },
     "execution_count": 31,
     "metadata": {},
     "output_type": "execute_result"
    }
   ],
   "source": [
    "extended_feature_cols"
   ]
  },
  {
   "cell_type": "markdown",
   "id": "777fd02b",
   "metadata": {},
   "source": [
    "### Standardization"
   ]
  },
  {
   "cell_type": "code",
   "execution_count": 32,
   "id": "cbde8f9f",
   "metadata": {},
   "outputs": [],
   "source": [
    "from sklearn.preprocessing import StandardScaler\n",
    "feature_to_standardize = feature_cols + ['hour_of_day', 'month_of_year']\n",
    "scaler = StandardScaler()\n",
    "train_df[feature_to_standardize] = scaler.fit_transform(train_df[feature_to_standardize])\n",
    "val_df[feature_to_standardize] = scaler.transform(val_df[feature_to_standardize])\n",
    "test_df[feature_to_standardize] = scaler.transform(test_df[feature_to_standardize])"
   ]
  },
  {
   "cell_type": "code",
   "execution_count": 33,
   "id": "c2ce625e",
   "metadata": {},
   "outputs": [],
   "source": [
    "if performe_visualization:\n",
    "    visualize_hourly_mean_values(train_df, failure_sessions, extended_feature_cols+['label'], \n",
    "                                 'visualization', 'train_data')\n",
    "    visualize_hourly_mean_values(val_df, failure_sessions, extended_feature_cols+['label'], \n",
    "                                 'visualization', 'val_data')\n",
    "    visualize_hourly_mean_values(test_df, failure_sessions, extended_feature_cols+['label'],\n",
    "                                    'visualization', 'test_data')"
   ]
  },
  {
   "cell_type": "markdown",
   "id": "3c9b4875",
   "metadata": {},
   "source": [
    "### Create Dataset/Data Loader"
   ]
  },
  {
   "cell_type": "code",
   "execution_count": 34,
   "id": "3993eca3",
   "metadata": {},
   "outputs": [],
   "source": [
    "stride = 1\n",
    "window_size = 2*24*7 # 30 minutes * 24 * 7 = 1 week"
   ]
  },
  {
   "cell_type": "code",
   "execution_count": 35,
   "id": "7a6d042b",
   "metadata": {},
   "outputs": [
    {
     "data": {
      "text/html": [
       "<div>\n",
       "<style scoped>\n",
       "    .dataframe tbody tr th:only-of-type {\n",
       "        vertical-align: middle;\n",
       "    }\n",
       "\n",
       "    .dataframe tbody tr th {\n",
       "        vertical-align: top;\n",
       "    }\n",
       "\n",
       "    .dataframe thead th {\n",
       "        text-align: right;\n",
       "    }\n",
       "</style>\n",
       "<table border=\"1\" class=\"dataframe\">\n",
       "  <thead>\n",
       "    <tr style=\"text-align: right;\">\n",
       "      <th></th>\n",
       "      <th>event_local_time</th>\n",
       "      <th>device_name</th>\n",
       "      <th>metric.AC_VOLTAGE_AB.MEASURED</th>\n",
       "      <th>metric.AC_VOLTAGE_BC.MEASURED</th>\n",
       "      <th>metric.AC_VOLTAGE_CA.MEASURED</th>\n",
       "      <th>metric.DC_VOLTAGE.MEASURED</th>\n",
       "      <th>metric.AC_POWER.MEASURED</th>\n",
       "      <th>metric.AC_VOLTAGE_AB.MEASURED_missing</th>\n",
       "      <th>metric.AC_VOLTAGE_BC.MEASURED_missing</th>\n",
       "      <th>metric.AC_VOLTAGE_CA.MEASURED_missing</th>\n",
       "      <th>metric.DC_VOLTAGE.MEASURED_missing</th>\n",
       "      <th>metric.AC_POWER.MEASURED_missing</th>\n",
       "      <th>metric.STATUS_AC_MOD_ADMISSION_TEMP.MEASURED</th>\n",
       "      <th>metric.STATUS_INTERNAL_TEMP.MEASURED</th>\n",
       "      <th>metric.STATUS_AC_MOD_ADMISSION_TEMP.MEASURED_missing</th>\n",
       "      <th>metric.STATUS_INTERNAL_TEMP.MEASURED_missing</th>\n",
       "      <th>label</th>\n",
       "      <th>hour_of_day</th>\n",
       "      <th>month_of_year</th>\n",
       "    </tr>\n",
       "  </thead>\n",
       "  <tbody>\n",
       "  </tbody>\n",
       "</table>\n",
       "</div>"
      ],
      "text/plain": [
       "Empty DataFrame\n",
       "Columns: [event_local_time, device_name, metric.AC_VOLTAGE_AB.MEASURED, metric.AC_VOLTAGE_BC.MEASURED, metric.AC_VOLTAGE_CA.MEASURED, metric.DC_VOLTAGE.MEASURED, metric.AC_POWER.MEASURED, metric.AC_VOLTAGE_AB.MEASURED_missing, metric.AC_VOLTAGE_BC.MEASURED_missing, metric.AC_VOLTAGE_CA.MEASURED_missing, metric.DC_VOLTAGE.MEASURED_missing, metric.AC_POWER.MEASURED_missing, metric.STATUS_AC_MOD_ADMISSION_TEMP.MEASURED, metric.STATUS_INTERNAL_TEMP.MEASURED, metric.STATUS_AC_MOD_ADMISSION_TEMP.MEASURED_missing, metric.STATUS_INTERNAL_TEMP.MEASURED_missing, label, hour_of_day, month_of_year]\n",
       "Index: []"
      ]
     },
     "execution_count": 35,
     "metadata": {},
     "output_type": "execute_result"
    }
   ],
   "source": [
    "train_df[train_df.isna().any(axis=1)]"
   ]
  },
  {
   "cell_type": "code",
   "execution_count": 36,
   "id": "1c441ade",
   "metadata": {},
   "outputs": [
    {
     "name": "stderr",
     "output_type": "stream",
     "text": [
      "Processing devices: 100%|██████████| 16/16 [00:02<00:00,  6.19it/s]\n",
      "Processing devices: 100%|██████████| 16/16 [00:00<00:00, 17.65it/s]\n"
     ]
    }
   ],
   "source": [
    "positive_train_ds = PositiveInverterTimeSeriesDataset.from_dataframe(train_df, extended_feature_cols, window_size=window_size, stride=1)\n",
    "negative_train_ds = NegativeInverterTimeSeriesDataset.from_dataframe(train_df, extended_feature_cols, window_size=window_size, stride=6)"
   ]
  },
  {
   "cell_type": "code",
   "execution_count": 37,
   "id": "89be8408",
   "metadata": {},
   "outputs": [
    {
     "name": "stderr",
     "output_type": "stream",
     "text": [
      "Processing devices: 100%|██████████| 16/16 [00:00<00:00, 18.08it/s]\n",
      "Processing devices: 100%|██████████| 16/16 [00:00<00:00, 21.62it/s]\n"
     ]
    }
   ],
   "source": [
    "from torch.utils.data import DataLoader\n",
    "\n",
    "\n",
    "train_ds = combine_dataset([positive_train_ds, negative_train_ds])\n",
    "del positive_train_ds, negative_train_ds\n",
    "\n",
    "val_ds   = InverterTimeSeriesDataset.from_dataframe(val_df,   extended_feature_cols, window_size=window_size, stride=stride)\n",
    "test_ds  = InverterTimeSeriesDataset.from_dataframe(test_df,  extended_feature_cols, window_size=window_size, stride=stride)"
   ]
  },
  {
   "cell_type": "code",
   "execution_count": 38,
   "id": "6e127b2e",
   "metadata": {},
   "outputs": [
    {
     "data": {
      "text/plain": [
       "torch.Size([90644, 336, 16])"
      ]
     },
     "execution_count": 38,
     "metadata": {},
     "output_type": "execute_result"
    }
   ],
   "source": [
    "train_ds.X.shape"
   ]
  },
  {
   "cell_type": "code",
   "execution_count": 39,
   "id": "dc679b9d",
   "metadata": {},
   "outputs": [
    {
     "data": {
      "text/plain": [
       "(0.0    86794\n",
       " 1.0     3850\n",
       " dtype: int64,\n",
       " 0.0    134318\n",
       " 1.0       720\n",
       " dtype: int64,\n",
       " 0.0    141773\n",
       " 1.0      1200\n",
       " dtype: int64)"
      ]
     },
     "execution_count": 39,
     "metadata": {},
     "output_type": "execute_result"
    }
   ],
   "source": [
    "pd.value_counts(train_ds.y.numpy()), pd.value_counts(val_ds.y.numpy()), pd.value_counts(test_ds.y.numpy())"
   ]
  },
  {
   "cell_type": "code",
   "execution_count": 40,
   "id": "61de5600",
   "metadata": {},
   "outputs": [
    {
     "name": "stdout",
     "output_type": "stream",
     "text": [
      "0.0    0.000012\n",
      "1.0    0.000260\n",
      "dtype: float64 13596\n"
     ]
    }
   ],
   "source": [
    "from torch.utils.data import DataLoader, WeightedRandomSampler, RandomSampler\n",
    "import torch\n",
    "\n",
    "num_samples = int(len(train_ds)*0.15 ) # 10% of the training dataset size\n",
    "\n",
    "# 假設 y 是樣本的 label 張量\n",
    "class_sample_count = pd.value_counts(train_ds.y.numpy())\n",
    "weights = 1. / class_sample_count\n",
    "sample_weights = weights[train_ds.y.numpy()].to_numpy() # 每個樣本對應的抽樣權重\n",
    "\n",
    "balanced_sampler = WeightedRandomSampler(\n",
    "    weights=sample_weights,\n",
    "    num_samples=num_samples,\n",
    "    replacement=True\n",
    ")\n",
    "print(weights, num_samples)"
   ]
  },
  {
   "cell_type": "code",
   "execution_count": 41,
   "id": "af450cd3",
   "metadata": {},
   "outputs": [],
   "source": [
    "random_sampler = RandomSampler(val_ds, num_samples=int(len(val_ds)*0.3), replacement=True)"
   ]
  },
  {
   "cell_type": "code",
   "execution_count": 42,
   "id": "b204cf86",
   "metadata": {},
   "outputs": [],
   "source": [
    "batch_size = 2**9\n",
    "\n",
    "train_loader = DataLoader(train_ds, batch_size=batch_size, sampler=balanced_sampler,  num_workers=6, pin_memory=True)\n",
    "val_loader   = DataLoader(val_ds,   batch_size=batch_size, sampler=random_sampler, num_workers=6, pin_memory=True)\n",
    "test_loader  = DataLoader(test_ds,  batch_size=batch_size, shuffle=False, num_workers=6, pin_memory=True)"
   ]
  },
  {
   "cell_type": "markdown",
   "id": "6bc7c875",
   "metadata": {},
   "source": [
    "## Train Model"
   ]
  },
  {
   "cell_type": "code",
   "execution_count": 43,
   "id": "ac4316e3",
   "metadata": {},
   "outputs": [],
   "source": [
    "model = CNNLSTMModel(num_features=len(extended_feature_cols), cnn_out_channels=48, lstm_hidden_size=96)\n",
    "optimizer = torch.optim.Adam(model.parameters(), lr=1e-3)\n",
    "\n",
    "# 建議先用較溫和的 pos_weight（例：5），再用驗證集掃描最佳值\n",
    "pos_weight_value = 2.0\n",
    "criterion = torch.nn.BCEWithLogitsLoss(pos_weight=torch.tensor([pos_weight_value], dtype=torch.float)).to('cuda')\n"
   ]
  },
  {
   "cell_type": "code",
   "execution_count": 44,
   "id": "20d6f41e",
   "metadata": {},
   "outputs": [],
   "source": [
    "#model.load_state_dict(torch.load(r'model\\0812_0003\\epoch_15.pth', weights_only=True))"
   ]
  },
  {
   "cell_type": "code",
   "execution_count": 45,
   "id": "1f7b89ee",
   "metadata": {},
   "outputs": [
    {
     "name": "stdout",
     "output_type": "stream",
     "text": [
      "Model moved to cuda\n",
      "[Epoch 1/100] Step 0/27 - Loss: 1.0016\n",
      "[Epoch 1/100] Step 25/27 - Loss: 0.9225\n",
      "🔁 Epoch 1 finished. Avg Train Loss: 0.9735\n",
      "✅ Validation Loss: 1.2107 | Accuracy: 0.50% | AUC-PR: 0.0045\n",
      "Best model saved at epoch 1 with loss 1.2107\n",
      "[Epoch 2/100] Step 0/27 - Loss: 0.9246\n",
      "[Epoch 2/100] Step 25/27 - Loss: 0.8494\n",
      "🔁 Epoch 2 finished. Avg Train Loss: 0.9062\n",
      "✅ Validation Loss: 1.2666 | Accuracy: 23.22% | AUC-PR: 0.0069\n",
      "[Epoch 3/100] Step 0/27 - Loss: 0.8433\n",
      "[Epoch 3/100] Step 25/27 - Loss: 0.8496\n",
      "🔁 Epoch 3 finished. Avg Train Loss: 0.8067\n",
      "✅ Validation Loss: 0.9225 | Accuracy: 40.77% | AUC-PR: 0.0095\n",
      "Best model saved at epoch 3 with loss 0.9225\n",
      "[Epoch 4/100] Step 0/27 - Loss: 0.8324\n",
      "[Epoch 4/100] Step 25/27 - Loss: 0.7758\n",
      "🔁 Epoch 4 finished. Avg Train Loss: 0.7801\n",
      "✅ Validation Loss: 1.1970 | Accuracy: 33.45% | AUC-PR: 0.0058\n",
      "[Epoch 5/100] Step 0/27 - Loss: 0.7674\n",
      "[Epoch 5/100] Step 25/27 - Loss: 0.6523\n",
      "🔁 Epoch 5 finished. Avg Train Loss: 0.7582\n",
      "✅ Validation Loss: 1.0494 | Accuracy: 43.12% | AUC-PR: 0.0103\n",
      "[Epoch 6/100] Step 0/27 - Loss: 0.7204\n",
      "[Epoch 6/100] Step 25/27 - Loss: 0.7081\n",
      "🔁 Epoch 6 finished. Avg Train Loss: 0.6797\n",
      "✅ Validation Loss: 0.9073 | Accuracy: 52.67% | AUC-PR: 0.0137\n",
      "Best model saved at epoch 6 with loss 0.9073\n",
      "[Epoch 7/100] Step 0/27 - Loss: 0.6147\n",
      "[Epoch 7/100] Step 25/27 - Loss: 0.8756\n",
      "🔁 Epoch 7 finished. Avg Train Loss: 0.8108\n",
      "✅ Validation Loss: 0.9022 | Accuracy: 15.51% | AUC-PR: 0.0148\n",
      "Best model saved at epoch 7 with loss 0.9022\n",
      "[Epoch 8/100] Step 0/27 - Loss: 0.8786\n",
      "[Epoch 8/100] Step 25/27 - Loss: 0.8208\n",
      "🔁 Epoch 8 finished. Avg Train Loss: 0.8230\n",
      "✅ Validation Loss: 1.1101 | Accuracy: 15.93% | AUC-PR: 0.0263\n",
      "[Epoch 9/100] Step 0/27 - Loss: 0.8082\n",
      "[Epoch 9/100] Step 25/27 - Loss: 0.7302\n",
      "🔁 Epoch 9 finished. Avg Train Loss: 0.7336\n",
      "✅ Validation Loss: 1.0186 | Accuracy: 28.48% | AUC-PR: 0.0190\n",
      "[Epoch 10/100] Step 0/27 - Loss: 0.7305\n",
      "[Epoch 10/100] Step 25/27 - Loss: 0.6501\n",
      "🔁 Epoch 10 finished. Avg Train Loss: 0.6703\n",
      "✅ Validation Loss: 1.0322 | Accuracy: 36.42% | AUC-PR: 0.0176\n",
      "[Epoch 11/100] Step 0/27 - Loss: 0.7252\n",
      "[Epoch 11/100] Step 25/27 - Loss: 0.6641\n",
      "🔁 Epoch 11 finished. Avg Train Loss: 0.6647\n",
      "✅ Validation Loss: 0.8711 | Accuracy: 49.14% | AUC-PR: 0.0164\n",
      "Best model saved at epoch 11 with loss 0.8711\n",
      "[Epoch 12/100] Step 0/27 - Loss: 0.5771\n",
      "[Epoch 12/100] Step 25/27 - Loss: 0.6730\n",
      "🔁 Epoch 12 finished. Avg Train Loss: 0.6455\n",
      "✅ Validation Loss: 0.9495 | Accuracy: 43.12% | AUC-PR: 0.0224\n",
      "[Epoch 13/100] Step 0/27 - Loss: 0.6636\n",
      "[Epoch 13/100] Step 25/27 - Loss: 0.7608\n",
      "🔁 Epoch 13 finished. Avg Train Loss: 0.7569\n",
      "✅ Validation Loss: 0.9928 | Accuracy: 34.38% | AUC-PR: 0.0072\n",
      "[Epoch 14/100] Step 0/27 - Loss: 0.7949\n",
      "[Epoch 14/100] Step 25/27 - Loss: 0.7199\n",
      "🔁 Epoch 14 finished. Avg Train Loss: 0.7862\n",
      "✅ Validation Loss: 1.1820 | Accuracy: 22.92% | AUC-PR: 0.0167\n",
      "[Epoch 15/100] Step 0/27 - Loss: 0.7843\n",
      "[Epoch 15/100] Step 25/27 - Loss: 0.6470\n",
      "🔁 Epoch 15 finished. Avg Train Loss: 0.7224\n",
      "✅ Validation Loss: 1.1352 | Accuracy: 36.55% | AUC-PR: 0.0314\n",
      "[Epoch 16/100] Step 0/27 - Loss: 0.6758\n",
      "[Epoch 16/100] Step 25/27 - Loss: 0.6918\n",
      "🔁 Epoch 16 finished. Avg Train Loss: 0.6545\n",
      "✅ Validation Loss: 1.0091 | Accuracy: 42.18% | AUC-PR: 0.0346\n",
      "[Epoch 17/100] Step 0/27 - Loss: 0.6331\n",
      "[Epoch 17/100] Step 25/27 - Loss: 0.6542\n",
      "🔁 Epoch 17 finished. Avg Train Loss: 0.6629\n",
      "✅ Validation Loss: 1.2587 | Accuracy: 31.45% | AUC-PR: 0.0222\n",
      "[Epoch 18/100] Step 0/27 - Loss: 0.6296\n",
      "[Epoch 18/100] Step 25/27 - Loss: 0.7607\n",
      "🔁 Epoch 18 finished. Avg Train Loss: 0.6458\n",
      "✅ Validation Loss: 1.0713 | Accuracy: 39.20% | AUC-PR: 0.0193\n",
      "[Epoch 19/100] Step 0/27 - Loss: 0.7056\n",
      "[Epoch 19/100] Step 25/27 - Loss: 0.5647\n",
      "🔁 Epoch 19 finished. Avg Train Loss: 0.5964\n",
      "✅ Validation Loss: 0.9568 | Accuracy: 50.90% | AUC-PR: 0.0351\n",
      "[Epoch 20/100] Step 0/27 - Loss: 0.5630\n",
      "[Epoch 20/100] Step 25/27 - Loss: 0.6370\n",
      "🔁 Epoch 20 finished. Avg Train Loss: 0.5823\n",
      "✅ Validation Loss: 1.2304 | Accuracy: 35.23% | AUC-PR: 0.0294\n",
      "[Epoch 21/100] Step 0/27 - Loss: 0.6087\n",
      "[Epoch 21/100] Step 25/27 - Loss: 0.5667\n",
      "🔁 Epoch 21 finished. Avg Train Loss: 0.5677\n",
      "✅ Validation Loss: 1.2161 | Accuracy: 35.57% | AUC-PR: 0.0225\n",
      "[Epoch 22/100] Step 0/27 - Loss: 0.5765\n",
      "[Epoch 22/100] Step 25/27 - Loss: 0.6203\n",
      "🔁 Epoch 22 finished. Avg Train Loss: 0.5727\n",
      "✅ Validation Loss: 0.9261 | Accuracy: 50.37% | AUC-PR: 0.0183\n",
      "[Epoch 23/100] Step 0/27 - Loss: 0.5687\n",
      "[Epoch 23/100] Step 25/27 - Loss: 0.5657\n",
      "🔁 Epoch 23 finished. Avg Train Loss: 0.5797\n",
      "✅ Validation Loss: 1.2393 | Accuracy: 37.80% | AUC-PR: 0.0200\n",
      "[Epoch 24/100] Step 0/27 - Loss: 0.5362\n",
      "[Epoch 24/100] Step 25/27 - Loss: 0.6384\n",
      "🔁 Epoch 24 finished. Avg Train Loss: 0.5998\n",
      "✅ Validation Loss: 1.4697 | Accuracy: 34.63% | AUC-PR: 0.0188\n",
      "[Epoch 25/100] Step 0/27 - Loss: 0.6577\n",
      "[Epoch 25/100] Step 25/27 - Loss: 0.5167\n",
      "🔁 Epoch 25 finished. Avg Train Loss: 0.6061\n",
      "✅ Validation Loss: 1.1551 | Accuracy: 41.90% | AUC-PR: 0.0115\n",
      "[Epoch 26/100] Step 0/27 - Loss: 0.6492\n",
      "[Epoch 26/100] Step 25/27 - Loss: 0.5615\n",
      "🔁 Epoch 26 finished. Avg Train Loss: 0.5614\n",
      "✅ Validation Loss: 1.0823 | Accuracy: 48.90% | AUC-PR: 0.0185\n",
      "[Epoch 27/100] Step 0/27 - Loss: 0.5355\n",
      "[Epoch 27/100] Step 25/27 - Loss: 0.5687\n",
      "🔁 Epoch 27 finished. Avg Train Loss: 0.5243\n",
      "✅ Validation Loss: 1.3532 | Accuracy: 41.66% | AUC-PR: 0.0120\n",
      "[Epoch 28/100] Step 0/27 - Loss: 0.9457\n",
      "[Epoch 28/100] Step 25/27 - Loss: 0.7396\n",
      "🔁 Epoch 28 finished. Avg Train Loss: 0.7835\n",
      "✅ Validation Loss: 1.0450 | Accuracy: 40.97% | AUC-PR: 0.0068\n",
      "[Epoch 29/100] Step 0/27 - Loss: 0.6721\n",
      "[Epoch 29/100] Step 25/27 - Loss: 0.6158\n",
      "🔁 Epoch 29 finished. Avg Train Loss: 0.6944\n",
      "✅ Validation Loss: 0.8984 | Accuracy: 51.72% | AUC-PR: 0.0100\n",
      "[Epoch 30/100] Step 0/27 - Loss: 0.6461\n",
      "[Epoch 30/100] Step 25/27 - Loss: 0.5743\n",
      "🔁 Epoch 30 finished. Avg Train Loss: 0.6030\n",
      "✅ Validation Loss: 0.6936 | Accuracy: 66.57% | AUC-PR: 0.0186\n",
      "Best model saved at epoch 30 with loss 0.6936\n",
      "[Epoch 31/100] Step 0/27 - Loss: 0.5125\n",
      "[Epoch 31/100] Step 25/27 - Loss: 0.6807\n",
      "🔁 Epoch 31 finished. Avg Train Loss: 0.6250\n",
      "✅ Validation Loss: 0.9716 | Accuracy: 53.29% | AUC-PR: 0.0143\n",
      "[Epoch 32/100] Step 0/27 - Loss: 0.5521\n",
      "[Epoch 32/100] Step 25/27 - Loss: 0.5390\n",
      "🔁 Epoch 32 finished. Avg Train Loss: 0.5656\n",
      "✅ Validation Loss: 0.8782 | Accuracy: 59.27% | AUC-PR: 0.0261\n",
      "[Epoch 33/100] Step 0/27 - Loss: 0.5306\n",
      "[Epoch 33/100] Step 25/27 - Loss: 0.4371\n",
      "🔁 Epoch 33 finished. Avg Train Loss: 0.4885\n",
      "✅ Validation Loss: 0.8218 | Accuracy: 63.49% | AUC-PR: 0.0237\n",
      "[Epoch 34/100] Step 0/27 - Loss: 0.4387\n",
      "[Epoch 34/100] Step 25/27 - Loss: 0.3688\n",
      "🔁 Epoch 34 finished. Avg Train Loss: 0.4281\n",
      "✅ Validation Loss: 0.7935 | Accuracy: 66.57% | AUC-PR: 0.0229\n",
      "[Epoch 35/100] Step 0/27 - Loss: 0.4167\n",
      "[Epoch 35/100] Step 25/27 - Loss: 0.4428\n",
      "🔁 Epoch 35 finished. Avg Train Loss: 0.4657\n",
      "✅ Validation Loss: 0.9231 | Accuracy: 50.37% | AUC-PR: 0.0231\n",
      "[Epoch 36/100] Step 0/27 - Loss: 0.4282\n",
      "[Epoch 36/100] Step 25/27 - Loss: 0.4365\n",
      "🔁 Epoch 36 finished. Avg Train Loss: 0.4568\n",
      "✅ Validation Loss: 0.7535 | Accuracy: 59.56% | AUC-PR: 0.0303\n",
      "[Epoch 37/100] Step 0/27 - Loss: 0.4379\n",
      "[Epoch 37/100] Step 25/27 - Loss: 0.3773\n",
      "🔁 Epoch 37 finished. Avg Train Loss: 0.4020\n",
      "✅ Validation Loss: 0.7457 | Accuracy: 66.56% | AUC-PR: 0.0271\n",
      "[Epoch 38/100] Step 0/27 - Loss: 0.3803\n",
      "[Epoch 38/100] Step 25/27 - Loss: 0.2837\n",
      "🔁 Epoch 38 finished. Avg Train Loss: 0.3671\n",
      "✅ Validation Loss: 0.6530 | Accuracy: 69.27% | AUC-PR: 0.0274\n",
      "Best model saved at epoch 38 with loss 0.6530\n",
      "[Epoch 39/100] Step 0/27 - Loss: 0.3567\n",
      "[Epoch 39/100] Step 25/27 - Loss: 0.4338\n",
      "🔁 Epoch 39 finished. Avg Train Loss: 0.3926\n",
      "✅ Validation Loss: 1.0474 | Accuracy: 56.26% | AUC-PR: 0.0182\n",
      "[Epoch 40/100] Step 0/27 - Loss: 0.4140\n",
      "[Epoch 40/100] Step 25/27 - Loss: 0.4289\n",
      "🔁 Epoch 40 finished. Avg Train Loss: 0.3773\n",
      "✅ Validation Loss: 0.7863 | Accuracy: 64.37% | AUC-PR: 0.0179\n",
      "[Epoch 41/100] Step 0/27 - Loss: 0.4114\n",
      "[Epoch 41/100] Step 25/27 - Loss: 0.3922\n",
      "🔁 Epoch 41 finished. Avg Train Loss: 0.4025\n",
      "✅ Validation Loss: 0.7166 | Accuracy: 65.54% | AUC-PR: 0.0232\n",
      "[Epoch 42/100] Step 0/27 - Loss: 0.3555\n",
      "[Epoch 42/100] Step 25/27 - Loss: 0.3648\n",
      "🔁 Epoch 42 finished. Avg Train Loss: 0.3267\n",
      "✅ Validation Loss: 0.5891 | Accuracy: 73.83% | AUC-PR: 0.0177\n",
      "Best model saved at epoch 42 with loss 0.5891\n",
      "[Epoch 43/100] Step 0/27 - Loss: 0.2778\n",
      "[Epoch 43/100] Step 25/27 - Loss: 0.4290\n",
      "🔁 Epoch 43 finished. Avg Train Loss: 0.3507\n",
      "✅ Validation Loss: 0.8061 | Accuracy: 65.97% | AUC-PR: 0.0262\n",
      "[Epoch 44/100] Step 0/27 - Loss: 0.3565\n",
      "[Epoch 44/100] Step 25/27 - Loss: 0.2556\n",
      "🔁 Epoch 44 finished. Avg Train Loss: 0.3279\n",
      "✅ Validation Loss: 0.6094 | Accuracy: 71.97% | AUC-PR: 0.0268\n",
      "[Epoch 45/100] Step 0/27 - Loss: 0.2643\n",
      "[Epoch 45/100] Step 25/27 - Loss: 0.2287\n",
      "🔁 Epoch 45 finished. Avg Train Loss: 0.2583\n",
      "✅ Validation Loss: 0.6099 | Accuracy: 73.00% | AUC-PR: 0.0235\n",
      "[Epoch 46/100] Step 0/27 - Loss: 0.2481\n",
      "[Epoch 46/100] Step 25/27 - Loss: 0.4694\n",
      "🔁 Epoch 46 finished. Avg Train Loss: 0.2829\n",
      "✅ Validation Loss: 0.6520 | Accuracy: 73.15% | AUC-PR: 0.0274\n",
      "[Epoch 47/100] Step 0/27 - Loss: 0.3920\n",
      "[Epoch 47/100] Step 25/27 - Loss: 0.4203\n",
      "🔁 Epoch 47 finished. Avg Train Loss: 0.4015\n",
      "✅ Validation Loss: 0.7956 | Accuracy: 69.15% | AUC-PR: 0.0235\n",
      "[Epoch 48/100] Step 0/27 - Loss: 0.4745\n",
      "[Epoch 48/100] Step 25/27 - Loss: 0.6833\n",
      "🔁 Epoch 48 finished. Avg Train Loss: 0.6649\n",
      "✅ Validation Loss: 0.9964 | Accuracy: 52.87% | AUC-PR: 0.0084\n",
      "[Epoch 49/100] Step 0/27 - Loss: 0.6099\n",
      "[Epoch 49/100] Step 25/27 - Loss: 0.5517\n",
      "🔁 Epoch 49 finished. Avg Train Loss: 0.5757\n",
      "✅ Validation Loss: 0.7497 | Accuracy: 66.86% | AUC-PR: 0.0125\n",
      "[Epoch 50/100] Step 0/27 - Loss: 0.4981\n",
      "[Epoch 50/100] Step 25/27 - Loss: 0.4688\n",
      "🔁 Epoch 50 finished. Avg Train Loss: 0.5101\n",
      "✅ Validation Loss: 0.7248 | Accuracy: 72.05% | AUC-PR: 0.0121\n",
      "[Epoch 51/100] Step 0/27 - Loss: 0.4888\n",
      "[Epoch 51/100] Step 25/27 - Loss: 0.4814\n",
      "🔁 Epoch 51 finished. Avg Train Loss: 0.4640\n",
      "✅ Validation Loss: 0.7091 | Accuracy: 75.70% | AUC-PR: 0.0101\n",
      "[Epoch 52/100] Step 0/27 - Loss: 0.3811\n",
      "[Epoch 52/100] Step 25/27 - Loss: 0.3937\n",
      "🔁 Epoch 52 finished. Avg Train Loss: 0.4335\n",
      "✅ Validation Loss: 0.7231 | Accuracy: 76.37% | AUC-PR: 0.0092\n",
      "[Epoch 53/100] Step 0/27 - Loss: 0.4154\n",
      "[Epoch 53/100] Step 25/27 - Loss: 0.3966\n",
      "🔁 Epoch 53 finished. Avg Train Loss: 0.4554\n",
      "✅ Validation Loss: 0.7362 | Accuracy: 76.27% | AUC-PR: 0.0112\n",
      "[Epoch 54/100] Step 0/27 - Loss: 0.4062\n",
      "[Epoch 54/100] Step 25/27 - Loss: 0.3522\n",
      "🔁 Epoch 54 finished. Avg Train Loss: 0.4212\n",
      "✅ Validation Loss: 0.6250 | Accuracy: 79.37% | AUC-PR: 0.0098\n",
      "[Epoch 55/100] Step 0/27 - Loss: 0.3983\n",
      "[Epoch 55/100] Step 25/27 - Loss: 0.3902\n",
      "🔁 Epoch 55 finished. Avg Train Loss: 0.4128\n",
      "✅ Validation Loss: 0.5387 | Accuracy: 83.14% | AUC-PR: 0.0103\n",
      "Best model saved at epoch 55 with loss 0.5387\n",
      "[Epoch 56/100] Step 0/27 - Loss: 0.4761\n",
      "[Epoch 56/100] Step 25/27 - Loss: 0.3480\n",
      "🔁 Epoch 56 finished. Avg Train Loss: 0.4065\n",
      "✅ Validation Loss: 0.4731 | Accuracy: 84.75% | AUC-PR: 0.0116\n",
      "Best model saved at epoch 56 with loss 0.4731\n",
      "[Epoch 57/100] Step 0/27 - Loss: 0.3506\n",
      "[Epoch 57/100] Step 25/27 - Loss: 0.3956\n",
      "🔁 Epoch 57 finished. Avg Train Loss: 0.3940\n",
      "✅ Validation Loss: 0.5055 | Accuracy: 84.19% | AUC-PR: 0.0153\n",
      "[Epoch 58/100] Step 0/27 - Loss: 0.3890\n",
      "[Epoch 58/100] Step 25/27 - Loss: 0.4522\n",
      "🔁 Epoch 58 finished. Avg Train Loss: 0.4016\n",
      "✅ Validation Loss: 0.4495 | Accuracy: 85.46% | AUC-PR: 0.0111\n",
      "Best model saved at epoch 58 with loss 0.4495\n",
      "[Epoch 59/100] Step 0/27 - Loss: 0.3947\n",
      "[Epoch 59/100] Step 25/27 - Loss: 0.3937\n",
      "🔁 Epoch 59 finished. Avg Train Loss: 0.3868\n",
      "✅ Validation Loss: 0.4598 | Accuracy: 86.35% | AUC-PR: 0.0117\n",
      "[Epoch 60/100] Step 0/27 - Loss: 0.4750\n",
      "[Epoch 60/100] Step 25/27 - Loss: 0.3942\n",
      "🔁 Epoch 60 finished. Avg Train Loss: 0.4128\n",
      "✅ Validation Loss: 0.4192 | Accuracy: 86.22% | AUC-PR: 0.0125\n",
      "Best model saved at epoch 60 with loss 0.4192\n",
      "[Epoch 61/100] Step 0/27 - Loss: 0.4039\n",
      "[Epoch 61/100] Step 25/27 - Loss: 0.3937\n",
      "🔁 Epoch 61 finished. Avg Train Loss: 0.3693\n",
      "✅ Validation Loss: 0.4497 | Accuracy: 85.91% | AUC-PR: 0.0108\n",
      "[Epoch 62/100] Step 0/27 - Loss: 0.3685\n",
      "[Epoch 62/100] Step 25/27 - Loss: 0.3705\n",
      "🔁 Epoch 62 finished. Avg Train Loss: 0.3409\n",
      "✅ Validation Loss: 0.4933 | Accuracy: 84.31% | AUC-PR: 0.0148\n",
      "[Epoch 63/100] Step 0/27 - Loss: 0.3290\n",
      "[Epoch 63/100] Step 25/27 - Loss: 0.3294\n",
      "🔁 Epoch 63 finished. Avg Train Loss: 0.3292\n",
      "✅ Validation Loss: 0.4035 | Accuracy: 88.07% | AUC-PR: 0.0127\n",
      "Best model saved at epoch 63 with loss 0.4035\n",
      "[Epoch 64/100] Step 0/27 - Loss: 0.3213\n",
      "[Epoch 64/100] Step 25/27 - Loss: 0.3124\n",
      "🔁 Epoch 64 finished. Avg Train Loss: 0.3096\n",
      "✅ Validation Loss: 0.3487 | Accuracy: 90.03% | AUC-PR: 0.0131\n",
      "Best model saved at epoch 64 with loss 0.3487\n",
      "[Epoch 65/100] Step 0/27 - Loss: 0.3088\n",
      "[Epoch 65/100] Step 25/27 - Loss: 0.2011\n",
      "🔁 Epoch 65 finished. Avg Train Loss: 0.2811\n",
      "✅ Validation Loss: 0.3797 | Accuracy: 89.50% | AUC-PR: 0.0115\n",
      "[Epoch 66/100] Step 0/27 - Loss: 0.3018\n",
      "[Epoch 66/100] Step 25/27 - Loss: 0.3202\n",
      "🔁 Epoch 66 finished. Avg Train Loss: 0.3041\n",
      "✅ Validation Loss: 0.4974 | Accuracy: 86.32% | AUC-PR: 0.0098\n",
      "[Epoch 67/100] Step 0/27 - Loss: 0.3322\n",
      "[Epoch 67/100] Step 25/27 - Loss: 0.3996\n",
      "🔁 Epoch 67 finished. Avg Train Loss: 0.3197\n",
      "✅ Validation Loss: 0.5269 | Accuracy: 85.11% | AUC-PR: 0.0089\n",
      "[Epoch 68/100] Step 0/27 - Loss: 0.2649\n",
      "[Epoch 68/100] Step 25/27 - Loss: 0.3034\n",
      "🔁 Epoch 68 finished. Avg Train Loss: 0.2902\n",
      "✅ Validation Loss: 0.8771 | Accuracy: 77.61% | AUC-PR: 0.0083\n",
      "[Epoch 69/100] Step 0/27 - Loss: 0.2526\n",
      "[Epoch 69/100] Step 25/27 - Loss: 0.2404\n",
      "🔁 Epoch 69 finished. Avg Train Loss: 0.2753\n",
      "✅ Validation Loss: 0.6969 | Accuracy: 81.05% | AUC-PR: 0.0087\n",
      "[Epoch 70/100] Step 0/27 - Loss: 0.2442\n",
      "[Epoch 70/100] Step 25/27 - Loss: 0.2940\n",
      "🔁 Epoch 70 finished. Avg Train Loss: 0.2630\n",
      "✅ Validation Loss: 0.5398 | Accuracy: 84.48% | AUC-PR: 0.0103\n",
      "[Epoch 71/100] Step 0/27 - Loss: 0.2706\n",
      "[Epoch 71/100] Step 25/27 - Loss: 0.2159\n",
      "🔁 Epoch 71 finished. Avg Train Loss: 0.2369\n",
      "✅ Validation Loss: 0.4219 | Accuracy: 88.76% | AUC-PR: 0.0103\n",
      "[Epoch 72/100] Step 0/27 - Loss: 0.2362\n",
      "[Epoch 72/100] Step 25/27 - Loss: 0.4645\n",
      "🔁 Epoch 72 finished. Avg Train Loss: 0.3452\n",
      "✅ Validation Loss: 0.9247 | Accuracy: 69.93% | AUC-PR: 0.0085\n",
      "[Epoch 73/100] Step 0/27 - Loss: 0.4462\n",
      "[Epoch 73/100] Step 25/27 - Loss: 0.3967\n",
      "🔁 Epoch 73 finished. Avg Train Loss: 0.4531\n",
      "✅ Validation Loss: 0.5643 | Accuracy: 78.12% | AUC-PR: 0.0074\n",
      "[Epoch 74/100] Step 0/27 - Loss: 0.3852\n",
      "[Epoch 74/100] Step 25/27 - Loss: 0.4141\n",
      "🔁 Epoch 74 finished. Avg Train Loss: 0.4009\n",
      "✅ Validation Loss: 0.5310 | Accuracy: 82.34% | AUC-PR: 0.0071\n",
      "[Epoch 75/100] Step 0/27 - Loss: 0.3319\n",
      "[Epoch 75/100] Step 25/27 - Loss: 0.2933\n",
      "🔁 Epoch 75 finished. Avg Train Loss: 0.3426\n",
      "✅ Validation Loss: 0.4969 | Accuracy: 83.81% | AUC-PR: 0.0090\n",
      "[Epoch 76/100] Step 0/27 - Loss: 0.3707\n",
      "[Epoch 76/100] Step 25/27 - Loss: 0.3117\n",
      "🔁 Epoch 76 finished. Avg Train Loss: 0.3301\n",
      "✅ Validation Loss: 0.5906 | Accuracy: 80.94% | AUC-PR: 0.0078\n",
      "[Epoch 77/100] Step 0/27 - Loss: 0.3132\n",
      "[Epoch 77/100] Step 25/27 - Loss: 0.2767\n",
      "🔁 Epoch 77 finished. Avg Train Loss: 0.3030\n",
      "✅ Validation Loss: 0.6218 | Accuracy: 80.97% | AUC-PR: 0.0075\n",
      "[Epoch 78/100] Step 0/27 - Loss: 0.3454\n",
      "[Epoch 78/100] Step 25/27 - Loss: 0.2974\n",
      "🔁 Epoch 78 finished. Avg Train Loss: 0.2810\n",
      "✅ Validation Loss: 0.5212 | Accuracy: 84.02% | AUC-PR: 0.0068\n",
      "[Epoch 79/100] Step 0/27 - Loss: 0.2408\n",
      "[Epoch 79/100] Step 25/27 - Loss: 0.2160\n",
      "🔁 Epoch 79 finished. Avg Train Loss: 0.2683\n",
      "✅ Validation Loss: 0.5876 | Accuracy: 82.61% | AUC-PR: 0.0068\n",
      "[Epoch 80/100] Step 0/27 - Loss: 0.3527\n",
      "[Epoch 80/100] Step 25/27 - Loss: 0.2661\n",
      "🔁 Epoch 80 finished. Avg Train Loss: 0.2607\n",
      "✅ Validation Loss: 0.5244 | Accuracy: 84.89% | AUC-PR: 0.0072\n",
      "[Epoch 81/100] Step 0/27 - Loss: 0.2375\n",
      "[Epoch 81/100] Step 25/27 - Loss: 0.3869\n",
      "🔁 Epoch 81 finished. Avg Train Loss: 0.2660\n",
      "✅ Validation Loss: 0.7429 | Accuracy: 78.79% | AUC-PR: 0.0081\n",
      "[Epoch 82/100] Step 0/27 - Loss: 0.4308\n",
      "[Epoch 82/100] Step 25/27 - Loss: 0.3561\n",
      "🔁 Epoch 82 finished. Avg Train Loss: 0.4129\n",
      "✅ Validation Loss: 0.4534 | Accuracy: 82.28% | AUC-PR: 0.0089\n",
      "[Epoch 83/100] Step 0/27 - Loss: 0.3862\n",
      "[Epoch 83/100] Step 25/27 - Loss: 0.2428\n",
      "🔁 Epoch 83 finished. Avg Train Loss: 0.3069\n",
      "✅ Validation Loss: 0.4420 | Accuracy: 85.40% | AUC-PR: 0.0086\n",
      "[Epoch 84/100] Step 0/27 - Loss: 0.2619\n",
      "[Epoch 84/100] Step 25/27 - Loss: 0.2688\n",
      "🔁 Epoch 84 finished. Avg Train Loss: 0.2754\n",
      "✅ Validation Loss: 0.4451 | Accuracy: 85.42% | AUC-PR: 0.0117\n",
      "[Epoch 85/100] Step 0/27 - Loss: 0.2494\n",
      "[Epoch 85/100] Step 25/27 - Loss: 0.2064\n",
      "🔁 Epoch 85 finished. Avg Train Loss: 0.2427\n",
      "✅ Validation Loss: 0.4570 | Accuracy: 86.35% | AUC-PR: 0.0090\n",
      "[Epoch 86/100] Step 0/27 - Loss: 0.2357\n",
      "[Epoch 86/100] Step 25/27 - Loss: 0.2942\n",
      "🔁 Epoch 86 finished. Avg Train Loss: 0.2494\n",
      "✅ Validation Loss: 0.3306 | Accuracy: 90.01% | AUC-PR: 0.0113\n",
      "Best model saved at epoch 86 with loss 0.3306\n",
      "[Epoch 87/100] Step 0/27 - Loss: 0.2405\n",
      "[Epoch 87/100] Step 25/27 - Loss: 0.2016\n",
      "🔁 Epoch 87 finished. Avg Train Loss: 0.2422\n",
      "✅ Validation Loss: 0.5375 | Accuracy: 84.70% | AUC-PR: 0.0077\n",
      "[Epoch 88/100] Step 0/27 - Loss: 0.2488\n",
      "[Epoch 88/100] Step 25/27 - Loss: 0.2266\n",
      "🔁 Epoch 88 finished. Avg Train Loss: 0.2268\n",
      "✅ Validation Loss: 0.4375 | Accuracy: 87.41% | AUC-PR: 0.0096\n",
      "[Epoch 89/100] Step 0/27 - Loss: 0.1888\n",
      "[Epoch 89/100] Step 25/27 - Loss: 0.2246\n",
      "🔁 Epoch 89 finished. Avg Train Loss: 0.2081\n",
      "✅ Validation Loss: 0.4219 | Accuracy: 88.34% | AUC-PR: 0.0101\n",
      "[Epoch 90/100] Step 0/27 - Loss: 0.1809\n",
      "[Epoch 90/100] Step 25/27 - Loss: 0.2985\n",
      "🔁 Epoch 90 finished. Avg Train Loss: 0.2690\n",
      "✅ Validation Loss: 1.0901 | Accuracy: 69.05% | AUC-PR: 0.0125\n",
      "[Epoch 91/100] Step 0/27 - Loss: 0.3325\n",
      "[Epoch 91/100] Step 25/27 - Loss: 0.2351\n",
      "🔁 Epoch 91 finished. Avg Train Loss: 0.2876\n",
      "✅ Validation Loss: 0.5380 | Accuracy: 81.74% | AUC-PR: 0.0078\n",
      "[Epoch 92/100] Step 0/27 - Loss: 0.2005\n",
      "[Epoch 92/100] Step 25/27 - Loss: 0.2461\n",
      "🔁 Epoch 92 finished. Avg Train Loss: 0.2221\n",
      "✅ Validation Loss: 0.6460 | Accuracy: 79.87% | AUC-PR: 0.0077\n",
      "[Epoch 93/100] Step 0/27 - Loss: 0.1566\n",
      "[Epoch 93/100] Step 25/27 - Loss: 0.8945\n",
      "🔁 Epoch 93 finished. Avg Train Loss: 0.4047\n",
      "✅ Validation Loss: 0.4205 | Accuracy: 85.82% | AUC-PR: 0.0072\n",
      "[Epoch 94/100] Step 0/27 - Loss: 0.7111\n",
      "[Epoch 94/100] Step 25/27 - Loss: 0.4435\n",
      "🔁 Epoch 94 finished. Avg Train Loss: 0.4613\n",
      "✅ Validation Loss: 0.5087 | Accuracy: 81.74% | AUC-PR: 0.0070\n",
      "[Epoch 95/100] Step 0/27 - Loss: 0.3724\n",
      "[Epoch 95/100] Step 25/27 - Loss: 0.2832\n",
      "🔁 Epoch 95 finished. Avg Train Loss: 0.3345\n",
      "✅ Validation Loss: 0.4084 | Accuracy: 85.69% | AUC-PR: 0.0057\n",
      "[Epoch 96/100] Step 0/27 - Loss: 0.3281\n",
      "[Epoch 96/100] Step 25/27 - Loss: 0.2812\n",
      "🔁 Epoch 96 finished. Avg Train Loss: 0.2819\n",
      "✅ Validation Loss: 0.4111 | Accuracy: 87.08% | AUC-PR: 0.0073\n",
      "[Epoch 97/100] Step 0/27 - Loss: 0.2793\n",
      "[Epoch 97/100] Step 25/27 - Loss: 0.2797\n",
      "🔁 Epoch 97 finished. Avg Train Loss: 0.2742\n",
      "✅ Validation Loss: 0.4361 | Accuracy: 86.74% | AUC-PR: 0.0061\n",
      "[Epoch 98/100] Step 0/27 - Loss: 0.2604\n",
      "[Epoch 98/100] Step 25/27 - Loss: 0.2555\n",
      "🔁 Epoch 98 finished. Avg Train Loss: 0.2793\n",
      "✅ Validation Loss: 0.5049 | Accuracy: 85.15% | AUC-PR: 0.0069\n",
      "[Epoch 99/100] Step 0/27 - Loss: 0.2538\n",
      "[Epoch 99/100] Step 25/27 - Loss: 0.2311\n",
      "🔁 Epoch 99 finished. Avg Train Loss: 0.2696\n",
      "✅ Validation Loss: 0.3898 | Accuracy: 88.47% | AUC-PR: 0.0071\n",
      "[Epoch 100/100] Step 0/27 - Loss: 0.2366\n",
      "[Epoch 100/100] Step 25/27 - Loss: 0.3163\n",
      "🔁 Epoch 100 finished. Avg Train Loss: 0.2589\n",
      "✅ Validation Loss: 0.4337 | Accuracy: 87.28% | AUC-PR: 0.0066\n",
      "🏁 Training completed.\n"
     ]
    }
   ],
   "source": [
    "log = train_loop(\n",
    "    model, train_loader, val_loader, \n",
    "    log_interval=25, \n",
    "    num_epochs=100, \n",
    "    optimizer=optimizer, \n",
    "    criterion=criterion,\n",
    "    save_interval=5,\n",
    ")"
   ]
  },
  {
   "cell_type": "code",
   "execution_count": 48,
   "id": "8f7a75cd",
   "metadata": {},
   "outputs": [
    {
     "data": {
      "text/plain": [
       "<matplotlib.legend.Legend at 0x1e73bafe140>"
      ]
     },
     "execution_count": 48,
     "metadata": {},
     "output_type": "execute_result"
    },
    {
     "data": {
      "image/png": "[encoded data removed]",
      "text/plain": [
       "<Figure size 640x480 with 1 Axes>"
      ]
     },
     "metadata": {},
     "output_type": "display_data"
    }
   ],
   "source": [
    "import matplotlib.pyplot as plt\n",
    "#log = pd.read_csv('model/0811_2042/training_log.csv')\n",
    "plt.plot(log['train_loss'], label='train_loss')\n",
    "plt.plot(log['val_loss'], label='val_loss')\n",
    "plt.plot(log['aucpr'], label='aucpr')\n",
    "plt.xlabel('Epoch')\n",
    "plt.ylabel('Loss')\n",
    "plt.legend()"
   ]
  },
  {
   "cell_type": "markdown",
   "id": "9612ae49",
   "metadata": {},
   "source": [
    "### Model Evaluation"
   ]
  },
  {
   "cell_type": "code",
   "execution_count": 57,
   "id": "7c540efd",
   "metadata": {},
   "outputs": [
    {
     "data": {
      "text/plain": [
       "<All keys matched successfully>"
      ]
     },
     "execution_count": 57,
     "metadata": {},
     "output_type": "execute_result"
    }
   ],
   "source": [
    "model.load_state_dict(torch.load(r'model\\0813_0526\\epoch_100.pth', weights_only=True))"
   ]
  },
  {
   "cell_type": "code",
   "execution_count": 58,
   "id": "a92d6e62",
   "metadata": {},
   "outputs": [
    {
     "name": "stdout",
     "output_type": "stream",
     "text": [
      "Performance on Training Set:\n"
     ]
    },
    {
     "name": "stderr",
     "output_type": "stream",
     "text": [
      "Testing: 100%|██████████| 27/27 [00:07<00:00,  3.75it/s]\n"
     ]
    },
    {
     "name": "stdout",
     "output_type": "stream",
     "text": [
      "🔍 Test Loss: 0.2715 | Accuracy: 91.48%\n",
      "              precision    recall  f1-score   support\n",
      "\n",
      "      Normal       1.00      0.83      0.91      6769\n",
      "     Failure       0.86      1.00      0.92      6827\n",
      "\n",
      "    accuracy                           0.91     13596\n",
      "   macro avg       0.93      0.91      0.91     13596\n",
      "weighted avg       0.93      0.91      0.91     13596\n",
      "\n",
      "[[5638 1131]\n",
      " [  28 6799]]\n",
      "ROC AUC: 0.9663\n"
     ]
    },
    {
     "data": {
      "image/png": "[encoded data removed]",
      "text/plain": [
       "<Figure size 800x600 with 1 Axes>"
      ]
     },
     "metadata": {},
     "output_type": "display_data"
    }
   ],
   "source": [
    "print(\"Performance on Training Set:\")\n",
    "evaluate_model(model, train_loader, best_threshold=0.5, criterion=criterion)"
   ]
  },
  {
   "cell_type": "code",
   "execution_count": 59,
   "id": "a076f6d7",
   "metadata": {},
   "outputs": [],
   "source": [
    "val_loader_for_eval = DataLoader(val_ds, batch_size=batch_size, shuffle=False, num_workers=6, pin_memory=True)"
   ]
  },
  {
   "cell_type": "code",
   "execution_count": 60,
   "id": "8d873ead",
   "metadata": {},
   "outputs": [
    {
     "name": "stderr",
     "output_type": "stream",
     "text": [
      "Testing: 100%|██████████| 264/264 [00:12<00:00, 21.64it/s]"
     ]
    },
    {
     "name": "stdout",
     "output_type": "stream",
     "text": [
      "🔍 Test Loss: 0.4346 | Accuracy: 87.40%\n"
     ]
    },
    {
     "name": "stderr",
     "output_type": "stream",
     "text": [
      "\n"
     ]
    }
   ],
   "source": [
    "trues, predictions, outputs = test_loop(model, val_loader_for_eval, device='cuda', criterion=criterion)"
   ]
  },
  {
   "cell_type": "code",
   "execution_count": 61,
   "id": "9319fab6",
   "metadata": {},
   "outputs": [
    {
     "name": "stdout",
     "output_type": "stream",
     "text": [
      "Best threshold: 0.001983653\n",
      "Precision: 0.008685542333470114\n",
      "Recall: 0.7055555555555556\n",
      "F1: 0.017159843024170916\n"
     ]
    }
   ],
   "source": [
    "from sklearn.metrics import precision_recall_curve, f1_score\n",
    "\n",
    "# y_val: 驗證集真實標籤 (0/1)\n",
    "# y_val_scores: 模型輸出的機率（sigmoid 後）或 logits\n",
    "precisions, recalls, thresholds = precision_recall_curve(trues, outputs)\n",
    "\n",
    "# 計算 F1\n",
    "f1_scores = 2 * precisions * recalls / (precisions + recalls + 1e-8)\n",
    "best_idx = f1_scores.argmax()\n",
    "best_threshold = thresholds[best_idx]\n",
    "\n",
    "print(\"Best threshold:\", best_threshold)\n",
    "print(\"Precision:\", precisions[best_idx])\n",
    "print(\"Recall:\", recalls[best_idx])\n",
    "print(\"F1:\", f1_scores[best_idx])\n"
   ]
  },
  {
   "cell_type": "code",
   "execution_count": 62,
   "id": "779d5ce7",
   "metadata": {},
   "outputs": [
    {
     "name": "stdout",
     "output_type": "stream",
     "text": [
      "Performance on Validation Set:\n",
      "              precision    recall  f1-score   support\n",
      "\n",
      "      Normal       1.00      0.57      0.72    134318\n",
      "     Failure       0.01      0.71      0.02       720\n",
      "\n",
      "    accuracy                           0.57    135038\n",
      "   macro avg       0.50      0.64      0.37    135038\n",
      "weighted avg       0.99      0.57      0.72    135038\n",
      "\n",
      "[[76338 57980]\n",
      " [  212   508]]\n",
      "ROC AUC: 0.6425\n"
     ]
    },
    {
     "data": {
      "image/png": "[encoded data removed]",
      "text/plain": [
       "<Figure size 800x600 with 1 Axes>"
      ]
     },
     "metadata": {},
     "output_type": "display_data"
    }
   ],
   "source": [
    "predictions = (outputs >= best_threshold).astype(int)\n",
    "print(\"Performance on Validation Set:\")\n",
    "generate_report(trues, predictions, outputs)"
   ]
  },
  {
   "cell_type": "code",
   "execution_count": 63,
   "id": "25e186ec",
   "metadata": {},
   "outputs": [
    {
     "name": "stdout",
     "output_type": "stream",
     "text": [
      "Performance on Test Set:\n"
     ]
    },
    {
     "name": "stderr",
     "output_type": "stream",
     "text": [
      "Testing: 100%|██████████| 280/280 [00:12<00:00, 22.79it/s]\n"
     ]
    },
    {
     "name": "stdout",
     "output_type": "stream",
     "text": [
      "🔍 Test Loss: 0.4780 | Accuracy: 81.16%\n",
      "              precision    recall  f1-score   support\n",
      "\n",
      "      Normal       0.99      0.81      0.90    141773\n",
      "     Failure       0.02      0.49      0.04      1200\n",
      "\n",
      "    accuracy                           0.81    142973\n",
      "   macro avg       0.51      0.65      0.47    142973\n",
      "weighted avg       0.99      0.81      0.89    142973\n",
      "\n",
      "[[115450  26323]\n",
      " [   613    587]]\n",
      "ROC AUC: 0.6457\n"
     ]
    },
    {
     "data": {
      "image/png": "[encoded data removed]",
      "text/plain": [
       "<Figure size 800x600 with 1 Axes>"
      ]
     },
     "metadata": {},
     "output_type": "display_data"
    }
   ],
   "source": [
    "print(\"Performance on Test Set:\")\n",
    "evaluate_model(model, test_loader, best_threshold=0.5, device='cuda', criterion=criterion)"
   ]
  }
 ],
 "metadata": {
  "kernelspec": {
   "display_name": "Python 3",
   "language": "python",
   "name": "python3"
  },
  "language_info": {
   "codemirror_mode": {
    "name": "ipython",
    "version": 3
   },
   "file_extension": ".py",
   "mimetype": "text/x-python",
   "name": "python",
   "nbconvert_exporter": "python",
   "pygments_lexer": "ipython3",
   "version": "3.10.11"
  }
 },
 "nbformat": 4,
 "nbformat_minor": 5
}

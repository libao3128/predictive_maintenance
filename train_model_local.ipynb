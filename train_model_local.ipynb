{
 "cells": [
  {
   "cell_type": "code",
   "execution_count": 1,
   "id": "5633ed8e",
   "metadata": {},
   "outputs": [],
   "source": [
    "import pandas as pd\n",
    "from src.train import *\n",
    "from src.model import CNNLSTMModel\n",
    "from src.dataset import *\n",
    "from src.preprocess import *\n",
    "from src.visualize import *\n",
    "import torch"
   ]
  },
  {
   "cell_type": "markdown",
   "id": "fcf3d759",
   "metadata": {},
   "source": [
    "## Hyper-Parameter"
   ]
  },
  {
   "cell_type": "code",
   "execution_count": 2,
   "id": "5f407469",
   "metadata": {},
   "outputs": [],
   "source": [
    "performe_visualization = True"
   ]
  },
  {
   "cell_type": "code",
   "execution_count": 3,
   "id": "37ac0a88",
   "metadata": {},
   "outputs": [],
   "source": [
    "# some important parameters\n",
    "pre_day = 5\n",
    "window_size = 12*24*7 # 5 minutes * 12 * 24 = 1 day\n",
    "stride = 12 # 1 hour stride\n",
    "\n",
    "feature_cols = [\n",
    "    \"metric.STATUS_AC_MOD_ADMISSION_TEMP.MEASURED\",  # ambient temperature\n",
    "    \"metric.STATUS_INTERNAL_TEMP.MEASURED\",          # internal temperature\n",
    "    \"metric.AC_VOLTAGE_AB.MEASURED\",                 # AC voltage\n",
    "    \"metric.AC_VOLTAGE_BC.MEASURED\",                 # AC voltage\n",
    "    \"metric.AC_VOLTAGE_CA.MEASURED\",                 # AC voltage\n",
    "    \"metric.DC_VOLTAGE.MEASURED\",                  # DC voltage\n",
    "    \"metric.AC_POWER.MEASURED\",                     # AC power\n",
    "]\n",
    "\n",
    "exclude_periods = [\n",
    "    [pd.Timestamp('2021-01-01'), pd.Timestamp('2021-12-23')], # data collection issue\n",
    "    [pd.Timestamp('2023-02-23'), pd.Timestamp('2023-08-26')], # anomalies in the data\n",
    "]"
   ]
  },
  {
   "cell_type": "markdown",
   "id": "dc771650",
   "metadata": {},
   "source": [
    "## Data Preprocessing\n",
    "### Load Data"
   ]
  },
  {
   "cell_type": "code",
   "execution_count": 4,
   "id": "9dfd396c",
   "metadata": {},
   "outputs": [
    {
     "name": "stdout",
     "output_type": "stream",
     "text": [
      "Loaded 15 parquet files → 6126272 rows\n",
      "Kept 61 sessions longer than 3 days\n"
     ]
    }
   ],
   "source": [
    "inverter_data = load_parquet_data('data/inverter_data')\n",
    "failure_sessions = load_failure_sessions('data/failure_sessions_w_maintenance.csv', min_days=3)"
   ]
  },
  {
   "cell_type": "code",
   "execution_count": 5,
   "id": "fdae2515",
   "metadata": {},
   "outputs": [
    {
     "data": {
      "application/vnd.plotly.v1+json": {
       "config": {
        "plotlyServerURL": "https://plot.ly"
       },
       "data": [
        {
         "alignmentgroup": "True",
         "base": [
          "2023-03-17T17:10:00",
          "2025-04-20T13:35:00",
          "2022-11-07T06:35:00",
          "2022-08-03T15:50:00",
          "2022-12-26T16:45:00",
          "2025-04-20T11:20:00",
          "2022-11-06T16:50:00",
          "2022-12-26T16:45:00",
          "2022-08-03T15:50:00",
          "2023-05-29T05:40:00",
          "2023-03-17T17:10:00",
          "2025-04-20T10:35:00",
          "2023-03-17T17:10:00",
          "2022-07-28T09:55:00",
          "2023-05-29T05:40:00",
          "2023-03-17T17:10:00",
          "2025-04-20T11:20:00",
          "2022-11-06T16:50:00",
          "2022-07-28T10:05:00",
          "2023-05-29T05:40:00",
          "2025-05-05T10:25:00",
          "2022-12-26T16:45:00",
          "2023-03-17T17:10:00",
          "2025-04-20T10:35:00",
          "2022-11-06T16:50:00",
          "2022-07-28T10:05:00",
          "2023-05-29T05:40:00",
          "2025-05-05T10:25:00",
          "2025-05-05T10:25:00"
         ],
         "customdata": [
          [
           0,
           "2023-03-17T17:10:00",
           "2023-03-21T12:20:00",
           91.16666666666667,
           false,
           "Planned (maintenance)"
          ],
          [
           2,
           "2025-04-20T13:35:00",
           "2025-05-23T15:00:00",
           793.4166666666666,
           false,
           "Planned (maintenance)"
          ],
          [
           3,
           "2022-11-07T06:35:00",
           "2022-11-10T10:05:00",
           75.5,
           false,
           "Planned (maintenance)"
          ],
          [
           5,
           "2022-08-03T15:50:00",
           "2022-08-08T13:35:00",
           117.75,
           false,
           "Planned (maintenance)"
          ],
          [
           6,
           "2022-12-26T16:45:00",
           "2022-12-30T09:10:00",
           88.41666666666667,
           false,
           "Planned (maintenance)"
          ],
          [
           16,
           "2025-04-20T11:20:00",
           "2025-05-11T06:55:00",
           499.5833333333333,
           false,
           "Planned (maintenance)"
          ],
          [
           17,
           "2022-11-06T16:50:00",
           "2022-11-10T10:35:00",
           89.75,
           false,
           "Planned (maintenance)"
          ],
          [
           19,
           "2022-12-26T16:45:00",
           "2022-12-30T09:05:00",
           88.33333333333333,
           false,
           "Planned (maintenance)"
          ],
          [
           23,
           "2022-08-03T15:50:00",
           "2022-08-08T13:25:00",
           117.58333333333333,
           false,
           "Planned (maintenance)"
          ],
          [
           24,
           "2023-05-29T05:40:00",
           "2023-07-22T10:00:00",
           1300.3333333333333,
           false,
           "Planned (maintenance)"
          ],
          [
           27,
           "2023-03-17T17:10:00",
           "2023-03-24T11:05:00",
           161.91666666666666,
           false,
           "Planned (maintenance)"
          ],
          [
           29,
           "2025-04-20T10:35:00",
           "2025-05-11T06:55:00",
           500.3333333333333,
           false,
           "Planned (maintenance)"
          ],
          [
           32,
           "2023-03-17T17:10:00",
           "2023-03-22T08:50:00",
           111.66666666666667,
           false,
           "Planned (maintenance)"
          ],
          [
           33,
           "2022-07-28T09:55:00",
           "2022-08-16T17:00:00",
           463.0833333333333,
           false,
           "Planned (maintenance)"
          ],
          [
           34,
           "2023-05-29T05:40:00",
           "2023-06-16T14:05:00",
           440.4166666666667,
           false,
           "Planned (maintenance)"
          ],
          [
           36,
           "2023-03-17T17:10:00",
           "2023-03-24T10:35:00",
           161.41666666666666,
           false,
           "Planned (maintenance)"
          ],
          [
           38,
           "2025-04-20T11:20:00",
           "2025-05-11T06:55:00",
           499.5833333333333,
           false,
           "Planned (maintenance)"
          ],
          [
           39,
           "2022-11-06T16:50:00",
           "2022-11-10T11:05:00",
           90.25,
           false,
           "Planned (maintenance)"
          ],
          [
           41,
           "2022-07-28T10:05:00",
           "2022-08-16T12:55:00",
           458.8333333333333,
           false,
           "Planned (maintenance)"
          ],
          [
           42,
           "2023-05-29T05:40:00",
           "2023-06-16T14:25:00",
           440.75,
           false,
           "Planned (maintenance)"
          ],
          [
           43,
           "2025-05-05T10:25:00",
           "2025-06-03T11:00:00",
           696.5833333333334,
           false,
           "Planned (maintenance)"
          ],
          [
           45,
           "2022-12-26T16:45:00",
           "2022-12-30T09:10:00",
           88.41666666666667,
           false,
           "Planned (maintenance)"
          ],
          [
           46,
           "2023-03-17T17:10:00",
           "2023-03-31T13:35:00",
           332.4166666666667,
           false,
           "Planned (maintenance)"
          ],
          [
           47,
           "2025-04-20T10:35:00",
           "2025-05-11T07:15:00",
           500.6666666666667,
           false,
           "Planned (maintenance)"
          ],
          [
           50,
           "2022-11-06T16:50:00",
           "2022-11-10T11:15:00",
           90.41666666666667,
           false,
           "Planned (maintenance)"
          ],
          [
           51,
           "2022-07-28T10:05:00",
           "2022-09-29T08:20:00",
           1510.25,
           false,
           "Planned (maintenance)"
          ],
          [
           53,
           "2023-05-29T05:40:00",
           "2023-06-16T14:25:00",
           440.75,
           false,
           "Planned (maintenance)"
          ],
          [
           56,
           "2025-05-05T10:25:00",
           "2025-05-28T12:10:00",
           553.75,
           false,
           "Planned (maintenance)"
          ],
          [
           60,
           "2025-05-05T10:25:00",
           "2025-05-28T05:50:00",
           547.4166666666666,
           false,
           "Planned (maintenance)"
          ]
         ],
         "hovertemplate": "<b>%{y}</b><br>Start: %{customdata[1]|%Y-%m-%d %H:%M}<br>End: %{customdata[2]|%Y-%m-%d %H:%M}<br>Duration (hrs): %{customdata[3]:.2f}<br>",
         "legendgroup": "Planned (maintenance)",
         "marker": {
          "color": "#6b7280",
          "line": {
           "color": "rgba(30,30,60,0.55)",
           "width": 1.5
          },
          "pattern": {
           "shape": ""
          }
         },
         "name": "Planned (maintenance)",
         "offsetgroup": "Planned (maintenance)",
         "opacity": 0.98,
         "orientation": "h",
         "showlegend": true,
         "textposition": "auto",
         "type": "bar",
         "x": [
          328200000,
          2856300000,
          271800000,
          423900000,
          318300000,
          1798500000,
          323100000,
          318000000,
          423300000,
          4681200000,
          582900000,
          1801200000,
          402000000,
          1667100000,
          1585500000,
          581100000,
          1798500000,
          324900000,
          1651800000,
          1586700000,
          2507700000,
          318300000,
          1196700000,
          1802400000,
          325500000,
          5436900000,
          1586700000,
          1993500000,
          1970700000
         ],
         "xaxis": "x",
         "y": [
          "INV 51",
          "INV 51",
          "INV 52",
          "INV 53",
          "INV 53",
          "INV 54",
          "INV 55",
          "INV 55",
          "INV 56",
          "INV 56",
          "INV 57",
          "INV 57",
          "INV 58",
          "INV 59",
          "INV 59",
          "INV 60",
          "INV 60",
          "INV 61",
          "INV 62",
          "INV 62",
          "INV 62",
          "INV 63",
          "INV 63",
          "INV 63",
          "INV 64",
          "INV 65",
          "INV 65",
          "INV 65",
          "INV 66"
         ],
         "yaxis": "y"
        },
        {
         "alignmentgroup": "True",
         "base": [
          "2024-04-25T12:55:00",
          "2025-03-29T13:55:00",
          "2023-07-23T12:10:00",
          "2022-08-09T11:10:00",
          "2022-09-10T14:45:00",
          "2022-12-01T11:55:00",
          "2023-01-02T16:40:00",
          "2023-01-14T07:45:00",
          "2023-07-01T14:15:00",
          "2023-12-28T15:30:00",
          "2025-04-13T16:10:00",
          "2022-12-22T16:25:00",
          "2023-01-02T15:20:00",
          "2023-01-09T15:20:00",
          "2025-04-23T14:35:00",
          "2023-07-26T06:55:00",
          "2024-03-02T10:55:00",
          "2024-08-31T06:30:00",
          "2022-08-26T19:35:00",
          "2022-09-29T09:30:00",
          "2024-02-15T08:10:00",
          "2024-08-23T19:30:00",
          "2024-05-03T09:00:00",
          "2025-06-28T10:20:00",
          "2022-03-03T17:35:00",
          "2022-07-07T15:30:00",
          "2023-04-28T10:25:00",
          "2024-02-11T08:10:00",
          "2025-04-27T17:55:00",
          "2022-07-30T20:05:00",
          "2023-03-25T17:20:00",
          "2024-08-13T07:05:00"
         ],
         "customdata": [
          [
           1,
           "2024-04-25T12:55:00",
           "2024-04-30T08:00:00",
           115.08333333333333,
           false,
           "Unplanned failure"
          ],
          [
           4,
           "2025-03-29T13:55:00",
           "2025-04-04T12:30:00",
           142.58333333333334,
           false,
           "Unplanned failure"
          ],
          [
           7,
           "2023-07-23T12:10:00",
           "2023-07-28T08:05:00",
           115.91666666666667,
           false,
           "Unplanned failure"
          ],
          [
           8,
           "2022-08-09T11:10:00",
           "2022-08-12T11:40:00",
           72.5,
           false,
           "Unplanned failure"
          ],
          [
           9,
           "2022-09-10T14:45:00",
           "2022-09-14T07:45:00",
           89,
           false,
           "Unplanned failure"
          ],
          [
           10,
           "2022-12-01T11:55:00",
           "2022-12-06T10:40:00",
           118.75,
           false,
           "Unplanned failure"
          ],
          [
           11,
           "2023-01-02T16:40:00",
           "2023-01-13T11:20:00",
           258.6666666666667,
           false,
           "Unplanned failure"
          ],
          [
           12,
           "2023-01-14T07:45:00",
           "2023-01-26T12:55:00",
           293.1666666666667,
           false,
           "Unplanned failure"
          ],
          [
           13,
           "2023-07-01T14:15:00",
           "2023-07-06T11:40:00",
           117.41666666666667,
           false,
           "Unplanned failure"
          ],
          [
           14,
           "2023-12-28T15:30:00",
           "2024-01-02T09:05:00",
           113.58333333333333,
           false,
           "Unplanned failure"
          ],
          [
           15,
           "2025-04-13T16:10:00",
           "2025-04-17T10:10:00",
           90,
           false,
           "Unplanned failure"
          ],
          [
           18,
           "2022-12-22T16:25:00",
           "2022-12-26T10:30:00",
           90.08333333333333,
           false,
           "Unplanned failure"
          ],
          [
           20,
           "2023-01-02T15:20:00",
           "2023-01-07T09:40:00",
           114.33333333333333,
           false,
           "Unplanned failure"
          ],
          [
           21,
           "2023-01-09T15:20:00",
           "2023-01-13T11:50:00",
           92.5,
           false,
           "Unplanned failure"
          ],
          [
           22,
           "2025-04-23T14:35:00",
           "2025-05-01T09:05:00",
           186.5,
           false,
           "Unplanned failure"
          ],
          [
           25,
           "2023-07-26T06:55:00",
           "2023-08-02T13:00:00",
           174.08333333333334,
           false,
           "Unplanned failure"
          ],
          [
           26,
           "2024-03-02T10:55:00",
           "2024-03-06T10:30:00",
           95.58333333333333,
           false,
           "Unplanned failure"
          ],
          [
           28,
           "2024-08-31T06:30:00",
           "2024-09-06T11:10:00",
           148.66666666666666,
           false,
           "Unplanned failure"
          ],
          [
           30,
           "2022-08-26T19:35:00",
           "2022-08-30T09:05:00",
           85.5,
           false,
           "Unplanned failure"
          ],
          [
           31,
           "2022-09-29T09:30:00",
           "2022-11-15T12:25:00",
           1130.9166666666667,
           false,
           "Unplanned failure"
          ],
          [
           35,
           "2024-02-15T08:10:00",
           "2024-02-20T10:20:00",
           122.16666666666667,
           false,
           "Unplanned failure"
          ],
          [
           37,
           "2024-08-23T19:30:00",
           "2024-08-28T12:20:00",
           112.83333333333333,
           false,
           "Unplanned failure"
          ],
          [
           40,
           "2024-05-03T09:00:00",
           "2024-05-09T12:50:00",
           147.83333333333334,
           false,
           "Unplanned failure"
          ],
          [
           44,
           "2025-06-28T10:20:00",
           "2025-07-02T07:35:00",
           93.25,
           false,
           "Unplanned failure"
          ],
          [
           48,
           "2022-03-03T17:35:00",
           "2022-03-07T11:50:00",
           90.25,
           false,
           "Unplanned failure"
          ],
          [
           49,
           "2022-07-07T15:30:00",
           "2022-07-11T12:10:00",
           92.66666666666667,
           false,
           "Unplanned failure"
          ],
          [
           52,
           "2023-04-28T10:25:00",
           "2023-05-02T09:55:00",
           95.5,
           false,
           "Unplanned failure"
          ],
          [
           54,
           "2024-02-11T08:10:00",
           "2024-02-15T11:55:00",
           99.75,
           false,
           "Unplanned failure"
          ],
          [
           55,
           "2025-04-27T17:55:00",
           "2025-05-02T12:40:00",
           114.75,
           false,
           "Unplanned failure"
          ],
          [
           57,
           "2022-07-30T20:05:00",
           "2022-08-03T13:20:00",
           89.25,
           false,
           "Unplanned failure"
          ],
          [
           58,
           "2023-03-25T17:20:00",
           "2023-06-28T10:05:00",
           2272.75,
           false,
           "Unplanned failure"
          ],
          [
           59,
           "2024-08-13T07:05:00",
           "2024-08-16T11:55:00",
           76.83333333333333,
           false,
           "Unplanned failure"
          ]
         ],
         "hovertemplate": "<b>%{y}</b><br>Start: %{customdata[1]|%Y-%m-%d %H:%M}<br>End: %{customdata[2]|%Y-%m-%d %H:%M}<br>Duration (hrs): %{customdata[3]:.2f}<br>",
         "legendgroup": "Unplanned failure",
         "marker": {
          "color": "#2563eb",
          "line": {
           "color": "rgba(30,30,60,0.55)",
           "width": 1.5
          },
          "pattern": {
           "shape": ""
          }
         },
         "name": "Unplanned failure",
         "offsetgroup": "Unplanned failure",
         "opacity": 0.98,
         "orientation": "h",
         "showlegend": true,
         "textposition": "auto",
         "type": "bar",
         "x": [
          414300000,
          513300000,
          417300000,
          261000000,
          320400000,
          427500000,
          931200000,
          1055400000,
          422700000,
          408900000,
          324000000,
          324300000,
          411600000,
          333000000,
          671400000,
          626700000,
          344100000,
          535200000,
          307800000,
          4071300000,
          439800000,
          406200000,
          532200000,
          335700000,
          324900000,
          333600000,
          343800000,
          359100000,
          413100000,
          321300000,
          8181900000,
          276600000
         ],
         "xaxis": "x",
         "y": [
          "INV 51",
          "INV 52",
          "INV 53",
          "INV 54",
          "INV 54",
          "INV 54",
          "INV 54",
          "INV 54",
          "INV 54",
          "INV 54",
          "INV 54",
          "INV 55",
          "INV 55",
          "INV 55",
          "INV 55",
          "INV 56",
          "INV 56",
          "INV 57",
          "INV 58",
          "INV 58",
          "INV 59",
          "INV 60",
          "INV 61",
          "INV 62",
          "INV 64",
          "INV 64",
          "INV 65",
          "INV 65",
          "INV 65",
          "INV 66",
          "INV 66",
          "INV 66"
         ],
         "yaxis": "y"
        }
       ],
       "layout": {
        "bargap": 0.25,
        "barmode": "overlay",
        "height": 620,
        "legend": {
         "title": {
          "text": "Event Type"
         },
         "tracegroupgap": 0
        },
        "margin": {
         "b": 40,
         "l": 70,
         "r": 30,
         "t": 60
        },
        "template": {
         "data": {
          "bar": [
           {
            "error_x": {
             "color": "#2a3f5f"
            },
            "error_y": {
             "color": "#2a3f5f"
            },
            "marker": {
             "line": {
              "color": "white",
              "width": 0.5
             },
             "pattern": {
              "fillmode": "overlay",
              "size": 10,
              "solidity": 0.2
             }
            },
            "type": "bar"
           }
          ],
          "barpolar": [
           {
            "marker": {
             "line": {
              "color": "white",
              "width": 0.5
             },
             "pattern": {
              "fillmode": "overlay",
              "size": 10,
              "solidity": 0.2
             }
            },
            "type": "barpolar"
           }
          ],
          "carpet": [
           {
            "aaxis": {
             "endlinecolor": "#2a3f5f",
             "gridcolor": "#C8D4E3",
             "linecolor": "#C8D4E3",
             "minorgridcolor": "#C8D4E3",
             "startlinecolor": "#2a3f5f"
            },
            "baxis": {
             "endlinecolor": "#2a3f5f",
             "gridcolor": "#C8D4E3",
             "linecolor": "#C8D4E3",
             "minorgridcolor": "#C8D4E3",
             "startlinecolor": "#2a3f5f"
            },
            "type": "carpet"
           }
          ],
          "choropleth": [
           {
            "colorbar": {
             "outlinewidth": 0,
             "ticks": ""
            },
            "type": "choropleth"
           }
          ],
          "contour": [
           {
            "colorbar": {
             "outlinewidth": 0,
             "ticks": ""
            },
            "colorscale": [
             [
              0,
              "#0d0887"
             ],
             [
              0.1111111111111111,
              "#46039f"
             ],
             [
              0.2222222222222222,
              "#7201a8"
             ],
             [
              0.3333333333333333,
              "#9c179e"
             ],
             [
              0.4444444444444444,
              "#bd3786"
             ],
             [
              0.5555555555555556,
              "#d8576b"
             ],
             [
              0.6666666666666666,
              "#ed7953"
             ],
             [
              0.7777777777777778,
              "#fb9f3a"
             ],
             [
              0.8888888888888888,
              "#fdca26"
             ],
             [
              1,
              "#f0f921"
             ]
            ],
            "type": "contour"
           }
          ],
          "contourcarpet": [
           {
            "colorbar": {
             "outlinewidth": 0,
             "ticks": ""
            },
            "type": "contourcarpet"
           }
          ],
          "heatmap": [
           {
            "colorbar": {
             "outlinewidth": 0,
             "ticks": ""
            },
            "colorscale": [
             [
              0,
              "#0d0887"
             ],
             [
              0.1111111111111111,
              "#46039f"
             ],
             [
              0.2222222222222222,
              "#7201a8"
             ],
             [
              0.3333333333333333,
              "#9c179e"
             ],
             [
              0.4444444444444444,
              "#bd3786"
             ],
             [
              0.5555555555555556,
              "#d8576b"
             ],
             [
              0.6666666666666666,
              "#ed7953"
             ],
             [
              0.7777777777777778,
              "#fb9f3a"
             ],
             [
              0.8888888888888888,
              "#fdca26"
             ],
             [
              1,
              "#f0f921"
             ]
            ],
            "type": "heatmap"
           }
          ],
          "heatmapgl": [
           {
            "colorbar": {
             "outlinewidth": 0,
             "ticks": ""
            },
            "colorscale": [
             [
              0,
              "#0d0887"
             ],
             [
              0.1111111111111111,
              "#46039f"
             ],
             [
              0.2222222222222222,
              "#7201a8"
             ],
             [
              0.3333333333333333,
              "#9c179e"
             ],
             [
              0.4444444444444444,
              "#bd3786"
             ],
             [
              0.5555555555555556,
              "#d8576b"
             ],
             [
              0.6666666666666666,
              "#ed7953"
             ],
             [
              0.7777777777777778,
              "#fb9f3a"
             ],
             [
              0.8888888888888888,
              "#fdca26"
             ],
             [
              1,
              "#f0f921"
             ]
            ],
            "type": "heatmapgl"
           }
          ],
          "histogram": [
           {
            "marker": {
             "pattern": {
              "fillmode": "overlay",
              "size": 10,
              "solidity": 0.2
             }
            },
            "type": "histogram"
           }
          ],
          "histogram2d": [
           {
            "colorbar": {
             "outlinewidth": 0,
             "ticks": ""
            },
            "colorscale": [
             [
              0,
              "#0d0887"
             ],
             [
              0.1111111111111111,
              "#46039f"
             ],
             [
              0.2222222222222222,
              "#7201a8"
             ],
             [
              0.3333333333333333,
              "#9c179e"
             ],
             [
              0.4444444444444444,
              "#bd3786"
             ],
             [
              0.5555555555555556,
              "#d8576b"
             ],
             [
              0.6666666666666666,
              "#ed7953"
             ],
             [
              0.7777777777777778,
              "#fb9f3a"
             ],
             [
              0.8888888888888888,
              "#fdca26"
             ],
             [
              1,
              "#f0f921"
             ]
            ],
            "type": "histogram2d"
           }
          ],
          "histogram2dcontour": [
           {
            "colorbar": {
             "outlinewidth": 0,
             "ticks": ""
            },
            "colorscale": [
             [
              0,
              "#0d0887"
             ],
             [
              0.1111111111111111,
              "#46039f"
             ],
             [
              0.2222222222222222,
              "#7201a8"
             ],
             [
              0.3333333333333333,
              "#9c179e"
             ],
             [
              0.4444444444444444,
              "#bd3786"
             ],
             [
              0.5555555555555556,
              "#d8576b"
             ],
             [
              0.6666666666666666,
              "#ed7953"
             ],
             [
              0.7777777777777778,
              "#fb9f3a"
             ],
             [
              0.8888888888888888,
              "#fdca26"
             ],
             [
              1,
              "#f0f921"
             ]
            ],
            "type": "histogram2dcontour"
           }
          ],
          "mesh3d": [
           {
            "colorbar": {
             "outlinewidth": 0,
             "ticks": ""
            },
            "type": "mesh3d"
           }
          ],
          "parcoords": [
           {
            "line": {
             "colorbar": {
              "outlinewidth": 0,
              "ticks": ""
             }
            },
            "type": "parcoords"
           }
          ],
          "pie": [
           {
            "automargin": true,
            "type": "pie"
           }
          ],
          "scatter": [
           {
            "fillpattern": {
             "fillmode": "overlay",
             "size": 10,
             "solidity": 0.2
            },
            "type": "scatter"
           }
          ],
          "scatter3d": [
           {
            "line": {
             "colorbar": {
              "outlinewidth": 0,
              "ticks": ""
             }
            },
            "marker": {
             "colorbar": {
              "outlinewidth": 0,
              "ticks": ""
             }
            },
            "type": "scatter3d"
           }
          ],
          "scattercarpet": [
           {
            "marker": {
             "colorbar": {
              "outlinewidth": 0,
              "ticks": ""
             }
            },
            "type": "scattercarpet"
           }
          ],
          "scattergeo": [
           {
            "marker": {
             "colorbar": {
              "outlinewidth": 0,
              "ticks": ""
             }
            },
            "type": "scattergeo"
           }
          ],
          "scattergl": [
           {
            "marker": {
             "colorbar": {
              "outlinewidth": 0,
              "ticks": ""
             }
            },
            "type": "scattergl"
           }
          ],
          "scattermapbox": [
           {
            "marker": {
             "colorbar": {
              "outlinewidth": 0,
              "ticks": ""
             }
            },
            "type": "scattermapbox"
           }
          ],
          "scatterpolar": [
           {
            "marker": {
             "colorbar": {
              "outlinewidth": 0,
              "ticks": ""
             }
            },
            "type": "scatterpolar"
           }
          ],
          "scatterpolargl": [
           {
            "marker": {
             "colorbar": {
              "outlinewidth": 0,
              "ticks": ""
             }
            },
            "type": "scatterpolargl"
           }
          ],
          "scatterternary": [
           {
            "marker": {
             "colorbar": {
              "outlinewidth": 0,
              "ticks": ""
             }
            },
            "type": "scatterternary"
           }
          ],
          "surface": [
           {
            "colorbar": {
             "outlinewidth": 0,
             "ticks": ""
            },
            "colorscale": [
             [
              0,
              "#0d0887"
             ],
             [
              0.1111111111111111,
              "#46039f"
             ],
             [
              0.2222222222222222,
              "#7201a8"
             ],
             [
              0.3333333333333333,
              "#9c179e"
             ],
             [
              0.4444444444444444,
              "#bd3786"
             ],
             [
              0.5555555555555556,
              "#d8576b"
             ],
             [
              0.6666666666666666,
              "#ed7953"
             ],
             [
              0.7777777777777778,
              "#fb9f3a"
             ],
             [
              0.8888888888888888,
              "#fdca26"
             ],
             [
              1,
              "#f0f921"
             ]
            ],
            "type": "surface"
           }
          ],
          "table": [
           {
            "cells": {
             "fill": {
              "color": "#EBF0F8"
             },
             "line": {
              "color": "white"
             }
            },
            "header": {
             "fill": {
              "color": "#C8D4E3"
             },
             "line": {
              "color": "white"
             }
            },
            "type": "table"
           }
          ]
         },
         "layout": {
          "annotationdefaults": {
           "arrowcolor": "#2a3f5f",
           "arrowhead": 0,
           "arrowwidth": 1
          },
          "autotypenumbers": "strict",
          "coloraxis": {
           "colorbar": {
            "outlinewidth": 0,
            "ticks": ""
           }
          },
          "colorscale": {
           "diverging": [
            [
             0,
             "#8e0152"
            ],
            [
             0.1,
             "#c51b7d"
            ],
            [
             0.2,
             "#de77ae"
            ],
            [
             0.3,
             "#f1b6da"
            ],
            [
             0.4,
             "#fde0ef"
            ],
            [
             0.5,
             "#f7f7f7"
            ],
            [
             0.6,
             "#e6f5d0"
            ],
            [
             0.7,
             "#b8e186"
            ],
            [
             0.8,
             "#7fbc41"
            ],
            [
             0.9,
             "#4d9221"
            ],
            [
             1,
             "#276419"
            ]
           ],
           "sequential": [
            [
             0,
             "#0d0887"
            ],
            [
             0.1111111111111111,
             "#46039f"
            ],
            [
             0.2222222222222222,
             "#7201a8"
            ],
            [
             0.3333333333333333,
             "#9c179e"
            ],
            [
             0.4444444444444444,
             "#bd3786"
            ],
            [
             0.5555555555555556,
             "#d8576b"
            ],
            [
             0.6666666666666666,
             "#ed7953"
            ],
            [
             0.7777777777777778,
             "#fb9f3a"
            ],
            [
             0.8888888888888888,
             "#fdca26"
            ],
            [
             1,
             "#f0f921"
            ]
           ],
           "sequentialminus": [
            [
             0,
             "#0d0887"
            ],
            [
             0.1111111111111111,
             "#46039f"
            ],
            [
             0.2222222222222222,
             "#7201a8"
            ],
            [
             0.3333333333333333,
             "#9c179e"
            ],
            [
             0.4444444444444444,
             "#bd3786"
            ],
            [
             0.5555555555555556,
             "#d8576b"
            ],
            [
             0.6666666666666666,
             "#ed7953"
            ],
            [
             0.7777777777777778,
             "#fb9f3a"
            ],
            [
             0.8888888888888888,
             "#fdca26"
            ],
            [
             1,
             "#f0f921"
            ]
           ]
          },
          "colorway": [
           "#636efa",
           "#EF553B",
           "#00cc96",
           "#ab63fa",
           "#FFA15A",
           "#19d3f3",
           "#FF6692",
           "#B6E880",
           "#FF97FF",
           "#FECB52"
          ],
          "font": {
           "color": "#2a3f5f"
          },
          "geo": {
           "bgcolor": "white",
           "lakecolor": "white",
           "landcolor": "white",
           "showlakes": true,
           "showland": true,
           "subunitcolor": "#C8D4E3"
          },
          "hoverlabel": {
           "align": "left"
          },
          "hovermode": "closest",
          "mapbox": {
           "style": "light"
          },
          "paper_bgcolor": "white",
          "plot_bgcolor": "white",
          "polar": {
           "angularaxis": {
            "gridcolor": "#EBF0F8",
            "linecolor": "#EBF0F8",
            "ticks": ""
           },
           "bgcolor": "white",
           "radialaxis": {
            "gridcolor": "#EBF0F8",
            "linecolor": "#EBF0F8",
            "ticks": ""
           }
          },
          "scene": {
           "xaxis": {
            "backgroundcolor": "white",
            "gridcolor": "#DFE8F3",
            "gridwidth": 2,
            "linecolor": "#EBF0F8",
            "showbackground": true,
            "ticks": "",
            "zerolinecolor": "#EBF0F8"
           },
           "yaxis": {
            "backgroundcolor": "white",
            "gridcolor": "#DFE8F3",
            "gridwidth": 2,
            "linecolor": "#EBF0F8",
            "showbackground": true,
            "ticks": "",
            "zerolinecolor": "#EBF0F8"
           },
           "zaxis": {
            "backgroundcolor": "white",
            "gridcolor": "#DFE8F3",
            "gridwidth": 2,
            "linecolor": "#EBF0F8",
            "showbackground": true,
            "ticks": "",
            "zerolinecolor": "#EBF0F8"
           }
          },
          "shapedefaults": {
           "line": {
            "color": "#2a3f5f"
           }
          },
          "ternary": {
           "aaxis": {
            "gridcolor": "#DFE8F3",
            "linecolor": "#A2B1C6",
            "ticks": ""
           },
           "baxis": {
            "gridcolor": "#DFE8F3",
            "linecolor": "#A2B1C6",
            "ticks": ""
           },
           "bgcolor": "white",
           "caxis": {
            "gridcolor": "#DFE8F3",
            "linecolor": "#A2B1C6",
            "ticks": ""
           }
          },
          "title": {
           "x": 0.05
          },
          "xaxis": {
           "automargin": true,
           "gridcolor": "#EBF0F8",
           "linecolor": "#EBF0F8",
           "ticks": "",
           "title": {
            "standoff": 15
           },
           "zerolinecolor": "#EBF0F8",
           "zerolinewidth": 2
          },
          "yaxis": {
           "automargin": true,
           "gridcolor": "#EBF0F8",
           "linecolor": "#EBF0F8",
           "ticks": "",
           "title": {
            "standoff": 15
           },
           "zerolinecolor": "#EBF0F8",
           "zerolinewidth": 2
          }
         }
        },
        "title": {
         "text": "Failure Sessions Timeline"
        },
        "xaxis": {
         "anchor": "y",
         "domain": [
          0,
          1
         ],
         "rangeselector": {
          "buttons": [
           {
            "count": 7,
            "label": "1w",
            "step": "day",
            "stepmode": "backward"
           },
           {
            "count": 1,
            "label": "1m",
            "step": "month",
            "stepmode": "backward"
           },
           {
            "count": 3,
            "label": "3m",
            "step": "month",
            "stepmode": "backward"
           },
           {
            "count": 6,
            "label": "6m",
            "step": "month",
            "stepmode": "backward"
           },
           {
            "count": 1,
            "label": "1y",
            "step": "year",
            "stepmode": "backward"
           },
           {
            "step": "all"
           }
          ]
         },
         "rangeslider": {
          "visible": true
         },
         "showgrid": true,
         "type": "date"
        },
        "yaxis": {
         "anchor": "x",
         "autorange": "reversed",
         "categoryarray": [
          "INV 52",
          "INV 61",
          "INV 64",
          "INV 53",
          "INV 55",
          "INV 60",
          "INV 57",
          "INV 63",
          "INV 51",
          "INV 59",
          "INV 58",
          "INV 54",
          "INV 56",
          "INV 62",
          "INV 65",
          "INV 66"
         ],
         "categoryorder": "array",
         "domain": [
          0,
          1
         ],
         "title": {
          "text": "Device"
         }
        }
       }
      }
     },
     "metadata": {},
     "output_type": "display_data"
    }
   ],
   "source": [
    "visualize_failure_timeline(failure_sessions)"
   ]
  },
  {
   "cell_type": "code",
   "execution_count": 13,
   "id": "5fb6ee2e",
   "metadata": {},
   "outputs": [
    {
     "name": "stderr",
     "output_type": "stream",
     "text": [
      "Writing HTML: 100%|██████████| 16/16 [00:54<00:00,  3.42s/it]"
     ]
    },
    {
     "name": "stdout",
     "output_type": "stream",
     "text": [
      "Visualization saved at visualization/raw_data/*.html\n"
     ]
    },
    {
     "name": "stderr",
     "output_type": "stream",
     "text": [
      "\n"
     ]
    }
   ],
   "source": [
    "if performe_visualization:\n",
    "    # Visualize the raw data\n",
    "    visualize_hourly_mean_values(inverter_data, failure_sessions, feature_cols, 'visualization', 'raw_data')"
   ]
  },
  {
   "cell_type": "code",
   "execution_count": null,
   "id": "67c342c2",
   "metadata": {},
   "outputs": [],
   "source": [
    "# remove unused columns\n",
    "filtered_data = inverter_data[['event_local_time', 'device_name'] + feature_cols].copy()"
   ]
  },
  {
   "cell_type": "markdown",
   "id": "7faa25f4",
   "metadata": {},
   "source": [
    "### Anomoly Detection"
   ]
  },
  {
   "cell_type": "code",
   "execution_count": 7,
   "id": "78ad68c7",
   "metadata": {},
   "outputs": [
    {
     "name": "stdout",
     "output_type": "stream",
     "text": [
      "Anomalies in STATUS_AC_MOD_ADMISSION_TEMP removed: 244163\n"
     ]
    }
   ],
   "source": [
    "if \"metric.STATUS_AC_MOD_ADMISSION_TEMP.MEASURED\" in filtered_data.columns:\n",
    "    anomaly_ids = filtered_data[\"metric.STATUS_AC_MOD_ADMISSION_TEMP.MEASURED\"]>=100\n",
    "    filtered_data.loc[anomaly_ids, \"metric.STATUS_AC_MOD_ADMISSION_TEMP.MEASURED\"] = None\n",
    "    print(\"Anomalies in STATUS_AC_MOD_ADMISSION_TEMP removed:\", anomaly_ids.sum())"
   ]
  },
  {
   "cell_type": "markdown",
   "id": "e502018d",
   "metadata": {},
   "source": [
    "### Missing Value Imputation"
   ]
  },
  {
   "cell_type": "code",
   "execution_count": 8,
   "id": "e6b1d156",
   "metadata": {},
   "outputs": [],
   "source": [
    "imputed_df = missing_value_imputation(\n",
    "    filtered_data, feature_cols, \n",
    "    time_col='event_local_time', \n",
    "    device_col='device_name', \n",
    "    short_gap_limit=0, \n",
    "    long_fill_value=0.0, \n",
    "    add_missing_mask=True\n",
    "    )\n",
    "extended_feature_cols = feature_cols+[col+'_missing' for col in feature_cols]"
   ]
  },
  {
   "cell_type": "markdown",
   "id": "9db2330b",
   "metadata": {},
   "source": [
    "### Downsampling"
   ]
  },
  {
   "cell_type": "code",
   "execution_count": 9,
   "id": "90f7584d",
   "metadata": {},
   "outputs": [
    {
     "name": "stdout",
     "output_type": "stream",
     "text": [
      "Downsampling 6126272 rows using following method: \n",
      "                                               Column Aggregation\n",
      "0                       metric.AC_VOLTAGE_AB.MEASURED        mean\n",
      "1                       metric.AC_VOLTAGE_BC.MEASURED        mean\n",
      "2                       metric.AC_VOLTAGE_CA.MEASURED        mean\n",
      "3                          metric.DC_VOLTAGE.MEASURED        mean\n",
      "4                            metric.AC_POWER.MEASURED        mean\n",
      "5               metric.AC_VOLTAGE_AB.MEASURED_missing        mean\n",
      "6               metric.AC_VOLTAGE_BC.MEASURED_missing        mean\n",
      "7               metric.AC_VOLTAGE_CA.MEASURED_missing        mean\n",
      "8                  metric.DC_VOLTAGE.MEASURED_missing        mean\n",
      "9                    metric.AC_POWER.MEASURED_missing        mean\n",
      "10       metric.STATUS_AC_MOD_ADMISSION_TEMP.MEASURED         max\n",
      "11               metric.STATUS_INTERNAL_TEMP.MEASURED         max\n",
      "12  metric.STATUS_AC_MOD_ADMISSION_TEMP.MEASURED_m...         max\n",
      "13       metric.STATUS_INTERNAL_TEMP.MEASURED_missing         max\n"
     ]
    }
   ],
   "source": [
    "downsampled_data = downsample_inverter_raw(imputed_df, drop_empty_bins=False)\n",
    "downsampled_data.dropna(inplace=True) # NaN will be generated by downsampling, so we drop them"
   ]
  },
  {
   "cell_type": "code",
   "execution_count": 10,
   "id": "b2bd6c11",
   "metadata": {},
   "outputs": [
    {
     "name": "stderr",
     "output_type": "stream",
     "text": [
      "Writing HTML: 100%|██████████| 16/16 [01:42<00:00,  6.38s/it]"
     ]
    },
    {
     "name": "stdout",
     "output_type": "stream",
     "text": [
      "Visualization saved at visualization/downsampled_data/*.html\n"
     ]
    },
    {
     "name": "stderr",
     "output_type": "stream",
     "text": [
      "\n"
     ]
    }
   ],
   "source": [
    "if performe_visualization:\n",
    "    # Visualize the downsampled data\n",
    "    visualize_hourly_mean_values(downsampled_data, failure_sessions, extended_feature_cols, 'visualization', 'downsampled_data')"
   ]
  },
  {
   "cell_type": "markdown",
   "id": "03ae16f2",
   "metadata": {},
   "source": [
    "### Data Cleaning"
   ]
  },
  {
   "cell_type": "code",
   "execution_count": 11,
   "id": "82857f9d",
   "metadata": {},
   "outputs": [
    {
     "name": "stdout",
     "output_type": "stream",
     "text": [
      "failure_sessions shape: (61, 6)\n",
      "Excluded 2 periods, remaining data size: 47\n",
      "Excluded 2 periods, remaining data size: 47\n",
      "failure_sessions shape: (47, 7)\n"
     ]
    }
   ],
   "source": [
    "print(\"failure_sessions shape:\", failure_sessions.shape)\n",
    "failure_sessions['event_local_time'] = failure_sessions['start_time']\n",
    "filtered_sessions = exclude_periods_from_data(failure_sessions, exclude_periods)\n",
    "filtered_sessions['event_local_time'] = filtered_sessions['end_time']\n",
    "filtered_sessions = exclude_periods_from_data(filtered_sessions, exclude_periods)\n",
    "print(\"failure_sessions shape:\", filtered_sessions .shape)"
   ]
  },
  {
   "cell_type": "code",
   "execution_count": 12,
   "id": "7ecb503b",
   "metadata": {},
   "outputs": [
    {
     "data": {
      "application/vnd.plotly.v1+json": {
       "config": {
        "plotlyServerURL": "https://plot.ly"
       },
       "data": [
        {
         "alignmentgroup": "True",
         "base": [
          "2024-04-25T12:55:00",
          "2025-03-29T13:55:00",
          "2022-08-09T11:10:00",
          "2022-09-10T14:45:00",
          "2022-12-01T11:55:00",
          "2023-01-02T16:40:00",
          "2023-01-14T07:45:00",
          "2023-12-28T15:30:00",
          "2025-04-13T16:10:00",
          "2022-12-22T16:25:00",
          "2023-01-02T15:20:00",
          "2023-01-09T15:20:00",
          "2025-04-23T14:35:00",
          "2024-03-02T10:55:00",
          "2024-08-31T06:30:00",
          "2022-08-26T19:35:00",
          "2022-09-29T09:30:00",
          "2024-02-15T08:10:00",
          "2024-08-23T19:30:00",
          "2024-05-03T09:00:00",
          "2025-06-28T10:20:00",
          "2022-03-03T17:35:00",
          "2022-07-07T15:30:00",
          "2024-02-11T08:10:00",
          "2025-04-27T17:55:00",
          "2022-07-30T20:05:00",
          "2024-08-13T07:05:00"
         ],
         "customdata": [
          [
           1,
           "2024-04-25T12:55:00",
           "2024-04-30T08:00:00",
           115.08333333333333,
           false,
           "Unplanned failure"
          ],
          [
           4,
           "2025-03-29T13:55:00",
           "2025-04-04T12:30:00",
           142.58333333333334,
           false,
           "Unplanned failure"
          ],
          [
           8,
           "2022-08-09T11:10:00",
           "2022-08-12T11:40:00",
           72.5,
           false,
           "Unplanned failure"
          ],
          [
           9,
           "2022-09-10T14:45:00",
           "2022-09-14T07:45:00",
           89,
           false,
           "Unplanned failure"
          ],
          [
           10,
           "2022-12-01T11:55:00",
           "2022-12-06T10:40:00",
           118.75,
           false,
           "Unplanned failure"
          ],
          [
           11,
           "2023-01-02T16:40:00",
           "2023-01-13T11:20:00",
           258.6666666666667,
           false,
           "Unplanned failure"
          ],
          [
           12,
           "2023-01-14T07:45:00",
           "2023-01-26T12:55:00",
           293.1666666666667,
           false,
           "Unplanned failure"
          ],
          [
           14,
           "2023-12-28T15:30:00",
           "2024-01-02T09:05:00",
           113.58333333333333,
           false,
           "Unplanned failure"
          ],
          [
           15,
           "2025-04-13T16:10:00",
           "2025-04-17T10:10:00",
           90,
           false,
           "Unplanned failure"
          ],
          [
           18,
           "2022-12-22T16:25:00",
           "2022-12-26T10:30:00",
           90.08333333333333,
           false,
           "Unplanned failure"
          ],
          [
           20,
           "2023-01-02T15:20:00",
           "2023-01-07T09:40:00",
           114.33333333333333,
           false,
           "Unplanned failure"
          ],
          [
           21,
           "2023-01-09T15:20:00",
           "2023-01-13T11:50:00",
           92.5,
           false,
           "Unplanned failure"
          ],
          [
           22,
           "2025-04-23T14:35:00",
           "2025-05-01T09:05:00",
           186.5,
           false,
           "Unplanned failure"
          ],
          [
           26,
           "2024-03-02T10:55:00",
           "2024-03-06T10:30:00",
           95.58333333333333,
           false,
           "Unplanned failure"
          ],
          [
           28,
           "2024-08-31T06:30:00",
           "2024-09-06T11:10:00",
           148.66666666666666,
           false,
           "Unplanned failure"
          ],
          [
           30,
           "2022-08-26T19:35:00",
           "2022-08-30T09:05:00",
           85.5,
           false,
           "Unplanned failure"
          ],
          [
           31,
           "2022-09-29T09:30:00",
           "2022-11-15T12:25:00",
           1130.9166666666667,
           false,
           "Unplanned failure"
          ],
          [
           35,
           "2024-02-15T08:10:00",
           "2024-02-20T10:20:00",
           122.16666666666667,
           false,
           "Unplanned failure"
          ],
          [
           37,
           "2024-08-23T19:30:00",
           "2024-08-28T12:20:00",
           112.83333333333333,
           false,
           "Unplanned failure"
          ],
          [
           40,
           "2024-05-03T09:00:00",
           "2024-05-09T12:50:00",
           147.83333333333334,
           false,
           "Unplanned failure"
          ],
          [
           44,
           "2025-06-28T10:20:00",
           "2025-07-02T07:35:00",
           93.25,
           false,
           "Unplanned failure"
          ],
          [
           48,
           "2022-03-03T17:35:00",
           "2022-03-07T11:50:00",
           90.25,
           false,
           "Unplanned failure"
          ],
          [
           49,
           "2022-07-07T15:30:00",
           "2022-07-11T12:10:00",
           92.66666666666667,
           false,
           "Unplanned failure"
          ],
          [
           54,
           "2024-02-11T08:10:00",
           "2024-02-15T11:55:00",
           99.75,
           false,
           "Unplanned failure"
          ],
          [
           55,
           "2025-04-27T17:55:00",
           "2025-05-02T12:40:00",
           114.75,
           false,
           "Unplanned failure"
          ],
          [
           57,
           "2022-07-30T20:05:00",
           "2022-08-03T13:20:00",
           89.25,
           false,
           "Unplanned failure"
          ],
          [
           59,
           "2024-08-13T07:05:00",
           "2024-08-16T11:55:00",
           76.83333333333333,
           false,
           "Unplanned failure"
          ]
         ],
         "hovertemplate": "<b>%{y}</b><br>Start: %{customdata[1]|%Y-%m-%d %H:%M}<br>End: %{customdata[2]|%Y-%m-%d %H:%M}<br>Duration (hrs): %{customdata[3]:.2f}<br>",
         "legendgroup": "Unplanned failure",
         "marker": {
          "color": "#2563eb",
          "line": {
           "color": "rgba(30,30,60,0.55)",
           "width": 1.5
          },
          "pattern": {
           "shape": ""
          }
         },
         "name": "Unplanned failure",
         "offsetgroup": "Unplanned failure",
         "opacity": 0.98,
         "orientation": "h",
         "showlegend": true,
         "textposition": "auto",
         "type": "bar",
         "x": [
          414300000,
          513300000,
          261000000,
          320400000,
          427500000,
          931200000,
          1055400000,
          408900000,
          324000000,
          324300000,
          411600000,
          333000000,
          671400000,
          344100000,
          535200000,
          307800000,
          4071300000,
          439800000,
          406200000,
          532200000,
          335700000,
          324900000,
          333600000,
          359100000,
          413100000,
          321300000,
          276600000
         ],
         "xaxis": "x",
         "y": [
          "INV 51",
          "INV 52",
          "INV 54",
          "INV 54",
          "INV 54",
          "INV 54",
          "INV 54",
          "INV 54",
          "INV 54",
          "INV 55",
          "INV 55",
          "INV 55",
          "INV 55",
          "INV 56",
          "INV 57",
          "INV 58",
          "INV 58",
          "INV 59",
          "INV 60",
          "INV 61",
          "INV 62",
          "INV 64",
          "INV 64",
          "INV 65",
          "INV 65",
          "INV 66",
          "INV 66"
         ],
         "yaxis": "y"
        },
        {
         "alignmentgroup": "True",
         "base": [
          "2025-04-20T13:35:00",
          "2022-11-07T06:35:00",
          "2022-08-03T15:50:00",
          "2022-12-26T16:45:00",
          "2025-04-20T11:20:00",
          "2022-11-06T16:50:00",
          "2022-12-26T16:45:00",
          "2022-08-03T15:50:00",
          "2025-04-20T10:35:00",
          "2022-07-28T09:55:00",
          "2025-04-20T11:20:00",
          "2022-11-06T16:50:00",
          "2022-07-28T10:05:00",
          "2025-05-05T10:25:00",
          "2022-12-26T16:45:00",
          "2025-04-20T10:35:00",
          "2022-11-06T16:50:00",
          "2022-07-28T10:05:00",
          "2025-05-05T10:25:00",
          "2025-05-05T10:25:00"
         ],
         "customdata": [
          [
           2,
           "2025-04-20T13:35:00",
           "2025-05-23T15:00:00",
           793.4166666666666,
           false,
           "Planned (maintenance)"
          ],
          [
           3,
           "2022-11-07T06:35:00",
           "2022-11-10T10:05:00",
           75.5,
           false,
           "Planned (maintenance)"
          ],
          [
           5,
           "2022-08-03T15:50:00",
           "2022-08-08T13:35:00",
           117.75,
           false,
           "Planned (maintenance)"
          ],
          [
           6,
           "2022-12-26T16:45:00",
           "2022-12-30T09:10:00",
           88.41666666666667,
           false,
           "Planned (maintenance)"
          ],
          [
           16,
           "2025-04-20T11:20:00",
           "2025-05-11T06:55:00",
           499.5833333333333,
           false,
           "Planned (maintenance)"
          ],
          [
           17,
           "2022-11-06T16:50:00",
           "2022-11-10T10:35:00",
           89.75,
           false,
           "Planned (maintenance)"
          ],
          [
           19,
           "2022-12-26T16:45:00",
           "2022-12-30T09:05:00",
           88.33333333333333,
           false,
           "Planned (maintenance)"
          ],
          [
           23,
           "2022-08-03T15:50:00",
           "2022-08-08T13:25:00",
           117.58333333333333,
           false,
           "Planned (maintenance)"
          ],
          [
           29,
           "2025-04-20T10:35:00",
           "2025-05-11T06:55:00",
           500.3333333333333,
           false,
           "Planned (maintenance)"
          ],
          [
           33,
           "2022-07-28T09:55:00",
           "2022-08-16T17:00:00",
           463.0833333333333,
           false,
           "Planned (maintenance)"
          ],
          [
           38,
           "2025-04-20T11:20:00",
           "2025-05-11T06:55:00",
           499.5833333333333,
           false,
           "Planned (maintenance)"
          ],
          [
           39,
           "2022-11-06T16:50:00",
           "2022-11-10T11:05:00",
           90.25,
           false,
           "Planned (maintenance)"
          ],
          [
           41,
           "2022-07-28T10:05:00",
           "2022-08-16T12:55:00",
           458.8333333333333,
           false,
           "Planned (maintenance)"
          ],
          [
           43,
           "2025-05-05T10:25:00",
           "2025-06-03T11:00:00",
           696.5833333333334,
           false,
           "Planned (maintenance)"
          ],
          [
           45,
           "2022-12-26T16:45:00",
           "2022-12-30T09:10:00",
           88.41666666666667,
           false,
           "Planned (maintenance)"
          ],
          [
           47,
           "2025-04-20T10:35:00",
           "2025-05-11T07:15:00",
           500.6666666666667,
           false,
           "Planned (maintenance)"
          ],
          [
           50,
           "2022-11-06T16:50:00",
           "2022-11-10T11:15:00",
           90.41666666666667,
           false,
           "Planned (maintenance)"
          ],
          [
           51,
           "2022-07-28T10:05:00",
           "2022-09-29T08:20:00",
           1510.25,
           false,
           "Planned (maintenance)"
          ],
          [
           56,
           "2025-05-05T10:25:00",
           "2025-05-28T12:10:00",
           553.75,
           false,
           "Planned (maintenance)"
          ],
          [
           60,
           "2025-05-05T10:25:00",
           "2025-05-28T05:50:00",
           547.4166666666666,
           false,
           "Planned (maintenance)"
          ]
         ],
         "hovertemplate": "<b>%{y}</b><br>Start: %{customdata[1]|%Y-%m-%d %H:%M}<br>End: %{customdata[2]|%Y-%m-%d %H:%M}<br>Duration (hrs): %{customdata[3]:.2f}<br>",
         "legendgroup": "Planned (maintenance)",
         "marker": {
          "color": "#6b7280",
          "line": {
           "color": "rgba(30,30,60,0.55)",
           "width": 1.5
          },
          "pattern": {
           "shape": ""
          }
         },
         "name": "Planned (maintenance)",
         "offsetgroup": "Planned (maintenance)",
         "opacity": 0.98,
         "orientation": "h",
         "showlegend": true,
         "textposition": "auto",
         "type": "bar",
         "x": [
          2856300000,
          271800000,
          423900000,
          318300000,
          1798500000,
          323100000,
          318000000,
          423300000,
          1801200000,
          1667100000,
          1798500000,
          324900000,
          1651800000,
          2507700000,
          318300000,
          1802400000,
          325500000,
          5436900000,
          1993500000,
          1970700000
         ],
         "xaxis": "x",
         "y": [
          "INV 51",
          "INV 52",
          "INV 53",
          "INV 53",
          "INV 54",
          "INV 55",
          "INV 55",
          "INV 56",
          "INV 57",
          "INV 59",
          "INV 60",
          "INV 61",
          "INV 62",
          "INV 62",
          "INV 63",
          "INV 63",
          "INV 64",
          "INV 65",
          "INV 65",
          "INV 66"
         ],
         "yaxis": "y"
        }
       ],
       "layout": {
        "bargap": 0.25,
        "barmode": "overlay",
        "height": 620,
        "legend": {
         "title": {
          "text": "Event Type"
         },
         "tracegroupgap": 0
        },
        "margin": {
         "b": 40,
         "l": 70,
         "r": 30,
         "t": 60
        },
        "template": {
         "data": {
          "bar": [
           {
            "error_x": {
             "color": "#2a3f5f"
            },
            "error_y": {
             "color": "#2a3f5f"
            },
            "marker": {
             "line": {
              "color": "white",
              "width": 0.5
             },
             "pattern": {
              "fillmode": "overlay",
              "size": 10,
              "solidity": 0.2
             }
            },
            "type": "bar"
           }
          ],
          "barpolar": [
           {
            "marker": {
             "line": {
              "color": "white",
              "width": 0.5
             },
             "pattern": {
              "fillmode": "overlay",
              "size": 10,
              "solidity": 0.2
             }
            },
            "type": "barpolar"
           }
          ],
          "carpet": [
           {
            "aaxis": {
             "endlinecolor": "#2a3f5f",
             "gridcolor": "#C8D4E3",
             "linecolor": "#C8D4E3",
             "minorgridcolor": "#C8D4E3",
             "startlinecolor": "#2a3f5f"
            },
            "baxis": {
             "endlinecolor": "#2a3f5f",
             "gridcolor": "#C8D4E3",
             "linecolor": "#C8D4E3",
             "minorgridcolor": "#C8D4E3",
             "startlinecolor": "#2a3f5f"
            },
            "type": "carpet"
           }
          ],
          "choropleth": [
           {
            "colorbar": {
             "outlinewidth": 0,
             "ticks": ""
            },
            "type": "choropleth"
           }
          ],
          "contour": [
           {
            "colorbar": {
             "outlinewidth": 0,
             "ticks": ""
            },
            "colorscale": [
             [
              0,
              "#0d0887"
             ],
             [
              0.1111111111111111,
              "#46039f"
             ],
             [
              0.2222222222222222,
              "#7201a8"
             ],
             [
              0.3333333333333333,
              "#9c179e"
             ],
             [
              0.4444444444444444,
              "#bd3786"
             ],
             [
              0.5555555555555556,
              "#d8576b"
             ],
             [
              0.6666666666666666,
              "#ed7953"
             ],
             [
              0.7777777777777778,
              "#fb9f3a"
             ],
             [
              0.8888888888888888,
              "#fdca26"
             ],
             [
              1,
              "#f0f921"
             ]
            ],
            "type": "contour"
           }
          ],
          "contourcarpet": [
           {
            "colorbar": {
             "outlinewidth": 0,
             "ticks": ""
            },
            "type": "contourcarpet"
           }
          ],
          "heatmap": [
           {
            "colorbar": {
             "outlinewidth": 0,
             "ticks": ""
            },
            "colorscale": [
             [
              0,
              "#0d0887"
             ],
             [
              0.1111111111111111,
              "#46039f"
             ],
             [
              0.2222222222222222,
              "#7201a8"
             ],
             [
              0.3333333333333333,
              "#9c179e"
             ],
             [
              0.4444444444444444,
              "#bd3786"
             ],
             [
              0.5555555555555556,
              "#d8576b"
             ],
             [
              0.6666666666666666,
              "#ed7953"
             ],
             [
              0.7777777777777778,
              "#fb9f3a"
             ],
             [
              0.8888888888888888,
              "#fdca26"
             ],
             [
              1,
              "#f0f921"
             ]
            ],
            "type": "heatmap"
           }
          ],
          "heatmapgl": [
           {
            "colorbar": {
             "outlinewidth": 0,
             "ticks": ""
            },
            "colorscale": [
             [
              0,
              "#0d0887"
             ],
             [
              0.1111111111111111,
              "#46039f"
             ],
             [
              0.2222222222222222,
              "#7201a8"
             ],
             [
              0.3333333333333333,
              "#9c179e"
             ],
             [
              0.4444444444444444,
              "#bd3786"
             ],
             [
              0.5555555555555556,
              "#d8576b"
             ],
             [
              0.6666666666666666,
              "#ed7953"
             ],
             [
              0.7777777777777778,
              "#fb9f3a"
             ],
             [
              0.8888888888888888,
              "#fdca26"
             ],
             [
              1,
              "#f0f921"
             ]
            ],
            "type": "heatmapgl"
           }
          ],
          "histogram": [
           {
            "marker": {
             "pattern": {
              "fillmode": "overlay",
              "size": 10,
              "solidity": 0.2
             }
            },
            "type": "histogram"
           }
          ],
          "histogram2d": [
           {
            "colorbar": {
             "outlinewidth": 0,
             "ticks": ""
            },
            "colorscale": [
             [
              0,
              "#0d0887"
             ],
             [
              0.1111111111111111,
              "#46039f"
             ],
             [
              0.2222222222222222,
              "#7201a8"
             ],
             [
              0.3333333333333333,
              "#9c179e"
             ],
             [
              0.4444444444444444,
              "#bd3786"
             ],
             [
              0.5555555555555556,
              "#d8576b"
             ],
             [
              0.6666666666666666,
              "#ed7953"
             ],
             [
              0.7777777777777778,
              "#fb9f3a"
             ],
             [
              0.8888888888888888,
              "#fdca26"
             ],
             [
              1,
              "#f0f921"
             ]
            ],
            "type": "histogram2d"
           }
          ],
          "histogram2dcontour": [
           {
            "colorbar": {
             "outlinewidth": 0,
             "ticks": ""
            },
            "colorscale": [
             [
              0,
              "#0d0887"
             ],
             [
              0.1111111111111111,
              "#46039f"
             ],
             [
              0.2222222222222222,
              "#7201a8"
             ],
             [
              0.3333333333333333,
              "#9c179e"
             ],
             [
              0.4444444444444444,
              "#bd3786"
             ],
             [
              0.5555555555555556,
              "#d8576b"
             ],
             [
              0.6666666666666666,
              "#ed7953"
             ],
             [
              0.7777777777777778,
              "#fb9f3a"
             ],
             [
              0.8888888888888888,
              "#fdca26"
             ],
             [
              1,
              "#f0f921"
             ]
            ],
            "type": "histogram2dcontour"
           }
          ],
          "mesh3d": [
           {
            "colorbar": {
             "outlinewidth": 0,
             "ticks": ""
            },
            "type": "mesh3d"
           }
          ],
          "parcoords": [
           {
            "line": {
             "colorbar": {
              "outlinewidth": 0,
              "ticks": ""
             }
            },
            "type": "parcoords"
           }
          ],
          "pie": [
           {
            "automargin": true,
            "type": "pie"
           }
          ],
          "scatter": [
           {
            "fillpattern": {
             "fillmode": "overlay",
             "size": 10,
             "solidity": 0.2
            },
            "type": "scatter"
           }
          ],
          "scatter3d": [
           {
            "line": {
             "colorbar": {
              "outlinewidth": 0,
              "ticks": ""
             }
            },
            "marker": {
             "colorbar": {
              "outlinewidth": 0,
              "ticks": ""
             }
            },
            "type": "scatter3d"
           }
          ],
          "scattercarpet": [
           {
            "marker": {
             "colorbar": {
              "outlinewidth": 0,
              "ticks": ""
             }
            },
            "type": "scattercarpet"
           }
          ],
          "scattergeo": [
           {
            "marker": {
             "colorbar": {
              "outlinewidth": 0,
              "ticks": ""
             }
            },
            "type": "scattergeo"
           }
          ],
          "scattergl": [
           {
            "marker": {
             "colorbar": {
              "outlinewidth": 0,
              "ticks": ""
             }
            },
            "type": "scattergl"
           }
          ],
          "scattermapbox": [
           {
            "marker": {
             "colorbar": {
              "outlinewidth": 0,
              "ticks": ""
             }
            },
            "type": "scattermapbox"
           }
          ],
          "scatterpolar": [
           {
            "marker": {
             "colorbar": {
              "outlinewidth": 0,
              "ticks": ""
             }
            },
            "type": "scatterpolar"
           }
          ],
          "scatterpolargl": [
           {
            "marker": {
             "colorbar": {
              "outlinewidth": 0,
              "ticks": ""
             }
            },
            "type": "scatterpolargl"
           }
          ],
          "scatterternary": [
           {
            "marker": {
             "colorbar": {
              "outlinewidth": 0,
              "ticks": ""
             }
            },
            "type": "scatterternary"
           }
          ],
          "surface": [
           {
            "colorbar": {
             "outlinewidth": 0,
             "ticks": ""
            },
            "colorscale": [
             [
              0,
              "#0d0887"
             ],
             [
              0.1111111111111111,
              "#46039f"
             ],
             [
              0.2222222222222222,
              "#7201a8"
             ],
             [
              0.3333333333333333,
              "#9c179e"
             ],
             [
              0.4444444444444444,
              "#bd3786"
             ],
             [
              0.5555555555555556,
              "#d8576b"
             ],
             [
              0.6666666666666666,
              "#ed7953"
             ],
             [
              0.7777777777777778,
              "#fb9f3a"
             ],
             [
              0.8888888888888888,
              "#fdca26"
             ],
             [
              1,
              "#f0f921"
             ]
            ],
            "type": "surface"
           }
          ],
          "table": [
           {
            "cells": {
             "fill": {
              "color": "#EBF0F8"
             },
             "line": {
              "color": "white"
             }
            },
            "header": {
             "fill": {
              "color": "#C8D4E3"
             },
             "line": {
              "color": "white"
             }
            },
            "type": "table"
           }
          ]
         },
         "layout": {
          "annotationdefaults": {
           "arrowcolor": "#2a3f5f",
           "arrowhead": 0,
           "arrowwidth": 1
          },
          "autotypenumbers": "strict",
          "coloraxis": {
           "colorbar": {
            "outlinewidth": 0,
            "ticks": ""
           }
          },
          "colorscale": {
           "diverging": [
            [
             0,
             "#8e0152"
            ],
            [
             0.1,
             "#c51b7d"
            ],
            [
             0.2,
             "#de77ae"
            ],
            [
             0.3,
             "#f1b6da"
            ],
            [
             0.4,
             "#fde0ef"
            ],
            [
             0.5,
             "#f7f7f7"
            ],
            [
             0.6,
             "#e6f5d0"
            ],
            [
             0.7,
             "#b8e186"
            ],
            [
             0.8,
             "#7fbc41"
            ],
            [
             0.9,
             "#4d9221"
            ],
            [
             1,
             "#276419"
            ]
           ],
           "sequential": [
            [
             0,
             "#0d0887"
            ],
            [
             0.1111111111111111,
             "#46039f"
            ],
            [
             0.2222222222222222,
             "#7201a8"
            ],
            [
             0.3333333333333333,
             "#9c179e"
            ],
            [
             0.4444444444444444,
             "#bd3786"
            ],
            [
             0.5555555555555556,
             "#d8576b"
            ],
            [
             0.6666666666666666,
             "#ed7953"
            ],
            [
             0.7777777777777778,
             "#fb9f3a"
            ],
            [
             0.8888888888888888,
             "#fdca26"
            ],
            [
             1,
             "#f0f921"
            ]
           ],
           "sequentialminus": [
            [
             0,
             "#0d0887"
            ],
            [
             0.1111111111111111,
             "#46039f"
            ],
            [
             0.2222222222222222,
             "#7201a8"
            ],
            [
             0.3333333333333333,
             "#9c179e"
            ],
            [
             0.4444444444444444,
             "#bd3786"
            ],
            [
             0.5555555555555556,
             "#d8576b"
            ],
            [
             0.6666666666666666,
             "#ed7953"
            ],
            [
             0.7777777777777778,
             "#fb9f3a"
            ],
            [
             0.8888888888888888,
             "#fdca26"
            ],
            [
             1,
             "#f0f921"
            ]
           ]
          },
          "colorway": [
           "#636efa",
           "#EF553B",
           "#00cc96",
           "#ab63fa",
           "#FFA15A",
           "#19d3f3",
           "#FF6692",
           "#B6E880",
           "#FF97FF",
           "#FECB52"
          ],
          "font": {
           "color": "#2a3f5f"
          },
          "geo": {
           "bgcolor": "white",
           "lakecolor": "white",
           "landcolor": "white",
           "showlakes": true,
           "showland": true,
           "subunitcolor": "#C8D4E3"
          },
          "hoverlabel": {
           "align": "left"
          },
          "hovermode": "closest",
          "mapbox": {
           "style": "light"
          },
          "paper_bgcolor": "white",
          "plot_bgcolor": "white",
          "polar": {
           "angularaxis": {
            "gridcolor": "#EBF0F8",
            "linecolor": "#EBF0F8",
            "ticks": ""
           },
           "bgcolor": "white",
           "radialaxis": {
            "gridcolor": "#EBF0F8",
            "linecolor": "#EBF0F8",
            "ticks": ""
           }
          },
          "scene": {
           "xaxis": {
            "backgroundcolor": "white",
            "gridcolor": "#DFE8F3",
            "gridwidth": 2,
            "linecolor": "#EBF0F8",
            "showbackground": true,
            "ticks": "",
            "zerolinecolor": "#EBF0F8"
           },
           "yaxis": {
            "backgroundcolor": "white",
            "gridcolor": "#DFE8F3",
            "gridwidth": 2,
            "linecolor": "#EBF0F8",
            "showbackground": true,
            "ticks": "",
            "zerolinecolor": "#EBF0F8"
           },
           "zaxis": {
            "backgroundcolor": "white",
            "gridcolor": "#DFE8F3",
            "gridwidth": 2,
            "linecolor": "#EBF0F8",
            "showbackground": true,
            "ticks": "",
            "zerolinecolor": "#EBF0F8"
           }
          },
          "shapedefaults": {
           "line": {
            "color": "#2a3f5f"
           }
          },
          "ternary": {
           "aaxis": {
            "gridcolor": "#DFE8F3",
            "linecolor": "#A2B1C6",
            "ticks": ""
           },
           "baxis": {
            "gridcolor": "#DFE8F3",
            "linecolor": "#A2B1C6",
            "ticks": ""
           },
           "bgcolor": "white",
           "caxis": {
            "gridcolor": "#DFE8F3",
            "linecolor": "#A2B1C6",
            "ticks": ""
           }
          },
          "title": {
           "x": 0.05
          },
          "xaxis": {
           "automargin": true,
           "gridcolor": "#EBF0F8",
           "linecolor": "#EBF0F8",
           "ticks": "",
           "title": {
            "standoff": 15
           },
           "zerolinecolor": "#EBF0F8",
           "zerolinewidth": 2
          },
          "yaxis": {
           "automargin": true,
           "gridcolor": "#EBF0F8",
           "linecolor": "#EBF0F8",
           "ticks": "",
           "title": {
            "standoff": 15
           },
           "zerolinecolor": "#EBF0F8",
           "zerolinewidth": 2
          }
         }
        },
        "title": {
         "text": "Failure Sessions Timeline"
        },
        "xaxis": {
         "anchor": "y",
         "domain": [
          0,
          1
         ],
         "rangeselector": {
          "buttons": [
           {
            "count": 7,
            "label": "1w",
            "step": "day",
            "stepmode": "backward"
           },
           {
            "count": 1,
            "label": "1m",
            "step": "month",
            "stepmode": "backward"
           },
           {
            "count": 3,
            "label": "3m",
            "step": "month",
            "stepmode": "backward"
           },
           {
            "count": 6,
            "label": "6m",
            "step": "month",
            "stepmode": "backward"
           },
           {
            "count": 1,
            "label": "1y",
            "step": "year",
            "stepmode": "backward"
           },
           {
            "step": "all"
           }
          ]
         },
         "rangeslider": {
          "visible": true
         },
         "showgrid": true,
         "type": "date"
        },
        "yaxis": {
         "anchor": "x",
         "autorange": "reversed",
         "categoryarray": [
          "INV 53",
          "INV 56",
          "INV 52",
          "INV 61",
          "INV 64",
          "INV 59",
          "INV 63",
          "INV 60",
          "INV 57",
          "INV 55",
          "INV 66",
          "INV 51",
          "INV 58",
          "INV 62",
          "INV 54",
          "INV 65"
         ],
         "categoryorder": "array",
         "domain": [
          0,
          1
         ],
         "title": {
          "text": "Device"
         }
        }
       }
      }
     },
     "metadata": {},
     "output_type": "display_data"
    }
   ],
   "source": [
    "visualize_failure_timeline(filtered_sessions)"
   ]
  },
  {
   "cell_type": "code",
   "execution_count": 13,
   "id": "995240da",
   "metadata": {},
   "outputs": [
    {
     "name": "stdout",
     "output_type": "stream",
     "text": [
      "inverter_data shape: (1021056, 16)\n",
      "Excluded 2 periods, remaining data size: 862112\n",
      "Excluded data shape: (862112, 16)\n"
     ]
    }
   ],
   "source": [
    "print(\"inverter_data shape:\", downsampled_data.shape)\n",
    "downsampled_data = exclude_periods_from_data(downsampled_data, exclude_periods)\n",
    "print(\"Excluded data shape:\", downsampled_data.shape)"
   ]
  },
  {
   "cell_type": "markdown",
   "id": "c7979e30",
   "metadata": {},
   "source": [
    "### Data Labeling"
   ]
  },
  {
   "cell_type": "code",
   "execution_count": 14,
   "id": "c262cba8",
   "metadata": {},
   "outputs": [
    {
     "name": "stdout",
     "output_type": "stream",
     "text": [
      "Total pre-failure rows: 6064\n",
      "Total rows: 837811\n"
     ]
    }
   ],
   "source": [
    "downsampled_data = prepare_dataset(downsampled_data, failure_sessions, pre_days=pre_day)"
   ]
  },
  {
   "cell_type": "markdown",
   "id": "84b48cdb",
   "metadata": {},
   "source": [
    "### Feature Engineering"
   ]
  },
  {
   "cell_type": "code",
   "execution_count": 15,
   "id": "9d80fecc",
   "metadata": {},
   "outputs": [],
   "source": [
    "downsampled_data['hour_of_day'] = downsampled_data['event_local_time'].dt.hour\n",
    "downsampled_data['month_of_year'] = downsampled_data['event_local_time'].dt.month\n",
    "extended_feature_cols += ['hour_of_day', 'month_of_year']\n"
   ]
  },
  {
   "cell_type": "code",
   "execution_count": 16,
   "id": "d27b4c0a",
   "metadata": {},
   "outputs": [
    {
     "name": "stderr",
     "output_type": "stream",
     "text": [
      "Writing HTML: 100%|██████████| 16/16 [01:39<00:00,  6.21s/it]"
     ]
    },
    {
     "name": "stdout",
     "output_type": "stream",
     "text": [
      "Visualization saved at visualization/processed_data/*.html\n"
     ]
    },
    {
     "name": "stderr",
     "output_type": "stream",
     "text": [
      "\n"
     ]
    }
   ],
   "source": [
    "if performe_visualization:\n",
    "    visualize_hourly_mean_values(downsampled_data, failure_sessions, extended_feature_cols+['label'], \n",
    "                                title='processed_data')"
   ]
  },
  {
   "cell_type": "markdown",
   "id": "b181af6b",
   "metadata": {},
   "source": [
    "### Split Dataset"
   ]
  },
  {
   "cell_type": "code",
   "execution_count": 17,
   "id": "77c351da",
   "metadata": {},
   "outputs": [],
   "source": [
    "split_time = [pd.Timestamp('2024-06-30'), pd.Timestamp('2025-01-01')]\n",
    "\n",
    "\n",
    "train_df = downsampled_data[downsampled_data['event_local_time'] <= split_time[0]].copy()\n",
    "val_df = downsampled_data[(downsampled_data['event_local_time'] > split_time[0]) & (downsampled_data['event_local_time'] <= split_time[1])].copy()\n",
    "test_df = downsampled_data[downsampled_data['event_local_time'] > split_time[1]].copy()"
   ]
  },
  {
   "cell_type": "code",
   "execution_count": 18,
   "id": "9bdb5f36",
   "metadata": {},
   "outputs": [
    {
     "data": {
      "text/plain": [
       "['metric.STATUS_AC_MOD_ADMISSION_TEMP.MEASURED',\n",
       " 'metric.STATUS_INTERNAL_TEMP.MEASURED',\n",
       " 'metric.AC_VOLTAGE_AB.MEASURED',\n",
       " 'metric.AC_VOLTAGE_BC.MEASURED',\n",
       " 'metric.AC_VOLTAGE_CA.MEASURED',\n",
       " 'metric.DC_VOLTAGE.MEASURED',\n",
       " 'metric.AC_POWER.MEASURED',\n",
       " 'metric.STATUS_AC_MOD_ADMISSION_TEMP.MEASURED_missing',\n",
       " 'metric.STATUS_INTERNAL_TEMP.MEASURED_missing',\n",
       " 'metric.AC_VOLTAGE_AB.MEASURED_missing',\n",
       " 'metric.AC_VOLTAGE_BC.MEASURED_missing',\n",
       " 'metric.AC_VOLTAGE_CA.MEASURED_missing',\n",
       " 'metric.DC_VOLTAGE.MEASURED_missing',\n",
       " 'metric.AC_POWER.MEASURED_missing',\n",
       " 'hour_of_day',\n",
       " 'month_of_year']"
      ]
     },
     "execution_count": 18,
     "metadata": {},
     "output_type": "execute_result"
    }
   ],
   "source": [
    "extended_feature_cols"
   ]
  },
  {
   "cell_type": "markdown",
   "id": "777fd02b",
   "metadata": {},
   "source": [
    "### Standardization"
   ]
  },
  {
   "cell_type": "code",
   "execution_count": 19,
   "id": "cbde8f9f",
   "metadata": {},
   "outputs": [],
   "source": [
    "from sklearn.preprocessing import StandardScaler\n",
    "feature_to_standardize = feature_cols + ['hour_of_day', 'month_of_year']\n",
    "scaler = StandardScaler()\n",
    "train_df[feature_to_standardize] = scaler.fit_transform(train_df[feature_to_standardize])\n",
    "val_df[feature_to_standardize] = scaler.transform(val_df[feature_to_standardize])\n",
    "test_df[feature_to_standardize] = scaler.transform(test_df[feature_to_standardize])"
   ]
  },
  {
   "cell_type": "code",
   "execution_count": 20,
   "id": "c2ce625e",
   "metadata": {},
   "outputs": [
    {
     "name": "stderr",
     "output_type": "stream",
     "text": [
      "Writing HTML: 100%|██████████| 16/16 [01:06<00:00,  4.14s/it]\n"
     ]
    },
    {
     "name": "stdout",
     "output_type": "stream",
     "text": [
      "Visualization saved at visualization/train_data/*.html\n"
     ]
    },
    {
     "name": "stderr",
     "output_type": "stream",
     "text": [
      "Writing HTML: 100%|██████████| 16/16 [00:17<00:00,  1.11s/it]\n"
     ]
    },
    {
     "name": "stdout",
     "output_type": "stream",
     "text": [
      "Visualization saved at visualization/val_data/*.html\n"
     ]
    },
    {
     "name": "stderr",
     "output_type": "stream",
     "text": [
      "Writing HTML: 100%|██████████| 16/16 [00:19<00:00,  1.22s/it]"
     ]
    },
    {
     "name": "stdout",
     "output_type": "stream",
     "text": [
      "Visualization saved at visualization/test_data/*.html\n"
     ]
    },
    {
     "name": "stderr",
     "output_type": "stream",
     "text": [
      "\n"
     ]
    }
   ],
   "source": [
    "if performe_visualization:\n",
    "    visualize_hourly_mean_values(train_df, failure_sessions, extended_feature_cols+['label'], \n",
    "                                 'visualization', 'train_data')\n",
    "    visualize_hourly_mean_values(val_df, failure_sessions, extended_feature_cols+['label'], \n",
    "                                 'visualization', 'val_data')\n",
    "    visualize_hourly_mean_values(test_df, failure_sessions, extended_feature_cols+['label'],\n",
    "                                    'visualization', 'test_data')"
   ]
  },
  {
   "cell_type": "markdown",
   "id": "3c9b4875",
   "metadata": {},
   "source": [
    "### Create Dataset/Data Loader"
   ]
  },
  {
   "cell_type": "code",
   "execution_count": 21,
   "id": "3993eca3",
   "metadata": {},
   "outputs": [],
   "source": [
    "stride = 1\n",
    "window_size = 2*24*7 # 30 minutes * 24 * 7 = 1 week"
   ]
  },
  {
   "cell_type": "code",
   "execution_count": 23,
   "id": "1c441ade",
   "metadata": {},
   "outputs": [
    {
     "name": "stderr",
     "output_type": "stream",
     "text": [
      "Processing devices: 100%|██████████| 16/16 [00:02<00:00,  6.72it/s]\n",
      "Processing devices: 100%|██████████| 16/16 [00:00<00:00, 21.51it/s]\n"
     ]
    }
   ],
   "source": [
    "positive_train_ds = PositiveInverterTimeSeriesDataset.from_dataframe(train_df, extended_feature_cols, window_size=window_size, stride=1)\n",
    "negative_train_ds = NegativeInverterTimeSeriesDataset.from_dataframe(train_df, extended_feature_cols, window_size=window_size, stride=6)"
   ]
  },
  {
   "cell_type": "code",
   "execution_count": 24,
   "id": "89be8408",
   "metadata": {},
   "outputs": [
    {
     "name": "stderr",
     "output_type": "stream",
     "text": [
      "Processing devices: 100%|██████████| 16/16 [00:00<00:00, 23.86it/s]\n",
      "Processing devices: 100%|██████████| 16/16 [00:00<00:00, 28.36it/s]\n"
     ]
    }
   ],
   "source": [
    "from torch.utils.data import DataLoader\n",
    "\n",
    "\n",
    "train_ds = combine_dataset([positive_train_ds, negative_train_ds])\n",
    "del positive_train_ds, negative_train_ds\n",
    "\n",
    "val_ds   = InverterTimeSeriesDataset.from_dataframe(val_df,   extended_feature_cols, window_size=window_size, stride=stride)\n",
    "test_ds  = InverterTimeSeriesDataset.from_dataframe(test_df,  extended_feature_cols, window_size=window_size, stride=stride)"
   ]
  },
  {
   "cell_type": "code",
   "execution_count": 25,
   "id": "6e127b2e",
   "metadata": {},
   "outputs": [
    {
     "data": {
      "text/plain": [
       "torch.Size([88957, 336, 16])"
      ]
     },
     "execution_count": 25,
     "metadata": {},
     "output_type": "execute_result"
    }
   ],
   "source": [
    "train_ds.X.shape"
   ]
  },
  {
   "cell_type": "code",
   "execution_count": 26,
   "id": "dc679b9d",
   "metadata": {},
   "outputs": [
    {
     "data": {
      "text/plain": [
       "(0.0    85117\n",
       " 1.0     3840\n",
       " dtype: int64,\n",
       " 0.0    134318\n",
       " 1.0       720\n",
       " dtype: int64,\n",
       " 0.0    130295\n",
       " 1.0      1200\n",
       " dtype: int64)"
      ]
     },
     "execution_count": 26,
     "metadata": {},
     "output_type": "execute_result"
    }
   ],
   "source": [
    "pd.value_counts(train_ds.y.numpy()), pd.value_counts(val_ds.y.numpy()), pd.value_counts(test_ds.y.numpy())"
   ]
  },
  {
   "cell_type": "code",
   "execution_count": 27,
   "id": "61de5600",
   "metadata": {},
   "outputs": [
    {
     "name": "stdout",
     "output_type": "stream",
     "text": [
      "0.0    0.000012\n",
      "1.0    0.000260\n",
      "dtype: float64 13343\n"
     ]
    }
   ],
   "source": [
    "from torch.utils.data import DataLoader, WeightedRandomSampler, RandomSampler\n",
    "import torch\n",
    "\n",
    "num_samples = int(len(train_ds)*0.15 ) # 10% of the training dataset size\n",
    "\n",
    "# 假設 y 是樣本的 label 張量\n",
    "class_sample_count = pd.value_counts(train_ds.y.numpy())\n",
    "weights = 1. / class_sample_count\n",
    "sample_weights = weights[train_ds.y.numpy()].to_numpy() # 每個樣本對應的抽樣權重\n",
    "\n",
    "balanced_sampler = WeightedRandomSampler(\n",
    "    weights=sample_weights,\n",
    "    num_samples=num_samples,\n",
    "    replacement=True\n",
    ")\n",
    "print(weights, num_samples)"
   ]
  },
  {
   "cell_type": "code",
   "execution_count": 28,
   "id": "af450cd3",
   "metadata": {},
   "outputs": [],
   "source": [
    "random_sampler = RandomSampler(val_ds, num_samples=int(len(val_ds)*0.3), replacement=True)"
   ]
  },
  {
   "cell_type": "code",
   "execution_count": 29,
   "id": "b204cf86",
   "metadata": {},
   "outputs": [],
   "source": [
    "batch_size = 2**9\n",
    "\n",
    "train_loader = DataLoader(train_ds, batch_size=batch_size, sampler=balanced_sampler,  num_workers=6, pin_memory=True)\n",
    "val_loader   = DataLoader(val_ds,   batch_size=batch_size, sampler=random_sampler, num_workers=6, pin_memory=True)\n",
    "test_loader  = DataLoader(test_ds,  batch_size=batch_size, shuffle=False, num_workers=6, pin_memory=True)"
   ]
  },
  {
   "cell_type": "markdown",
   "id": "6bc7c875",
   "metadata": {},
   "source": [
    "## Train Model"
   ]
  },
  {
   "cell_type": "code",
   "execution_count": null,
   "id": "ac4316e3",
   "metadata": {},
   "outputs": [],
   "source": [
    "model = CNNLSTMModel(num_features=len(extended_feature_cols), cnn_out_channels=48, lstm_hidden_size=96)\n",
    "optimizer = torch.optim.Adam(model.parameters(), lr=1e-3)\n",
    "\n",
    "# 建議先用較溫和的 pos_weight（例：5），再用驗證集掃描最佳值\n",
    "pos_weight_value = 2.0\n",
    "criterion = torch.nn.BCEWithLogitsLoss(pos_weight=torch.tensor([pos_weight_value], dtype=torch.float)).to('cuda')\n"
   ]
  },
  {
   "cell_type": "code",
   "execution_count": null,
   "id": "20d6f41e",
   "metadata": {},
   "outputs": [
    {
     "data": {
      "text/plain": [
       "<All keys matched successfully>"
      ]
     },
     "execution_count": 46,
     "metadata": {},
     "output_type": "execute_result"
    }
   ],
   "source": [
    "model.load_state_dict(torch.load(r'model\\0813_1935\\epoch_50.pth', weights_only=True))"
   ]
  },
  {
   "cell_type": "code",
   "execution_count": null,
   "id": "1f7b89ee",
   "metadata": {},
   "outputs": [
    {
     "name": "stdout",
     "output_type": "stream",
     "text": [
      "Model moved to cuda\n",
      "Resuming training from epoch 51\n",
      "[Epoch 51/101] Step 0/27 - Loss: 0.4514\n",
      "[Epoch 51/101] Step 25/27 - Loss: 0.4506\n",
      "🔁 Epoch 51 finished. Avg Train Loss: 0.4966\n",
      "✅ Validation Loss: 0.7756 | Acc: 70.61% | AUC-PR: 0.0143 | baseline: 0.0053 | uplift: 2.70x | P@50:0.000 R@50:0.000 | P@100:0.000 R@100:0.000 | P@200:0.000 R@200:0.000\n",
      "[Epoch 52/101] Step 0/27 - Loss: 0.4149\n",
      "[Epoch 52/101] Step 25/27 - Loss: 0.4037\n",
      "🔁 Epoch 52 finished. Avg Train Loss: 0.4007\n",
      "✅ Validation Loss: 0.6081 | Acc: 80.56% | AUC-PR: 0.0098 | baseline: 0.0052 | uplift: 1.88x | P@50:0.000 R@50:0.000 | P@100:0.000 R@100:0.000 | P@200:0.000 R@200:0.000\n",
      "[Epoch 53/101] Step 0/27 - Loss: 0.4104\n",
      "[Epoch 53/101] Step 25/27 - Loss: 0.3467\n",
      "🔁 Epoch 53 finished. Avg Train Loss: 0.4122\n",
      "✅ Validation Loss: 0.7047 | Acc: 76.53% | AUC-PR: 0.0107 | baseline: 0.0054 | uplift: 1.97x | P@50:0.000 R@50:0.000 | P@100:0.000 R@100:0.000 | P@200:0.000 R@200:0.000\n",
      "[Epoch 54/101] Step 0/27 - Loss: 0.3668\n",
      "[Epoch 54/101] Step 25/27 - Loss: 0.3690\n",
      "🔁 Epoch 54 finished. Avg Train Loss: 0.3882\n",
      "✅ Validation Loss: 0.6324 | Acc: 81.15% | AUC-PR: 0.0102 | baseline: 0.0051 | uplift: 2.02x | P@50:0.000 R@50:0.000 | P@100:0.000 R@100:0.000 | P@200:0.000 R@200:0.000\n",
      "[Epoch 55/101] Step 0/27 - Loss: 0.3611\n",
      "[Epoch 55/101] Step 25/27 - Loss: 0.3971\n",
      "🔁 Epoch 55 finished. Avg Train Loss: 0.4199\n",
      "✅ Validation Loss: 0.6234 | Acc: 77.67% | AUC-PR: 0.0106 | baseline: 0.0050 | uplift: 2.11x | P@50:0.000 R@50:0.000 | P@100:0.000 R@100:0.000 | P@200:0.000 R@200:0.000\n",
      "[Epoch 56/101] Step 0/27 - Loss: 0.3632\n",
      "[Epoch 56/101] Step 25/27 - Loss: 0.3748\n",
      "🔁 Epoch 56 finished. Avg Train Loss: 0.3816\n",
      "✅ Validation Loss: 0.7433 | Acc: 74.73% | AUC-PR: 0.0094 | baseline: 0.0048 | uplift: 1.98x | P@50:0.000 R@50:0.000 | P@100:0.000 R@100:0.000 | P@200:0.000 R@200:0.000\n",
      "[Epoch 57/101] Step 0/27 - Loss: 0.3925\n",
      "[Epoch 57/101] Step 25/27 - Loss: 0.3716\n",
      "🔁 Epoch 57 finished. Avg Train Loss: 0.4350\n",
      "✅ Validation Loss: 0.5433 | Acc: 77.54% | AUC-PR: 0.0115 | baseline: 0.0053 | uplift: 2.16x | P@50:0.000 R@50:0.000 | P@100:0.000 R@100:0.000 | P@200:0.000 R@200:0.000\n",
      "[Epoch 58/101] Step 0/27 - Loss: 0.3869\n",
      "[Epoch 58/101] Step 25/27 - Loss: 0.3582\n",
      "🔁 Epoch 58 finished. Avg Train Loss: 0.3629\n",
      "✅ Validation Loss: 0.6152 | Acc: 78.72% | AUC-PR: 0.0105 | baseline: 0.0054 | uplift: 1.96x | P@50:0.000 R@50:0.000 | P@100:0.000 R@100:0.000 | P@200:0.000 R@200:0.000\n",
      "[Epoch 59/101] Step 0/27 - Loss: 0.3123\n",
      "[Epoch 59/101] Step 25/27 - Loss: 0.2865\n",
      "🔁 Epoch 59 finished. Avg Train Loss: 0.3400\n",
      "✅ Validation Loss: 0.4223 | Acc: 86.52% | AUC-PR: 0.0118 | baseline: 0.0057 | uplift: 2.09x | P@50:0.000 R@50:0.000 | P@100:0.000 R@100:0.000 | P@200:0.005 R@200:0.004\n",
      "Best model saved at epoch 59 with loss 0.4223\n",
      "[Epoch 60/101] Step 0/27 - Loss: 0.6063\n",
      "[Epoch 60/101] Step 25/27 - Loss: 0.3629\n",
      "🔁 Epoch 60 finished. Avg Train Loss: 0.3930\n",
      "✅ Validation Loss: 0.8130 | Acc: 75.30% | AUC-PR: 0.0080 | baseline: 0.0055 | uplift: 1.47x | P@50:0.000 R@50:0.000 | P@100:0.000 R@100:0.000 | P@200:0.000 R@200:0.000\n",
      "[Epoch 61/101] Step 0/27 - Loss: 0.3069\n",
      "[Epoch 61/101] Step 25/27 - Loss: 0.4104\n",
      "🔁 Epoch 61 finished. Avg Train Loss: 0.4578\n",
      "✅ Validation Loss: 0.6257 | Acc: 68.85% | AUC-PR: 0.0091 | baseline: 0.0050 | uplift: 1.80x | P@50:0.000 R@50:0.000 | P@100:0.000 R@100:0.000 | P@200:0.000 R@200:0.000\n",
      "[Epoch 62/101] Step 0/27 - Loss: 0.3762\n",
      "[Epoch 62/101] Step 25/27 - Loss: 0.3267\n",
      "🔁 Epoch 62 finished. Avg Train Loss: 0.3641\n",
      "✅ Validation Loss: 0.6416 | Acc: 77.37% | AUC-PR: 0.0089 | baseline: 0.0054 | uplift: 1.65x | P@50:0.000 R@50:0.000 | P@100:0.000 R@100:0.000 | P@200:0.000 R@200:0.000\n",
      "[Epoch 63/101] Step 0/27 - Loss: 0.3506\n",
      "[Epoch 63/101] Step 25/27 - Loss: 0.3386\n",
      "🔁 Epoch 63 finished. Avg Train Loss: 0.3495\n",
      "✅ Validation Loss: 0.7681 | Acc: 76.76% | AUC-PR: 0.0060 | baseline: 0.0048 | uplift: 1.25x | P@50:0.000 R@50:0.000 | P@100:0.000 R@100:0.000 | P@200:0.000 R@200:0.000\n",
      "[Epoch 64/101] Step 0/27 - Loss: 0.3373\n",
      "[Epoch 64/101] Step 25/27 - Loss: 0.3151\n",
      "🔁 Epoch 64 finished. Avg Train Loss: 0.3930\n",
      "✅ Validation Loss: 0.6997 | Acc: 77.44% | AUC-PR: 0.0075 | baseline: 0.0055 | uplift: 1.38x | P@50:0.000 R@50:0.000 | P@100:0.000 R@100:0.000 | P@200:0.000 R@200:0.000\n",
      "[Epoch 65/101] Step 0/27 - Loss: 0.4795\n",
      "[Epoch 65/101] Step 25/27 - Loss: 0.3187\n",
      "🔁 Epoch 65 finished. Avg Train Loss: 0.3634\n",
      "✅ Validation Loss: 0.6242 | Acc: 80.53% | AUC-PR: 0.0088 | baseline: 0.0055 | uplift: 1.60x | P@50:0.000 R@50:0.000 | P@100:0.000 R@100:0.000 | P@200:0.000 R@200:0.000\n",
      "[Epoch 66/101] Step 0/27 - Loss: 0.2964\n",
      "[Epoch 66/101] Step 25/27 - Loss: 0.3921\n",
      "🔁 Epoch 66 finished. Avg Train Loss: 0.3768\n",
      "✅ Validation Loss: 0.6530 | Acc: 76.92% | AUC-PR: 0.0133 | baseline: 0.0063 | uplift: 2.11x | P@50:0.000 R@50:0.000 | P@100:0.000 R@100:0.000 | P@200:0.000 R@200:0.000\n",
      "[Epoch 67/101] Step 0/27 - Loss: 0.3343\n",
      "[Epoch 67/101] Step 25/27 - Loss: 0.5182\n",
      "🔁 Epoch 67 finished. Avg Train Loss: 0.3676\n",
      "✅ Validation Loss: 1.1302 | Acc: 61.44% | AUC-PR: 0.0058 | baseline: 0.0048 | uplift: 1.21x | P@50:0.000 R@50:0.000 | P@100:0.000 R@100:0.000 | P@200:0.000 R@200:0.000\n",
      "[Epoch 68/101] Step 0/27 - Loss: 0.4485\n",
      "[Epoch 68/101] Step 25/27 - Loss: 0.4156\n",
      "🔁 Epoch 68 finished. Avg Train Loss: 0.3928\n",
      "✅ Validation Loss: 0.6632 | Acc: 75.57% | AUC-PR: 0.0082 | baseline: 0.0048 | uplift: 1.70x | P@50:0.000 R@50:0.000 | P@100:0.000 R@100:0.000 | P@200:0.000 R@200:0.000\n",
      "[Epoch 69/101] Step 0/27 - Loss: 0.3276\n",
      "[Epoch 69/101] Step 25/27 - Loss: 0.3222\n",
      "🔁 Epoch 69 finished. Avg Train Loss: 0.3398\n",
      "✅ Validation Loss: 0.6382 | Acc: 78.37% | AUC-PR: 0.0102 | baseline: 0.0055 | uplift: 1.86x | P@50:0.000 R@50:0.000 | P@100:0.000 R@100:0.000 | P@200:0.000 R@200:0.000\n",
      "[Epoch 70/101] Step 0/27 - Loss: 0.3336\n",
      "[Epoch 70/101] Step 25/27 - Loss: 0.4515\n",
      "🔁 Epoch 70 finished. Avg Train Loss: 0.3971\n",
      "✅ Validation Loss: 0.9385 | Acc: 66.01% | AUC-PR: 0.0125 | baseline: 0.0053 | uplift: 2.36x | P@50:0.000 R@50:0.000 | P@100:0.000 R@100:0.000 | P@200:0.000 R@200:0.000\n",
      "[Epoch 71/101] Step 0/27 - Loss: 0.3340\n",
      "[Epoch 71/101] Step 25/27 - Loss: 0.3823\n",
      "🔁 Epoch 71 finished. Avg Train Loss: 0.3704\n",
      "✅ Validation Loss: 0.5590 | Acc: 79.15% | AUC-PR: 0.0116 | baseline: 0.0051 | uplift: 2.30x | P@50:0.000 R@50:0.000 | P@100:0.000 R@100:0.000 | P@200:0.000 R@200:0.000\n",
      "[Epoch 72/101] Step 0/27 - Loss: 0.2972\n",
      "[Epoch 72/101] Step 25/27 - Loss: 0.3184\n",
      "🔁 Epoch 72 finished. Avg Train Loss: 0.3373\n",
      "✅ Validation Loss: 0.6602 | Acc: 80.07% | AUC-PR: 0.0120 | baseline: 0.0052 | uplift: 2.31x | P@50:0.000 R@50:0.000 | P@100:0.000 R@100:0.000 | P@200:0.000 R@200:0.000\n",
      "[Epoch 73/101] Step 0/27 - Loss: 0.3091\n",
      "[Epoch 73/101] Step 25/27 - Loss: 0.3264\n",
      "🔁 Epoch 73 finished. Avg Train Loss: 0.3137\n",
      "✅ Validation Loss: 0.8826 | Acc: 74.68% | AUC-PR: 0.0092 | baseline: 0.0052 | uplift: 1.77x | P@50:0.000 R@50:0.000 | P@100:0.000 R@100:0.000 | P@200:0.000 R@200:0.000\n"
     ]
    },
    {
     "ename": "KeyboardInterrupt",
     "evalue": "",
     "output_type": "error",
     "traceback": [
      "\u001b[1;31m---------------------------------------------------------------------------\u001b[0m",
      "\u001b[1;31mKeyboardInterrupt\u001b[0m                         Traceback (most recent call last)",
      "Cell \u001b[1;32mIn[47], line 1\u001b[0m\n\u001b[1;32m----> 1\u001b[0m log \u001b[38;5;241m=\u001b[39m \u001b[43mtrain_loop\u001b[49m\u001b[43m(\u001b[49m\n\u001b[0;32m      2\u001b[0m \u001b[43m    \u001b[49m\u001b[43mmodel\u001b[49m\u001b[43m,\u001b[49m\u001b[43m \u001b[49m\u001b[43mtrain_loader\u001b[49m\u001b[43m,\u001b[49m\u001b[43m \u001b[49m\u001b[43mval_loader\u001b[49m\u001b[43m,\u001b[49m\u001b[43m \u001b[49m\n\u001b[0;32m      3\u001b[0m \u001b[43m    \u001b[49m\u001b[43mlog_interval\u001b[49m\u001b[38;5;241;43m=\u001b[39;49m\u001b[38;5;241;43m25\u001b[39;49m\u001b[43m,\u001b[49m\u001b[43m \u001b[49m\n\u001b[0;32m      4\u001b[0m \u001b[43m    \u001b[49m\u001b[43mnum_epochs\u001b[49m\u001b[38;5;241;43m=\u001b[39;49m\u001b[38;5;241;43m50\u001b[39;49m\u001b[43m,\u001b[49m\u001b[43m \u001b[49m\n\u001b[0;32m      5\u001b[0m \u001b[43m    \u001b[49m\u001b[43moptimizer\u001b[49m\u001b[38;5;241;43m=\u001b[39;49m\u001b[43moptimizer\u001b[49m\u001b[43m,\u001b[49m\u001b[43m \u001b[49m\n\u001b[0;32m      6\u001b[0m \u001b[43m    \u001b[49m\u001b[43mcriterion\u001b[49m\u001b[38;5;241;43m=\u001b[39;49m\u001b[43mcriterion\u001b[49m\u001b[43m,\u001b[49m\n\u001b[0;32m      7\u001b[0m \u001b[43m    \u001b[49m\u001b[43msave_interval\u001b[49m\u001b[38;5;241;43m=\u001b[39;49m\u001b[38;5;241;43m5\u001b[39;49m\u001b[43m,\u001b[49m\n\u001b[0;32m      8\u001b[0m \u001b[43m    \u001b[49m\u001b[43msave_path\u001b[49m\u001b[38;5;241;43m=\u001b[39;49m\u001b[38;5;124;43m'\u001b[39;49m\u001b[38;5;124;43mmodel/0813_1935\u001b[39;49m\u001b[38;5;124;43m'\u001b[39;49m\n\u001b[0;32m      9\u001b[0m \u001b[43m)\u001b[49m\n",
      "File \u001b[1;32mc:\\Users\\USER\\OneDrive\\文件\\academic\\ucla\\capstone\\src\\train.py:61\u001b[0m, in \u001b[0;36mtrain_loop\u001b[1;34m(model, train_loader, val_loader, device, optimizer, criterion, num_epochs, scheduler, log_interval, save_interval, save_path)\u001b[0m\n\u001b[0;32m     58\u001b[0m loss\u001b[38;5;241m.\u001b[39mbackward()\n\u001b[0;32m     59\u001b[0m optimizer\u001b[38;5;241m.\u001b[39mstep()\n\u001b[1;32m---> 61\u001b[0m total_loss \u001b[38;5;241m+\u001b[39m\u001b[38;5;241m=\u001b[39m \u001b[43mloss\u001b[49m\u001b[38;5;241;43m.\u001b[39;49m\u001b[43mitem\u001b[49m\u001b[43m(\u001b[49m\u001b[43m)\u001b[49m\n\u001b[0;32m     63\u001b[0m \u001b[38;5;28;01mif\u001b[39;00m batch_idx \u001b[38;5;241m%\u001b[39m log_interval \u001b[38;5;241m==\u001b[39m \u001b[38;5;241m0\u001b[39m:\n\u001b[0;32m     64\u001b[0m     \u001b[38;5;28mprint\u001b[39m(\u001b[38;5;124mf\u001b[39m\u001b[38;5;124m\"\u001b[39m\u001b[38;5;124m[Epoch \u001b[39m\u001b[38;5;132;01m{\u001b[39;00mepoch\u001b[38;5;132;01m}\u001b[39;00m\u001b[38;5;124m/\u001b[39m\u001b[38;5;132;01m{\u001b[39;00mcur_epoch\u001b[38;5;250m \u001b[39m\u001b[38;5;241m+\u001b[39m\u001b[38;5;250m \u001b[39mnum_epochs\u001b[38;5;132;01m}\u001b[39;00m\u001b[38;5;124m] Step \u001b[39m\u001b[38;5;132;01m{\u001b[39;00mbatch_idx\u001b[38;5;132;01m}\u001b[39;00m\u001b[38;5;124m/\u001b[39m\u001b[38;5;132;01m{\u001b[39;00m\u001b[38;5;28mlen\u001b[39m(train_loader)\u001b[38;5;132;01m}\u001b[39;00m\u001b[38;5;124m - Loss: \u001b[39m\u001b[38;5;132;01m{\u001b[39;00mloss\u001b[38;5;241m.\u001b[39mitem()\u001b[38;5;132;01m:\u001b[39;00m\u001b[38;5;124m.4f\u001b[39m\u001b[38;5;132;01m}\u001b[39;00m\u001b[38;5;124m\"\u001b[39m)\n",
      "\u001b[1;31mKeyboardInterrupt\u001b[0m: "
     ]
    }
   ],
   "source": [
    "\n",
    "log = train_loop(\n",
    "    model, train_loader, val_loader, \n",
    "    log_interval=25, \n",
    "    num_epochs=50, \n",
    "    optimizer=optimizer, \n",
    "    criterion=criterion,\n",
    "    save_interval=5,\n",
    "    save_path='model/0813_1935'\n",
    ")"
   ]
  },
  {
   "cell_type": "code",
   "execution_count": 50,
   "id": "0541a638",
   "metadata": {},
   "outputs": [],
   "source": [
    "log = pd.read_csv('model/0813_1935/training_log.csv')"
   ]
  },
  {
   "cell_type": "code",
   "execution_count": 51,
   "id": "8f7a75cd",
   "metadata": {},
   "outputs": [
    {
     "data": {
      "text/plain": [
       "<matplotlib.legend.Legend at 0x21818bbe680>"
      ]
     },
     "execution_count": 51,
     "metadata": {},
     "output_type": "execute_result"
    },
    {
     "data": {
      "image/png": "[encoded data removed]",
      "text/plain": [
       "<Figure size 640x480 with 1 Axes>"
      ]
     },
     "metadata": {},
     "output_type": "display_data"
    }
   ],
   "source": [
    "import matplotlib.pyplot as plt\n",
    "#log = pd.read_csv('model/0811_2042/training_log.csv')\n",
    "plt.plot(log['train_loss'], label='train_loss')\n",
    "plt.plot(log['val_loss'], label='val_loss')\n",
    "plt.plot(log['aucpr'], label='aucpr')\n",
    "plt.xlabel('Epoch')\n",
    "plt.ylabel('Loss')\n",
    "plt.legend()"
   ]
  },
  {
   "cell_type": "markdown",
   "id": "9612ae49",
   "metadata": {},
   "source": [
    "### Model Evaluation"
   ]
  },
  {
   "cell_type": "code",
   "execution_count": 57,
   "id": "7c540efd",
   "metadata": {},
   "outputs": [
    {
     "data": {
      "text/plain": [
       "<All keys matched successfully>"
      ]
     },
     "execution_count": 57,
     "metadata": {},
     "output_type": "execute_result"
    }
   ],
   "source": [
    "model.load_state_dict(torch.load(r'model\\0813_1935\\epoch_20.pth', weights_only=True))"
   ]
  },
  {
   "cell_type": "code",
   "execution_count": 58,
   "id": "a92d6e62",
   "metadata": {},
   "outputs": [
    {
     "name": "stdout",
     "output_type": "stream",
     "text": [
      "Performance on Training Set:\n"
     ]
    },
    {
     "name": "stderr",
     "output_type": "stream",
     "text": [
      "Testing: 100%|██████████| 174/174 [00:09<00:00, 19.02it/s]\n"
     ]
    },
    {
     "name": "stdout",
     "output_type": "stream",
     "text": [
      "🔍 Test Loss: 0.7965 | Accuracy: 68.48%\n",
      "              precision    recall  f1-score   support\n",
      "\n",
      "      Normal       0.99      0.68      0.80     85117\n",
      "     Failure       0.11      0.86      0.19      3840\n",
      "\n",
      "    accuracy                           0.68     88957\n",
      "   macro avg       0.55      0.77      0.50     88957\n",
      "weighted avg       0.95      0.68      0.78     88957\n",
      "\n",
      "[[57629 27488]\n",
      " [  547  3293]]\n",
      "ROC AUC: 0.8510\n"
     ]
    },
    {
     "data": {
      "image/png": "[encoded data removed]",
      "text/plain": [
       "<Figure size 800x600 with 1 Axes>"
      ]
     },
     "metadata": {},
     "output_type": "display_data"
    }
   ],
   "source": [
    "print(\"Performance on Training Set:\")\n",
    "train_loader_eval = DataLoader(train_ds, batch_size=batch_size,  num_workers=6, pin_memory=True)\n",
    "evaluate_model(model, train_loader_eval, best_threshold=0.5, criterion=criterion)"
   ]
  },
  {
   "cell_type": "code",
   "execution_count": 59,
   "id": "8d873ead",
   "metadata": {},
   "outputs": [
    {
     "name": "stderr",
     "output_type": "stream",
     "text": [
      "Testing: 100%|██████████| 264/264 [00:10<00:00, 24.54it/s]"
     ]
    },
    {
     "name": "stdout",
     "output_type": "stream",
     "text": [
      "🔍 Test Loss: 0.9464 | Accuracy: 70.02%\n"
     ]
    },
    {
     "name": "stderr",
     "output_type": "stream",
     "text": [
      "\n"
     ]
    }
   ],
   "source": [
    "val_loader_for_eval = DataLoader(val_ds, batch_size=batch_size, shuffle=False, num_workers=6, pin_memory=True)\n",
    "trues, predictions, outputs = test_loop(model, val_loader_for_eval, device='cuda', criterion=criterion)"
   ]
  },
  {
   "cell_type": "code",
   "execution_count": 60,
   "id": "9319fab6",
   "metadata": {},
   "outputs": [
    {
     "name": "stdout",
     "output_type": "stream",
     "text": [
      "Threshold for recall ≥ 0.8: 0.3013, Precision=0.006\n"
     ]
    }
   ],
   "source": [
    "from sklearn.metrics import precision_recall_curve\n",
    "prec, rec, thresholds = precision_recall_curve(trues, outputs, pos_label=1)\n",
    "\n",
    "target_recall = 0.8\n",
    "idx = next(i for i,r in enumerate(rec) if r < target_recall) - 1\n",
    "best_threshold = thresholds[idx]\n",
    "print(f\"Threshold for recall ≥ {target_recall}: {best_threshold:.4f}, Precision={prec[idx]:.3f}\")\n"
   ]
  },
  {
   "cell_type": "code",
   "execution_count": 61,
   "id": "779d5ce7",
   "metadata": {},
   "outputs": [
    {
     "name": "stdout",
     "output_type": "stream",
     "text": [
      "Performance on Validation Set:\n",
      "              precision    recall  f1-score   support\n",
      "\n",
      "      Normal       1.00      0.33      0.50    134318\n",
      "     Failure       0.01      0.80      0.01       720\n",
      "\n",
      "    accuracy                           0.33    135038\n",
      "   macro avg       0.50      0.57      0.25    135038\n",
      "weighted avg       0.99      0.33      0.49    135038\n",
      "\n",
      "[[44480 89838]\n",
      " [  144   576]]\n",
      "ROC AUC: 0.7521\n"
     ]
    },
    {
     "data": {
      "image/png": "[encoded data removed]",
      "text/plain": [
       "<Figure size 800x600 with 1 Axes>"
      ]
     },
     "metadata": {},
     "output_type": "display_data"
    }
   ],
   "source": [
    "predictions = (outputs >= best_threshold).astype(int)\n",
    "print(\"Performance on Validation Set:\")\n",
    "generate_report(trues, predictions, outputs)"
   ]
  },
  {
   "cell_type": "code",
   "execution_count": 62,
   "id": "25e186ec",
   "metadata": {},
   "outputs": [
    {
     "name": "stdout",
     "output_type": "stream",
     "text": [
      "Performance on Test Set:\n"
     ]
    },
    {
     "name": "stderr",
     "output_type": "stream",
     "text": [
      "Testing: 100%|██████████| 257/257 [00:10<00:00, 24.14it/s]\n"
     ]
    },
    {
     "name": "stdout",
     "output_type": "stream",
     "text": [
      "🔍 Test Loss: 0.8782 | Accuracy: 23.05%\n",
      "              precision    recall  f1-score   support\n",
      "\n",
      "      Normal       0.99      0.23      0.37    130295\n",
      "     Failure       0.01      0.67      0.02      1200\n",
      "\n",
      "    accuracy                           0.23    131495\n",
      "   macro avg       0.50      0.45      0.19    131495\n",
      "weighted avg       0.98      0.23      0.37    131495\n",
      "\n",
      "[[ 29507 100788]\n",
      " [   393    807]]\n",
      "ROC AUC: 0.5864\n"
     ]
    },
    {
     "data": {
      "image/png": "[encoded data removed]",
      "text/plain": [
       "<Figure size 800x600 with 1 Axes>"
      ]
     },
     "metadata": {},
     "output_type": "display_data"
    }
   ],
   "source": [
    "print(\"Performance on Test Set:\")\n",
    "evaluate_model(model, test_loader, best_threshold=best_threshold, device='cuda', criterion=criterion)"
   ]
  }
 ],
 "metadata": {
  "kernelspec": {
   "display_name": "Python 3",
   "language": "python",
   "name": "python3"
  },
  "language_info": {
   "codemirror_mode": {
    "name": "ipython",
    "version": 3
   },
   "file_extension": ".py",
   "mimetype": "text/x-python",
   "name": "python",
   "nbconvert_exporter": "python",
   "pygments_lexer": "ipython3",
   "version": "3.10.11"
  }
 },
 "nbformat": 4,
 "nbformat_minor": 5
}

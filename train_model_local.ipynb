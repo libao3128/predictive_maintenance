{
 "cells": [
  {
   "cell_type": "code",
   "execution_count": 1,
   "id": "5633ed8e",
   "metadata": {},
   "outputs": [],
   "source": [
    "import pandas as pd\n",
    "from src.train import *\n",
    "from src.model import CNNLSTMModel\n",
    "from src.dataset import *\n",
    "from src.preprocess import *\n",
    "from src.visualize import *\n",
    "import torch"
   ]
  },
  {
   "cell_type": "markdown",
   "id": "fcf3d759",
   "metadata": {},
   "source": [
    "## Hyper-Parameter"
   ]
  },
  {
   "cell_type": "code",
   "execution_count": 2,
   "id": "5f407469",
   "metadata": {},
   "outputs": [],
   "source": [
    "performe_visualization = False"
   ]
  },
  {
   "cell_type": "code",
   "execution_count": null,
   "id": "37ac0a88",
   "metadata": {},
   "outputs": [],
   "source": [
    "# some important parameters\n",
    "pre_day = 5\n",
    "window_size = 12*24*7 # 5 minutes * 12 * 24 * 7 = 7 days\n",
    "stride = 12 # 60 minutes stride\n",
    "\n",
    "feature_cols = [\n",
    "    \"metric.STATUS_AC_MOD_ADMISSION_TEMP.MEASURED\",  # ambient temperature\n",
    "    \"metric.STATUS_INTERNAL_TEMP.MEASURED\",          # internal temperature\n",
    "    \"metric.AC_VOLTAGE_AB.MEASURED\",                 # AC voltage\n",
    "    \"metric.AC_VOLTAGE_BC.MEASURED\",                 # AC voltage\n",
    "    \"metric.AC_VOLTAGE_CA.MEASURED\",                 # AC voltage\n",
    "    \"metric.DC_VOLTAGE.MEASURED\",                  # DC voltage\n",
    "    \"metric.AC_POWER.MEASURED\",                     # AC power\n",
    "]\n",
    "\n",
    "exclude_periods = [\n",
    "    [pd.Timestamp('2021-01-01'), pd.Timestamp('2021-12-23')], # data collection issue\n",
    "    [pd.Timestamp('2023-02-23'), pd.Timestamp('2023-08-26')], # anomalies in the data\n",
    "]"
   ]
  },
  {
   "cell_type": "markdown",
   "id": "dc771650",
   "metadata": {},
   "source": [
    "## Data Preprocessing\n",
    "### Load Data"
   ]
  },
  {
   "cell_type": "code",
   "execution_count": 4,
   "id": "9dfd396c",
   "metadata": {},
   "outputs": [
    {
     "name": "stdout",
     "output_type": "stream",
     "text": [
      "Loaded 15 parquet files → 6126272 rows\n",
      "Kept 61 sessions longer than 3 days\n"
     ]
    }
   ],
   "source": [
    "inverter_data = load_parquet_data('data/inverter_data')\n",
    "failure_sessions = load_failure_sessions('data/failure_sessions_w_maintenance.csv', min_days=3)"
   ]
  },
  {
   "cell_type": "code",
   "execution_count": 5,
   "id": "fdae2515",
   "metadata": {},
   "outputs": [
    {
     "data": {
      "application/vnd.plotly.v1+json": {
       "config": {
        "plotlyServerURL": "https://plot.ly"
       },
       "data": [
        {
         "alignmentgroup": "True",
         "base": [
          "2023-03-17T17:10:00",
          "2025-04-20T13:35:00",
          "2022-11-07T06:35:00",
          "2022-08-03T15:50:00",
          "2022-12-26T16:45:00",
          "2025-04-20T11:20:00",
          "2022-11-06T16:50:00",
          "2022-12-26T16:45:00",
          "2022-08-03T15:50:00",
          "2023-05-29T05:40:00",
          "2023-03-17T17:10:00",
          "2025-04-20T10:35:00",
          "2023-03-17T17:10:00",
          "2022-07-28T09:55:00",
          "2023-05-29T05:40:00",
          "2023-03-17T17:10:00",
          "2025-04-20T11:20:00",
          "2022-11-06T16:50:00",
          "2022-07-28T10:05:00",
          "2023-05-29T05:40:00",
          "2025-05-05T10:25:00",
          "2022-12-26T16:45:00",
          "2023-03-17T17:10:00",
          "2025-04-20T10:35:00",
          "2022-11-06T16:50:00",
          "2022-07-28T10:05:00",
          "2023-05-29T05:40:00",
          "2025-05-05T10:25:00",
          "2025-05-05T10:25:00"
         ],
         "customdata": [
          [
           0,
           "2023-03-17T17:10:00",
           "2023-03-21T12:20:00",
           91.16666666666667,
           false,
           "Planned (maintenance)"
          ],
          [
           2,
           "2025-04-20T13:35:00",
           "2025-05-23T15:00:00",
           793.4166666666666,
           false,
           "Planned (maintenance)"
          ],
          [
           3,
           "2022-11-07T06:35:00",
           "2022-11-10T10:05:00",
           75.5,
           false,
           "Planned (maintenance)"
          ],
          [
           5,
           "2022-08-03T15:50:00",
           "2022-08-08T13:35:00",
           117.75,
           false,
           "Planned (maintenance)"
          ],
          [
           6,
           "2022-12-26T16:45:00",
           "2022-12-30T09:10:00",
           88.41666666666667,
           false,
           "Planned (maintenance)"
          ],
          [
           16,
           "2025-04-20T11:20:00",
           "2025-05-11T06:55:00",
           499.5833333333333,
           false,
           "Planned (maintenance)"
          ],
          [
           17,
           "2022-11-06T16:50:00",
           "2022-11-10T10:35:00",
           89.75,
           false,
           "Planned (maintenance)"
          ],
          [
           19,
           "2022-12-26T16:45:00",
           "2022-12-30T09:05:00",
           88.33333333333333,
           false,
           "Planned (maintenance)"
          ],
          [
           23,
           "2022-08-03T15:50:00",
           "2022-08-08T13:25:00",
           117.58333333333333,
           false,
           "Planned (maintenance)"
          ],
          [
           24,
           "2023-05-29T05:40:00",
           "2023-07-22T10:00:00",
           1300.3333333333333,
           false,
           "Planned (maintenance)"
          ],
          [
           27,
           "2023-03-17T17:10:00",
           "2023-03-24T11:05:00",
           161.91666666666666,
           false,
           "Planned (maintenance)"
          ],
          [
           29,
           "2025-04-20T10:35:00",
           "2025-05-11T06:55:00",
           500.3333333333333,
           false,
           "Planned (maintenance)"
          ],
          [
           32,
           "2023-03-17T17:10:00",
           "2023-03-22T08:50:00",
           111.66666666666667,
           false,
           "Planned (maintenance)"
          ],
          [
           33,
           "2022-07-28T09:55:00",
           "2022-08-16T17:00:00",
           463.0833333333333,
           false,
           "Planned (maintenance)"
          ],
          [
           34,
           "2023-05-29T05:40:00",
           "2023-06-16T14:05:00",
           440.4166666666667,
           false,
           "Planned (maintenance)"
          ],
          [
           36,
           "2023-03-17T17:10:00",
           "2023-03-24T10:35:00",
           161.41666666666666,
           false,
           "Planned (maintenance)"
          ],
          [
           38,
           "2025-04-20T11:20:00",
           "2025-05-11T06:55:00",
           499.5833333333333,
           false,
           "Planned (maintenance)"
          ],
          [
           39,
           "2022-11-06T16:50:00",
           "2022-11-10T11:05:00",
           90.25,
           false,
           "Planned (maintenance)"
          ],
          [
           41,
           "2022-07-28T10:05:00",
           "2022-08-16T12:55:00",
           458.8333333333333,
           false,
           "Planned (maintenance)"
          ],
          [
           42,
           "2023-05-29T05:40:00",
           "2023-06-16T14:25:00",
           440.75,
           false,
           "Planned (maintenance)"
          ],
          [
           43,
           "2025-05-05T10:25:00",
           "2025-06-03T11:00:00",
           696.5833333333334,
           false,
           "Planned (maintenance)"
          ],
          [
           45,
           "2022-12-26T16:45:00",
           "2022-12-30T09:10:00",
           88.41666666666667,
           false,
           "Planned (maintenance)"
          ],
          [
           46,
           "2023-03-17T17:10:00",
           "2023-03-31T13:35:00",
           332.4166666666667,
           false,
           "Planned (maintenance)"
          ],
          [
           47,
           "2025-04-20T10:35:00",
           "2025-05-11T07:15:00",
           500.6666666666667,
           false,
           "Planned (maintenance)"
          ],
          [
           50,
           "2022-11-06T16:50:00",
           "2022-11-10T11:15:00",
           90.41666666666667,
           false,
           "Planned (maintenance)"
          ],
          [
           51,
           "2022-07-28T10:05:00",
           "2022-09-29T08:20:00",
           1510.25,
           false,
           "Planned (maintenance)"
          ],
          [
           53,
           "2023-05-29T05:40:00",
           "2023-06-16T14:25:00",
           440.75,
           false,
           "Planned (maintenance)"
          ],
          [
           56,
           "2025-05-05T10:25:00",
           "2025-05-28T12:10:00",
           553.75,
           false,
           "Planned (maintenance)"
          ],
          [
           60,
           "2025-05-05T10:25:00",
           "2025-05-28T05:50:00",
           547.4166666666666,
           false,
           "Planned (maintenance)"
          ]
         ],
         "hovertemplate": "<b>%{y}</b><br>Start: %{customdata[1]|%Y-%m-%d %H:%M}<br>End: %{customdata[2]|%Y-%m-%d %H:%M}<br>Duration (hrs): %{customdata[3]:.2f}<br>",
         "legendgroup": "Planned (maintenance)",
         "marker": {
          "color": "#6b7280",
          "line": {
           "color": "rgba(30,30,60,0.55)",
           "width": 1.5
          },
          "pattern": {
           "shape": ""
          }
         },
         "name": "Planned (maintenance)",
         "offsetgroup": "Planned (maintenance)",
         "opacity": 0.98,
         "orientation": "h",
         "showlegend": true,
         "textposition": "auto",
         "type": "bar",
         "x": [
          328200000,
          2856300000,
          271800000,
          423900000,
          318300000,
          1798500000,
          323100000,
          318000000,
          423300000,
          4681200000,
          582900000,
          1801200000,
          402000000,
          1667100000,
          1585500000,
          581100000,
          1798500000,
          324900000,
          1651800000,
          1586700000,
          2507700000,
          318300000,
          1196700000,
          1802400000,
          325500000,
          5436900000,
          1586700000,
          1993500000,
          1970700000
         ],
         "xaxis": "x",
         "y": [
          "INV 51",
          "INV 51",
          "INV 52",
          "INV 53",
          "INV 53",
          "INV 54",
          "INV 55",
          "INV 55",
          "INV 56",
          "INV 56",
          "INV 57",
          "INV 57",
          "INV 58",
          "INV 59",
          "INV 59",
          "INV 60",
          "INV 60",
          "INV 61",
          "INV 62",
          "INV 62",
          "INV 62",
          "INV 63",
          "INV 63",
          "INV 63",
          "INV 64",
          "INV 65",
          "INV 65",
          "INV 65",
          "INV 66"
         ],
         "yaxis": "y"
        },
        {
         "alignmentgroup": "True",
         "base": [
          "2024-04-25T12:55:00",
          "2025-03-29T13:55:00",
          "2023-07-23T12:10:00",
          "2022-08-09T11:10:00",
          "2022-09-10T14:45:00",
          "2022-12-01T11:55:00",
          "2023-01-02T16:40:00",
          "2023-01-14T07:45:00",
          "2023-07-01T14:15:00",
          "2023-12-28T15:30:00",
          "2025-04-13T16:10:00",
          "2022-12-22T16:25:00",
          "2023-01-02T15:20:00",
          "2023-01-09T15:20:00",
          "2025-04-23T14:35:00",
          "2023-07-26T06:55:00",
          "2024-03-02T10:55:00",
          "2024-08-31T06:30:00",
          "2022-08-26T19:35:00",
          "2022-09-29T09:30:00",
          "2024-02-15T08:10:00",
          "2024-08-23T19:30:00",
          "2024-05-03T09:00:00",
          "2025-06-28T10:20:00",
          "2022-03-03T17:35:00",
          "2022-07-07T15:30:00",
          "2023-04-28T10:25:00",
          "2024-02-11T08:10:00",
          "2025-04-27T17:55:00",
          "2022-07-30T20:05:00",
          "2023-03-25T17:20:00",
          "2024-08-13T07:05:00"
         ],
         "customdata": [
          [
           1,
           "2024-04-25T12:55:00",
           "2024-04-30T08:00:00",
           115.08333333333333,
           false,
           "Unplanned failure"
          ],
          [
           4,
           "2025-03-29T13:55:00",
           "2025-04-04T12:30:00",
           142.58333333333334,
           false,
           "Unplanned failure"
          ],
          [
           7,
           "2023-07-23T12:10:00",
           "2023-07-28T08:05:00",
           115.91666666666667,
           false,
           "Unplanned failure"
          ],
          [
           8,
           "2022-08-09T11:10:00",
           "2022-08-12T11:40:00",
           72.5,
           false,
           "Unplanned failure"
          ],
          [
           9,
           "2022-09-10T14:45:00",
           "2022-09-14T07:45:00",
           89,
           false,
           "Unplanned failure"
          ],
          [
           10,
           "2022-12-01T11:55:00",
           "2022-12-06T10:40:00",
           118.75,
           false,
           "Unplanned failure"
          ],
          [
           11,
           "2023-01-02T16:40:00",
           "2023-01-13T11:20:00",
           258.6666666666667,
           false,
           "Unplanned failure"
          ],
          [
           12,
           "2023-01-14T07:45:00",
           "2023-01-26T12:55:00",
           293.1666666666667,
           false,
           "Unplanned failure"
          ],
          [
           13,
           "2023-07-01T14:15:00",
           "2023-07-06T11:40:00",
           117.41666666666667,
           false,
           "Unplanned failure"
          ],
          [
           14,
           "2023-12-28T15:30:00",
           "2024-01-02T09:05:00",
           113.58333333333333,
           false,
           "Unplanned failure"
          ],
          [
           15,
           "2025-04-13T16:10:00",
           "2025-04-17T10:10:00",
           90,
           false,
           "Unplanned failure"
          ],
          [
           18,
           "2022-12-22T16:25:00",
           "2022-12-26T10:30:00",
           90.08333333333333,
           false,
           "Unplanned failure"
          ],
          [
           20,
           "2023-01-02T15:20:00",
           "2023-01-07T09:40:00",
           114.33333333333333,
           false,
           "Unplanned failure"
          ],
          [
           21,
           "2023-01-09T15:20:00",
           "2023-01-13T11:50:00",
           92.5,
           false,
           "Unplanned failure"
          ],
          [
           22,
           "2025-04-23T14:35:00",
           "2025-05-01T09:05:00",
           186.5,
           false,
           "Unplanned failure"
          ],
          [
           25,
           "2023-07-26T06:55:00",
           "2023-08-02T13:00:00",
           174.08333333333334,
           false,
           "Unplanned failure"
          ],
          [
           26,
           "2024-03-02T10:55:00",
           "2024-03-06T10:30:00",
           95.58333333333333,
           false,
           "Unplanned failure"
          ],
          [
           28,
           "2024-08-31T06:30:00",
           "2024-09-06T11:10:00",
           148.66666666666666,
           false,
           "Unplanned failure"
          ],
          [
           30,
           "2022-08-26T19:35:00",
           "2022-08-30T09:05:00",
           85.5,
           false,
           "Unplanned failure"
          ],
          [
           31,
           "2022-09-29T09:30:00",
           "2022-11-15T12:25:00",
           1130.9166666666667,
           false,
           "Unplanned failure"
          ],
          [
           35,
           "2024-02-15T08:10:00",
           "2024-02-20T10:20:00",
           122.16666666666667,
           false,
           "Unplanned failure"
          ],
          [
           37,
           "2024-08-23T19:30:00",
           "2024-08-28T12:20:00",
           112.83333333333333,
           false,
           "Unplanned failure"
          ],
          [
           40,
           "2024-05-03T09:00:00",
           "2024-05-09T12:50:00",
           147.83333333333334,
           false,
           "Unplanned failure"
          ],
          [
           44,
           "2025-06-28T10:20:00",
           "2025-07-02T07:35:00",
           93.25,
           false,
           "Unplanned failure"
          ],
          [
           48,
           "2022-03-03T17:35:00",
           "2022-03-07T11:50:00",
           90.25,
           false,
           "Unplanned failure"
          ],
          [
           49,
           "2022-07-07T15:30:00",
           "2022-07-11T12:10:00",
           92.66666666666667,
           false,
           "Unplanned failure"
          ],
          [
           52,
           "2023-04-28T10:25:00",
           "2023-05-02T09:55:00",
           95.5,
           false,
           "Unplanned failure"
          ],
          [
           54,
           "2024-02-11T08:10:00",
           "2024-02-15T11:55:00",
           99.75,
           false,
           "Unplanned failure"
          ],
          [
           55,
           "2025-04-27T17:55:00",
           "2025-05-02T12:40:00",
           114.75,
           false,
           "Unplanned failure"
          ],
          [
           57,
           "2022-07-30T20:05:00",
           "2022-08-03T13:20:00",
           89.25,
           false,
           "Unplanned failure"
          ],
          [
           58,
           "2023-03-25T17:20:00",
           "2023-06-28T10:05:00",
           2272.75,
           false,
           "Unplanned failure"
          ],
          [
           59,
           "2024-08-13T07:05:00",
           "2024-08-16T11:55:00",
           76.83333333333333,
           false,
           "Unplanned failure"
          ]
         ],
         "hovertemplate": "<b>%{y}</b><br>Start: %{customdata[1]|%Y-%m-%d %H:%M}<br>End: %{customdata[2]|%Y-%m-%d %H:%M}<br>Duration (hrs): %{customdata[3]:.2f}<br>",
         "legendgroup": "Unplanned failure",
         "marker": {
          "color": "#2563eb",
          "line": {
           "color": "rgba(30,30,60,0.55)",
           "width": 1.5
          },
          "pattern": {
           "shape": ""
          }
         },
         "name": "Unplanned failure",
         "offsetgroup": "Unplanned failure",
         "opacity": 0.98,
         "orientation": "h",
         "showlegend": true,
         "textposition": "auto",
         "type": "bar",
         "x": [
          414300000,
          513300000,
          417300000,
          261000000,
          320400000,
          427500000,
          931200000,
          1055400000,
          422700000,
          408900000,
          324000000,
          324300000,
          411600000,
          333000000,
          671400000,
          626700000,
          344100000,
          535200000,
          307800000,
          4071300000,
          439800000,
          406200000,
          532200000,
          335700000,
          324900000,
          333600000,
          343800000,
          359100000,
          413100000,
          321300000,
          8181900000,
          276600000
         ],
         "xaxis": "x",
         "y": [
          "INV 51",
          "INV 52",
          "INV 53",
          "INV 54",
          "INV 54",
          "INV 54",
          "INV 54",
          "INV 54",
          "INV 54",
          "INV 54",
          "INV 54",
          "INV 55",
          "INV 55",
          "INV 55",
          "INV 55",
          "INV 56",
          "INV 56",
          "INV 57",
          "INV 58",
          "INV 58",
          "INV 59",
          "INV 60",
          "INV 61",
          "INV 62",
          "INV 64",
          "INV 64",
          "INV 65",
          "INV 65",
          "INV 65",
          "INV 66",
          "INV 66",
          "INV 66"
         ],
         "yaxis": "y"
        }
       ],
       "layout": {
        "bargap": 0.25,
        "barmode": "overlay",
        "height": 620,
        "legend": {
         "title": {
          "text": "Event Type"
         },
         "tracegroupgap": 0
        },
        "margin": {
         "b": 40,
         "l": 70,
         "r": 30,
         "t": 60
        },
        "template": {
         "data": {
          "bar": [
           {
            "error_x": {
             "color": "#2a3f5f"
            },
            "error_y": {
             "color": "#2a3f5f"
            },
            "marker": {
             "line": {
              "color": "white",
              "width": 0.5
             },
             "pattern": {
              "fillmode": "overlay",
              "size": 10,
              "solidity": 0.2
             }
            },
            "type": "bar"
           }
          ],
          "barpolar": [
           {
            "marker": {
             "line": {
              "color": "white",
              "width": 0.5
             },
             "pattern": {
              "fillmode": "overlay",
              "size": 10,
              "solidity": 0.2
             }
            },
            "type": "barpolar"
           }
          ],
          "carpet": [
           {
            "aaxis": {
             "endlinecolor": "#2a3f5f",
             "gridcolor": "#C8D4E3",
             "linecolor": "#C8D4E3",
             "minorgridcolor": "#C8D4E3",
             "startlinecolor": "#2a3f5f"
            },
            "baxis": {
             "endlinecolor": "#2a3f5f",
             "gridcolor": "#C8D4E3",
             "linecolor": "#C8D4E3",
             "minorgridcolor": "#C8D4E3",
             "startlinecolor": "#2a3f5f"
            },
            "type": "carpet"
           }
          ],
          "choropleth": [
           {
            "colorbar": {
             "outlinewidth": 0,
             "ticks": ""
            },
            "type": "choropleth"
           }
          ],
          "contour": [
           {
            "colorbar": {
             "outlinewidth": 0,
             "ticks": ""
            },
            "colorscale": [
             [
              0,
              "#0d0887"
             ],
             [
              0.1111111111111111,
              "#46039f"
             ],
             [
              0.2222222222222222,
              "#7201a8"
             ],
             [
              0.3333333333333333,
              "#9c179e"
             ],
             [
              0.4444444444444444,
              "#bd3786"
             ],
             [
              0.5555555555555556,
              "#d8576b"
             ],
             [
              0.6666666666666666,
              "#ed7953"
             ],
             [
              0.7777777777777778,
              "#fb9f3a"
             ],
             [
              0.8888888888888888,
              "#fdca26"
             ],
             [
              1,
              "#f0f921"
             ]
            ],
            "type": "contour"
           }
          ],
          "contourcarpet": [
           {
            "colorbar": {
             "outlinewidth": 0,
             "ticks": ""
            },
            "type": "contourcarpet"
           }
          ],
          "heatmap": [
           {
            "colorbar": {
             "outlinewidth": 0,
             "ticks": ""
            },
            "colorscale": [
             [
              0,
              "#0d0887"
             ],
             [
              0.1111111111111111,
              "#46039f"
             ],
             [
              0.2222222222222222,
              "#7201a8"
             ],
             [
              0.3333333333333333,
              "#9c179e"
             ],
             [
              0.4444444444444444,
              "#bd3786"
             ],
             [
              0.5555555555555556,
              "#d8576b"
             ],
             [
              0.6666666666666666,
              "#ed7953"
             ],
             [
              0.7777777777777778,
              "#fb9f3a"
             ],
             [
              0.8888888888888888,
              "#fdca26"
             ],
             [
              1,
              "#f0f921"
             ]
            ],
            "type": "heatmap"
           }
          ],
          "heatmapgl": [
           {
            "colorbar": {
             "outlinewidth": 0,
             "ticks": ""
            },
            "colorscale": [
             [
              0,
              "#0d0887"
             ],
             [
              0.1111111111111111,
              "#46039f"
             ],
             [
              0.2222222222222222,
              "#7201a8"
             ],
             [
              0.3333333333333333,
              "#9c179e"
             ],
             [
              0.4444444444444444,
              "#bd3786"
             ],
             [
              0.5555555555555556,
              "#d8576b"
             ],
             [
              0.6666666666666666,
              "#ed7953"
             ],
             [
              0.7777777777777778,
              "#fb9f3a"
             ],
             [
              0.8888888888888888,
              "#fdca26"
             ],
             [
              1,
              "#f0f921"
             ]
            ],
            "type": "heatmapgl"
           }
          ],
          "histogram": [
           {
            "marker": {
             "pattern": {
              "fillmode": "overlay",
              "size": 10,
              "solidity": 0.2
             }
            },
            "type": "histogram"
           }
          ],
          "histogram2d": [
           {
            "colorbar": {
             "outlinewidth": 0,
             "ticks": ""
            },
            "colorscale": [
             [
              0,
              "#0d0887"
             ],
             [
              0.1111111111111111,
              "#46039f"
             ],
             [
              0.2222222222222222,
              "#7201a8"
             ],
             [
              0.3333333333333333,
              "#9c179e"
             ],
             [
              0.4444444444444444,
              "#bd3786"
             ],
             [
              0.5555555555555556,
              "#d8576b"
             ],
             [
              0.6666666666666666,
              "#ed7953"
             ],
             [
              0.7777777777777778,
              "#fb9f3a"
             ],
             [
              0.8888888888888888,
              "#fdca26"
             ],
             [
              1,
              "#f0f921"
             ]
            ],
            "type": "histogram2d"
           }
          ],
          "histogram2dcontour": [
           {
            "colorbar": {
             "outlinewidth": 0,
             "ticks": ""
            },
            "colorscale": [
             [
              0,
              "#0d0887"
             ],
             [
              0.1111111111111111,
              "#46039f"
             ],
             [
              0.2222222222222222,
              "#7201a8"
             ],
             [
              0.3333333333333333,
              "#9c179e"
             ],
             [
              0.4444444444444444,
              "#bd3786"
             ],
             [
              0.5555555555555556,
              "#d8576b"
             ],
             [
              0.6666666666666666,
              "#ed7953"
             ],
             [
              0.7777777777777778,
              "#fb9f3a"
             ],
             [
              0.8888888888888888,
              "#fdca26"
             ],
             [
              1,
              "#f0f921"
             ]
            ],
            "type": "histogram2dcontour"
           }
          ],
          "mesh3d": [
           {
            "colorbar": {
             "outlinewidth": 0,
             "ticks": ""
            },
            "type": "mesh3d"
           }
          ],
          "parcoords": [
           {
            "line": {
             "colorbar": {
              "outlinewidth": 0,
              "ticks": ""
             }
            },
            "type": "parcoords"
           }
          ],
          "pie": [
           {
            "automargin": true,
            "type": "pie"
           }
          ],
          "scatter": [
           {
            "fillpattern": {
             "fillmode": "overlay",
             "size": 10,
             "solidity": 0.2
            },
            "type": "scatter"
           }
          ],
          "scatter3d": [
           {
            "line": {
             "colorbar": {
              "outlinewidth": 0,
              "ticks": ""
             }
            },
            "marker": {
             "colorbar": {
              "outlinewidth": 0,
              "ticks": ""
             }
            },
            "type": "scatter3d"
           }
          ],
          "scattercarpet": [
           {
            "marker": {
             "colorbar": {
              "outlinewidth": 0,
              "ticks": ""
             }
            },
            "type": "scattercarpet"
           }
          ],
          "scattergeo": [
           {
            "marker": {
             "colorbar": {
              "outlinewidth": 0,
              "ticks": ""
             }
            },
            "type": "scattergeo"
           }
          ],
          "scattergl": [
           {
            "marker": {
             "colorbar": {
              "outlinewidth": 0,
              "ticks": ""
             }
            },
            "type": "scattergl"
           }
          ],
          "scattermapbox": [
           {
            "marker": {
             "colorbar": {
              "outlinewidth": 0,
              "ticks": ""
             }
            },
            "type": "scattermapbox"
           }
          ],
          "scatterpolar": [
           {
            "marker": {
             "colorbar": {
              "outlinewidth": 0,
              "ticks": ""
             }
            },
            "type": "scatterpolar"
           }
          ],
          "scatterpolargl": [
           {
            "marker": {
             "colorbar": {
              "outlinewidth": 0,
              "ticks": ""
             }
            },
            "type": "scatterpolargl"
           }
          ],
          "scatterternary": [
           {
            "marker": {
             "colorbar": {
              "outlinewidth": 0,
              "ticks": ""
             }
            },
            "type": "scatterternary"
           }
          ],
          "surface": [
           {
            "colorbar": {
             "outlinewidth": 0,
             "ticks": ""
            },
            "colorscale": [
             [
              0,
              "#0d0887"
             ],
             [
              0.1111111111111111,
              "#46039f"
             ],
             [
              0.2222222222222222,
              "#7201a8"
             ],
             [
              0.3333333333333333,
              "#9c179e"
             ],
             [
              0.4444444444444444,
              "#bd3786"
             ],
             [
              0.5555555555555556,
              "#d8576b"
             ],
             [
              0.6666666666666666,
              "#ed7953"
             ],
             [
              0.7777777777777778,
              "#fb9f3a"
             ],
             [
              0.8888888888888888,
              "#fdca26"
             ],
             [
              1,
              "#f0f921"
             ]
            ],
            "type": "surface"
           }
          ],
          "table": [
           {
            "cells": {
             "fill": {
              "color": "#EBF0F8"
             },
             "line": {
              "color": "white"
             }
            },
            "header": {
             "fill": {
              "color": "#C8D4E3"
             },
             "line": {
              "color": "white"
             }
            },
            "type": "table"
           }
          ]
         },
         "layout": {
          "annotationdefaults": {
           "arrowcolor": "#2a3f5f",
           "arrowhead": 0,
           "arrowwidth": 1
          },
          "autotypenumbers": "strict",
          "coloraxis": {
           "colorbar": {
            "outlinewidth": 0,
            "ticks": ""
           }
          },
          "colorscale": {
           "diverging": [
            [
             0,
             "#8e0152"
            ],
            [
             0.1,
             "#c51b7d"
            ],
            [
             0.2,
             "#de77ae"
            ],
            [
             0.3,
             "#f1b6da"
            ],
            [
             0.4,
             "#fde0ef"
            ],
            [
             0.5,
             "#f7f7f7"
            ],
            [
             0.6,
             "#e6f5d0"
            ],
            [
             0.7,
             "#b8e186"
            ],
            [
             0.8,
             "#7fbc41"
            ],
            [
             0.9,
             "#4d9221"
            ],
            [
             1,
             "#276419"
            ]
           ],
           "sequential": [
            [
             0,
             "#0d0887"
            ],
            [
             0.1111111111111111,
             "#46039f"
            ],
            [
             0.2222222222222222,
             "#7201a8"
            ],
            [
             0.3333333333333333,
             "#9c179e"
            ],
            [
             0.4444444444444444,
             "#bd3786"
            ],
            [
             0.5555555555555556,
             "#d8576b"
            ],
            [
             0.6666666666666666,
             "#ed7953"
            ],
            [
             0.7777777777777778,
             "#fb9f3a"
            ],
            [
             0.8888888888888888,
             "#fdca26"
            ],
            [
             1,
             "#f0f921"
            ]
           ],
           "sequentialminus": [
            [
             0,
             "#0d0887"
            ],
            [
             0.1111111111111111,
             "#46039f"
            ],
            [
             0.2222222222222222,
             "#7201a8"
            ],
            [
             0.3333333333333333,
             "#9c179e"
            ],
            [
             0.4444444444444444,
             "#bd3786"
            ],
            [
             0.5555555555555556,
             "#d8576b"
            ],
            [
             0.6666666666666666,
             "#ed7953"
            ],
            [
             0.7777777777777778,
             "#fb9f3a"
            ],
            [
             0.8888888888888888,
             "#fdca26"
            ],
            [
             1,
             "#f0f921"
            ]
           ]
          },
          "colorway": [
           "#636efa",
           "#EF553B",
           "#00cc96",
           "#ab63fa",
           "#FFA15A",
           "#19d3f3",
           "#FF6692",
           "#B6E880",
           "#FF97FF",
           "#FECB52"
          ],
          "font": {
           "color": "#2a3f5f"
          },
          "geo": {
           "bgcolor": "white",
           "lakecolor": "white",
           "landcolor": "white",
           "showlakes": true,
           "showland": true,
           "subunitcolor": "#C8D4E3"
          },
          "hoverlabel": {
           "align": "left"
          },
          "hovermode": "closest",
          "mapbox": {
           "style": "light"
          },
          "paper_bgcolor": "white",
          "plot_bgcolor": "white",
          "polar": {
           "angularaxis": {
            "gridcolor": "#EBF0F8",
            "linecolor": "#EBF0F8",
            "ticks": ""
           },
           "bgcolor": "white",
           "radialaxis": {
            "gridcolor": "#EBF0F8",
            "linecolor": "#EBF0F8",
            "ticks": ""
           }
          },
          "scene": {
           "xaxis": {
            "backgroundcolor": "white",
            "gridcolor": "#DFE8F3",
            "gridwidth": 2,
            "linecolor": "#EBF0F8",
            "showbackground": true,
            "ticks": "",
            "zerolinecolor": "#EBF0F8"
           },
           "yaxis": {
            "backgroundcolor": "white",
            "gridcolor": "#DFE8F3",
            "gridwidth": 2,
            "linecolor": "#EBF0F8",
            "showbackground": true,
            "ticks": "",
            "zerolinecolor": "#EBF0F8"
           },
           "zaxis": {
            "backgroundcolor": "white",
            "gridcolor": "#DFE8F3",
            "gridwidth": 2,
            "linecolor": "#EBF0F8",
            "showbackground": true,
            "ticks": "",
            "zerolinecolor": "#EBF0F8"
           }
          },
          "shapedefaults": {
           "line": {
            "color": "#2a3f5f"
           }
          },
          "ternary": {
           "aaxis": {
            "gridcolor": "#DFE8F3",
            "linecolor": "#A2B1C6",
            "ticks": ""
           },
           "baxis": {
            "gridcolor": "#DFE8F3",
            "linecolor": "#A2B1C6",
            "ticks": ""
           },
           "bgcolor": "white",
           "caxis": {
            "gridcolor": "#DFE8F3",
            "linecolor": "#A2B1C6",
            "ticks": ""
           }
          },
          "title": {
           "x": 0.05
          },
          "xaxis": {
           "automargin": true,
           "gridcolor": "#EBF0F8",
           "linecolor": "#EBF0F8",
           "ticks": "",
           "title": {
            "standoff": 15
           },
           "zerolinecolor": "#EBF0F8",
           "zerolinewidth": 2
          },
          "yaxis": {
           "automargin": true,
           "gridcolor": "#EBF0F8",
           "linecolor": "#EBF0F8",
           "ticks": "",
           "title": {
            "standoff": 15
           },
           "zerolinecolor": "#EBF0F8",
           "zerolinewidth": 2
          }
         }
        },
        "title": {
         "text": "Failure Sessions Timeline"
        },
        "xaxis": {
         "anchor": "y",
         "domain": [
          0,
          1
         ],
         "rangeselector": {
          "buttons": [
           {
            "count": 7,
            "label": "1w",
            "step": "day",
            "stepmode": "backward"
           },
           {
            "count": 1,
            "label": "1m",
            "step": "month",
            "stepmode": "backward"
           },
           {
            "count": 3,
            "label": "3m",
            "step": "month",
            "stepmode": "backward"
           },
           {
            "count": 6,
            "label": "6m",
            "step": "month",
            "stepmode": "backward"
           },
           {
            "count": 1,
            "label": "1y",
            "step": "year",
            "stepmode": "backward"
           },
           {
            "step": "all"
           }
          ]
         },
         "rangeslider": {
          "visible": true
         },
         "showgrid": true,
         "type": "date"
        },
        "yaxis": {
         "anchor": "x",
         "autorange": "reversed",
         "categoryarray": [
          "INV 52",
          "INV 61",
          "INV 64",
          "INV 53",
          "INV 55",
          "INV 60",
          "INV 57",
          "INV 63",
          "INV 51",
          "INV 59",
          "INV 58",
          "INV 54",
          "INV 56",
          "INV 62",
          "INV 65",
          "INV 66"
         ],
         "categoryorder": "array",
         "domain": [
          0,
          1
         ],
         "title": {
          "text": "Device"
         }
        }
       }
      }
     },
     "metadata": {},
     "output_type": "display_data"
    }
   ],
   "source": [
    "visualize_failure_timeline(failure_sessions)"
   ]
  },
  {
   "cell_type": "code",
   "execution_count": 6,
   "id": "5fb6ee2e",
   "metadata": {},
   "outputs": [],
   "source": [
    "if performe_visualization:\n",
    "    # Visualize the raw data\n",
    "    visualize_mean_values(inverter_data, failure_sessions, feature_cols, 'visualization', 'raw_data')"
   ]
  },
  {
   "cell_type": "code",
   "execution_count": 7,
   "id": "67c342c2",
   "metadata": {},
   "outputs": [],
   "source": [
    "# remove unused columns\n",
    "filtered_data = inverter_data[['event_local_time', 'device_name'] + feature_cols].copy()"
   ]
  },
  {
   "cell_type": "markdown",
   "id": "7faa25f4",
   "metadata": {},
   "source": [
    "### Anomoly Detection"
   ]
  },
  {
   "cell_type": "code",
   "execution_count": 8,
   "id": "78ad68c7",
   "metadata": {},
   "outputs": [
    {
     "name": "stdout",
     "output_type": "stream",
     "text": [
      "Anomalies in STATUS_AC_MOD_ADMISSION_TEMP removed: 244163\n"
     ]
    }
   ],
   "source": [
    "if \"metric.STATUS_AC_MOD_ADMISSION_TEMP.MEASURED\" in filtered_data.columns:\n",
    "    anomaly_ids = filtered_data[\"metric.STATUS_AC_MOD_ADMISSION_TEMP.MEASURED\"]>=100\n",
    "    filtered_data.loc[anomaly_ids, \"metric.STATUS_AC_MOD_ADMISSION_TEMP.MEASURED\"] = None\n",
    "    print(\"Anomalies in STATUS_AC_MOD_ADMISSION_TEMP removed:\", anomaly_ids.sum())"
   ]
  },
  {
   "cell_type": "markdown",
   "id": "e502018d",
   "metadata": {},
   "source": [
    "### Missing Value Imputation"
   ]
  },
  {
   "cell_type": "code",
   "execution_count": 9,
   "id": "e6b1d156",
   "metadata": {},
   "outputs": [],
   "source": [
    "imputed_df = missing_value_imputation(\n",
    "    filtered_data, feature_cols, \n",
    "    time_col='event_local_time', \n",
    "    device_col='device_name', \n",
    "    short_gap_limit=0, \n",
    "    long_fill_value=0.0, \n",
    "    add_missing_mask=True\n",
    "    )\n",
    "extended_feature_cols = feature_cols+[col+'_missing' for col in feature_cols]"
   ]
  },
  {
   "cell_type": "markdown",
   "id": "9db2330b",
   "metadata": {},
   "source": [
    "### Downsampling"
   ]
  },
  {
   "cell_type": "code",
   "execution_count": 10,
   "id": "90f7584d",
   "metadata": {},
   "outputs": [
    {
     "name": "stdout",
     "output_type": "stream",
     "text": [
      "Downsampling 6126272 rows using following method: \n",
      "                                               Column Aggregation\n",
      "0                       metric.AC_VOLTAGE_AB.MEASURED        mean\n",
      "1                       metric.AC_VOLTAGE_BC.MEASURED        mean\n",
      "2                       metric.AC_VOLTAGE_CA.MEASURED        mean\n",
      "3                          metric.DC_VOLTAGE.MEASURED        mean\n",
      "4                            metric.AC_POWER.MEASURED        mean\n",
      "5               metric.AC_VOLTAGE_AB.MEASURED_missing        mean\n",
      "6               metric.AC_VOLTAGE_BC.MEASURED_missing        mean\n",
      "7               metric.AC_VOLTAGE_CA.MEASURED_missing        mean\n",
      "8                  metric.DC_VOLTAGE.MEASURED_missing        mean\n",
      "9                    metric.AC_POWER.MEASURED_missing        mean\n",
      "10       metric.STATUS_AC_MOD_ADMISSION_TEMP.MEASURED         max\n",
      "11               metric.STATUS_INTERNAL_TEMP.MEASURED         max\n",
      "12  metric.STATUS_AC_MOD_ADMISSION_TEMP.MEASURED_m...        mean\n",
      "13       metric.STATUS_INTERNAL_TEMP.MEASURED_missing        mean\n"
     ]
    }
   ],
   "source": [
    "downsampled_data = downsample_inverter_raw(imputed_df, drop_empty_bins=False)\n",
    "downsampled_data.dropna(inplace=True) # NaN will be generated by downsampling, so we drop them"
   ]
  },
  {
   "cell_type": "code",
   "execution_count": 11,
   "id": "ff47588b",
   "metadata": {},
   "outputs": [],
   "source": [
    "# update stride and window size, because data is downsampled\n",
    "stride = max(int(stride/6), 1)\n",
    "window_size = max(int(window_size/6), 1)"
   ]
  },
  {
   "cell_type": "code",
   "execution_count": 12,
   "id": "b2bd6c11",
   "metadata": {},
   "outputs": [],
   "source": [
    "if performe_visualization:\n",
    "    # Visualize the downsampled data\n",
    "    visualize_mean_values(\n",
    "        downsampled_data, \n",
    "        failure_sessions, \n",
    "        extended_feature_cols, \n",
    "        'visualization', \n",
    "        'downsampled_data',\n",
    "        freq=None\n",
    "    )"
   ]
  },
  {
   "cell_type": "markdown",
   "id": "03ae16f2",
   "metadata": {},
   "source": [
    "### Data Cleaning"
   ]
  },
  {
   "cell_type": "code",
   "execution_count": 13,
   "id": "82857f9d",
   "metadata": {},
   "outputs": [
    {
     "name": "stdout",
     "output_type": "stream",
     "text": [
      "failure_sessions shape: (61, 6)\n",
      "Excluded 2 periods, remaining data size: 47\n",
      "Excluded 2 periods, remaining data size: 47\n",
      "failure_sessions shape: (47, 7)\n"
     ]
    }
   ],
   "source": [
    "print(\"failure_sessions shape:\", failure_sessions.shape)\n",
    "failure_sessions['event_local_time'] = failure_sessions['start_time']\n",
    "filtered_sessions = exclude_periods_from_data(failure_sessions, exclude_periods)\n",
    "filtered_sessions['event_local_time'] = filtered_sessions['end_time']\n",
    "filtered_sessions = exclude_periods_from_data(filtered_sessions, exclude_periods)\n",
    "print(\"failure_sessions shape:\", filtered_sessions .shape)"
   ]
  },
  {
   "cell_type": "code",
   "execution_count": 14,
   "id": "7ecb503b",
   "metadata": {},
   "outputs": [
    {
     "data": {
      "application/vnd.plotly.v1+json": {
       "config": {
        "plotlyServerURL": "https://plot.ly"
       },
       "data": [
        {
         "alignmentgroup": "True",
         "base": [
          "2024-04-25T12:55:00",
          "2025-03-29T13:55:00",
          "2022-08-09T11:10:00",
          "2022-09-10T14:45:00",
          "2022-12-01T11:55:00",
          "2023-01-02T16:40:00",
          "2023-01-14T07:45:00",
          "2023-12-28T15:30:00",
          "2025-04-13T16:10:00",
          "2022-12-22T16:25:00",
          "2023-01-02T15:20:00",
          "2023-01-09T15:20:00",
          "2025-04-23T14:35:00",
          "2024-03-02T10:55:00",
          "2024-08-31T06:30:00",
          "2022-08-26T19:35:00",
          "2022-09-29T09:30:00",
          "2024-02-15T08:10:00",
          "2024-08-23T19:30:00",
          "2024-05-03T09:00:00",
          "2025-06-28T10:20:00",
          "2022-03-03T17:35:00",
          "2022-07-07T15:30:00",
          "2024-02-11T08:10:00",
          "2025-04-27T17:55:00",
          "2022-07-30T20:05:00",
          "2024-08-13T07:05:00"
         ],
         "customdata": [
          [
           1,
           "2024-04-25T12:55:00",
           "2024-04-30T08:00:00",
           115.08333333333333,
           false,
           "Unplanned failure"
          ],
          [
           4,
           "2025-03-29T13:55:00",
           "2025-04-04T12:30:00",
           142.58333333333334,
           false,
           "Unplanned failure"
          ],
          [
           8,
           "2022-08-09T11:10:00",
           "2022-08-12T11:40:00",
           72.5,
           false,
           "Unplanned failure"
          ],
          [
           9,
           "2022-09-10T14:45:00",
           "2022-09-14T07:45:00",
           89,
           false,
           "Unplanned failure"
          ],
          [
           10,
           "2022-12-01T11:55:00",
           "2022-12-06T10:40:00",
           118.75,
           false,
           "Unplanned failure"
          ],
          [
           11,
           "2023-01-02T16:40:00",
           "2023-01-13T11:20:00",
           258.6666666666667,
           false,
           "Unplanned failure"
          ],
          [
           12,
           "2023-01-14T07:45:00",
           "2023-01-26T12:55:00",
           293.1666666666667,
           false,
           "Unplanned failure"
          ],
          [
           14,
           "2023-12-28T15:30:00",
           "2024-01-02T09:05:00",
           113.58333333333333,
           false,
           "Unplanned failure"
          ],
          [
           15,
           "2025-04-13T16:10:00",
           "2025-04-17T10:10:00",
           90,
           false,
           "Unplanned failure"
          ],
          [
           18,
           "2022-12-22T16:25:00",
           "2022-12-26T10:30:00",
           90.08333333333333,
           false,
           "Unplanned failure"
          ],
          [
           20,
           "2023-01-02T15:20:00",
           "2023-01-07T09:40:00",
           114.33333333333333,
           false,
           "Unplanned failure"
          ],
          [
           21,
           "2023-01-09T15:20:00",
           "2023-01-13T11:50:00",
           92.5,
           false,
           "Unplanned failure"
          ],
          [
           22,
           "2025-04-23T14:35:00",
           "2025-05-01T09:05:00",
           186.5,
           false,
           "Unplanned failure"
          ],
          [
           26,
           "2024-03-02T10:55:00",
           "2024-03-06T10:30:00",
           95.58333333333333,
           false,
           "Unplanned failure"
          ],
          [
           28,
           "2024-08-31T06:30:00",
           "2024-09-06T11:10:00",
           148.66666666666666,
           false,
           "Unplanned failure"
          ],
          [
           30,
           "2022-08-26T19:35:00",
           "2022-08-30T09:05:00",
           85.5,
           false,
           "Unplanned failure"
          ],
          [
           31,
           "2022-09-29T09:30:00",
           "2022-11-15T12:25:00",
           1130.9166666666667,
           false,
           "Unplanned failure"
          ],
          [
           35,
           "2024-02-15T08:10:00",
           "2024-02-20T10:20:00",
           122.16666666666667,
           false,
           "Unplanned failure"
          ],
          [
           37,
           "2024-08-23T19:30:00",
           "2024-08-28T12:20:00",
           112.83333333333333,
           false,
           "Unplanned failure"
          ],
          [
           40,
           "2024-05-03T09:00:00",
           "2024-05-09T12:50:00",
           147.83333333333334,
           false,
           "Unplanned failure"
          ],
          [
           44,
           "2025-06-28T10:20:00",
           "2025-07-02T07:35:00",
           93.25,
           false,
           "Unplanned failure"
          ],
          [
           48,
           "2022-03-03T17:35:00",
           "2022-03-07T11:50:00",
           90.25,
           false,
           "Unplanned failure"
          ],
          [
           49,
           "2022-07-07T15:30:00",
           "2022-07-11T12:10:00",
           92.66666666666667,
           false,
           "Unplanned failure"
          ],
          [
           54,
           "2024-02-11T08:10:00",
           "2024-02-15T11:55:00",
           99.75,
           false,
           "Unplanned failure"
          ],
          [
           55,
           "2025-04-27T17:55:00",
           "2025-05-02T12:40:00",
           114.75,
           false,
           "Unplanned failure"
          ],
          [
           57,
           "2022-07-30T20:05:00",
           "2022-08-03T13:20:00",
           89.25,
           false,
           "Unplanned failure"
          ],
          [
           59,
           "2024-08-13T07:05:00",
           "2024-08-16T11:55:00",
           76.83333333333333,
           false,
           "Unplanned failure"
          ]
         ],
         "hovertemplate": "<b>%{y}</b><br>Start: %{customdata[1]|%Y-%m-%d %H:%M}<br>End: %{customdata[2]|%Y-%m-%d %H:%M}<br>Duration (hrs): %{customdata[3]:.2f}<br>",
         "legendgroup": "Unplanned failure",
         "marker": {
          "color": "#2563eb",
          "line": {
           "color": "rgba(30,30,60,0.55)",
           "width": 1.5
          },
          "pattern": {
           "shape": ""
          }
         },
         "name": "Unplanned failure",
         "offsetgroup": "Unplanned failure",
         "opacity": 0.98,
         "orientation": "h",
         "showlegend": true,
         "textposition": "auto",
         "type": "bar",
         "x": [
          414300000,
          513300000,
          261000000,
          320400000,
          427500000,
          931200000,
          1055400000,
          408900000,
          324000000,
          324300000,
          411600000,
          333000000,
          671400000,
          344100000,
          535200000,
          307800000,
          4071300000,
          439800000,
          406200000,
          532200000,
          335700000,
          324900000,
          333600000,
          359100000,
          413100000,
          321300000,
          276600000
         ],
         "xaxis": "x",
         "y": [
          "INV 51",
          "INV 52",
          "INV 54",
          "INV 54",
          "INV 54",
          "INV 54",
          "INV 54",
          "INV 54",
          "INV 54",
          "INV 55",
          "INV 55",
          "INV 55",
          "INV 55",
          "INV 56",
          "INV 57",
          "INV 58",
          "INV 58",
          "INV 59",
          "INV 60",
          "INV 61",
          "INV 62",
          "INV 64",
          "INV 64",
          "INV 65",
          "INV 65",
          "INV 66",
          "INV 66"
         ],
         "yaxis": "y"
        },
        {
         "alignmentgroup": "True",
         "base": [
          "2025-04-20T13:35:00",
          "2022-11-07T06:35:00",
          "2022-08-03T15:50:00",
          "2022-12-26T16:45:00",
          "2025-04-20T11:20:00",
          "2022-11-06T16:50:00",
          "2022-12-26T16:45:00",
          "2022-08-03T15:50:00",
          "2025-04-20T10:35:00",
          "2022-07-28T09:55:00",
          "2025-04-20T11:20:00",
          "2022-11-06T16:50:00",
          "2022-07-28T10:05:00",
          "2025-05-05T10:25:00",
          "2022-12-26T16:45:00",
          "2025-04-20T10:35:00",
          "2022-11-06T16:50:00",
          "2022-07-28T10:05:00",
          "2025-05-05T10:25:00",
          "2025-05-05T10:25:00"
         ],
         "customdata": [
          [
           2,
           "2025-04-20T13:35:00",
           "2025-05-23T15:00:00",
           793.4166666666666,
           false,
           "Planned (maintenance)"
          ],
          [
           3,
           "2022-11-07T06:35:00",
           "2022-11-10T10:05:00",
           75.5,
           false,
           "Planned (maintenance)"
          ],
          [
           5,
           "2022-08-03T15:50:00",
           "2022-08-08T13:35:00",
           117.75,
           false,
           "Planned (maintenance)"
          ],
          [
           6,
           "2022-12-26T16:45:00",
           "2022-12-30T09:10:00",
           88.41666666666667,
           false,
           "Planned (maintenance)"
          ],
          [
           16,
           "2025-04-20T11:20:00",
           "2025-05-11T06:55:00",
           499.5833333333333,
           false,
           "Planned (maintenance)"
          ],
          [
           17,
           "2022-11-06T16:50:00",
           "2022-11-10T10:35:00",
           89.75,
           false,
           "Planned (maintenance)"
          ],
          [
           19,
           "2022-12-26T16:45:00",
           "2022-12-30T09:05:00",
           88.33333333333333,
           false,
           "Planned (maintenance)"
          ],
          [
           23,
           "2022-08-03T15:50:00",
           "2022-08-08T13:25:00",
           117.58333333333333,
           false,
           "Planned (maintenance)"
          ],
          [
           29,
           "2025-04-20T10:35:00",
           "2025-05-11T06:55:00",
           500.3333333333333,
           false,
           "Planned (maintenance)"
          ],
          [
           33,
           "2022-07-28T09:55:00",
           "2022-08-16T17:00:00",
           463.0833333333333,
           false,
           "Planned (maintenance)"
          ],
          [
           38,
           "2025-04-20T11:20:00",
           "2025-05-11T06:55:00",
           499.5833333333333,
           false,
           "Planned (maintenance)"
          ],
          [
           39,
           "2022-11-06T16:50:00",
           "2022-11-10T11:05:00",
           90.25,
           false,
           "Planned (maintenance)"
          ],
          [
           41,
           "2022-07-28T10:05:00",
           "2022-08-16T12:55:00",
           458.8333333333333,
           false,
           "Planned (maintenance)"
          ],
          [
           43,
           "2025-05-05T10:25:00",
           "2025-06-03T11:00:00",
           696.5833333333334,
           false,
           "Planned (maintenance)"
          ],
          [
           45,
           "2022-12-26T16:45:00",
           "2022-12-30T09:10:00",
           88.41666666666667,
           false,
           "Planned (maintenance)"
          ],
          [
           47,
           "2025-04-20T10:35:00",
           "2025-05-11T07:15:00",
           500.6666666666667,
           false,
           "Planned (maintenance)"
          ],
          [
           50,
           "2022-11-06T16:50:00",
           "2022-11-10T11:15:00",
           90.41666666666667,
           false,
           "Planned (maintenance)"
          ],
          [
           51,
           "2022-07-28T10:05:00",
           "2022-09-29T08:20:00",
           1510.25,
           false,
           "Planned (maintenance)"
          ],
          [
           56,
           "2025-05-05T10:25:00",
           "2025-05-28T12:10:00",
           553.75,
           false,
           "Planned (maintenance)"
          ],
          [
           60,
           "2025-05-05T10:25:00",
           "2025-05-28T05:50:00",
           547.4166666666666,
           false,
           "Planned (maintenance)"
          ]
         ],
         "hovertemplate": "<b>%{y}</b><br>Start: %{customdata[1]|%Y-%m-%d %H:%M}<br>End: %{customdata[2]|%Y-%m-%d %H:%M}<br>Duration (hrs): %{customdata[3]:.2f}<br>",
         "legendgroup": "Planned (maintenance)",
         "marker": {
          "color": "#6b7280",
          "line": {
           "color": "rgba(30,30,60,0.55)",
           "width": 1.5
          },
          "pattern": {
           "shape": ""
          }
         },
         "name": "Planned (maintenance)",
         "offsetgroup": "Planned (maintenance)",
         "opacity": 0.98,
         "orientation": "h",
         "showlegend": true,
         "textposition": "auto",
         "type": "bar",
         "x": [
          2856300000,
          271800000,
          423900000,
          318300000,
          1798500000,
          323100000,
          318000000,
          423300000,
          1801200000,
          1667100000,
          1798500000,
          324900000,
          1651800000,
          2507700000,
          318300000,
          1802400000,
          325500000,
          5436900000,
          1993500000,
          1970700000
         ],
         "xaxis": "x",
         "y": [
          "INV 51",
          "INV 52",
          "INV 53",
          "INV 53",
          "INV 54",
          "INV 55",
          "INV 55",
          "INV 56",
          "INV 57",
          "INV 59",
          "INV 60",
          "INV 61",
          "INV 62",
          "INV 62",
          "INV 63",
          "INV 63",
          "INV 64",
          "INV 65",
          "INV 65",
          "INV 66"
         ],
         "yaxis": "y"
        }
       ],
       "layout": {
        "bargap": 0.25,
        "barmode": "overlay",
        "height": 620,
        "legend": {
         "title": {
          "text": "Event Type"
         },
         "tracegroupgap": 0
        },
        "margin": {
         "b": 40,
         "l": 70,
         "r": 30,
         "t": 60
        },
        "template": {
         "data": {
          "bar": [
           {
            "error_x": {
             "color": "#2a3f5f"
            },
            "error_y": {
             "color": "#2a3f5f"
            },
            "marker": {
             "line": {
              "color": "white",
              "width": 0.5
             },
             "pattern": {
              "fillmode": "overlay",
              "size": 10,
              "solidity": 0.2
             }
            },
            "type": "bar"
           }
          ],
          "barpolar": [
           {
            "marker": {
             "line": {
              "color": "white",
              "width": 0.5
             },
             "pattern": {
              "fillmode": "overlay",
              "size": 10,
              "solidity": 0.2
             }
            },
            "type": "barpolar"
           }
          ],
          "carpet": [
           {
            "aaxis": {
             "endlinecolor": "#2a3f5f",
             "gridcolor": "#C8D4E3",
             "linecolor": "#C8D4E3",
             "minorgridcolor": "#C8D4E3",
             "startlinecolor": "#2a3f5f"
            },
            "baxis": {
             "endlinecolor": "#2a3f5f",
             "gridcolor": "#C8D4E3",
             "linecolor": "#C8D4E3",
             "minorgridcolor": "#C8D4E3",
             "startlinecolor": "#2a3f5f"
            },
            "type": "carpet"
           }
          ],
          "choropleth": [
           {
            "colorbar": {
             "outlinewidth": 0,
             "ticks": ""
            },
            "type": "choropleth"
           }
          ],
          "contour": [
           {
            "colorbar": {
             "outlinewidth": 0,
             "ticks": ""
            },
            "colorscale": [
             [
              0,
              "#0d0887"
             ],
             [
              0.1111111111111111,
              "#46039f"
             ],
             [
              0.2222222222222222,
              "#7201a8"
             ],
             [
              0.3333333333333333,
              "#9c179e"
             ],
             [
              0.4444444444444444,
              "#bd3786"
             ],
             [
              0.5555555555555556,
              "#d8576b"
             ],
             [
              0.6666666666666666,
              "#ed7953"
             ],
             [
              0.7777777777777778,
              "#fb9f3a"
             ],
             [
              0.8888888888888888,
              "#fdca26"
             ],
             [
              1,
              "#f0f921"
             ]
            ],
            "type": "contour"
           }
          ],
          "contourcarpet": [
           {
            "colorbar": {
             "outlinewidth": 0,
             "ticks": ""
            },
            "type": "contourcarpet"
           }
          ],
          "heatmap": [
           {
            "colorbar": {
             "outlinewidth": 0,
             "ticks": ""
            },
            "colorscale": [
             [
              0,
              "#0d0887"
             ],
             [
              0.1111111111111111,
              "#46039f"
             ],
             [
              0.2222222222222222,
              "#7201a8"
             ],
             [
              0.3333333333333333,
              "#9c179e"
             ],
             [
              0.4444444444444444,
              "#bd3786"
             ],
             [
              0.5555555555555556,
              "#d8576b"
             ],
             [
              0.6666666666666666,
              "#ed7953"
             ],
             [
              0.7777777777777778,
              "#fb9f3a"
             ],
             [
              0.8888888888888888,
              "#fdca26"
             ],
             [
              1,
              "#f0f921"
             ]
            ],
            "type": "heatmap"
           }
          ],
          "heatmapgl": [
           {
            "colorbar": {
             "outlinewidth": 0,
             "ticks": ""
            },
            "colorscale": [
             [
              0,
              "#0d0887"
             ],
             [
              0.1111111111111111,
              "#46039f"
             ],
             [
              0.2222222222222222,
              "#7201a8"
             ],
             [
              0.3333333333333333,
              "#9c179e"
             ],
             [
              0.4444444444444444,
              "#bd3786"
             ],
             [
              0.5555555555555556,
              "#d8576b"
             ],
             [
              0.6666666666666666,
              "#ed7953"
             ],
             [
              0.7777777777777778,
              "#fb9f3a"
             ],
             [
              0.8888888888888888,
              "#fdca26"
             ],
             [
              1,
              "#f0f921"
             ]
            ],
            "type": "heatmapgl"
           }
          ],
          "histogram": [
           {
            "marker": {
             "pattern": {
              "fillmode": "overlay",
              "size": 10,
              "solidity": 0.2
             }
            },
            "type": "histogram"
           }
          ],
          "histogram2d": [
           {
            "colorbar": {
             "outlinewidth": 0,
             "ticks": ""
            },
            "colorscale": [
             [
              0,
              "#0d0887"
             ],
             [
              0.1111111111111111,
              "#46039f"
             ],
             [
              0.2222222222222222,
              "#7201a8"
             ],
             [
              0.3333333333333333,
              "#9c179e"
             ],
             [
              0.4444444444444444,
              "#bd3786"
             ],
             [
              0.5555555555555556,
              "#d8576b"
             ],
             [
              0.6666666666666666,
              "#ed7953"
             ],
             [
              0.7777777777777778,
              "#fb9f3a"
             ],
             [
              0.8888888888888888,
              "#fdca26"
             ],
             [
              1,
              "#f0f921"
             ]
            ],
            "type": "histogram2d"
           }
          ],
          "histogram2dcontour": [
           {
            "colorbar": {
             "outlinewidth": 0,
             "ticks": ""
            },
            "colorscale": [
             [
              0,
              "#0d0887"
             ],
             [
              0.1111111111111111,
              "#46039f"
             ],
             [
              0.2222222222222222,
              "#7201a8"
             ],
             [
              0.3333333333333333,
              "#9c179e"
             ],
             [
              0.4444444444444444,
              "#bd3786"
             ],
             [
              0.5555555555555556,
              "#d8576b"
             ],
             [
              0.6666666666666666,
              "#ed7953"
             ],
             [
              0.7777777777777778,
              "#fb9f3a"
             ],
             [
              0.8888888888888888,
              "#fdca26"
             ],
             [
              1,
              "#f0f921"
             ]
            ],
            "type": "histogram2dcontour"
           }
          ],
          "mesh3d": [
           {
            "colorbar": {
             "outlinewidth": 0,
             "ticks": ""
            },
            "type": "mesh3d"
           }
          ],
          "parcoords": [
           {
            "line": {
             "colorbar": {
              "outlinewidth": 0,
              "ticks": ""
             }
            },
            "type": "parcoords"
           }
          ],
          "pie": [
           {
            "automargin": true,
            "type": "pie"
           }
          ],
          "scatter": [
           {
            "fillpattern": {
             "fillmode": "overlay",
             "size": 10,
             "solidity": 0.2
            },
            "type": "scatter"
           }
          ],
          "scatter3d": [
           {
            "line": {
             "colorbar": {
              "outlinewidth": 0,
              "ticks": ""
             }
            },
            "marker": {
             "colorbar": {
              "outlinewidth": 0,
              "ticks": ""
             }
            },
            "type": "scatter3d"
           }
          ],
          "scattercarpet": [
           {
            "marker": {
             "colorbar": {
              "outlinewidth": 0,
              "ticks": ""
             }
            },
            "type": "scattercarpet"
           }
          ],
          "scattergeo": [
           {
            "marker": {
             "colorbar": {
              "outlinewidth": 0,
              "ticks": ""
             }
            },
            "type": "scattergeo"
           }
          ],
          "scattergl": [
           {
            "marker": {
             "colorbar": {
              "outlinewidth": 0,
              "ticks": ""
             }
            },
            "type": "scattergl"
           }
          ],
          "scattermapbox": [
           {
            "marker": {
             "colorbar": {
              "outlinewidth": 0,
              "ticks": ""
             }
            },
            "type": "scattermapbox"
           }
          ],
          "scatterpolar": [
           {
            "marker": {
             "colorbar": {
              "outlinewidth": 0,
              "ticks": ""
             }
            },
            "type": "scatterpolar"
           }
          ],
          "scatterpolargl": [
           {
            "marker": {
             "colorbar": {
              "outlinewidth": 0,
              "ticks": ""
             }
            },
            "type": "scatterpolargl"
           }
          ],
          "scatterternary": [
           {
            "marker": {
             "colorbar": {
              "outlinewidth": 0,
              "ticks": ""
             }
            },
            "type": "scatterternary"
           }
          ],
          "surface": [
           {
            "colorbar": {
             "outlinewidth": 0,
             "ticks": ""
            },
            "colorscale": [
             [
              0,
              "#0d0887"
             ],
             [
              0.1111111111111111,
              "#46039f"
             ],
             [
              0.2222222222222222,
              "#7201a8"
             ],
             [
              0.3333333333333333,
              "#9c179e"
             ],
             [
              0.4444444444444444,
              "#bd3786"
             ],
             [
              0.5555555555555556,
              "#d8576b"
             ],
             [
              0.6666666666666666,
              "#ed7953"
             ],
             [
              0.7777777777777778,
              "#fb9f3a"
             ],
             [
              0.8888888888888888,
              "#fdca26"
             ],
             [
              1,
              "#f0f921"
             ]
            ],
            "type": "surface"
           }
          ],
          "table": [
           {
            "cells": {
             "fill": {
              "color": "#EBF0F8"
             },
             "line": {
              "color": "white"
             }
            },
            "header": {
             "fill": {
              "color": "#C8D4E3"
             },
             "line": {
              "color": "white"
             }
            },
            "type": "table"
           }
          ]
         },
         "layout": {
          "annotationdefaults": {
           "arrowcolor": "#2a3f5f",
           "arrowhead": 0,
           "arrowwidth": 1
          },
          "autotypenumbers": "strict",
          "coloraxis": {
           "colorbar": {
            "outlinewidth": 0,
            "ticks": ""
           }
          },
          "colorscale": {
           "diverging": [
            [
             0,
             "#8e0152"
            ],
            [
             0.1,
             "#c51b7d"
            ],
            [
             0.2,
             "#de77ae"
            ],
            [
             0.3,
             "#f1b6da"
            ],
            [
             0.4,
             "#fde0ef"
            ],
            [
             0.5,
             "#f7f7f7"
            ],
            [
             0.6,
             "#e6f5d0"
            ],
            [
             0.7,
             "#b8e186"
            ],
            [
             0.8,
             "#7fbc41"
            ],
            [
             0.9,
             "#4d9221"
            ],
            [
             1,
             "#276419"
            ]
           ],
           "sequential": [
            [
             0,
             "#0d0887"
            ],
            [
             0.1111111111111111,
             "#46039f"
            ],
            [
             0.2222222222222222,
             "#7201a8"
            ],
            [
             0.3333333333333333,
             "#9c179e"
            ],
            [
             0.4444444444444444,
             "#bd3786"
            ],
            [
             0.5555555555555556,
             "#d8576b"
            ],
            [
             0.6666666666666666,
             "#ed7953"
            ],
            [
             0.7777777777777778,
             "#fb9f3a"
            ],
            [
             0.8888888888888888,
             "#fdca26"
            ],
            [
             1,
             "#f0f921"
            ]
           ],
           "sequentialminus": [
            [
             0,
             "#0d0887"
            ],
            [
             0.1111111111111111,
             "#46039f"
            ],
            [
             0.2222222222222222,
             "#7201a8"
            ],
            [
             0.3333333333333333,
             "#9c179e"
            ],
            [
             0.4444444444444444,
             "#bd3786"
            ],
            [
             0.5555555555555556,
             "#d8576b"
            ],
            [
             0.6666666666666666,
             "#ed7953"
            ],
            [
             0.7777777777777778,
             "#fb9f3a"
            ],
            [
             0.8888888888888888,
             "#fdca26"
            ],
            [
             1,
             "#f0f921"
            ]
           ]
          },
          "colorway": [
           "#636efa",
           "#EF553B",
           "#00cc96",
           "#ab63fa",
           "#FFA15A",
           "#19d3f3",
           "#FF6692",
           "#B6E880",
           "#FF97FF",
           "#FECB52"
          ],
          "font": {
           "color": "#2a3f5f"
          },
          "geo": {
           "bgcolor": "white",
           "lakecolor": "white",
           "landcolor": "white",
           "showlakes": true,
           "showland": true,
           "subunitcolor": "#C8D4E3"
          },
          "hoverlabel": {
           "align": "left"
          },
          "hovermode": "closest",
          "mapbox": {
           "style": "light"
          },
          "paper_bgcolor": "white",
          "plot_bgcolor": "white",
          "polar": {
           "angularaxis": {
            "gridcolor": "#EBF0F8",
            "linecolor": "#EBF0F8",
            "ticks": ""
           },
           "bgcolor": "white",
           "radialaxis": {
            "gridcolor": "#EBF0F8",
            "linecolor": "#EBF0F8",
            "ticks": ""
           }
          },
          "scene": {
           "xaxis": {
            "backgroundcolor": "white",
            "gridcolor": "#DFE8F3",
            "gridwidth": 2,
            "linecolor": "#EBF0F8",
            "showbackground": true,
            "ticks": "",
            "zerolinecolor": "#EBF0F8"
           },
           "yaxis": {
            "backgroundcolor": "white",
            "gridcolor": "#DFE8F3",
            "gridwidth": 2,
            "linecolor": "#EBF0F8",
            "showbackground": true,
            "ticks": "",
            "zerolinecolor": "#EBF0F8"
           },
           "zaxis": {
            "backgroundcolor": "white",
            "gridcolor": "#DFE8F3",
            "gridwidth": 2,
            "linecolor": "#EBF0F8",
            "showbackground": true,
            "ticks": "",
            "zerolinecolor": "#EBF0F8"
           }
          },
          "shapedefaults": {
           "line": {
            "color": "#2a3f5f"
           }
          },
          "ternary": {
           "aaxis": {
            "gridcolor": "#DFE8F3",
            "linecolor": "#A2B1C6",
            "ticks": ""
           },
           "baxis": {
            "gridcolor": "#DFE8F3",
            "linecolor": "#A2B1C6",
            "ticks": ""
           },
           "bgcolor": "white",
           "caxis": {
            "gridcolor": "#DFE8F3",
            "linecolor": "#A2B1C6",
            "ticks": ""
           }
          },
          "title": {
           "x": 0.05
          },
          "xaxis": {
           "automargin": true,
           "gridcolor": "#EBF0F8",
           "linecolor": "#EBF0F8",
           "ticks": "",
           "title": {
            "standoff": 15
           },
           "zerolinecolor": "#EBF0F8",
           "zerolinewidth": 2
          },
          "yaxis": {
           "automargin": true,
           "gridcolor": "#EBF0F8",
           "linecolor": "#EBF0F8",
           "ticks": "",
           "title": {
            "standoff": 15
           },
           "zerolinecolor": "#EBF0F8",
           "zerolinewidth": 2
          }
         }
        },
        "title": {
         "text": "Failure Sessions Timeline"
        },
        "xaxis": {
         "anchor": "y",
         "domain": [
          0,
          1
         ],
         "rangeselector": {
          "buttons": [
           {
            "count": 7,
            "label": "1w",
            "step": "day",
            "stepmode": "backward"
           },
           {
            "count": 1,
            "label": "1m",
            "step": "month",
            "stepmode": "backward"
           },
           {
            "count": 3,
            "label": "3m",
            "step": "month",
            "stepmode": "backward"
           },
           {
            "count": 6,
            "label": "6m",
            "step": "month",
            "stepmode": "backward"
           },
           {
            "count": 1,
            "label": "1y",
            "step": "year",
            "stepmode": "backward"
           },
           {
            "step": "all"
           }
          ]
         },
         "rangeslider": {
          "visible": true
         },
         "showgrid": true,
         "type": "date"
        },
        "yaxis": {
         "anchor": "x",
         "autorange": "reversed",
         "categoryarray": [
          "INV 53",
          "INV 56",
          "INV 52",
          "INV 61",
          "INV 64",
          "INV 59",
          "INV 63",
          "INV 60",
          "INV 57",
          "INV 55",
          "INV 66",
          "INV 51",
          "INV 58",
          "INV 62",
          "INV 54",
          "INV 65"
         ],
         "categoryorder": "array",
         "domain": [
          0,
          1
         ],
         "title": {
          "text": "Device"
         }
        }
       }
      }
     },
     "metadata": {},
     "output_type": "display_data"
    }
   ],
   "source": [
    "visualize_failure_timeline(filtered_sessions)"
   ]
  },
  {
   "cell_type": "code",
   "execution_count": 15,
   "id": "995240da",
   "metadata": {},
   "outputs": [
    {
     "name": "stdout",
     "output_type": "stream",
     "text": [
      "inverter_data shape: (1021056, 16)\n",
      "Excluded 2 periods, remaining data size: 862112\n",
      "Excluded data shape: (862112, 16)\n"
     ]
    }
   ],
   "source": [
    "print(\"inverter_data shape:\", downsampled_data.shape)\n",
    "downsampled_data = exclude_periods_from_data(downsampled_data, exclude_periods)\n",
    "print(\"Excluded data shape:\", downsampled_data.shape)"
   ]
  },
  {
   "cell_type": "markdown",
   "id": "c7979e30",
   "metadata": {},
   "source": [
    "### Data Labeling"
   ]
  },
  {
   "cell_type": "code",
   "execution_count": 16,
   "id": "c262cba8",
   "metadata": {},
   "outputs": [
    {
     "name": "stdout",
     "output_type": "stream",
     "text": [
      "Total pre-failure rows: 6064\n",
      "Total rows: 837811\n"
     ]
    }
   ],
   "source": [
    "downsampled_data = prepare_dataset(downsampled_data, failure_sessions, pre_days=pre_day)"
   ]
  },
  {
   "cell_type": "markdown",
   "id": "84b48cdb",
   "metadata": {},
   "source": [
    "### Feature Engineering"
   ]
  },
  {
   "cell_type": "code",
   "execution_count": 17,
   "id": "9bf59730",
   "metadata": {},
   "outputs": [],
   "source": [
    "# month_of_year 範圍 1~12\n",
    "downsampled_data['month_sin'] = np.sin(2 * np.pi * downsampled_data['event_local_time'].dt.month / 12)\n",
    "downsampled_data['month_cos'] = np.cos(2 * np.pi * downsampled_data['event_local_time'].dt.month / 12)\n",
    "\n",
    "# 如果還有 hour_of_day (0~23) 也可以同理轉\n",
    "downsampled_data['hour_sin'] = np.sin(2 * np.pi * downsampled_data['event_local_time'].dt.hour / 24)\n",
    "downsampled_data['hour_cos'] = np.cos(2 * np.pi * downsampled_data['event_local_time'].dt.hour / 24)\n",
    "\n",
    "extended_feature_cols += ['hour_sin', 'hour_cos', 'month_sin', 'month_cos']"
   ]
  },
  {
   "cell_type": "code",
   "execution_count": 18,
   "id": "d27b4c0a",
   "metadata": {},
   "outputs": [],
   "source": [
    "if performe_visualization:\n",
    "    visualize_mean_values(downsampled_data, failure_sessions, extended_feature_cols+['label'], \n",
    "                                title='processed_data', freq=None)"
   ]
  },
  {
   "cell_type": "markdown",
   "id": "b181af6b",
   "metadata": {},
   "source": [
    "### Split Dataset"
   ]
  },
  {
   "cell_type": "code",
   "execution_count": 19,
   "id": "77c351da",
   "metadata": {},
   "outputs": [],
   "source": [
    "split_time = [pd.Timestamp('2024-06-30'), pd.Timestamp('2025-01-01')]\n",
    "\n",
    "\n",
    "train_df = downsampled_data[downsampled_data['event_local_time'] <= split_time[0]].copy()\n",
    "val_df = downsampled_data[(downsampled_data['event_local_time'] > split_time[0]) & (downsampled_data['event_local_time'] <= split_time[1])].copy()\n",
    "test_df = downsampled_data[downsampled_data['event_local_time'] > split_time[1]].copy()"
   ]
  },
  {
   "cell_type": "code",
   "execution_count": 20,
   "id": "c36b0239",
   "metadata": {},
   "outputs": [
    {
     "name": "stdout",
     "output_type": "stream",
     "text": [
      "train set period: 2021-12-24 00:00:00 2024-06-30 00:00:00\n",
      "validation set period: 2024-06-30 00:30:00 2025-01-01 00:00:00\n",
      "test set period: 2025-01-01 00:30:00 2025-07-23 23:30:00\n"
     ]
    }
   ],
   "source": [
    "print('train set period:', train_df['event_local_time'].min(), train_df['event_local_time'].max())\n",
    "print('validation set period:', val_df['event_local_time'].min(), val_df['event_local_time'].max())\n",
    "print('test set period:', test_df['event_local_time'].min(), test_df['event_local_time'].max())"
   ]
  },
  {
   "cell_type": "code",
   "execution_count": 21,
   "id": "9bdb5f36",
   "metadata": {},
   "outputs": [
    {
     "data": {
      "text/plain": [
       "['metric.STATUS_AC_MOD_ADMISSION_TEMP.MEASURED',\n",
       " 'metric.STATUS_INTERNAL_TEMP.MEASURED',\n",
       " 'metric.AC_VOLTAGE_AB.MEASURED',\n",
       " 'metric.AC_VOLTAGE_BC.MEASURED',\n",
       " 'metric.AC_VOLTAGE_CA.MEASURED',\n",
       " 'metric.DC_VOLTAGE.MEASURED',\n",
       " 'metric.AC_POWER.MEASURED',\n",
       " 'metric.STATUS_AC_MOD_ADMISSION_TEMP.MEASURED_missing',\n",
       " 'metric.STATUS_INTERNAL_TEMP.MEASURED_missing',\n",
       " 'metric.AC_VOLTAGE_AB.MEASURED_missing',\n",
       " 'metric.AC_VOLTAGE_BC.MEASURED_missing',\n",
       " 'metric.AC_VOLTAGE_CA.MEASURED_missing',\n",
       " 'metric.DC_VOLTAGE.MEASURED_missing',\n",
       " 'metric.AC_POWER.MEASURED_missing',\n",
       " 'hour_sin',\n",
       " 'hour_cos',\n",
       " 'month_sin',\n",
       " 'month_cos']"
      ]
     },
     "execution_count": 21,
     "metadata": {},
     "output_type": "execute_result"
    }
   ],
   "source": [
    "extended_feature_cols"
   ]
  },
  {
   "cell_type": "markdown",
   "id": "777fd02b",
   "metadata": {},
   "source": [
    "### Standardization"
   ]
  },
  {
   "cell_type": "code",
   "execution_count": 22,
   "id": "cbde8f9f",
   "metadata": {},
   "outputs": [],
   "source": [
    "from sklearn.preprocessing import StandardScaler\n",
    "feature_to_standardize = feature_cols\n",
    "scaler = StandardScaler()\n",
    "train_df[feature_to_standardize] = scaler.fit_transform(train_df[feature_to_standardize])\n",
    "val_df[feature_to_standardize] = scaler.transform(val_df[feature_to_standardize])\n",
    "test_df[feature_to_standardize] = scaler.transform(test_df[feature_to_standardize])"
   ]
  },
  {
   "cell_type": "code",
   "execution_count": 23,
   "id": "c2ce625e",
   "metadata": {},
   "outputs": [],
   "source": [
    "if performe_visualization:\n",
    "    visualize_mean_values(train_df, failure_sessions, extended_feature_cols+['label'], \n",
    "                                 'visualization', 'train_data', freq=None)\n",
    "    visualize_mean_values(val_df, failure_sessions, extended_feature_cols+['label'], \n",
    "                                 'visualization', 'val_data', freq=None)\n",
    "    visualize_mean_values(test_df, failure_sessions, extended_feature_cols+['label'],\n",
    "                                    'visualization', 'test_data', freq=None)"
   ]
  },
  {
   "cell_type": "markdown",
   "id": "3c9b4875",
   "metadata": {},
   "source": [
    "### Create Dataset/Data Loader"
   ]
  },
  {
   "cell_type": "code",
   "execution_count": 24,
   "id": "89be8408",
   "metadata": {},
   "outputs": [
    {
     "name": "stderr",
     "output_type": "stream",
     "text": [
      "Processing devices: 100%|██████████| 16/16 [00:01<00:00, 13.10it/s]\n",
      "Processing devices: 100%|██████████| 16/16 [00:01<00:00, 14.90it/s]\n",
      "Processing devices: 100%|██████████| 16/16 [00:00<00:00, 20.40it/s]\n"
     ]
    }
   ],
   "source": [
    "from torch.utils.data import DataLoader\n",
    "\n",
    "train_ds = InverterTimeSeriesDataset.from_dataframe(train_df, extended_feature_cols, window_size=window_size, stride=stride)\n",
    "val_ds   = InverterTimeSeriesDataset.from_dataframe(val_df,   extended_feature_cols, window_size=window_size, stride=stride)\n",
    "test_ds  = InverterTimeSeriesDataset.from_dataframe(test_df,  extended_feature_cols, window_size=window_size, stride=stride)"
   ]
  },
  {
   "cell_type": "code",
   "execution_count": 25,
   "id": "6e127b2e",
   "metadata": {},
   "outputs": [
    {
     "name": "stdout",
     "output_type": "stream",
     "text": [
      "train_ds.X.shape: torch.Size([257179, 336, 18])\n",
      "val_ds.X.shape: torch.Size([67528, 336, 18])\n",
      "test_ds.X.shape: torch.Size([65757, 336, 18])\n"
     ]
    }
   ],
   "source": [
    "# information of datasets\n",
    "print(\"train_ds.X.shape:\", train_ds.X.shape)\n",
    "print(\"val_ds.X.shape:\", val_ds.X.shape)\n",
    "print(\"test_ds.X.shape:\", test_ds.X.shape)"
   ]
  },
  {
   "cell_type": "code",
   "execution_count": 26,
   "id": "dc679b9d",
   "metadata": {},
   "outputs": [
    {
     "data": {
      "text/plain": [
       "(0.0    255259\n",
       " 1.0      1920\n",
       " dtype: int64,\n",
       " 0.0    67168\n",
       " 1.0      360\n",
       " dtype: int64,\n",
       " 0.0    65157\n",
       " 1.0      600\n",
       " dtype: int64)"
      ]
     },
     "execution_count": 26,
     "metadata": {},
     "output_type": "execute_result"
    }
   ],
   "source": [
    "pd.value_counts(train_ds.y.numpy()), pd.value_counts(val_ds.y.numpy()), pd.value_counts(test_ds.y.numpy())"
   ]
  },
  {
   "cell_type": "code",
   "execution_count": 27,
   "id": "61de5600",
   "metadata": {},
   "outputs": [],
   "source": [
    "import numpy as np\n",
    "import torch\n",
    "from torch.utils.data import DataLoader, WeightedRandomSampler\n",
    "\n",
    "# 取出標籤（假設 train_ds.y 是 0/1 的 torch.tensor）\n",
    "y = train_ds.y.cpu().numpy()\n",
    "assert set(np.unique(y)).issubset({0,1}), \"train_ds 應只有 0/1 標籤\"\n",
    "\n",
    "num_pos = int((y == 1).sum())\n",
    "num_neg = int((y == 0).sum())\n",
    "p_target = 0.25  # 你可以之後調 0.2~0.35\n",
    "\n",
    "# 權重：讓期望抽樣比例 ≈ p_target\n",
    "w_pos = p_target / max(num_pos, 1)\n",
    "w_neg = (1.0 - p_target) / max(num_neg, 1)\n",
    "sample_weights = np.where(y == 1, w_pos, w_neg).astype(np.float64)\n",
    "sample_weights = torch.from_numpy(sample_weights)\n",
    "\n",
    "balanced_sampler = WeightedRandomSampler(\n",
    "    weights=sample_weights,\n",
    "    num_samples=len(sample_weights),  # 每個 epoch 跑滿步數\n",
    "    replacement=True\n",
    ")"
   ]
  },
  {
   "cell_type": "code",
   "execution_count": 28,
   "id": "b204cf86",
   "metadata": {},
   "outputs": [],
   "source": [
    "train_loader = DataLoader(\n",
    "    train_ds,\n",
    "    batch_size=512,         # 或你的 GPU 極限\n",
    "    sampler=balanced_sampler,\n",
    "    num_workers=8,\n",
    "    pin_memory=True,\n",
    "    drop_last=True\n",
    ")\n",
    "\n",
    "val_loader = DataLoader(val_ds, batch_size=1024, shuffle=False, num_workers=8, pin_memory=True)\n",
    "test_loader = DataLoader(test_ds, batch_size=1024, shuffle=False, num_workers=8, pin_memory=True)"
   ]
  },
  {
   "cell_type": "markdown",
   "id": "6bc7c875",
   "metadata": {},
   "source": [
    "## Train Model"
   ]
  },
  {
   "cell_type": "code",
   "execution_count": 29,
   "id": "453fccc1",
   "metadata": {},
   "outputs": [],
   "source": [
    "import torch.nn as nn\n",
    "import torch.nn.functional as F\n",
    "\n",
    "class FocalLoss(nn.Module):\n",
    "    def __init__(self, alpha=0.75, gamma=2.0, reduction='mean'):\n",
    "        super().__init__()\n",
    "        self.alpha = alpha\n",
    "        self.gamma = gamma\n",
    "        self.reduction = reduction\n",
    "    def forward(self, logits, targets):\n",
    "        # logits: (B,1) raw; targets: (B,1) {0,1}\n",
    "        bce = F.binary_cross_entropy_with_logits(logits, targets, reduction='none')\n",
    "        p = torch.sigmoid(logits).clamp(1e-6, 1-1e-6)\n",
    "        pt = p*targets + (1-p)*(1-targets)\n",
    "        w = self.alpha*targets + (1-self.alpha)*(1-targets)\n",
    "        loss = w * (1-pt).pow(self.gamma) * bce\n",
    "        return loss.mean() if self.reduction=='mean' else loss.sum()\n",
    "\n",
    "criterion = FocalLoss(alpha=0.75, gamma=2.0)\n",
    "# 如果改用 BCE：\n",
    "# criterion = nn.BCEWithLogitsLoss(pos_weight=torch.tensor([1.2], device=device))\n"
   ]
  },
  {
   "cell_type": "code",
   "execution_count": 30,
   "id": "ac4316e3",
   "metadata": {},
   "outputs": [],
   "source": [
    "model = CNNLSTMModel(\n",
    "    num_features=len(extended_feature_cols),\n",
    "    cnn_out_channels=64,   # 32 → 64\n",
    "    lstm_hidden_size=128,  # 64 → 128\n",
    "    lstm_layers=2,         # 1 → 2\n",
    "    dropout=0.3\n",
    ")"
   ]
  },
  {
   "cell_type": "code",
   "execution_count": 31,
   "id": "5a9f9a4f",
   "metadata": {},
   "outputs": [],
   "source": [
    "import math\n",
    "from torch.optim import AdamW\n",
    "\n",
    "optimizer = AdamW(model.parameters(), lr=3e-4, weight_decay=1e-4)\n",
    "\n",
    "steps_per_epoch = len(train_loader)\n",
    "max_epochs = 30\n",
    "total_steps = steps_per_epoch * max_epochs\n",
    "warmup_steps = max(1, int(total_steps * 0.05))\n",
    "\n",
    "def lr_lambda(current_step):\n",
    "    if current_step < warmup_steps:\n",
    "        return float(current_step) / float(max(1, warmup_steps))\n",
    "    progress = (current_step - warmup_steps) / float(max(1, total_steps - warmup_steps))\n",
    "    cosine = 0.5 * (1.0 + math.cos(math.pi * progress))\n",
    "    return 0.1 + 0.9 * cosine  # 下界 0.1×\n",
    "\n",
    "scheduler = torch.optim.lr_scheduler.LambdaLR(optimizer, lr_lambda)\n"
   ]
  },
  {
   "cell_type": "code",
   "execution_count": 32,
   "id": "1f7b89ee",
   "metadata": {},
   "outputs": [
    {
     "name": "stdout",
     "output_type": "stream",
     "text": [
      "Model moved to cuda\n",
      "[Epoch 1/11] Step 0/502 - Loss: 0.0651\n",
      "[Epoch 1/11] Step 100/502 - Loss: 0.0645\n",
      "[Epoch 1/11] Step 200/502 - Loss: 0.0595\n",
      "[Epoch 1/11] Step 300/502 - Loss: 0.0449\n",
      "[Epoch 1/11] Step 400/502 - Loss: 0.0370\n",
      "[Epoch 1/11] Step 500/502 - Loss: 0.0325\n",
      "🔁 Epoch 1 finished. Avg Train Loss: 0.0520\n",
      "✅ Validation Loss: 0.0600 | Acc: 48.70% | AUC-PR: 0.0106 | baseline: 0.0053 | uplift: 1.99x | P@50:0.000 R@50:0.000 | P@100:0.000 R@100:0.000 | P@200:0.000 R@200:0.000\n",
      "Best model saved at epoch 1 with loss 0.0600\n",
      "[Epoch 2/11] Step 0/502 - Loss: 0.0336\n",
      "[Epoch 2/11] Step 100/502 - Loss: 0.0426\n",
      "[Epoch 2/11] Step 200/502 - Loss: 0.0281\n",
      "[Epoch 2/11] Step 300/502 - Loss: 0.0282\n",
      "[Epoch 2/11] Step 400/502 - Loss: 0.0185\n",
      "[Epoch 2/11] Step 500/502 - Loss: 0.0169\n",
      "🔁 Epoch 2 finished. Avg Train Loss: 0.0296\n",
      "✅ Validation Loss: 0.0548 | Acc: 61.37% | AUC-PR: 0.0094 | baseline: 0.0053 | uplift: 1.77x | P@50:0.000 R@50:0.000 | P@100:0.000 R@100:0.000 | P@200:0.000 R@200:0.000\n",
      "Best model saved at epoch 2 with loss 0.0548\n",
      "[Epoch 3/11] Step 0/502 - Loss: 0.0223\n",
      "[Epoch 3/11] Step 100/502 - Loss: 0.0131\n",
      "[Epoch 3/11] Step 200/502 - Loss: 0.0140\n",
      "[Epoch 3/11] Step 300/502 - Loss: 0.0309\n",
      "[Epoch 3/11] Step 400/502 - Loss: 0.0162\n",
      "[Epoch 3/11] Step 500/502 - Loss: 0.0139\n",
      "🔁 Epoch 3 finished. Avg Train Loss: 0.0171\n",
      "✅ Validation Loss: 0.0245 | Acc: 86.21% | AUC-PR: 0.0118 | baseline: 0.0053 | uplift: 2.22x | P@50:0.000 R@50:0.000 | P@100:0.000 R@100:0.000 | P@200:0.000 R@200:0.000\n",
      "Best model saved at epoch 3 with loss 0.0245\n",
      "[Epoch 4/11] Step 0/502 - Loss: 0.0128\n",
      "[Epoch 4/11] Step 100/502 - Loss: 0.0100\n",
      "[Epoch 4/11] Step 200/502 - Loss: 0.0073\n",
      "[Epoch 4/11] Step 300/502 - Loss: 0.0097\n",
      "[Epoch 4/11] Step 400/502 - Loss: 0.0091\n",
      "[Epoch 4/11] Step 500/502 - Loss: 0.0084\n",
      "🔁 Epoch 4 finished. Avg Train Loss: 0.0115\n",
      "✅ Validation Loss: 0.0226 | Acc: 89.38% | AUC-PR: 0.0115 | baseline: 0.0053 | uplift: 2.16x | P@50:0.000 R@50:0.000 | P@100:0.000 R@100:0.000 | P@200:0.000 R@200:0.000\n",
      "Best model saved at epoch 4 with loss 0.0226\n",
      "[Epoch 5/11] Step 0/502 - Loss: 0.0098\n",
      "[Epoch 5/11] Step 100/502 - Loss: 0.0065\n",
      "[Epoch 5/11] Step 200/502 - Loss: 0.0074\n",
      "[Epoch 5/11] Step 300/502 - Loss: 0.0070\n",
      "[Epoch 5/11] Step 400/502 - Loss: 0.0049\n",
      "[Epoch 5/11] Step 500/502 - Loss: 0.0120\n",
      "🔁 Epoch 5 finished. Avg Train Loss: 0.0094\n",
      "✅ Validation Loss: 0.0237 | Acc: 90.48% | AUC-PR: 0.0113 | baseline: 0.0053 | uplift: 2.13x | P@50:0.000 R@50:0.000 | P@100:0.000 R@100:0.000 | P@200:0.000 R@200:0.000\n",
      "[Epoch 6/11] Step 0/502 - Loss: 0.0075\n",
      "[Epoch 6/11] Step 100/502 - Loss: 0.0099\n",
      "[Epoch 6/11] Step 200/502 - Loss: 0.0080\n",
      "[Epoch 6/11] Step 300/502 - Loss: 0.0042\n",
      "[Epoch 6/11] Step 400/502 - Loss: 0.0050\n",
      "[Epoch 6/11] Step 500/502 - Loss: 0.0037\n",
      "🔁 Epoch 6 finished. Avg Train Loss: 0.0071\n",
      "✅ Validation Loss: 0.0186 | Acc: 94.06% | AUC-PR: 0.0103 | baseline: 0.0053 | uplift: 1.93x | P@50:0.000 R@50:0.000 | P@100:0.000 R@100:0.000 | P@200:0.000 R@200:0.000\n",
      "Best model saved at epoch 6 with loss 0.0186\n",
      "[Epoch 7/11] Step 0/502 - Loss: 0.0059\n",
      "[Epoch 7/11] Step 100/502 - Loss: 0.0047\n",
      "[Epoch 7/11] Step 200/502 - Loss: 0.0072\n",
      "[Epoch 7/11] Step 300/502 - Loss: 0.0046\n",
      "[Epoch 7/11] Step 400/502 - Loss: 0.0023\n",
      "[Epoch 7/11] Step 500/502 - Loss: 0.0076\n",
      "🔁 Epoch 7 finished. Avg Train Loss: 0.0053\n",
      "✅ Validation Loss: 0.0242 | Acc: 93.78% | AUC-PR: 0.0101 | baseline: 0.0053 | uplift: 1.89x | P@50:0.000 R@50:0.000 | P@100:0.000 R@100:0.000 | P@200:0.000 R@200:0.000\n",
      "[Epoch 8/11] Step 0/502 - Loss: 0.0067\n",
      "[Epoch 8/11] Step 100/502 - Loss: 0.0048\n",
      "[Epoch 8/11] Step 200/502 - Loss: 0.0048\n",
      "[Epoch 8/11] Step 300/502 - Loss: 0.0037\n",
      "[Epoch 8/11] Step 400/502 - Loss: 0.0019\n",
      "[Epoch 8/11] Step 500/502 - Loss: 0.0035\n",
      "🔁 Epoch 8 finished. Avg Train Loss: 0.0041\n",
      "✅ Validation Loss: 0.0273 | Acc: 92.58% | AUC-PR: 0.0098 | baseline: 0.0053 | uplift: 1.84x | P@50:0.000 R@50:0.000 | P@100:0.000 R@100:0.000 | P@200:0.000 R@200:0.000\n",
      "[Epoch 9/11] Step 0/502 - Loss: 0.0063\n",
      "[Epoch 9/11] Step 100/502 - Loss: 0.0047\n",
      "[Epoch 9/11] Step 200/502 - Loss: 0.0030\n",
      "[Epoch 9/11] Step 300/502 - Loss: 0.0025\n",
      "[Epoch 9/11] Step 400/502 - Loss: 0.0026\n",
      "[Epoch 9/11] Step 500/502 - Loss: 0.0028\n",
      "🔁 Epoch 9 finished. Avg Train Loss: 0.0037\n",
      "✅ Validation Loss: 0.0116 | Acc: 97.96% | AUC-PR: 0.0082 | baseline: 0.0053 | uplift: 1.54x | P@50:0.000 R@50:0.000 | P@100:0.000 R@100:0.000 | P@200:0.000 R@200:0.000\n",
      "Best model saved at epoch 9 with loss 0.0116\n",
      "[Epoch 10/11] Step 0/502 - Loss: 0.0034\n",
      "[Epoch 10/11] Step 100/502 - Loss: 0.0018\n",
      "[Epoch 10/11] Step 200/502 - Loss: 0.0013\n",
      "[Epoch 10/11] Step 300/502 - Loss: 0.0088\n",
      "[Epoch 10/11] Step 400/502 - Loss: 0.0028\n",
      "[Epoch 10/11] Step 500/502 - Loss: 0.0027\n",
      "🔁 Epoch 10 finished. Avg Train Loss: 0.0029\n",
      "✅ Validation Loss: 0.0207 | Acc: 96.18% | AUC-PR: 0.0077 | baseline: 0.0053 | uplift: 1.45x | P@50:0.000 R@50:0.000 | P@100:0.000 R@100:0.000 | P@200:0.000 R@200:0.000\n",
      "🏁 Training completed.\n"
     ]
    }
   ],
   "source": [
    "\n",
    "log = train_loop(\n",
    "    model, train_loader, val_loader, \n",
    "    log_interval=100, \n",
    "    num_epochs=10, \n",
    "    optimizer=optimizer, \n",
    "    criterion=criterion,\n",
    "    scheduler=scheduler,\n",
    "    save_interval=1,\n",
    "    #save_path='model/0814_0147'\n",
    ")"
   ]
  },
  {
   "cell_type": "code",
   "execution_count": 33,
   "id": "0541a638",
   "metadata": {},
   "outputs": [],
   "source": [
    "#log = pd.read_csv('model/0813_1935/training_log.csv')"
   ]
  },
  {
   "cell_type": "code",
   "execution_count": 36,
   "id": "8f7a75cd",
   "metadata": {},
   "outputs": [
    {
     "data": {
      "text/plain": [
       "<matplotlib.legend.Legend at 0x1bc99a909a0>"
      ]
     },
     "execution_count": 36,
     "metadata": {},
     "output_type": "execute_result"
    },
    {
     "data": {
      "image/png": "[encoded data removed]",
      "text/plain": [
       "<Figure size 640x480 with 1 Axes>"
      ]
     },
     "metadata": {},
     "output_type": "display_data"
    }
   ],
   "source": [
    "import matplotlib.pyplot as plt\n",
    "#log = pd.read_csv('model/0811_2042/training_log.csv')\n",
    "plt.plot(log['train_loss'], label='train_loss')\n",
    "plt.plot(log['val_loss'], label='val_loss')\n",
    "plt.plot(log['aucpr'], label='aucpr')\n",
    "plt.xlabel('Epoch')\n",
    "plt.ylabel('Loss')\n",
    "plt.legend()"
   ]
  },
  {
   "cell_type": "markdown",
   "id": "9612ae49",
   "metadata": {},
   "source": [
    "### Model Evaluation"
   ]
  },
  {
   "cell_type": "code",
   "execution_count": 38,
   "id": "7c540efd",
   "metadata": {},
   "outputs": [
    {
     "data": {
      "text/plain": [
       "<All keys matched successfully>"
      ]
     },
     "execution_count": 38,
     "metadata": {},
     "output_type": "execute_result"
    }
   ],
   "source": [
    "model.load_state_dict(torch.load(r'model\\0814_0309\\epoch_10.pth', weights_only=True))"
   ]
  },
  {
   "cell_type": "code",
   "execution_count": 47,
   "id": "f7b7ec8b",
   "metadata": {},
   "outputs": [],
   "source": [
    "# 評估 train 分佈：不用 sampler、不shuffle\n",
    "train_loader_eval = DataLoader(\n",
    "    train_ds, batch_size=1024, shuffle=False, num_workers=8, pin_memory=True\n",
    ")\n"
   ]
  },
  {
   "cell_type": "code",
   "execution_count": 48,
   "id": "a92d6e62",
   "metadata": {},
   "outputs": [
    {
     "name": "stdout",
     "output_type": "stream",
     "text": [
      "Performance on Training Set:\n"
     ]
    },
    {
     "name": "stderr",
     "output_type": "stream",
     "text": [
      "Testing: 100%|██████████| 252/252 [01:57<00:00,  2.14it/s]\n"
     ]
    },
    {
     "name": "stdout",
     "output_type": "stream",
     "text": [
      "🔍 Test Loss: 0.0035 | Accuracy: 98.98%\n",
      "              precision    recall  f1-score   support\n",
      "\n",
      "      Normal       1.00      0.99      0.99    255259\n",
      "     Failure       0.42      1.00      0.59      1920\n",
      "\n",
      "    accuracy                           0.99    257179\n",
      "   macro avg       0.71      0.99      0.79    257179\n",
      "weighted avg       1.00      0.99      0.99    257179\n",
      "\n",
      "[[252644   2615]\n",
      " [     0   1920]]\n",
      "ROC AUC: 0.9986\n"
     ]
    },
    {
     "data": {
      "image/png": "[encoded data removed]",
      "text/plain": [
       "<Figure size 800x600 with 1 Axes>"
      ]
     },
     "metadata": {},
     "output_type": "display_data"
    }
   ],
   "source": [
    "print(\"Performance on Training Set:\")\n",
    "evaluate_model(model, train_loader_eval, best_threshold=0.5, criterion=criterion)"
   ]
  },
  {
   "cell_type": "code",
   "execution_count": 40,
   "id": "8d873ead",
   "metadata": {},
   "outputs": [
    {
     "name": "stderr",
     "output_type": "stream",
     "text": [
      "Testing: 100%|██████████| 66/66 [00:44<00:00,  1.48it/s]"
     ]
    },
    {
     "name": "stdout",
     "output_type": "stream",
     "text": [
      "🔍 Test Loss: 0.0207 | Accuracy: 96.18%\n"
     ]
    },
    {
     "name": "stderr",
     "output_type": "stream",
     "text": [
      "\n"
     ]
    }
   ],
   "source": [
    "val_trues, val_predictions, val_outputs = test_loop(model, val_loader, device='cuda', criterion=criterion)"
   ]
  },
  {
   "cell_type": "code",
   "execution_count": 41,
   "id": "2ea95c98",
   "metadata": {},
   "outputs": [
    {
     "data": {
      "text/plain": [
       "(array([49871.,  6205.,  2219.,  1142.,   860.,   608.,   448.,   371.,\n",
       "          341.,   332.,   325.,   278.,   260.,   250.,   250.,   205.,\n",
       "          205.,   164.,   156.,   127.,   132.,   142.,   114.,   104.,\n",
       "          104.,    88.,    62.,    66.,    66.,    58.,    66.,    78.,\n",
       "           69.,    62.,    57.,    61.,    72.,    86.,    89.,   104.,\n",
       "          114.,   104.,   114.,   132.,   110.,    96.,   107.,    76.,\n",
       "          160.,   218.]),\n",
       " array([0.01769407, 0.03619042, 0.05468676, 0.0731831 , 0.09167945,\n",
       "        0.11017579, 0.12867212, 0.14716847, 0.16566481, 0.18416116,\n",
       "        0.20265749, 0.22115384, 0.23965019, 0.25814652, 0.27664286,\n",
       "        0.29513922, 0.31363556, 0.33213189, 0.35062823, 0.36912459,\n",
       "        0.38762093, 0.40611726, 0.4246136 , 0.44310996, 0.46160629,\n",
       "        0.48010263, 0.49859899, 0.51709533, 0.53559166, 0.554088  ,\n",
       "        0.57258433, 0.59108067, 0.60957706, 0.62807339, 0.64656973,\n",
       "        0.66506606, 0.6835624 , 0.70205873, 0.72055507, 0.73905146,\n",
       "        0.7575478 , 0.77604413, 0.79454046, 0.8130368 , 0.83153313,\n",
       "        0.85002947, 0.8685258 , 0.8870222 , 0.90551853, 0.92401487,\n",
       "        0.9425112 ]),\n",
       " <BarContainer object of 50 artists>)"
      ]
     },
     "execution_count": 41,
     "metadata": {},
     "output_type": "execute_result"
    },
    {
     "data": {
      "image/png": "[encoded data removed]",
      "text/plain": [
       "<Figure size 640x480 with 1 Axes>"
      ]
     },
     "metadata": {},
     "output_type": "display_data"
    }
   ],
   "source": [
    "plt.hist(val_outputs, bins=50, alpha=0.5, label='Outputs')"
   ]
  },
  {
   "cell_type": "code",
   "execution_count": 42,
   "id": "9319fab6",
   "metadata": {},
   "outputs": [
    {
     "name": "stdout",
     "output_type": "stream",
     "text": [
      "Threshold for recall ≥ 0.8: 0.0242, Precision=0.008\n"
     ]
    }
   ],
   "source": [
    "from sklearn.metrics import precision_recall_curve\n",
    "prec, rec, thresholds = precision_recall_curve(val_trues, val_outputs, pos_label=1)\n",
    "\n",
    "target_recall = 0.8\n",
    "idx = next(i for i,r in enumerate(rec) if r < target_recall) - 1\n",
    "best_threshold = thresholds[idx]\n",
    "print(f\"Threshold for recall ≥ {target_recall}: {best_threshold:.4f}, Precision={prec[idx]:.3f}\")\n"
   ]
  },
  {
   "cell_type": "code",
   "execution_count": 43,
   "id": "779d5ce7",
   "metadata": {},
   "outputs": [
    {
     "name": "stdout",
     "output_type": "stream",
     "text": [
      "Performance on Validation Set:\n",
      "              precision    recall  f1-score   support\n",
      "\n",
      "      Normal       1.00      0.46      0.63     67168\n",
      "     Failure       0.01      0.80      0.02       360\n",
      "\n",
      "    accuracy                           0.47     67528\n",
      "   macro avg       0.50      0.63      0.32     67528\n",
      "weighted avg       0.99      0.47      0.63     67528\n",
      "\n",
      "[[31142 36026]\n",
      " [   72   288]]\n",
      "ROC AUC: 0.6435\n"
     ]
    },
    {
     "data": {
      "image/png": "[encoded data removed]",
      "text/plain": [
       "<Figure size 800x600 with 1 Axes>"
      ]
     },
     "metadata": {},
     "output_type": "display_data"
    }
   ],
   "source": [
    "predictions = (val_outputs >= best_threshold).astype(int)\n",
    "print(\"Performance on Validation Set:\")\n",
    "generate_report(val_trues, predictions, val_outputs)"
   ]
  },
  {
   "cell_type": "code",
   "execution_count": 49,
   "id": "b8351e5e",
   "metadata": {},
   "outputs": [
    {
     "name": "stderr",
     "output_type": "stream",
     "text": [
      "Testing: 100%|██████████| 65/65 [00:34<00:00,  1.90it/s]"
     ]
    },
    {
     "name": "stdout",
     "output_type": "stream",
     "text": [
      "🔍 Test Loss: 0.0254 | Accuracy: 97.82%\n"
     ]
    },
    {
     "name": "stderr",
     "output_type": "stream",
     "text": [
      "\n"
     ]
    }
   ],
   "source": [
    "test_trues, test_predictions, test_outputs = test_loop(model, test_loader, device='cuda', criterion=criterion)"
   ]
  },
  {
   "cell_type": "code",
   "execution_count": 50,
   "id": "f1a41f73",
   "metadata": {},
   "outputs": [
    {
     "data": {
      "text/plain": [
       "(array([5.5882e+04, 4.0220e+03, 1.1100e+03, 8.2100e+02, 6.2000e+02,\n",
       "        3.5100e+02, 2.3100e+02, 1.8000e+02, 1.6000e+02, 1.4500e+02,\n",
       "        1.3700e+02, 1.3800e+02, 1.3700e+02, 1.4700e+02, 1.3100e+02,\n",
       "        9.9000e+01, 9.2000e+01, 6.4000e+01, 7.6000e+01, 6.4000e+01,\n",
       "        5.7000e+01, 3.9000e+01, 3.4000e+01, 4.3000e+01, 5.3000e+01,\n",
       "        3.5000e+01, 1.9000e+01, 2.0000e+01, 2.0000e+01, 2.4000e+01,\n",
       "        1.5000e+01, 1.1000e+01, 1.2000e+01, 1.4000e+01, 1.1000e+01,\n",
       "        1.8000e+01, 2.2000e+01, 2.1000e+01, 2.5000e+01, 2.9000e+01,\n",
       "        4.3000e+01, 4.4000e+01, 7.4000e+01, 5.4000e+01, 4.6000e+01,\n",
       "        4.6000e+01, 5.4000e+01, 8.7000e+01, 8.3000e+01, 9.7000e+01]),\n",
       " array([0.01847982, 0.03688544, 0.05529106, 0.07369667, 0.09210229,\n",
       "        0.11050791, 0.12891352, 0.14731914, 0.16572477, 0.18413039,\n",
       "        0.202536  , 0.22094162, 0.23934723, 0.25775284, 0.27615848,\n",
       "        0.2945641 , 0.31296971, 0.33137533, 0.34978095, 0.36818656,\n",
       "        0.38659218, 0.4049978 , 0.42340341, 0.44180903, 0.46021464,\n",
       "        0.47862026, 0.49702588, 0.51543152, 0.53383714, 0.55224276,\n",
       "        0.57064837, 0.58905399, 0.6074596 , 0.62586522, 0.64427084,\n",
       "        0.66267645, 0.68108207, 0.69948769, 0.7178933 , 0.73629892,\n",
       "        0.75470454, 0.77311015, 0.79151577, 0.80992138, 0.828327  ,\n",
       "        0.84673262, 0.86513823, 0.88354385, 0.90194947, 0.92035508,\n",
       "        0.9387607 ]),\n",
       " <BarContainer object of 50 artists>)"
      ]
     },
     "execution_count": 50,
     "metadata": {},
     "output_type": "execute_result"
    },
    {
     "data": {
      "image/png": "[encoded data removed]",
      "text/plain": [
       "<Figure size 640x480 with 1 Axes>"
      ]
     },
     "metadata": {},
     "output_type": "display_data"
    }
   ],
   "source": [
    "plt.hist(test_outputs, bins=50, alpha=0.5, label='Outputs')"
   ]
  },
  {
   "cell_type": "code",
   "execution_count": 52,
   "id": "e5a8e161",
   "metadata": {},
   "outputs": [
    {
     "name": "stdout",
     "output_type": "stream",
     "text": [
      "Performance on Test Set:\n",
      "              precision    recall  f1-score   support\n",
      "\n",
      "      Normal       0.99      0.47      0.64     65157\n",
      "     Failure       0.01      0.63      0.02       600\n",
      "\n",
      "    accuracy                           0.47     65757\n",
      "   macro avg       0.50      0.55      0.33     65757\n",
      "weighted avg       0.98      0.47      0.63     65757\n",
      "\n",
      "[[30757 34400]\n",
      " [  222   378]]\n",
      "ROC AUC: 0.5744\n"
     ]
    },
    {
     "data": {
      "image/png": "[encoded data removed]",
      "text/plain": [
       "<Figure size 800x600 with 1 Axes>"
      ]
     },
     "metadata": {},
     "output_type": "display_data"
    }
   ],
   "source": [
    "predictions = (test_outputs >= best_threshold).astype(int)\n",
    "print(\"Performance on Test Set:\")\n",
    "generate_report(test_trues, predictions, test_outputs)"
   ]
  }
 ],
 "metadata": {
  "kernelspec": {
   "display_name": "Python 3",
   "language": "python",
   "name": "python3"
  },
  "language_info": {
   "codemirror_mode": {
    "name": "ipython",
    "version": 3
   },
   "file_extension": ".py",
   "mimetype": "text/x-python",
   "name": "python",
   "nbconvert_exporter": "python",
   "pygments_lexer": "ipython3",
   "version": "3.10.11"
  }
 },
 "nbformat": 4,
 "nbformat_minor": 5
}

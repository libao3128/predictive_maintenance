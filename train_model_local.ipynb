{
 "cells": [
  {
   "cell_type": "code",
   "execution_count": 1,
   "id": "5633ed8e",
   "metadata": {},
   "outputs": [],
   "source": [
    "import pandas as pd\n",
    "from src.train import train_loop, test_loop\n",
    "from src.model import CNNLSTMModel\n",
    "from src.dataset import InverterTimeSeriesDataset\n",
    "from src.preprocess import *\n",
    "from src.visualize import *\n",
    "import torch"
   ]
  },
  {
   "cell_type": "markdown",
   "id": "fcf3d759",
   "metadata": {},
   "source": [
    "## Hyper-Parameter"
   ]
  },
  {
   "cell_type": "code",
   "execution_count": 2,
   "id": "5f407469",
   "metadata": {},
   "outputs": [],
   "source": [
    "performe_visualization = True"
   ]
  },
  {
   "cell_type": "code",
   "execution_count": 19,
   "id": "37ac0a88",
   "metadata": {},
   "outputs": [],
   "source": [
    "# some important parameters\n",
    "pre_day = 5\n",
    "window_size = 12*24 # 5 minutes * 12 * 24 = 1 day\n",
    "stride = 12 # 1 hour stride\n",
    "\n",
    "feature_cols = [\n",
    "    #\"metric.STATUS_AC_MOD_ADMISSION_TEMP.MEASURED\",  # ambient temperature\n",
    "    #\"metric.STATUS_INTERNAL_TEMP.MEASURED\",          # internal temperature\n",
    "    \"metric.AC_VOLTAGE_AB.MEASURED\",                 # AC voltage\n",
    "    \"metric.AC_VOLTAGE_BC.MEASURED\",                 # AC voltage\n",
    "    \"metric.AC_VOLTAGE_CA.MEASURED\",                 # AC voltage\n",
    "    \"metric.DC_VOLTAGE.MEASURED\"                     # DC voltage\n",
    "]\n",
    "\n",
    "exclude_periods = [\n",
    "    [pd.Timestamp('2021-01-01'), pd.Timestamp('2021-12-23')], # data collection issue\n",
    "    [pd.Timestamp('2023-02-23'), pd.Timestamp('2023-08-26')] # anomalies in the data\n",
    "]"
   ]
  },
  {
   "cell_type": "markdown",
   "id": "dc771650",
   "metadata": {},
   "source": [
    "## Data Preprocessing\n",
    "### Load Data"
   ]
  },
  {
   "cell_type": "code",
   "execution_count": 4,
   "id": "9dfd396c",
   "metadata": {},
   "outputs": [
    {
     "name": "stdout",
     "output_type": "stream",
     "text": [
      "Loaded 15 parquet files → 6126272 rows\n",
      "Kept 61 sessions longer than 3 days\n"
     ]
    }
   ],
   "source": [
    "inverter_data = load_parquet_data('data/inverter_data')\n",
    "failure_sessions = load_failure_sessions('data/failure_sessions.csv', min_days=3)"
   ]
  },
  {
   "cell_type": "code",
   "execution_count": 5,
   "id": "5fb6ee2e",
   "metadata": {},
   "outputs": [
    {
     "name": "stderr",
     "output_type": "stream",
     "text": [
      "Visualizing devices: 100%|██████████| 16/16 [00:44<00:00,  2.78s/it]"
     ]
    },
    {
     "name": "stdout",
     "output_type": "stream",
     "text": [
      "Visualization saved at visualization/raw_data/*.html\n"
     ]
    },
    {
     "name": "stderr",
     "output_type": "stream",
     "text": [
      "\n"
     ]
    }
   ],
   "source": [
    "if performe_visualization:\n",
    "    # Visualize the raw data\n",
    "    visualize_hourly_mean_values(inverter_data, failure_sessions, feature_cols, 'visualization', 'raw_data')"
   ]
  },
  {
   "cell_type": "markdown",
   "id": "03ae16f2",
   "metadata": {},
   "source": [
    "### Data Cleaning"
   ]
  },
  {
   "cell_type": "code",
   "execution_count": 8,
   "id": "7de9395d",
   "metadata": {},
   "outputs": [
    {
     "name": "stdout",
     "output_type": "stream",
     "text": [
      "inverter_data shape: (6126272, 59)\n",
      "Excluded data shape: (5172608, 59)\n"
     ]
    }
   ],
   "source": [
    "print(\"inverter_data shape:\", inverter_data.shape)\n",
    "filtered_data = exclude_periods_from_data(inverter_data, exclude_periods)\n",
    "print(\"Excluded data shape:\", filtered_data.shape)"
   ]
  },
  {
   "cell_type": "code",
   "execution_count": 9,
   "id": "abe8c038",
   "metadata": {},
   "outputs": [],
   "source": [
    "# remove unused columns\n",
    "filtered_data = filtered_data[['event_local_time', 'device_name'] + feature_cols]"
   ]
  },
  {
   "cell_type": "code",
   "execution_count": null,
   "id": "ca1b13e1",
   "metadata": {},
   "outputs": [],
   "source": [
    "if performe_visualization:\n",
    "    # Visualize the filtered data\n",
    "    visualize_hourly_mean_values(filtered_data, failure_sessions, feature_cols, 'visualization', 'filtered_data')"
   ]
  },
  {
   "cell_type": "markdown",
   "id": "c7979e30",
   "metadata": {},
   "source": [
    "### Data Labeling"
   ]
  },
  {
   "cell_type": "code",
   "execution_count": 10,
   "id": "c262cba8",
   "metadata": {},
   "outputs": [
    {
     "name": "stdout",
     "output_type": "stream",
     "text": [
      "Total pre-failure rows: 62652\n",
      "Total rows: 5026798\n"
     ]
    }
   ],
   "source": [
    "labeled_df = prepare_dataset(filtered_data, failure_sessions, pre_days=pre_day)"
   ]
  },
  {
   "cell_type": "markdown",
   "id": "c72f57da",
   "metadata": {},
   "source": [
    "### Missing Value Mask"
   ]
  },
  {
   "cell_type": "code",
   "execution_count": 11,
   "id": "74fb2cba",
   "metadata": {},
   "outputs": [],
   "source": [
    "def generate_missing_value_mask(df: pd.DataFrame, features_cols: list[str]) -> pd.DataFrame:\n",
    "    # Step 1: 缺失 mask\n",
    "    for col in features_cols:\n",
    "        df[f\"{col}_missing\"] = df[col].isna().astype(int)\n",
    "        \n",
    "generate_missing_value_mask(labeled_df, feature_cols)"
   ]
  },
  {
   "cell_type": "code",
   "execution_count": 20,
   "id": "c821d9a5",
   "metadata": {},
   "outputs": [],
   "source": [
    "extended_feature_cols = feature_cols+[col+'_missing' for col in feature_cols]"
   ]
  },
  {
   "cell_type": "markdown",
   "id": "e502018d",
   "metadata": {},
   "source": [
    "### Missing Value Imputation"
   ]
  },
  {
   "cell_type": "code",
   "execution_count": 13,
   "id": "e6b1d156",
   "metadata": {},
   "outputs": [],
   "source": [
    "imputed_df = missing_value_imputation(labeled_df, feature_cols, time_col='event_local_time', device_col='device_name', short_gap_limit=6, long_fill_value=0.0, add_missing_mask=True)"
   ]
  },
  {
   "cell_type": "markdown",
   "id": "84b48cdb",
   "metadata": {},
   "source": [
    "### Feature Engineering"
   ]
  },
  {
   "cell_type": "code",
   "execution_count": 21,
   "id": "9d80fecc",
   "metadata": {},
   "outputs": [],
   "source": [
    "imputed_df['hour_of_day'] = imputed_df['event_local_time'].dt.hour\n",
    "extended_feature_cols += ['hour_of_day']"
   ]
  },
  {
   "cell_type": "code",
   "execution_count": 16,
   "id": "d27b4c0a",
   "metadata": {},
   "outputs": [
    {
     "name": "stderr",
     "output_type": "stream",
     "text": [
      "Visualizing devices: 100%|██████████| 16/16 [01:08<00:00,  4.29s/it]"
     ]
    },
    {
     "name": "stdout",
     "output_type": "stream",
     "text": [
      "Visualization saved at visualization/processed_data/*.html\n"
     ]
    },
    {
     "name": "stderr",
     "output_type": "stream",
     "text": [
      "\n"
     ]
    }
   ],
   "source": [
    "if performe_visualization:\n",
    "    visualize_hourly_mean_values(imputed_df, failure_sessions, extended_feature_cols+['label'], \n",
    "                                title='processed_data')"
   ]
  },
  {
   "cell_type": "markdown",
   "id": "b181af6b",
   "metadata": {},
   "source": [
    "### Split Dataset"
   ]
  },
  {
   "cell_type": "code",
   "execution_count": 17,
   "id": "9e26fda1",
   "metadata": {},
   "outputs": [
    {
     "name": "stdout",
     "output_type": "stream",
     "text": [
      "Train set size: 3518759 Train set time range: 2021-12-24 00:00:00 to 2024-08-16 09:30:00\n",
      "Test set size: 1508039 Test set time range: 2024-08-16 09:30:00 to 2025-07-23 23:35:00\n",
      "Train set size: 1055628 Train set time range: 2024-08-16 09:30:00 to 2025-04-03 12:30:00\n",
      "Test set size: 452411 Test set time range: 2025-04-03 12:30:00 to 2025-07-23 23:35:00\n"
     ]
    }
   ],
   "source": [
    "train_df, test_df = train_test_split_on_time(imputed_df, 0.3)\n",
    "val_df, test_df = train_test_split_on_time(test_df, 0.3)"
   ]
  },
  {
   "cell_type": "markdown",
   "id": "777fd02b",
   "metadata": {},
   "source": [
    "### Standardization"
   ]
  },
  {
   "cell_type": "code",
   "execution_count": 23,
   "id": "cbde8f9f",
   "metadata": {},
   "outputs": [],
   "source": [
    "from sklearn.preprocessing import StandardScaler\n",
    "feature_to_standardize = feature_cols + ['hour_of_day']\n",
    "scaler = StandardScaler()\n",
    "train_df[feature_to_standardize] = scaler.fit_transform(train_df[feature_to_standardize])\n",
    "val_df[feature_to_standardize] = scaler.transform(val_df[feature_to_standardize])\n",
    "test_df[feature_to_standardize] = scaler.transform(test_df[feature_to_standardize])"
   ]
  },
  {
   "cell_type": "code",
   "execution_count": 24,
   "id": "c2ce625e",
   "metadata": {},
   "outputs": [
    {
     "name": "stderr",
     "output_type": "stream",
     "text": [
      "Visualizing devices: 100%|██████████| 16/16 [00:52<00:00,  3.27s/it]\n"
     ]
    },
    {
     "name": "stdout",
     "output_type": "stream",
     "text": [
      "Visualization saved at visualization/train_data/*.html\n"
     ]
    },
    {
     "name": "stderr",
     "output_type": "stream",
     "text": [
      "Visualizing devices: 100%|██████████| 16/16 [00:16<00:00,  1.04s/it]\n"
     ]
    },
    {
     "name": "stdout",
     "output_type": "stream",
     "text": [
      "Visualization saved at visualization/val_data/*.html\n"
     ]
    },
    {
     "name": "stderr",
     "output_type": "stream",
     "text": [
      "Visualizing devices: 100%|██████████| 16/16 [00:08<00:00,  1.97it/s]"
     ]
    },
    {
     "name": "stdout",
     "output_type": "stream",
     "text": [
      "Visualization saved at visualization/test_data/*.html\n"
     ]
    },
    {
     "name": "stderr",
     "output_type": "stream",
     "text": [
      "\n"
     ]
    }
   ],
   "source": [
    "if performe_visualization:\n",
    "    visualize_hourly_mean_values(train_df, failure_sessions, extended_feature_cols+['label'], \n",
    "                                 'visualization', 'train_data')\n",
    "    visualize_hourly_mean_values(val_df, failure_sessions, extended_feature_cols+['label'], \n",
    "                                 'visualization', 'val_data')\n",
    "    visualize_hourly_mean_values(test_df, failure_sessions, extended_feature_cols+['label'],\n",
    "                                    'visualization', 'test_data')"
   ]
  },
  {
   "cell_type": "markdown",
   "id": "3c9b4875",
   "metadata": {},
   "source": [
    "### Create Dataset/Data Loader"
   ]
  },
  {
   "cell_type": "code",
   "execution_count": 25,
   "id": "89be8408",
   "metadata": {},
   "outputs": [
    {
     "name": "stderr",
     "output_type": "stream",
     "text": [
      "Processing devices: 100%|██████████| 16/16 [00:01<00:00,  8.99it/s]\n",
      "Processing devices: 100%|██████████| 16/16 [00:00<00:00, 23.06it/s]\n",
      "Processing devices: 100%|██████████| 16/16 [00:00<00:00, 32.52it/s]\n"
     ]
    }
   ],
   "source": [
    "from torch.utils.data import DataLoader\n",
    "\n",
    "train_ds = InverterTimeSeriesDataset(train_df, extended_feature_cols, under_sample=True, window_size=window_size, stride=stride)\n",
    "val_ds   = InverterTimeSeriesDataset(val_df,   extended_feature_cols, window_size=window_size, stride=stride)\n",
    "test_ds  = InverterTimeSeriesDataset(test_df,  extended_feature_cols, window_size=window_size, stride=stride)"
   ]
  },
  {
   "cell_type": "code",
   "execution_count": 26,
   "id": "6e127b2e",
   "metadata": {},
   "outputs": [
    {
     "data": {
      "text/plain": [
       "torch.Size([6890, 288, 9])"
      ]
     },
     "execution_count": 26,
     "metadata": {},
     "output_type": "execute_result"
    }
   ],
   "source": [
    "train_ds.X.shape"
   ]
  },
  {
   "cell_type": "code",
   "execution_count": 27,
   "id": "4d6d5889",
   "metadata": {},
   "outputs": [
    {
     "data": {
      "text/plain": [
       "0.0    86810\n",
       "1.0      360\n",
       "dtype: int64"
      ]
     },
     "execution_count": 27,
     "metadata": {},
     "output_type": "execute_result"
    }
   ],
   "source": [
    "pd.value_counts(val_ds.y.numpy()).sort_index()"
   ]
  },
  {
   "cell_type": "code",
   "execution_count": 28,
   "id": "dc679b9d",
   "metadata": {},
   "outputs": [
    {
     "data": {
      "text/plain": [
       "(0.0    3445\n",
       " 1.0    3445\n",
       " dtype: int64,\n",
       " 0.0    86810\n",
       " 1.0      360\n",
       " dtype: int64,\n",
       " 0.0    35751\n",
       " 1.0     1296\n",
       " dtype: int64)"
      ]
     },
     "execution_count": 28,
     "metadata": {},
     "output_type": "execute_result"
    }
   ],
   "source": [
    "pd.value_counts(train_ds.y.numpy()), pd.value_counts(val_ds.y.numpy()), pd.value_counts(test_ds.y.numpy())"
   ]
  },
  {
   "cell_type": "code",
   "execution_count": 29,
   "id": "b204cf86",
   "metadata": {},
   "outputs": [],
   "source": [
    "batch_size = 2**8\n",
    "train_loader = DataLoader(train_ds, batch_size=batch_size, shuffle=True,  num_workers=6, pin_memory=True)\n",
    "val_loader   = DataLoader(val_ds,   batch_size=batch_size, shuffle=False, num_workers=6, pin_memory=True)\n",
    "test_loader  = DataLoader(test_ds,  batch_size=batch_size, shuffle=False, num_workers=6, pin_memory=True)"
   ]
  },
  {
   "cell_type": "markdown",
   "id": "6bc7c875",
   "metadata": {},
   "source": [
    "## Train Model"
   ]
  },
  {
   "cell_type": "code",
   "execution_count": 33,
   "id": "ac4316e3",
   "metadata": {},
   "outputs": [],
   "source": [
    "model = CNNLSTMModel(num_features=len(extended_feature_cols), cnn_out_channels=64, lstm_hidden_size=128)\n",
    "optimizer = torch.optim.Adam(model.parameters(), lr=0.001)\n",
    "criterion = torch.nn.MSELoss()"
   ]
  },
  {
   "cell_type": "code",
   "execution_count": 50,
   "id": "ed5e89e5",
   "metadata": {},
   "outputs": [],
   "source": [
    "import time"
   ]
  },
  {
   "cell_type": "code",
   "execution_count": 51,
   "id": "1f7b89ee",
   "metadata": {},
   "outputs": [
    {
     "name": "stdout",
     "output_type": "stream",
     "text": [
      "Model moved to cuda\n",
      "Resuming training from epoch 31\n",
      "[Epoch 31/30] Step 0/27 - Loss: 0.2057\n",
      "[Epoch 31/30] Step 10/27 - Loss: 0.1756\n",
      "[Epoch 31/30] Step 20/27 - Loss: 0.1802\n",
      "🔁 Epoch 31 finished. Avg Train Loss: 0.1953\n",
      "✅ Validation Loss: 0.1244 | Accuracy: 79.80%\n",
      "Best model saved at epoch 31 with loss 0.1244\n",
      "[Epoch 32/30] Step 0/27 - Loss: 0.1907\n",
      "[Epoch 32/30] Step 10/27 - Loss: 0.1986\n",
      "[Epoch 32/30] Step 20/27 - Loss: 0.1895\n",
      "🔁 Epoch 32 finished. Avg Train Loss: 0.1937\n",
      "✅ Validation Loss: 0.1251 | Accuracy: 79.83%\n",
      "[Epoch 33/30] Step 0/27 - Loss: 0.1916\n",
      "[Epoch 33/30] Step 10/27 - Loss: 0.1831\n",
      "[Epoch 33/30] Step 20/27 - Loss: 0.2025\n",
      "🔁 Epoch 33 finished. Avg Train Loss: 0.1952\n",
      "✅ Validation Loss: 0.1253 | Accuracy: 79.37%\n",
      "[Epoch 34/30] Step 0/27 - Loss: 0.2023\n",
      "[Epoch 34/30] Step 10/27 - Loss: 0.1992\n",
      "[Epoch 34/30] Step 20/27 - Loss: 0.1777\n",
      "🔁 Epoch 34 finished. Avg Train Loss: 0.1947\n",
      "✅ Validation Loss: 0.1258 | Accuracy: 79.32%\n",
      "[Epoch 35/30] Step 0/27 - Loss: 0.1959\n",
      "[Epoch 35/30] Step 10/27 - Loss: 0.1871\n",
      "[Epoch 35/30] Step 20/27 - Loss: 0.1956\n",
      "🔁 Epoch 35 finished. Avg Train Loss: 0.1963\n",
      "✅ Validation Loss: 0.1245 | Accuracy: 79.64%\n",
      "[Epoch 36/30] Step 0/27 - Loss: 0.1925\n",
      "[Epoch 36/30] Step 10/27 - Loss: 0.1859\n",
      "[Epoch 36/30] Step 20/27 - Loss: 0.2108\n",
      "🔁 Epoch 36 finished. Avg Train Loss: 0.1959\n",
      "✅ Validation Loss: 0.1250 | Accuracy: 79.79%\n",
      "[Epoch 37/30] Step 0/27 - Loss: 0.2091\n",
      "[Epoch 37/30] Step 10/27 - Loss: 0.2016\n",
      "[Epoch 37/30] Step 20/27 - Loss: 0.2088\n",
      "🔁 Epoch 37 finished. Avg Train Loss: 0.1956\n",
      "✅ Validation Loss: 0.1253 | Accuracy: 79.62%\n",
      "[Epoch 38/30] Step 0/27 - Loss: 0.2127\n",
      "[Epoch 38/30] Step 10/27 - Loss: 0.1982\n",
      "[Epoch 38/30] Step 20/27 - Loss: 0.1844\n",
      "🔁 Epoch 38 finished. Avg Train Loss: 0.1956\n",
      "✅ Validation Loss: 0.1255 | Accuracy: 79.43%\n",
      "[Epoch 39/30] Step 0/27 - Loss: 0.1916\n",
      "[Epoch 39/30] Step 10/27 - Loss: 0.2024\n",
      "[Epoch 39/30] Step 20/27 - Loss: 0.1879\n",
      "🔁 Epoch 39 finished. Avg Train Loss: 0.1957\n",
      "✅ Validation Loss: 0.1253 | Accuracy: 79.51%\n",
      "[Epoch 40/30] Step 0/27 - Loss: 0.1835\n",
      "[Epoch 40/30] Step 10/27 - Loss: 0.2053\n",
      "[Epoch 40/30] Step 20/27 - Loss: 0.1980\n",
      "🔁 Epoch 40 finished. Avg Train Loss: 0.1937\n",
      "✅ Validation Loss: 0.1259 | Accuracy: 79.56%\n",
      "[Epoch 41/30] Step 0/27 - Loss: 0.1946\n",
      "[Epoch 41/30] Step 10/27 - Loss: 0.1983\n",
      "[Epoch 41/30] Step 20/27 - Loss: 0.2088\n",
      "🔁 Epoch 41 finished. Avg Train Loss: 0.1950\n",
      "✅ Validation Loss: 0.1252 | Accuracy: 79.55%\n",
      "[Epoch 42/30] Step 0/27 - Loss: 0.1961\n",
      "[Epoch 42/30] Step 10/27 - Loss: 0.1936\n",
      "[Epoch 42/30] Step 20/27 - Loss: 0.1842\n",
      "🔁 Epoch 42 finished. Avg Train Loss: 0.1946\n",
      "✅ Validation Loss: 0.1247 | Accuracy: 79.54%\n",
      "[Epoch 43/30] Step 0/27 - Loss: 0.2033\n",
      "[Epoch 43/30] Step 10/27 - Loss: 0.1875\n",
      "[Epoch 43/30] Step 20/27 - Loss: 0.1921\n",
      "🔁 Epoch 43 finished. Avg Train Loss: 0.1950\n",
      "✅ Validation Loss: 0.1261 | Accuracy: 79.24%\n",
      "[Epoch 44/30] Step 0/27 - Loss: 0.1922\n",
      "[Epoch 44/30] Step 10/27 - Loss: 0.1976\n",
      "[Epoch 44/30] Step 20/27 - Loss: 0.2033\n",
      "🔁 Epoch 44 finished. Avg Train Loss: 0.1951\n",
      "✅ Validation Loss: 0.1258 | Accuracy: 79.19%\n",
      "[Epoch 45/30] Step 0/27 - Loss: 0.1877\n",
      "[Epoch 45/30] Step 10/27 - Loss: 0.1947\n",
      "[Epoch 45/30] Step 20/27 - Loss: 0.1862\n",
      "🔁 Epoch 45 finished. Avg Train Loss: 0.1951\n",
      "✅ Validation Loss: 0.1244 | Accuracy: 79.55%\n",
      "[Epoch 46/30] Step 0/27 - Loss: 0.2016\n",
      "[Epoch 46/30] Step 10/27 - Loss: 0.1964\n",
      "[Epoch 46/30] Step 20/27 - Loss: 0.2188\n",
      "🔁 Epoch 46 finished. Avg Train Loss: 0.1948\n",
      "✅ Validation Loss: 0.1251 | Accuracy: 79.53%\n",
      "[Epoch 47/30] Step 0/27 - Loss: 0.1901\n",
      "[Epoch 47/30] Step 10/27 - Loss: 0.2002\n",
      "[Epoch 47/30] Step 20/27 - Loss: 0.1923\n",
      "🔁 Epoch 47 finished. Avg Train Loss: 0.1944\n",
      "✅ Validation Loss: 0.1269 | Accuracy: 78.95%\n",
      "[Epoch 48/30] Step 0/27 - Loss: 0.1975\n",
      "[Epoch 48/30] Step 10/27 - Loss: 0.2187\n",
      "[Epoch 48/30] Step 20/27 - Loss: 0.2087\n",
      "🔁 Epoch 48 finished. Avg Train Loss: 0.1965\n",
      "✅ Validation Loss: 0.1269 | Accuracy: 79.19%\n",
      "[Epoch 49/30] Step 0/27 - Loss: 0.1873\n",
      "[Epoch 49/30] Step 10/27 - Loss: 0.2024\n",
      "[Epoch 49/30] Step 20/27 - Loss: 0.1861\n",
      "🔁 Epoch 49 finished. Avg Train Loss: 0.1951\n",
      "✅ Validation Loss: 0.1247 | Accuracy: 79.79%\n",
      "[Epoch 50/30] Step 0/27 - Loss: 0.2025\n",
      "[Epoch 50/30] Step 10/27 - Loss: 0.2015\n",
      "[Epoch 50/30] Step 20/27 - Loss: 0.1777\n",
      "🔁 Epoch 50 finished. Avg Train Loss: 0.1941\n",
      "✅ Validation Loss: 0.1261 | Accuracy: 79.27%\n",
      "[Epoch 51/30] Step 0/27 - Loss: 0.1985\n",
      "[Epoch 51/30] Step 10/27 - Loss: 0.1760\n",
      "[Epoch 51/30] Step 20/27 - Loss: 0.1968\n",
      "🔁 Epoch 51 finished. Avg Train Loss: 0.1945\n",
      "✅ Validation Loss: 0.1254 | Accuracy: 79.58%\n",
      "[Epoch 52/30] Step 0/27 - Loss: 0.1993\n",
      "[Epoch 52/30] Step 10/27 - Loss: 0.2036\n",
      "[Epoch 52/30] Step 20/27 - Loss: 0.1863\n",
      "🔁 Epoch 52 finished. Avg Train Loss: 0.1936\n",
      "✅ Validation Loss: 0.1250 | Accuracy: 79.76%\n",
      "[Epoch 53/30] Step 0/27 - Loss: 0.1944\n",
      "[Epoch 53/30] Step 10/27 - Loss: 0.1995\n",
      "[Epoch 53/30] Step 20/27 - Loss: 0.2140\n",
      "🔁 Epoch 53 finished. Avg Train Loss: 0.1944\n",
      "✅ Validation Loss: 0.1248 | Accuracy: 79.42%\n",
      "[Epoch 54/30] Step 0/27 - Loss: 0.1834\n",
      "[Epoch 54/30] Step 10/27 - Loss: 0.1816\n",
      "[Epoch 54/30] Step 20/27 - Loss: 0.1922\n",
      "🔁 Epoch 54 finished. Avg Train Loss: 0.1933\n",
      "✅ Validation Loss: 0.1245 | Accuracy: 79.57%\n",
      "[Epoch 55/30] Step 0/27 - Loss: 0.1882\n",
      "[Epoch 55/30] Step 10/27 - Loss: 0.1821\n",
      "[Epoch 55/30] Step 20/27 - Loss: 0.2209\n",
      "🔁 Epoch 55 finished. Avg Train Loss: 0.1950\n",
      "✅ Validation Loss: 0.1272 | Accuracy: 78.92%\n",
      "[Epoch 56/30] Step 0/27 - Loss: 0.2186\n",
      "[Epoch 56/30] Step 10/27 - Loss: 0.1987\n",
      "[Epoch 56/30] Step 20/27 - Loss: 0.1946\n",
      "🔁 Epoch 56 finished. Avg Train Loss: 0.1945\n",
      "✅ Validation Loss: 0.1240 | Accuracy: 80.03%\n",
      "Best model saved at epoch 56 with loss 0.1240\n",
      "[Epoch 57/30] Step 0/27 - Loss: 0.1649\n",
      "[Epoch 57/30] Step 10/27 - Loss: 0.1908\n",
      "[Epoch 57/30] Step 20/27 - Loss: 0.1901\n",
      "🔁 Epoch 57 finished. Avg Train Loss: 0.1948\n",
      "✅ Validation Loss: 0.1257 | Accuracy: 79.40%\n",
      "[Epoch 58/30] Step 0/27 - Loss: 0.1838\n",
      "[Epoch 58/30] Step 10/27 - Loss: 0.1844\n",
      "[Epoch 58/30] Step 20/27 - Loss: 0.2162\n",
      "🔁 Epoch 58 finished. Avg Train Loss: 0.1943\n",
      "✅ Validation Loss: 0.1246 | Accuracy: 79.81%\n",
      "[Epoch 59/30] Step 0/27 - Loss: 0.1954\n",
      "[Epoch 59/30] Step 10/27 - Loss: 0.2000\n",
      "[Epoch 59/30] Step 20/27 - Loss: 0.1975\n",
      "🔁 Epoch 59 finished. Avg Train Loss: 0.1947\n",
      "✅ Validation Loss: 0.1244 | Accuracy: 79.90%\n",
      "[Epoch 60/30] Step 0/27 - Loss: 0.1975\n",
      "[Epoch 60/30] Step 10/27 - Loss: 0.1992\n",
      "[Epoch 60/30] Step 20/27 - Loss: 0.2240\n",
      "🔁 Epoch 60 finished. Avg Train Loss: 0.1954\n",
      "✅ Validation Loss: 0.1254 | Accuracy: 79.50%\n",
      "🏁 Training completed.\n"
     ]
    }
   ],
   "source": [
    "log = train_loop(\n",
    "    model, train_loader, val_loader, \n",
    "    log_interval=10, \n",
    "    num_epochs=30, \n",
    "    optimizer=optimizer, \n",
    "    criterion=criterion,\n",
    "    save_interval=5,\n",
    "    save_path='model/0811_1802/',\n",
    ")"
   ]
  },
  {
   "cell_type": "code",
   "execution_count": 52,
   "id": "8f7a75cd",
   "metadata": {},
   "outputs": [
    {
     "data": {
      "text/plain": [
       "<matplotlib.legend.Legend at 0x22933af14e0>"
      ]
     },
     "execution_count": 52,
     "metadata": {},
     "output_type": "execute_result"
    },
    {
     "data": {
      "image/png": "[encoded data removed]",
      "text/plain": [
       "<Figure size 640x480 with 1 Axes>"
      ]
     },
     "metadata": {},
     "output_type": "display_data"
    }
   ],
   "source": [
    "import matplotlib.pyplot as plt\n",
    "plt.plot(log['train_loss'], label='train_loss')\n",
    "plt.plot(log['val_loss'], label='val_loss')\n",
    "plt.xlabel('Epoch')\n",
    "plt.ylabel('Loss')\n",
    "plt.legend()"
   ]
  },
  {
   "cell_type": "markdown",
   "id": "9612ae49",
   "metadata": {},
   "source": [
    "### Model Evaluation"
   ]
  },
  {
   "cell_type": "code",
   "execution_count": 37,
   "id": "20e18558",
   "metadata": {},
   "outputs": [],
   "source": [
    "import matplotlib.pyplot as plt\n",
    "from sklearn.metrics import classification_report, confusion_matrix\n",
    "from sklearn.metrics import roc_auc_score, roc_curve\n",
    "\n",
    "def evaluate_model(model, data_loader):\n",
    "    trues, predictions, outputs = test_loop(model, data_loader, device='cuda', criterion=criterion)\n",
    "    print(classification_report(trues, predictions , target_names=['Normal', 'Failure']))\n",
    "    print(confusion_matrix(trues, predictions ))\n",
    "    roc_auc = roc_auc_score(trues, outputs)\n",
    "    print(f\"ROC AUC: {roc_auc:.4f}\")\n",
    "    curve = roc_curve(trues, outputs)\n",
    "\n",
    "    plt.figure(figsize=(8, 6))\n",
    "    plt.plot(curve[0], curve[1], label='ROC Curve')\n",
    "    plt.xlabel('False Positive Rate')\n",
    "    plt.ylabel('True Positive Rate')\n",
    "    plt.title('ROC Curve')"
   ]
  },
  {
   "cell_type": "code",
   "execution_count": 39,
   "id": "52e4da64",
   "metadata": {},
   "outputs": [
    {
     "data": {
      "text/plain": [
       "<All keys matched successfully>"
      ]
     },
     "execution_count": 39,
     "metadata": {},
     "output_type": "execute_result"
    }
   ],
   "source": [
    "model = CNNLSTMModel(num_features=len(extended_feature_cols), cnn_out_channels=64, lstm_hidden_size=128)\n",
    "model.load_state_dict(torch.load(r'model\\0811_1802\\best_model.pth', weights_only=True))"
   ]
  },
  {
   "cell_type": "code",
   "execution_count": 53,
   "id": "a92d6e62",
   "metadata": {},
   "outputs": [
    {
     "name": "stdout",
     "output_type": "stream",
     "text": [
      "Performance on Training Set:\n",
      "🔍 Test Loss: 0.1931 | Accuracy: 66.73%\n",
      "              precision    recall  f1-score   support\n",
      "\n",
      "      Normal       0.66      0.69      0.67      3445\n",
      "     Failure       0.67      0.65      0.66      3445\n",
      "\n",
      "    accuracy                           0.67      6890\n",
      "   macro avg       0.67      0.67      0.67      6890\n",
      "weighted avg       0.67      0.67      0.67      6890\n",
      "\n",
      "[[2368 1077]\n",
      " [1215 2230]]\n",
      "ROC AUC: 0.7630\n"
     ]
    },
    {
     "data": {
      "image/png": "[encoded data removed]",
      "text/plain": [
       "<Figure size 800x600 with 1 Axes>"
      ]
     },
     "metadata": {},
     "output_type": "display_data"
    }
   ],
   "source": [
    "print(\"Performance on Training Set:\")\n",
    "evaluate_model(model, train_loader)"
   ]
  },
  {
   "cell_type": "code",
   "execution_count": 54,
   "id": "ae0790bb",
   "metadata": {},
   "outputs": [
    {
     "name": "stdout",
     "output_type": "stream",
     "text": [
      "Performance on Validation Set:\n",
      "🔍 Test Loss: 0.1254 | Accuracy: 79.50%\n",
      "              precision    recall  f1-score   support\n",
      "\n",
      "      Normal       1.00      0.80      0.89     86810\n",
      "     Failure       0.01      0.51      0.02       360\n",
      "\n",
      "    accuracy                           0.79     87170\n",
      "   macro avg       0.50      0.65      0.45     87170\n",
      "weighted avg       0.99      0.79      0.88     87170\n",
      "\n",
      "[[69116 17694]\n",
      " [  176   184]]\n",
      "ROC AUC: 0.7948\n"
     ]
    },
    {
     "data": {
      "image/png": "[encoded data removed]",
      "text/plain": [
       "<Figure size 800x600 with 1 Axes>"
      ]
     },
     "metadata": {},
     "output_type": "display_data"
    }
   ],
   "source": [
    "print(\"Performance on Validation Set:\")\n",
    "evaluate_model(model, val_loader)"
   ]
  },
  {
   "cell_type": "code",
   "execution_count": 55,
   "id": "25e186ec",
   "metadata": {},
   "outputs": [
    {
     "name": "stdout",
     "output_type": "stream",
     "text": [
      "Performance on Test Set:\n",
      "🔍 Test Loss: 0.1471 | Accuracy: 75.70%\n",
      "              precision    recall  f1-score   support\n",
      "\n",
      "      Normal       0.97      0.78      0.86     35751\n",
      "     Failure       0.04      0.26      0.07      1296\n",
      "\n",
      "    accuracy                           0.76     37047\n",
      "   macro avg       0.50      0.52      0.46     37047\n",
      "weighted avg       0.93      0.76      0.83     37047\n",
      "\n",
      "[[27708  8043]\n",
      " [  959   337]]\n",
      "ROC AUC: 0.5207\n"
     ]
    },
    {
     "data": {
      "image/png": "[encoded data removed]",
      "text/plain": [
       "<Figure size 800x600 with 1 Axes>"
      ]
     },
     "metadata": {},
     "output_type": "display_data"
    }
   ],
   "source": [
    "print(\"Performance on Test Set:\")\n",
    "evaluate_model(model, test_loader)"
   ]
  }
 ],
 "metadata": {
  "kernelspec": {
   "display_name": "Python 3",
   "language": "python",
   "name": "python3"
  },
  "language_info": {
   "codemirror_mode": {
    "name": "ipython",
    "version": 3
   },
   "file_extension": ".py",
   "mimetype": "text/x-python",
   "name": "python",
   "nbconvert_exporter": "python",
   "pygments_lexer": "ipython3",
   "version": "3.10.11"
  }
 },
 "nbformat": 4,
 "nbformat_minor": 5
}

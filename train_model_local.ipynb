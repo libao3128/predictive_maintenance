{
 "cells": [
  {
   "cell_type": "code",
   "execution_count": 1,
   "id": "5633ed8e",
   "metadata": {},
   "outputs": [],
   "source": [
    "import pandas as pd\n",
    "from src.train import train_loop, test_loop\n",
    "from src.model import CNNLSTMModel\n",
    "from src.dataset import InverterTimeSeriesDataset\n",
    "from src.preprocess import *\n",
    "from src.visualize import *\n",
    "import torch\n"
   ]
  },
  {
   "cell_type": "markdown",
   "id": "fcf3d759",
   "metadata": {},
   "source": [
    "## Hyper-Parameter"
   ]
  },
  {
   "cell_type": "code",
   "execution_count": 24,
   "id": "5f407469",
   "metadata": {},
   "outputs": [],
   "source": [
    "performe_visualization = True"
   ]
  },
  {
   "cell_type": "code",
   "execution_count": null,
   "id": "37ac0a88",
   "metadata": {},
   "outputs": [],
   "source": [
    "# some important parameters\n",
    "pre_day = 7\n",
    "window_size = 12*24 # 5 minutes * 12 * 24 * 3 = 3 day\n",
    "stride = 12 # 1 hour stride\n",
    "\n",
    "feature_cols = [\n",
    "    \"metric.STATUS_AC_MOD_ADMISSION_TEMP.MEASURED\",  # ambient temperature\n",
    "    \"metric.STATUS_INTERNAL_TEMP.MEASURED\",          # internal temperature\n",
    "    \"metric.AC_VOLTAGE_AB.MEASURED\",                 # AC voltage\n",
    "    \"metric.AC_VOLTAGE_BC.MEASURED\",                 # AC voltage\n",
    "    \"metric.AC_VOLTAGE_CA.MEASURED\",                 # AC voltage\n",
    "    \"metric.DC_VOLTAGE.MEASURED\"                     # DC voltage\n",
    "]\n",
    "\n",
    "exclude_periods = [\n",
    "    [pd.Timestamp('2021-01-01'), pd.Timestamp('2021-12-23')], # data collection issue\n",
    "    [pd.Timestamp('2023-02-23'), pd.Timestamp('2023-08-26')] # anomalies in the data\n",
    "]"
   ]
  },
  {
   "cell_type": "markdown",
   "id": "dc771650",
   "metadata": {},
   "source": [
    "## Data Preprocessing\n",
    "### Load Data"
   ]
  },
  {
   "cell_type": "code",
   "execution_count": 3,
   "id": "9dfd396c",
   "metadata": {},
   "outputs": [
    {
     "name": "stdout",
     "output_type": "stream",
     "text": [
      "Loaded 15 parquet files → 6126272 rows\n",
      "Kept 61 sessions longer than 3 days\n"
     ]
    }
   ],
   "source": [
    "inverter_data = load_parquet_data('data/inverter_data')\n",
    "failure_sessions = load_failure_sessions('data/failure_sessions.csv', min_days=3)"
   ]
  },
  {
   "cell_type": "code",
   "execution_count": null,
   "id": "5fb6ee2e",
   "metadata": {},
   "outputs": [],
   "source": [
    "if performe_visualization:\n",
    "    # Visualize the raw data\n",
    "    visualize_hourly_mean_values(inverter_data, failure_sessions, feature_cols, 'visualization/raw_data/')"
   ]
  },
  {
   "cell_type": "markdown",
   "id": "03ae16f2",
   "metadata": {},
   "source": [
    "### Data Cleaning"
   ]
  },
  {
   "cell_type": "code",
   "execution_count": 5,
   "id": "7de9395d",
   "metadata": {},
   "outputs": [
    {
     "name": "stdout",
     "output_type": "stream",
     "text": [
      "inverter_data shape: (6126272, 59)\n",
      "Excluded data shape: (5172608, 59)\n"
     ]
    }
   ],
   "source": [
    "print(\"inverter_data shape:\", inverter_data.shape)\n",
    "excluded_data = exclude_periods_from_data(inverter_data, exclude_periods)\n",
    "print(\"Excluded data shape:\", excluded_data.shape)"
   ]
  },
  {
   "cell_type": "code",
   "execution_count": null,
   "id": "abe8c038",
   "metadata": {},
   "outputs": [],
   "source": [
    "selected_data = excluded_data[['event_local_time', 'device_name'] + feature_cols]\n",
    "if performe_visualization:\n",
    "    # Visualize the filtered data\n",
    "    visualize_hourly_mean_values(selected_data, failure_sessions, feature_cols, 'visualization/filtered_data/')"
   ]
  },
  {
   "cell_type": "markdown",
   "id": "c7979e30",
   "metadata": {},
   "source": [
    "### Data Labeling"
   ]
  },
  {
   "cell_type": "code",
   "execution_count": 8,
   "id": "c262cba8",
   "metadata": {},
   "outputs": [
    {
     "name": "stdout",
     "output_type": "stream",
     "text": [
      "Total pre-failure rows: 86268\n",
      "Total rows: 5026798\n"
     ]
    }
   ],
   "source": [
    "labeled_df = prepare_dataset(selected_data, failure_sessions, pre_days=pre_day)"
   ]
  },
  {
   "cell_type": "markdown",
   "id": "c72f57da",
   "metadata": {},
   "source": [
    "### Missing Value Mask"
   ]
  },
  {
   "cell_type": "code",
   "execution_count": 9,
   "id": "74fb2cba",
   "metadata": {},
   "outputs": [],
   "source": [
    "def generate_missing_value_mask(df: pd.DataFrame, features_cols: list[str]) -> pd.DataFrame:\n",
    "    # Step 1: 缺失 mask\n",
    "    for col in features_cols:\n",
    "        df[f\"{col}_missing\"] = df[col].isna().astype(int)\n",
    "        \n",
    "generate_missing_value_mask(labeled_df, feature_cols)"
   ]
  },
  {
   "cell_type": "markdown",
   "id": "e502018d",
   "metadata": {},
   "source": [
    "### Missing Value Imputation"
   ]
  },
  {
   "cell_type": "code",
   "execution_count": 10,
   "id": "5c4cb621",
   "metadata": {},
   "outputs": [],
   "source": [
    "from typing import List\n",
    "\n",
    "def missing_value_imputation(\n",
    "    df: pd.DataFrame,\n",
    "    feature_cols: List[str],\n",
    "    time_col: str = \"event_local_time\",\n",
    "    device_col: str = \"device_name\",\n",
    "    short_gap_limit: int = 6,   # 5 分鐘資料 -> 6 筆 ≈ 30 分鐘內用插值\n",
    "    long_fill_value: float = 0.0,\n",
    "    add_missing_mask: bool = True,\n",
    ") -> pd.DataFrame:\n",
    "    \"\"\"\n",
    "    針對多裝置時間序列做缺失補值：\n",
    "      1) 先產生 per-step 缺失 mask（可選）\n",
    "      2) 每個裝置內，以時間排序後對 feature 做「時間型插值」(limit=short_gap_limit)\n",
    "      3) 尚未補到的長缺失以指定值（預設 0）補齊\n",
    "\n",
    "    參數：\n",
    "      - df: 原始 DataFrame，需包含 time_col 與 device_col\n",
    "      - feature_cols: 要補值的數值欄位\n",
    "      - time_col: 時間欄位名稱（需可轉為 datetime）\n",
    "      - device_col: 裝置欄位名稱\n",
    "      - short_gap_limit: 連續缺失筆數在此上限以內使用插值\n",
    "      - long_fill_value: 插值後仍為 NaN 的長缺失以此值補\n",
    "      - add_missing_mask: 是否為每個 feature 產生 *_missing 的 0/1 mask 欄位\n",
    "\n",
    "    回傳：\n",
    "      - 完成補值與（可選）新增 mask 的 DataFrame\n",
    "    \"\"\"\n",
    "    imputed_df = df.copy()\n",
    "\n",
    "    # 確保時間欄為 datetime\n",
    "    imputed_df[time_col] = pd.to_datetime(imputed_df[time_col], errors=\"coerce\")\n",
    "\n",
    "    # 需要的欄位存在性檢查\n",
    "    missing_cols = [c for c in [time_col, device_col] + feature_cols if c not in imputed_df.columns]\n",
    "    if missing_cols:\n",
    "        raise KeyError(f\"Columns not found in df: {missing_cols}\")\n",
    "\n",
    "    for device, device_data in imputed_df.groupby(device_col, sort=False):\n",
    "        # 複製避免 SettingWithCopy\n",
    "        block = device_data.loc[:, [time_col, device_col] + feature_cols].copy()\n",
    "        # 記住原始索引以便放回\n",
    "        block[\"_orig_idx\"] = block.index\n",
    "\n",
    "        # 產生 per-step 缺失 mask（基於原始缺失）\n",
    "        if add_missing_mask:\n",
    "            for col in feature_cols:\n",
    "                imputed_df.loc[block[\"_orig_idx\"], f\"{col}_missing\"] = block[col].isna().astype(int)\n",
    "\n",
    "        # 依時間排序並以時間為索引做 time-based interpolate\n",
    "        block = block.sort_values(time_col)\n",
    "        block = block.set_index(time_col)\n",
    "\n",
    "        # 僅對目標特徵做處理\n",
    "        # 短缺失：時間插值（雙向皆可，避免前段或尾段全 NaN 無法補）\n",
    "        block[feature_cols] = block[feature_cols].interpolate(\n",
    "            method=\"time\", limit=short_gap_limit\n",
    "        ).interpolate(method=\"time\", limit_direction=\"both\")\n",
    "\n",
    "        # 長缺失：仍為 NaN 的以指定值補齊\n",
    "        block[feature_cols] = block[feature_cols].fillna(long_fill_value)\n",
    "\n",
    "        # 還原索引與順序\n",
    "        block = block.reset_index()\n",
    "        block = block.set_index(\"_orig_idx\").sort_index()\n",
    "\n",
    "        # 寫回 imputed_df（僅覆蓋目標特徵欄）\n",
    "        imputed_df.loc[block.index, feature_cols] = block[feature_cols].values\n",
    "\n",
    "    return imputed_df\n"
   ]
  },
  {
   "cell_type": "code",
   "execution_count": 11,
   "id": "e6b1d156",
   "metadata": {},
   "outputs": [],
   "source": [
    "imputed_df = missing_value_imputation(labeled_df, feature_cols, time_col='event_local_time', device_col='device_name', short_gap_limit=6, long_fill_value=0.0, add_missing_mask=True)"
   ]
  },
  {
   "cell_type": "markdown",
   "id": "b181af6b",
   "metadata": {},
   "source": [
    "### Split Dataset"
   ]
  },
  {
   "cell_type": "code",
   "execution_count": 12,
   "id": "9e26fda1",
   "metadata": {},
   "outputs": [
    {
     "name": "stdout",
     "output_type": "stream",
     "text": [
      "Train set size: 3518759 Train set time range: 2021-12-24 00:00:00 to 2024-08-16 09:30:00\n",
      "Test set size: 1508039 Test set time range: 2024-08-16 09:30:00 to 2025-07-23 23:35:00\n",
      "Train set size: 1055628 Train set time range: 2024-08-16 09:30:00 to 2025-04-03 12:30:00\n",
      "Test set size: 452411 Test set time range: 2025-04-03 12:30:00 to 2025-07-23 23:35:00\n"
     ]
    }
   ],
   "source": [
    "train_df, test_df = train_test_split_on_time(imputed_df, 0.3)\n",
    "val_df, test_df = train_test_split_on_time(test_df, 0.3)"
   ]
  },
  {
   "cell_type": "markdown",
   "id": "777fd02b",
   "metadata": {},
   "source": [
    "### Standardization"
   ]
  },
  {
   "cell_type": "code",
   "execution_count": 13,
   "id": "cbde8f9f",
   "metadata": {},
   "outputs": [],
   "source": [
    "from sklearn.preprocessing import StandardScaler\n",
    "scaler = StandardScaler()\n",
    "train_df[feature_cols] = scaler.fit_transform(train_df[feature_cols])\n",
    "val_df[feature_cols] = scaler.transform(val_df[feature_cols])\n",
    "test_df[feature_cols] = scaler.transform(test_df[feature_cols])"
   ]
  },
  {
   "cell_type": "code",
   "execution_count": 14,
   "id": "bd695259",
   "metadata": {},
   "outputs": [],
   "source": [
    "feature_cols = feature_cols+[col+'_missing' for col in feature_cols]"
   ]
  },
  {
   "cell_type": "code",
   "execution_count": 15,
   "id": "c2ce625e",
   "metadata": {},
   "outputs": [],
   "source": [
    "#visualize_hourly_mean_values(train_df, failure_sessions, feature_cols, 'visualization/train_data/')"
   ]
  },
  {
   "cell_type": "code",
   "execution_count": 16,
   "id": "aafdee16",
   "metadata": {},
   "outputs": [
    {
     "name": "stdout",
     "output_type": "stream",
     "text": [
      "Visualization saved for device: INV 62 at visualization/validation_data//INV 62.html\n",
      "Visualization saved for device: INV 60 at visualization/validation_data//INV 60.html\n",
      "Visualization saved for device: INV 53 at visualization/validation_data//INV 53.html\n",
      "Visualization saved for device: INV 58 at visualization/validation_data//INV 58.html\n",
      "Visualization saved for device: INV 56 at visualization/validation_data//INV 56.html\n",
      "Visualization saved for device: INV 61 at visualization/validation_data//INV 61.html\n",
      "Visualization saved for device: INV 52 at visualization/validation_data//INV 52.html\n",
      "Visualization saved for device: INV 64 at visualization/validation_data//INV 64.html\n",
      "Visualization saved for device: INV 57 at visualization/validation_data//INV 57.html\n",
      "Visualization saved for device: INV 59 at visualization/validation_data//INV 59.html\n",
      "Visualization saved for device: INV 51 at visualization/validation_data//INV 51.html\n",
      "Visualization saved for device: INV 63 at visualization/validation_data//INV 63.html\n",
      "Visualization saved for device: INV 65 at visualization/validation_data//INV 65.html\n",
      "Visualization saved for device: INV 55 at visualization/validation_data//INV 55.html\n",
      "Visualization saved for device: INV 54 at visualization/validation_data//INV 54.html\n",
      "Visualization saved for device: INV 66 at visualization/validation_data//INV 66.html\n"
     ]
    }
   ],
   "source": [
    "visualize_hourly_mean_values(val_df, failure_sessions, feature_cols+['label'], 'visualization/validation_data/')"
   ]
  },
  {
   "cell_type": "markdown",
   "id": "3c9b4875",
   "metadata": {},
   "source": [
    "### Create Dataset/Data Loader"
   ]
  },
  {
   "cell_type": "code",
   "execution_count": 17,
   "id": "89be8408",
   "metadata": {},
   "outputs": [
    {
     "name": "stderr",
     "output_type": "stream",
     "text": [
      "Processing devices: 100%|██████████| 16/16 [00:01<00:00, 11.47it/s]\n",
      "Processing devices: 100%|██████████| 16/16 [00:00<00:00, 25.00it/s]\n",
      "Processing devices: 100%|██████████| 16/16 [00:00<00:00, 36.89it/s]\n"
     ]
    }
   ],
   "source": [
    "from torch.utils.data import DataLoader\n",
    "\n",
    "train_ds = InverterTimeSeriesDataset(train_df, feature_cols, under_sample=True, window_size=window_size, stride=stride)\n",
    "val_ds   = InverterTimeSeriesDataset(val_df,   feature_cols, window_size=window_size, stride=stride)\n",
    "test_ds  = InverterTimeSeriesDataset(test_df,  feature_cols, window_size=window_size, stride=stride)"
   ]
  },
  {
   "cell_type": "code",
   "execution_count": 18,
   "id": "6e127b2e",
   "metadata": {},
   "outputs": [
    {
     "data": {
      "text/plain": [
       "torch.Size([9578, 288, 8])"
      ]
     },
     "execution_count": 18,
     "metadata": {},
     "output_type": "execute_result"
    }
   ],
   "source": [
    "train_ds.X.shape"
   ]
  },
  {
   "cell_type": "code",
   "execution_count": 19,
   "id": "4d6d5889",
   "metadata": {},
   "outputs": [
    {
     "data": {
      "text/plain": [
       "0.0    86679\n",
       "1.0      491\n",
       "dtype: int64"
      ]
     },
     "execution_count": 19,
     "metadata": {},
     "output_type": "execute_result"
    }
   ],
   "source": [
    "pd.value_counts(val_ds.y.numpy()).sort_index()"
   ]
  },
  {
   "cell_type": "code",
   "execution_count": 20,
   "id": "dc679b9d",
   "metadata": {},
   "outputs": [
    {
     "data": {
      "text/plain": [
       "(0.0    4789\n",
       " 1.0    4789\n",
       " dtype: int64,\n",
       " 0.0    86679\n",
       " 1.0      491\n",
       " dtype: int64,\n",
       " 0.0    35271\n",
       " 1.0     1776\n",
       " dtype: int64)"
      ]
     },
     "execution_count": 20,
     "metadata": {},
     "output_type": "execute_result"
    }
   ],
   "source": [
    "pd.value_counts(train_ds.y.numpy()), pd.value_counts(val_ds.y.numpy()), pd.value_counts(test_ds.y.numpy())"
   ]
  },
  {
   "cell_type": "code",
   "execution_count": 21,
   "id": "b204cf86",
   "metadata": {},
   "outputs": [],
   "source": [
    "batch_size = 2**8\n",
    "train_loader = DataLoader(train_ds, batch_size=batch_size, shuffle=True,  num_workers=6, pin_memory=True)\n",
    "val_loader   = DataLoader(val_ds,   batch_size=batch_size, shuffle=False, num_workers=6, pin_memory=True)\n",
    "test_loader  = DataLoader(test_ds,  batch_size=batch_size, shuffle=False, num_workers=6, pin_memory=True)"
   ]
  },
  {
   "cell_type": "markdown",
   "id": "6bc7c875",
   "metadata": {},
   "source": [
    "## Train Model"
   ]
  },
  {
   "cell_type": "code",
   "execution_count": 22,
   "id": "ac4316e3",
   "metadata": {},
   "outputs": [],
   "source": [
    "model = CNNLSTMModel(num_features=len(feature_cols), cnn_out_channels=64, lstm_hidden_size=128)\n",
    "optimizer = torch.optim.Adam(model.parameters(), lr=0.001)\n",
    "criterion = torch.nn.MSELoss()"
   ]
  },
  {
   "cell_type": "code",
   "execution_count": null,
   "id": "1f7b89ee",
   "metadata": {},
   "outputs": [],
   "source": [
    "log = train_loop(\n",
    "    model, train_loader, val_loader, \n",
    "    log_interval=10, \n",
    "    num_epochs=30, \n",
    "    optimizer=optimizer, \n",
    "    criterion=criterion,\n",
    "    save_interval=5\n",
    ")"
   ]
  },
  {
   "cell_type": "markdown",
   "id": "9612ae49",
   "metadata": {},
   "source": [
    "### Model Evaluation"
   ]
  },
  {
   "cell_type": "code",
   "execution_count": null,
   "id": "20e18558",
   "metadata": {},
   "outputs": [],
   "source": [
    "import matplotlib.pyplot as plt\n",
    "from sklearn.metrics import classification_report, confusion_matrix\n",
    "from sklearn.metrics import roc_auc_score, roc_curve\n",
    "\n",
    "def evaluate_model(model, data_loader):\n",
    "    trues, predictions, outputs = test_loop(model, data_loader, device='cuda', criterion=criterion)\n",
    "    print(classification_report(trues, predictions , target_names=['Normal', 'Failure']))\n",
    "    print(confusion_matrix(trues, predictions ))\n",
    "    roc_auc = roc_auc_score(trues, outputs)\n",
    "    print(f\"ROC AUC: {roc_auc:.4f}\")\n",
    "    curve = roc_curve(trues, outputs)\n",
    "\n",
    "    plt.figure(figsize=(8, 6))\n",
    "    plt.plot(curve[0], curve[1], label='ROC Curve')\n",
    "    plt.xlabel('False Positive Rate')\n",
    "    plt.ylabel('True Positive Rate')\n",
    "    plt.title('ROC Curve')"
   ]
  },
  {
   "cell_type": "code",
   "execution_count": null,
   "id": "52e4da64",
   "metadata": {},
   "outputs": [
    {
     "name": "stderr",
     "output_type": "stream",
     "text": [
      "C:\\Users\\USER\\AppData\\Local\\Packages\\PythonSoftwareFoundation.Python.3.10_qbz5n2kfra8p0\\LocalCache\\local-packages\\Python310\\site-packages\\torch\\_utils.py:831: UserWarning:\n",
      "\n",
      "TypedStorage is deprecated. It will be removed in the future and UntypedStorage will be the only storage class. This should only matter to you if you are using storages directly.  To access UntypedStorage directly, use tensor.untyped_storage() instead of tensor.storage()\n",
      "\n"
     ]
    },
    {
     "data": {
      "text/plain": [
       "<All keys matched successfully>"
      ]
     },
     "execution_count": 27,
     "metadata": {},
     "output_type": "execute_result"
    }
   ],
   "source": [
    "model = CNNLSTMModel(num_features=len(feature_cols), cnn_out_channels=64, lstm_hidden_size=128)\n",
    "model.load_state_dict(torch.load(r'model\\0811_1634\\epoch_29.pth', weights_only=True))"
   ]
  },
  {
   "cell_type": "code",
   "execution_count": null,
   "id": "a92d6e62",
   "metadata": {},
   "outputs": [
    {
     "name": "stdout",
     "output_type": "stream",
     "text": [
      "Performance on Training Set:\n",
      "🔍 Test Loss: 0.2155 | Accuracy: 61.41%\n",
      "              precision    recall  f1-score   support\n",
      "\n",
      "      Normal       0.60      0.69      0.64      4789\n",
      "     Failure       0.63      0.54      0.58      4789\n",
      "\n",
      "    accuracy                           0.61      9578\n",
      "   macro avg       0.62      0.61      0.61      9578\n",
      "weighted avg       0.62      0.61      0.61      9578\n",
      "\n",
      "[[3310 1479]\n",
      " [2217 2572]]\n",
      "ROC AUC: 0.6873\n"
     ]
    },
    {
     "data": {
      "image/png": "[encoded data removed]",
      "text/plain": [
       "<Figure size 800x600 with 1 Axes>"
      ]
     },
     "metadata": {},
     "output_type": "display_data"
    }
   ],
   "source": [
    "print(\"Performance on Training Set:\")\n",
    "evaluate_model(model, train_loader)"
   ]
  },
  {
   "cell_type": "code",
   "execution_count": null,
   "id": "ae0790bb",
   "metadata": {},
   "outputs": [
    {
     "name": "stdout",
     "output_type": "stream",
     "text": [
      "Performance on Validation Set:\n",
      "🔍 Test Loss: 0.1548 | Accuracy: 82.50%\n",
      "              precision    recall  f1-score   support\n",
      "\n",
      "      Normal       1.00      0.83      0.90     86679\n",
      "     Failure       0.01      0.27      0.02       491\n",
      "\n",
      "    accuracy                           0.82     87170\n",
      "   macro avg       0.50      0.55      0.46     87170\n",
      "weighted avg       0.99      0.82      0.90     87170\n",
      "\n",
      "[[71782 14897]\n",
      " [  360   131]]\n",
      "ROC AUC: 0.6827\n"
     ]
    },
    {
     "data": {
      "image/png": "[encoded data removed]",
      "text/plain": [
       "<Figure size 800x600 with 1 Axes>"
      ]
     },
     "metadata": {},
     "output_type": "display_data"
    }
   ],
   "source": [
    "print(\"Performance on Validation Set:\")\n",
    "evaluate_model(model, val_loader)"
   ]
  },
  {
   "cell_type": "code",
   "execution_count": null,
   "id": "25e186ec",
   "metadata": {},
   "outputs": [
    {
     "name": "stdout",
     "output_type": "stream",
     "text": [
      "Performance on Test Set:\n",
      "🔍 Test Loss: 0.1595 | Accuracy: 85.55%\n",
      "              precision    recall  f1-score   support\n",
      "\n",
      "      Normal       0.95      0.89      0.92     35271\n",
      "     Failure       0.06      0.14      0.09      1776\n",
      "\n",
      "    accuracy                           0.86     37047\n",
      "   macro avg       0.51      0.52      0.50     37047\n",
      "weighted avg       0.91      0.86      0.88     37047\n",
      "\n",
      "[[31438  3833]\n",
      " [ 1519   257]]\n",
      "ROC AUC: 0.5176\n"
     ]
    },
    {
     "data": {
      "image/png": "[encoded data removed]",
      "text/plain": [
       "<Figure size 800x600 with 1 Axes>"
      ]
     },
     "metadata": {},
     "output_type": "display_data"
    }
   ],
   "source": [
    "print(\"Performance on Test Set:\")\n",
    "evaluate_model(model, test_loader)"
   ]
  }
 ],
 "metadata": {
  "kernelspec": {
   "display_name": "Python 3",
   "language": "python",
   "name": "python3"
  },
  "language_info": {
   "codemirror_mode": {
    "name": "ipython",
    "version": 3
   },
   "file_extension": ".py",
   "mimetype": "text/x-python",
   "name": "python",
   "nbconvert_exporter": "python",
   "pygments_lexer": "ipython3",
   "version": "3.10.11"
  }
 },
 "nbformat": 4,
 "nbformat_minor": 5
}

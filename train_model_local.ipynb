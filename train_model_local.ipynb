{
 "cells": [
  {
   "cell_type": "code",
   "execution_count": 1,
   "id": "5633ed8e",
   "metadata": {},
   "outputs": [
    {
     "name": "stdout",
     "output_type": "stream",
     "text": [
      "Loaded 15 parquet files → 6126272 rows\n",
      "Kept 61 sessions longer than 3 days\n"
     ]
    }
   ],
   "source": [
    "import pandas as pd\n",
    "from src.train import train_loop, test_loop\n",
    "from src.model import CNNLSTMModel\n",
    "from src.dataset import InverterTimeSeriesDataset\n",
    "from src.preprocess import *\n",
    "import torch\n",
    "\n",
    "inverter_data = load_parquet_data('data/inverter_data')\n",
    "failure_sessions = load_failure_sessions('data/failure_sessions.csv', min_days=3)"
   ]
  },
  {
   "cell_type": "code",
   "execution_count": 2,
   "id": "c262cba8",
   "metadata": {},
   "outputs": [
    {
     "name": "stdout",
     "output_type": "stream",
     "text": [
      "Total pre-failure rows: 82486\n",
      "Total rows: 5905370\n"
     ]
    }
   ],
   "source": [
    "labeled_df = prepare_dataset(inverter_data, failure_sessions)\n",
    "labeled_df.fillna(0, inplace=True)"
   ]
  },
  {
   "cell_type": "code",
   "execution_count": 3,
   "id": "9e26fda1",
   "metadata": {},
   "outputs": [
    {
     "name": "stdout",
     "output_type": "stream",
     "text": [
      "Train set size: 4724296 Train set time range: 2021-12-02 00:00:00 to 2024-10-27 01:00:00\n",
      "Test set size: 1181074 Test set time range: 2024-10-27 01:00:00 to 2025-07-23 23:35:00\n",
      "Train set size: 590537 Train set time range: 2024-10-27 01:00:00 to 2025-03-04 04:40:00\n",
      "Test set size: 590537 Test set time range: 2025-03-04 04:40:00 to 2025-07-23 23:35:00\n"
     ]
    }
   ],
   "source": [
    "train_df, test_df = train_test_split_on_time(labeled_df, 0.2)\n",
    "val_df, test_df = train_test_split_on_time(test_df, 0.5)"
   ]
  },
  {
   "cell_type": "code",
   "execution_count": 4,
   "id": "89be8408",
   "metadata": {},
   "outputs": [
    {
     "name": "stderr",
     "output_type": "stream",
     "text": [
      "Processing devices: 100%|██████████| 16/16 [00:13<00:00,  1.20it/s]\n",
      "Processing devices: 100%|██████████| 16/16 [00:02<00:00,  6.47it/s]\n",
      "Processing devices: 100%|██████████| 16/16 [00:01<00:00,  8.40it/s]\n"
     ]
    }
   ],
   "source": [
    "feature_cols = [\n",
    "    \"metric.AC_POWER.MEASURED\",\n",
    "    \"metric.DC_POWER.MEASURED\",\n",
    "    \"metric.AC_CURRENT_A.MEASURED\",\n",
    "    \"metric.AC_CURRENT_B.MEASURED\",\n",
    "    \"metric.AC_CURRENT_C.MEASURED\",\n",
    "    \"metric.DC_CURRENT.MEASURED\",\n",
    "    \"metric.DC_CURRENT_AVG.MEASURED\",\n",
    "    \"metric.DC_CURRENT_MAX.MEASURED\",\n",
    "    \"metric.FREQUENCY.MEASURED\",\n",
    "    \"metric.POWER_FACTOR.MEASURED\",\n",
    "    \"metric.HEARTBEAT.MEASURED\",\n",
    "    \"metric.COMM_LINK.MEASURED\",\n",
    "    \"metric.STATUS_WARNING_WORD.MEASURED\",\n",
    "    \"metric.STATUS_FAULT_WORD.MEASURED\",\n",
    "    \"metric.STATUS_IGBT_MAX_TEMP.MEASURED\",\n",
    "    \"metric.STATUS_INTERNAL_TEMP.MEASURED\",\n",
    "    \"metric.STATUS_INTERNAL_HUMIDITY.MEASURED\"\n",
    "]\n",
    "\n",
    "\n",
    "from torch.utils.data import DataLoader\n",
    "\n",
    "train_ds = InverterTimeSeriesDataset(train_df, feature_cols, under_sample=True)\n",
    "val_ds   = InverterTimeSeriesDataset(val_df,   feature_cols)\n",
    "test_ds  = InverterTimeSeriesDataset(test_df,  feature_cols)"
   ]
  },
  {
   "cell_type": "code",
   "execution_count": 5,
   "id": "b204cf86",
   "metadata": {},
   "outputs": [],
   "source": [
    "batch_size = 2**13\n",
    "train_loader = DataLoader(train_ds, batch_size=batch_size, shuffle=True,  num_workers=6, pin_memory=True)\n",
    "val_loader   = DataLoader(val_ds,   batch_size=batch_size, shuffle=False, num_workers=6, pin_memory=True)\n",
    "test_loader  = DataLoader(test_ds,  batch_size=batch_size, shuffle=False, num_workers=6, pin_memory=True)"
   ]
  },
  {
   "cell_type": "code",
   "execution_count": 6,
   "id": "ac4316e3",
   "metadata": {},
   "outputs": [],
   "source": [
    "model = CNNLSTMModel(num_features=len(feature_cols))\n",
    "optimizer = torch.optim.Adam(model.parameters(), lr=0.001)\n",
    "criterion = torch.nn.MSELoss()"
   ]
  },
  {
   "cell_type": "code",
   "execution_count": 7,
   "id": "59c807ee",
   "metadata": {},
   "outputs": [
    {
     "name": "stdout",
     "output_type": "stream",
     "text": [
      "Model moved to cuda\n",
      "[Epoch 1/10] Step 0/16 - Loss: 0.2510\n",
      "[Epoch 1/10] Step 10/16 - Loss: 0.2490\n",
      "🔁 Epoch 1 finished. Avg Train Loss: 0.2491\n",
      "✅ Validation Loss: 0.2291 | Accuracy: 94.95%\n",
      "[Epoch 2/10] Step 0/16 - Loss: 0.2474\n",
      "[Epoch 2/10] Step 10/16 - Loss: 0.2452\n",
      "🔁 Epoch 2 finished. Avg Train Loss: 0.2456\n",
      "✅ Validation Loss: 0.2293 | Accuracy: 75.31%\n",
      "[Epoch 3/10] Step 0/16 - Loss: 0.2433\n",
      "[Epoch 3/10] Step 10/16 - Loss: 0.2422\n",
      "🔁 Epoch 3 finished. Avg Train Loss: 0.2412\n",
      "✅ Validation Loss: 0.2258 | Accuracy: 70.57%\n",
      "[Epoch 4/10] Step 0/16 - Loss: 0.2398\n",
      "[Epoch 4/10] Step 10/16 - Loss: 0.2364\n",
      "🔁 Epoch 4 finished. Avg Train Loss: 0.2377\n",
      "✅ Validation Loss: 0.2297 | Accuracy: 72.89%\n",
      "[Epoch 5/10] Step 0/16 - Loss: 0.2360\n",
      "[Epoch 5/10] Step 10/16 - Loss: 0.2337\n",
      "🔁 Epoch 5 finished. Avg Train Loss: 0.2348\n",
      "✅ Validation Loss: 0.2458 | Accuracy: 64.02%\n",
      "[Epoch 6/10] Step 0/16 - Loss: 0.2355\n",
      "[Epoch 6/10] Step 10/16 - Loss: 0.2320\n",
      "🔁 Epoch 6 finished. Avg Train Loss: 0.2329\n",
      "✅ Validation Loss: 0.2352 | Accuracy: 73.83%\n",
      "[Epoch 7/10] Step 0/16 - Loss: 0.2319\n",
      "[Epoch 7/10] Step 10/16 - Loss: 0.2334\n",
      "🔁 Epoch 7 finished. Avg Train Loss: 0.2318\n",
      "✅ Validation Loss: 0.1914 | Accuracy: 78.09%\n",
      "[Epoch 8/10] Step 0/16 - Loss: 0.2293\n",
      "[Epoch 8/10] Step 10/16 - Loss: 0.2278\n",
      "🔁 Epoch 8 finished. Avg Train Loss: 0.2299\n",
      "✅ Validation Loss: 0.1840 | Accuracy: 78.03%\n",
      "[Epoch 9/10] Step 0/16 - Loss: 0.2292\n",
      "[Epoch 9/10] Step 10/16 - Loss: 0.2257\n",
      "🔁 Epoch 9 finished. Avg Train Loss: 0.2284\n",
      "✅ Validation Loss: 0.1856 | Accuracy: 77.92%\n",
      "[Epoch 10/10] Step 0/16 - Loss: 0.2282\n",
      "[Epoch 10/10] Step 10/16 - Loss: 0.2294\n",
      "🔁 Epoch 10 finished. Avg Train Loss: 0.2289\n",
      "✅ Validation Loss: 0.1923 | Accuracy: 78.08%\n",
      "🏁 Training completed.\n"
     ]
    }
   ],
   "source": [
    "train_loop(model, train_loader, val_loader, log_interval=10, num_epochs=10, optimizer=optimizer, criterion=criterion)"
   ]
  },
  {
   "cell_type": "code",
   "execution_count": 8,
   "id": "091d46f6",
   "metadata": {},
   "outputs": [
    {
     "name": "stdout",
     "output_type": "stream",
     "text": [
      "🔍 Test Loss: 0.2389 | Accuracy: 55.47%\n"
     ]
    }
   ],
   "source": [
    "predictions = test_loop(model, test_loader, device='cuda', criterion=criterion)"
   ]
  },
  {
   "cell_type": "code",
   "execution_count": 14,
   "id": "3b3f9ce8",
   "metadata": {},
   "outputs": [
    {
     "data": {
      "text/plain": [
       "False    332281\n",
       "True     256951\n",
       "dtype: int64"
      ]
     },
     "execution_count": 14,
     "metadata": {},
     "output_type": "execute_result"
    }
   ],
   "source": [
    "pd.value_counts(predictions)"
   ]
  },
  {
   "cell_type": "code",
   "execution_count": 16,
   "id": "af1c98a2",
   "metadata": {},
   "outputs": [
    {
     "name": "stdout",
     "output_type": "stream",
     "text": [
      "              precision    recall  f1-score   support\n",
      "\n",
      "      Normal       0.97      0.56      0.71    571737\n",
      "     Failure       0.02      0.34      0.04     17495\n",
      "\n",
      "    accuracy                           0.55    589232\n",
      "   macro avg       0.49      0.45      0.38    589232\n",
      "weighted avg       0.94      0.55      0.69    589232\n",
      "\n",
      "[[320812 250925]\n",
      " [ 11469   6026]]\n"
     ]
    }
   ],
   "source": [
    "from sklearn.metrics import classification_report, confusion_matrix\n",
    "print(classification_report(test_ds.y.numpy(), predictions, target_names=['Normal', 'Failure']))\n",
    "print(confusion_matrix(test_ds.y.numpy(), predictions))"
   ]
  }
 ],
 "metadata": {
  "kernelspec": {
   "display_name": "Python 3",
   "language": "python",
   "name": "python3"
  },
  "language_info": {
   "codemirror_mode": {
    "name": "ipython",
    "version": 3
   },
   "file_extension": ".py",
   "mimetype": "text/x-python",
   "name": "python",
   "nbconvert_exporter": "python",
   "pygments_lexer": "ipython3",
   "version": "3.10.11"
  }
 },
 "nbformat": 4,
 "nbformat_minor": 5
}

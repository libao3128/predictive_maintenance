{
 "cells": [
  {
   "cell_type": "code",
   "execution_count": 1,
   "id": "5633ed8e",
   "metadata": {},
   "outputs": [],
   "source": [
    "import pandas as pd\n",
    "from src.train import train_loop\n",
    "from src.model import CNNLSTMModel\n",
    "from src.data_loader import InverterTimeSeriesDataset\n",
    "import torch\n",
    "\n",
    "inverter_data = pd.read_parquet('data/inverter_data/')\n",
    "inverter_data['event_local_time'] = pd.to_datetime(inverter_data['event_local_time'])\n",
    "failure_sessions = pd.read_csv('data/failure_sessions.csv', index_col=0, parse_dates=['start_time', 'end_time'])"
   ]
  },
  {
   "cell_type": "code",
   "execution_count": 2,
   "id": "999d19e9",
   "metadata": {},
   "outputs": [],
   "source": [
    "## TO BE REPLACED\n",
    "inverter_data['label'] = 0\n",
    "sample_data = inverter_data[inverter_data['device_name'] == 'INV 51'].iloc[:1000].copy()\n",
    "sample_data.fillna(0, inplace=True)"
   ]
  },
  {
   "cell_type": "code",
   "execution_count": 3,
   "id": "8a47c144",
   "metadata": {},
   "outputs": [
    {
     "name": "stderr",
     "output_type": "stream",
     "text": [
      "Processing devices:   0%|          | 0/1 [00:00<?, ?it/s]"
     ]
    },
    {
     "name": "stderr",
     "output_type": "stream",
     "text": [
      "Processing devices: 100%|██████████| 1/1 [00:00<00:00,  2.53it/s]\n"
     ]
    }
   ],
   "source": [
    "feature_cols = ['metric.AC_CURRENT_A.MEASURED', 'metric.AC_POWER.MEASURED']\n",
    "dataset = InverterTimeSeriesDataset(sample_data, feature_cols)"
   ]
  },
  {
   "cell_type": "code",
   "execution_count": 4,
   "id": "ac4316e3",
   "metadata": {},
   "outputs": [],
   "source": [
    "train_loader = torch.utils.data.DataLoader(dataset, batch_size=32, shuffle=True)\n",
    "\n",
    "model = CNNLSTMModel(num_features=len(feature_cols))\n",
    "optimizer = torch.optim.Adam(model.parameters(), lr=0.001)\n",
    "criterion = torch.nn.MSELoss()"
   ]
  },
  {
   "cell_type": "code",
   "execution_count": 5,
   "id": "59c807ee",
   "metadata": {},
   "outputs": [
    {
     "name": "stdout",
     "output_type": "stream",
     "text": [
      "[Epoch 1/10] Step 0/31 - Loss: 0.2917\n",
      "🔁 Epoch 1 finished. Avg Train Loss: 0.2135\n",
      "[Epoch 2/10] Step 0/31 - Loss: 0.0835\n",
      "🔁 Epoch 2 finished. Avg Train Loss: 0.0280\n",
      "[Epoch 3/10] Step 0/31 - Loss: 0.0026\n",
      "🔁 Epoch 3 finished. Avg Train Loss: 0.0011\n",
      "[Epoch 4/10] Step 0/31 - Loss: 0.0009\n",
      "🔁 Epoch 4 finished. Avg Train Loss: 0.0006\n",
      "[Epoch 5/10] Step 0/31 - Loss: 0.0003\n",
      "🔁 Epoch 5 finished. Avg Train Loss: 0.0004\n",
      "[Epoch 6/10] Step 0/31 - Loss: 0.0001\n",
      "🔁 Epoch 6 finished. Avg Train Loss: 0.0002\n",
      "[Epoch 7/10] Step 0/31 - Loss: 0.0001\n",
      "🔁 Epoch 7 finished. Avg Train Loss: 0.0002\n",
      "[Epoch 8/10] Step 0/31 - Loss: 0.0001\n",
      "🔁 Epoch 8 finished. Avg Train Loss: 0.0002\n",
      "[Epoch 9/10] Step 0/31 - Loss: 0.0003\n",
      "🔁 Epoch 9 finished. Avg Train Loss: 0.0001\n",
      "[Epoch 10/10] Step 0/31 - Loss: 0.0000\n",
      "🔁 Epoch 10 finished. Avg Train Loss: 0.0001\n",
      "🏁 Training completed.\n"
     ]
    }
   ],
   "source": [
    "train_loop(model, train_loader, num_epochs=10, optimizer=optimizer, criterion=criterion)"
   ]
  }
 ],
 "metadata": {
  "kernelspec": {
   "display_name": "Python 3",
   "language": "python",
   "name": "python3"
  },
  "language_info": {
   "codemirror_mode": {
    "name": "ipython",
    "version": 3
   },
   "file_extension": ".py",
   "mimetype": "text/x-python",
   "name": "python",
   "nbconvert_exporter": "python",
   "pygments_lexer": "ipython3",
   "version": "3.10.11"
  }
 },
 "nbformat": 4,
 "nbformat_minor": 5
}

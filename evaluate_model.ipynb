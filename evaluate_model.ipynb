{
 "cells": [
  {
   "cell_type": "code",
   "execution_count": 2,
   "id": "943d0bf0",
   "metadata": {},
   "outputs": [],
   "source": [
    "import pandas as pd\n",
    "from src.train import *\n",
    "from src.model import CNNLSTMModel\n",
    "from src.dataset import *\n",
    "from src.preprocess import *\n",
    "from src.visualize import *\n",
    "import torch"
   ]
  },
  {
   "cell_type": "code",
   "execution_count": null,
   "id": "5323de9f",
   "metadata": {},
   "outputs": [],
   "source": [
    "# load dataset\n",
    "train_df = pd.read_csv('dataset/train.csv')\n",
    "val_df = pd.read_csv('dataset/val.csv')\n",
    "test_df = pd.read_csv('dataset/test.csv')"
   ]
  },
  {
   "cell_type": "code",
   "execution_count": 6,
   "id": "78dc9a39",
   "metadata": {},
   "outputs": [
    {
     "data": {
      "text/plain": [
       "CNNLSTMModel(\n",
       "  (cnn): Sequential(\n",
       "    (0): Conv1d(21, 32, kernel_size=(3,), stride=(1,), padding=(1,))\n",
       "    (1): ReLU()\n",
       "    (2): BatchNorm1d(32, eps=1e-05, momentum=0.1, affine=True, track_running_stats=True)\n",
       "    (3): Dropout(p=0.3, inplace=False)\n",
       "  )\n",
       "  (lstm): LSTM(32, 64, num_layers=2, batch_first=True, dropout=0.3)\n",
       "  (classifier): Sequential(\n",
       "    (0): Linear(in_features=64, out_features=32, bias=True)\n",
       "    (1): ReLU()\n",
       "    (2): Dropout(p=0.3, inplace=False)\n",
       "    (3): Linear(in_features=32, out_features=1, bias=True)\n",
       "  )\n",
       ")"
      ]
     },
     "execution_count": 6,
     "metadata": {},
     "output_type": "execute_result"
    }
   ],
   "source": [
    "# load model\n",
    "model = CNNLSTMModel(num_features=train_df.shape[1]-3, lstm_layers=2)\n",
    "model.load_state_dict(torch.load('model/best_model.pth'))\n",
    "model.eval()"
   ]
  },
  {
   "cell_type": "code",
   "execution_count": 12,
   "id": "8ef76713",
   "metadata": {},
   "outputs": [],
   "source": [
    "all_col = train_df.columns\n",
    "label_col = 'label'\n",
    "device_col = 'device_name'\n",
    "time_col = 'event_local_time'\n",
    "feature_col = list(all_col.difference([label_col, device_col, time_col]))"
   ]
  },
  {
   "cell_type": "code",
   "execution_count": null,
   "id": "2051b48d",
   "metadata": {},
   "outputs": [
    {
     "name": "stderr",
     "output_type": "stream",
     "text": [
      "Processing devices: 100%|██████████| 16/16 [00:00<00:00, 36.38it/s]\n",
      "Processing devices: 100%|██████████| 16/16 [00:00<00:00, 89.47it/s]\n",
      "Processing devices: 100%|██████████| 16/16 [00:00<00:00, 122.93it/s]\n"
     ]
    }
   ],
   "source": [
    "\n",
    "window_size = 2*24*7 # 30 minutes*2*24*7 = 7 days\n",
    "normal_stride = 2*6 # 30 minutes*2*6 = 6 hours\n",
    "\n",
    "train_ds = InverterTimeSeriesDataset.from_dataframe(train_df, feature_col, window_size=window_size, stride=normal_stride)\n",
    "val_ds   = InverterTimeSeriesDataset.from_dataframe(val_df,   feature_col, window_size=window_size, stride=normal_stride)\n",
    "test_ds  = InverterTimeSeriesDataset.from_dataframe(test_df,  feature_col, window_size=window_size, stride=normal_stride)"
   ]
  },
  {
   "cell_type": "code",
   "execution_count": 15,
   "id": "45e5c8d0",
   "metadata": {},
   "outputs": [],
   "source": [
    "from torch.utils.data import DataLoader\n",
    "train_loader = DataLoader(train_ds, batch_size=1024, shuffle=True, num_workers=8, pin_memory=True)\n",
    "val_loader = DataLoader(val_ds, batch_size=1024, shuffle=False, num_workers=8, pin_memory=True)\n",
    "test_loader = DataLoader(test_ds, batch_size=1024, shuffle=False, num_workers=8, pin_memory=True)"
   ]
  },
  {
   "cell_type": "code",
   "execution_count": 17,
   "id": "05eed7e8",
   "metadata": {},
   "outputs": [
    {
     "name": "stderr",
     "output_type": "stream",
     "text": [
      "Testing: 100%|██████████| 42/42 [00:07<00:00,  5.33it/s]\n",
      "Testing: 100%|██████████| 12/12 [00:06<00:00,  1.81it/s]\n",
      "Testing: 100%|██████████| 11/11 [00:06<00:00,  1.73it/s]\n"
     ]
    }
   ],
   "source": [
    "train_trues, train_outputs, train_loss= test_loop(model, train_loader)\n",
    "val_trues, val_outputs, val_loss = test_loop(model, val_loader)\n",
    "test_trues, test_outputs, test_loss = test_loop(model, test_loader)"
   ]
  }
 ],
 "metadata": {
  "kernelspec": {
   "display_name": "Python 3",
   "language": "python",
   "name": "python3"
  },
  "language_info": {
   "codemirror_mode": {
    "name": "ipython",
    "version": 3
   },
   "file_extension": ".py",
   "mimetype": "text/x-python",
   "name": "python",
   "nbconvert_exporter": "python",
   "pygments_lexer": "ipython3",
   "version": "3.10.11"
  }
 },
 "nbformat": 4,
 "nbformat_minor": 5
}

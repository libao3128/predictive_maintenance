{
 "cells": [
  {
   "cell_type": "code",
   "execution_count": 50,
   "id": "50f5c4c9",
   "metadata": {},
   "outputs": [],
   "source": [
    "%reload_ext autoreload\n"
   ]
  },
  {
   "cell_type": "code",
   "execution_count": 51,
   "id": "5633ed8e",
   "metadata": {},
   "outputs": [],
   "source": [
    "import pandas as pd\n",
    "from src.train import train_loop\n",
    "from src.model import CNNLSTMModel\n",
    "from src.data_loader import InverterTimeSeriesDataset\n",
    "import torch\n",
    "\n",
    "inverter_data = pd.read_parquet('data/inverter_data/')\n",
    "inverter_data['event_local_time'] = pd.to_datetime(inverter_data['event_local_time'])\n",
    "failure_sessions = pd.read_csv('data/failure_sessions.csv', index_col=0, parse_dates=['start_time', 'end_time'])"
   ]
  },
  {
   "cell_type": "code",
   "execution_count": 65,
   "id": "999d19e9",
   "metadata": {},
   "outputs": [
    {
     "name": "stdout",
     "output_type": "stream",
     "text": [
      "Loaded 1 parquet files → 185922 rows\n",
      "Kept 61 sessions longer than 3 days\n",
      "Total pre-failure rows: 1440\n",
      "Total rows: 184802\n"
     ]
    }
   ],
   "source": [
    "## TO BE REPLACED\n",
    "import sys\n",
    "sys.path.append('src')        # point at your src/ folder\n",
    "from preprocess import load_parquet_data, load_failure_sessions, prepare_dataset\n",
    "\n",
    "inverter_df      = load_parquet_data('data/inverter_data')\n",
    "failure_sessions = load_failure_sessions('data/failure_sessions.csv')\n",
    "labeled_df       = prepare_dataset(inverter_df, failure_sessions, pre_days=5)\n",
    "\n"
   ]
  },
  {
   "cell_type": "code",
   "execution_count": 69,
   "id": "cba5d887",
   "metadata": {},
   "outputs": [
    {
     "name": "stdout",
     "output_type": "stream",
     "text": [
      "Total pre-failure rows: 1440\n",
      "Total rows: 184802\n",
      "['event_local_time', 'device_name', 'metric.AC_CURRENT_A.MEASURED', 'metric.AC_CURRENT_B.MEASURED', 'metric.AC_CURRENT_C.MEASURED', 'metric.AC_CURRENT_MAX.MEASURED', 'metric.AC_POWER.MEASURED', 'metric.AC_POWER_LIMIT_SETPOINT.MEASURED', 'metric.AC_VOLTAGE_AB.MEASURED', 'metric.AC_VOLTAGE_BC.MEASURED', 'metric.AC_VOLTAGE_CA.MEASURED', 'metric.AC_VOLTAGE_HI_SETPOINT.MEASURED', 'metric.AC_VOLTAGE_LO_SETPOINT.MEASURED', 'metric.COMM_LINK.MEASURED', 'metric.DC_BATT_VOLTAGE_BUS.MEASURED', 'metric.DC_CURRENT.MEASURED', 'metric.DC_CURRENT_AVG.MEASURED', 'metric.DC_CURRENT_MAX.MEASURED', 'metric.DC_POWER.MEASURED', 'metric.DC_VOLTAGE.MEASURED', 'metric.DC_VOLTAGE_BUS.MEASURED', 'metric.DC_VOLTAGE_N.MEASURED', 'metric.DC_VOLTAGE_P.MEASURED', 'metric.ENERGY_DELIVERED.MEASURED', 'metric.ENERGY_DELIVERED_DAILY.MEASURED', 'metric.ENERGY_DELIVERED_MONTHLY.MEASURED', 'metric.ENERGY_RECEIVED.MEASURED', 'metric.FREQUENCY.MEASURED', 'metric.HEARTBEAT.MEASURED', 'metric.HW_VERSION.MEASURED', 'metric.INSUL_MON_AC_RESISTOR.MEASURED', 'metric.INSUL_MON_DC_RESISTOR.MEASURED', 'metric.POWER_FACTOR.MEASURED', 'metric.STATUS_AC_MOD_ADMISSION_TEMP.MEASURED', 'metric.STATUS_CURRENT_NORMATIVE.MEASURED', 'metric.STATUS_FAULT_MODULE.MEASURED', 'metric.STATUS_FAULT_WORD.MEASURED', 'metric.STATUS_IGBT_MAX_TEMP.MEASURED', 'metric.STATUS_INSUL_MON_AC.MEASURED', 'metric.STATUS_INSUL_MON_DC.MEASURED', 'metric.STATUS_INTERNAL_HUMIDITY.MEASURED', 'metric.STATUS_INTERNAL_INPUT_WORD.MEASURED', 'metric.STATUS_INTERNAL_OUTPUT_WORD.MEASURED', 'metric.STATUS_INTERNAL_TEMP.MEASURED', 'metric.STATUS_LV_PRESSURE.MEASURED', 'metric.STATUS_MOD_MAX_TEMP.MEASURED', 'metric.STATUS_MV_PRESSURE.MEASURED', 'metric.STATUS_POWER_SOURCE_1.MEASURED', 'metric.STATUS_POWER_SOURCE_2.MEASURED', 'metric.STATUS_WARNING_MODULE.MEASURED', 'metric.STATUS_WARNING_WORD.MEASURED', 'metric.STATUS_WORD.MEASURED', 'metric.SVA.MEASURED', 'metric.SVA_LIMIT_SETPOINT.MEASURED', 'metric.VAR.MEASURED', 'metric.VARH_DELIVERED.MEASURED', 'metric.VARH_DELIVERED_DAILY.MEASURED', 'metric.VARH_DELIVERED_MONTHLY.MEASURED', 'metric.VAR_LIMIT_SETPOINT.MEASURED', 'label']\n"
     ]
    }
   ],
   "source": [
    "from preprocess import prepare_dataset\n",
    "labeled_df = prepare_dataset(inverter_df, failure_sessions, pre_days=5)\n",
    "\n",
    "labeled_df = labeled_df.rename(columns={'failure_label':'label'})\n",
    "print(labeled_df.columns.tolist())\n"
   ]
  },
  {
   "cell_type": "code",
   "execution_count": 73,
   "id": "8a47c144",
   "metadata": {},
   "outputs": [
    {
     "name": "stderr",
     "output_type": "stream",
     "text": [
      "Processing devices: 100%|██████████| 16/16 [00:19<00:00,  1.23s/it]\n"
     ]
    }
   ],
   "source": [
    "feature_cols = ['metric.AC_CURRENT_A.MEASURED', 'metric.AC_POWER.MEASURED']\n",
    "# forward‐fill then back‐fill within each device group\n",
    "# 1) Pick exactly the columns the Dataset will see\n",
    "cols_needed = [\n",
    "    'device_name',\n",
    "    'event_local_time',\n",
    "    *feature_cols,  # your two AC_CURRENT_A and AC_POWER\n",
    "    'label'\n",
    "]\n",
    "\n",
    "df_small = labeled_df[cols_needed]\n",
    "\n",
    "# 2) Drop any row with a NaN in *any* of those columns\n",
    "df_small = df_small.dropna().reset_index(drop=True)\n",
    "\n",
    "# 3) Now create the dataset; no other columns remain to trip the NaN-check\n",
    "\n",
    "\n",
    "\n",
    "\n",
    "dataset = InverterTimeSeriesDataset(\n",
    "    df_small,\n",
    "    feature_cols,\n",
    "    label_col='label',\n",
    "    window_size=30,\n",
    "    stride=1\n",
    ")\n",
    "\n"
   ]
  },
  {
   "cell_type": "code",
   "execution_count": 74,
   "id": "ac4316e3",
   "metadata": {},
   "outputs": [],
   "source": [
    "train_loader = torch.utils.data.DataLoader(dataset, batch_size=32, shuffle=True)\n",
    "\n",
    "model = CNNLSTMModel(num_features=len(feature_cols))\n",
    "optimizer = torch.optim.Adam(model.parameters(), lr=0.001)\n",
    "criterion = torch.nn.MSELoss()"
   ]
  },
  {
   "cell_type": "code",
   "execution_count": 57,
   "id": "5e442c56",
   "metadata": {},
   "outputs": [
    {
     "name": "stdout",
     "output_type": "stream",
     "text": [
      "Looking in indexes: https://pypi.org/simple, https://download.pytorch.org/whl/cu118\n",
      "Requirement already satisfied: torch in /opt/anaconda3/lib/python3.12/site-packages (2.8.0)\n",
      "Requirement already satisfied: torchvision in /opt/anaconda3/lib/python3.12/site-packages (0.23.0)\n",
      "Requirement already satisfied: torchaudio in /opt/anaconda3/lib/python3.12/site-packages (2.8.0)\n",
      "Requirement already satisfied: filelock in /opt/anaconda3/lib/python3.12/site-packages (from torch) (3.13.1)\n",
      "Requirement already satisfied: typing-extensions>=4.10.0 in /opt/anaconda3/lib/python3.12/site-packages (from torch) (4.11.0)\n",
      "Requirement already satisfied: setuptools in /opt/anaconda3/lib/python3.12/site-packages (from torch) (75.1.0)\n",
      "Requirement already satisfied: sympy>=1.13.3 in /opt/anaconda3/lib/python3.12/site-packages (from torch) (1.14.0)\n",
      "Requirement already satisfied: networkx in /opt/anaconda3/lib/python3.12/site-packages (from torch) (3.3)\n",
      "Requirement already satisfied: jinja2 in /opt/anaconda3/lib/python3.12/site-packages (from torch) (3.1.4)\n",
      "Requirement already satisfied: fsspec in /opt/anaconda3/lib/python3.12/site-packages (from torch) (2024.6.1)\n",
      "Requirement already satisfied: numpy in /opt/anaconda3/lib/python3.12/site-packages (from torchvision) (1.26.4)\n",
      "Requirement already satisfied: pillow!=8.3.*,>=5.3.0 in /opt/anaconda3/lib/python3.12/site-packages (from torchvision) (10.4.0)\n",
      "Requirement already satisfied: mpmath<1.4,>=1.1.0 in /opt/anaconda3/lib/python3.12/site-packages (from sympy>=1.13.3->torch) (1.3.0)\n",
      "Requirement already satisfied: MarkupSafe>=2.0 in /opt/anaconda3/lib/python3.12/site-packages (from jinja2->torch) (2.1.3)\n"
     ]
    }
   ],
   "source": [
    "!pip install torch torchvision torchaudio --extra-index-url https://download.pytorch.org/whl/cu118\n"
   ]
  },
  {
   "cell_type": "code",
   "execution_count": 75,
   "id": "59c807ee",
   "metadata": {},
   "outputs": [
    {
     "name": "stdout",
     "output_type": "stream",
     "text": [
      "[Epoch 1/10] Step 0/5157 - Loss: 0.2527\n",
      "[Epoch 1/10] Step 100/5157 - Loss: 0.0004\n",
      "[Epoch 1/10] Step 200/5157 - Loss: 0.0001\n",
      "[Epoch 1/10] Step 300/5157 - Loss: 0.0311\n",
      "[Epoch 1/10] Step 400/5157 - Loss: 0.0000\n",
      "[Epoch 1/10] Step 500/5157 - Loss: 0.0001\n",
      "[Epoch 1/10] Step 600/5157 - Loss: 0.0000\n",
      "[Epoch 1/10] Step 700/5157 - Loss: 0.0001\n",
      "[Epoch 1/10] Step 800/5157 - Loss: 0.0000\n",
      "[Epoch 1/10] Step 900/5157 - Loss: 0.0000\n",
      "[Epoch 1/10] Step 1000/5157 - Loss: 0.0000\n",
      "[Epoch 1/10] Step 1100/5157 - Loss: 0.0000\n",
      "[Epoch 1/10] Step 1200/5157 - Loss: 0.0000\n",
      "[Epoch 1/10] Step 1300/5157 - Loss: 0.0000\n",
      "[Epoch 1/10] Step 1400/5157 - Loss: 0.0000\n",
      "[Epoch 1/10] Step 1500/5157 - Loss: 0.0000\n"
     ]
    },
    {
     "ename": "KeyboardInterrupt",
     "evalue": "",
     "output_type": "error",
     "traceback": [
      "\u001b[0;31m---------------------------------------------------------------------------\u001b[0m",
      "\u001b[0;31mKeyboardInterrupt\u001b[0m                         Traceback (most recent call last)",
      "Cell \u001b[0;32mIn[75], line 1\u001b[0m\n\u001b[0;32m----> 1\u001b[0m train_loop(model, train_loader, num_epochs\u001b[38;5;241m=\u001b[39m\u001b[38;5;241m10\u001b[39m, optimizer\u001b[38;5;241m=\u001b[39moptimizer, device\u001b[38;5;241m=\u001b[39m\u001b[38;5;124m'\u001b[39m\u001b[38;5;124mcpu\u001b[39m\u001b[38;5;124m'\u001b[39m, criterion\u001b[38;5;241m=\u001b[39mcriterion)\n",
      "File \u001b[0;32m~/Downloads/capstone-main/src/train.py:28\u001b[0m, in \u001b[0;36mtrain_loop\u001b[0;34m(model, train_loader, val_loader, device, optimizer, criterion, num_epochs, time_step, scheduler, log_interval)\u001b[0m\n\u001b[1;32m     25\u001b[0m X, y \u001b[38;5;241m=\u001b[39m X\u001b[38;5;241m.\u001b[39mto(device), y\u001b[38;5;241m.\u001b[39mto(device)\u001b[38;5;241m.\u001b[39mfloat()\n\u001b[1;32m     27\u001b[0m optimizer\u001b[38;5;241m.\u001b[39mzero_grad()\n\u001b[0;32m---> 28\u001b[0m output \u001b[38;5;241m=\u001b[39m model(X)\n\u001b[1;32m     29\u001b[0m output \u001b[38;5;241m=\u001b[39m output\u001b[38;5;241m.\u001b[39msqueeze()  \u001b[38;5;66;03m# [B] if needed\u001b[39;00m\n\u001b[1;32m     31\u001b[0m loss \u001b[38;5;241m=\u001b[39m criterion(output, y)\n",
      "File \u001b[0;32m/opt/anaconda3/lib/python3.12/site-packages/torch/nn/modules/module.py:1773\u001b[0m, in \u001b[0;36mModule._wrapped_call_impl\u001b[0;34m(self, *args, **kwargs)\u001b[0m\n\u001b[1;32m   1771\u001b[0m     \u001b[38;5;28;01mreturn\u001b[39;00m \u001b[38;5;28mself\u001b[39m\u001b[38;5;241m.\u001b[39m_compiled_call_impl(\u001b[38;5;241m*\u001b[39margs, \u001b[38;5;241m*\u001b[39m\u001b[38;5;241m*\u001b[39mkwargs)  \u001b[38;5;66;03m# type: ignore[misc]\u001b[39;00m\n\u001b[1;32m   1772\u001b[0m \u001b[38;5;28;01melse\u001b[39;00m:\n\u001b[0;32m-> 1773\u001b[0m     \u001b[38;5;28;01mreturn\u001b[39;00m \u001b[38;5;28mself\u001b[39m\u001b[38;5;241m.\u001b[39m_call_impl(\u001b[38;5;241m*\u001b[39margs, \u001b[38;5;241m*\u001b[39m\u001b[38;5;241m*\u001b[39mkwargs)\n",
      "File \u001b[0;32m/opt/anaconda3/lib/python3.12/site-packages/torch/nn/modules/module.py:1784\u001b[0m, in \u001b[0;36mModule._call_impl\u001b[0;34m(self, *args, **kwargs)\u001b[0m\n\u001b[1;32m   1779\u001b[0m \u001b[38;5;66;03m# If we don't have any hooks, we want to skip the rest of the logic in\u001b[39;00m\n\u001b[1;32m   1780\u001b[0m \u001b[38;5;66;03m# this function, and just call forward.\u001b[39;00m\n\u001b[1;32m   1781\u001b[0m \u001b[38;5;28;01mif\u001b[39;00m \u001b[38;5;129;01mnot\u001b[39;00m (\u001b[38;5;28mself\u001b[39m\u001b[38;5;241m.\u001b[39m_backward_hooks \u001b[38;5;129;01mor\u001b[39;00m \u001b[38;5;28mself\u001b[39m\u001b[38;5;241m.\u001b[39m_backward_pre_hooks \u001b[38;5;129;01mor\u001b[39;00m \u001b[38;5;28mself\u001b[39m\u001b[38;5;241m.\u001b[39m_forward_hooks \u001b[38;5;129;01mor\u001b[39;00m \u001b[38;5;28mself\u001b[39m\u001b[38;5;241m.\u001b[39m_forward_pre_hooks\n\u001b[1;32m   1782\u001b[0m         \u001b[38;5;129;01mor\u001b[39;00m _global_backward_pre_hooks \u001b[38;5;129;01mor\u001b[39;00m _global_backward_hooks\n\u001b[1;32m   1783\u001b[0m         \u001b[38;5;129;01mor\u001b[39;00m _global_forward_hooks \u001b[38;5;129;01mor\u001b[39;00m _global_forward_pre_hooks):\n\u001b[0;32m-> 1784\u001b[0m     \u001b[38;5;28;01mreturn\u001b[39;00m forward_call(\u001b[38;5;241m*\u001b[39margs, \u001b[38;5;241m*\u001b[39m\u001b[38;5;241m*\u001b[39mkwargs)\n\u001b[1;32m   1786\u001b[0m result \u001b[38;5;241m=\u001b[39m \u001b[38;5;28;01mNone\u001b[39;00m\n\u001b[1;32m   1787\u001b[0m called_always_called_hooks \u001b[38;5;241m=\u001b[39m \u001b[38;5;28mset\u001b[39m()\n",
      "File \u001b[0;32m~/Downloads/capstone-main/src/model.py:39\u001b[0m, in \u001b[0;36mCNNLSTMModel.forward\u001b[0;34m(self, x)\u001b[0m\n\u001b[1;32m     37\u001b[0m x \u001b[38;5;241m=\u001b[39m \u001b[38;5;28mself\u001b[39m\u001b[38;5;241m.\u001b[39mcnn(x)                  \u001b[38;5;66;03m# → (batch_size, cnn_out_channels, seq_len)\u001b[39;00m\n\u001b[1;32m     38\u001b[0m x \u001b[38;5;241m=\u001b[39m x\u001b[38;5;241m.\u001b[39mpermute(\u001b[38;5;241m0\u001b[39m, \u001b[38;5;241m2\u001b[39m, \u001b[38;5;241m1\u001b[39m)           \u001b[38;5;66;03m# → (batch_size, seq_len, cnn_out_channels)\u001b[39;00m\n\u001b[0;32m---> 39\u001b[0m lstm_out, _ \u001b[38;5;241m=\u001b[39m \u001b[38;5;28mself\u001b[39m\u001b[38;5;241m.\u001b[39mlstm(x)       \u001b[38;5;66;03m# → (batch_size, seq_len, lstm_hidden_size)\u001b[39;00m\n\u001b[1;32m     40\u001b[0m last_time_step \u001b[38;5;241m=\u001b[39m lstm_out[:, \u001b[38;5;241m-\u001b[39m\u001b[38;5;241m1\u001b[39m, :]  \u001b[38;5;66;03m# 取最後時間步的輸出\u001b[39;00m\n\u001b[1;32m     41\u001b[0m out \u001b[38;5;241m=\u001b[39m \u001b[38;5;28mself\u001b[39m\u001b[38;5;241m.\u001b[39mclassifier(last_time_step)  \u001b[38;5;66;03m# → (batch_size, 1)\u001b[39;00m\n",
      "File \u001b[0;32m/opt/anaconda3/lib/python3.12/site-packages/torch/nn/modules/module.py:1773\u001b[0m, in \u001b[0;36mModule._wrapped_call_impl\u001b[0;34m(self, *args, **kwargs)\u001b[0m\n\u001b[1;32m   1771\u001b[0m     \u001b[38;5;28;01mreturn\u001b[39;00m \u001b[38;5;28mself\u001b[39m\u001b[38;5;241m.\u001b[39m_compiled_call_impl(\u001b[38;5;241m*\u001b[39margs, \u001b[38;5;241m*\u001b[39m\u001b[38;5;241m*\u001b[39mkwargs)  \u001b[38;5;66;03m# type: ignore[misc]\u001b[39;00m\n\u001b[1;32m   1772\u001b[0m \u001b[38;5;28;01melse\u001b[39;00m:\n\u001b[0;32m-> 1773\u001b[0m     \u001b[38;5;28;01mreturn\u001b[39;00m \u001b[38;5;28mself\u001b[39m\u001b[38;5;241m.\u001b[39m_call_impl(\u001b[38;5;241m*\u001b[39margs, \u001b[38;5;241m*\u001b[39m\u001b[38;5;241m*\u001b[39mkwargs)\n",
      "File \u001b[0;32m/opt/anaconda3/lib/python3.12/site-packages/torch/nn/modules/module.py:1784\u001b[0m, in \u001b[0;36mModule._call_impl\u001b[0;34m(self, *args, **kwargs)\u001b[0m\n\u001b[1;32m   1779\u001b[0m \u001b[38;5;66;03m# If we don't have any hooks, we want to skip the rest of the logic in\u001b[39;00m\n\u001b[1;32m   1780\u001b[0m \u001b[38;5;66;03m# this function, and just call forward.\u001b[39;00m\n\u001b[1;32m   1781\u001b[0m \u001b[38;5;28;01mif\u001b[39;00m \u001b[38;5;129;01mnot\u001b[39;00m (\u001b[38;5;28mself\u001b[39m\u001b[38;5;241m.\u001b[39m_backward_hooks \u001b[38;5;129;01mor\u001b[39;00m \u001b[38;5;28mself\u001b[39m\u001b[38;5;241m.\u001b[39m_backward_pre_hooks \u001b[38;5;129;01mor\u001b[39;00m \u001b[38;5;28mself\u001b[39m\u001b[38;5;241m.\u001b[39m_forward_hooks \u001b[38;5;129;01mor\u001b[39;00m \u001b[38;5;28mself\u001b[39m\u001b[38;5;241m.\u001b[39m_forward_pre_hooks\n\u001b[1;32m   1782\u001b[0m         \u001b[38;5;129;01mor\u001b[39;00m _global_backward_pre_hooks \u001b[38;5;129;01mor\u001b[39;00m _global_backward_hooks\n\u001b[1;32m   1783\u001b[0m         \u001b[38;5;129;01mor\u001b[39;00m _global_forward_hooks \u001b[38;5;129;01mor\u001b[39;00m _global_forward_pre_hooks):\n\u001b[0;32m-> 1784\u001b[0m     \u001b[38;5;28;01mreturn\u001b[39;00m forward_call(\u001b[38;5;241m*\u001b[39margs, \u001b[38;5;241m*\u001b[39m\u001b[38;5;241m*\u001b[39mkwargs)\n\u001b[1;32m   1786\u001b[0m result \u001b[38;5;241m=\u001b[39m \u001b[38;5;28;01mNone\u001b[39;00m\n\u001b[1;32m   1787\u001b[0m called_always_called_hooks \u001b[38;5;241m=\u001b[39m \u001b[38;5;28mset\u001b[39m()\n",
      "File \u001b[0;32m/opt/anaconda3/lib/python3.12/site-packages/torch/nn/modules/rnn.py:1124\u001b[0m, in \u001b[0;36mLSTM.forward\u001b[0;34m(self, input, hx)\u001b[0m\n\u001b[1;32m   1121\u001b[0m         hx \u001b[38;5;241m=\u001b[39m \u001b[38;5;28mself\u001b[39m\u001b[38;5;241m.\u001b[39mpermute_hidden(hx, sorted_indices)\n\u001b[1;32m   1123\u001b[0m \u001b[38;5;28;01mif\u001b[39;00m batch_sizes \u001b[38;5;129;01mis\u001b[39;00m \u001b[38;5;28;01mNone\u001b[39;00m:\n\u001b[0;32m-> 1124\u001b[0m     result \u001b[38;5;241m=\u001b[39m _VF\u001b[38;5;241m.\u001b[39mlstm(\n\u001b[1;32m   1125\u001b[0m         \u001b[38;5;28minput\u001b[39m,\n\u001b[1;32m   1126\u001b[0m         hx,\n\u001b[1;32m   1127\u001b[0m         \u001b[38;5;28mself\u001b[39m\u001b[38;5;241m.\u001b[39m_flat_weights,  \u001b[38;5;66;03m# type: ignore[arg-type]\u001b[39;00m\n\u001b[1;32m   1128\u001b[0m         \u001b[38;5;28mself\u001b[39m\u001b[38;5;241m.\u001b[39mbias,\n\u001b[1;32m   1129\u001b[0m         \u001b[38;5;28mself\u001b[39m\u001b[38;5;241m.\u001b[39mnum_layers,\n\u001b[1;32m   1130\u001b[0m         \u001b[38;5;28mself\u001b[39m\u001b[38;5;241m.\u001b[39mdropout,\n\u001b[1;32m   1131\u001b[0m         \u001b[38;5;28mself\u001b[39m\u001b[38;5;241m.\u001b[39mtraining,\n\u001b[1;32m   1132\u001b[0m         \u001b[38;5;28mself\u001b[39m\u001b[38;5;241m.\u001b[39mbidirectional,\n\u001b[1;32m   1133\u001b[0m         \u001b[38;5;28mself\u001b[39m\u001b[38;5;241m.\u001b[39mbatch_first,\n\u001b[1;32m   1134\u001b[0m     )\n\u001b[1;32m   1135\u001b[0m \u001b[38;5;28;01melse\u001b[39;00m:\n\u001b[1;32m   1136\u001b[0m     result \u001b[38;5;241m=\u001b[39m _VF\u001b[38;5;241m.\u001b[39mlstm(\n\u001b[1;32m   1137\u001b[0m         \u001b[38;5;28minput\u001b[39m,\n\u001b[1;32m   1138\u001b[0m         batch_sizes,\n\u001b[0;32m   (...)\u001b[0m\n\u001b[1;32m   1145\u001b[0m         \u001b[38;5;28mself\u001b[39m\u001b[38;5;241m.\u001b[39mbidirectional,\n\u001b[1;32m   1146\u001b[0m     )\n",
      "\u001b[0;31mKeyboardInterrupt\u001b[0m: "
     ]
    }
   ],
   "source": [
    "train_loop(model, train_loader, num_epochs=10, optimizer=optimizer, device='cpu', criterion=criterion)"
   ]
  }
 ],
 "metadata": {
  "kernelspec": {
   "display_name": "base",
   "language": "python",
   "name": "python3"
  },
  "language_info": {
   "codemirror_mode": {
    "name": "ipython",
    "version": 3
   },
   "file_extension": ".py",
   "mimetype": "text/x-python",
   "name": "python",
   "nbconvert_exporter": "python",
   "pygments_lexer": "ipython3",
   "version": "3.12.2"
  }
 },
 "nbformat": 4,
 "nbformat_minor": 5
}

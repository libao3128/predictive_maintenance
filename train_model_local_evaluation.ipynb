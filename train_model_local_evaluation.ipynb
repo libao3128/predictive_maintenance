{
  "cells": [
    {
      "cell_type": "code",
      "execution_count": 1,
      "id": "5633ed8e",
      "metadata": {
        "colab": {
          "base_uri": "https://localhost:8080/"
        },
        "id": "5633ed8e",
        "outputId": "8ba81211-10a0-44e9-ab4f-e5c9ed4a8642"
      },
      "outputs": [
        {
          "output_type": "stream",
          "name": "stdout",
          "text": [
            "Drive already mounted at /content/drive; to attempt to forcibly remount, call drive.mount(\"/content/drive\", force_remount=True).\n"
          ]
        }
      ],
      "source": [
        "from google.colab import drive\n",
        "drive.mount('/content/drive')"
      ]
    },
    {
      "cell_type": "code",
      "source": [
        "import os, sys\n",
        "os.chdir('/content/drive/My Drive/Capstone')\n",
        "sys.path.insert(0, os.getcwd())"
      ],
      "metadata": {
        "id": "bvGsktbaTRkE"
      },
      "id": "bvGsktbaTRkE",
      "execution_count": 2,
      "outputs": []
    },
    {
      "cell_type": "code",
      "source": [
        "import pandas as pd\n",
        "from src.train import train_loop, test_loop\n",
        "from src.model import CNNLSTMModel\n",
        "from src.dataset_o import InverterTimeSeriesDataset\n",
        "from src.preprocess import *\n",
        "from src.visualize import *\n",
        "import torch"
      ],
      "metadata": {
        "id": "4G5HbmBTTLTK"
      },
      "id": "4G5HbmBTTLTK",
      "execution_count": 3,
      "outputs": []
    },
    {
      "cell_type": "markdown",
      "id": "fcf3d759",
      "metadata": {
        "id": "fcf3d759"
      },
      "source": [
        "## Hyper-Parameter"
      ]
    },
    {
      "cell_type": "code",
      "execution_count": 4,
      "id": "5f407469",
      "metadata": {
        "id": "5f407469"
      },
      "outputs": [],
      "source": [
        "performe_visualization = True"
      ]
    },
    {
      "cell_type": "code",
      "execution_count": 88,
      "id": "37ac0a88",
      "metadata": {
        "id": "37ac0a88"
      },
      "outputs": [],
      "source": [
        "# some important parameters\n",
        "pre_day = 3\n",
        "window_size = 12*24 # 5 minutes * 12 * 24 = 1 day\n",
        "stride = 12 # 1 hour stride\n",
        "\n",
        "feature_cols = [\n",
        "    #\"metric.STATUS_AC_MOD_ADMISSION_TEMP.MEASURED\",  # ambient temperature\n",
        "    #\"metric.STATUS_INTERNAL_TEMP.MEASURED\",          # internal temperature\n",
        "    \"metric.AC_VOLTAGE_AB.MEASURED\",                 # AC voltage\n",
        "    \"metric.AC_VOLTAGE_BC.MEASURED\",                 # AC voltage\n",
        "    \"metric.AC_VOLTAGE_CA.MEASURED\",                 # AC voltage\n",
        "    \"metric.DC_VOLTAGE.MEASURED\"                     # DC voltage\n",
        "]\n",
        "\n",
        "exclude_periods = [\n",
        "    [pd.Timestamp('2021-01-01'), pd.Timestamp('2021-12-23')], # data collection issue\n",
        "    [pd.Timestamp('2023-02-23'), pd.Timestamp('2023-08-26')] # anomalies in the data\n",
        "]"
      ]
    },
    {
      "cell_type": "markdown",
      "id": "dc771650",
      "metadata": {
        "id": "dc771650"
      },
      "source": [
        "## Data Preprocessing\n",
        "### Load Data"
      ]
    },
    {
      "cell_type": "code",
      "execution_count": 89,
      "id": "9dfd396c",
      "metadata": {
        "colab": {
          "base_uri": "https://localhost:8080/"
        },
        "id": "9dfd396c",
        "outputId": "d5415d37-cd44-4979-a465-d927bea5185a"
      },
      "outputs": [
        {
          "output_type": "stream",
          "name": "stdout",
          "text": [
            "Loaded 15 parquet files → 6126272 rows\n",
            "Kept 61 sessions longer than 3 days\n"
          ]
        }
      ],
      "source": [
        "inverter_data = load_parquet_data('data/inverter_data')\n",
        "failure_sessions = load_failure_sessions('data/failure_sessions.csv', min_days=3)"
      ]
    },
    {
      "cell_type": "code",
      "execution_count": 7,
      "id": "5fb6ee2e",
      "metadata": {
        "id": "5fb6ee2e"
      },
      "outputs": [],
      "source": [
        "# if performe_visualization:\n",
        "#     # Visualize the raw data\n",
        "#     visualize_hourly_mean_values(inverter_data, failure_sessions, feature_cols, 'visualization', 'raw_data')"
      ]
    },
    {
      "cell_type": "markdown",
      "id": "03ae16f2",
      "metadata": {
        "id": "03ae16f2"
      },
      "source": [
        "### Data Cleaning"
      ]
    },
    {
      "cell_type": "code",
      "execution_count": 90,
      "id": "7de9395d",
      "metadata": {
        "colab": {
          "base_uri": "https://localhost:8080/"
        },
        "id": "7de9395d",
        "outputId": "ac5171d6-e79d-462d-d7ce-91afef1fc288"
      },
      "outputs": [
        {
          "output_type": "stream",
          "name": "stdout",
          "text": [
            "inverter_data shape: (6126272, 59)\n",
            "Excluded data shape: (5172608, 59)\n"
          ]
        }
      ],
      "source": [
        "print(\"inverter_data shape:\", inverter_data.shape)\n",
        "filtered_data = exclude_periods_from_data(inverter_data, exclude_periods)\n",
        "print(\"Excluded data shape:\", filtered_data.shape)"
      ]
    },
    {
      "cell_type": "code",
      "execution_count": 9,
      "id": "abe8c038",
      "metadata": {
        "id": "abe8c038"
      },
      "outputs": [],
      "source": [
        "# remove unused columns\n",
        "filtered_data = filtered_data[['event_local_time', 'device_name'] + feature_cols]"
      ]
    },
    {
      "cell_type": "code",
      "execution_count": 10,
      "id": "ca1b13e1",
      "metadata": {
        "id": "ca1b13e1"
      },
      "outputs": [],
      "source": [
        "# if performe_visualization:\n",
        "#     # Visualize the filtered data\n",
        "#     visualize_hourly_mean_values(filtered_data, failure_sessions, feature_cols, 'visualization', 'filtered_data')"
      ]
    },
    {
      "cell_type": "markdown",
      "id": "c7979e30",
      "metadata": {
        "id": "c7979e30"
      },
      "source": [
        "### Data Labeling"
      ]
    },
    {
      "cell_type": "code",
      "execution_count": 91,
      "id": "c262cba8",
      "metadata": {
        "colab": {
          "base_uri": "https://localhost:8080/"
        },
        "id": "c262cba8",
        "outputId": "ff405f7d-bc8f-48f0-f868-d2019e2c7027"
      },
      "outputs": [
        {
          "output_type": "stream",
          "name": "stdout",
          "text": [
            "Total pre-failure rows: 38949\n",
            "Total rows: 5026798\n"
          ]
        }
      ],
      "source": [
        "labeled_df = prepare_dataset(filtered_data, failure_sessions, pre_days=pre_day)"
      ]
    },
    {
      "cell_type": "markdown",
      "id": "c72f57da",
      "metadata": {
        "id": "c72f57da"
      },
      "source": [
        "### Missing Value Mask"
      ]
    },
    {
      "cell_type": "code",
      "execution_count": 92,
      "id": "74fb2cba",
      "metadata": {
        "id": "74fb2cba"
      },
      "outputs": [],
      "source": [
        "def generate_missing_value_mask(df: pd.DataFrame, features_cols: list[str]) -> pd.DataFrame:\n",
        "    # Step 1: 缺失 mask\n",
        "    for col in features_cols:\n",
        "        df[f\"{col}_missing\"] = df[col].isna().astype(int)\n",
        "\n",
        "generate_missing_value_mask(labeled_df, feature_cols)"
      ]
    },
    {
      "cell_type": "code",
      "execution_count": 93,
      "id": "c821d9a5",
      "metadata": {
        "id": "c821d9a5"
      },
      "outputs": [],
      "source": [
        "extended_feature_cols = feature_cols+[col+'_missing' for col in feature_cols]"
      ]
    },
    {
      "cell_type": "markdown",
      "id": "e502018d",
      "metadata": {
        "id": "e502018d"
      },
      "source": [
        "### Missing Value Imputation"
      ]
    },
    {
      "cell_type": "code",
      "execution_count": 94,
      "id": "e6b1d156",
      "metadata": {
        "id": "e6b1d156"
      },
      "outputs": [],
      "source": [
        "imputed_df = missing_value_imputation(labeled_df, feature_cols, time_col='event_local_time', device_col='device_name', short_gap_limit=6, long_fill_value=0.0, add_missing_mask=True)"
      ]
    },
    {
      "cell_type": "markdown",
      "id": "84b48cdb",
      "metadata": {
        "id": "84b48cdb"
      },
      "source": [
        "### Feature Engineering"
      ]
    },
    {
      "cell_type": "code",
      "execution_count": 95,
      "id": "9d80fecc",
      "metadata": {
        "id": "9d80fecc"
      },
      "outputs": [],
      "source": [
        "imputed_df['hour_of_day'] = imputed_df['event_local_time'].dt.hour\n",
        "extended_feature_cols += ['hour_of_day']"
      ]
    },
    {
      "cell_type": "code",
      "execution_count": 16,
      "id": "d27b4c0a",
      "metadata": {
        "id": "d27b4c0a"
      },
      "outputs": [],
      "source": [
        "# if performe_visualization:\n",
        "#     visualize_hourly_mean_values(imputed_df, failure_sessions, extended_feature_cols+['label'],\n",
        "#                                 title='processed_data')"
      ]
    },
    {
      "cell_type": "markdown",
      "id": "b181af6b",
      "metadata": {
        "id": "b181af6b"
      },
      "source": [
        "### Split Dataset"
      ]
    },
    {
      "cell_type": "code",
      "execution_count": 96,
      "id": "9e26fda1",
      "metadata": {
        "colab": {
          "base_uri": "https://localhost:8080/"
        },
        "id": "9e26fda1",
        "outputId": "adf597f8-b5c5-4ca0-baef-c7bee2d49a16"
      },
      "outputs": [
        {
          "output_type": "stream",
          "name": "stdout",
          "text": [
            "Train set size: 3518759 Train set time range: 2021-12-24 00:00:00 to 2024-08-16 09:30:00\n",
            "Test set size: 1508039 Test set time range: 2024-08-16 09:30:00 to 2025-07-23 23:35:00\n",
            "Train set size: 1055628 Train set time range: 2024-08-16 09:30:00 to 2025-04-03 12:30:00\n",
            "Test set size: 452411 Test set time range: 2025-04-03 12:30:00 to 2025-07-23 23:35:00\n"
          ]
        }
      ],
      "source": [
        "train_df, test_df = train_test_split_on_time(imputed_df, 0.3)\n",
        "val_df, test_df = train_test_split_on_time(test_df, 0.3)"
      ]
    },
    {
      "cell_type": "markdown",
      "id": "777fd02b",
      "metadata": {
        "id": "777fd02b"
      },
      "source": [
        "### Standardization"
      ]
    },
    {
      "cell_type": "code",
      "execution_count": 97,
      "id": "cbde8f9f",
      "metadata": {
        "id": "cbde8f9f"
      },
      "outputs": [],
      "source": [
        "from sklearn.preprocessing import StandardScaler\n",
        "feature_to_standardize = feature_cols + ['hour_of_day']\n",
        "scaler = StandardScaler()\n",
        "train_df[feature_to_standardize] = scaler.fit_transform(train_df[feature_to_standardize])\n",
        "val_df[feature_to_standardize] = scaler.transform(val_df[feature_to_standardize])\n",
        "test_df[feature_to_standardize] = scaler.transform(test_df[feature_to_standardize])"
      ]
    },
    {
      "cell_type": "code",
      "execution_count": 19,
      "id": "c2ce625e",
      "metadata": {
        "id": "c2ce625e"
      },
      "outputs": [],
      "source": [
        "# if performe_visualization:\n",
        "#     visualize_hourly_mean_values(train_df, failure_sessions, extended_feature_cols+['label'],\n",
        "#                                  'visualization', 'train_data')\n",
        "#     visualize_hourly_mean_values(val_df, failure_sessions, extended_feature_cols+['label'],\n",
        "#                                  'visualization', 'val_data')\n",
        "#     visualize_hourly_mean_values(test_df, failure_sessions, extended_feature_cols+['label'],\n",
        "#                                     'visualization', 'test_data')"
      ]
    },
    {
      "cell_type": "markdown",
      "id": "3c9b4875",
      "metadata": {
        "id": "3c9b4875"
      },
      "source": [
        "### Create Dataset/Data Loader"
      ]
    },
    {
      "cell_type": "code",
      "source": [
        "from torch.utils.data import DataLoader\n",
        "\n",
        "train_ds = InverterTimeSeriesDataset(train_df, extended_feature_cols, under_sample=True, window_size=window_size, stride=stride)\n",
        "val_ds   = InverterTimeSeriesDataset(val_df,   extended_feature_cols, window_size=window_size, stride=stride)\n",
        "test_ds  = InverterTimeSeriesDataset(test_df,  extended_feature_cols, window_size=window_size, stride=stride)"
      ],
      "metadata": {
        "id": "RxU7lznKnbCG"
      },
      "id": "RxU7lznKnbCG",
      "execution_count": null,
      "outputs": []
    },
    {
      "cell_type": "code",
      "execution_count": null,
      "id": "6e127b2e",
      "metadata": {
        "id": "6e127b2e"
      },
      "outputs": [],
      "source": [
        "train_ds.X.shape"
      ]
    },
    {
      "cell_type": "code",
      "execution_count": null,
      "id": "6ee571d6",
      "metadata": {
        "id": "6ee571d6"
      },
      "outputs": [],
      "source": [
        "# print(len(test_ds.X), len(test_ds.y), test_ds.meta.shape[0])"
      ]
    },
    {
      "cell_type": "code",
      "execution_count": null,
      "id": "4d6d5889",
      "metadata": {
        "id": "4d6d5889"
      },
      "outputs": [],
      "source": [
        "pd.value_counts(val_ds.y.numpy()).sort_index()"
      ]
    },
    {
      "cell_type": "code",
      "execution_count": null,
      "id": "dc679b9d",
      "metadata": {
        "id": "dc679b9d"
      },
      "outputs": [],
      "source": [
        "pd.value_counts(train_ds.y.numpy()), pd.value_counts(val_ds.y.numpy()), pd.value_counts(test_ds.y.numpy())"
      ]
    },
    {
      "cell_type": "code",
      "execution_count": null,
      "id": "b204cf86",
      "metadata": {
        "id": "b204cf86"
      },
      "outputs": [],
      "source": [
        "batch_size = 2**8\n",
        "train_loader = DataLoader(train_ds, batch_size=batch_size, shuffle=True,  num_workers=6, pin_memory=True)\n",
        "val_loader   = DataLoader(val_ds,   batch_size=batch_size, shuffle=False, num_workers=6, pin_memory=True)\n",
        "test_loader  = DataLoader(test_ds,  batch_size=batch_size, shuffle=False, num_workers=6, pin_memory=True)"
      ]
    },
    {
      "cell_type": "markdown",
      "id": "6bc7c875",
      "metadata": {
        "id": "6bc7c875"
      },
      "source": [
        "## Train Model"
      ]
    },
    {
      "cell_type": "code",
      "execution_count": null,
      "id": "ac4316e3",
      "metadata": {
        "id": "ac4316e3"
      },
      "outputs": [],
      "source": [
        "model = CNNLSTMModel(num_features=len(extended_feature_cols), cnn_out_channels=64, lstm_hidden_size=128)\n",
        "optimizer = torch.optim.Adam(model.parameters(), lr=0.001)\n",
        "criterion = torch.nn.MSELoss()"
      ]
    },
    {
      "cell_type": "code",
      "execution_count": 99,
      "id": "ed5e89e5",
      "metadata": {
        "id": "ed5e89e5"
      },
      "outputs": [],
      "source": [
        "import time"
      ]
    },
    {
      "cell_type": "code",
      "execution_count": 100,
      "id": "1f7b89ee",
      "metadata": {
        "colab": {
          "base_uri": "https://localhost:8080/"
        },
        "id": "1f7b89ee",
        "outputId": "340882d7-738b-4159-d590-8bfeddb25154"
      },
      "outputs": [
        {
          "output_type": "stream",
          "name": "stdout",
          "text": [
            "Model moved to cuda\n",
            "Resuming training from epoch 151\n",
            "[Epoch 151/30] Step 0/27 - Loss: 0.2103\n",
            "[Epoch 151/30] Step 10/27 - Loss: 0.2157\n",
            "[Epoch 151/30] Step 20/27 - Loss: 0.2160\n",
            "🔁 Epoch 151 finished. Avg Train Loss: 0.2171\n",
            "✅ Validation Loss: 0.1496 | Accuracy: 68.29%\n",
            "Best model saved at epoch 151 with loss 0.1496\n",
            "[Epoch 152/30] Step 0/27 - Loss: 0.2083\n",
            "[Epoch 152/30] Step 10/27 - Loss: 0.2206\n",
            "[Epoch 152/30] Step 20/27 - Loss: 0.2151\n",
            "🔁 Epoch 152 finished. Avg Train Loss: 0.2170\n",
            "✅ Validation Loss: 0.1491 | Accuracy: 68.43%\n",
            "Best model saved at epoch 152 with loss 0.1491\n",
            "[Epoch 153/30] Step 0/27 - Loss: 0.2239\n",
            "[Epoch 153/30] Step 10/27 - Loss: 0.2093\n",
            "[Epoch 153/30] Step 20/27 - Loss: 0.2173\n",
            "🔁 Epoch 153 finished. Avg Train Loss: 0.2173\n",
            "✅ Validation Loss: 0.1483 | Accuracy: 68.75%\n",
            "Best model saved at epoch 153 with loss 0.1483\n",
            "[Epoch 154/30] Step 0/27 - Loss: 0.2349\n",
            "[Epoch 154/30] Step 10/27 - Loss: 0.2133\n",
            "[Epoch 154/30] Step 20/27 - Loss: 0.2186\n",
            "🔁 Epoch 154 finished. Avg Train Loss: 0.2172\n",
            "✅ Validation Loss: 0.1486 | Accuracy: 68.60%\n",
            "[Epoch 155/30] Step 0/27 - Loss: 0.2247\n",
            "[Epoch 155/30] Step 10/27 - Loss: 0.2181\n",
            "[Epoch 155/30] Step 20/27 - Loss: 0.2057\n",
            "🔁 Epoch 155 finished. Avg Train Loss: 0.2184\n",
            "✅ Validation Loss: 0.1490 | Accuracy: 68.56%\n",
            "[Epoch 156/30] Step 0/27 - Loss: 0.2288\n",
            "[Epoch 156/30] Step 10/27 - Loss: 0.2086\n",
            "[Epoch 156/30] Step 20/27 - Loss: 0.2256\n",
            "🔁 Epoch 156 finished. Avg Train Loss: 0.2168\n",
            "✅ Validation Loss: 0.1479 | Accuracy: 68.97%\n",
            "Best model saved at epoch 156 with loss 0.1479\n",
            "[Epoch 157/30] Step 0/27 - Loss: 0.2099\n",
            "[Epoch 157/30] Step 10/27 - Loss: 0.2184\n",
            "[Epoch 157/30] Step 20/27 - Loss: 0.2085\n",
            "🔁 Epoch 157 finished. Avg Train Loss: 0.2172\n",
            "✅ Validation Loss: 0.1477 | Accuracy: 68.99%\n",
            "Best model saved at epoch 157 with loss 0.1477\n",
            "[Epoch 158/30] Step 0/27 - Loss: 0.2135\n",
            "[Epoch 158/30] Step 10/27 - Loss: 0.2281\n",
            "[Epoch 158/30] Step 20/27 - Loss: 0.2091\n",
            "🔁 Epoch 158 finished. Avg Train Loss: 0.2180\n",
            "✅ Validation Loss: 0.1484 | Accuracy: 68.79%\n",
            "[Epoch 159/30] Step 0/27 - Loss: 0.2160\n",
            "[Epoch 159/30] Step 10/27 - Loss: 0.2234\n",
            "[Epoch 159/30] Step 20/27 - Loss: 0.2273\n",
            "🔁 Epoch 159 finished. Avg Train Loss: 0.2172\n",
            "✅ Validation Loss: 0.1482 | Accuracy: 68.77%\n",
            "[Epoch 160/30] Step 0/27 - Loss: 0.2316\n",
            "[Epoch 160/30] Step 10/27 - Loss: 0.2096\n",
            "[Epoch 160/30] Step 20/27 - Loss: 0.2160\n",
            "🔁 Epoch 160 finished. Avg Train Loss: 0.2174\n",
            "✅ Validation Loss: 0.1494 | Accuracy: 68.33%\n",
            "[Epoch 161/30] Step 0/27 - Loss: 0.2111\n",
            "[Epoch 161/30] Step 10/27 - Loss: 0.2061\n",
            "[Epoch 161/30] Step 20/27 - Loss: 0.2275\n",
            "🔁 Epoch 161 finished. Avg Train Loss: 0.2171\n",
            "✅ Validation Loss: 0.1485 | Accuracy: 68.67%\n",
            "[Epoch 162/30] Step 0/27 - Loss: 0.2194\n",
            "[Epoch 162/30] Step 10/27 - Loss: 0.2119\n",
            "[Epoch 162/30] Step 20/27 - Loss: 0.2161\n",
            "🔁 Epoch 162 finished. Avg Train Loss: 0.2176\n",
            "✅ Validation Loss: 0.1483 | Accuracy: 68.77%\n",
            "[Epoch 163/30] Step 0/27 - Loss: 0.2042\n",
            "[Epoch 163/30] Step 10/27 - Loss: 0.2075\n",
            "[Epoch 163/30] Step 20/27 - Loss: 0.2108\n",
            "🔁 Epoch 163 finished. Avg Train Loss: 0.2169\n",
            "✅ Validation Loss: 0.1494 | Accuracy: 68.35%\n",
            "[Epoch 164/30] Step 0/27 - Loss: 0.2197\n",
            "[Epoch 164/30] Step 10/27 - Loss: 0.2166\n",
            "[Epoch 164/30] Step 20/27 - Loss: 0.2192\n",
            "🔁 Epoch 164 finished. Avg Train Loss: 0.2164\n",
            "✅ Validation Loss: 0.1488 | Accuracy: 68.59%\n",
            "[Epoch 165/30] Step 0/27 - Loss: 0.2215\n",
            "[Epoch 165/30] Step 10/27 - Loss: 0.2240\n",
            "[Epoch 165/30] Step 20/27 - Loss: 0.2189\n",
            "🔁 Epoch 165 finished. Avg Train Loss: 0.2170\n",
            "✅ Validation Loss: 0.1491 | Accuracy: 68.51%\n",
            "[Epoch 166/30] Step 0/27 - Loss: 0.2153\n",
            "[Epoch 166/30] Step 10/27 - Loss: 0.2203\n",
            "[Epoch 166/30] Step 20/27 - Loss: 0.2137\n",
            "🔁 Epoch 166 finished. Avg Train Loss: 0.2166\n",
            "✅ Validation Loss: 0.1486 | Accuracy: 68.66%\n",
            "[Epoch 167/30] Step 0/27 - Loss: 0.2303\n",
            "[Epoch 167/30] Step 10/27 - Loss: 0.2242\n",
            "[Epoch 167/30] Step 20/27 - Loss: 0.2267\n",
            "🔁 Epoch 167 finished. Avg Train Loss: 0.2172\n",
            "✅ Validation Loss: 0.1477 | Accuracy: 68.98%\n",
            "Best model saved at epoch 167 with loss 0.1477\n",
            "[Epoch 168/30] Step 0/27 - Loss: 0.2114\n",
            "[Epoch 168/30] Step 10/27 - Loss: 0.2210\n",
            "[Epoch 168/30] Step 20/27 - Loss: 0.2033\n",
            "🔁 Epoch 168 finished. Avg Train Loss: 0.2171\n",
            "✅ Validation Loss: 0.1484 | Accuracy: 68.76%\n",
            "[Epoch 169/30] Step 0/27 - Loss: 0.2106\n",
            "[Epoch 169/30] Step 10/27 - Loss: 0.2136\n",
            "[Epoch 169/30] Step 20/27 - Loss: 0.2113\n",
            "🔁 Epoch 169 finished. Avg Train Loss: 0.2175\n",
            "✅ Validation Loss: 0.1484 | Accuracy: 68.69%\n",
            "[Epoch 170/30] Step 0/27 - Loss: 0.2206\n",
            "[Epoch 170/30] Step 10/27 - Loss: 0.2186\n",
            "[Epoch 170/30] Step 20/27 - Loss: 0.2109\n",
            "🔁 Epoch 170 finished. Avg Train Loss: 0.2174\n",
            "✅ Validation Loss: 0.1486 | Accuracy: 68.64%\n",
            "[Epoch 171/30] Step 0/27 - Loss: 0.2202\n",
            "[Epoch 171/30] Step 10/27 - Loss: 0.2046\n",
            "[Epoch 171/30] Step 20/27 - Loss: 0.2303\n",
            "🔁 Epoch 171 finished. Avg Train Loss: 0.2166\n",
            "✅ Validation Loss: 0.1478 | Accuracy: 68.94%\n",
            "[Epoch 172/30] Step 0/27 - Loss: 0.2108\n",
            "[Epoch 172/30] Step 10/27 - Loss: 0.2287\n",
            "[Epoch 172/30] Step 20/27 - Loss: 0.2086\n",
            "🔁 Epoch 172 finished. Avg Train Loss: 0.2173\n",
            "✅ Validation Loss: 0.1491 | Accuracy: 68.42%\n",
            "[Epoch 173/30] Step 0/27 - Loss: 0.2269\n",
            "[Epoch 173/30] Step 10/27 - Loss: 0.2286\n",
            "[Epoch 173/30] Step 20/27 - Loss: 0.2103\n",
            "🔁 Epoch 173 finished. Avg Train Loss: 0.2177\n",
            "✅ Validation Loss: 0.1486 | Accuracy: 68.62%\n",
            "[Epoch 174/30] Step 0/27 - Loss: 0.2138\n",
            "[Epoch 174/30] Step 10/27 - Loss: 0.2215\n",
            "[Epoch 174/30] Step 20/27 - Loss: 0.2176\n",
            "🔁 Epoch 174 finished. Avg Train Loss: 0.2166\n",
            "✅ Validation Loss: 0.1490 | Accuracy: 68.52%\n",
            "[Epoch 175/30] Step 0/27 - Loss: 0.2050\n",
            "[Epoch 175/30] Step 10/27 - Loss: 0.2237\n",
            "[Epoch 175/30] Step 20/27 - Loss: 0.2098\n",
            "🔁 Epoch 175 finished. Avg Train Loss: 0.2171\n",
            "✅ Validation Loss: 0.1474 | Accuracy: 69.09%\n",
            "Best model saved at epoch 175 with loss 0.1474\n",
            "[Epoch 176/30] Step 0/27 - Loss: 0.2069\n",
            "[Epoch 176/30] Step 10/27 - Loss: 0.2131\n",
            "[Epoch 176/30] Step 20/27 - Loss: 0.2150\n",
            "🔁 Epoch 176 finished. Avg Train Loss: 0.2169\n",
            "✅ Validation Loss: 0.1481 | Accuracy: 68.81%\n",
            "[Epoch 177/30] Step 0/27 - Loss: 0.2258\n",
            "[Epoch 177/30] Step 10/27 - Loss: 0.2152\n",
            "[Epoch 177/30] Step 20/27 - Loss: 0.2202\n",
            "🔁 Epoch 177 finished. Avg Train Loss: 0.2176\n",
            "✅ Validation Loss: 0.1488 | Accuracy: 68.59%\n",
            "[Epoch 178/30] Step 0/27 - Loss: 0.2269\n",
            "[Epoch 178/30] Step 10/27 - Loss: 0.2136\n",
            "[Epoch 178/30] Step 20/27 - Loss: 0.2155\n",
            "🔁 Epoch 178 finished. Avg Train Loss: 0.2173\n",
            "✅ Validation Loss: 0.1484 | Accuracy: 68.68%\n",
            "[Epoch 179/30] Step 0/27 - Loss: 0.2218\n",
            "[Epoch 179/30] Step 10/27 - Loss: 0.2184\n",
            "[Epoch 179/30] Step 20/27 - Loss: 0.2121\n",
            "🔁 Epoch 179 finished. Avg Train Loss: 0.2170\n",
            "✅ Validation Loss: 0.1475 | Accuracy: 69.08%\n",
            "[Epoch 180/30] Step 0/27 - Loss: 0.2237\n",
            "[Epoch 180/30] Step 10/27 - Loss: 0.2259\n",
            "[Epoch 180/30] Step 20/27 - Loss: 0.2246\n",
            "🔁 Epoch 180 finished. Avg Train Loss: 0.2171\n",
            "✅ Validation Loss: 0.1496 | Accuracy: 68.26%\n",
            "🏁 Training completed.\n"
          ]
        }
      ],
      "source": [
        "device = 'cuda' if torch.cuda.is_available() else 'cpu'\n",
        "log = train_loop(\n",
        "    model, train_loader, val_loader,\n",
        "    log_interval=10,\n",
        "    num_epochs=30,\n",
        "    optimizer=optimizer,\n",
        "    criterion=criterion,\n",
        "    device=device,\n",
        "    save_interval=5,\n",
        "    save_path='model/0811_1802/',\n",
        ")"
      ]
    },
    {
      "cell_type": "code",
      "execution_count": 29,
      "id": "8f7a75cd",
      "metadata": {
        "colab": {
          "base_uri": "https://localhost:8080/",
          "height": 467
        },
        "id": "8f7a75cd",
        "outputId": "ea02a887-9391-49cb-9625-f0157b8a5b1f"
      },
      "outputs": [
        {
          "output_type": "execute_result",
          "data": {
            "text/plain": [
              "<matplotlib.legend.Legend at 0x7b90284c4790>"
            ]
          },
          "metadata": {},
          "execution_count": 29
        },
        {
          "output_type": "display_data",
          "data": {
            "text/plain": [
              "<Figure size 640x480 with 1 Axes>"
            ],
            "image/png": "[encoded data removed]"
          },
          "metadata": {}
        }
      ],
      "source": [
        "import matplotlib.pyplot as plt\n",
        "plt.plot(log['train_loss'], label='train_loss')\n",
        "plt.plot(log['val_loss'], label='val_loss')\n",
        "plt.xlabel('Epoch')\n",
        "plt.ylabel('Loss')\n",
        "plt.legend()"
      ]
    },
    {
      "cell_type": "markdown",
      "id": "9612ae49",
      "metadata": {
        "id": "9612ae49"
      },
      "source": [
        "### Model Evaluation"
      ]
    },
    {
      "cell_type": "code",
      "execution_count": 30,
      "id": "20e18558",
      "metadata": {
        "id": "20e18558"
      },
      "outputs": [],
      "source": [
        "import matplotlib.pyplot as plt\n",
        "from sklearn.metrics import classification_report, confusion_matrix\n",
        "from sklearn.metrics import roc_auc_score, roc_curve\n",
        "\n",
        "def evaluate_model(model, data_loader):\n",
        "    trues, predictions, outputs = test_loop(model, data_loader, device='cpu', criterion=criterion)\n",
        "    print(classification_report(trues, predictions , target_names=['Normal', 'Failure']))\n",
        "    print(confusion_matrix(trues, predictions ))\n",
        "    roc_auc = roc_auc_score(trues, outputs)\n",
        "    print(f\"ROC AUC: {roc_auc:.4f}\")\n",
        "    curve = roc_curve(trues, outputs)\n",
        "\n",
        "    plt.figure(figsize=(8, 6))\n",
        "    plt.plot(curve[0], curve[1], label='ROC Curve')\n",
        "    plt.xlabel('False Positive Rate')\n",
        "    plt.ylabel('True Positive Rate')\n",
        "    plt.title('ROC Curve')"
      ]
    },
    {
      "cell_type": "code",
      "execution_count": 31,
      "id": "52e4da64",
      "metadata": {
        "colab": {
          "base_uri": "https://localhost:8080/"
        },
        "id": "52e4da64",
        "outputId": "4dc2d378-d056-4586-b0ca-c355b1f76e6c"
      },
      "outputs": [
        {
          "output_type": "execute_result",
          "data": {
            "text/plain": [
              "<All keys matched successfully>"
            ]
          },
          "metadata": {},
          "execution_count": 31
        }
      ],
      "source": [
        "model = CNNLSTMModel(num_features=len(extended_feature_cols), cnn_out_channels=64, lstm_hidden_size=128)\n",
        "model.load_state_dict(torch.load(r'model/0811_1802/best_model.pth', weights_only=True))"
      ]
    },
    {
      "cell_type": "code",
      "execution_count": 32,
      "id": "a92d6e62",
      "metadata": {
        "colab": {
          "base_uri": "https://localhost:8080/",
          "height": 814
        },
        "id": "a92d6e62",
        "outputId": "ba5c006e-55ee-4316-c993-6aaedd6525b6"
      },
      "outputs": [
        {
          "output_type": "stream",
          "name": "stdout",
          "text": [
            "Performance on Training Set:\n",
            "🔍 Test Loss: 0.2146 | Accuracy: 64.48%\n",
            "              precision    recall  f1-score   support\n",
            "\n",
            "      Normal       0.67      0.57      0.62      3445\n",
            "     Failure       0.63      0.72      0.67      3445\n",
            "\n",
            "    accuracy                           0.64      6890\n",
            "   macro avg       0.65      0.64      0.64      6890\n",
            "weighted avg       0.65      0.64      0.64      6890\n",
            "\n",
            "[[1971 1474]\n",
            " [ 973 2472]]\n",
            "ROC AUC: 0.7133\n"
          ]
        },
        {
          "output_type": "display_data",
          "data": {
            "text/plain": [
              "<Figure size 800x600 with 1 Axes>"
            ],
            "image/png": "[encoded data removed]"
          },
          "metadata": {}
        }
      ],
      "source": [
        "print(\"Performance on Training Set:\")\n",
        "evaluate_model(model, train_loader)"
      ]
    },
    {
      "cell_type": "code",
      "execution_count": 33,
      "id": "ae0790bb",
      "metadata": {
        "colab": {
          "base_uri": "https://localhost:8080/",
          "height": 814
        },
        "id": "ae0790bb",
        "outputId": "05f34b21-0fce-4e4d-f2cf-9a1eda0b7128"
      },
      "outputs": [
        {
          "output_type": "stream",
          "name": "stdout",
          "text": [
            "Performance on Validation Set:\n",
            "🔍 Test Loss: 0.1465 | Accuracy: 69.53%\n",
            "              precision    recall  f1-score   support\n",
            "\n",
            "      Normal       1.00      0.70      0.82     86810\n",
            "     Failure       0.01      0.63      0.02       360\n",
            "\n",
            "    accuracy                           0.70     87170\n",
            "   macro avg       0.50      0.66      0.42     87170\n",
            "weighted avg       0.99      0.70      0.82     87170\n",
            "\n",
            "[[60379 26431]\n",
            " [  134   226]]\n",
            "ROC AUC: 0.7350\n"
          ]
        },
        {
          "output_type": "display_data",
          "data": {
            "text/plain": [
              "<Figure size 800x600 with 1 Axes>"
            ],
            "image/png": "[encoded data removed]"
          },
          "metadata": {}
        }
      ],
      "source": [
        "print(\"Performance on Validation Set:\")\n",
        "evaluate_model(model, val_loader)"
      ]
    },
    {
      "cell_type": "code",
      "execution_count": 34,
      "id": "25e186ec",
      "metadata": {
        "colab": {
          "base_uri": "https://localhost:8080/",
          "height": 814
        },
        "id": "25e186ec",
        "outputId": "3f7d5384-4f23-4603-8b89-e34b8f4302a1"
      },
      "outputs": [
        {
          "output_type": "stream",
          "name": "stdout",
          "text": [
            "Performance on Test Set:\n",
            "🔍 Test Loss: 0.1727 | Accuracy: 71.74%\n",
            "              precision    recall  f1-score   support\n",
            "\n",
            "      Normal       0.97      0.73      0.83     35751\n",
            "     Failure       0.05      0.35      0.08      1296\n",
            "\n",
            "    accuracy                           0.72     37047\n",
            "   macro avg       0.51      0.54      0.46     37047\n",
            "weighted avg       0.94      0.72      0.81     37047\n",
            "\n",
            "[[26121  9630]\n",
            " [  841   455]]\n",
            "ROC AUC: 0.5627\n"
          ]
        },
        {
          "output_type": "display_data",
          "data": {
            "text/plain": [
              "<Figure size 800x600 with 1 Axes>"
            ],
            "image/png": "[encoded data removed]"
          },
          "metadata": {}
        }
      ],
      "source": [
        "print(\"Performance on Test Set:\")\n",
        "evaluate_model(model, test_loader)"
      ]
    },
    {
      "cell_type": "code",
      "source": [
        "def reconstruct_meta_like_dataset(df, feature_cols, label_col,\n",
        "                                  device_col, time_col,\n",
        "                                  window_size, stride):\n",
        "    \"\"\"\n",
        "    重新建立 meta_df：每個被保留的 window 產生一列 (device_id, score_time)，\n",
        "    規則要和 InverterTimeSeriesDataset 完全一致。\n",
        "    \"\"\"\n",
        "    import numpy as np\n",
        "    import pandas as pd\n",
        "\n",
        "    rows = []\n",
        "    df = df.sort_values([device_col, time_col]).reset_index(drop=True)\n",
        "\n",
        "    for dev, g in df.groupby(device_col, sort=False):\n",
        "        g = g.reset_index(drop=True)\n",
        "        times  = pd.to_datetime(g[time_col].values)\n",
        "        feats  = g[feature_cols].to_numpy()\n",
        "        labels = g[label_col].to_numpy()\n",
        "\n",
        "        n = len(g)\n",
        "        if n < window_size:\n",
        "            continue\n",
        "\n",
        "        # ---- 依「最常見時間差」切出連續區段（和 Dataset 一致）----\n",
        "        deltas = pd.Series(times).diff().dt.total_seconds().to_numpy()\n",
        "        if np.all(np.isnan(deltas)):\n",
        "            blocks = [(0, n)]\n",
        "        else:\n",
        "            expected = pd.Series(deltas[~np.isnan(deltas)]).mode()[0]\n",
        "            breaks = np.where((~np.isnan(deltas)) & (deltas != expected))[0] + 1\n",
        "            starts = np.r_[0, breaks]\n",
        "            ends   = np.r_[breaks, n]\n",
        "            blocks = list(zip(starts, ends))\n",
        "\n",
        "        # ---- 在每個連續區段上產生 windows ----\n",
        "        for s, e in blocks:\n",
        "            X_blk = feats[s:e]\n",
        "            y_blk = labels[s:e]\n",
        "            t_blk = times[s:e]\n",
        "\n",
        "            m = len(X_blk)\n",
        "            if m < window_size:\n",
        "                continue\n",
        "\n",
        "            for start in range(0, m - window_size + 1, stride):\n",
        "                end = start + window_size\n",
        "                y = y_blk[end-1]                 # 用窗尾 label\n",
        "                if y == -1:                      # 和 Dataset 一樣：跳過 -1\n",
        "                    continue\n",
        "                # 若 Dataset 有 NaN 過濾，這裡也要加上：\n",
        "                # if np.isnan(X_blk[start:end]).any(): continue\n",
        "\n",
        "                rows.append((dev, t_blk[end-1]))  # score_time = 窗尾時間\n",
        "\n",
        "    meta_df = pd.DataFrame(rows, columns=[\"device_id\", \"score_time\"])\n",
        "    return meta_df\n"
      ],
      "metadata": {
        "id": "WYdzFfWjZQF1"
      },
      "id": "WYdzFfWjZQF1",
      "execution_count": 51,
      "outputs": []
    },
    {
      "cell_type": "code",
      "source": [
        "meta_re = reconstruct_meta_like_dataset(\n",
        "    test_df,\n",
        "    feature_cols=extended_feature_cols,\n",
        "    label_col=\"label\",\n",
        "    device_col=\"device_name\",\n",
        "    time_col=\"event_local_time\",\n",
        "    window_size=window_size,\n",
        "    stride=stride\n",
        ")\n",
        "\n",
        "print(\"重建 meta 行數:\", len(meta_re))\n",
        "print(\"模型輸出 y_true/y_score 行數:\", len(trues), len(probs))  # 你 test_loop 回傳的長度\n",
        "\n",
        "# 如果還是不一樣，逐條件比較\n",
        "def count_by_rule(df, feature_cols, label_col, device_col, time_col, window_size, stride):\n",
        "    import numpy as np, pandas as pd\n",
        "    kept = 0; kept_after_neg1 = 0\n",
        "    for dev, g in df.groupby(device_col, sort=False):\n",
        "        times  = pd.to_datetime(g[time_col].values)\n",
        "        feats  = g[feature_cols].to_numpy()\n",
        "        labels = g[label_col].to_numpy()\n",
        "        n = len(g)\n",
        "        if n < window_size: continue\n",
        "\n",
        "        deltas = pd.Series(times).diff().dt.total_seconds().to_numpy()\n",
        "        if np.all(np.isnan(deltas)):\n",
        "            blocks = [(0, n)]\n",
        "        else:\n",
        "            expected = pd.Series(deltas[~np.isnan(deltas)]).mode()[0]\n",
        "            breaks = np.where((~np.isnan(deltas)) & (deltas != expected))[0] + 1\n",
        "            starts = np.r_[0, breaks]\n",
        "            ends   = np.r_[breaks, n]\n",
        "            blocks = list(zip(starts, ends))\n",
        "\n",
        "        for s, e in blocks:\n",
        "            m = e - s\n",
        "            if m < window_size: continue\n",
        "            kept += 1 + (m - window_size) // stride\n",
        "            # 套 label==-1 過濾\n",
        "            for st in range(0, m - window_size + 1, stride):\n",
        "                ed = st + window_size\n",
        "                if labels[s:e][ed-1] == -1:\n",
        "                    continue\n",
        "                kept_after_neg1 += 1\n",
        "    return kept, kept_after_neg1\n",
        "\n",
        "c_all, c_after = count_by_rule(test_df, extended_feature_cols, \"label\",\n",
        "                               \"device_name\", \"event_local_time\",\n",
        "                               window_size, stride)\n",
        "print(\"理論產生 windows（不過濾）:\", c_all)\n",
        "print(\"套 label==-1 後理論留下:\", c_after)\n",
        "print(\"重建 meta:\", len(meta_re))\n",
        "print(\"模型輸出長度:\", len(trues))\n",
        "\n"
      ],
      "metadata": {
        "colab": {
          "base_uri": "https://localhost:8080/"
        },
        "id": "jB_JR6tGZThy",
        "outputId": "d39df40f-93b4-42dd-a15a-0ad4d02984ee"
      },
      "id": "jB_JR6tGZThy",
      "execution_count": 52,
      "outputs": [
        {
          "output_type": "stream",
          "name": "stdout",
          "text": [
            "重建 meta 行數: 37047\n",
            "模型輸出 y_true/y_score 行數: 37047 37047\n",
            "理論產生 windows（不過濾）: 37047\n",
            "套 label==-1 後理論留下: 37047\n",
            "重建 meta: 37047\n",
            "模型輸出長度: 37047\n"
          ]
        }
      ]
    },
    {
      "cell_type": "code",
      "source": [
        "trues, preds, probs = test_loop(model, test_loader, device=device, criterion=criterion)"
      ],
      "metadata": {
        "colab": {
          "base_uri": "https://localhost:8080/"
        },
        "id": "G3t6cfwTZd11",
        "outputId": "5fa9f9d5-d32c-46d0-b7c6-a5ddb0cd9c26"
      },
      "id": "G3t6cfwTZd11",
      "execution_count": 53,
      "outputs": [
        {
          "output_type": "stream",
          "name": "stdout",
          "text": [
            "🔍 Test Loss: 0.1727 | Accuracy: 71.74%\n"
          ]
        }
      ]
    },
    {
      "cell_type": "code",
      "source": [
        "import numpy as np\n",
        "import pandas as pd\n",
        "\n",
        "def attach_next_event_time(horizon_df: pd.DataFrame,\n",
        "                           failure_sessions: pd.DataFrame,\n",
        "                           device_col_left=\"device_id\",\n",
        "                           time_col_left=\"score_time\",\n",
        "                           device_col_right=\"device_name\",\n",
        "                           start_col_right=\"start_time\",\n",
        "                           end_col_right=None  # 若有 end_time 可用來過濾故障期內資料\n",
        "                           ) -> pd.DataFrame:\n",
        "    \"\"\"\n",
        "    對每一筆 (device_id, score_time) 指派『該設備的下一個事件時間』作為 event_time。\n",
        "    若找不到下一個事件，event_time = NaT。\n",
        "    若提供 end_col_right，並且 score_time 落在 [start,end] 故障期間，可選擇標 NaT 或丟棄。\n",
        "    \"\"\"\n",
        "    df = horizon_df.copy()\n",
        "    df[time_col_left] = pd.to_datetime(df[time_col_left])\n",
        "    fs = failure_sessions.copy()\n",
        "    fs[start_col_right] = pd.to_datetime(fs[start_col_right])\n",
        "    if end_col_right and end_col_right in fs.columns:\n",
        "        fs[end_col_right] = pd.to_datetime(fs[end_col_right])\n",
        "\n",
        "    out = []\n",
        "    for dev, g in df.groupby(device_col_left, sort=False):\n",
        "        gg = g.sort_values(time_col_left).copy()\n",
        "        starts = fs.loc[fs[device_col_right] == dev, start_col_right]\\\n",
        "                   .sort_values().to_numpy(dtype=\"datetime64[ns]\")\n",
        "\n",
        "        if len(starts) == 0:\n",
        "            gg[\"event_time\"] = pd.NaT\n",
        "            out.append(gg)\n",
        "            continue\n",
        "\n",
        "        t = gg[time_col_left].to_numpy(dtype=\"datetime64[ns]\")\n",
        "        idx = np.searchsorted(starts, t, side=\"left\")  # 下一個事件的索引\n",
        "\n",
        "        ev = np.full(len(gg), np.datetime64(\"NaT\"), dtype=\"datetime64[ns]\")\n",
        "        valid = idx < len(starts)\n",
        "        ev[valid] = starts[idx[valid]]\n",
        "        gg[\"event_time\"] = ev\n",
        "\n",
        "        # 如果你想把『已在故障期間內』的分數排除，可用 end_time 過濾（可選）\n",
        "        if end_col_right and end_col_right in fs.columns:\n",
        "            # 找到「上一個事件」的 end_time，若 score_time <= end_time 表示在故障期間\n",
        "            ends_for_dev = fs.loc[fs[device_col_right] == dev, end_col_right]\\\n",
        "                              .sort_values().to_numpy(dtype=\"datetime64[ns]\")\n",
        "            prev_idx = idx - 1\n",
        "            in_fail = (prev_idx >= 0) & (t <= ends_for_dev[prev_idx.clip(min=0)])\n",
        "            gg.loc[in_fail, \"event_time\"] = np.datetime64(\"NaT\")  # 或者 gg = gg[~in_fail]\n",
        "\n",
        "        out.append(gg)\n",
        "\n",
        "    return pd.concat(out, ignore_index=True)\n"
      ],
      "metadata": {
        "id": "ia46tJWTdneP"
      },
      "id": "ia46tJWTdneP",
      "execution_count": 61,
      "outputs": []
    },
    {
      "cell_type": "code",
      "source": [
        "# 先把 y_true / y_score 塞回 meta_re（或 dataset.meta）\n",
        "horizon_df = meta_re.copy()\n",
        "horizon_df[\"y_true\"]  = trues\n",
        "horizon_df[\"y_score\"] = probs\n",
        "\n",
        "# 正確指派「下一個事件時間」\n",
        "horizon_df = attach_next_event_time(\n",
        "    horizon_df,\n",
        "    failure_sessions,\n",
        "    device_col_left=\"device_id\",\n",
        "    time_col_left=\"score_time\",\n",
        "    device_col_right=\"device_name\",\n",
        "    start_col_right=\"start_time\",\n",
        "    end_col_right=\"end_time\"  # 若沒有可傳 None\n",
        ")\n",
        "\n",
        "# 檢查：score_time 應該都早於（或等於）對到的 event_time；沒事件的會是 NaT\n",
        "bad = horizon_df.dropna(subset=[\"event_time\"])\n",
        "print(\"有誤筆數：\", (bad[\"score_time\"] > bad[\"event_time\"]).sum())\n"
      ],
      "metadata": {
        "colab": {
          "base_uri": "https://localhost:8080/"
        },
        "id": "d7zZGr95ZdLI",
        "outputId": "5d2c0ca2-be81-44f4-f0c9-8e65a1675b05"
      },
      "id": "d7zZGr95ZdLI",
      "execution_count": 62,
      "outputs": [
        {
          "output_type": "stream",
          "name": "stdout",
          "text": [
            "有誤筆數： 0\n"
          ]
        }
      ]
    },
    {
      "cell_type": "code",
      "source": [
        "horizon_df.head()"
      ],
      "metadata": {
        "colab": {
          "base_uri": "https://localhost:8080/",
          "height": 246
        },
        "id": "rTYffR3gcQJP",
        "outputId": "bcf9e264-e94c-40ee-bb38-bffc35237697"
      },
      "id": "rTYffR3gcQJP",
      "execution_count": 63,
      "outputs": [
        {
          "output_type": "execute_result",
          "data": {
            "text/plain": [
              "  device_id          score_time  y_true   y_score          event_time\n",
              "0    INV 51 2025-04-04 12:30:00     0.0  0.144426 2025-04-20 13:35:00\n",
              "1    INV 51 2025-04-04 13:30:00     0.0  0.132745 2025-04-20 13:35:00\n",
              "2    INV 51 2025-04-04 14:30:00     0.0  0.143192 2025-04-20 13:35:00\n",
              "3    INV 51 2025-04-04 15:30:00     0.0  0.142988 2025-04-20 13:35:00\n",
              "4    INV 51 2025-04-04 16:30:00     0.0  0.147586 2025-04-20 13:35:00"
            ],
            "text/html": [
              "\n",
              "  <div id=\"df-481cf846-752c-4ac9-b41c-ee887821252b\" class=\"colab-df-container\">\n",
              "    <div>\n",
              "<style scoped>\n",
              "    .dataframe tbody tr th:only-of-type {\n",
              "        vertical-align: middle;\n",
              "    }\n",
              "\n",
              "    .dataframe tbody tr th {\n",
              "        vertical-align: top;\n",
              "    }\n",
              "\n",
              "    .dataframe thead th {\n",
              "        text-align: right;\n",
              "    }\n",
              "</style>\n",
              "<table border=\"1\" class=\"dataframe\">\n",
              "  <thead>\n",
              "    <tr style=\"text-align: right;\">\n",
              "      <th></th>\n",
              "      <th>device_id</th>\n",
              "      <th>score_time</th>\n",
              "      <th>y_true</th>\n",
              "      <th>y_score</th>\n",
              "      <th>event_time</th>\n",
              "    </tr>\n",
              "  </thead>\n",
              "  <tbody>\n",
              "    <tr>\n",
              "      <th>0</th>\n",
              "      <td>INV 51</td>\n",
              "      <td>2025-04-04 12:30:00</td>\n",
              "      <td>0.0</td>\n",
              "      <td>0.144426</td>\n",
              "      <td>2025-04-20 13:35:00</td>\n",
              "    </tr>\n",
              "    <tr>\n",
              "      <th>1</th>\n",
              "      <td>INV 51</td>\n",
              "      <td>2025-04-04 13:30:00</td>\n",
              "      <td>0.0</td>\n",
              "      <td>0.132745</td>\n",
              "      <td>2025-04-20 13:35:00</td>\n",
              "    </tr>\n",
              "    <tr>\n",
              "      <th>2</th>\n",
              "      <td>INV 51</td>\n",
              "      <td>2025-04-04 14:30:00</td>\n",
              "      <td>0.0</td>\n",
              "      <td>0.143192</td>\n",
              "      <td>2025-04-20 13:35:00</td>\n",
              "    </tr>\n",
              "    <tr>\n",
              "      <th>3</th>\n",
              "      <td>INV 51</td>\n",
              "      <td>2025-04-04 15:30:00</td>\n",
              "      <td>0.0</td>\n",
              "      <td>0.142988</td>\n",
              "      <td>2025-04-20 13:35:00</td>\n",
              "    </tr>\n",
              "    <tr>\n",
              "      <th>4</th>\n",
              "      <td>INV 51</td>\n",
              "      <td>2025-04-04 16:30:00</td>\n",
              "      <td>0.0</td>\n",
              "      <td>0.147586</td>\n",
              "      <td>2025-04-20 13:35:00</td>\n",
              "    </tr>\n",
              "  </tbody>\n",
              "</table>\n",
              "</div>\n",
              "    <div class=\"colab-df-buttons\">\n",
              "\n",
              "  <div class=\"colab-df-container\">\n",
              "    <button class=\"colab-df-convert\" onclick=\"convertToInteractive('df-481cf846-752c-4ac9-b41c-ee887821252b')\"\n",
              "            title=\"Convert this dataframe to an interactive table.\"\n",
              "            style=\"display:none;\">\n",
              "\n",
              "  <svg xmlns=\"http://www.w3.org/2000/svg\" height=\"24px\" viewBox=\"0 -960 960 960\">\n",
              "    <path d=\"M120-120v-720h720v720H120Zm60-500h600v-160H180v160Zm220 220h160v-160H400v160Zm0 220h160v-160H400v160ZM180-400h160v-160H180v160Zm440 0h160v-160H620v160ZM180-180h160v-160H180v160Zm440 0h160v-160H620v160Z\"/>\n",
              "  </svg>\n",
              "    </button>\n",
              "\n",
              "  <style>\n",
              "    .colab-df-container {\n",
              "      display:flex;\n",
              "      gap: 12px;\n",
              "    }\n",
              "\n",
              "    .colab-df-convert {\n",
              "      background-color: #E8F0FE;\n",
              "      border: none;\n",
              "      border-radius: 50%;\n",
              "      cursor: pointer;\n",
              "      display: none;\n",
              "      fill: #1967D2;\n",
              "      height: 32px;\n",
              "      padding: 0 0 0 0;\n",
              "      width: 32px;\n",
              "    }\n",
              "\n",
              "    .colab-df-convert:hover {\n",
              "      background-color: #E2EBFA;\n",
              "      box-shadow: 0px 1px 2px rgba(60, 64, 67, 0.3), 0px 1px 3px 1px rgba(60, 64, 67, 0.15);\n",
              "      fill: #174EA6;\n",
              "    }\n",
              "\n",
              "    .colab-df-buttons div {\n",
              "      margin-bottom: 4px;\n",
              "    }\n",
              "\n",
              "    [theme=dark] .colab-df-convert {\n",
              "      background-color: #3B4455;\n",
              "      fill: #D2E3FC;\n",
              "    }\n",
              "\n",
              "    [theme=dark] .colab-df-convert:hover {\n",
              "      background-color: #434B5C;\n",
              "      box-shadow: 0px 1px 3px 1px rgba(0, 0, 0, 0.15);\n",
              "      filter: drop-shadow(0px 1px 2px rgba(0, 0, 0, 0.3));\n",
              "      fill: #FFFFFF;\n",
              "    }\n",
              "  </style>\n",
              "\n",
              "    <script>\n",
              "      const buttonEl =\n",
              "        document.querySelector('#df-481cf846-752c-4ac9-b41c-ee887821252b button.colab-df-convert');\n",
              "      buttonEl.style.display =\n",
              "        google.colab.kernel.accessAllowed ? 'block' : 'none';\n",
              "\n",
              "      async function convertToInteractive(key) {\n",
              "        const element = document.querySelector('#df-481cf846-752c-4ac9-b41c-ee887821252b');\n",
              "        const dataTable =\n",
              "          await google.colab.kernel.invokeFunction('convertToInteractive',\n",
              "                                                    [key], {});\n",
              "        if (!dataTable) return;\n",
              "\n",
              "        const docLinkHtml = 'Like what you see? Visit the ' +\n",
              "          '<a target=\"_blank\" href=https://colab.research.google.com/notebooks/data_table.ipynb>data table notebook</a>'\n",
              "          + ' to learn more about interactive tables.';\n",
              "        element.innerHTML = '';\n",
              "        dataTable['output_type'] = 'display_data';\n",
              "        await google.colab.output.renderOutput(dataTable, element);\n",
              "        const docLink = document.createElement('div');\n",
              "        docLink.innerHTML = docLinkHtml;\n",
              "        element.appendChild(docLink);\n",
              "      }\n",
              "    </script>\n",
              "  </div>\n",
              "\n",
              "\n",
              "    <div id=\"df-31bf41bb-e4fe-4445-bc4c-b3cbc5f5f3a8\">\n",
              "      <button class=\"colab-df-quickchart\" onclick=\"quickchart('df-31bf41bb-e4fe-4445-bc4c-b3cbc5f5f3a8')\"\n",
              "                title=\"Suggest charts\"\n",
              "                style=\"display:none;\">\n",
              "\n",
              "<svg xmlns=\"http://www.w3.org/2000/svg\" height=\"24px\"viewBox=\"0 0 24 24\"\n",
              "     width=\"24px\">\n",
              "    <g>\n",
              "        <path d=\"M19 3H5c-1.1 0-2 .9-2 2v14c0 1.1.9 2 2 2h14c1.1 0 2-.9 2-2V5c0-1.1-.9-2-2-2zM9 17H7v-7h2v7zm4 0h-2V7h2v10zm4 0h-2v-4h2v4z\"/>\n",
              "    </g>\n",
              "</svg>\n",
              "      </button>\n",
              "\n",
              "<style>\n",
              "  .colab-df-quickchart {\n",
              "      --bg-color: #E8F0FE;\n",
              "      --fill-color: #1967D2;\n",
              "      --hover-bg-color: #E2EBFA;\n",
              "      --hover-fill-color: #174EA6;\n",
              "      --disabled-fill-color: #AAA;\n",
              "      --disabled-bg-color: #DDD;\n",
              "  }\n",
              "\n",
              "  [theme=dark] .colab-df-quickchart {\n",
              "      --bg-color: #3B4455;\n",
              "      --fill-color: #D2E3FC;\n",
              "      --hover-bg-color: #434B5C;\n",
              "      --hover-fill-color: #FFFFFF;\n",
              "      --disabled-bg-color: #3B4455;\n",
              "      --disabled-fill-color: #666;\n",
              "  }\n",
              "\n",
              "  .colab-df-quickchart {\n",
              "    background-color: var(--bg-color);\n",
              "    border: none;\n",
              "    border-radius: 50%;\n",
              "    cursor: pointer;\n",
              "    display: none;\n",
              "    fill: var(--fill-color);\n",
              "    height: 32px;\n",
              "    padding: 0;\n",
              "    width: 32px;\n",
              "  }\n",
              "\n",
              "  .colab-df-quickchart:hover {\n",
              "    background-color: var(--hover-bg-color);\n",
              "    box-shadow: 0 1px 2px rgba(60, 64, 67, 0.3), 0 1px 3px 1px rgba(60, 64, 67, 0.15);\n",
              "    fill: var(--button-hover-fill-color);\n",
              "  }\n",
              "\n",
              "  .colab-df-quickchart-complete:disabled,\n",
              "  .colab-df-quickchart-complete:disabled:hover {\n",
              "    background-color: var(--disabled-bg-color);\n",
              "    fill: var(--disabled-fill-color);\n",
              "    box-shadow: none;\n",
              "  }\n",
              "\n",
              "  .colab-df-spinner {\n",
              "    border: 2px solid var(--fill-color);\n",
              "    border-color: transparent;\n",
              "    border-bottom-color: var(--fill-color);\n",
              "    animation:\n",
              "      spin 1s steps(1) infinite;\n",
              "  }\n",
              "\n",
              "  @keyframes spin {\n",
              "    0% {\n",
              "      border-color: transparent;\n",
              "      border-bottom-color: var(--fill-color);\n",
              "      border-left-color: var(--fill-color);\n",
              "    }\n",
              "    20% {\n",
              "      border-color: transparent;\n",
              "      border-left-color: var(--fill-color);\n",
              "      border-top-color: var(--fill-color);\n",
              "    }\n",
              "    30% {\n",
              "      border-color: transparent;\n",
              "      border-left-color: var(--fill-color);\n",
              "      border-top-color: var(--fill-color);\n",
              "      border-right-color: var(--fill-color);\n",
              "    }\n",
              "    40% {\n",
              "      border-color: transparent;\n",
              "      border-right-color: var(--fill-color);\n",
              "      border-top-color: var(--fill-color);\n",
              "    }\n",
              "    60% {\n",
              "      border-color: transparent;\n",
              "      border-right-color: var(--fill-color);\n",
              "    }\n",
              "    80% {\n",
              "      border-color: transparent;\n",
              "      border-right-color: var(--fill-color);\n",
              "      border-bottom-color: var(--fill-color);\n",
              "    }\n",
              "    90% {\n",
              "      border-color: transparent;\n",
              "      border-bottom-color: var(--fill-color);\n",
              "    }\n",
              "  }\n",
              "</style>\n",
              "\n",
              "      <script>\n",
              "        async function quickchart(key) {\n",
              "          const quickchartButtonEl =\n",
              "            document.querySelector('#' + key + ' button');\n",
              "          quickchartButtonEl.disabled = true;  // To prevent multiple clicks.\n",
              "          quickchartButtonEl.classList.add('colab-df-spinner');\n",
              "          try {\n",
              "            const charts = await google.colab.kernel.invokeFunction(\n",
              "                'suggestCharts', [key], {});\n",
              "          } catch (error) {\n",
              "            console.error('Error during call to suggestCharts:', error);\n",
              "          }\n",
              "          quickchartButtonEl.classList.remove('colab-df-spinner');\n",
              "          quickchartButtonEl.classList.add('colab-df-quickchart-complete');\n",
              "        }\n",
              "        (() => {\n",
              "          let quickchartButtonEl =\n",
              "            document.querySelector('#df-31bf41bb-e4fe-4445-bc4c-b3cbc5f5f3a8 button');\n",
              "          quickchartButtonEl.style.display =\n",
              "            google.colab.kernel.accessAllowed ? 'block' : 'none';\n",
              "        })();\n",
              "      </script>\n",
              "    </div>\n",
              "\n",
              "    </div>\n",
              "  </div>\n"
            ],
            "application/vnd.google.colaboratory.intrinsic+json": {
              "type": "dataframe",
              "variable_name": "horizon_df",
              "summary": "{\n  \"name\": \"horizon_df\",\n  \"rows\": 37047,\n  \"fields\": [\n    {\n      \"column\": \"device_id\",\n      \"properties\": {\n        \"dtype\": \"category\",\n        \"num_unique_values\": 16,\n        \"samples\": [\n          \"INV 51\",\n          \"INV 52\",\n          \"INV 56\"\n        ],\n        \"semantic_type\": \"\",\n        \"description\": \"\"\n      }\n    },\n    {\n      \"column\": \"score_time\",\n      \"properties\": {\n        \"dtype\": \"date\",\n        \"min\": \"2025-04-04 12:25:00\",\n        \"max\": \"2025-07-23 23:30:00\",\n        \"num_unique_values\": 15489,\n        \"samples\": [\n          \"2025-05-15 20:20:00\",\n          \"2025-07-09 00:55:00\",\n          \"2025-07-16 00:15:00\"\n        ],\n        \"semantic_type\": \"\",\n        \"description\": \"\"\n      }\n    },\n    {\n      \"column\": \"y_true\",\n      \"properties\": {\n        \"dtype\": \"float32\",\n        \"num_unique_values\": 2,\n        \"samples\": [\n          1.0,\n          0.0\n        ],\n        \"semantic_type\": \"\",\n        \"description\": \"\"\n      }\n    },\n    {\n      \"column\": \"y_score\",\n      \"properties\": {\n        \"dtype\": \"float32\",\n        \"num_unique_values\": 36939,\n        \"samples\": [\n          0.540079653263092,\n          0.4671052098274231\n        ],\n        \"semantic_type\": \"\",\n        \"description\": \"\"\n      }\n    },\n    {\n      \"column\": \"event_time\",\n      \"properties\": {\n        \"dtype\": \"date\",\n        \"min\": \"2025-04-13 16:10:00\",\n        \"max\": \"2025-06-28 10:20:00\",\n        \"num_unique_values\": 8,\n        \"samples\": [\n          \"2025-04-13 16:10:00\",\n          \"2025-05-05 10:25:00\"\n        ],\n        \"semantic_type\": \"\",\n        \"description\": \"\"\n      }\n    }\n  ]\n}"
            }
          },
          "metadata": {},
          "execution_count": 63
        }
      ]
    },
    {
      "cell_type": "code",
      "execution_count": 82,
      "id": "e7cce1f0",
      "metadata": {
        "id": "e7cce1f0"
      },
      "outputs": [],
      "source": [
        "import pandas as pd\n",
        "import numpy as np\n",
        "\n",
        "def horizon_recall(horizon_df, tau, horizons_days):\n",
        "    \"\"\"\n",
        "    計算不同 horizon (提前天數) 下的 Recall。\n",
        "\n",
        "    參數：\n",
        "    - horizon_df: DataFrame，包含 device_id, score_time, y_score, event_time\n",
        "    - tau: float，分數門檻（機率閾值）\n",
        "    - horizons_days: list[int]，要計算的提前天數\n",
        "\n",
        "    回傳：\n",
        "    - DataFrame: 每個 horizon 對應的 Recall\n",
        "    \"\"\"\n",
        "    results = []\n",
        "\n",
        "    # 確保時間型態正確\n",
        "    df = horizon_df.copy()\n",
        "    df[\"score_time\"] = pd.to_datetime(df[\"score_time\"])\n",
        "    df[\"event_time\"] = pd.to_datetime(df[\"event_time\"])\n",
        "\n",
        "    # 逐個 horizon 計算\n",
        "    for H in horizons_days:\n",
        "        # 儲存有被提前 H 天偵測到的 event\n",
        "        detected_events = set()\n",
        "\n",
        "        for dev, grp in df.groupby(\"device_id\"):\n",
        "            # 該設備的事件時間\n",
        "            event_time = grp[\"event_time\"].iloc[0]  # 假設每台機器只有一個 failure_event\n",
        "            # 篩選出符合提前 H 天條件 & 機率 >= tau 的預測\n",
        "            alerts = grp[\n",
        "                (grp[\"y_score\"] >= tau) &\n",
        "                (grp[\"score_time\"] <= event_time - pd.Timedelta(days=H))\n",
        "            ]\n",
        "            if not alerts.empty:\n",
        "                detected_events.add((dev, event_time))\n",
        "\n",
        "        # 計算 recall\n",
        "        total_events = df[[\"device_id\", \"event_time\"]].drop_duplicates().shape[0]\n",
        "        recall = len(detected_events) / total_events if total_events > 0 else np.nan\n",
        "        results.append({\"H_days\": H, \"Recall\": recall})\n",
        "\n",
        "    return pd.DataFrame(results)\n",
        "\n",
        "\n",
        "def plot_horizon_recall(horizon_df, tau, horizons_days=(30, 45, 60, 75, 90)):\n",
        "    hr = horizon_recall(horizon_df, tau, horizons_days)\n",
        "    plt.figure()\n",
        "    plt.plot(hr[\"H_days\"], hr[\"Recall\"], marker='o')\n",
        "    plt.xlabel(\"H (days)\"); plt.ylabel(\"Recall\")\n",
        "    plt.title(f\"Horizon–Recall @ τ={tau:.2f}\")\n",
        "    plt.grid(True); plt.show()\n",
        "    return hr"
      ]
    },
    {
      "cell_type": "code",
      "source": [
        "# import numpy as np\n",
        "# import pandas as pd\n",
        "# import matplotlib.pyplot as plt\n",
        "\n",
        "# def horizon_recall_monotone(horizon_df: pd.DataFrame,\n",
        "#                             tau: float,\n",
        "#                             horizons_days=(15,30,45,60,75,90)) -> pd.DataFrame:\n",
        "#     df = horizon_df.copy()\n",
        "#     df[\"score_time\"] = pd.to_datetime(df[\"score_time\"])\n",
        "#     df[\"event_time\"] = pd.to_datetime(df[\"event_time\"], errors=\"coerce\")\n",
        "\n",
        "#     # 建事件清單（每個 (device_id, event_time) 一次）\n",
        "#     events = df.dropna(subset=[\"event_time\"])[[\"device_id\",\"event_time\"]].drop_duplicates()\n",
        "\n",
        "#     # 對每個事件，找出「最早命中的時間距離（天）」\n",
        "#     min_lead_days = []\n",
        "#     for dev, t_event in events.itertuples(index=False):\n",
        "#         sub = df[df[\"device_id\"] == dev]\n",
        "#         if sub.empty:\n",
        "#             min_lead_days.append(np.inf)\n",
        "#             continue\n",
        "#         lead = (t_event - sub[\"score_time\"]).dt.total_seconds() / 86400.0\n",
        "#         # 只看事件前（lead >= 0）且分數達門檻的點\n",
        "#         hit_lead = lead[(lead >= 0) & (sub[\"y_score\"] >= tau)]\n",
        "#         m = hit_lead.min() if not hit_lead.empty else np.inf\n",
        "#         min_lead_days.append(m)\n",
        "\n",
        "#     min_lead_days = np.array(min_lead_days, dtype=float)\n",
        "#     n_events = len(min_lead_days)\n",
        "\n",
        "#     results = []\n",
        "#     for H in horizons_days:\n",
        "#         hit = np.sum(min_lead_days <= H)\n",
        "#         results.append({\n",
        "#             \"H_days\": H,\n",
        "#             \"Recall\": hit / max(n_events, 1),\n",
        "#             \"n_events\": n_events,\n",
        "#             \"n_alerted\": int(hit),\n",
        "#             \"tau\": tau\n",
        "#         })\n",
        "#     return pd.DataFrame(results)\n",
        "\n",
        "# def plot_horizon_recall(horizon_df, tau, horizons_days=(15,30,45,60,75,90)):\n",
        "#     hr = horizon_recall_monotone(horizon_df, tau, horizons_days)\n",
        "#     plt.figure()\n",
        "#     plt.plot(hr[\"H_days\"], hr[\"Recall\"], marker=\"o\")\n",
        "#     plt.ylim(0, 1)\n",
        "#     plt.xlabel(\"H (days)\")\n",
        "#     plt.ylabel(\"Recall\")\n",
        "#     plt.title(f\"Horizon-Recall @ τ={tau:.2f}\")\n",
        "#     plt.grid(True)\n",
        "#     plt.show()\n",
        "#     return hr\n"
      ],
      "metadata": {
        "id": "Hzo9pKZgfuB1"
      },
      "id": "Hzo9pKZgfuB1",
      "execution_count": 79,
      "outputs": []
    },
    {
      "cell_type": "code",
      "source": [
        "# hr = plot_horizon_recall(horizon_df, tau=0.50, horizons_days=[15,30,45,60,75,90])\n",
        "# print(hr[[\"H_days\",\"n_events\",\"n_alerted\",\"Recall\"]])\n",
        "# print(np.diff(hr[\"Recall\"].to_numpy()))  # 應全 >= 0\n"
      ],
      "metadata": {
        "colab": {
          "base_uri": "https://localhost:8080/",
          "height": 784
        },
        "id": "2W2NSFcafyji",
        "outputId": "402347c4-0e6d-4e3d-a821-4baa8d9cdc08"
      },
      "id": "2W2NSFcafyji",
      "execution_count": 83,
      "outputs": [
        {
          "output_type": "display_data",
          "data": {
            "text/plain": [
              "<Figure size 640x480 with 1 Axes>"
            ],
            "image/png": "[encoded data removed]"
          },
          "metadata": {}
        },
        {
          "output_type": "error",
          "ename": "KeyError",
          "evalue": "\"['n_events', 'n_alerted'] not in index\"",
          "traceback": [
            "\u001b[0;31m---------------------------------------------------------------------------\u001b[0m",
            "\u001b[0;31mKeyError\u001b[0m                                  Traceback (most recent call last)",
            "\u001b[0;32m/tmp/ipython-input-1367681134.py\u001b[0m in \u001b[0;36m<cell line: 0>\u001b[0;34m()\u001b[0m\n\u001b[1;32m      1\u001b[0m \u001b[0mhr\u001b[0m \u001b[0;34m=\u001b[0m \u001b[0mplot_horizon_recall\u001b[0m\u001b[0;34m(\u001b[0m\u001b[0mhorizon_df\u001b[0m\u001b[0;34m,\u001b[0m \u001b[0mtau\u001b[0m\u001b[0;34m=\u001b[0m\u001b[0;36m0.50\u001b[0m\u001b[0;34m,\u001b[0m \u001b[0mhorizons_days\u001b[0m\u001b[0;34m=\u001b[0m\u001b[0;34m[\u001b[0m\u001b[0;36m15\u001b[0m\u001b[0;34m,\u001b[0m\u001b[0;36m30\u001b[0m\u001b[0;34m,\u001b[0m\u001b[0;36m45\u001b[0m\u001b[0;34m,\u001b[0m\u001b[0;36m60\u001b[0m\u001b[0;34m,\u001b[0m\u001b[0;36m75\u001b[0m\u001b[0;34m,\u001b[0m\u001b[0;36m90\u001b[0m\u001b[0;34m]\u001b[0m\u001b[0;34m)\u001b[0m\u001b[0;34m\u001b[0m\u001b[0;34m\u001b[0m\u001b[0m\n\u001b[0;32m----> 2\u001b[0;31m \u001b[0mprint\u001b[0m\u001b[0;34m(\u001b[0m\u001b[0mhr\u001b[0m\u001b[0;34m[\u001b[0m\u001b[0;34m[\u001b[0m\u001b[0;34m\"H_days\"\u001b[0m\u001b[0;34m,\u001b[0m\u001b[0;34m\"n_events\"\u001b[0m\u001b[0;34m,\u001b[0m\u001b[0;34m\"n_alerted\"\u001b[0m\u001b[0;34m,\u001b[0m\u001b[0;34m\"Recall\"\u001b[0m\u001b[0;34m]\u001b[0m\u001b[0;34m]\u001b[0m\u001b[0;34m)\u001b[0m\u001b[0;34m\u001b[0m\u001b[0;34m\u001b[0m\u001b[0m\n\u001b[0m\u001b[1;32m      3\u001b[0m \u001b[0mprint\u001b[0m\u001b[0;34m(\u001b[0m\u001b[0mnp\u001b[0m\u001b[0;34m.\u001b[0m\u001b[0mdiff\u001b[0m\u001b[0;34m(\u001b[0m\u001b[0mhr\u001b[0m\u001b[0;34m[\u001b[0m\u001b[0;34m\"Recall\"\u001b[0m\u001b[0;34m]\u001b[0m\u001b[0;34m.\u001b[0m\u001b[0mto_numpy\u001b[0m\u001b[0;34m(\u001b[0m\u001b[0;34m)\u001b[0m\u001b[0;34m)\u001b[0m\u001b[0;34m)\u001b[0m  \u001b[0;31m# 應全 >= 0\u001b[0m\u001b[0;34m\u001b[0m\u001b[0;34m\u001b[0m\u001b[0m\n",
            "\u001b[0;32m/usr/local/lib/python3.11/dist-packages/pandas/core/frame.py\u001b[0m in \u001b[0;36m__getitem__\u001b[0;34m(self, key)\u001b[0m\n\u001b[1;32m   4106\u001b[0m             \u001b[0;32mif\u001b[0m \u001b[0mis_iterator\u001b[0m\u001b[0;34m(\u001b[0m\u001b[0mkey\u001b[0m\u001b[0;34m)\u001b[0m\u001b[0;34m:\u001b[0m\u001b[0;34m\u001b[0m\u001b[0;34m\u001b[0m\u001b[0m\n\u001b[1;32m   4107\u001b[0m                 \u001b[0mkey\u001b[0m \u001b[0;34m=\u001b[0m \u001b[0mlist\u001b[0m\u001b[0;34m(\u001b[0m\u001b[0mkey\u001b[0m\u001b[0;34m)\u001b[0m\u001b[0;34m\u001b[0m\u001b[0;34m\u001b[0m\u001b[0m\n\u001b[0;32m-> 4108\u001b[0;31m             \u001b[0mindexer\u001b[0m \u001b[0;34m=\u001b[0m \u001b[0mself\u001b[0m\u001b[0;34m.\u001b[0m\u001b[0mcolumns\u001b[0m\u001b[0;34m.\u001b[0m\u001b[0m_get_indexer_strict\u001b[0m\u001b[0;34m(\u001b[0m\u001b[0mkey\u001b[0m\u001b[0;34m,\u001b[0m \u001b[0;34m\"columns\"\u001b[0m\u001b[0;34m)\u001b[0m\u001b[0;34m[\u001b[0m\u001b[0;36m1\u001b[0m\u001b[0;34m]\u001b[0m\u001b[0;34m\u001b[0m\u001b[0;34m\u001b[0m\u001b[0m\n\u001b[0m\u001b[1;32m   4109\u001b[0m \u001b[0;34m\u001b[0m\u001b[0m\n\u001b[1;32m   4110\u001b[0m         \u001b[0;31m# take() does not accept boolean indexers\u001b[0m\u001b[0;34m\u001b[0m\u001b[0;34m\u001b[0m\u001b[0m\n",
            "\u001b[0;32m/usr/local/lib/python3.11/dist-packages/pandas/core/indexes/base.py\u001b[0m in \u001b[0;36m_get_indexer_strict\u001b[0;34m(self, key, axis_name)\u001b[0m\n\u001b[1;32m   6198\u001b[0m             \u001b[0mkeyarr\u001b[0m\u001b[0;34m,\u001b[0m \u001b[0mindexer\u001b[0m\u001b[0;34m,\u001b[0m \u001b[0mnew_indexer\u001b[0m \u001b[0;34m=\u001b[0m \u001b[0mself\u001b[0m\u001b[0;34m.\u001b[0m\u001b[0m_reindex_non_unique\u001b[0m\u001b[0;34m(\u001b[0m\u001b[0mkeyarr\u001b[0m\u001b[0;34m)\u001b[0m\u001b[0;34m\u001b[0m\u001b[0;34m\u001b[0m\u001b[0m\n\u001b[1;32m   6199\u001b[0m \u001b[0;34m\u001b[0m\u001b[0m\n\u001b[0;32m-> 6200\u001b[0;31m         \u001b[0mself\u001b[0m\u001b[0;34m.\u001b[0m\u001b[0m_raise_if_missing\u001b[0m\u001b[0;34m(\u001b[0m\u001b[0mkeyarr\u001b[0m\u001b[0;34m,\u001b[0m \u001b[0mindexer\u001b[0m\u001b[0;34m,\u001b[0m \u001b[0maxis_name\u001b[0m\u001b[0;34m)\u001b[0m\u001b[0;34m\u001b[0m\u001b[0;34m\u001b[0m\u001b[0m\n\u001b[0m\u001b[1;32m   6201\u001b[0m \u001b[0;34m\u001b[0m\u001b[0m\n\u001b[1;32m   6202\u001b[0m         \u001b[0mkeyarr\u001b[0m \u001b[0;34m=\u001b[0m \u001b[0mself\u001b[0m\u001b[0;34m.\u001b[0m\u001b[0mtake\u001b[0m\u001b[0;34m(\u001b[0m\u001b[0mindexer\u001b[0m\u001b[0;34m)\u001b[0m\u001b[0;34m\u001b[0m\u001b[0;34m\u001b[0m\u001b[0m\n",
            "\u001b[0;32m/usr/local/lib/python3.11/dist-packages/pandas/core/indexes/base.py\u001b[0m in \u001b[0;36m_raise_if_missing\u001b[0;34m(self, key, indexer, axis_name)\u001b[0m\n\u001b[1;32m   6250\u001b[0m \u001b[0;34m\u001b[0m\u001b[0m\n\u001b[1;32m   6251\u001b[0m             \u001b[0mnot_found\u001b[0m \u001b[0;34m=\u001b[0m \u001b[0mlist\u001b[0m\u001b[0;34m(\u001b[0m\u001b[0mensure_index\u001b[0m\u001b[0;34m(\u001b[0m\u001b[0mkey\u001b[0m\u001b[0;34m)\u001b[0m\u001b[0;34m[\u001b[0m\u001b[0mmissing_mask\u001b[0m\u001b[0;34m.\u001b[0m\u001b[0mnonzero\u001b[0m\u001b[0;34m(\u001b[0m\u001b[0;34m)\u001b[0m\u001b[0;34m[\u001b[0m\u001b[0;36m0\u001b[0m\u001b[0;34m]\u001b[0m\u001b[0;34m]\u001b[0m\u001b[0;34m.\u001b[0m\u001b[0munique\u001b[0m\u001b[0;34m(\u001b[0m\u001b[0;34m)\u001b[0m\u001b[0;34m)\u001b[0m\u001b[0;34m\u001b[0m\u001b[0;34m\u001b[0m\u001b[0m\n\u001b[0;32m-> 6252\u001b[0;31m             \u001b[0;32mraise\u001b[0m \u001b[0mKeyError\u001b[0m\u001b[0;34m(\u001b[0m\u001b[0;34mf\"{not_found} not in index\"\u001b[0m\u001b[0;34m)\u001b[0m\u001b[0;34m\u001b[0m\u001b[0;34m\u001b[0m\u001b[0m\n\u001b[0m\u001b[1;32m   6253\u001b[0m \u001b[0;34m\u001b[0m\u001b[0m\n\u001b[1;32m   6254\u001b[0m     \u001b[0;34m@\u001b[0m\u001b[0moverload\u001b[0m\u001b[0;34m\u001b[0m\u001b[0;34m\u001b[0m\u001b[0m\n",
            "\u001b[0;31mKeyError\u001b[0m: \"['n_events', 'n_alerted'] not in index\""
          ]
        }
      ]
    },
    {
      "cell_type": "code",
      "execution_count": 87,
      "id": "afe7e27c",
      "metadata": {
        "colab": {
          "base_uri": "https://localhost:8080/",
          "height": 633
        },
        "id": "afe7e27c",
        "outputId": "5f441156-2b0e-430c-e752-f7b4bb7b6932"
      },
      "outputs": [
        {
          "output_type": "display_data",
          "data": {
            "text/plain": [
              "<Figure size 640x480 with 1 Axes>"
            ],
            "image/png": "[encoded data removed]"
          },
          "metadata": {}
        },
        {
          "output_type": "stream",
          "name": "stdout",
          "text": [
            "   H_days    Recall\n",
            "0       1  0.321429\n",
            "1       2  0.321429\n",
            "2       3  0.321429\n",
            "3       4  0.321429\n",
            "4       5  0.321429\n",
            "5      10  0.285714\n",
            "6      15  0.214286\n",
            "7      30  0.035714\n"
          ]
        }
      ],
      "source": [
        "# tau 門檻\n",
        "tau = 0.5\n",
        "# 掃描不同 H\n",
        "horizons_days = [1, 2, 3, 4, 5, 10, 15, 30]\n",
        "\n",
        "# horizon_df 需要符合 horizon_recall 的輸入需求\n",
        "\n",
        "recall_results = plot_horizon_recall(\n",
        "    horizon_df,\n",
        "    tau=tau,\n",
        "    horizons_days=horizons_days\n",
        ")\n",
        "\n",
        "print(recall_results)\n"
      ]
    }
  ],
  "metadata": {
    "kernelspec": {
      "display_name": "Python 3",
      "name": "python3"
    },
    "language_info": {
      "codemirror_mode": {
        "name": "ipython",
        "version": 3
      },
      "file_extension": ".py",
      "mimetype": "text/x-python",
      "name": "python",
      "nbconvert_exporter": "python",
      "pygments_lexer": "ipython3",
      "version": "3.11.5"
    },
    "colab": {
      "provenance": [],
      "gpuType": "A100"
    },
    "accelerator": "GPU"
  },
  "nbformat": 4,
  "nbformat_minor": 5
}